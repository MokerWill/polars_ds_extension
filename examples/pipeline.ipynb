{
 "cells": [
  {
   "cell_type": "code",
   "execution_count": 1,
   "metadata": {},
   "outputs": [],
   "source": [
    "import polars as pl\n",
    "import polars.selectors as cs\n",
    "from polars_ds.pipeline import Pipeline, Blueprint"
   ]
  },
  {
   "cell_type": "markdown",
   "metadata": {},
   "source": [
    "# Builtin Pipeline Functions\n",
    "\n",
    "You can use it for:\n",
    "\n",
    "1. Data Science Pipelines\n",
    "2. Data preparation, manipulation, wrangling pipelines"
   ]
  },
  {
   "cell_type": "code",
   "execution_count": 2,
   "metadata": {},
   "outputs": [
    {
     "data": {
      "text/html": [
       "<div><style>\n",
       ".dataframe > thead > tr,\n",
       ".dataframe > tbody > tr {\n",
       "  text-align: right;\n",
       "  white-space: pre-wrap;\n",
       "}\n",
       "</style>\n",
       "<small>shape: (5, 22)</small><table border=\"1\" class=\"dataframe\"><thead><tr><th>ID</th><th>Gender</th><th>DOB</th><th>Lead_Creation_Date</th><th>City_Code</th><th>City_Category</th><th>Employer_Code</th><th>Employer_Category1</th><th>Employer_Category2</th><th>Monthly_Income</th><th>Customer_Existing_Primary_Bank_Code</th><th>Primary_Bank_Type</th><th>Contacted</th><th>Source</th><th>Source_Category</th><th>Existing_EMI</th><th>Loan_Amount</th><th>Loan_Period</th><th>Interest_Rate</th><th>EMI</th><th>Var1</th><th>Approved</th></tr><tr><td>str</td><td>str</td><td>str</td><td>str</td><td>str</td><td>str</td><td>str</td><td>str</td><td>i64</td><td>f64</td><td>str</td><td>str</td><td>str</td><td>str</td><td>str</td><td>f64</td><td>i64</td><td>i64</td><td>f64</td><td>i64</td><td>i64</td><td>i64</td></tr></thead><tbody><tr><td>&quot;APPC90493171225&quot;</td><td>&quot;Female&quot;</td><td>&quot;23/07/79&quot;</td><td>&quot;15/07/16&quot;</td><td>&quot;C10001&quot;</td><td>&quot;A&quot;</td><td>&quot;COM0044082&quot;</td><td>&quot;A&quot;</td><td>4</td><td>2000.0</td><td>&quot;B001&quot;</td><td>&quot;P&quot;</td><td>&quot;N&quot;</td><td>&quot;S122&quot;</td><td>&quot;G&quot;</td><td>0.0</td><td>null</td><td>null</td><td>null</td><td>null</td><td>0</td><td>0</td></tr><tr><td>&quot;APPD40611263344&quot;</td><td>&quot;Male&quot;</td><td>&quot;07/12/86&quot;</td><td>&quot;04/07/16&quot;</td><td>&quot;C10003&quot;</td><td>&quot;A&quot;</td><td>&quot;COM0000002&quot;</td><td>&quot;C&quot;</td><td>1</td><td>3500.0</td><td>&quot;B002&quot;</td><td>&quot;P&quot;</td><td>&quot;Y&quot;</td><td>&quot;S122&quot;</td><td>&quot;G&quot;</td><td>0.0</td><td>20000</td><td>2</td><td>13.25</td><td>953</td><td>10</td><td>0</td></tr><tr><td>&quot;APPE70289249423&quot;</td><td>&quot;Male&quot;</td><td>&quot;10/12/82&quot;</td><td>&quot;19/07/16&quot;</td><td>&quot;C10125&quot;</td><td>&quot;C&quot;</td><td>&quot;COM0005267&quot;</td><td>&quot;C&quot;</td><td>4</td><td>2250.0</td><td>&quot;B003&quot;</td><td>&quot;G&quot;</td><td>&quot;Y&quot;</td><td>&quot;S143&quot;</td><td>&quot;B&quot;</td><td>0.0</td><td>45000</td><td>4</td><td>null</td><td>null</td><td>0</td><td>0</td></tr><tr><td>&quot;APPF80273865537&quot;</td><td>&quot;Male&quot;</td><td>&quot;30/01/89&quot;</td><td>&quot;09/07/16&quot;</td><td>&quot;C10477&quot;</td><td>&quot;C&quot;</td><td>&quot;COM0004143&quot;</td><td>&quot;A&quot;</td><td>4</td><td>3500.0</td><td>&quot;B003&quot;</td><td>&quot;G&quot;</td><td>&quot;Y&quot;</td><td>&quot;S143&quot;</td><td>&quot;B&quot;</td><td>0.0</td><td>92000</td><td>5</td><td>null</td><td>null</td><td>7</td><td>0</td></tr><tr><td>&quot;APPG60994436641&quot;</td><td>&quot;Male&quot;</td><td>&quot;19/04/85&quot;</td><td>&quot;20/07/16&quot;</td><td>&quot;C10002&quot;</td><td>&quot;A&quot;</td><td>&quot;COM0001781&quot;</td><td>&quot;A&quot;</td><td>4</td><td>10000.0</td><td>&quot;B001&quot;</td><td>&quot;P&quot;</td><td>&quot;Y&quot;</td><td>&quot;S134&quot;</td><td>&quot;B&quot;</td><td>2500.0</td><td>50000</td><td>2</td><td>null</td><td>null</td><td>10</td><td>0</td></tr></tbody></table></div>"
      ],
      "text/plain": [
       "shape: (5, 22)\n",
       "┌────────────────┬────────┬──────────┬────────────────┬───┬───────────────┬──────┬──────┬──────────┐\n",
       "│ ID             ┆ Gender ┆ DOB      ┆ Lead_Creation_ ┆ … ┆ Interest_Rate ┆ EMI  ┆ Var1 ┆ Approved │\n",
       "│ ---            ┆ ---    ┆ ---      ┆ Date           ┆   ┆ ---           ┆ ---  ┆ ---  ┆ ---      │\n",
       "│ str            ┆ str    ┆ str      ┆ ---            ┆   ┆ f64           ┆ i64  ┆ i64  ┆ i64      │\n",
       "│                ┆        ┆          ┆ str            ┆   ┆               ┆      ┆      ┆          │\n",
       "╞════════════════╪════════╪══════════╪════════════════╪═══╪═══════════════╪══════╪══════╪══════════╡\n",
       "│ APPC9049317122 ┆ Female ┆ 23/07/79 ┆ 15/07/16       ┆ … ┆ null          ┆ null ┆ 0    ┆ 0        │\n",
       "│ 5              ┆        ┆          ┆                ┆   ┆               ┆      ┆      ┆          │\n",
       "│ APPD4061126334 ┆ Male   ┆ 07/12/86 ┆ 04/07/16       ┆ … ┆ 13.25         ┆ 953  ┆ 10   ┆ 0        │\n",
       "│ 4              ┆        ┆          ┆                ┆   ┆               ┆      ┆      ┆          │\n",
       "│ APPE7028924942 ┆ Male   ┆ 10/12/82 ┆ 19/07/16       ┆ … ┆ null          ┆ null ┆ 0    ┆ 0        │\n",
       "│ 3              ┆        ┆          ┆                ┆   ┆               ┆      ┆      ┆          │\n",
       "│ APPF8027386553 ┆ Male   ┆ 30/01/89 ┆ 09/07/16       ┆ … ┆ null          ┆ null ┆ 7    ┆ 0        │\n",
       "│ 7              ┆        ┆          ┆                ┆   ┆               ┆      ┆      ┆          │\n",
       "│ APPG6099443664 ┆ Male   ┆ 19/04/85 ┆ 20/07/16       ┆ … ┆ null          ┆ null ┆ 10   ┆ 0        │\n",
       "│ 1              ┆        ┆          ┆                ┆   ┆               ┆      ┆      ┆          │\n",
       "└────────────────┴────────┴──────────┴────────────────┴───┴───────────────┴──────┴──────┴──────────┘"
      ]
     },
     "execution_count": 2,
     "metadata": {},
     "output_type": "execute_result"
    }
   ],
   "source": [
    "df = pl.read_parquet(\"../examples/dependency.parquet\")\n",
    "df.head()"
   ]
  },
  {
   "cell_type": "markdown",
   "metadata": {},
   "source": [
    "## 1. A data science pipeline with data science transformers"
   ]
  },
  {
   "cell_type": "code",
   "execution_count": 3,
   "metadata": {},
   "outputs": [],
   "source": [
    "sql = \"\"\"\n",
    "select\n",
    "*\n",
    ", 'TEST' as test_col\n",
    "from df\n",
    "where loan_amount is not null\n",
    "\"\"\""
   ]
  },
  {
   "cell_type": "code",
   "execution_count": 4,
   "metadata": {},
   "outputs": [
    {
     "name": "stdout",
     "output_type": "stream",
     "text": [
      "Blueprint name: example\n",
      "Column names: Lowercase all incoming columns.\n",
      "Blueprint current steps: 12\n",
      "Features Expected: ['id', 'gender', 'dob', 'lead_creation_date', 'city_code', 'city_category', 'employer_code', 'employer_category1', 'employer_category2', 'monthly_income', 'customer_existing_primary_bank_code', 'primary_bank_type', 'contacted', 'source', 'source_category', 'existing_emi', 'loan_amount', 'loan_period', 'interest_rate', 'emi', 'var1', 'approved']\n",
      "\n"
     ]
    }
   ],
   "source": [
    "# Create a blueprint first. \n",
    "# A blueprint is a plan for a pipeline. No hard work will be done until the blueprint is materialized, which\n",
    "# is when the tranforms are fitted (e.g. scale learns the mean and std from base data)\n",
    "# If target is specified for the blueprint, target will be excluded from all transformations that require a fit,\n",
    "# and target will be auto-filled if the transformation requires a target field and when no target field is explicitly given.\n",
    "\n",
    "bp = (\n",
    "    Blueprint(df, name = \"example\", target = \"approved\", lowercase=True) # You can optionally put target of the ML model here\n",
    "    # Select only the columns we need\n",
    "    .sql_transform(sql) # Run a SQL transform on the df\n",
    "    # Say you want to remove a population for your data pipeline.\n",
    "    .filter( \n",
    "        \"city_category is not null\" # or equivalently, you can do: pl.col(\"city_category\").is_not_null()\n",
    "    )\n",
    "    # explicitly put target, since this is not the target for prediction. \n",
    "    # Use a linear regression with x1 = var1, x2=existing_emi to predict missing values in loan_period\n",
    "    .linear_impute(features = [\"var1\", \"existing_emi\"], target = \"loan_period\") \n",
    "    .impute([\"existing_emi\"], method = \"median\")\n",
    "    .append_expr( # generate some features\n",
    "        pl.col(\"existing_emi\").log1p().alias(\"existing_emi_log1p\"),\n",
    "        pl.col(\"loan_amount\").log1p().alias(\"loan_amount_log1p\"),\n",
    "        pl.col(\"loan_amount\").clip(lower_bound = 0, upper_bound = 1000).alias(\"loan_amount_log1p_clipped\"),\n",
    "        pl.col(\"loan_amount\").sqrt().alias(\"loan_amount_sqrt\"),\n",
    "        pl.col(\"loan_amount\").shift(-1).alias(\"loan_amount_lag_1\") # any kind of lag transform\n",
    "    )\n",
    "    .scale( # target is numerical, but will be excluded automatically because bp is initialzied with a target\n",
    "        cs.numeric().exclude([\"var1\", \"existing_emi_log1p\"]), method = \"standard\"\n",
    "    ) # Scale the columns up to this point. The columns below won't be scaled\n",
    "    .append_expr(\n",
    "        # Add missing flags\n",
    "        pl.col(\"employer_category1\").is_null().cast(pl.UInt8).alias(\"employer_category1_is_missing\")\n",
    "    )\n",
    "    .one_hot_encode(\"gender\", drop_first=True)\n",
    "    .woe_encode(\"city_category\") # No need to specify target because we initialized bp with a target\n",
    "    .target_encode(\"employer_category1\", min_samples_leaf = 20, smoothing = 10.0) # same as above\n",
    "    .sort(by = \"id\", descending=True)\n",
    ")\n",
    "\n",
    "print(bp)"
   ]
  },
  {
   "cell_type": "code",
   "execution_count": 5,
   "metadata": {},
   "outputs": [
    {
     "data": {
      "text/plain": [
       "Pipeline(name='example', feature_names_in_=['id', 'gender', 'dob', 'lead_creation_date', 'city_code', 'city_category', 'employer_code', 'employer_category1', 'employer_category2', 'monthly_income', 'customer_existing_primary_bank_code', 'primary_bank_type', 'contacted', 'source', 'source_category', 'existing_emi', 'loan_amount', 'loan_period', 'interest_rate', 'emi', 'var1', 'approved'], feature_names_out_=['id', 'dob', 'lead_creation_date', 'city_code', 'city_category', 'employer_code', 'employer_category1', 'employer_category2', 'monthly_income', 'customer_existing_primary_bank_code', 'primary_bank_type', 'contacted', 'source', 'source_category', 'existing_emi', 'loan_amount', 'loan_period', 'interest_rate', 'emi', 'var1', 'approved', 'test_col', 'existing_emi_log1p', 'loan_amount_log1p', 'loan_amount_log1p_clipped', 'loan_amount_sqrt', 'loan_amount_lag_1', 'employer_category1_is_missing', 'gender_Male'], transforms=[ExprStep(exprs=[\"\\nselect\\n*\\n, 'TEST' as test_col\\nfrom df\\nwhere loan_amount is not null\\n\"], context=<PLContext.SQL: 'sql'>), ExprStep(exprs=[<Expr ['col(\"city_category\").is_not_nu…'] at 0x7F591651AF50>], context=<PLContext.FILTER: 'filter'>), ExprStep(exprs=[<Expr ['col(\"loan_period\").fill_null([…'] at 0x7F591651BC50>], context=<PLContext.WITH_COLUMNS: 'with_columns'>), ExprStep(exprs=[<Expr ['col(\"existing_emi\").fill_null(…'] at 0x7F591651BB50>], context=<PLContext.WITH_COLUMNS: 'with_columns'>), ExprStep(exprs=[<Expr ['col(\"existing_emi\").log1p().al…'] at 0x7F591651AE50>, <Expr ['col(\"loan_amount\").log1p().ali…'] at 0x7F591651B050>, <Expr ['col(\"loan_amount\").clip([dyn i…'] at 0x7F591651B150>, <Expr ['col(\"loan_amount\").sqrt().alia…'] at 0x7F591651B250>, <Expr ['col(\"loan_amount\").shift([dyn …'] at 0x7F591651B350>], context=<PLContext.WITH_COLUMNS: 'with_columns'>), ExprStep(exprs=[<Expr ['[([(col(\"employer_category2\"))…'] at 0x7F592C654050>, <Expr ['[([(col(\"monthly_income\")) - (…'] at 0x7F591651BA50>, <Expr ['[([(col(\"existing_emi\")) - (dy…'] at 0x7F591651B950>, <Expr ['[([(col(\"loan_amount\")) - (dyn…'] at 0x7F591651B850>, <Expr ['[([(col(\"loan_period\")) - (dyn…'] at 0x7F591651BD50>, <Expr ['[([(col(\"interest_rate\")) - (d…'] at 0x7F591651BE50>, <Expr ['[([(col(\"emi\")) - (dyn float: …'] at 0x7F591655C050>, <Expr ['[([(col(\"loan_amount_log1p\")) …'] at 0x7F591655C150>, <Expr ['[([(col(\"loan_amount_log1p_cli…'] at 0x7F591655C250>, <Expr ['[([(col(\"loan_amount_sqrt\")) -…'] at 0x7F591655C350>, <Expr ['[([(col(\"loan_amount_lag_1\")) …'] at 0x7F591655C450>], context=<PLContext.WITH_COLUMNS: 'with_columns'>), ExprStep(exprs=[<Expr ['col(\"employer_category1\").is_n…'] at 0x7F591651B550>], context=<PLContext.WITH_COLUMNS: 'with_columns'>), ExprStep(exprs=[<Expr ['[(col(\"gender\")) ==v (\"Male\")]…'] at 0x7F591655C850>], context=<PLContext.WITH_COLUMNS: 'with_columns'>), ExprStep(exprs=[<Expr ['*.exclude([Name(\"gender\")])'] at 0x7F591651B650>], context=<PLContext.SELECT: 'select'>), ExprStep(exprs=[<Expr ['col(\"city_category\").replace_s…'] at 0x7F591655C650>], context=<PLContext.WITH_COLUMNS: 'with_columns'>), ExprStep(exprs=[<Expr ['col(\"employer_category1\").repl…'] at 0x7F591655CC50>], context=<PLContext.WITH_COLUMNS: 'with_columns'>), SortStep(by_cols=[<Expr ['col(\"id\")'] at 0x7F591651B450>], descending=[True], context=<PLContext.SORT: 'sort'>)], ensure_features_in=False, ensure_features_out=True, lowercase=True, uppercase=False)"
      ]
     },
     "execution_count": 5,
     "metadata": {},
     "output_type": "execute_result"
    }
   ],
   "source": [
    "# Materialize the blueprint\n",
    "pipe:Pipeline = bp.materialize()\n",
    "# Text representation of the pipeline\n",
    "pipe"
   ]
  },
  {
   "cell_type": "code",
   "execution_count": 6,
   "metadata": {},
   "outputs": [
    {
     "data": {
      "text/html": [
       "<div><style>\n",
       ".dataframe > thead > tr,\n",
       ".dataframe > tbody > tr {\n",
       "  text-align: right;\n",
       "  white-space: pre-wrap;\n",
       "}\n",
       "</style>\n",
       "<small>shape: (5, 29)</small><table border=\"1\" class=\"dataframe\"><thead><tr><th>id</th><th>dob</th><th>lead_creation_date</th><th>city_code</th><th>city_category</th><th>employer_code</th><th>employer_category1</th><th>employer_category2</th><th>monthly_income</th><th>customer_existing_primary_bank_code</th><th>primary_bank_type</th><th>contacted</th><th>source</th><th>source_category</th><th>existing_emi</th><th>loan_amount</th><th>loan_period</th><th>interest_rate</th><th>emi</th><th>var1</th><th>approved</th><th>test_col</th><th>existing_emi_log1p</th><th>loan_amount_log1p</th><th>loan_amount_log1p_clipped</th><th>loan_amount_sqrt</th><th>loan_amount_lag_1</th><th>employer_category1_is_missing</th><th>gender_Male</th></tr><tr><td>str</td><td>str</td><td>str</td><td>str</td><td>f64</td><td>str</td><td>f64</td><td>f64</td><td>f64</td><td>str</td><td>str</td><td>str</td><td>str</td><td>str</td><td>f64</td><td>f64</td><td>f64</td><td>f64</td><td>f64</td><td>i64</td><td>i64</td><td>str</td><td>f64</td><td>f64</td><td>f64</td><td>f64</td><td>f64</td><td>u8</td><td>u8</td></tr></thead><tbody><tr><td>&quot;APPZ90995352502&quot;</td><td>&quot;14/06/76&quot;</td><td>&quot;22/09/16&quot;</td><td>&quot;C10002&quot;</td><td>0.080959</td><td>&quot;COM0002831&quot;</td><td>0.024336</td><td>0.371879</td><td>-0.025833</td><td>&quot;B004&quot;</td><td>&quot;P&quot;</td><td>&quot;Y&quot;</td><td>&quot;S122&quot;</td><td>&quot;G&quot;</td><td>-0.096348</td><td>-0.437071</td><td>0.093681</td><td>2.10132</td><td>-0.189288</td><td>2</td><td>0</td><td>&quot;TEST&quot;</td><td>0.0</td><td>-0.2227</td><td>NaN</td><td>-0.36815</td><td>-0.95779</td><td>0</td><td>1</td></tr><tr><td>&quot;APPZ90992677711&quot;</td><td>&quot;23/04/87&quot;</td><td>&quot;01/09/16&quot;</td><td>&quot;C10002&quot;</td><td>0.080959</td><td>&quot;COM0007538&quot;</td><td>0.024336</td><td>0.371879</td><td>-0.024944</td><td>&quot;B004&quot;</td><td>&quot;P&quot;</td><td>&quot;Y&quot;</td><td>&quot;S122&quot;</td><td>&quot;G&quot;</td><td>-0.041953</td><td>-0.306893</td><td>0.950229</td><td>-0.164797</td><td>-0.445717</td><td>2</td><td>0</td><td>&quot;TEST&quot;</td><td>5.01728</td><td>-0.024488</td><td>NaN</td><td>-0.193265</td><td>-0.079097</td><td>0</td><td>1</td></tr><tr><td>&quot;APPZ90981967338&quot;</td><td>&quot;04/01/93&quot;</td><td>&quot;10/07/16&quot;</td><td>&quot;C10001&quot;</td><td>0.080959</td><td>&quot;COM0000781&quot;</td><td>0.024336</td><td>0.371879</td><td>-0.024278</td><td>&quot;B014&quot;</td><td>&quot;P&quot;</td><td>&quot;Y&quot;</td><td>&quot;S133&quot;</td><td>&quot;B&quot;</td><td>-0.096348</td><td>-0.860149</td><td>-2.475963</td><td>-0.164797</td><td>0.121616</td><td>4</td><td>0</td><td>&quot;TEST&quot;</td><td>0.0</td><td>-1.182777</td><td>NaN</td><td>-1.058739</td><td>-0.014008</td><td>0</td><td>1</td></tr><tr><td>&quot;APPZ90980571713&quot;</td><td>&quot;25/08/94&quot;</td><td>&quot;17/08/16&quot;</td><td>&quot;C10002&quot;</td><td>0.080959</td><td>&quot;COM0010566&quot;</td><td>0.014737</td><td>0.371879</td><td>-0.025164</td><td>&quot;B004&quot;</td><td>&quot;P&quot;</td><td>&quot;Y&quot;</td><td>&quot;S133&quot;</td><td>&quot;C&quot;</td><td>-0.096348</td><td>-0.306893</td><td>0.093681</td><td>0.134501</td><td>-0.250405</td><td>2</td><td>0</td><td>&quot;TEST&quot;</td><td>0.0</td><td>-0.024488</td><td>NaN</td><td>-0.193265</td><td>0.05108</td><td>0</td><td>0</td></tr><tr><td>&quot;APPZ90970178324&quot;</td><td>&quot;04/04/79&quot;</td><td>&quot;11/09/16&quot;</td><td>&quot;C10004&quot;</td><td>0.080959</td><td>&quot;COM0000809&quot;</td><td>0.014737</td><td>0.371879</td><td>-0.025167</td><td>&quot;B024&quot;</td><td>&quot;G&quot;</td><td>&quot;Y&quot;</td><td>&quot;S122&quot;</td><td>&quot;G&quot;</td><td>-0.096348</td><td>-0.339438</td><td>0.093681</td><td>null</td><td>null</td><td>2</td><td>0</td><td>&quot;TEST&quot;</td><td>0.0</td><td>-0.071446</td><td>NaN</td><td>-0.235834</td><td>-0.306906</td><td>0</td><td>1</td></tr></tbody></table></div>"
      ],
      "text/plain": [
       "shape: (5, 29)\n",
       "┌───────────┬──────────┬───────────┬───────────┬───┬───────────┬───────────┬───────────┬───────────┐\n",
       "│ id        ┆ dob      ┆ lead_crea ┆ city_code ┆ … ┆ loan_amou ┆ loan_amou ┆ employer_ ┆ gender_Ma │\n",
       "│ ---       ┆ ---      ┆ tion_date ┆ ---       ┆   ┆ nt_sqrt   ┆ nt_lag_1  ┆ category1 ┆ le        │\n",
       "│ str       ┆ str      ┆ ---       ┆ str       ┆   ┆ ---       ┆ ---       ┆ _is_missi ┆ ---       │\n",
       "│           ┆          ┆ str       ┆           ┆   ┆ f64       ┆ f64       ┆ ng        ┆ u8        │\n",
       "│           ┆          ┆           ┆           ┆   ┆           ┆           ┆ ---       ┆           │\n",
       "│           ┆          ┆           ┆           ┆   ┆           ┆           ┆ u8        ┆           │\n",
       "╞═══════════╪══════════╪═══════════╪═══════════╪═══╪═══════════╪═══════════╪═══════════╪═══════════╡\n",
       "│ APPZ90995 ┆ 14/06/76 ┆ 22/09/16  ┆ C10002    ┆ … ┆ -0.36815  ┆ -0.95779  ┆ 0         ┆ 1         │\n",
       "│ 352502    ┆          ┆           ┆           ┆   ┆           ┆           ┆           ┆           │\n",
       "│ APPZ90992 ┆ 23/04/87 ┆ 01/09/16  ┆ C10002    ┆ … ┆ -0.193265 ┆ -0.079097 ┆ 0         ┆ 1         │\n",
       "│ 677711    ┆          ┆           ┆           ┆   ┆           ┆           ┆           ┆           │\n",
       "│ APPZ90981 ┆ 04/01/93 ┆ 10/07/16  ┆ C10001    ┆ … ┆ -1.058739 ┆ -0.014008 ┆ 0         ┆ 1         │\n",
       "│ 967338    ┆          ┆           ┆           ┆   ┆           ┆           ┆           ┆           │\n",
       "│ APPZ90980 ┆ 25/08/94 ┆ 17/08/16  ┆ C10002    ┆ … ┆ -0.193265 ┆ 0.05108   ┆ 0         ┆ 0         │\n",
       "│ 571713    ┆          ┆           ┆           ┆   ┆           ┆           ┆           ┆           │\n",
       "│ APPZ90970 ┆ 04/04/79 ┆ 11/09/16  ┆ C10004    ┆ … ┆ -0.235834 ┆ -0.306906 ┆ 0         ┆ 1         │\n",
       "│ 178324    ┆          ┆           ┆           ┆   ┆           ┆           ┆           ┆           │\n",
       "└───────────┴──────────┴───────────┴───────────┴───┴───────────┴───────────┴───────────┴───────────┘"
      ]
     },
     "execution_count": 6,
     "metadata": {},
     "output_type": "execute_result"
    }
   ],
   "source": [
    "# If you want separation between features (X) and target (y)\n",
    "# you can run the following:\n",
    "# df_x, df_y = pipe.transform(df, separate=True)\n",
    "\n",
    "df_transformed = pipe.transform(df)\n",
    "df_transformed.head()"
   ]
  },
  {
   "cell_type": "code",
   "execution_count": 7,
   "metadata": {},
   "outputs": [
    {
     "data": {
      "text/html": [
       "<div><style>\n",
       ".dataframe > thead > tr,\n",
       ".dataframe > tbody > tr {\n",
       "  text-align: right;\n",
       "  white-space: pre-wrap;\n",
       "}\n",
       "</style>\n",
       "<small>shape: (0, 29)</small><table border=\"1\" class=\"dataframe\"><thead><tr><th>id</th><th>dob</th><th>lead_creation_date</th><th>city_code</th><th>city_category</th><th>employer_code</th><th>employer_category1</th><th>employer_category2</th><th>monthly_income</th><th>customer_existing_primary_bank_code</th><th>primary_bank_type</th><th>contacted</th><th>source</th><th>source_category</th><th>existing_emi</th><th>loan_amount</th><th>loan_period</th><th>interest_rate</th><th>emi</th><th>var1</th><th>approved</th><th>test_col</th><th>existing_emi_log1p</th><th>loan_amount_log1p</th><th>loan_amount_log1p_clipped</th><th>loan_amount_sqrt</th><th>loan_amount_lag_1</th><th>employer_category1_is_missing</th><th>gender_Male</th></tr><tr><td>str</td><td>str</td><td>str</td><td>str</td><td>f64</td><td>str</td><td>f64</td><td>f64</td><td>f64</td><td>str</td><td>str</td><td>str</td><td>str</td><td>str</td><td>f64</td><td>f64</td><td>f64</td><td>f64</td><td>f64</td><td>i64</td><td>i64</td><td>str</td><td>f64</td><td>f64</td><td>f64</td><td>f64</td><td>f64</td><td>u8</td><td>u8</td></tr></thead><tbody></tbody></table></div>"
      ],
      "text/plain": [
       "shape: (0, 29)\n",
       "┌─────┬─────┬──────────────┬───────────┬───┬─────────────┬─────────────┬─────────────┬─────────────┐\n",
       "│ id  ┆ dob ┆ lead_creatio ┆ city_code ┆ … ┆ loan_amount ┆ loan_amount ┆ employer_ca ┆ gender_Male │\n",
       "│ --- ┆ --- ┆ n_date       ┆ ---       ┆   ┆ _sqrt       ┆ _lag_1      ┆ tegory1_is_ ┆ ---         │\n",
       "│ str ┆ str ┆ ---          ┆ str       ┆   ┆ ---         ┆ ---         ┆ missing     ┆ u8          │\n",
       "│     ┆     ┆ str          ┆           ┆   ┆ f64         ┆ f64         ┆ ---         ┆             │\n",
       "│     ┆     ┆              ┆           ┆   ┆             ┆             ┆ u8          ┆             │\n",
       "╞═════╪═════╪══════════════╪═══════════╪═══╪═════════════╪═════════════╪═════════════╪═════════════╡\n",
       "└─────┴─────┴──────────────┴───────────┴───┴─────────────┴─────────────┴─────────────┴─────────────┘"
      ]
     },
     "execution_count": 7,
     "metadata": {},
     "output_type": "execute_result"
    }
   ],
   "source": [
    "# Empty. Because we filtered this to not null.\n",
    "df_transformed.filter(\n",
    "    pl.col(\"city_category\").is_null()\n",
    ")"
   ]
  },
  {
   "cell_type": "code",
   "execution_count": 8,
   "metadata": {},
   "outputs": [
    {
     "data": {
      "text/html": [
       "<div><style>\n",
       ".dataframe > thead > tr,\n",
       ".dataframe > tbody > tr {\n",
       "  text-align: right;\n",
       "  white-space: pre-wrap;\n",
       "}\n",
       "</style>\n",
       "<small>shape: (0, 29)</small><table border=\"1\" class=\"dataframe\"><thead><tr><th>id</th><th>dob</th><th>lead_creation_date</th><th>city_code</th><th>city_category</th><th>employer_code</th><th>employer_category1</th><th>employer_category2</th><th>monthly_income</th><th>customer_existing_primary_bank_code</th><th>primary_bank_type</th><th>contacted</th><th>source</th><th>source_category</th><th>existing_emi</th><th>loan_amount</th><th>loan_period</th><th>interest_rate</th><th>emi</th><th>var1</th><th>approved</th><th>test_col</th><th>existing_emi_log1p</th><th>loan_amount_log1p</th><th>loan_amount_log1p_clipped</th><th>loan_amount_sqrt</th><th>loan_amount_lag_1</th><th>employer_category1_is_missing</th><th>gender_Male</th></tr><tr><td>str</td><td>str</td><td>str</td><td>str</td><td>f64</td><td>str</td><td>f64</td><td>f64</td><td>f64</td><td>str</td><td>str</td><td>str</td><td>str</td><td>str</td><td>f64</td><td>f64</td><td>f64</td><td>f64</td><td>f64</td><td>i64</td><td>i64</td><td>str</td><td>f64</td><td>f64</td><td>f64</td><td>f64</td><td>f64</td><td>u8</td><td>u8</td></tr></thead><tbody></tbody></table></div>"
      ],
      "text/plain": [
       "shape: (0, 29)\n",
       "┌─────┬─────┬──────────────┬───────────┬───┬─────────────┬─────────────┬─────────────┬─────────────┐\n",
       "│ id  ┆ dob ┆ lead_creatio ┆ city_code ┆ … ┆ loan_amount ┆ loan_amount ┆ employer_ca ┆ gender_Male │\n",
       "│ --- ┆ --- ┆ n_date       ┆ ---       ┆   ┆ _sqrt       ┆ _lag_1      ┆ tegory1_is_ ┆ ---         │\n",
       "│ str ┆ str ┆ ---          ┆ str       ┆   ┆ ---         ┆ ---         ┆ missing     ┆ u8          │\n",
       "│     ┆     ┆ str          ┆           ┆   ┆ f64         ┆ f64         ┆ ---         ┆             │\n",
       "│     ┆     ┆              ┆           ┆   ┆             ┆             ┆ u8          ┆             │\n",
       "╞═════╪═════╪══════════════╪═══════════╪═══╪═════════════╪═════════════╪═════════════╪═════════════╡\n",
       "└─────┴─────┴──────────────┴───────────┴───┴─────────────┴─────────────┴─────────────┴─────────────┘"
      ]
     },
     "execution_count": 8,
     "metadata": {},
     "output_type": "execute_result"
    }
   ],
   "source": [
    "# Empty. Because we filtered this to not null in the SQL\n",
    "df_transformed.filter(\n",
    "    pl.col(\"loan_amount\").is_null()\n",
    ")"
   ]
  },
  {
   "cell_type": "markdown",
   "metadata": {},
   "source": [
    "# A data preparation, manipulation pipeline"
   ]
  },
  {
   "cell_type": "code",
   "execution_count": 9,
   "metadata": {},
   "outputs": [
    {
     "name": "stdout",
     "output_type": "stream",
     "text": [
      "Blueprint name: example\n",
      "Column names: Lowercase all incoming columns.\n",
      "Blueprint current steps: 4\n",
      "Features Expected: ['id', 'gender', 'dob', 'lead_creation_date', 'city_code', 'city_category', 'employer_code', 'employer_category1', 'employer_category2', 'monthly_income', 'customer_existing_primary_bank_code', 'primary_bank_type', 'contacted', 'source', 'source_category', 'existing_emi', 'loan_amount', 'loan_period', 'interest_rate', 'emi', 'var1', 'approved']\n",
      "\n"
     ]
    }
   ],
   "source": [
    "\n",
    "bp2 = (\n",
    "    Blueprint(df, name = \"example\", target = \"approved\", lowercase=True) # You can optionally put target of the ML model here\n",
    "    .filter( \n",
    "        \"city_category is not null\" # or equivalently, you can do: pl.col(\"city_category\").is_not_null()\n",
    "    )\n",
    "    .append_expr( # generate some features\n",
    "        pl.col(\"existing_emi\").log1p().alias(\"existing_emi_log1p\"),\n",
    "        pl.col(\"loan_amount\").log1p().alias(\"loan_amount_log1p\"),\n",
    "        pl.col(\"loan_amount\").clip(lower_bound = 0, upper_bound = 1000).alias(\"loan_amount_log1p_clipped\"),\n",
    "        pl.col(\"loan_amount\").sqrt().alias(\"loan_amount_sqrt\"),\n",
    "        pl.col(\"loan_amount\").shift(-1).alias(\"loan_amount_lag_1\") # any kind of lag transform\n",
    "    )\n",
    "    .group_by_agg(by = \"city_category\", agg = [\n",
    "        pl.col(\"loan_amount\").sqrt().mean().alias(\"loan_amount_sqrt_mean\")\n",
    "        , pl.col(\"loan_amount\").min().alias(\"loan_amount_min\")\n",
    "        , pl.col(\"loan_amount\").max().alias(\"loan_amount_max\")\n",
    "    ])\n",
    "    .sort(by = [\"city_category\"] , descending=True)\n",
    ")\n",
    "\n",
    "print(bp2)"
   ]
  },
  {
   "cell_type": "code",
   "execution_count": 10,
   "metadata": {},
   "outputs": [
    {
     "data": {
      "text/html": [
       "<div><style>\n",
       ".dataframe > thead > tr,\n",
       ".dataframe > tbody > tr {\n",
       "  text-align: right;\n",
       "  white-space: pre-wrap;\n",
       "}\n",
       "</style>\n",
       "<small>shape: (3, 4)</small><table border=\"1\" class=\"dataframe\"><thead><tr><th>city_category</th><th>loan_amount_sqrt_mean</th><th>loan_amount_min</th><th>loan_amount_max</th></tr><tr><td>str</td><td>f64</td><td>i64</td><td>i64</td></tr></thead><tbody><tr><td>&quot;C&quot;</td><td>169.847635</td><td>5000</td><td>250000</td></tr><tr><td>&quot;B&quot;</td><td>183.365209</td><td>5000</td><td>300000</td></tr><tr><td>&quot;A&quot;</td><td>190.146432</td><td>5000</td><td>300000</td></tr></tbody></table></div>"
      ],
      "text/plain": [
       "shape: (3, 4)\n",
       "┌───────────────┬───────────────────────┬─────────────────┬─────────────────┐\n",
       "│ city_category ┆ loan_amount_sqrt_mean ┆ loan_amount_min ┆ loan_amount_max │\n",
       "│ ---           ┆ ---                   ┆ ---             ┆ ---             │\n",
       "│ str           ┆ f64                   ┆ i64             ┆ i64             │\n",
       "╞═══════════════╪═══════════════════════╪═════════════════╪═════════════════╡\n",
       "│ C             ┆ 169.847635            ┆ 5000            ┆ 250000          │\n",
       "│ B             ┆ 183.365209            ┆ 5000            ┆ 300000          │\n",
       "│ A             ┆ 190.146432            ┆ 5000            ┆ 300000          │\n",
       "└───────────────┴───────────────────────┴─────────────────┴─────────────────┘"
      ]
     },
     "execution_count": 10,
     "metadata": {},
     "output_type": "execute_result"
    }
   ],
   "source": [
    "pipe2 = bp2.materialize()\n",
    "df_transformed2 = pipe2.transform(df)\n",
    "df_transformed2.head()"
   ]
  },
  {
   "cell_type": "markdown",
   "metadata": {},
   "source": [
    "# Serialization Methods\n",
    "\n",
    "You can always use a pickle to preserve the pipeline. So I won't demonstrate that here. What's more exciting is that PDS pipelines can be turned into JSON."
   ]
  },
  {
   "cell_type": "code",
   "execution_count": 11,
   "metadata": {},
   "outputs": [
    {
     "data": {
      "text/plain": [
       "'{\"name\": \"example\", \"feature_names_in_\": [\"id\", \"gender\", \"dob\", \"lead_creation_date\", \"city_code\", \"city_category\", \"employer_code\", \"employer_category1\", \"employer_category2\", \"monthly_income\", \"customer_existing_primary_bank_code\", \"primary_bank_type\", \"contacted\", \"source\", \"source_category\", \"existing_emi\", \"loan_amount\", \"loan_period\", \"interest_rate\", \"emi\", \"var1\", \"approved\"], \"feature_names_out_\": [\"id\", \"dob\", \"lead_creation_date\", \"city_code\", \"city_category\", \"employer_code\", \"employer_category1\", \"employer_category2\", \"monthly_income\", \"customer_existing_primary_bank_code\", \"primary_bank_type\", \"contacted\", \"source\", \"source_category\", \"existing_emi\", \"loan_amount\", \"loan_period\", \"interest_rate\", \"emi\", \"var1\", \"approved\", \"test_col\", \"existing_emi_log1p\", \"loan_amount_log1p\", \"loan_amount_log1p_clipped\", \"loan_amount_sqrt\", \"loan_amount_lag_1\", \"employer_category1_is_missing\", \"gender_Male\"], \"transforms\": [\"{\\\\\"step_classif\\\\\": \\\\\"expr\\\\\", \\\\\"context\\\\\": \\\\\"sql\\\\\", \\\\\"exprs\\\\\": \\\\\"\\\\\\\\nselect\\\\\\\\n*\\\\\\\\n, \\'TEST\\' as test_col\\\\\\\\nfrom df\\\\\\\\nwhere loan_amount is not null\\\\\\\\n\\\\\"}\", \"{\\\\\"step_classif\\\\\": \\\\\"expr\\\\\", \\\\\"context\\\\\": \\\\\"filter\\\\\", \\\\\"exprs\\\\\": \\\\\"{\\\\\\\\\\\\\"Function\\\\\\\\\\\\\":{\\\\\\\\\\\\\"input\\\\\\\\\\\\\":[{\\\\\\\\\\\\\"Column\\\\\\\\\\\\\":\\\\\\\\\\\\\"city_category\\\\\\\\\\\\\"}],\\\\\\\\\\\\\"function\\\\\\\\\\\\\":{\\\\\\\\\\\\\"Boolean\\\\\\\\\\\\\":\\\\\\\\\\\\\"IsNotNull\\\\\\\\\\\\\"},\\\\\\\\\\\\\"options\\\\\\\\\\\\\":{\\\\\\\\\\\\\"check_lengths\\\\\\\\\\\\\":true,\\\\\\\\\\\\\"flags\\\\\\\\\\\\\":\\\\\\\\\\\\\"ALLOW_GROUP_AWARE | ROW_SEPARABLE | LENGTH_PRESERVING\\\\\\\\\\\\\"}}}\\\\\"}\", \"{\\\\\"step_classif\\\\\": \\\\\"expr\\\\\", \\\\\"context\\\\\": \\\\\"with_columns\\\\\", \\\\\"exprs\\\\\": [\\\\\"{\\\\\\\\\\\\\"Alias\\\\\\\\\\\\\":[{\\\\\\\\\\\\\"Function\\\\\\\\\\\\\":{\\\\\\\\\\\\\"input\\\\\\\\\\\\\":[{\\\\\\\\\\\\\"Column\\\\\\\\\\\\\":\\\\\\\\\\\\\"loan_period\\\\\\\\\\\\\"},{\\\\\\\\\\\\\"Function\\\\\\\\\\\\\":{\\\\\\\\\\\\\"input\\\\\\\\\\\\\":[{\\\\\\\\\\\\\"BinaryExpr\\\\\\\\\\\\\":{\\\\\\\\\\\\\"left\\\\\\\\\\\\\":{\\\\\\\\\\\\\"Column\\\\\\\\\\\\\":\\\\\\\\\\\\\"var1\\\\\\\\\\\\\"},\\\\\\\\\\\\\"op\\\\\\\\\\\\\":\\\\\\\\\\\\\"Multiply\\\\\\\\\\\\\",\\\\\\\\\\\\\"right\\\\\\\\\\\\\":{\\\\\\\\\\\\\"Literal\\\\\\\\\\\\\":{\\\\\\\\\\\\\"Dyn\\\\\\\\\\\\\":{\\\\\\\\\\\\\"Float\\\\\\\\\\\\\":0.509810011759666}}}}},{\\\\\\\\\\\\\"BinaryExpr\\\\\\\\\\\\\":{\\\\\\\\\\\\\"left\\\\\\\\\\\\\":{\\\\\\\\\\\\\"Column\\\\\\\\\\\\\":\\\\\\\\\\\\\"existing_emi\\\\\\\\\\\\\"},\\\\\\\\\\\\\"op\\\\\\\\\\\\\":\\\\\\\\\\\\\"Multiply\\\\\\\\\\\\\",\\\\\\\\\\\\\"right\\\\\\\\\\\\\":{\\\\\\\\\\\\\"Literal\\\\\\\\\\\\\":{\\\\\\\\\\\\\"Dyn\\\\\\\\\\\\\":{\\\\\\\\\\\\\"Float\\\\\\\\\\\\\":-7.6040796537527814e-6}}}}}],\\\\\\\\\\\\\"function\\\\\\\\\\\\\":{\\\\\\\\\\\\\"SumHorizontal\\\\\\\\\\\\\":{\\\\\\\\\\\\\"ignore_nulls\\\\\\\\\\\\\":true}},\\\\\\\\\\\\\"options\\\\\\\\\\\\\":{\\\\\\\\\\\\\"check_lengths\\\\\\\\\\\\\":true,\\\\\\\\\\\\\"flags\\\\\\\\\\\\\":\\\\\\\\\\\\\"ALLOW_GROUP_AWARE | INPUT_WILDCARD_EXPANSION | ROW_SEPARABLE | LENGTH_PRESERVING\\\\\\\\\\\\\"}}}],\\\\\\\\\\\\\"function\\\\\\\\\\\\\":\\\\\\\\\\\\\"FillNull\\\\\\\\\\\\\",\\\\\\\\\\\\\"options\\\\\\\\\\\\\":{\\\\\\\\\\\\\"check_lengths\\\\\\\\\\\\\":true,\\\\\\\\\\\\\"flags\\\\\\\\\\\\\":\\\\\\\\\\\\\"ALLOW_GROUP_AWARE | ROW_SEPARABLE | LENGTH_PRESERVING\\\\\\\\\\\\\"}}},\\\\\\\\\\\\\"loan_period\\\\\\\\\\\\\"]}\\\\\"]}\", \"{\\\\\"step_classif\\\\\": \\\\\"expr\\\\\", \\\\\"context\\\\\": \\\\\"with_columns\\\\\", \\\\\"exprs\\\\\": [\\\\\"{\\\\\\\\\\\\\"Function\\\\\\\\\\\\\":{\\\\\\\\\\\\\"input\\\\\\\\\\\\\":[{\\\\\\\\\\\\\"Column\\\\\\\\\\\\\":\\\\\\\\\\\\\"existing_emi\\\\\\\\\\\\\"},{\\\\\\\\\\\\\"Literal\\\\\\\\\\\\\":{\\\\\\\\\\\\\"Dyn\\\\\\\\\\\\\":{\\\\\\\\\\\\\"Float\\\\\\\\\\\\\":0.0}}}],\\\\\\\\\\\\\"function\\\\\\\\\\\\\":\\\\\\\\\\\\\"FillNull\\\\\\\\\\\\\",\\\\\\\\\\\\\"options\\\\\\\\\\\\\":{\\\\\\\\\\\\\"check_lengths\\\\\\\\\\\\\":true,\\\\\\\\\\\\\"flags\\\\\\\\\\\\\":\\\\\\\\\\\\\"ALLOW_GROUP_AWARE | ROW_SEPARABLE | LENGTH_PRESERVING\\\\\\\\\\\\\"}}}\\\\\"]}\", \"{\\\\\"step_classif\\\\\": \\\\\"expr\\\\\", \\\\\"context\\\\\": \\\\\"with_columns\\\\\", \\\\\"exprs\\\\\": [\\\\\"{\\\\\\\\\\\\\"Alias\\\\\\\\\\\\\":[{\\\\\\\\\\\\\"Function\\\\\\\\\\\\\":{\\\\\\\\\\\\\"input\\\\\\\\\\\\\":[{\\\\\\\\\\\\\"Column\\\\\\\\\\\\\":\\\\\\\\\\\\\"existing_emi\\\\\\\\\\\\\"}],\\\\\\\\\\\\\"function\\\\\\\\\\\\\":\\\\\\\\\\\\\"Log1p\\\\\\\\\\\\\",\\\\\\\\\\\\\"options\\\\\\\\\\\\\":{\\\\\\\\\\\\\"check_lengths\\\\\\\\\\\\\":true,\\\\\\\\\\\\\"flags\\\\\\\\\\\\\":\\\\\\\\\\\\\"ALLOW_GROUP_AWARE | ROW_SEPARABLE | LENGTH_PRESERVING\\\\\\\\\\\\\"}}},\\\\\\\\\\\\\"existing_emi_log1p\\\\\\\\\\\\\"]}\\\\\", \\\\\"{\\\\\\\\\\\\\"Alias\\\\\\\\\\\\\":[{\\\\\\\\\\\\\"Function\\\\\\\\\\\\\":{\\\\\\\\\\\\\"input\\\\\\\\\\\\\":[{\\\\\\\\\\\\\"Column\\\\\\\\\\\\\":\\\\\\\\\\\\\"loan_amount\\\\\\\\\\\\\"}],\\\\\\\\\\\\\"function\\\\\\\\\\\\\":\\\\\\\\\\\\\"Log1p\\\\\\\\\\\\\",\\\\\\\\\\\\\"options\\\\\\\\\\\\\":{\\\\\\\\\\\\\"check_lengths\\\\\\\\\\\\\":true,\\\\\\\\\\\\\"flags\\\\\\\\\\\\\":\\\\\\\\\\\\\"ALLOW_GROUP_AWARE | ROW_SEPARABLE | LENGTH_PRESERVING\\\\\\\\\\\\\"}}},\\\\\\\\\\\\\"loan_amount_log1p\\\\\\\\\\\\\"]}\\\\\", \\\\\"{\\\\\\\\\\\\\"Alias\\\\\\\\\\\\\":[{\\\\\\\\\\\\\"Function\\\\\\\\\\\\\":{\\\\\\\\\\\\\"input\\\\\\\\\\\\\":[{\\\\\\\\\\\\\"Column\\\\\\\\\\\\\":\\\\\\\\\\\\\"loan_amount\\\\\\\\\\\\\"},{\\\\\\\\\\\\\"Literal\\\\\\\\\\\\\":{\\\\\\\\\\\\\"Dyn\\\\\\\\\\\\\":{\\\\\\\\\\\\\"Int\\\\\\\\\\\\\":0}}},{\\\\\\\\\\\\\"Literal\\\\\\\\\\\\\":{\\\\\\\\\\\\\"Dyn\\\\\\\\\\\\\":{\\\\\\\\\\\\\"Int\\\\\\\\\\\\\":1000}}}],\\\\\\\\\\\\\"function\\\\\\\\\\\\\":{\\\\\\\\\\\\\"Clip\\\\\\\\\\\\\":{\\\\\\\\\\\\\"has_min\\\\\\\\\\\\\":true,\\\\\\\\\\\\\"has_max\\\\\\\\\\\\\":true}},\\\\\\\\\\\\\"options\\\\\\\\\\\\\":{\\\\\\\\\\\\\"check_lengths\\\\\\\\\\\\\":true,\\\\\\\\\\\\\"flags\\\\\\\\\\\\\":\\\\\\\\\\\\\"ALLOW_GROUP_AWARE | ROW_SEPARABLE | LENGTH_PRESERVING\\\\\\\\\\\\\"}}},\\\\\\\\\\\\\"loan_amount_log1p_clipped\\\\\\\\\\\\\"]}\\\\\", \\\\\"{\\\\\\\\\\\\\"Alias\\\\\\\\\\\\\":[{\\\\\\\\\\\\\"Function\\\\\\\\\\\\\":{\\\\\\\\\\\\\"input\\\\\\\\\\\\\":[{\\\\\\\\\\\\\"Column\\\\\\\\\\\\\":\\\\\\\\\\\\\"loan_amount\\\\\\\\\\\\\"}],\\\\\\\\\\\\\"function\\\\\\\\\\\\\":{\\\\\\\\\\\\\"Pow\\\\\\\\\\\\\":\\\\\\\\\\\\\"Sqrt\\\\\\\\\\\\\"},\\\\\\\\\\\\\"options\\\\\\\\\\\\\":{\\\\\\\\\\\\\"check_lengths\\\\\\\\\\\\\":true,\\\\\\\\\\\\\"flags\\\\\\\\\\\\\":\\\\\\\\\\\\\"ALLOW_GROUP_AWARE | ROW_SEPARABLE | LENGTH_PRESERVING\\\\\\\\\\\\\"}}},\\\\\\\\\\\\\"loan_amount_sqrt\\\\\\\\\\\\\"]}\\\\\", \\\\\"{\\\\\\\\\\\\\"Alias\\\\\\\\\\\\\":[{\\\\\\\\\\\\\"Function\\\\\\\\\\\\\":{\\\\\\\\\\\\\"input\\\\\\\\\\\\\":[{\\\\\\\\\\\\\"Column\\\\\\\\\\\\\":\\\\\\\\\\\\\"loan_amount\\\\\\\\\\\\\"},{\\\\\\\\\\\\\"Literal\\\\\\\\\\\\\":{\\\\\\\\\\\\\"Dyn\\\\\\\\\\\\\":{\\\\\\\\\\\\\"Int\\\\\\\\\\\\\":-1}}}],\\\\\\\\\\\\\"function\\\\\\\\\\\\\":\\\\\\\\\\\\\"Shift\\\\\\\\\\\\\",\\\\\\\\\\\\\"options\\\\\\\\\\\\\":{\\\\\\\\\\\\\"check_lengths\\\\\\\\\\\\\":true,\\\\\\\\\\\\\"flags\\\\\\\\\\\\\":\\\\\\\\\\\\\"ALLOW_GROUP_AWARE | LENGTH_PRESERVING\\\\\\\\\\\\\"}}},\\\\\\\\\\\\\"loan_amount_lag_1\\\\\\\\\\\\\"]}\\\\\"]}\", \"{\\\\\"step_classif\\\\\": \\\\\"expr\\\\\", \\\\\"context\\\\\": \\\\\"with_columns\\\\\", \\\\\"exprs\\\\\": [\\\\\"{\\\\\\\\\\\\\"BinaryExpr\\\\\\\\\\\\\":{\\\\\\\\\\\\\"left\\\\\\\\\\\\\":{\\\\\\\\\\\\\"BinaryExpr\\\\\\\\\\\\\":{\\\\\\\\\\\\\"left\\\\\\\\\\\\\":{\\\\\\\\\\\\\"Column\\\\\\\\\\\\\":\\\\\\\\\\\\\"employer_category2\\\\\\\\\\\\\"},\\\\\\\\\\\\\"op\\\\\\\\\\\\\":\\\\\\\\\\\\\"Minus\\\\\\\\\\\\\",\\\\\\\\\\\\\"right\\\\\\\\\\\\\":{\\\\\\\\\\\\\"Literal\\\\\\\\\\\\\":{\\\\\\\\\\\\\"Dyn\\\\\\\\\\\\\":{\\\\\\\\\\\\\"Float\\\\\\\\\\\\\":3.679269695227142}}}}},\\\\\\\\\\\\\"op\\\\\\\\\\\\\":\\\\\\\\\\\\\"TrueDivide\\\\\\\\\\\\\",\\\\\\\\\\\\\"right\\\\\\\\\\\\\":{\\\\\\\\\\\\\"Literal\\\\\\\\\\\\\":{\\\\\\\\\\\\\"Dyn\\\\\\\\\\\\\":{\\\\\\\\\\\\\"Float\\\\\\\\\\\\\":0.862458786067542}}}}}\\\\\", \\\\\"{\\\\\\\\\\\\\"BinaryExpr\\\\\\\\\\\\\":{\\\\\\\\\\\\\"left\\\\\\\\\\\\\":{\\\\\\\\\\\\\"BinaryExpr\\\\\\\\\\\\\":{\\\\\\\\\\\\\"left\\\\\\\\\\\\\":{\\\\\\\\\\\\\"Column\\\\\\\\\\\\\":\\\\\\\\\\\\\"monthly_income\\\\\\\\\\\\\"},\\\\\\\\\\\\\"op\\\\\\\\\\\\\":\\\\\\\\\\\\\"Minus\\\\\\\\\\\\\",\\\\\\\\\\\\\"right\\\\\\\\\\\\\":{\\\\\\\\\\\\\"Literal\\\\\\\\\\\\\":{\\\\\\\\\\\\\"Dyn\\\\\\\\\\\\\":{\\\\\\\\\\\\\"Float\\\\\\\\\\\\\":7463.797309780022}}}}},\\\\\\\\\\\\\"op\\\\\\\\\\\\\":\\\\\\\\\\\\\"TrueDivide\\\\\\\\\\\\\",\\\\\\\\\\\\\"right\\\\\\\\\\\\\":{\\\\\\\\\\\\\"Literal\\\\\\\\\\\\\":{\\\\\\\\\\\\\"Dyn\\\\\\\\\\\\\":{\\\\\\\\\\\\\"Float\\\\\\\\\\\\\":225051.54436104206}}}}}\\\\\", \\\\\"{\\\\\\\\\\\\\"BinaryExpr\\\\\\\\\\\\\":{\\\\\\\\\\\\\"left\\\\\\\\\\\\\":{\\\\\\\\\\\\\"BinaryExpr\\\\\\\\\\\\\":{\\\\\\\\\\\\\"left\\\\\\\\\\\\\":{\\\\\\\\\\\\\"Column\\\\\\\\\\\\\":\\\\\\\\\\\\\"existing_emi\\\\\\\\\\\\\"},\\\\\\\\\\\\\"op\\\\\\\\\\\\\":\\\\\\\\\\\\\"Minus\\\\\\\\\\\\\",\\\\\\\\\\\\\"right\\\\\\\\\\\\\":{\\\\\\\\\\\\\"Literal\\\\\\\\\\\\\":{\\\\\\\\\\\\\"Dyn\\\\\\\\\\\\\":{\\\\\\\\\\\\\"Float\\\\\\\\\\\\\":265.6902475240454}}}}},\\\\\\\\\\\\\"op\\\\\\\\\\\\\":\\\\\\\\\\\\\"TrueDivide\\\\\\\\\\\\\",\\\\\\\\\\\\\"right\\\\\\\\\\\\\":{\\\\\\\\\\\\\"Literal\\\\\\\\\\\\\":{\\\\\\\\\\\\\"Dyn\\\\\\\\\\\\\":{\\\\\\\\\\\\\"Float\\\\\\\\\\\\\":2757.6092535058183}}}}}\\\\\", \\\\\"{\\\\\\\\\\\\\"BinaryExpr\\\\\\\\\\\\\":{\\\\\\\\\\\\\"left\\\\\\\\\\\\\":{\\\\\\\\\\\\\"BinaryExpr\\\\\\\\\\\\\":{\\\\\\\\\\\\\"left\\\\\\\\\\\\\":{\\\\\\\\\\\\\"Column\\\\\\\\\\\\\":\\\\\\\\\\\\\"loan_amount\\\\\\\\\\\\\"},\\\\\\\\\\\\\"op\\\\\\\\\\\\\":\\\\\\\\\\\\\"Minus\\\\\\\\\\\\\",\\\\\\\\\\\\\"right\\\\\\\\\\\\\":{\\\\\\\\\\\\\"Literal\\\\\\\\\\\\\":{\\\\\\\\\\\\\"Dyn\\\\\\\\\\\\\":{\\\\\\\\\\\\\"Float\\\\\\\\\\\\\":39429.98285877536}}}}},\\\\\\\\\\\\\"op\\\\\\\\\\\\\":\\\\\\\\\\\\\"TrueDivide\\\\\\\\\\\\\",\\\\\\\\\\\\\"right\\\\\\\\\\\\\":{\\\\\\\\\\\\\"Literal\\\\\\\\\\\\\":{\\\\\\\\\\\\\"Dyn\\\\\\\\\\\\\":{\\\\\\\\\\\\\"Float\\\\\\\\\\\\\":30727.23021813224}}}}}\\\\\", \\\\\"{\\\\\\\\\\\\\"BinaryExpr\\\\\\\\\\\\\":{\\\\\\\\\\\\\"left\\\\\\\\\\\\\":{\\\\\\\\\\\\\"BinaryExpr\\\\\\\\\\\\\":{\\\\\\\\\\\\\"left\\\\\\\\\\\\\":{\\\\\\\\\\\\\"Column\\\\\\\\\\\\\":\\\\\\\\\\\\\"loan_period\\\\\\\\\\\\\"},\\\\\\\\\\\\\"op\\\\\\\\\\\\\":\\\\\\\\\\\\\"Minus\\\\\\\\\\\\\",\\\\\\\\\\\\\"right\\\\\\\\\\\\\":{\\\\\\\\\\\\\"Literal\\\\\\\\\\\\\":{\\\\\\\\\\\\\"Dyn\\\\\\\\\\\\\":{\\\\\\\\\\\\\"Float\\\\\\\\\\\\\":3.8906294638605847}}}}},\\\\\\\\\\\\\"op\\\\\\\\\\\\\":\\\\\\\\\\\\\"TrueDivide\\\\\\\\\\\\\",\\\\\\\\\\\\\"right\\\\\\\\\\\\\":{\\\\\\\\\\\\\"Literal\\\\\\\\\\\\\":{\\\\\\\\\\\\\"Dyn\\\\\\\\\\\\\":{\\\\\\\\\\\\\"Float\\\\\\\\\\\\\":1.1674769269411276}}}}}\\\\\", \\\\\"{\\\\\\\\\\\\\"BinaryExpr\\\\\\\\\\\\\":{\\\\\\\\\\\\\"left\\\\\\\\\\\\\":{\\\\\\\\\\\\\"BinaryExpr\\\\\\\\\\\\\":{\\\\\\\\\\\\\"left\\\\\\\\\\\\\":{\\\\\\\\\\\\\"Column\\\\\\\\\\\\\":\\\\\\\\\\\\\"interest_rate\\\\\\\\\\\\\"},\\\\\\\\\\\\\"op\\\\\\\\\\\\\":\\\\\\\\\\\\\"Minus\\\\\\\\\\\\\",\\\\\\\\\\\\\"right\\\\\\\\\\\\\":{\\\\\\\\\\\\\"Literal\\\\\\\\\\\\\":{\\\\\\\\\\\\\"Dyn\\\\\\\\\\\\\":{\\\\\\\\\\\\\"Float\\\\\\\\\\\\\":19.213569761177947}}}}},\\\\\\\\\\\\\"op\\\\\\\\\\\\\":\\\\\\\\\\\\\"TrueDivide\\\\\\\\\\\\\",\\\\\\\\\\\\\"right\\\\\\\\\\\\\":{\\\\\\\\\\\\\"Literal\\\\\\\\\\\\\":{\\\\\\\\\\\\\"Dyn\\\\\\\\\\\\\":{\\\\\\\\\\\\\"Float\\\\\\\\\\\\\":5.8470045315482775}}}}}\\\\\", \\\\\"{\\\\\\\\\\\\\"BinaryExpr\\\\\\\\\\\\\":{\\\\\\\\\\\\\"left\\\\\\\\\\\\\":{\\\\\\\\\\\\\"BinaryExpr\\\\\\\\\\\\\":{\\\\\\\\\\\\\"left\\\\\\\\\\\\\":{\\\\\\\\\\\\\"Column\\\\\\\\\\\\\":\\\\\\\\\\\\\"emi\\\\\\\\\\\\\"},\\\\\\\\\\\\\"op\\\\\\\\\\\\\":\\\\\\\\\\\\\"Minus\\\\\\\\\\\\\",\\\\\\\\\\\\\"right\\\\\\\\\\\\\":{\\\\\\\\\\\\\"Literal\\\\\\\\\\\\\":{\\\\\\\\\\\\\"Dyn\\\\\\\\\\\\\":{\\\\\\\\\\\\\"Float\\\\\\\\\\\\\":1101.4662416950978}}}}},\\\\\\\\\\\\\"op\\\\\\\\\\\\\":\\\\\\\\\\\\\"TrueDivide\\\\\\\\\\\\\",\\\\\\\\\\\\\"right\\\\\\\\\\\\\":{\\\\\\\\\\\\\"Literal\\\\\\\\\\\\\":{\\\\\\\\\\\\\"Dyn\\\\\\\\\\\\\":{\\\\\\\\\\\\\"Float\\\\\\\\\\\\\":752.6444995250869}}}}}\\\\\", \\\\\"{\\\\\\\\\\\\\"BinaryExpr\\\\\\\\\\\\\":{\\\\\\\\\\\\\"left\\\\\\\\\\\\\":{\\\\\\\\\\\\\"BinaryExpr\\\\\\\\\\\\\":{\\\\\\\\\\\\\"left\\\\\\\\\\\\\":{\\\\\\\\\\\\\"Column\\\\\\\\\\\\\":\\\\\\\\\\\\\"loan_amount_log1p\\\\\\\\\\\\\"},\\\\\\\\\\\\\"op\\\\\\\\\\\\\":\\\\\\\\\\\\\"Minus\\\\\\\\\\\\\",\\\\\\\\\\\\\"right\\\\\\\\\\\\\":{\\\\\\\\\\\\\"Literal\\\\\\\\\\\\\":{\\\\\\\\\\\\\"Dyn\\\\\\\\\\\\\":{\\\\\\\\\\\\\"Float\\\\\\\\\\\\\":10.326664500589036}}}}},\\\\\\\\\\\\\"op\\\\\\\\\\\\\":\\\\\\\\\\\\\"TrueDivide\\\\\\\\\\\\\",\\\\\\\\\\\\\"right\\\\\\\\\\\\\":{\\\\\\\\\\\\\"Literal\\\\\\\\\\\\\":{\\\\\\\\\\\\\"Dyn\\\\\\\\\\\\\":{\\\\\\\\\\\\\"Float\\\\\\\\\\\\\":0.7219306388560954}}}}}\\\\\", \\\\\"{\\\\\\\\\\\\\"BinaryExpr\\\\\\\\\\\\\":{\\\\\\\\\\\\\"left\\\\\\\\\\\\\":{\\\\\\\\\\\\\"BinaryExpr\\\\\\\\\\\\\":{\\\\\\\\\\\\\"left\\\\\\\\\\\\\":{\\\\\\\\\\\\\"Column\\\\\\\\\\\\\":\\\\\\\\\\\\\"loan_amount_log1p_clipped\\\\\\\\\\\\\"},\\\\\\\\\\\\\"op\\\\\\\\\\\\\":\\\\\\\\\\\\\"Minus\\\\\\\\\\\\\",\\\\\\\\\\\\\"right\\\\\\\\\\\\\":{\\\\\\\\\\\\\"Literal\\\\\\\\\\\\\":{\\\\\\\\\\\\\"Dyn\\\\\\\\\\\\\":{\\\\\\\\\\\\\"Float\\\\\\\\\\\\\":1000.0}}}}},\\\\\\\\\\\\\"op\\\\\\\\\\\\\":\\\\\\\\\\\\\"TrueDivide\\\\\\\\\\\\\",\\\\\\\\\\\\\"right\\\\\\\\\\\\\":{\\\\\\\\\\\\\"Literal\\\\\\\\\\\\\":{\\\\\\\\\\\\\"Dyn\\\\\\\\\\\\\":{\\\\\\\\\\\\\"Float\\\\\\\\\\\\\":0.0}}}}}\\\\\", \\\\\"{\\\\\\\\\\\\\"BinaryExpr\\\\\\\\\\\\\":{\\\\\\\\\\\\\"left\\\\\\\\\\\\\":{\\\\\\\\\\\\\"BinaryExpr\\\\\\\\\\\\\":{\\\\\\\\\\\\\"left\\\\\\\\\\\\\":{\\\\\\\\\\\\\"Column\\\\\\\\\\\\\":\\\\\\\\\\\\\"loan_amount_sqrt\\\\\\\\\\\\\"},\\\\\\\\\\\\\"op\\\\\\\\\\\\\":\\\\\\\\\\\\\"Minus\\\\\\\\\\\\\",\\\\\\\\\\\\\"right\\\\\\\\\\\\\":{\\\\\\\\\\\\\"Literal\\\\\\\\\\\\\":{\\\\\\\\\\\\\"Dyn\\\\\\\\\\\\\":{\\\\\\\\\\\\\"Float\\\\\\\\\\\\\":186.4219606393428}}}}},\\\\\\\\\\\\\"op\\\\\\\\\\\\\":\\\\\\\\\\\\\"TrueDivide\\\\\\\\\\\\\",\\\\\\\\\\\\\"right\\\\\\\\\\\\\":{\\\\\\\\\\\\\"Literal\\\\\\\\\\\\\":{\\\\\\\\\\\\\"Dyn\\\\\\\\\\\\\":{\\\\\\\\\\\\\"Float\\\\\\\\\\\\\":68.38739247959866}}}}}\\\\\", \\\\\"{\\\\\\\\\\\\\"BinaryExpr\\\\\\\\\\\\\":{\\\\\\\\\\\\\"left\\\\\\\\\\\\\":{\\\\\\\\\\\\\"BinaryExpr\\\\\\\\\\\\\":{\\\\\\\\\\\\\"left\\\\\\\\\\\\\":{\\\\\\\\\\\\\"Column\\\\\\\\\\\\\":\\\\\\\\\\\\\"loan_amount_lag_1\\\\\\\\\\\\\"},\\\\\\\\\\\\\"op\\\\\\\\\\\\\":\\\\\\\\\\\\\"Minus\\\\\\\\\\\\\",\\\\\\\\\\\\\"right\\\\\\\\\\\\\":{\\\\\\\\\\\\\"Literal\\\\\\\\\\\\\":{\\\\\\\\\\\\\"Dyn\\\\\\\\\\\\\":{\\\\\\\\\\\\\"Float\\\\\\\\\\\\\":39430.44544437302}}}}},\\\\\\\\\\\\\"op\\\\\\\\\\\\\":\\\\\\\\\\\\\"TrueDivide\\\\\\\\\\\\\",\\\\\\\\\\\\\"right\\\\\\\\\\\\\":{\\\\\\\\\\\\\"Literal\\\\\\\\\\\\\":{\\\\\\\\\\\\\"Dyn\\\\\\\\\\\\\":{\\\\\\\\\\\\\"Float\\\\\\\\\\\\\":30727.449732966947}}}}}\\\\\"]}\", \"{\\\\\"step_classif\\\\\": \\\\\"expr\\\\\", \\\\\"context\\\\\": \\\\\"with_columns\\\\\", \\\\\"exprs\\\\\": [\\\\\"{\\\\\\\\\\\\\"Alias\\\\\\\\\\\\\":[{\\\\\\\\\\\\\"Cast\\\\\\\\\\\\\":{\\\\\\\\\\\\\"expr\\\\\\\\\\\\\":{\\\\\\\\\\\\\"Function\\\\\\\\\\\\\":{\\\\\\\\\\\\\"input\\\\\\\\\\\\\":[{\\\\\\\\\\\\\"Column\\\\\\\\\\\\\":\\\\\\\\\\\\\"employer_category1\\\\\\\\\\\\\"}],\\\\\\\\\\\\\"function\\\\\\\\\\\\\":{\\\\\\\\\\\\\"Boolean\\\\\\\\\\\\\":\\\\\\\\\\\\\"IsNull\\\\\\\\\\\\\"},\\\\\\\\\\\\\"options\\\\\\\\\\\\\":{\\\\\\\\\\\\\"check_lengths\\\\\\\\\\\\\":true,\\\\\\\\\\\\\"flags\\\\\\\\\\\\\":\\\\\\\\\\\\\"ALLOW_GROUP_AWARE | ROW_SEPARABLE | LENGTH_PRESERVING\\\\\\\\\\\\\"}}},\\\\\\\\\\\\\"dtype\\\\\\\\\\\\\":\\\\\\\\\\\\\"UInt8\\\\\\\\\\\\\",\\\\\\\\\\\\\"options\\\\\\\\\\\\\":\\\\\\\\\\\\\"Strict\\\\\\\\\\\\\"}},\\\\\\\\\\\\\"employer_category1_is_missing\\\\\\\\\\\\\"]}\\\\\"]}\", \"{\\\\\"step_classif\\\\\": \\\\\"expr\\\\\", \\\\\"context\\\\\": \\\\\"with_columns\\\\\", \\\\\"exprs\\\\\": [\\\\\"{\\\\\\\\\\\\\"Alias\\\\\\\\\\\\\":[{\\\\\\\\\\\\\"Cast\\\\\\\\\\\\\":{\\\\\\\\\\\\\"expr\\\\\\\\\\\\\":{\\\\\\\\\\\\\"BinaryExpr\\\\\\\\\\\\\":{\\\\\\\\\\\\\"left\\\\\\\\\\\\\":{\\\\\\\\\\\\\"Column\\\\\\\\\\\\\":\\\\\\\\\\\\\"gender\\\\\\\\\\\\\"},\\\\\\\\\\\\\"op\\\\\\\\\\\\\":\\\\\\\\\\\\\"EqValidity\\\\\\\\\\\\\",\\\\\\\\\\\\\"right\\\\\\\\\\\\\":{\\\\\\\\\\\\\"Literal\\\\\\\\\\\\\":{\\\\\\\\\\\\\"Scalar\\\\\\\\\\\\\":{\\\\\\\\\\\\\"dtype\\\\\\\\\\\\\":\\\\\\\\\\\\\"String\\\\\\\\\\\\\",\\\\\\\\\\\\\"value\\\\\\\\\\\\\":{\\\\\\\\\\\\\"StringOwned\\\\\\\\\\\\\":\\\\\\\\\\\\\"Male\\\\\\\\\\\\\"}}}}}},\\\\\\\\\\\\\"dtype\\\\\\\\\\\\\":\\\\\\\\\\\\\"UInt8\\\\\\\\\\\\\",\\\\\\\\\\\\\"options\\\\\\\\\\\\\":\\\\\\\\\\\\\"Strict\\\\\\\\\\\\\"}},\\\\\\\\\\\\\"gender_Male\\\\\\\\\\\\\"]}\\\\\"]}\", \"{\\\\\"step_classif\\\\\": \\\\\"expr\\\\\", \\\\\"context\\\\\": \\\\\"select\\\\\", \\\\\"exprs\\\\\": [\\\\\"{\\\\\\\\\\\\\"Exclude\\\\\\\\\\\\\":[\\\\\\\\\\\\\"Wildcard\\\\\\\\\\\\\",[{\\\\\\\\\\\\\"Name\\\\\\\\\\\\\":\\\\\\\\\\\\\"gender\\\\\\\\\\\\\"}]]}\\\\\"]}\", \"{\\\\\"step_classif\\\\\": \\\\\"expr\\\\\", \\\\\"context\\\\\": \\\\\"with_columns\\\\\", \\\\\"exprs\\\\\": [\\\\\"{\\\\\\\\\\\\\"Function\\\\\\\\\\\\\":{\\\\\\\\\\\\\"input\\\\\\\\\\\\\":[{\\\\\\\\\\\\\"Column\\\\\\\\\\\\\":\\\\\\\\\\\\\"city_category\\\\\\\\\\\\\"},{\\\\\\\\\\\\\"Literal\\\\\\\\\\\\\":{\\\\\\\\\\\\\"Series\\\\\\\\\\\\\":[255,255,255,255,176,0,0,0,4,0,0,0,242,255,255,255,20,0,0,0,4,0,1,0,0,0,10,0,11,0,8,0,10,0,4,0,242,255,255,255,72,0,0,0,16,0,0,0,0,0,10,0,12,0,0,0,4,0,8,0,1,0,0,0,4,0,0,0,244,255,255,255,24,0,0,0,12,0,0,0,8,0,12,0,4,0,8,0,3,0,0,0,91,48,93,0,9,0,0,0,95,80,76,95,70,76,65,71,83,0,0,0,1,0,0,0,4,0,0,0,236,255,255,255,44,0,0,0,32,0,0,0,24,0,0,0,1,24,0,0,16,0,18,0,4,0,16,0,17,0,8,0,0,0,12,0,0,0,0,0,252,255,255,255,4,0,4,0,5,0,0,0,118,97,108,117,101,0,0,0,0,0,0,0,255,255,255,255,160,0,0,0,4,0,0,0,236,255,255,255,64,0,0,0,0,0,0,0,20,0,0,0,4,0,3,0,12,0,19,0,16,0,18,0,12,0,4,0,226,255,255,255,3,0,0,0,0,0,0,0,88,0,0,0,44,0,0,0,24,0,0,0,0,0,0,0,0,0,14,0,24,0,4,0,12,0,16,0,0,0,20,0,1,0,0,0,0,0,0,0,0,0,0,0,0,0,0,0,2,0,0,0,0,0,0,0,0,0,0,0,0,0,0,0,0,0,0,0,0,0,0,0,0,0,0,0,48,0,0,0,0,0,0,0,0,0,0,0,1,0,0,0,3,0,0,0,0,0,0,0,0,0,0,0,0,0,0,0,0,0,0,0,1,0,0,0,65,0,0,0,0,0,0,0,0,0,0,0,1,0,0,0,66,0,0,0,0,0,0,0,0,0,0,0,1,0,0,0,67,0,0,0,0,0,0,0,0,0,0,0,0,0,0,0,0,0,0,0,0,0,0,0,0,0,0,0,255,255,255,255,0,0,0,0]}},{\\\\\\\\\\\\\"Literal\\\\\\\\\\\\\":{\\\\\\\\\\\\\"Series\\\\\\\\\\\\\":[255,255,255,255,176,0,0,0,4,0,0,0,242,255,255,255,20,0,0,0,4,0,1,0,0,0,10,0,11,0,8,0,10,0,4,0,242,255,255,255,72,0,0,0,16,0,0,0,0,0,10,0,12,0,0,0,4,0,8,0,1,0,0,0,4,0,0,0,244,255,255,255,24,0,0,0,12,0,0,0,8,0,12,0,4,0,8,0,3,0,0,0,91,48,93,0,9,0,0,0,95,80,76,95,70,76,65,71,83,0,0,0,1,0,0,0,4,0,0,0,236,255,255,255,48,0,0,0,32,0,0,0,24,0,0,0,1,3,0,0,16,0,18,0,4,0,16,0,17,0,8,0,0,0,12,0,0,0,0,0,250,255,255,255,2,0,6,0,6,0,4,0,3,0,0,0,119,111,101,0,0,0,0,0,255,255,255,255,136,0,0,0,4,0,0,0,236,255,255,255,64,0,0,0,0,0,0,0,20,0,0,0,4,0,3,0,12,0,19,0,16,0,18,0,12,0,4,0,230,255,255,255,3,0,0,0,0,0,0,0,64,0,0,0,20,0,0,0,0,0,0,0,0,0,10,0,20,0,4,0,12,0,16,0,2,0,0,0,0,0,0,0,0,0,0,0,0,0,0,0,0,0,0,0,0,0,0,0,0,0,0,0,24,0,0,0,0,0,0,0,0,0,0,0,1,0,0,0,3,0,0,0,0,0,0,0,0,0,0,0,0,0,0,0,0,0,0,0,39,178,234,56,180,185,180,63,158,64,201,195,152,203,167,191,214,151,16,95,254,176,222,191,0,0,0,0,0,0,0,0,0,0,0,0,0,0,0,0,0,0,0,0,0,0,0,0,0,0,0,0,0,0,0,0,0,0,0,0,0,0,0,0,255,255,255,255,0,0,0,0]}},{\\\\\\\\\\\\\"Literal\\\\\\\\\\\\\":{\\\\\\\\\\\\\"Scalar\\\\\\\\\\\\\":{\\\\\\\\\\\\\"dtype\\\\\\\\\\\\\":\\\\\\\\\\\\\"Null\\\\\\\\\\\\\",\\\\\\\\\\\\\"value\\\\\\\\\\\\\":\\\\\\\\\\\\\"Null\\\\\\\\\\\\\"}}}],\\\\\\\\\\\\\"function\\\\\\\\\\\\\":{\\\\\\\\\\\\\"ReplaceStrict\\\\\\\\\\\\\":{\\\\\\\\\\\\\"return_dtype\\\\\\\\\\\\\":null}},\\\\\\\\\\\\\"options\\\\\\\\\\\\\":{\\\\\\\\\\\\\"check_lengths\\\\\\\\\\\\\":true,\\\\\\\\\\\\\"flags\\\\\\\\\\\\\":\\\\\\\\\\\\\"ALLOW_GROUP_AWARE | ROW_SEPARABLE | LENGTH_PRESERVING\\\\\\\\\\\\\"}}}\\\\\"]}\", \"{\\\\\"step_classif\\\\\": \\\\\"expr\\\\\", \\\\\"context\\\\\": \\\\\"with_columns\\\\\", \\\\\"exprs\\\\\": [\\\\\"{\\\\\\\\\\\\\"Function\\\\\\\\\\\\\":{\\\\\\\\\\\\\"input\\\\\\\\\\\\\":[{\\\\\\\\\\\\\"Column\\\\\\\\\\\\\":\\\\\\\\\\\\\"employer_category1\\\\\\\\\\\\\"},{\\\\\\\\\\\\\"Literal\\\\\\\\\\\\\":{\\\\\\\\\\\\\"Series\\\\\\\\\\\\\":[255,255,255,255,176,0,0,0,4,0,0,0,242,255,255,255,20,0,0,0,4,0,1,0,0,0,10,0,11,0,8,0,10,0,4,0,242,255,255,255,72,0,0,0,16,0,0,0,0,0,10,0,12,0,0,0,4,0,8,0,1,0,0,0,4,0,0,0,244,255,255,255,24,0,0,0,12,0,0,0,8,0,12,0,4,0,8,0,3,0,0,0,91,48,93,0,9,0,0,0,95,80,76,95,70,76,65,71,83,0,0,0,1,0,0,0,4,0,0,0,236,255,255,255,44,0,0,0,32,0,0,0,24,0,0,0,1,24,0,0,16,0,18,0,4,0,16,0,17,0,8,0,0,0,12,0,0,0,0,0,252,255,255,255,4,0,4,0,5,0,0,0,118,97,108,117,101,0,0,0,0,0,0,0,255,255,255,255,160,0,0,0,4,0,0,0,236,255,255,255,64,0,0,0,0,0,0,0,20,0,0,0,4,0,3,0,12,0,19,0,16,0,18,0,12,0,4,0,226,255,255,255,3,0,0,0,0,0,0,0,88,0,0,0,44,0,0,0,24,0,0,0,0,0,0,0,0,0,14,0,24,0,4,0,12,0,16,0,0,0,20,0,1,0,0,0,0,0,0,0,0,0,0,0,0,0,0,0,2,0,0,0,0,0,0,0,0,0,0,0,0,0,0,0,0,0,0,0,0,0,0,0,0,0,0,0,48,0,0,0,0,0,0,0,0,0,0,0,1,0,0,0,3,0,0,0,0,0,0,0,0,0,0,0,0,0,0,0,0,0,0,0,1,0,0,0,65,0,0,0,0,0,0,0,0,0,0,0,1,0,0,0,67,0,0,0,0,0,0,0,0,0,0,0,1,0,0,0,66,0,0,0,0,0,0,0,0,0,0,0,0,0,0,0,0,0,0,0,0,0,0,0,0,0,0,0,255,255,255,255,0,0,0,0]}},{\\\\\\\\\\\\\"Literal\\\\\\\\\\\\\":{\\\\\\\\\\\\\"Series\\\\\\\\\\\\\":[255,255,255,255,176,0,0,0,4,0,0,0,242,255,255,255,20,0,0,0,4,0,1,0,0,0,10,0,11,0,8,0,10,0,4,0,242,255,255,255,72,0,0,0,16,0,0,0,0,0,10,0,12,0,0,0,4,0,8,0,1,0,0,0,4,0,0,0,244,255,255,255,24,0,0,0,12,0,0,0,8,0,12,0,4,0,8,0,3,0,0,0,91,48,93,0,9,0,0,0,95,80,76,95,70,76,65,71,83,0,0,0,1,0,0,0,4,0,0,0,236,255,255,255,48,0,0,0,32,0,0,0,24,0,0,0,1,3,0,0,16,0,18,0,4,0,16,0,17,0,8,0,0,0,12,0,0,0,0,0,250,255,255,255,2,0,6,0,6,0,4,0,2,0,0,0,116,111,0,0,0,0,0,0,255,255,255,255,136,0,0,0,4,0,0,0,236,255,255,255,64,0,0,0,0,0,0,0,20,0,0,0,4,0,3,0,12,0,19,0,16,0,18,0,12,0,4,0,230,255,255,255,3,0,0,0,0,0,0,0,64,0,0,0,20,0,0,0,0,0,0,0,0,0,10,0,20,0,4,0,12,0,16,0,2,0,0,0,0,0,0,0,0,0,0,0,0,0,0,0,0,0,0,0,0,0,0,0,0,0,0,0,24,0,0,0,0,0,0,0,0,0,0,0,1,0,0,0,3,0,0,0,0,0,0,0,0,0,0,0,0,0,0,0,0,0,0,0,127,124,27,119,89,46,142,63,131,89,103,13,214,61,155,63,212,255,32,254,106,235,152,63,0,0,0,0,0,0,0,0,0,0,0,0,0,0,0,0,0,0,0,0,0,0,0,0,0,0,0,0,0,0,0,0,0,0,0,0,0,0,0,0,255,255,255,255,0,0,0,0]}},{\\\\\\\\\\\\\"Literal\\\\\\\\\\\\\":{\\\\\\\\\\\\\"Scalar\\\\\\\\\\\\\":{\\\\\\\\\\\\\"dtype\\\\\\\\\\\\\":\\\\\\\\\\\\\"Null\\\\\\\\\\\\\",\\\\\\\\\\\\\"value\\\\\\\\\\\\\":\\\\\\\\\\\\\"Null\\\\\\\\\\\\\"}}}],\\\\\\\\\\\\\"function\\\\\\\\\\\\\":{\\\\\\\\\\\\\"ReplaceStrict\\\\\\\\\\\\\":{\\\\\\\\\\\\\"return_dtype\\\\\\\\\\\\\":null}},\\\\\\\\\\\\\"options\\\\\\\\\\\\\":{\\\\\\\\\\\\\"check_lengths\\\\\\\\\\\\\":true,\\\\\\\\\\\\\"flags\\\\\\\\\\\\\":\\\\\\\\\\\\\"ALLOW_GROUP_AWARE | ROW_SEPARABLE | LENGTH_PRESERVING\\\\\\\\\\\\\"}}}\\\\\"]}\", \"{\\\\\"step_classif\\\\\": \\\\\"sort\\\\\", \\\\\"context\\\\\": \\\\\"sort\\\\\", \\\\\"by_cols\\\\\": [\\\\\"{\\\\\\\\\\\\\"Column\\\\\\\\\\\\\":\\\\\\\\\\\\\"id\\\\\\\\\\\\\"}\\\\\"], \\\\\"descending\\\\\": [true]}\"], \"ensure_features_in\": false, \"ensure_features_out\": true, \"lowercase\": true, \"uppercase\": false}'"
      ]
     },
     "execution_count": 11,
     "metadata": {},
     "output_type": "execute_result"
    }
   ],
   "source": [
    "pipe.to_json()"
   ]
  },
  {
   "cell_type": "code",
   "execution_count": 12,
   "metadata": {},
   "outputs": [],
   "source": [
    "from polars.testing import assert_frame_equal\n",
    "\n",
    "pipe.to_json(\"test.json\")\n",
    "pipe_reload = Pipeline.from_json(open(\"test.json\").read())\n",
    "# True\n",
    "assert_frame_equal(df_transformed, pipe_reload.transform(df))"
   ]
  },
  {
   "cell_type": "code",
   "execution_count": 13,
   "metadata": {},
   "outputs": [],
   "source": [
    "pipe2.to_json(\"test2.json\")\n",
    "pipe2_reload = Pipeline.from_json(open(\"test2.json\").read())\n",
    "# True\n",
    "assert_frame_equal(df_transformed2, pipe2_reload.transform(df))"
   ]
  },
  {
   "cell_type": "markdown",
   "metadata": {},
   "source": [
    "# Custom Tranformations in Pipeline\n",
    "\n",
    "Need version >= v0.4.6 (Not released yet)"
   ]
  },
  {
   "cell_type": "code",
   "execution_count": 14,
   "metadata": {},
   "outputs": [
    {
     "data": {
      "text/html": [
       "<div><style>\n",
       ".dataframe > thead > tr,\n",
       ".dataframe > tbody > tr {\n",
       "  text-align: right;\n",
       "  white-space: pre-wrap;\n",
       "}\n",
       "</style>\n",
       "<small>shape: (5, 22)</small><table border=\"1\" class=\"dataframe\"><thead><tr><th>ID</th><th>Gender</th><th>DOB</th><th>Lead_Creation_Date</th><th>City_Code</th><th>City_Category</th><th>Employer_Code</th><th>Employer_Category1</th><th>Employer_Category2</th><th>Monthly_Income</th><th>Customer_Existing_Primary_Bank_Code</th><th>Primary_Bank_Type</th><th>Contacted</th><th>Source</th><th>Source_Category</th><th>Existing_EMI</th><th>Loan_Amount</th><th>Loan_Period</th><th>Interest_Rate</th><th>EMI</th><th>Var1</th><th>Approved</th></tr><tr><td>str</td><td>str</td><td>str</td><td>str</td><td>str</td><td>str</td><td>str</td><td>str</td><td>i64</td><td>f64</td><td>str</td><td>str</td><td>str</td><td>str</td><td>str</td><td>f64</td><td>i64</td><td>i64</td><td>f64</td><td>i64</td><td>i64</td><td>i64</td></tr></thead><tbody><tr><td>&quot;APPC90493171225&quot;</td><td>&quot;Female&quot;</td><td>&quot;23/07/79&quot;</td><td>&quot;15/07/16&quot;</td><td>&quot;C10001&quot;</td><td>&quot;A&quot;</td><td>&quot;COM0044082&quot;</td><td>&quot;A&quot;</td><td>4</td><td>2000.0</td><td>&quot;B001&quot;</td><td>&quot;P&quot;</td><td>&quot;N&quot;</td><td>&quot;S122&quot;</td><td>&quot;G&quot;</td><td>0.0</td><td>null</td><td>null</td><td>null</td><td>null</td><td>0</td><td>0</td></tr><tr><td>&quot;APPD40611263344&quot;</td><td>&quot;Male&quot;</td><td>&quot;07/12/86&quot;</td><td>&quot;04/07/16&quot;</td><td>&quot;C10003&quot;</td><td>&quot;A&quot;</td><td>&quot;COM0000002&quot;</td><td>&quot;C&quot;</td><td>1</td><td>3500.0</td><td>&quot;B002&quot;</td><td>&quot;P&quot;</td><td>&quot;Y&quot;</td><td>&quot;S122&quot;</td><td>&quot;G&quot;</td><td>0.0</td><td>20000</td><td>2</td><td>13.25</td><td>953</td><td>10</td><td>0</td></tr><tr><td>&quot;APPE70289249423&quot;</td><td>&quot;Male&quot;</td><td>&quot;10/12/82&quot;</td><td>&quot;19/07/16&quot;</td><td>&quot;C10125&quot;</td><td>&quot;C&quot;</td><td>&quot;COM0005267&quot;</td><td>&quot;C&quot;</td><td>4</td><td>2250.0</td><td>&quot;B003&quot;</td><td>&quot;G&quot;</td><td>&quot;Y&quot;</td><td>&quot;S143&quot;</td><td>&quot;B&quot;</td><td>0.0</td><td>45000</td><td>4</td><td>null</td><td>null</td><td>0</td><td>0</td></tr><tr><td>&quot;APPF80273865537&quot;</td><td>&quot;Male&quot;</td><td>&quot;30/01/89&quot;</td><td>&quot;09/07/16&quot;</td><td>&quot;C10477&quot;</td><td>&quot;C&quot;</td><td>&quot;COM0004143&quot;</td><td>&quot;A&quot;</td><td>4</td><td>3500.0</td><td>&quot;B003&quot;</td><td>&quot;G&quot;</td><td>&quot;Y&quot;</td><td>&quot;S143&quot;</td><td>&quot;B&quot;</td><td>0.0</td><td>92000</td><td>5</td><td>null</td><td>null</td><td>7</td><td>0</td></tr><tr><td>&quot;APPG60994436641&quot;</td><td>&quot;Male&quot;</td><td>&quot;19/04/85&quot;</td><td>&quot;20/07/16&quot;</td><td>&quot;C10002&quot;</td><td>&quot;A&quot;</td><td>&quot;COM0001781&quot;</td><td>&quot;A&quot;</td><td>4</td><td>10000.0</td><td>&quot;B001&quot;</td><td>&quot;P&quot;</td><td>&quot;Y&quot;</td><td>&quot;S134&quot;</td><td>&quot;B&quot;</td><td>2500.0</td><td>50000</td><td>2</td><td>null</td><td>null</td><td>10</td><td>0</td></tr></tbody></table></div>"
      ],
      "text/plain": [
       "shape: (5, 22)\n",
       "┌────────────────┬────────┬──────────┬────────────────┬───┬───────────────┬──────┬──────┬──────────┐\n",
       "│ ID             ┆ Gender ┆ DOB      ┆ Lead_Creation_ ┆ … ┆ Interest_Rate ┆ EMI  ┆ Var1 ┆ Approved │\n",
       "│ ---            ┆ ---    ┆ ---      ┆ Date           ┆   ┆ ---           ┆ ---  ┆ ---  ┆ ---      │\n",
       "│ str            ┆ str    ┆ str      ┆ ---            ┆   ┆ f64           ┆ i64  ┆ i64  ┆ i64      │\n",
       "│                ┆        ┆          ┆ str            ┆   ┆               ┆      ┆      ┆          │\n",
       "╞════════════════╪════════╪══════════╪════════════════╪═══╪═══════════════╪══════╪══════╪══════════╡\n",
       "│ APPC9049317122 ┆ Female ┆ 23/07/79 ┆ 15/07/16       ┆ … ┆ null          ┆ null ┆ 0    ┆ 0        │\n",
       "│ 5              ┆        ┆          ┆                ┆   ┆               ┆      ┆      ┆          │\n",
       "│ APPD4061126334 ┆ Male   ┆ 07/12/86 ┆ 04/07/16       ┆ … ┆ 13.25         ┆ 953  ┆ 10   ┆ 0        │\n",
       "│ 4              ┆        ┆          ┆                ┆   ┆               ┆      ┆      ┆          │\n",
       "│ APPE7028924942 ┆ Male   ┆ 10/12/82 ┆ 19/07/16       ┆ … ┆ null          ┆ null ┆ 0    ┆ 0        │\n",
       "│ 3              ┆        ┆          ┆                ┆   ┆               ┆      ┆      ┆          │\n",
       "│ APPF8027386553 ┆ Male   ┆ 30/01/89 ┆ 09/07/16       ┆ … ┆ null          ┆ null ┆ 7    ┆ 0        │\n",
       "│ 7              ┆        ┆          ┆                ┆   ┆               ┆      ┆      ┆          │\n",
       "│ APPG6099443664 ┆ Male   ┆ 19/04/85 ┆ 20/07/16       ┆ … ┆ null          ┆ null ┆ 10   ┆ 0        │\n",
       "│ 1              ┆        ┆          ┆                ┆   ┆               ┆      ┆      ┆          │\n",
       "└────────────────┴────────┴──────────┴────────────────┴───┴───────────────┴──────┴──────┴──────────┘"
      ]
     },
     "execution_count": 14,
     "metadata": {},
     "output_type": "execute_result"
    }
   ],
   "source": [
    "df = pl.read_parquet(\"../examples/dependency.parquet\")\n",
    "df.head()"
   ]
  },
  {
   "cell_type": "code",
   "execution_count": 15,
   "metadata": {},
   "outputs": [],
   "source": [
    "from typing import Union, List\n",
    "\n",
    "# Any custom function must satistfy the following function signature:\n",
    "# func(df:Union[pl.DataFrame, pl.LazyFrame], cols: List[str], ...) -> List[pl.Expr]\n",
    "# where ... means kwargs\n",
    "# Here is a custom imputer\n",
    "\n",
    "def smallest_abs_impute(df:Union[pl.DataFrame, pl.LazyFrame], cols: List[str], epsilon:float = 0.01) -> List[pl.Expr]:\n",
    "    \"\"\"\n",
    "    Imputes columns by the min of the absolute values for c in columns, plus epsilon.\n",
    "    \"\"\"\n",
    "    temp = df.lazy().select(pl.col(cols).abs().min() + epsilon).collect().row(0)\n",
    "    return [pl.col(c).fill_null(m) for c, m in zip(cols, temp)]\n"
   ]
  },
  {
   "cell_type": "code",
   "execution_count": 16,
   "metadata": {},
   "outputs": [
    {
     "data": {
      "text/plain": [
       "Pipeline(name='example', feature_names_in_=['id', 'gender', 'dob', 'lead_creation_date', 'city_code', 'city_category', 'employer_code', 'employer_category1', 'employer_category2', 'monthly_income', 'customer_existing_primary_bank_code', 'primary_bank_type', 'contacted', 'source', 'source_category', 'existing_emi', 'loan_amount', 'loan_period', 'interest_rate', 'emi', 'var1', 'approved'], feature_names_out_=['id', 'gender', 'dob', 'lead_creation_date', 'city_code', 'city_category', 'employer_code', 'employer_category1', 'employer_category2', 'monthly_income', 'customer_existing_primary_bank_code', 'primary_bank_type', 'contacted', 'source', 'source_category', 'existing_emi', 'loan_amount', 'loan_period', 'interest_rate', 'emi', 'var1', 'approved'], transforms=[ExprStep(exprs=[<Expr ['col(\"var1\").fill_null([dyn flo…'] at 0x7F591655D650>, <Expr ['col(\"existing_emi\").fill_null(…'] at 0x7F59165DC150>, <Expr ['col(\"loan_amount\").fill_null([…'] at 0x7F59165DC250>], context=<PLContext.WITH_COLUMNS: 'with_columns'>)], ensure_features_in=False, ensure_features_out=True, lowercase=True, uppercase=False)"
      ]
     },
     "execution_count": 16,
     "metadata": {},
     "output_type": "execute_result"
    }
   ],
   "source": [
    "bp = (\n",
    "    Blueprint(df, name = \"example\", target = \"approved\", lowercase=True)\n",
    "    .append_fit_func(smallest_abs_impute, [\"var1\", \"existing_emi\", \"loan_amount\"], epsilon = 0.5)\n",
    "    # Use append_fit_func for custom transforms\n",
    ")\n",
    "# Notice that the value to impute is correct, it is 0.5, because the min abs of the columns are 0.\n",
    "pipe:Pipeline = bp.materialize()\n",
    "pipe"
   ]
  },
  {
   "cell_type": "code",
   "execution_count": 17,
   "metadata": {},
   "outputs": [
    {
     "data": {
      "text/html": [
       "<div><style>\n",
       ".dataframe > thead > tr,\n",
       ".dataframe > tbody > tr {\n",
       "  text-align: right;\n",
       "  white-space: pre-wrap;\n",
       "}\n",
       "</style>\n",
       "<small>shape: (1, 3)</small><table border=\"1\" class=\"dataframe\"><thead><tr><th>var1</th><th>existing_emi</th><th>loan_amount</th></tr><tr><td>u32</td><td>u32</td><td>u32</td></tr></thead><tbody><tr><td>0</td><td>0</td><td>0</td></tr></tbody></table></div>"
      ],
      "text/plain": [
       "shape: (1, 3)\n",
       "┌──────┬──────────────┬─────────────┐\n",
       "│ var1 ┆ existing_emi ┆ loan_amount │\n",
       "│ ---  ┆ ---          ┆ ---         │\n",
       "│ u32  ┆ u32          ┆ u32         │\n",
       "╞══════╪══════════════╪═════════════╡\n",
       "│ 0    ┆ 0            ┆ 0           │\n",
       "└──────┴──────────────┴─────────────┘"
      ]
     },
     "execution_count": 17,
     "metadata": {},
     "output_type": "execute_result"
    }
   ],
   "source": [
    "pipe.transform(df).null_count().select([\"var1\", \"existing_emi\", \"loan_amount\"])"
   ]
  },
  {
   "cell_type": "code",
   "execution_count": null,
   "metadata": {},
   "outputs": [],
   "source": []
  },
  {
   "cell_type": "markdown",
   "metadata": {},
   "source": [
    "# Scriptable Steps in Pipeline\n",
    "\n",
    "What is a scriptable step? It means we can encode steps in a json or yaml file easily. As long as we can turn the text into \n",
    "a valid Python dictionary, the step (the transformation) can be defined."
   ]
  },
  {
   "cell_type": "code",
   "execution_count": 18,
   "metadata": {},
   "outputs": [
    {
     "data": {
      "text/html": [
       "<div><style>\n",
       ".dataframe > thead > tr,\n",
       ".dataframe > tbody > tr {\n",
       "  text-align: right;\n",
       "  white-space: pre-wrap;\n",
       "}\n",
       "</style>\n",
       "<small>shape: (1, 1)</small><table border=\"1\" class=\"dataframe\"><thead><tr><th>Existing_EMI</th></tr><tr><td>u32</td></tr></thead><tbody><tr><td>51</td></tr></tbody></table></div>"
      ],
      "text/plain": [
       "shape: (1, 1)\n",
       "┌──────────────┐\n",
       "│ Existing_EMI │\n",
       "│ ---          │\n",
       "│ u32          │\n",
       "╞══════════════╡\n",
       "│ 51           │\n",
       "└──────────────┘"
      ]
     },
     "execution_count": 18,
     "metadata": {},
     "output_type": "execute_result"
    }
   ],
   "source": [
    "df.select(\n",
    "    pl.col(\"Existing_EMI\").null_count() \n",
    ")"
   ]
  },
  {
   "cell_type": "code",
   "execution_count": 19,
   "metadata": {},
   "outputs": [
    {
     "data": {
      "text/html": [
       "<div><style>\n",
       ".dataframe > thead > tr,\n",
       ".dataframe > tbody > tr {\n",
       "  text-align: right;\n",
       "  white-space: pre-wrap;\n",
       "}\n",
       "</style>\n",
       "<small>shape: (1, 1)</small><table border=\"1\" class=\"dataframe\"><thead><tr><th>Existing_EMI</th></tr><tr><td>u32</td></tr></thead><tbody><tr><td>0</td></tr></tbody></table></div>"
      ],
      "text/plain": [
       "shape: (1, 1)\n",
       "┌──────────────┐\n",
       "│ Existing_EMI │\n",
       "│ ---          │\n",
       "│ u32          │\n",
       "╞══════════════╡\n",
       "│ 0            │\n",
       "└──────────────┘"
      ]
     },
     "execution_count": 19,
     "metadata": {},
     "output_type": "execute_result"
    }
   ],
   "source": [
    "bp = Blueprint(df, name = \"example\", target = \"approved\")\n",
    "\n",
    "# Takes in a dict with 3 fields: `name`, `args`, and `kwargs`. \n",
    "# Args and kwargs are optional depending on whether the method call needs certain arguments.\n",
    "step_dict_1 = {\n",
    "    \"name\": \"impute\",\n",
    "    \"kwargs\": {\"cols\": [\"Existing_EMI\"], \"method\": \"median\"} \n",
    "}\n",
    "\n",
    "step_dict_2 = {\n",
    "    \"name\": \"does_not_exist\",\n",
    "    \"kwargs\": {\"test\": 1} \n",
    "}\n",
    "\n",
    "# filter_step = {\n",
    "#     \"name\": \"filter\",\n",
    "#     \"args\": [\"Employer_Category1 is not null\"]\n",
    "# }\n",
    "\n",
    "bp.append_step_from_dict(\n",
    "    step_dict_1\n",
    ")\n",
    "\n",
    "# .append_step_from_dict(\n",
    "#     filter_step\n",
    "# )\n",
    "\n",
    "# bp.append_step_from_dict(step_dict_2) # Will error\n",
    "pipe = bp.materialize()\n",
    "# \n",
    "df_transformed = pipe.transform(df)\n",
    "df_transformed.select(\n",
    "    pl.col(\"Existing_EMI\").null_count() # Imputed. So 0\n",
    ")"
   ]
  },
  {
   "cell_type": "markdown",
   "metadata": {},
   "source": [
    "# Custom Transforms as a Scriptable Step in Pipeline\n",
    "\n",
    "You need to inherit the blueprint class. Once the blueprint is materialized (learned). You do not need this class any more, because the \"learned\" info should all be encoded as Polars expressions"
   ]
  },
  {
   "cell_type": "code",
   "execution_count": 20,
   "metadata": {},
   "outputs": [],
   "source": [
    "from polars_ds.pipeline import Blueprint, FitStep\n",
    "from typing import Union, List\n",
    "\n",
    "from functools import partial\n",
    "\n",
    "def smallest_abs_impute(df:Union[pl.DataFrame, pl.LazyFrame], cols: List[str], epsilon:float = 0.01) -> List[pl.Expr]:\n",
    "    \"\"\"\n",
    "    Imputes columns by the min of the absolute values for c in columns, plus epsilon.\n",
    "    \"\"\"\n",
    "    temp = df.lazy().select(pl.col(cols).abs().min() + epsilon).collect().row(0)\n",
    "    return [pl.col(c).fill_null(m).name.suffix(\"_imputed\") for c, m in zip(cols, temp)]\n",
    "\n",
    "class ExtendedBlueprint(Blueprint):\n",
    "\n",
    "    def __init__(self, *args, **kwargs):\n",
    "        super().__init__(*args, **kwargs)\n",
    "\n",
    "    def smallest_abs_impute(self, cols: List[str], epsilon:float = 0.01) -> \"ExtendedBlueprint\":\n",
    "        # bind all arguments, except df and cols.\n",
    "        # If you don't want to use partial from functool, you can define an inner function\n",
    "        partial_func = partial(smallest_abs_impute, epsilon=epsilon)\n",
    "        self._steps.append(\n",
    "            FitStep(partial_func, cols, self.exclude)\n",
    "        )\n",
    "        return self\n",
    "\n",
    "    def smallest_abs_impute2(self, cols: List[str], epsilon:float = 0.01) -> \"ExtendedBlueprint\":\n",
    "        # bind all arguments, except df and cols.\n",
    "        # Example of using an inner function\n",
    "        def inner_func(df:Union[pl.DataFrame, pl.LazyFrame], cols: List[str]) -> List[pl.Expr]:\n",
    "            temp = df.lazy().select(pl.col(cols).abs().min() + epsilon).collect().row(0)\n",
    "            return [pl.col(c).fill_null(m).name.suffix(\"_imputed2\") for c, m in zip(cols, temp)]\n",
    "\n",
    "        self._steps.append(\n",
    "            FitStep(inner_func, cols, self.exclude)\n",
    "        )\n",
    "        return self\n"
   ]
  },
  {
   "cell_type": "code",
   "execution_count": 21,
   "metadata": {},
   "outputs": [
    {
     "data": {
      "text/html": [
       "<div><style>\n",
       ".dataframe > thead > tr,\n",
       ".dataframe > tbody > tr {\n",
       "  text-align: right;\n",
       "  white-space: pre-wrap;\n",
       "}\n",
       "</style>\n",
       "<small>shape: (51, 4)</small><table border=\"1\" class=\"dataframe\"><thead><tr><th>Existing_EMI</th><th>Existing_EMI_imputed</th><th>Existing_EMI_imputed2</th><th>impute_value</th></tr><tr><td>f64</td><td>f64</td><td>f64</td><td>f64</td></tr></thead><tbody><tr><td>null</td><td>0.01</td><td>0.01</td><td>0.01</td></tr><tr><td>null</td><td>0.01</td><td>0.01</td><td>0.01</td></tr><tr><td>null</td><td>0.01</td><td>0.01</td><td>0.01</td></tr><tr><td>null</td><td>0.01</td><td>0.01</td><td>0.01</td></tr><tr><td>null</td><td>0.01</td><td>0.01</td><td>0.01</td></tr><tr><td>&hellip;</td><td>&hellip;</td><td>&hellip;</td><td>&hellip;</td></tr><tr><td>null</td><td>0.01</td><td>0.01</td><td>0.01</td></tr><tr><td>null</td><td>0.01</td><td>0.01</td><td>0.01</td></tr><tr><td>null</td><td>0.01</td><td>0.01</td><td>0.01</td></tr><tr><td>null</td><td>0.01</td><td>0.01</td><td>0.01</td></tr><tr><td>null</td><td>0.01</td><td>0.01</td><td>0.01</td></tr></tbody></table></div>"
      ],
      "text/plain": [
       "shape: (51, 4)\n",
       "┌──────────────┬──────────────────────┬───────────────────────┬──────────────┐\n",
       "│ Existing_EMI ┆ Existing_EMI_imputed ┆ Existing_EMI_imputed2 ┆ impute_value │\n",
       "│ ---          ┆ ---                  ┆ ---                   ┆ ---          │\n",
       "│ f64          ┆ f64                  ┆ f64                   ┆ f64          │\n",
       "╞══════════════╪══════════════════════╪═══════════════════════╪══════════════╡\n",
       "│ null         ┆ 0.01                 ┆ 0.01                  ┆ 0.01         │\n",
       "│ null         ┆ 0.01                 ┆ 0.01                  ┆ 0.01         │\n",
       "│ null         ┆ 0.01                 ┆ 0.01                  ┆ 0.01         │\n",
       "│ null         ┆ 0.01                 ┆ 0.01                  ┆ 0.01         │\n",
       "│ null         ┆ 0.01                 ┆ 0.01                  ┆ 0.01         │\n",
       "│ …            ┆ …                    ┆ …                     ┆ …            │\n",
       "│ null         ┆ 0.01                 ┆ 0.01                  ┆ 0.01         │\n",
       "│ null         ┆ 0.01                 ┆ 0.01                  ┆ 0.01         │\n",
       "│ null         ┆ 0.01                 ┆ 0.01                  ┆ 0.01         │\n",
       "│ null         ┆ 0.01                 ┆ 0.01                  ┆ 0.01         │\n",
       "│ null         ┆ 0.01                 ┆ 0.01                  ┆ 0.01         │\n",
       "└──────────────┴──────────────────────┴───────────────────────┴──────────────┘"
      ]
     },
     "execution_count": 21,
     "metadata": {},
     "output_type": "execute_result"
    }
   ],
   "source": [
    "bp = ExtendedBlueprint(df, name = \"example\", target = \"approved\")\n",
    "\n",
    "# Takes in a dict with 3 fields: `name`, `args`, and `kwargs`. \n",
    "# Args and kwargs are optional depending on whether the method call needs certain arguments.\n",
    "step_dict_1 = {\n",
    "    \"name\": \"smallest_abs_impute\",\n",
    "    \"kwargs\": {\"cols\": [\"Existing_EMI\"], \"epsilon\": 0.01} \n",
    "}\n",
    "\n",
    "step_dict_2 = {\n",
    "    \"name\": \"smallest_abs_impute2\",\n",
    "    \"kwargs\": {\"cols\": [\"Existing_EMI\"], \"epsilon\": 0.01} \n",
    "}\n",
    "\n",
    "bp.append_step_from_dict(\n",
    "    step_dict_1\n",
    ").append_step_from_dict(\n",
    "    step_dict_2\n",
    ")\n",
    "\n",
    "pipe = bp.materialize()\n",
    "df_transformed = pipe.transform(df)\n",
    "\n",
    "df_transformed.with_columns(\n",
    "    impute_value = pl.col(\"Existing_EMI\").abs().min() + 0.01\n",
    ").filter(\n",
    "    pl.col(\"Existing_EMI\").is_null()\n",
    ").select(\n",
    "    pl.col(\"Existing_EMI\"),\n",
    "    pl.col(\"Existing_EMI_imputed\"),\n",
    "    pl.col(\"Existing_EMI_imputed2\"),\n",
    "    pl.col(\"impute_value\")\n",
    ")"
   ]
  },
  {
   "cell_type": "markdown",
   "metadata": {},
   "source": [
    "# Wrapping PDS Pipeline (blueprint) Inside a Sklearn Pipeline\n",
    "\n",
    "It is not recommended, but it is possible. If there is a sklearn pipeline transform you want, and that is not implemented in PDS, please submit a feature request."
   ]
  },
  {
   "cell_type": "code",
   "execution_count": 22,
   "metadata": {},
   "outputs": [
    {
     "data": {
      "text/html": [
       "<div><style>\n",
       ".dataframe > thead > tr,\n",
       ".dataframe > tbody > tr {\n",
       "  text-align: right;\n",
       "  white-space: pre-wrap;\n",
       "}\n",
       "</style>\n",
       "<small>shape: (68_899, 12)</small><table border=\"1\" class=\"dataframe\"><thead><tr><th>gender</th><th>city_category</th><th>employer_category1</th><th>employer_category2</th><th>monthly_income</th><th>existing_emi</th><th>loan_amount</th><th>loan_period</th><th>interest_rate</th><th>emi</th><th>var1</th><th>approved</th></tr><tr><td>str</td><td>str</td><td>str</td><td>i64</td><td>f64</td><td>f64</td><td>i64</td><td>f64</td><td>f64</td><td>i64</td><td>i64</td><td>i64</td></tr></thead><tbody><tr><td>&quot;Female&quot;</td><td>&quot;A&quot;</td><td>&quot;A&quot;</td><td>4</td><td>2000.0</td><td>0.0</td><td>null</td><td>0.0</td><td>null</td><td>null</td><td>0</td><td>0</td></tr><tr><td>&quot;Male&quot;</td><td>&quot;A&quot;</td><td>&quot;C&quot;</td><td>1</td><td>3500.0</td><td>0.0</td><td>20000</td><td>2.0</td><td>13.25</td><td>953</td><td>10</td><td>0</td></tr><tr><td>&quot;Male&quot;</td><td>&quot;C&quot;</td><td>&quot;C&quot;</td><td>4</td><td>2250.0</td><td>0.0</td><td>45000</td><td>4.0</td><td>null</td><td>null</td><td>0</td><td>0</td></tr><tr><td>&quot;Male&quot;</td><td>&quot;C&quot;</td><td>&quot;A&quot;</td><td>4</td><td>3500.0</td><td>0.0</td><td>92000</td><td>5.0</td><td>null</td><td>null</td><td>7</td><td>0</td></tr><tr><td>&quot;Male&quot;</td><td>&quot;A&quot;</td><td>&quot;A&quot;</td><td>4</td><td>10000.0</td><td>2500.0</td><td>50000</td><td>2.0</td><td>null</td><td>null</td><td>10</td><td>0</td></tr><tr><td>&hellip;</td><td>&hellip;</td><td>&hellip;</td><td>&hellip;</td><td>&hellip;</td><td>&hellip;</td><td>&hellip;</td><td>&hellip;</td><td>&hellip;</td><td>&hellip;</td><td>&hellip;</td><td>&hellip;</td></tr><tr><td>&quot;Female&quot;</td><td>&quot;A&quot;</td><td>&quot;A&quot;</td><td>1</td><td>4900.0</td><td>0.0</td><td>null</td><td>5.0981</td><td>null</td><td>null</td><td>10</td><td>0</td></tr><tr><td>&quot;Female&quot;</td><td>&quot;C&quot;</td><td>&quot;A&quot;</td><td>4</td><td>7190.1</td><td>1450.0</td><td>null</td><td>3.557644</td><td>null</td><td>null</td><td>7</td><td>0</td></tr><tr><td>&quot;Female&quot;</td><td>&quot;B&quot;</td><td>&quot;C&quot;</td><td>4</td><td>1600.0</td><td>0.0</td><td>24000</td><td>4.0</td><td>35.5</td><td>943</td><td>2</td><td>0</td></tr><tr><td>&quot;Male&quot;</td><td>&quot;A&quot;</td><td>&quot;C&quot;</td><td>3</td><td>9893.0</td><td>1366.0</td><td>80000</td><td>5.0</td><td>null</td><td>null</td><td>10</td><td>0</td></tr><tr><td>&quot;Male&quot;</td><td>&quot;A&quot;</td><td>&quot;A&quot;</td><td>1</td><td>4230.0</td><td>0.0</td><td>69000</td><td>4.0</td><td>13.99</td><td>1885</td><td>10</td><td>0</td></tr></tbody></table></div>"
      ],
      "text/plain": [
       "shape: (68_899, 12)\n",
       "┌────────┬───────────────┬──────────────┬──────────────┬───┬──────────────┬──────┬──────┬──────────┐\n",
       "│ gender ┆ city_category ┆ employer_cat ┆ employer_cat ┆ … ┆ interest_rat ┆ emi  ┆ var1 ┆ approved │\n",
       "│ ---    ┆ ---           ┆ egory1       ┆ egory2       ┆   ┆ e            ┆ ---  ┆ ---  ┆ ---      │\n",
       "│ str    ┆ str           ┆ ---          ┆ ---          ┆   ┆ ---          ┆ i64  ┆ i64  ┆ i64      │\n",
       "│        ┆               ┆ str          ┆ i64          ┆   ┆ f64          ┆      ┆      ┆          │\n",
       "╞════════╪═══════════════╪══════════════╪══════════════╪═══╪══════════════╪══════╪══════╪══════════╡\n",
       "│ Female ┆ A             ┆ A            ┆ 4            ┆ … ┆ null         ┆ null ┆ 0    ┆ 0        │\n",
       "│ Male   ┆ A             ┆ C            ┆ 1            ┆ … ┆ 13.25        ┆ 953  ┆ 10   ┆ 0        │\n",
       "│ Male   ┆ C             ┆ C            ┆ 4            ┆ … ┆ null         ┆ null ┆ 0    ┆ 0        │\n",
       "│ Male   ┆ C             ┆ A            ┆ 4            ┆ … ┆ null         ┆ null ┆ 7    ┆ 0        │\n",
       "│ Male   ┆ A             ┆ A            ┆ 4            ┆ … ┆ null         ┆ null ┆ 10   ┆ 0        │\n",
       "│ …      ┆ …             ┆ …            ┆ …            ┆ … ┆ …            ┆ …    ┆ …    ┆ …        │\n",
       "│ Female ┆ A             ┆ A            ┆ 1            ┆ … ┆ null         ┆ null ┆ 10   ┆ 0        │\n",
       "│ Female ┆ C             ┆ A            ┆ 4            ┆ … ┆ null         ┆ null ┆ 7    ┆ 0        │\n",
       "│ Female ┆ B             ┆ C            ┆ 4            ┆ … ┆ 35.5         ┆ 943  ┆ 2    ┆ 0        │\n",
       "│ Male   ┆ A             ┆ C            ┆ 3            ┆ … ┆ null         ┆ null ┆ 10   ┆ 0        │\n",
       "│ Male   ┆ A             ┆ A            ┆ 1            ┆ … ┆ 13.99        ┆ 1885 ┆ 10   ┆ 0        │\n",
       "└────────┴───────────────┴──────────────┴──────────────┴───┴──────────────┴──────┴──────┴──────────┘"
      ]
     },
     "execution_count": 22,
     "metadata": {},
     "output_type": "execute_result"
    }
   ],
   "source": [
    "import polars_ds.pipeline as pm\n",
    "from sklearn.pipeline import Pipeline\n",
    "from sklearn.base import BaseEstimator, TransformerMixin\n",
    "\n",
    "class CustomPDSTransformer(BaseEstimator, TransformerMixin):\n",
    "\n",
    "    def __init__(self):\n",
    "        self.pipe = None\n",
    "\n",
    "    def fit(self, df, y=None):\n",
    "        # specify all the rules for the transform here\n",
    "        bp = (\n",
    "            pm.Blueprint(df, name = \"example\", target = \"approved\", lowercase=True) \n",
    "            .filter( \n",
    "                \"city_category is not null\" # or equivalently, you can do: pl.col(\"city_category\").is_not_null()\n",
    "            )\n",
    "            .select(cs.numeric() | cs.by_name([\"gender\", \"employer_category1\", \"city_category\", \"test_col\"]))\n",
    "            .linear_impute(features = [\"var1\", \"existing_emi\"], target = \"loan_period\") \n",
    "            .impute([\"existing_emi\"], method = \"median\")\n",
    "        )\n",
    "        self.pipe = bp.materialize()\n",
    "        return self\n",
    "\n",
    "    def transform(self, df, y=None):\n",
    "        return self.pipe.transform(df)\n",
    "\n",
    "# ---------------------------------------------------------------\n",
    "\n",
    "df = pl.read_parquet(\"../examples/dependency.parquet\")\n",
    "\n",
    "pipe = Pipeline(\n",
    "    steps=[\n",
    "        (\"CustomPDSTransformer\", CustomPDSTransformer())    \n",
    "    ]\n",
    ")\n",
    "df_transformed = pipe.fit_transform(df)\n",
    "df_transformed\n"
   ]
  },
  {
   "cell_type": "code",
   "execution_count": null,
   "metadata": {},
   "outputs": [],
   "source": []
  },
  {
   "cell_type": "code",
   "execution_count": null,
   "metadata": {},
   "outputs": [],
   "source": []
  },
  {
   "cell_type": "code",
   "execution_count": null,
   "metadata": {},
   "outputs": [],
   "source": []
  }
 ],
 "metadata": {
  "kernelspec": {
   "display_name": ".venv",
   "language": "python",
   "name": "python3"
  },
  "language_info": {
   "codemirror_mode": {
    "name": "ipython",
    "version": 3
   },
   "file_extension": ".py",
   "mimetype": "text/x-python",
   "name": "python",
   "nbconvert_exporter": "python",
   "pygments_lexer": "ipython3",
   "version": "3.13.3"
  }
 },
 "nbformat": 4,
 "nbformat_minor": 2
}
