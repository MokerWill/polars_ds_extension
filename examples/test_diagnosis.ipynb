{
 "cells": [
  {
   "cell_type": "code",
   "execution_count": 1,
   "metadata": {},
   "outputs": [],
   "source": [
    "import polars as pl\n",
    "import polars_ds as pds\n",
    "from polars_ds.diagnosis import DIA"
   ]
  },
  {
   "cell_type": "code",
   "execution_count": 2,
   "metadata": {},
   "outputs": [
    {
     "data": {
      "text/html": [
       "<div><style>\n",
       ".dataframe > thead > tr,\n",
       ".dataframe > tbody > tr {\n",
       "  text-align: right;\n",
       "  white-space: pre-wrap;\n",
       "}\n",
       "</style>\n",
       "<small>shape: (5, 22)</small><table border=\"1\" class=\"dataframe\"><thead><tr><th>ID</th><th>Gender</th><th>DOB</th><th>Lead_Creation_Date</th><th>City_Code</th><th>City_Category</th><th>Employer_Code</th><th>Employer_Category1</th><th>Employer_Category2</th><th>Monthly_Income</th><th>Customer_Existing_Primary_Bank_Code</th><th>Primary_Bank_Type</th><th>Contacted</th><th>Source</th><th>Source_Category</th><th>Existing_EMI</th><th>Loan_Amount</th><th>Loan_Period</th><th>Interest_Rate</th><th>EMI</th><th>Var1</th><th>Approved</th></tr><tr><td>str</td><td>str</td><td>str</td><td>str</td><td>str</td><td>str</td><td>str</td><td>str</td><td>i64</td><td>f64</td><td>str</td><td>str</td><td>str</td><td>str</td><td>str</td><td>f64</td><td>i64</td><td>i64</td><td>f64</td><td>i64</td><td>i64</td><td>i64</td></tr></thead><tbody><tr><td>&quot;APPC90493171225&quot;</td><td>&quot;Female&quot;</td><td>&quot;23/07/79&quot;</td><td>&quot;15/07/16&quot;</td><td>&quot;C10001&quot;</td><td>&quot;A&quot;</td><td>&quot;COM0044082&quot;</td><td>&quot;A&quot;</td><td>4</td><td>2000.0</td><td>&quot;B001&quot;</td><td>&quot;P&quot;</td><td>&quot;N&quot;</td><td>&quot;S122&quot;</td><td>&quot;G&quot;</td><td>0.0</td><td>null</td><td>null</td><td>null</td><td>null</td><td>0</td><td>0</td></tr><tr><td>&quot;APPD40611263344&quot;</td><td>&quot;Male&quot;</td><td>&quot;07/12/86&quot;</td><td>&quot;04/07/16&quot;</td><td>&quot;C10003&quot;</td><td>&quot;A&quot;</td><td>&quot;COM0000002&quot;</td><td>&quot;C&quot;</td><td>1</td><td>3500.0</td><td>&quot;B002&quot;</td><td>&quot;P&quot;</td><td>&quot;Y&quot;</td><td>&quot;S122&quot;</td><td>&quot;G&quot;</td><td>0.0</td><td>20000</td><td>2</td><td>13.25</td><td>953</td><td>10</td><td>0</td></tr><tr><td>&quot;APPE70289249423&quot;</td><td>&quot;Male&quot;</td><td>&quot;10/12/82&quot;</td><td>&quot;19/07/16&quot;</td><td>&quot;C10125&quot;</td><td>&quot;C&quot;</td><td>&quot;COM0005267&quot;</td><td>&quot;C&quot;</td><td>4</td><td>2250.0</td><td>&quot;B003&quot;</td><td>&quot;G&quot;</td><td>&quot;Y&quot;</td><td>&quot;S143&quot;</td><td>&quot;B&quot;</td><td>0.0</td><td>45000</td><td>4</td><td>null</td><td>null</td><td>0</td><td>0</td></tr><tr><td>&quot;APPF80273865537&quot;</td><td>&quot;Male&quot;</td><td>&quot;30/01/89&quot;</td><td>&quot;09/07/16&quot;</td><td>&quot;C10477&quot;</td><td>&quot;C&quot;</td><td>&quot;COM0004143&quot;</td><td>&quot;A&quot;</td><td>4</td><td>3500.0</td><td>&quot;B003&quot;</td><td>&quot;G&quot;</td><td>&quot;Y&quot;</td><td>&quot;S143&quot;</td><td>&quot;B&quot;</td><td>0.0</td><td>92000</td><td>5</td><td>null</td><td>null</td><td>7</td><td>0</td></tr><tr><td>&quot;APPG60994436641&quot;</td><td>&quot;Male&quot;</td><td>&quot;19/04/85&quot;</td><td>&quot;20/07/16&quot;</td><td>&quot;C10002&quot;</td><td>&quot;A&quot;</td><td>&quot;COM0001781&quot;</td><td>&quot;A&quot;</td><td>4</td><td>10000.0</td><td>&quot;B001&quot;</td><td>&quot;P&quot;</td><td>&quot;Y&quot;</td><td>&quot;S134&quot;</td><td>&quot;B&quot;</td><td>2500.0</td><td>50000</td><td>2</td><td>null</td><td>null</td><td>10</td><td>0</td></tr></tbody></table></div>"
      ],
      "text/plain": [
       "shape: (5, 22)\n",
       "┌────────────────┬────────┬──────────┬────────────────┬───┬───────────────┬──────┬──────┬──────────┐\n",
       "│ ID             ┆ Gender ┆ DOB      ┆ Lead_Creation_ ┆ … ┆ Interest_Rate ┆ EMI  ┆ Var1 ┆ Approved │\n",
       "│ ---            ┆ ---    ┆ ---      ┆ Date           ┆   ┆ ---           ┆ ---  ┆ ---  ┆ ---      │\n",
       "│ str            ┆ str    ┆ str      ┆ ---            ┆   ┆ f64           ┆ i64  ┆ i64  ┆ i64      │\n",
       "│                ┆        ┆          ┆ str            ┆   ┆               ┆      ┆      ┆          │\n",
       "╞════════════════╪════════╪══════════╪════════════════╪═══╪═══════════════╪══════╪══════╪══════════╡\n",
       "│ APPC9049317122 ┆ Female ┆ 23/07/79 ┆ 15/07/16       ┆ … ┆ null          ┆ null ┆ 0    ┆ 0        │\n",
       "│ 5              ┆        ┆          ┆                ┆   ┆               ┆      ┆      ┆          │\n",
       "│ APPD4061126334 ┆ Male   ┆ 07/12/86 ┆ 04/07/16       ┆ … ┆ 13.25         ┆ 953  ┆ 10   ┆ 0        │\n",
       "│ 4              ┆        ┆          ┆                ┆   ┆               ┆      ┆      ┆          │\n",
       "│ APPE7028924942 ┆ Male   ┆ 10/12/82 ┆ 19/07/16       ┆ … ┆ null          ┆ null ┆ 0    ┆ 0        │\n",
       "│ 3              ┆        ┆          ┆                ┆   ┆               ┆      ┆      ┆          │\n",
       "│ APPF8027386553 ┆ Male   ┆ 30/01/89 ┆ 09/07/16       ┆ … ┆ null          ┆ null ┆ 7    ┆ 0        │\n",
       "│ 7              ┆        ┆          ┆                ┆   ┆               ┆      ┆      ┆          │\n",
       "│ APPG6099443664 ┆ Male   ┆ 19/04/85 ┆ 20/07/16       ┆ … ┆ null          ┆ null ┆ 10   ┆ 0        │\n",
       "│ 1              ┆        ┆          ┆                ┆   ┆               ┆      ┆      ┆          │\n",
       "└────────────────┴────────┴──────────┴────────────────┴───┴───────────────┴──────┴──────┴──────────┘"
      ]
     },
     "execution_count": 2,
     "metadata": {},
     "output_type": "execute_result"
    }
   ],
   "source": [
    "df = pl.read_parquet(\"dependency.parquet\")\n",
    "df.head()"
   ]
  },
  {
   "cell_type": "code",
   "execution_count": 3,
   "metadata": {},
   "outputs": [],
   "source": [
    "dia = DIA(df)"
   ]
  },
  {
   "cell_type": "code",
   "execution_count": 4,
   "metadata": {},
   "outputs": [
    {
     "data": {
      "text/html": [
       "\n",
       "<style>\n",
       "  #altair-viz-e8b62a6987f64354a70b22f4d04d48d3.vega-embed {\n",
       "    width: 100%;\n",
       "    display: flex;\n",
       "  }\n",
       "\n",
       "  #altair-viz-e8b62a6987f64354a70b22f4d04d48d3.vega-embed details,\n",
       "  #altair-viz-e8b62a6987f64354a70b22f4d04d48d3.vega-embed details summary {\n",
       "    position: relative;\n",
       "  }\n",
       "</style>\n",
       "<div id=\"altair-viz-e8b62a6987f64354a70b22f4d04d48d3\"></div>\n",
       "<script type=\"text/javascript\">\n",
       "  var VEGA_DEBUG = (typeof VEGA_DEBUG == \"undefined\") ? {} : VEGA_DEBUG;\n",
       "  (function(spec, embedOpt){\n",
       "    let outputDiv = document.currentScript.previousElementSibling;\n",
       "    if (outputDiv.id !== \"altair-viz-e8b62a6987f64354a70b22f4d04d48d3\") {\n",
       "      outputDiv = document.getElementById(\"altair-viz-e8b62a6987f64354a70b22f4d04d48d3\");\n",
       "    }\n",
       "    const paths = {\n",
       "      \"vega\": \"https://cdn.jsdelivr.net/npm/vega@5?noext\",\n",
       "      \"vega-lib\": \"https://cdn.jsdelivr.net/npm/vega-lib?noext\",\n",
       "      \"vega-lite\": \"https://cdn.jsdelivr.net/npm/vega-lite@5.20.1?noext\",\n",
       "      \"vega-embed\": \"https://cdn.jsdelivr.net/npm/vega-embed@6?noext\",\n",
       "    };\n",
       "\n",
       "    function maybeLoadScript(lib, version) {\n",
       "      var key = `${lib.replace(\"-\", \"\")}_version`;\n",
       "      return (VEGA_DEBUG[key] == version) ?\n",
       "        Promise.resolve(paths[lib]) :\n",
       "        new Promise(function(resolve, reject) {\n",
       "          var s = document.createElement('script');\n",
       "          document.getElementsByTagName(\"head\")[0].appendChild(s);\n",
       "          s.async = true;\n",
       "          s.onload = () => {\n",
       "            VEGA_DEBUG[key] = version;\n",
       "            return resolve(paths[lib]);\n",
       "          };\n",
       "          s.onerror = () => reject(`Error loading script: ${paths[lib]}`);\n",
       "          s.src = paths[lib];\n",
       "        });\n",
       "    }\n",
       "\n",
       "    function showError(err) {\n",
       "      outputDiv.innerHTML = `<div class=\"error\" style=\"color:red;\">${err}</div>`;\n",
       "      throw err;\n",
       "    }\n",
       "\n",
       "    function displayChart(vegaEmbed) {\n",
       "      vegaEmbed(outputDiv, spec, embedOpt)\n",
       "        .catch(err => showError(`Javascript Error: ${err.message}<br>This usually means there's a typo in your chart specification. See the javascript console for the full traceback.`));\n",
       "    }\n",
       "\n",
       "    if(typeof define === \"function\" && define.amd) {\n",
       "      requirejs.config({paths});\n",
       "      require([\"vega-embed\"], displayChart, err => showError(`Error loading script: ${err.message}`));\n",
       "    } else {\n",
       "      maybeLoadScript(\"vega\", \"5\")\n",
       "        .then(() => maybeLoadScript(\"vega-lite\", \"5.20.1\"))\n",
       "        .then(() => maybeLoadScript(\"vega-embed\", \"6\"))\n",
       "        .catch(showError)\n",
       "        .then(() => displayChart(vegaEmbed));\n",
       "    }\n",
       "  })({\"$schema\": \"https://vega.github.io/schema/vega/v5.json\", \"data\": [{\"name\": \"param_1_store\"}, {\"name\": \"source_0\", \"values\": [{\"counts\": 678, \"counts_end\": 678.0, \"counts_start\": 0.0, \"cuts\": 298.615}, {\"counts\": 157, \"counts_end\": 157.0, \"counts_start\": 0.0, \"cuts\": 337.025}, {\"counts\": 927, \"counts_end\": 927.0, \"counts_start\": 0.0, \"cuts\": 375.435}, {\"counts\": 275, \"counts_end\": 275.0, \"counts_start\": 0.0, \"cuts\": 413.845}, {\"counts\": 312, \"counts_end\": 312.0, \"counts_start\": 0.0, \"cuts\": 452.255}, {\"counts\": 755, \"counts_end\": 755.0, \"counts_start\": 0.0, \"cuts\": 490.665}, {\"counts\": 890, \"counts_end\": 890.0, \"counts_start\": 0.0, \"cuts\": 529.075}, {\"counts\": 698, \"counts_end\": 698.0, \"counts_start\": 0.0, \"cuts\": 567.485}, {\"counts\": 436, \"counts_end\": 436.0, \"counts_start\": 0.0, \"cuts\": 605.895}, {\"counts\": 213, \"counts_end\": 213.0, \"counts_start\": 0.0, \"cuts\": 644.3050000000001}, {\"counts\": 213, \"counts_end\": 213.0, \"counts_start\": 0.0, \"cuts\": 682.715}, {\"counts\": 1016, \"counts_end\": 1016.0, \"counts_start\": 0.0, \"cuts\": 721.125}, {\"counts\": 833, \"counts_end\": 833.0, \"counts_start\": 0.0, \"cuts\": 759.5350000000001}, {\"counts\": 874, \"counts_end\": 874.0, \"counts_start\": 0.0, \"cuts\": 797.9449999999999}, {\"counts\": 440, \"counts_end\": 440.0, \"counts_start\": 0.0, \"cuts\": 836.355}, {\"counts\": 834, \"counts_end\": 834.0, \"counts_start\": 0.0, \"cuts\": 874.765}, {\"counts\": 940, \"counts_end\": 940.0, \"counts_start\": 0.0, \"cuts\": 913.1750000000001}, {\"counts\": 635, \"counts_end\": 635.0, \"counts_start\": 0.0, \"cuts\": 951.585}, {\"counts\": 831, \"counts_end\": 831.0, \"counts_start\": 0.0, \"cuts\": 989.995}, {\"counts\": 640, \"counts_end\": 640.0, \"counts_start\": 0.0, \"cuts\": 1028.4050000000002}, {\"counts\": 827, \"counts_end\": 827.0, \"counts_start\": 0.0, \"cuts\": 1066.815}, {\"counts\": 583, \"counts_end\": 583.0, \"counts_start\": 0.0, \"cuts\": 1105.225}, {\"counts\": 520, \"counts_end\": 520.0, \"counts_start\": 0.0, \"cuts\": 1143.6350000000002}, {\"counts\": 603, \"counts_end\": 603.0, \"counts_start\": 0.0, \"cuts\": 1182.045}, {\"counts\": 728, \"counts_end\": 728.0, \"counts_start\": 0.0, \"cuts\": 1220.455}, {\"counts\": 394, \"counts_end\": 394.0, \"counts_start\": 0.0, \"cuts\": 1258.865}, {\"counts\": 297, \"counts_end\": 297.0, \"counts_start\": 0.0, \"cuts\": 1297.275}, {\"counts\": 273, \"counts_end\": 273.0, \"counts_start\": 0.0, \"cuts\": 1335.6850000000002}, {\"counts\": 230, \"counts_end\": 230.0, \"counts_start\": 0.0, \"cuts\": 1374.095}, {\"counts\": 378, \"counts_end\": 378.0, \"counts_start\": 0.0, \"cuts\": 1412.5049999999999}, {\"counts\": 317, \"counts_end\": 317.0, \"counts_start\": 0.0, \"cuts\": 1450.915}, {\"counts\": 407, \"counts_end\": 407.0, \"counts_start\": 0.0, \"cuts\": 1489.325}, {\"counts\": 247, \"counts_end\": 247.0, \"counts_start\": 0.0, \"cuts\": 1527.7350000000001}, {\"counts\": 99, \"counts_end\": 99.0, \"counts_start\": 0.0, \"cuts\": 1566.1450000000002}, {\"counts\": 141, \"counts_end\": 141.0, \"counts_start\": 0.0, \"cuts\": 1604.5549999999998}, {\"counts\": 185, \"counts_end\": 185.0, \"counts_start\": 0.0, \"cuts\": 1642.965}, {\"counts\": 109, \"counts_end\": 109.0, \"counts_start\": 0.0, \"cuts\": 1681.375}, {\"counts\": 155, \"counts_end\": 155.0, \"counts_start\": 0.0, \"cuts\": 1719.785}, {\"counts\": 246, \"counts_end\": 246.0, \"counts_start\": 0.0, \"cuts\": 1758.1950000000002}, {\"counts\": 116, \"counts_end\": 116.0, \"counts_start\": 0.0, \"cuts\": 1796.605}, {\"counts\": 189, \"counts_end\": 189.0, \"counts_start\": 0.0, \"cuts\": 1835.015}, {\"counts\": 96, \"counts_end\": 96.0, \"counts_start\": 0.0, \"cuts\": 1873.425}, {\"counts\": 91, \"counts_end\": 91.0, \"counts_start\": 0.0, \"cuts\": 1911.835}, {\"counts\": 125, \"counts_end\": 125.0, \"counts_start\": 0.0, \"cuts\": 1950.2450000000001}, {\"counts\": 93, \"counts_end\": 93.0, \"counts_start\": 0.0, \"cuts\": 1988.655}, {\"counts\": 62, \"counts_end\": 62.0, \"counts_start\": 0.0, \"cuts\": 2027.065}, {\"counts\": 43, \"counts_end\": 43.0, \"counts_start\": 0.0, \"cuts\": 2065.4750000000004}, {\"counts\": 75, \"counts_end\": 75.0, \"counts_start\": 0.0, \"cuts\": 2103.885}, {\"counts\": 58, \"counts_end\": 58.0, \"counts_start\": 0.0, \"cuts\": 2142.295}, {\"counts\": 42, \"counts_end\": 42.0, \"counts_start\": 0.0, \"cuts\": 2180.705}, {\"counts\": 43, \"counts_end\": 43.0, \"counts_start\": 0.0, \"cuts\": 2219.115}, {\"counts\": 44, \"counts_end\": 44.0, \"counts_start\": 0.0, \"cuts\": 2257.525}, {\"counts\": 54, \"counts_end\": 54.0, \"counts_start\": 0.0, \"cuts\": 2295.935}, {\"counts\": 119, \"counts_end\": 119.0, \"counts_start\": 0.0, \"cuts\": 2334.3450000000003}, {\"counts\": 52, \"counts_end\": 52.0, \"counts_start\": 0.0, \"cuts\": 2372.755}, {\"counts\": 109, \"counts_end\": 109.0, \"counts_start\": 0.0, \"cuts\": 2411.1650000000004}, {\"counts\": 63, \"counts_end\": 63.0, \"counts_start\": 0.0, \"cuts\": 2449.5750000000003}, {\"counts\": 66, \"counts_end\": 66.0, \"counts_start\": 0.0, \"cuts\": 2487.9849999999997}, {\"counts\": 61, \"counts_end\": 61.0, \"counts_start\": 0.0, \"cuts\": 2526.395}, {\"counts\": 43, \"counts_end\": 43.0, \"counts_start\": 0.0, \"cuts\": 2564.805}, {\"counts\": 24, \"counts_end\": 24.0, \"counts_start\": 0.0, \"cuts\": 2603.215}, {\"counts\": 28, \"counts_end\": 28.0, \"counts_start\": 0.0, \"cuts\": 2641.625}, {\"counts\": 40, \"counts_end\": 40.0, \"counts_start\": 0.0, \"cuts\": 2680.035}, {\"counts\": 52, \"counts_end\": 52.0, \"counts_start\": 0.0, \"cuts\": 2718.445}, {\"counts\": 75, \"counts_end\": 75.0, \"counts_start\": 0.0, \"cuts\": 2756.855}, {\"counts\": 45, \"counts_end\": 45.0, \"counts_start\": 0.0, \"cuts\": 2795.2650000000003}, {\"counts\": 24, \"counts_end\": 24.0, \"counts_start\": 0.0, \"cuts\": 2833.675}, {\"counts\": 44, \"counts_end\": 44.0, \"counts_start\": 0.0, \"cuts\": 2872.085}, {\"counts\": 9, \"counts_end\": 9.0, \"counts_start\": 0.0, \"cuts\": 2910.4950000000003}, {\"counts\": 25, \"counts_end\": 25.0, \"counts_start\": 0.0, \"cuts\": 2948.9049999999997}, {\"counts\": 17, \"counts_end\": 17.0, \"counts_start\": 0.0, \"cuts\": 2987.315}, {\"counts\": 19, \"counts_end\": 19.0, \"counts_start\": 0.0, \"cuts\": 3025.725}, {\"counts\": 11, \"counts_end\": 11.0, \"counts_start\": 0.0, \"cuts\": 3064.1349999999998}, {\"counts\": 5, \"counts_end\": 5.0, \"counts_start\": 0.0, \"cuts\": 3102.545}, {\"counts\": 7, \"counts_end\": 7.0, \"counts_start\": 0.0, \"cuts\": 3140.955}, {\"counts\": 36, \"counts_end\": 36.0, \"counts_start\": 0.0, \"cuts\": 3179.3650000000002}, {\"counts\": 6, \"counts_end\": 6.0, \"counts_start\": 0.0, \"cuts\": 3217.775}, {\"counts\": 49, \"counts_end\": 49.0, \"counts_start\": 0.0, \"cuts\": 3256.185}, {\"counts\": 10, \"counts_end\": 10.0, \"counts_start\": 0.0, \"cuts\": 3294.5950000000003}, {\"counts\": 18, \"counts_end\": 18.0, \"counts_start\": 0.0, \"cuts\": 3333.005}, {\"counts\": 14, \"counts_end\": 14.0, \"counts_start\": 0.0, \"cuts\": 3371.4150000000004}, {\"counts\": 17, \"counts_end\": 17.0, \"counts_start\": 0.0, \"cuts\": 3409.8250000000003}, {\"counts\": 31, \"counts_end\": 31.0, \"counts_start\": 0.0, \"cuts\": 3448.2349999999997}, {\"counts\": 43, \"counts_end\": 43.0, \"counts_start\": 0.0, \"cuts\": 3486.645}, {\"counts\": 23, \"counts_end\": 23.0, \"counts_start\": 0.0, \"cuts\": 3525.055}, {\"counts\": 34, \"counts_end\": 34.0, \"counts_start\": 0.0, \"cuts\": 3563.465}, {\"counts\": 28, \"counts_end\": 28.0, \"counts_start\": 0.0, \"cuts\": 3601.875}, {\"counts\": 8, \"counts_end\": 8.0, \"counts_start\": 0.0, \"cuts\": 3640.285}, {\"counts\": 16, \"counts_end\": 16.0, \"counts_start\": 0.0, \"cuts\": 3678.695}, {\"counts\": 10, \"counts_end\": 10.0, \"counts_start\": 0.0, \"cuts\": 3717.105}, {\"counts\": 9, \"counts_end\": 9.0, \"counts_start\": 0.0, \"cuts\": 3755.5150000000003}, {\"counts\": 5, \"counts_end\": 5.0, \"counts_start\": 0.0, \"cuts\": 3793.925}, {\"counts\": 6, \"counts_end\": 6.0, \"counts_start\": 0.0, \"cuts\": 3832.335}, {\"counts\": 4, \"counts_end\": 4.0, \"counts_start\": 0.0, \"cuts\": 3870.7450000000003}, {\"counts\": 8, \"counts_end\": 8.0, \"counts_start\": 0.0, \"cuts\": 3909.155}, {\"counts\": 1, \"counts_end\": 1.0, \"counts_start\": 0.0, \"cuts\": 3947.565}, {\"counts\": 16, \"counts_end\": 16.0, \"counts_start\": 0.0, \"cuts\": 3985.975}, {\"counts\": 8, \"counts_end\": 8.0, \"counts_start\": 0.0, \"cuts\": 4024.3849999999998}, {\"counts\": 33, \"counts_end\": 33.0, \"counts_start\": 0.0, \"cuts\": 4062.795}, {\"counts\": 13, \"counts_end\": 13.0, \"counts_start\": 0.0, \"cuts\": 4101.205}]}, {\"name\": \"source_1\", \"values\": [{\"names\": \"p5\", \"stats\": 351.0}, {\"names\": \"p50\", \"stats\": 939.0}, {\"names\": \"avg\", \"stats\": 1071.7782710173447}, {\"names\": \"p95\", \"stats\": 2419.0}]}, {\"name\": \"source_2\", \"values\": [{\"Null/NaN/Inf%\": 0.0, \"Null/NaN/Inf%_end\": 0.0, \"Null/NaN/Inf%_start\": 0.0}]}], \"signals\": [{\"name\": \"concat_0_height\", \"value\": 300}, {\"name\": \"view_2_height\", \"value\": 20}, {\"name\": \"unit\", \"value\": {}, \"on\": [{\"events\": \"pointermove\", \"update\": \"isTuple(group()) ? group() : unit\"}]}, {\"name\": \"param_1\", \"update\": \"{\\\"cuts\\\": param_1_cuts, \\\"counts\\\": param_1_counts, \\\"Null/NaN/Inf%\\\": param_1_Null_NaN_Inf_}\"}, {\"name\": \"param_1_cuts\"}, {\"name\": \"param_1_counts\"}, {\"name\": \"param_1_Null_NaN_Inf_\"}], \"marks\": [{\"type\": \"group\", \"name\": \"concat_0_group\", \"encode\": {\"update\": {\"width\": {\"signal\": \"width\"}, \"height\": {\"signal\": \"concat_0_height\"}}}, \"signals\": [{\"name\": \"param_1_cuts\", \"on\": [{\"events\": [{\"source\": \"view\", \"type\": \"dblclick\"}], \"update\": \"null\"}, {\"events\": {\"signal\": \"param_1_translate_delta\"}, \"update\": \"panLinear(param_1_translate_anchor.extent_x, -param_1_translate_delta.x / width)\"}, {\"events\": {\"signal\": \"param_1_zoom_delta\"}, \"update\": \"zoomLinear(domain(\\\"concat_0_x\\\"), param_1_zoom_anchor.x, param_1_zoom_delta)\"}], \"push\": \"outer\"}, {\"name\": \"param_1_counts\", \"on\": [{\"events\": [{\"source\": \"view\", \"type\": \"dblclick\"}], \"update\": \"null\"}, {\"events\": {\"signal\": \"param_1_translate_delta\"}, \"update\": \"panLinear(param_1_translate_anchor.extent_y, param_1_translate_delta.y / concat_0_height)\"}, {\"events\": {\"signal\": \"param_1_zoom_delta\"}, \"update\": \"zoomLinear(domain(\\\"concat_0_y\\\"), param_1_zoom_anchor.y, param_1_zoom_delta)\"}], \"push\": \"outer\"}, {\"name\": \"param_1_tuple\", \"on\": [{\"events\": [{\"signal\": \"param_1_cuts || param_1_counts\"}], \"update\": \"param_1_cuts && param_1_counts ? {unit: \\\"view_1\\\", fields: param_1_tuple_fields, values: [param_1_cuts,param_1_counts]} : null\"}]}, {\"name\": \"param_1_tuple_fields\", \"value\": [{\"field\": \"cuts\", \"channel\": \"x\", \"type\": \"R\"}, {\"field\": \"counts\", \"channel\": \"y\", \"type\": \"R\"}]}, {\"name\": \"param_1_translate_anchor\", \"value\": {}, \"on\": [{\"events\": [{\"source\": \"scope\", \"type\": \"pointerdown\"}], \"update\": \"{x: x(unit), y: y(unit), extent_x: domain(\\\"concat_0_x\\\"), extent_y: domain(\\\"concat_0_y\\\")}\"}]}, {\"name\": \"param_1_translate_delta\", \"value\": {}, \"on\": [{\"events\": [{\"source\": \"window\", \"between\": [{\"source\": \"scope\", \"type\": \"pointerdown\"}, {\"source\": \"window\", \"type\": \"pointerup\"}], \"consume\": true, \"type\": \"pointermove\"}], \"update\": \"{x: param_1_translate_anchor.x - x(unit), y: param_1_translate_anchor.y - y(unit)}\"}]}, {\"name\": \"param_1_zoom_anchor\", \"on\": [{\"events\": [{\"source\": \"scope\", \"type\": \"wheel\", \"consume\": true}], \"update\": \"{x: invert(\\\"concat_0_x\\\", x(unit)), y: invert(\\\"concat_0_y\\\", y(unit))}\"}]}, {\"name\": \"param_1_zoom_delta\", \"on\": [{\"events\": [{\"source\": \"scope\", \"type\": \"wheel\", \"consume\": true}], \"update\": \"pow(1.001, event.deltaY * pow(16, event.deltaMode))\", \"force\": true}]}, {\"name\": \"param_1_modify\", \"on\": [{\"events\": {\"signal\": \"param_1_tuple\"}, \"update\": \"modify(\\\"param_1_store\\\", param_1_tuple, true)\"}]}], \"marks\": [{\"type\": \"rect\", \"name\": \"view_1_marks\", \"from\": {\"data\": \"source_0\"}, \"encode\": {\"update\": {\"fill\": {\"value\": \"#4c78a8\"}, \"y2\": {\"field\": \"counts_start\", \"scale\": \"concat_0_y\"}, \"width\": {\"value\": 15}, \"tooltip\": {\"signal\": \"{\\\"CutValue\\\": format(datum[\\\"cuts\\\"], \\\"\\\"), \\\"counts\\\": format(datum[\\\"counts\\\"], \\\"\\\")}\"}, \"y\": {\"field\": \"counts_end\", \"scale\": \"concat_0_y\"}, \"xc\": {\"field\": \"cuts\", \"scale\": \"concat_0_x\"}}}, \"style\": [\"bar\"], \"clip\": true, \"interactive\": true}, {\"type\": \"rule\", \"name\": \"concat_0_layer_1_marks\", \"from\": {\"data\": \"source_1\"}, \"encode\": {\"update\": {\"x\": {\"field\": \"stats\", \"scale\": \"concat_0_x\"}, \"tooltip\": {\"signal\": \"{\\\"Stats\\\": isValid(datum[\\\"names\\\"]) ? datum[\\\"names\\\"] : \\\"\\\"+datum[\\\"names\\\"], \\\"Value\\\": format(datum[\\\"stats\\\"], \\\"\\\")}\"}, \"y\": {\"value\": 0}, \"stroke\": {\"value\": \"red\"}, \"y2\": {\"field\": {\"signal\": null, \"datum\": null, \"group\": \"height\", \"parent\": null}}}}, \"style\": [\"rule\"], \"clip\": true, \"interactive\": true}], \"axes\": [{\"scale\": \"concat_0_y\", \"zindex\": 0, \"minExtent\": 0, \"grid\": true, \"tickCount\": {\"signal\": \"ceil(concat_0_height/40)\"}, \"ticks\": false, \"maxExtent\": 0, \"orient\": \"left\", \"labels\": false, \"gridScale\": \"concat_0_x\", \"aria\": false, \"domain\": false}, {\"scale\": \"concat_0_x\", \"zindex\": 0, \"labelFlush\": true, \"labelOverlap\": true, \"orient\": \"bottom\", \"tickCount\": 50, \"grid\": false}, {\"scale\": \"concat_0_y\", \"labelOverlap\": true, \"grid\": false, \"orient\": \"left\", \"tickCount\": {\"signal\": \"ceil(concat_0_height/40)\"}, \"zindex\": 0, \"title\": \"counts\"}], \"title\": {\"text\": \"Distribution for EMI\", \"frame\": \"group\"}, \"style\": \"cell\"}, {\"type\": \"group\", \"name\": \"view_2_group\", \"encode\": {\"update\": {\"width\": {\"signal\": \"width\"}, \"height\": {\"signal\": \"view_2_height\"}}}, \"signals\": [{\"name\": \"height\", \"update\": \"view_2_height\"}, {\"name\": \"param_1_Null_NaN_Inf_\", \"on\": [{\"events\": [{\"source\": \"view\", \"type\": \"dblclick\"}], \"update\": \"null\"}, {\"events\": {\"signal\": \"param_1_translate_delta\"}, \"update\": \"panLinear(param_1_translate_anchor.extent_x, -param_1_translate_delta.x / width)\"}, {\"events\": {\"signal\": \"param_1_zoom_delta\"}, \"update\": \"zoomLinear(domain(\\\"view_2_x\\\"), param_1_zoom_anchor.x, param_1_zoom_delta)\"}], \"push\": \"outer\"}, {\"name\": \"param_1_tuple\", \"on\": [{\"events\": [{\"signal\": \"param_1_Null_NaN_Inf_\"}], \"update\": \"param_1_Null_NaN_Inf_ ? {unit: \\\"view_2\\\", fields: param_1_tuple_fields, values: [param_1_Null_NaN_Inf_]} : null\"}]}, {\"name\": \"param_1_tuple_fields\", \"value\": [{\"field\": \"Null/NaN/Inf%\", \"channel\": \"x\", \"type\": \"R\"}]}, {\"name\": \"param_1_translate_anchor\", \"value\": {}, \"on\": [{\"events\": [{\"source\": \"scope\", \"type\": \"pointerdown\"}], \"update\": \"{x: x(unit), y: y(unit), extent_x: domain(\\\"view_2_x\\\")}\"}]}, {\"name\": \"param_1_translate_delta\", \"value\": {}, \"on\": [{\"events\": [{\"source\": \"window\", \"between\": [{\"source\": \"scope\", \"type\": \"pointerdown\"}, {\"source\": \"window\", \"type\": \"pointerup\"}], \"type\": \"pointermove\", \"consume\": true}], \"update\": \"{x: param_1_translate_anchor.x - x(unit), y: param_1_translate_anchor.y - y(unit)}\"}]}, {\"name\": \"param_1_zoom_anchor\", \"on\": [{\"events\": [{\"source\": \"scope\", \"type\": \"wheel\", \"consume\": true}], \"update\": \"{x: invert(\\\"view_2_x\\\", x(unit))}\"}]}, {\"name\": \"param_1_zoom_delta\", \"on\": [{\"events\": [{\"source\": \"scope\", \"consume\": true, \"type\": \"wheel\"}], \"update\": \"pow(1.001, event.deltaY * pow(16, event.deltaMode))\", \"force\": true}]}, {\"name\": \"param_1_modify\", \"on\": [{\"events\": {\"signal\": \"param_1_tuple\"}, \"update\": \"modify(\\\"param_1_store\\\", param_1_tuple, true)\"}]}], \"marks\": [{\"type\": \"rect\", \"name\": \"view_2_marks\", \"from\": {\"data\": \"source_2\"}, \"encode\": {\"update\": {\"tooltip\": {\"signal\": \"{\\\"Null/NaN/Inf%\\\": format(datum[\\\"Null/NaN/Inf%\\\"], \\\"\\\")}\"}, \"height\": {\"signal\": \"0.9 * height\"}, \"opacity\": {\"value\": 0.5}, \"fill\": {\"value\": \"#4c78a8\"}, \"x\": {\"field\": \"Null/NaN/Inf%_end\", \"scale\": \"view_2_x\"}, \"x2\": {\"field\": \"Null/NaN/Inf%_start\", \"scale\": \"view_2_x\"}, \"yc\": {\"signal\": \"view_2_height\", \"mult\": 0.5}}}, \"interactive\": true, \"style\": [\"bar\"], \"clip\": true}], \"axes\": [{\"scale\": \"view_2_x\", \"domain\": false, \"ticks\": false, \"maxExtent\": 0, \"minExtent\": 0, \"aria\": false, \"tickCount\": {\"signal\": \"ceil(width/40)\"}, \"labels\": false, \"grid\": true, \"zindex\": 0, \"orient\": \"bottom\"}, {\"scale\": \"view_2_x\", \"labelOverlap\": true, \"tickCount\": {\"signal\": \"ceil(width/40)\"}, \"zindex\": 0, \"orient\": \"bottom\", \"title\": \"Null/NaN/Inf%\", \"grid\": false, \"labelFlush\": true}], \"style\": \"cell\"}], \"scales\": [{\"name\": \"concat_0_x\", \"type\": \"linear\", \"domain\": {\"fields\": [{\"data\": \"source_0\", \"field\": \"cuts\"}, {\"data\": \"source_1\", \"field\": \"stats\"}]}, \"range\": [0, {\"signal\": \"width\"}], \"zero\": false, \"padding\": 5, \"domainRaw\": {\"signal\": \"param_1[\\\"cuts\\\"]\"}, \"nice\": true}, {\"name\": \"concat_0_y\", \"type\": \"linear\", \"domain\": {\"data\": \"source_0\", \"fields\": [\"counts_start\", \"counts_end\"]}, \"range\": [{\"signal\": \"concat_0_height\"}, 0], \"domainRaw\": {\"signal\": \"param_1[\\\"counts\\\"]\"}, \"domainMin\": 0, \"zero\": true}, {\"name\": \"view_2_x\", \"type\": \"linear\", \"domain\": [0, 1], \"range\": [0, {\"signal\": \"width\"}], \"domainRaw\": {\"signal\": \"param_1[\\\"Null/NaN/Inf%\\\"]\"}, \"zero\": true}], \"width\": 300, \"padding\": 5, \"background\": \"white\", \"layout\": {\"padding\": 20, \"columns\": 1, \"bounds\": \"full\", \"align\": \"each\"}}, {\"mode\": \"vega\"});\n",
       "</script>"
      ],
      "text/plain": [
       "alt.VConcatChart(...)"
      ]
     },
     "execution_count": 4,
     "metadata": {},
     "output_type": "execute_result"
    }
   ],
   "source": [
    "df_bins, plot = dia.plot_dist(\n",
    "    \"EMI\",\n",
    "    n_bins = 100, \n",
    "    density = False, \n",
    "    filter_by = pl.col(\"EMI\").is_between(pl.col(\"EMI\").quantile(0.01), pl.col(\"EMI\").quantile(0.99)),\n",
    "    show_bad_values = True\n",
    ") # .interactive()\n",
    "\n",
    "plot.interactive()"
   ]
  },
  {
   "cell_type": "code",
   "execution_count": 5,
   "metadata": {},
   "outputs": [
    {
     "data": {
      "text/html": [
       "\n",
       "<style>\n",
       "  #altair-viz-325f6f14e58e46b08dece62450843eda.vega-embed {\n",
       "    width: 100%;\n",
       "    display: flex;\n",
       "  }\n",
       "\n",
       "  #altair-viz-325f6f14e58e46b08dece62450843eda.vega-embed details,\n",
       "  #altair-viz-325f6f14e58e46b08dece62450843eda.vega-embed details summary {\n",
       "    position: relative;\n",
       "  }\n",
       "</style>\n",
       "<div id=\"altair-viz-325f6f14e58e46b08dece62450843eda\"></div>\n",
       "<script type=\"text/javascript\">\n",
       "  var VEGA_DEBUG = (typeof VEGA_DEBUG == \"undefined\") ? {} : VEGA_DEBUG;\n",
       "  (function(spec, embedOpt){\n",
       "    let outputDiv = document.currentScript.previousElementSibling;\n",
       "    if (outputDiv.id !== \"altair-viz-325f6f14e58e46b08dece62450843eda\") {\n",
       "      outputDiv = document.getElementById(\"altair-viz-325f6f14e58e46b08dece62450843eda\");\n",
       "    }\n",
       "    const paths = {\n",
       "      \"vega\": \"https://cdn.jsdelivr.net/npm/vega@5?noext\",\n",
       "      \"vega-lib\": \"https://cdn.jsdelivr.net/npm/vega-lib?noext\",\n",
       "      \"vega-lite\": \"https://cdn.jsdelivr.net/npm/vega-lite@5.20.1?noext\",\n",
       "      \"vega-embed\": \"https://cdn.jsdelivr.net/npm/vega-embed@6?noext\",\n",
       "    };\n",
       "\n",
       "    function maybeLoadScript(lib, version) {\n",
       "      var key = `${lib.replace(\"-\", \"\")}_version`;\n",
       "      return (VEGA_DEBUG[key] == version) ?\n",
       "        Promise.resolve(paths[lib]) :\n",
       "        new Promise(function(resolve, reject) {\n",
       "          var s = document.createElement('script');\n",
       "          document.getElementsByTagName(\"head\")[0].appendChild(s);\n",
       "          s.async = true;\n",
       "          s.onload = () => {\n",
       "            VEGA_DEBUG[key] = version;\n",
       "            return resolve(paths[lib]);\n",
       "          };\n",
       "          s.onerror = () => reject(`Error loading script: ${paths[lib]}`);\n",
       "          s.src = paths[lib];\n",
       "        });\n",
       "    }\n",
       "\n",
       "    function showError(err) {\n",
       "      outputDiv.innerHTML = `<div class=\"error\" style=\"color:red;\">${err}</div>`;\n",
       "      throw err;\n",
       "    }\n",
       "\n",
       "    function displayChart(vegaEmbed) {\n",
       "      vegaEmbed(outputDiv, spec, embedOpt)\n",
       "        .catch(err => showError(`Javascript Error: ${err.message}<br>This usually means there's a typo in your chart specification. See the javascript console for the full traceback.`));\n",
       "    }\n",
       "\n",
       "    if(typeof define === \"function\" && define.amd) {\n",
       "      requirejs.config({paths});\n",
       "      require([\"vega-embed\"], displayChart, err => showError(`Error loading script: ${err.message}`));\n",
       "    } else {\n",
       "      maybeLoadScript(\"vega\", \"5\")\n",
       "        .then(() => maybeLoadScript(\"vega-lite\", \"5.20.1\"))\n",
       "        .then(() => maybeLoadScript(\"vega-embed\", \"6\"))\n",
       "        .catch(showError)\n",
       "        .then(() => displayChart(vegaEmbed));\n",
       "    }\n",
       "  })({\"$schema\": \"https://vega.github.io/schema/vega/v5.json\", \"data\": [{\"name\": \"param_2_store\"}, {\"name\": \"source_0\", \"values\": [{\"counts\": 979, \"counts_end\": 979.0, \"counts_start\": 0.0, \"cuts\": 319.57}, {\"counts\": 1576, \"counts_end\": 1576.0, \"counts_start\": 0.0, \"cuts\": 453.95000000000005}, {\"counts\": 2577, \"counts_end\": 2577.0, \"counts_start\": 0.0, \"cuts\": 588.33}, {\"counts\": 1707, \"counts_end\": 1707.0, \"counts_start\": 0.0, \"cuts\": 722.7099999999999}, {\"counts\": 2437, \"counts_end\": 2437.0, \"counts_start\": 0.0, \"cuts\": 857.09}, {\"counts\": 2891, \"counts_end\": 2891.0, \"counts_start\": 0.0, \"cuts\": 991.47}, {\"counts\": 2351, \"counts_end\": 2351.0, \"counts_start\": 0.0, \"cuts\": 1125.85}, {\"counts\": 1937, \"counts_end\": 1937.0, \"counts_start\": 0.0, \"cuts\": 1260.23}, {\"counts\": 987, \"counts_end\": 987.0, \"counts_start\": 0.0, \"cuts\": 1394.6100000000001}, {\"counts\": 1164, \"counts_end\": 1164.0, \"counts_start\": 0.0, \"cuts\": 1528.99}, {\"counts\": 466, \"counts_end\": 466.0, \"counts_start\": 0.0, \"cuts\": 1663.3700000000001}, {\"counts\": 587, \"counts_end\": 587.0, \"counts_start\": 0.0, \"cuts\": 1797.75}, {\"counts\": 435, \"counts_end\": 435.0, \"counts_start\": 0.0, \"cuts\": 1932.13}, {\"counts\": 260, \"counts_end\": 260.0, \"counts_start\": 0.0, \"cuts\": 2066.5099999999998}, {\"counts\": 189, \"counts_end\": 189.0, \"counts_start\": 0.0, \"cuts\": 2200.89}, {\"counts\": 246, \"counts_end\": 246.0, \"counts_start\": 0.0, \"cuts\": 2335.27}, {\"counts\": 271, \"counts_end\": 271.0, \"counts_start\": 0.0, \"cuts\": 2469.65}, {\"counts\": 147, \"counts_end\": 147.0, \"counts_start\": 0.0, \"cuts\": 2604.0299999999997}, {\"counts\": 184, \"counts_end\": 184.0, \"counts_start\": 0.0, \"cuts\": 2738.4100000000003}, {\"counts\": 124, \"counts_end\": 124.0, \"counts_start\": 0.0, \"cuts\": 2872.7900000000004}, {\"counts\": 64, \"counts_end\": 64.0, \"counts_start\": 0.0, \"cuts\": 3007.17}, {\"counts\": 29, \"counts_end\": 29.0, \"counts_start\": 0.0, \"cuts\": 3141.55}, {\"counts\": 93, \"counts_end\": 93.0, \"counts_start\": 0.0, \"cuts\": 3275.9300000000003}, {\"counts\": 57, \"counts_end\": 57.0, \"counts_start\": 0.0, \"cuts\": 3410.31}, {\"counts\": 97, \"counts_end\": 97.0, \"counts_start\": 0.0, \"cuts\": 3544.69}, {\"counts\": 86, \"counts_end\": 86.0, \"counts_start\": 0.0, \"cuts\": 3679.07}, {\"counts\": 28, \"counts_end\": 28.0, \"counts_start\": 0.0, \"cuts\": 3813.4500000000003}, {\"counts\": 15, \"counts_end\": 15.0, \"counts_start\": 0.0, \"cuts\": 3947.8300000000004}, {\"counts\": 70, \"counts_end\": 70.0, \"counts_start\": 0.0, \"cuts\": 4082.2099999999996}, {\"counts\": 69, \"counts_end\": 69.0, \"counts_start\": 0.0, \"cuts\": 4216.59}, {\"counts\": 21, \"counts_end\": 21.0, \"counts_start\": 0.0, \"cuts\": 4350.97}, {\"counts\": 11, \"counts_end\": 11.0, \"counts_start\": 0.0, \"cuts\": 4485.35}, {\"counts\": 23, \"counts_end\": 23.0, \"counts_start\": 0.0, \"cuts\": 4619.7300000000005}, {\"counts\": 10, \"counts_end\": 10.0, \"counts_start\": 0.0, \"cuts\": 4754.110000000001}, {\"counts\": 11, \"counts_end\": 11.0, \"counts_start\": 0.0, \"cuts\": 4888.49}, {\"counts\": 19, \"counts_end\": 19.0, \"counts_start\": 0.0, \"cuts\": 5022.87}, {\"counts\": 9, \"counts_end\": 9.0, \"counts_start\": 0.0, \"cuts\": 5157.25}, {\"counts\": 11, \"counts_end\": 11.0, \"counts_start\": 0.0, \"cuts\": 5291.63}, {\"counts\": 1, \"counts_end\": 1.0, \"counts_start\": 0.0, \"cuts\": 5426.01}, {\"counts\": 5, \"counts_end\": 5.0, \"counts_start\": 0.0, \"cuts\": 5560.39}, {\"counts\": 7, \"counts_end\": 7.0, \"counts_start\": 0.0, \"cuts\": 5694.77}, {\"counts\": 1, \"counts_end\": 1.0, \"counts_start\": 0.0, \"cuts\": 5829.15}, {\"counts\": 2, \"counts_end\": 2.0, \"counts_start\": 0.0, \"cuts\": 5963.53}, {\"counts\": 5, \"counts_end\": 5.0, \"counts_start\": 0.0, \"cuts\": 6097.91}, {\"counts\": 3, \"counts_end\": 3.0, \"counts_start\": 0.0, \"cuts\": 6366.67}, {\"counts\": 1, \"counts_end\": 1.0, \"counts_start\": 0.0, \"cuts\": 6501.05}, {\"counts\": 2, \"counts_end\": 2.0, \"counts_start\": 0.0, \"cuts\": 6635.429999999999}, {\"counts\": 6, \"counts_end\": 6.0, \"counts_start\": 0.0, \"cuts\": 6769.8099999999995}, {\"counts\": 1, \"counts_end\": 1.0, \"counts_start\": 0.0, \"cuts\": 7038.570000000001}, {\"counts\": 1, \"counts_end\": 1.0, \"counts_start\": 0.0, \"cuts\": 7979.23}, {\"counts\": 1, \"counts_end\": 1.0, \"counts_start\": 0.0, \"cuts\": 9726.17}, {\"counts\": 2, \"counts_end\": 2.0, \"counts_start\": 0.0, \"cuts\": 13623.190000000002}]}, {\"name\": \"source_1\", \"values\": [{\"names\": \"p5\", \"stats\": 344.0}, {\"names\": \"p50\", \"stats\": 941.0}, {\"names\": \"avg\", \"stats\": 1101.4662416950978}, {\"names\": \"p95\", \"stats\": 2545.0}]}, {\"name\": \"source_2\", \"values\": [{\"Null/NaN/Inf%\": 0.6804613199833603, \"Null/NaN/Inf%_end\": 0.6804613199833603, \"Null/NaN/Inf%_start\": 0.0}]}], \"signals\": [{\"name\": \"concat_0_height\", \"value\": 300}, {\"name\": \"view_4_height\", \"value\": 20}, {\"name\": \"unit\", \"value\": {}, \"on\": [{\"events\": \"pointermove\", \"update\": \"isTuple(group()) ? group() : unit\"}]}, {\"name\": \"param_2\", \"update\": \"{\\\"cuts\\\": param_2_cuts, \\\"counts\\\": param_2_counts, \\\"Null/NaN/Inf%\\\": param_2_Null_NaN_Inf_}\"}, {\"name\": \"param_2_cuts\"}, {\"name\": \"param_2_counts\"}, {\"name\": \"param_2_Null_NaN_Inf_\"}], \"marks\": [{\"type\": \"group\", \"name\": \"concat_0_group\", \"encode\": {\"update\": {\"height\": {\"signal\": \"concat_0_height\"}, \"width\": {\"signal\": \"width\"}}}, \"signals\": [{\"name\": \"param_2_cuts\", \"on\": [{\"events\": [{\"source\": \"view\", \"type\": \"dblclick\"}], \"update\": \"null\"}, {\"events\": {\"signal\": \"param_2_translate_delta\"}, \"update\": \"panLinear(param_2_translate_anchor.extent_x, -param_2_translate_delta.x / width)\"}, {\"events\": {\"signal\": \"param_2_zoom_delta\"}, \"update\": \"zoomLinear(domain(\\\"concat_0_x\\\"), param_2_zoom_anchor.x, param_2_zoom_delta)\"}], \"push\": \"outer\"}, {\"name\": \"param_2_counts\", \"on\": [{\"events\": [{\"source\": \"view\", \"type\": \"dblclick\"}], \"update\": \"null\"}, {\"events\": {\"signal\": \"param_2_translate_delta\"}, \"update\": \"panLinear(param_2_translate_anchor.extent_y, param_2_translate_delta.y / concat_0_height)\"}, {\"events\": {\"signal\": \"param_2_zoom_delta\"}, \"update\": \"zoomLinear(domain(\\\"concat_0_y\\\"), param_2_zoom_anchor.y, param_2_zoom_delta)\"}], \"push\": \"outer\"}, {\"name\": \"param_2_tuple\", \"on\": [{\"events\": [{\"signal\": \"param_2_cuts || param_2_counts\"}], \"update\": \"param_2_cuts && param_2_counts ? {unit: \\\"view_3\\\", fields: param_2_tuple_fields, values: [param_2_cuts,param_2_counts]} : null\"}]}, {\"name\": \"param_2_tuple_fields\", \"value\": [{\"field\": \"cuts\", \"channel\": \"x\", \"type\": \"R\"}, {\"field\": \"counts\", \"channel\": \"y\", \"type\": \"R\"}]}, {\"name\": \"param_2_translate_anchor\", \"value\": {}, \"on\": [{\"events\": [{\"source\": \"scope\", \"type\": \"pointerdown\"}], \"update\": \"{x: x(unit), y: y(unit), extent_x: domain(\\\"concat_0_x\\\"), extent_y: domain(\\\"concat_0_y\\\")}\"}]}, {\"name\": \"param_2_translate_delta\", \"value\": {}, \"on\": [{\"events\": [{\"source\": \"window\", \"between\": [{\"source\": \"scope\", \"type\": \"pointerdown\"}, {\"source\": \"window\", \"type\": \"pointerup\"}], \"consume\": true, \"type\": \"pointermove\"}], \"update\": \"{x: param_2_translate_anchor.x - x(unit), y: param_2_translate_anchor.y - y(unit)}\"}]}, {\"name\": \"param_2_zoom_anchor\", \"on\": [{\"events\": [{\"source\": \"scope\", \"type\": \"wheel\", \"consume\": true}], \"update\": \"{x: invert(\\\"concat_0_x\\\", x(unit)), y: invert(\\\"concat_0_y\\\", y(unit))}\"}]}, {\"name\": \"param_2_zoom_delta\", \"on\": [{\"events\": [{\"source\": \"scope\", \"consume\": true, \"type\": \"wheel\"}], \"update\": \"pow(1.001, event.deltaY * pow(16, event.deltaMode))\", \"force\": true}]}, {\"name\": \"param_2_modify\", \"on\": [{\"events\": {\"signal\": \"param_2_tuple\"}, \"update\": \"modify(\\\"param_2_store\\\", param_2_tuple, true)\"}]}], \"marks\": [{\"type\": \"rect\", \"name\": \"view_3_marks\", \"from\": {\"data\": \"source_0\"}, \"encode\": {\"update\": {\"xc\": {\"field\": \"cuts\", \"scale\": \"concat_0_x\"}, \"fill\": {\"value\": \"#4c78a8\"}, \"y2\": {\"field\": \"counts_start\", \"scale\": \"concat_0_y\"}, \"width\": {\"value\": 15}, \"y\": {\"field\": \"counts_end\", \"scale\": \"concat_0_y\"}, \"tooltip\": {\"signal\": \"{\\\"CutValue\\\": format(datum[\\\"cuts\\\"], \\\"\\\"), \\\"counts\\\": format(datum[\\\"counts\\\"], \\\"\\\")}\"}}}, \"clip\": true, \"style\": [\"bar\"], \"interactive\": true}, {\"type\": \"rule\", \"name\": \"concat_0_layer_1_marks\", \"from\": {\"data\": \"source_1\"}, \"encode\": {\"update\": {\"tooltip\": {\"signal\": \"{\\\"Stats\\\": isValid(datum[\\\"names\\\"]) ? datum[\\\"names\\\"] : \\\"\\\"+datum[\\\"names\\\"], \\\"Value\\\": format(datum[\\\"stats\\\"], \\\"\\\")}\"}, \"x\": {\"field\": \"stats\", \"scale\": \"concat_0_x\"}, \"y\": {\"value\": 0}, \"y2\": {\"field\": {\"signal\": null, \"datum\": null, \"group\": \"height\", \"parent\": null}}, \"stroke\": {\"value\": \"red\"}}}, \"interactive\": true, \"clip\": true, \"style\": [\"rule\"]}], \"axes\": [{\"scale\": \"concat_0_y\", \"tickCount\": {\"signal\": \"ceil(concat_0_height/40)\"}, \"grid\": true, \"maxExtent\": 0, \"domain\": false, \"minExtent\": 0, \"ticks\": false, \"zindex\": 0, \"aria\": false, \"labels\": false, \"gridScale\": \"concat_0_x\", \"orient\": \"left\"}, {\"scale\": \"concat_0_x\", \"labelFlush\": true, \"labelOverlap\": true, \"orient\": \"bottom\", \"zindex\": 0, \"tickCount\": 50, \"grid\": false}, {\"scale\": \"concat_0_y\", \"zindex\": 0, \"tickCount\": {\"signal\": \"ceil(concat_0_height/40)\"}, \"orient\": \"left\", \"grid\": false, \"title\": \"counts\", \"labelOverlap\": true}], \"title\": {\"text\": \"Distribution for EMI\", \"frame\": \"group\"}, \"style\": \"cell\"}, {\"type\": \"group\", \"name\": \"view_4_group\", \"encode\": {\"update\": {\"height\": {\"signal\": \"view_4_height\"}, \"width\": {\"signal\": \"width\"}}}, \"signals\": [{\"name\": \"height\", \"update\": \"view_4_height\"}, {\"name\": \"param_2_Null_NaN_Inf_\", \"on\": [{\"events\": [{\"source\": \"view\", \"type\": \"dblclick\"}], \"update\": \"null\"}, {\"events\": {\"signal\": \"param_2_translate_delta\"}, \"update\": \"panLinear(param_2_translate_anchor.extent_x, -param_2_translate_delta.x / width)\"}, {\"events\": {\"signal\": \"param_2_zoom_delta\"}, \"update\": \"zoomLinear(domain(\\\"view_4_x\\\"), param_2_zoom_anchor.x, param_2_zoom_delta)\"}], \"push\": \"outer\"}, {\"name\": \"param_2_tuple\", \"on\": [{\"events\": [{\"signal\": \"param_2_Null_NaN_Inf_\"}], \"update\": \"param_2_Null_NaN_Inf_ ? {unit: \\\"view_4\\\", fields: param_2_tuple_fields, values: [param_2_Null_NaN_Inf_]} : null\"}]}, {\"name\": \"param_2_tuple_fields\", \"value\": [{\"field\": \"Null/NaN/Inf%\", \"channel\": \"x\", \"type\": \"R\"}]}, {\"name\": \"param_2_translate_anchor\", \"value\": {}, \"on\": [{\"events\": [{\"source\": \"scope\", \"type\": \"pointerdown\"}], \"update\": \"{x: x(unit), y: y(unit), extent_x: domain(\\\"view_4_x\\\")}\"}]}, {\"name\": \"param_2_translate_delta\", \"value\": {}, \"on\": [{\"events\": [{\"source\": \"window\", \"between\": [{\"source\": \"scope\", \"type\": \"pointerdown\"}, {\"source\": \"window\", \"type\": \"pointerup\"}], \"consume\": true, \"type\": \"pointermove\"}], \"update\": \"{x: param_2_translate_anchor.x - x(unit), y: param_2_translate_anchor.y - y(unit)}\"}]}, {\"name\": \"param_2_zoom_anchor\", \"on\": [{\"events\": [{\"source\": \"scope\", \"consume\": true, \"type\": \"wheel\"}], \"update\": \"{x: invert(\\\"view_4_x\\\", x(unit))}\"}]}, {\"name\": \"param_2_zoom_delta\", \"on\": [{\"events\": [{\"source\": \"scope\", \"consume\": true, \"type\": \"wheel\"}], \"update\": \"pow(1.001, event.deltaY * pow(16, event.deltaMode))\", \"force\": true}]}, {\"name\": \"param_2_modify\", \"on\": [{\"events\": {\"signal\": \"param_2_tuple\"}, \"update\": \"modify(\\\"param_2_store\\\", param_2_tuple, true)\"}]}], \"marks\": [{\"type\": \"rect\", \"name\": \"view_4_marks\", \"from\": {\"data\": \"source_2\"}, \"encode\": {\"update\": {\"opacity\": {\"value\": 0.5}, \"tooltip\": {\"signal\": \"{\\\"Null/NaN/Inf%\\\": format(datum[\\\"Null/NaN/Inf%\\\"], \\\"\\\")}\"}, \"x\": {\"field\": \"Null/NaN/Inf%_end\", \"scale\": \"view_4_x\"}, \"fill\": {\"value\": \"#4c78a8\"}, \"yc\": {\"signal\": \"view_4_height\", \"mult\": 0.5}, \"x2\": {\"field\": \"Null/NaN/Inf%_start\", \"scale\": \"view_4_x\"}, \"height\": {\"signal\": \"0.9 * height\"}}}, \"clip\": true, \"style\": [\"bar\"], \"interactive\": true}], \"axes\": [{\"scale\": \"view_4_x\", \"orient\": \"bottom\", \"labels\": false, \"zindex\": 0, \"grid\": true, \"ticks\": false, \"aria\": false, \"maxExtent\": 0, \"domain\": false, \"tickCount\": {\"signal\": \"ceil(width/40)\"}, \"minExtent\": 0}, {\"scale\": \"view_4_x\", \"labelOverlap\": true, \"grid\": false, \"tickCount\": {\"signal\": \"ceil(width/40)\"}, \"zindex\": 0, \"orient\": \"bottom\", \"title\": \"Null/NaN/Inf%\", \"labelFlush\": true}], \"style\": \"cell\"}], \"scales\": [{\"name\": \"concat_0_x\", \"type\": \"linear\", \"domain\": {\"fields\": [{\"data\": \"source_0\", \"field\": \"cuts\"}, {\"data\": \"source_1\", \"field\": \"stats\"}]}, \"range\": [0, {\"signal\": \"width\"}], \"domainRaw\": {\"signal\": \"param_2[\\\"cuts\\\"]\"}, \"nice\": true, \"zero\": false, \"padding\": 5}, {\"name\": \"concat_0_y\", \"type\": \"linear\", \"domain\": {\"data\": \"source_0\", \"fields\": [\"counts_start\", \"counts_end\"]}, \"range\": [{\"signal\": \"concat_0_height\"}, 0], \"domainMin\": 0, \"domainRaw\": {\"signal\": \"param_2[\\\"counts\\\"]\"}, \"zero\": true}, {\"name\": \"view_4_x\", \"type\": \"linear\", \"domain\": [0, 1], \"range\": [0, {\"signal\": \"width\"}], \"domainRaw\": {\"signal\": \"param_2[\\\"Null/NaN/Inf%\\\"]\"}, \"zero\": true}], \"width\": 300, \"background\": \"white\", \"padding\": 5, \"layout\": {\"padding\": 20, \"columns\": 1, \"bounds\": \"full\", \"align\": \"each\"}}, {\"mode\": \"vega\"});\n",
       "</script>"
      ],
      "text/plain": [
       "alt.VConcatChart(...)"
      ]
     },
     "execution_count": 5,
     "metadata": {},
     "output_type": "execute_result"
    }
   ],
   "source": [
    "from polars_ds.diagnosis import DIA\n",
    "\n",
    "dia = DIA(df)\n",
    "df_bins, plot = dia.plot_dist(\n",
    "    \"EMI\",\n",
    "    n_bins = 100, \n",
    "    density = False, \n",
    "    show_bad_values = True\n",
    ")\n",
    "plot.interactive()"
   ]
  },
  {
   "cell_type": "code",
   "execution_count": 6,
   "metadata": {},
   "outputs": [
    {
     "data": {
      "text/html": [
       "<div><style>\n",
       ".dataframe > thead > tr,\n",
       ".dataframe > tbody > tr {\n",
       "  text-align: right;\n",
       "  white-space: pre-wrap;\n",
       "}\n",
       "</style>\n",
       "<small>shape: (52, 2)</small><table border=\"1\" class=\"dataframe\"><thead><tr><th>counts</th><th>cuts</th></tr><tr><td>u32</td><td>f64</td></tr></thead><tbody><tr><td>979</td><td>319.57</td></tr><tr><td>1576</td><td>453.95</td></tr><tr><td>2577</td><td>588.33</td></tr><tr><td>1707</td><td>722.71</td></tr><tr><td>2437</td><td>857.09</td></tr><tr><td>&hellip;</td><td>&hellip;</td></tr><tr><td>6</td><td>6769.81</td></tr><tr><td>1</td><td>7038.57</td></tr><tr><td>1</td><td>7979.23</td></tr><tr><td>1</td><td>9726.17</td></tr><tr><td>2</td><td>13623.19</td></tr></tbody></table></div>"
      ],
      "text/plain": [
       "shape: (52, 2)\n",
       "┌────────┬──────────┐\n",
       "│ counts ┆ cuts     │\n",
       "│ ---    ┆ ---      │\n",
       "│ u32    ┆ f64      │\n",
       "╞════════╪══════════╡\n",
       "│ 979    ┆ 319.57   │\n",
       "│ 1576   ┆ 453.95   │\n",
       "│ 2577   ┆ 588.33   │\n",
       "│ 1707   ┆ 722.71   │\n",
       "│ 2437   ┆ 857.09   │\n",
       "│ …      ┆ …        │\n",
       "│ 6      ┆ 6769.81  │\n",
       "│ 1      ┆ 7038.57  │\n",
       "│ 1      ┆ 7979.23  │\n",
       "│ 1      ┆ 9726.17  │\n",
       "│ 2      ┆ 13623.19 │\n",
       "└────────┴──────────┘"
      ]
     },
     "execution_count": 6,
     "metadata": {},
     "output_type": "execute_result"
    }
   ],
   "source": [
    "df_bins"
   ]
  },
  {
   "cell_type": "code",
   "execution_count": null,
   "metadata": {},
   "outputs": [],
   "source": [
    "plot.interactive()"
   ]
  },
  {
   "cell_type": "code",
   "execution_count": null,
   "metadata": {},
   "outputs": [],
   "source": [
    "import matplotlib.pyplot as plt\n",
    "\n",
    "cnt, cuts, plot = plt.hist(\n",
    "    df.filter(\n",
    "        pl.col(\"EMI\").is_between(pl.col(\"EMI\").quantile(0.01), pl.col(\"EMI\").quantile(0.99))\n",
    "    )[\"EMI\"].to_numpy(),\n",
    "    bins = 20,\n",
    "    density = False\n",
    ")"
   ]
  },
  {
   "cell_type": "code",
   "execution_count": null,
   "metadata": {},
   "outputs": [],
   "source": [
    "cuts"
   ]
  },
  {
   "cell_type": "code",
   "execution_count": null,
   "metadata": {},
   "outputs": [],
   "source": [
    "df.select(\n",
    "    min = pl.col(\"EMI\").min(),\n",
    "    max = pl.col(\"EMI\").max()\n",
    ")"
   ]
  },
  {
   "cell_type": "code",
   "execution_count": null,
   "metadata": {},
   "outputs": [],
   "source": []
  }
 ],
 "metadata": {
  "kernelspec": {
   "display_name": ".venv",
   "language": "python",
   "name": "python3"
  },
  "language_info": {
   "codemirror_mode": {
    "name": "ipython",
    "version": 3
   },
   "file_extension": ".py",
   "mimetype": "text/x-python",
   "name": "python",
   "nbconvert_exporter": "python",
   "pygments_lexer": "ipython3",
   "version": "3.12.6"
  }
 },
 "nbformat": 4,
 "nbformat_minor": 2
}
