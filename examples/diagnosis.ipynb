{
 "cells": [
  {
   "cell_type": "markdown",
   "metadata": {},
   "source": [
    "# Diagnosis and DIA (Data Inspection Assistant)\n",
    "\n",
    "If you cannot import this module, please try: pip install \"polars_ds[plot]\"\n",
    "\n",
    "The dataset used for dependency detection can be found on github.\n",
    "\n",
    "The plotly plots cannot be rendered on github."
   ]
  },
  {
   "cell_type": "code",
   "execution_count": 2,
   "metadata": {},
   "outputs": [],
   "source": [
    "import polars as pl\n",
    "import polars_ds as pds\n",
    "from polars_ds.diagnosis import DIA"
   ]
  },
  {
   "cell_type": "code",
   "execution_count": null,
   "metadata": {},
   "outputs": [],
   "source": [
    "df = pds.frame(size=1_000_000).select(\n",
    "    pds.random(0.0, 12.0).alias(\"uniform_1\"),\n",
    "    pds.random(0.0, 1.0).alias(\"uniform_2\"),\n",
    "    pds.random_exp(0.5).alias(\"exp\"),\n",
    "    pds.random_normal(0.0, 1.0).alias(\"normal\"),\n",
    "    pds.random_normal(0.0, 1000.0).alias(\"fat_normal\"),\n",
    ").with_columns(\n",
    "    pl.concat_list(\"uniform_2\", 1 - pl.col(\"uniform_2\")).alias(\"list_prob\")\n",
    ")\n",
    "df.head()"
   ]
  },
  {
   "cell_type": "code",
   "execution_count": 3,
   "metadata": {},
   "outputs": [],
   "source": [
    "dia = DIA(df)"
   ]
  },
  {
   "cell_type": "code",
   "execution_count": null,
   "metadata": {},
   "outputs": [],
   "source": [
    "dia.special_values_report()"
   ]
  },
  {
   "cell_type": "code",
   "execution_count": null,
   "metadata": {},
   "outputs": [],
   "source": [
    "# Only shows for numerical columns\n",
    "dia.numeric_profile(histogram=True)"
   ]
  },
  {
   "cell_type": "code",
   "execution_count": null,
   "metadata": {},
   "outputs": [],
   "source": [
    "# Don't compute histogram. Use Polars as output format instead of GT\n",
    "dia.numeric_profile(histogram=False, gt=False) "
   ]
  },
  {
   "cell_type": "code",
   "execution_count": null,
   "metadata": {},
   "outputs": [],
   "source": [
    "dia.infer_corr()"
   ]
  },
  {
   "cell_type": "code",
   "execution_count": null,
   "metadata": {},
   "outputs": [],
   "source": [
    "dia.infer_corr(method=\"kendall\")"
   ]
  },
  {
   "cell_type": "code",
   "execution_count": null,
   "metadata": {},
   "outputs": [],
   "source": [
    "dia.meta()"
   ]
  },
  {
   "cell_type": "code",
   "execution_count": null,
   "metadata": {},
   "outputs": [],
   "source": [
    "# Uniform_2 can potentially be a probability score column (e.g. output of predict_proba, but taking values only for class =1)\n",
    "# list_prob can potentially be a 2-class probability column (e.g. output of predict_proba)\n",
    "dia.infer_prob()"
   ]
  },
  {
   "cell_type": "markdown",
   "metadata": {},
   "source": [
    "# Dependency Detection, Null Distributions, Distribution Comparisons\n",
    "\n",
    "Does knowing values in column A tell us values in column B?"
   ]
  },
  {
   "cell_type": "code",
   "execution_count": null,
   "metadata": {},
   "outputs": [],
   "source": [
    "df = pl.read_parquet(\"dependency.parquet\")\n",
    "df.head()"
   ]
  },
  {
   "cell_type": "code",
   "execution_count": null,
   "metadata": {},
   "outputs": [],
   "source": [
    "df.shape"
   ]
  },
  {
   "cell_type": "code",
   "execution_count": 13,
   "metadata": {},
   "outputs": [],
   "source": [
    "dia = DIA(df)"
   ]
  },
  {
   "cell_type": "code",
   "execution_count": null,
   "metadata": {},
   "outputs": [],
   "source": [
    "dia.infer_dependency()"
   ]
  },
  {
   "cell_type": "code",
   "execution_count": null,
   "metadata": {},
   "outputs": [],
   "source": [
    "dia.plot_dependency()"
   ]
  },
  {
   "cell_type": "code",
   "execution_count": null,
   "metadata": {},
   "outputs": [],
   "source": [
    "# ID implies everything, of course, because ID is unique.\n",
    "# So let's not plot it\n",
    "dia.plot_dependency(subset=pl.all().exclude(\"ID\"))"
   ]
  },
  {
   "cell_type": "code",
   "execution_count": null,
   "metadata": {},
   "outputs": [],
   "source": [
    "dia.str_stats()"
   ]
  },
  {
   "cell_type": "code",
   "execution_count": null,
   "metadata": {},
   "outputs": [],
   "source": [
    "dia.numeric_profile(iqr_multiplier=2)"
   ]
  },
  {
   "cell_type": "code",
   "execution_count": null,
   "metadata": {},
   "outputs": [],
   "source": [
    "import polars.selectors as cs\n",
    "\n",
    "dia.corr(subset=[\"Monthly_Income\", \"Existing_EMI\"])"
   ]
  },
  {
   "cell_type": "code",
   "execution_count": null,
   "metadata": {},
   "outputs": [],
   "source": [
    "dia.corr(subset=cs.all(), method=\"spearman\")"
   ]
  },
  {
   "cell_type": "code",
   "execution_count": null,
   "metadata": {},
   "outputs": [],
   "source": [
    "dia.plot_corr(subset=[\"Monthly_Income\", \"Existing_EMI\"], method=\"spearman\")"
   ]
  },
  {
   "cell_type": "code",
   "execution_count": null,
   "metadata": {},
   "outputs": [],
   "source": [
    "dia.plot_corr(subset=[\"Monthly_Income\", \"Existing_EMI\"], method=\"xi\")"
   ]
  },
  {
   "cell_type": "code",
   "execution_count": null,
   "metadata": {},
   "outputs": [],
   "source": [
    "# Checks whether nulls in one feature happens at the same time as nulls in other features\n",
    "dia.plot_null_distribution(cs.numeric())"
   ]
  },
  {
   "cell_type": "code",
   "execution_count": null,
   "metadata": {},
   "outputs": [],
   "source": [
    "# Checks whether nulls in one feature happens at the same time as nulls in other features\n",
    "dia.plot_null_distribution(\n",
    "    cs.numeric(), \n",
    "    condition= (pl.col(\"Source_Category\") == 'B')\n",
    ")"
   ]
  },
  {
   "cell_type": "code",
   "execution_count": null,
   "metadata": {},
   "outputs": [],
   "source": [
    "dia.plot_distribution(\n",
    "    \"EMI\", \n",
    "    by = \"Primary_Bank_Type\", \n",
    "    n_bins=100, \n",
    "    density=False, \n",
    "    condition= pl.col(\"EMI\").is_between(pl.col(\"EMI\").quantile(0.01), pl.col(\"EMI\").quantile(0.99)),\n",
    "    # Additional Plotly's kwargs can also be passed \n",
    "    opacity = 0.7\n",
    ")"
   ]
  },
  {
   "cell_type": "code",
   "execution_count": null,
   "metadata": {},
   "outputs": [],
   "source": [
    "dia.plot_distribution(\n",
    "    pl.col(\"EMI\").sqrt().alias(\"EMI_SQRT\"), \n",
    "    by = \"Primary_Bank_Type\", \n",
    "    n_bins=100, \n",
    "    density=False, \n",
    "    condition= pl.col(\"EMI\").is_between(pl.col(\"EMI\").quantile(0.01), pl.col(\"EMI\").quantile(0.99)),\n",
    "    # Additional Plotly's kwargs can also be passed \n",
    "    opacity = 0.7\n",
    ")"
   ]
  },
  {
   "cell_type": "code",
   "execution_count": null,
   "metadata": {},
   "outputs": [],
   "source": [
    "dia.plot_distribution(\n",
    "    pl.col(\"EMI\"), \n",
    "    by = pl.col(\"Loan_Amount\") > 10_000, \n",
    "    n_bins=100, \n",
    "    density=False, \n",
    "    condition= pl.col(\"EMI\").is_between(pl.col(\"EMI\").quantile(0.01), pl.col(\"EMI\").quantile(0.99)),\n",
    "    # Additional Plotly's kwargs can also be passed \n",
    "    opacity = 0.7\n",
    ")"
   ]
  },
  {
   "cell_type": "markdown",
   "metadata": {},
   "source": [
    "# Classic Iris Dataset"
   ]
  },
  {
   "cell_type": "code",
   "execution_count": 1,
   "metadata": {},
   "outputs": [
    {
     "data": {
      "text/html": [
       "<div><style>\n",
       ".dataframe > thead > tr,\n",
       ".dataframe > tbody > tr {\n",
       "  text-align: right;\n",
       "  white-space: pre-wrap;\n",
       "}\n",
       "</style>\n",
       "<small>shape: (5, 5)</small><table border=\"1\" class=\"dataframe\"><thead><tr><th>sepal length (cm)</th><th>sepal width (cm)</th><th>petal length (cm)</th><th>petal width (cm)</th><th>species</th></tr><tr><td>f64</td><td>f64</td><td>f64</td><td>f64</td><td>str</td></tr></thead><tbody><tr><td>5.1</td><td>3.5</td><td>1.4</td><td>0.2</td><td>&quot;setosa&quot;</td></tr><tr><td>4.9</td><td>3.0</td><td>1.4</td><td>0.2</td><td>&quot;setosa&quot;</td></tr><tr><td>4.7</td><td>3.2</td><td>1.3</td><td>0.2</td><td>&quot;setosa&quot;</td></tr><tr><td>4.6</td><td>3.1</td><td>1.5</td><td>0.2</td><td>&quot;setosa&quot;</td></tr><tr><td>5.0</td><td>3.6</td><td>1.4</td><td>0.2</td><td>&quot;setosa&quot;</td></tr></tbody></table></div>"
      ],
      "text/plain": [
       "shape: (5, 5)\n",
       "┌───────────────────┬──────────────────┬───────────────────┬──────────────────┬─────────┐\n",
       "│ sepal length (cm) ┆ sepal width (cm) ┆ petal length (cm) ┆ petal width (cm) ┆ species │\n",
       "│ ---               ┆ ---              ┆ ---               ┆ ---              ┆ ---     │\n",
       "│ f64               ┆ f64              ┆ f64               ┆ f64              ┆ str     │\n",
       "╞═══════════════════╪══════════════════╪═══════════════════╪══════════════════╪═════════╡\n",
       "│ 5.1               ┆ 3.5              ┆ 1.4               ┆ 0.2              ┆ setosa  │\n",
       "│ 4.9               ┆ 3.0              ┆ 1.4               ┆ 0.2              ┆ setosa  │\n",
       "│ 4.7               ┆ 3.2              ┆ 1.3               ┆ 0.2              ┆ setosa  │\n",
       "│ 4.6               ┆ 3.1              ┆ 1.5               ┆ 0.2              ┆ setosa  │\n",
       "│ 5.0               ┆ 3.6              ┆ 1.4               ┆ 0.2              ┆ setosa  │\n",
       "└───────────────────┴──────────────────┴───────────────────┴──────────────────┴─────────┘"
      ]
     },
     "execution_count": 1,
     "metadata": {},
     "output_type": "execute_result"
    }
   ],
   "source": [
    "import polars as pl\n",
    "import polars_ds as pds\n",
    "from polars_ds.diagnosis import DIA\n",
    "# Only used to get dataset.\n",
    "from sklearn import datasets\n",
    "\n",
    "\n",
    "dataset = datasets.load_iris()\n",
    "df = pl.from_numpy(dataset.data, schema = dataset.feature_names).with_columns(\n",
    "    pl.Series(values=dataset.target).alias(\"species\")\n",
    ").with_columns(\n",
    "    pl.when(pl.col(\"species\") == 0).then(pl.lit('setosa'))\n",
    "    .when(pl.col(\"species\") == 1).then(pl.lit('versicolor'))\n",
    "    .when(pl.col(\"species\") == 2).then(pl.lit('virginica')).alias(\"species\")\n",
    ")\n",
    "df.head()"
   ]
  },
  {
   "cell_type": "code",
   "execution_count": 2,
   "metadata": {},
   "outputs": [
    {
     "data": {
      "application/vnd.plotly.v1+json": {
       "config": {
        "plotlyServerURL": "https://plot.ly"
       },
       "data": [
        {
         "hovertemplate": "color=setosa<br>pc1=%{x}<br>pc2=%{y}<extra></extra>",
         "legendgroup": "setosa",
         "marker": {
          "color": "#636efa",
          "symbol": "circle"
         },
         "mode": "markers",
         "name": "setosa",
         "orientation": "v",
         "showlegend": true,
         "type": "scatter",
         "x": [
          -2.6841256259695343,
          -2.714141687294324,
          -2.8889905690592945,
          -2.745342855641408,
          -2.728716536554528,
          -2.2808596328444906,
          -2.8205377507406073,
          -2.626144973146631,
          -2.886382731780551,
          -2.672755797820952,
          -2.5069470906518534,
          -2.612755230908721,
          -2.786109266188016,
          -3.2238037438656506,
          -2.6447503899420277,
          -2.3860390335311314,
          -2.623527875224424,
          -2.6482967062543796,
          -2.1998203236175784,
          -2.587986399878767,
          -2.310256215242516,
          -2.5437052287571547,
          -3.21593941564861,
          -2.302733182226205,
          -2.3557540491237705,
          -2.5066689069258197,
          -2.4688200731213374,
          -2.562319906196014,
          -2.6395347153845403,
          -2.631989387274344,
          -2.5873984766893505,
          -2.409932497002173,
          -2.64886233434991,
          -2.598736749100585,
          -2.636926878105797,
          -2.866241652118668,
          -2.62523804985037,
          -2.80068411544822,
          -2.9805020437819914,
          -2.590006313968094,
          -2.7701024260278997,
          -2.849368705043102,
          -2.997406546594905,
          -2.405614485097484,
          -2.2094892377836772,
          -2.714451426757706,
          -2.538148258998938,
          -2.839462167642848,
          -2.5430857498303907,
          -2.7033597823351574
         ],
         "xaxis": "x",
         "y": [
          0.3193972465851026,
          -0.17700122506477878,
          -0.14494942608555605,
          -0.3182989792519147,
          0.3267545129349214,
          0.7413304490629165,
          -0.08946138452856735,
          0.16338495969833014,
          -0.5783117541867023,
          -0.11377424587411542,
          0.6450688986485754,
          0.014729939161375938,
          -0.23511200020171696,
          -0.5113945870063807,
          1.1787646364375768,
          1.338062330400654,
          0.8106795141812593,
          0.3118491445933562,
          0.8728390389622124,
          0.5135603087492784,
          0.3913459356538957,
          0.4329960632790296,
          0.13346806953852744,
          0.09870885481410079,
          -0.03728185967738118,
          -0.14601688049526634,
          0.13095148943525164,
          0.36771885743420135,
          0.31203998023528434,
          -0.19696122492431317,
          -0.2043184912741321,
          0.4109242642295743,
          0.8133638202969637,
          1.0931457594493585,
          -0.1213223478658618,
          0.06936447158008213,
          0.5993700213794252,
          0.2686437377979839,
          -0.48795834442861397,
          0.2290438368270141,
          0.2635275337442579,
          -0.9409605736411953,
          -0.3419260574716084,
          0.18887142893026165,
          0.43666314163918923,
          -0.2502082041852097,
          0.5037711444614391,
          -0.22794556949382616,
          0.5794100215198908,
          0.1077060824994131
         ],
         "yaxis": "y"
        },
        {
         "hovertemplate": "color=versicolor<br>pc1=%{x}<br>pc2=%{y}<extra></extra>",
         "legendgroup": "versicolor",
         "marker": {
          "color": "#EF553B",
          "symbol": "circle"
         },
         "mode": "markers",
         "name": "versicolor",
         "orientation": "v",
         "showlegend": true,
         "type": "scatter",
         "x": [
          1.2848256888583545,
          0.9324885323123212,
          1.4643023219913969,
          0.18331771995837307,
          1.0881032577116687,
          0.6416690842580801,
          1.0950606626324495,
          -0.7491226698296551,
          1.0441318260534382,
          -0.008745404082893602,
          -0.5078408838353238,
          0.5116985574476001,
          0.2649765081120491,
          0.984934510470893,
          -0.17392537168176536,
          0.9278607809442504,
          0.6602837616969396,
          0.23610499331767412,
          0.944733728019816,
          0.04522697629870235,
          1.1162831773500523,
          0.35788841799730997,
          1.2981838753589166,
          0.9217289224470397,
          0.7148533259114144,
          0.9001743731721701,
          1.3320244367220915,
          1.5578021550660732,
          0.8132906498175442,
          -0.3055837780243066,
          -0.06812649206836115,
          -0.1896224723784995,
          0.13642871155801747,
          1.3800264359155139,
          0.588006443339866,
          0.806858312500415,
          1.2206908824443559,
          0.8150952357666025,
          0.245957679886695,
          0.1664132171454593,
          0.46480028840378174,
          0.8908151984694521,
          0.23054802355945794,
          -0.7045317592446615,
          0.35698149470104956,
          0.3319344799450609,
          0.37621565106667293,
          0.6425760075543405,
          -0.9064698649488339,
          0.2990008418781458
         ],
         "xaxis": "x",
         "y": [
          0.6851604704673088,
          0.31833363826262906,
          0.5042628153092041,
          -0.8279590118206319,
          0.07459067519771627,
          -0.41824687156867857,
          0.28346827006152914,
          -1.0048909611818948,
          0.22836189978839572,
          -0.7230819050048339,
          -1.265971190526393,
          -0.10398123549904022,
          -0.5500364636804744,
          -0.12481785412635732,
          -0.2548542087025889,
          0.46717949444151063,
          -0.3529696657238503,
          -0.333610766824915,
          -0.5431455507797665,
          -0.583834377471864,
          -0.08461685219478807,
          -0.06892503165601367,
          -0.3277873083339175,
          -0.18273779362136733,
          0.14905594436978498,
          0.3285044738343234,
          0.24444087601634348,
          0.26749544731025454,
          -0.16335030068761616,
          -0.3682621897545874,
          -0.7051721317994649,
          -0.6802867635281329,
          -0.3140324382492363,
          -0.420954287313882,
          -0.48428741998121816,
          0.19418231471315098,
          0.40761959361100714,
          -0.37203705990950164,
          -0.26852439662201466,
          -0.6819267248636264,
          -0.6707115445117202,
          -0.03446444436826874,
          -0.4043858480073248,
          -1.0122482275317135,
          -0.5049100933371083,
          -0.21265468378116953,
          -0.2932189292514187,
          0.017738190112416525,
          -0.7560933665990134,
          -0.3488978064503357
         ],
         "yaxis": "y"
        },
        {
         "hovertemplate": "color=virginica<br>pc1=%{x}<br>pc2=%{y}<extra></extra>",
         "legendgroup": "virginica",
         "marker": {
          "color": "#00cc96",
          "symbol": "circle"
         },
         "mode": "markers",
         "name": "virginica",
         "orientation": "v",
         "showlegend": true,
         "type": "scatter",
         "x": [
          2.531192727803631,
          1.415235876703905,
          2.616676015995693,
          1.9715310530434382,
          2.350005920044643,
          3.3970387360532617,
          0.521232243909776,
          2.932587068993692,
          2.3212288165733805,
          2.916750966786076,
          1.6617741536365342,
          1.8034019529650938,
          2.165591796080148,
          1.3461635794584539,
          1.5859282238732235,
          1.9044563747934298,
          1.949689059399072,
          3.487055364290283,
          3.7956454220728877,
          1.3007917126376598,
          2.4278179130660487,
          1.199001105465563,
          3.4999200389245413,
          1.388766131691468,
          2.2754305038722076,
          2.614090473810834,
          1.2585081605114905,
          1.2911320591150235,
          2.1236087227738976,
          2.3880030160034704,
          2.8416727781038738,
          3.230673661432096,
          2.1594376424890527,
          1.4441612423295125,
          1.781294810045115,
          3.0764999316871915,
          2.1442433143020847,
          1.9050981488140784,
          1.1693263393415028,
          2.107611143257245,
          2.314154705235603,
          1.922267800902604,
          1.415235876703905,
          2.563013375077479,
          2.418746182732828,
          1.9441097945469707,
          1.52716661481452,
          1.7643457170444319,
          1.9009416142184261,
          1.3901888619479166
         ],
         "xaxis": "x",
         "y": [
          -0.009849109498802616,
          -0.5749163475464896,
          0.3439031513417339,
          -0.17972790435224575,
          -0.04026094714253152,
          0.5508366730280545,
          -1.1927587270006454,
          0.35550000297749573,
          -0.2438315023106911,
          0.7827919488152776,
          0.24222840775506677,
          -0.21563761733355574,
          0.21627558507402433,
          -0.7768183473443397,
          -0.5396407140267191,
          0.1192506920919723,
          0.04194325966321114,
          1.1757393297134284,
          0.2573229734204785,
          -0.7611496364350635,
          0.3781960126170502,
          -0.6060915277579306,
          0.4606740989118943,
          -0.20439932735215108,
          0.3349906058216769,
          0.5609013551230774,
          -0.17970479472274675,
          -0.11666865117401157,
          -0.20972947667730316,
          0.464639804708736,
          0.37526916719510267,
          1.3741650867930468,
          -0.21727757866904956,
          -0.14341341045758077,
          -0.4999016810781367,
          0.688085677571175,
          0.14006420108978943,
          0.049300526013029956,
          -0.16499026202310968,
          0.37228787196079727,
          0.1836512791690183,
          0.40920346681606173,
          -0.5749163475464896,
          0.2778626029291942,
          0.30479819785469137,
          0.1875323028006048,
          -0.3753169825804887,
          0.07885885451847549,
          0.11662795851202322,
          -0.2826609379905507
         ],
         "yaxis": "y"
        }
       ],
       "layout": {
        "legend": {
         "title": {
          "text": "color"
         },
         "tracegroupgap": 0
        },
        "template": {
         "data": {
          "bar": [
           {
            "error_x": {
             "color": "#2a3f5f"
            },
            "error_y": {
             "color": "#2a3f5f"
            },
            "marker": {
             "line": {
              "color": "#E5ECF6",
              "width": 0.5
             },
             "pattern": {
              "fillmode": "overlay",
              "size": 10,
              "solidity": 0.2
             }
            },
            "type": "bar"
           }
          ],
          "barpolar": [
           {
            "marker": {
             "line": {
              "color": "#E5ECF6",
              "width": 0.5
             },
             "pattern": {
              "fillmode": "overlay",
              "size": 10,
              "solidity": 0.2
             }
            },
            "type": "barpolar"
           }
          ],
          "carpet": [
           {
            "aaxis": {
             "endlinecolor": "#2a3f5f",
             "gridcolor": "white",
             "linecolor": "white",
             "minorgridcolor": "white",
             "startlinecolor": "#2a3f5f"
            },
            "baxis": {
             "endlinecolor": "#2a3f5f",
             "gridcolor": "white",
             "linecolor": "white",
             "minorgridcolor": "white",
             "startlinecolor": "#2a3f5f"
            },
            "type": "carpet"
           }
          ],
          "choropleth": [
           {
            "colorbar": {
             "outlinewidth": 0,
             "ticks": ""
            },
            "type": "choropleth"
           }
          ],
          "contour": [
           {
            "colorbar": {
             "outlinewidth": 0,
             "ticks": ""
            },
            "colorscale": [
             [
              0,
              "#0d0887"
             ],
             [
              0.1111111111111111,
              "#46039f"
             ],
             [
              0.2222222222222222,
              "#7201a8"
             ],
             [
              0.3333333333333333,
              "#9c179e"
             ],
             [
              0.4444444444444444,
              "#bd3786"
             ],
             [
              0.5555555555555556,
              "#d8576b"
             ],
             [
              0.6666666666666666,
              "#ed7953"
             ],
             [
              0.7777777777777778,
              "#fb9f3a"
             ],
             [
              0.8888888888888888,
              "#fdca26"
             ],
             [
              1,
              "#f0f921"
             ]
            ],
            "type": "contour"
           }
          ],
          "contourcarpet": [
           {
            "colorbar": {
             "outlinewidth": 0,
             "ticks": ""
            },
            "type": "contourcarpet"
           }
          ],
          "heatmap": [
           {
            "colorbar": {
             "outlinewidth": 0,
             "ticks": ""
            },
            "colorscale": [
             [
              0,
              "#0d0887"
             ],
             [
              0.1111111111111111,
              "#46039f"
             ],
             [
              0.2222222222222222,
              "#7201a8"
             ],
             [
              0.3333333333333333,
              "#9c179e"
             ],
             [
              0.4444444444444444,
              "#bd3786"
             ],
             [
              0.5555555555555556,
              "#d8576b"
             ],
             [
              0.6666666666666666,
              "#ed7953"
             ],
             [
              0.7777777777777778,
              "#fb9f3a"
             ],
             [
              0.8888888888888888,
              "#fdca26"
             ],
             [
              1,
              "#f0f921"
             ]
            ],
            "type": "heatmap"
           }
          ],
          "heatmapgl": [
           {
            "colorbar": {
             "outlinewidth": 0,
             "ticks": ""
            },
            "colorscale": [
             [
              0,
              "#0d0887"
             ],
             [
              0.1111111111111111,
              "#46039f"
             ],
             [
              0.2222222222222222,
              "#7201a8"
             ],
             [
              0.3333333333333333,
              "#9c179e"
             ],
             [
              0.4444444444444444,
              "#bd3786"
             ],
             [
              0.5555555555555556,
              "#d8576b"
             ],
             [
              0.6666666666666666,
              "#ed7953"
             ],
             [
              0.7777777777777778,
              "#fb9f3a"
             ],
             [
              0.8888888888888888,
              "#fdca26"
             ],
             [
              1,
              "#f0f921"
             ]
            ],
            "type": "heatmapgl"
           }
          ],
          "histogram": [
           {
            "marker": {
             "pattern": {
              "fillmode": "overlay",
              "size": 10,
              "solidity": 0.2
             }
            },
            "type": "histogram"
           }
          ],
          "histogram2d": [
           {
            "colorbar": {
             "outlinewidth": 0,
             "ticks": ""
            },
            "colorscale": [
             [
              0,
              "#0d0887"
             ],
             [
              0.1111111111111111,
              "#46039f"
             ],
             [
              0.2222222222222222,
              "#7201a8"
             ],
             [
              0.3333333333333333,
              "#9c179e"
             ],
             [
              0.4444444444444444,
              "#bd3786"
             ],
             [
              0.5555555555555556,
              "#d8576b"
             ],
             [
              0.6666666666666666,
              "#ed7953"
             ],
             [
              0.7777777777777778,
              "#fb9f3a"
             ],
             [
              0.8888888888888888,
              "#fdca26"
             ],
             [
              1,
              "#f0f921"
             ]
            ],
            "type": "histogram2d"
           }
          ],
          "histogram2dcontour": [
           {
            "colorbar": {
             "outlinewidth": 0,
             "ticks": ""
            },
            "colorscale": [
             [
              0,
              "#0d0887"
             ],
             [
              0.1111111111111111,
              "#46039f"
             ],
             [
              0.2222222222222222,
              "#7201a8"
             ],
             [
              0.3333333333333333,
              "#9c179e"
             ],
             [
              0.4444444444444444,
              "#bd3786"
             ],
             [
              0.5555555555555556,
              "#d8576b"
             ],
             [
              0.6666666666666666,
              "#ed7953"
             ],
             [
              0.7777777777777778,
              "#fb9f3a"
             ],
             [
              0.8888888888888888,
              "#fdca26"
             ],
             [
              1,
              "#f0f921"
             ]
            ],
            "type": "histogram2dcontour"
           }
          ],
          "mesh3d": [
           {
            "colorbar": {
             "outlinewidth": 0,
             "ticks": ""
            },
            "type": "mesh3d"
           }
          ],
          "parcoords": [
           {
            "line": {
             "colorbar": {
              "outlinewidth": 0,
              "ticks": ""
             }
            },
            "type": "parcoords"
           }
          ],
          "pie": [
           {
            "automargin": true,
            "type": "pie"
           }
          ],
          "scatter": [
           {
            "fillpattern": {
             "fillmode": "overlay",
             "size": 10,
             "solidity": 0.2
            },
            "type": "scatter"
           }
          ],
          "scatter3d": [
           {
            "line": {
             "colorbar": {
              "outlinewidth": 0,
              "ticks": ""
             }
            },
            "marker": {
             "colorbar": {
              "outlinewidth": 0,
              "ticks": ""
             }
            },
            "type": "scatter3d"
           }
          ],
          "scattercarpet": [
           {
            "marker": {
             "colorbar": {
              "outlinewidth": 0,
              "ticks": ""
             }
            },
            "type": "scattercarpet"
           }
          ],
          "scattergeo": [
           {
            "marker": {
             "colorbar": {
              "outlinewidth": 0,
              "ticks": ""
             }
            },
            "type": "scattergeo"
           }
          ],
          "scattergl": [
           {
            "marker": {
             "colorbar": {
              "outlinewidth": 0,
              "ticks": ""
             }
            },
            "type": "scattergl"
           }
          ],
          "scattermapbox": [
           {
            "marker": {
             "colorbar": {
              "outlinewidth": 0,
              "ticks": ""
             }
            },
            "type": "scattermapbox"
           }
          ],
          "scatterpolar": [
           {
            "marker": {
             "colorbar": {
              "outlinewidth": 0,
              "ticks": ""
             }
            },
            "type": "scatterpolar"
           }
          ],
          "scatterpolargl": [
           {
            "marker": {
             "colorbar": {
              "outlinewidth": 0,
              "ticks": ""
             }
            },
            "type": "scatterpolargl"
           }
          ],
          "scatterternary": [
           {
            "marker": {
             "colorbar": {
              "outlinewidth": 0,
              "ticks": ""
             }
            },
            "type": "scatterternary"
           }
          ],
          "surface": [
           {
            "colorbar": {
             "outlinewidth": 0,
             "ticks": ""
            },
            "colorscale": [
             [
              0,
              "#0d0887"
             ],
             [
              0.1111111111111111,
              "#46039f"
             ],
             [
              0.2222222222222222,
              "#7201a8"
             ],
             [
              0.3333333333333333,
              "#9c179e"
             ],
             [
              0.4444444444444444,
              "#bd3786"
             ],
             [
              0.5555555555555556,
              "#d8576b"
             ],
             [
              0.6666666666666666,
              "#ed7953"
             ],
             [
              0.7777777777777778,
              "#fb9f3a"
             ],
             [
              0.8888888888888888,
              "#fdca26"
             ],
             [
              1,
              "#f0f921"
             ]
            ],
            "type": "surface"
           }
          ],
          "table": [
           {
            "cells": {
             "fill": {
              "color": "#EBF0F8"
             },
             "line": {
              "color": "white"
             }
            },
            "header": {
             "fill": {
              "color": "#C8D4E3"
             },
             "line": {
              "color": "white"
             }
            },
            "type": "table"
           }
          ]
         },
         "layout": {
          "annotationdefaults": {
           "arrowcolor": "#2a3f5f",
           "arrowhead": 0,
           "arrowwidth": 1
          },
          "autotypenumbers": "strict",
          "coloraxis": {
           "colorbar": {
            "outlinewidth": 0,
            "ticks": ""
           }
          },
          "colorscale": {
           "diverging": [
            [
             0,
             "#8e0152"
            ],
            [
             0.1,
             "#c51b7d"
            ],
            [
             0.2,
             "#de77ae"
            ],
            [
             0.3,
             "#f1b6da"
            ],
            [
             0.4,
             "#fde0ef"
            ],
            [
             0.5,
             "#f7f7f7"
            ],
            [
             0.6,
             "#e6f5d0"
            ],
            [
             0.7,
             "#b8e186"
            ],
            [
             0.8,
             "#7fbc41"
            ],
            [
             0.9,
             "#4d9221"
            ],
            [
             1,
             "#276419"
            ]
           ],
           "sequential": [
            [
             0,
             "#0d0887"
            ],
            [
             0.1111111111111111,
             "#46039f"
            ],
            [
             0.2222222222222222,
             "#7201a8"
            ],
            [
             0.3333333333333333,
             "#9c179e"
            ],
            [
             0.4444444444444444,
             "#bd3786"
            ],
            [
             0.5555555555555556,
             "#d8576b"
            ],
            [
             0.6666666666666666,
             "#ed7953"
            ],
            [
             0.7777777777777778,
             "#fb9f3a"
            ],
            [
             0.8888888888888888,
             "#fdca26"
            ],
            [
             1,
             "#f0f921"
            ]
           ],
           "sequentialminus": [
            [
             0,
             "#0d0887"
            ],
            [
             0.1111111111111111,
             "#46039f"
            ],
            [
             0.2222222222222222,
             "#7201a8"
            ],
            [
             0.3333333333333333,
             "#9c179e"
            ],
            [
             0.4444444444444444,
             "#bd3786"
            ],
            [
             0.5555555555555556,
             "#d8576b"
            ],
            [
             0.6666666666666666,
             "#ed7953"
            ],
            [
             0.7777777777777778,
             "#fb9f3a"
            ],
            [
             0.8888888888888888,
             "#fdca26"
            ],
            [
             1,
             "#f0f921"
            ]
           ]
          },
          "colorway": [
           "#636efa",
           "#EF553B",
           "#00cc96",
           "#ab63fa",
           "#FFA15A",
           "#19d3f3",
           "#FF6692",
           "#B6E880",
           "#FF97FF",
           "#FECB52"
          ],
          "font": {
           "color": "#2a3f5f"
          },
          "geo": {
           "bgcolor": "white",
           "lakecolor": "white",
           "landcolor": "#E5ECF6",
           "showlakes": true,
           "showland": true,
           "subunitcolor": "white"
          },
          "hoverlabel": {
           "align": "left"
          },
          "hovermode": "closest",
          "mapbox": {
           "style": "light"
          },
          "paper_bgcolor": "white",
          "plot_bgcolor": "#E5ECF6",
          "polar": {
           "angularaxis": {
            "gridcolor": "white",
            "linecolor": "white",
            "ticks": ""
           },
           "bgcolor": "#E5ECF6",
           "radialaxis": {
            "gridcolor": "white",
            "linecolor": "white",
            "ticks": ""
           }
          },
          "scene": {
           "xaxis": {
            "backgroundcolor": "#E5ECF6",
            "gridcolor": "white",
            "gridwidth": 2,
            "linecolor": "white",
            "showbackground": true,
            "ticks": "",
            "zerolinecolor": "white"
           },
           "yaxis": {
            "backgroundcolor": "#E5ECF6",
            "gridcolor": "white",
            "gridwidth": 2,
            "linecolor": "white",
            "showbackground": true,
            "ticks": "",
            "zerolinecolor": "white"
           },
           "zaxis": {
            "backgroundcolor": "#E5ECF6",
            "gridcolor": "white",
            "gridwidth": 2,
            "linecolor": "white",
            "showbackground": true,
            "ticks": "",
            "zerolinecolor": "white"
           }
          },
          "shapedefaults": {
           "line": {
            "color": "#2a3f5f"
           }
          },
          "ternary": {
           "aaxis": {
            "gridcolor": "white",
            "linecolor": "white",
            "ticks": ""
           },
           "baxis": {
            "gridcolor": "white",
            "linecolor": "white",
            "ticks": ""
           },
           "bgcolor": "#E5ECF6",
           "caxis": {
            "gridcolor": "white",
            "linecolor": "white",
            "ticks": ""
           }
          },
          "title": {
           "x": 0.05
          },
          "xaxis": {
           "automargin": true,
           "gridcolor": "white",
           "linecolor": "white",
           "ticks": "",
           "title": {
            "standoff": 15
           },
           "zerolinecolor": "white",
           "zerolinewidth": 2
          },
          "yaxis": {
           "automargin": true,
           "gridcolor": "white",
           "linecolor": "white",
           "ticks": "",
           "title": {
            "standoff": 15
           },
           "zerolinecolor": "white",
           "zerolinewidth": 2
          }
         }
        },
        "title": {
         "text": "2 Principal Components"
        },
        "xaxis": {
         "anchor": "y",
         "domain": [
          0,
          1
         ],
         "title": {
          "text": "pc1"
         }
        },
        "yaxis": {
         "anchor": "x",
         "domain": [
          0,
          1
         ],
         "title": {
          "text": "pc2"
         }
        }
       }
      }
     },
     "metadata": {},
     "output_type": "display_data"
    }
   ],
   "source": [
    "dia = DIA(df)\n",
    "dia.plot_pca(pl.all().exclude(\"species\"), by = \"species\")"
   ]
  },
  {
   "cell_type": "code",
   "execution_count": 4,
   "metadata": {},
   "outputs": [
    {
     "data": {
      "text/html": [
       "\n",
       "<style>\n",
       "  #altair-viz-5c9c9d2786e241f8ab770a8c4b50810f.vega-embed {\n",
       "    width: 100%;\n",
       "    display: flex;\n",
       "  }\n",
       "\n",
       "  #altair-viz-5c9c9d2786e241f8ab770a8c4b50810f.vega-embed details,\n",
       "  #altair-viz-5c9c9d2786e241f8ab770a8c4b50810f.vega-embed details summary {\n",
       "    position: relative;\n",
       "  }\n",
       "</style>\n",
       "<div id=\"altair-viz-5c9c9d2786e241f8ab770a8c4b50810f\"></div>\n",
       "<script type=\"text/javascript\">\n",
       "  var VEGA_DEBUG = (typeof VEGA_DEBUG == \"undefined\") ? {} : VEGA_DEBUG;\n",
       "  (function(spec, embedOpt){\n",
       "    let outputDiv = document.currentScript.previousElementSibling;\n",
       "    if (outputDiv.id !== \"altair-viz-5c9c9d2786e241f8ab770a8c4b50810f\") {\n",
       "      outputDiv = document.getElementById(\"altair-viz-5c9c9d2786e241f8ab770a8c4b50810f\");\n",
       "    }\n",
       "    const paths = {\n",
       "      \"vega\": \"https://cdn.jsdelivr.net/npm/vega@5?noext\",\n",
       "      \"vega-lib\": \"https://cdn.jsdelivr.net/npm/vega-lib?noext\",\n",
       "      \"vega-lite\": \"https://cdn.jsdelivr.net/npm/vega-lite@5.20.1?noext\",\n",
       "      \"vega-embed\": \"https://cdn.jsdelivr.net/npm/vega-embed@6?noext\",\n",
       "    };\n",
       "\n",
       "    function maybeLoadScript(lib, version) {\n",
       "      var key = `${lib.replace(\"-\", \"\")}_version`;\n",
       "      return (VEGA_DEBUG[key] == version) ?\n",
       "        Promise.resolve(paths[lib]) :\n",
       "        new Promise(function(resolve, reject) {\n",
       "          var s = document.createElement('script');\n",
       "          document.getElementsByTagName(\"head\")[0].appendChild(s);\n",
       "          s.async = true;\n",
       "          s.onload = () => {\n",
       "            VEGA_DEBUG[key] = version;\n",
       "            return resolve(paths[lib]);\n",
       "          };\n",
       "          s.onerror = () => reject(`Error loading script: ${paths[lib]}`);\n",
       "          s.src = paths[lib];\n",
       "        });\n",
       "    }\n",
       "\n",
       "    function showError(err) {\n",
       "      outputDiv.innerHTML = `<div class=\"error\" style=\"color:red;\">${err}</div>`;\n",
       "      throw err;\n",
       "    }\n",
       "\n",
       "    function displayChart(vegaEmbed) {\n",
       "      vegaEmbed(outputDiv, spec, embedOpt)\n",
       "        .catch(err => showError(`Javascript Error: ${err.message}<br>This usually means there's a typo in your chart specification. See the javascript console for the full traceback.`));\n",
       "    }\n",
       "\n",
       "    if(typeof define === \"function\" && define.amd) {\n",
       "      requirejs.config({paths});\n",
       "      require([\"vega-embed\"], displayChart, err => showError(`Error loading script: ${err.message}`));\n",
       "    } else {\n",
       "      maybeLoadScript(\"vega\", \"5\")\n",
       "        .then(() => maybeLoadScript(\"vega-lite\", \"5.20.1\"))\n",
       "        .then(() => maybeLoadScript(\"vega-embed\", \"6\"))\n",
       "        .catch(showError)\n",
       "        .then(() => displayChart(vegaEmbed));\n",
       "    }\n",
       "  })({\"config\": {\"view\": {\"continuousWidth\": 300, \"continuousHeight\": 300}, \"autosize\": \"pad\"}, \"layer\": [{\"mark\": {\"type\": \"point\"}, \"encoding\": {\"x\": {\"field\": \"sepal length (cm)\", \"scale\": {\"zero\": false}, \"type\": \"quantitative\"}, \"y\": {\"field\": \"petal length (cm)\", \"type\": \"quantitative\"}}, \"title\": {\"text\": [\"Linear Regression: petal length (cm) ~ sepal length (cm) + bias\", \"\"], \"align\": \"center\", \"subtitle\": \"y = 1.8584 * x - 7.1014\"}}, {\"mark\": {\"type\": \"line\"}, \"encoding\": {\"x\": {\"field\": \"sepal length (cm)\", \"scale\": {\"zero\": false}, \"type\": \"quantitative\"}, \"y\": {\"field\": \"y_pred\", \"type\": \"quantitative\"}}, \"title\": {\"text\": [\"Linear Regression: petal length (cm) ~ sepal length (cm) + bias\", \"\"], \"align\": \"center\", \"subtitle\": \"y = 1.8584 * x - 7.1014\"}}], \"data\": {\"name\": \"data-a1d1aa9bbc977e4ee8eda00976300dea\"}, \"$schema\": \"https://vega.github.io/schema/vega-lite/v5.20.1.json\", \"datasets\": {\"data-a1d1aa9bbc977e4ee8eda00976300dea\": [{\"sepal length (cm)\": 5.1, \"petal length (cm)\": 1.4, \"y_pred\": 2.376564819497233}, {\"sepal length (cm)\": 4.9, \"petal length (cm)\": 1.4, \"y_pred\": 2.0048782238462657}, {\"sepal length (cm)\": 4.7, \"petal length (cm)\": 1.3, \"y_pred\": 1.6331916281952967}, {\"sepal length (cm)\": 4.6, \"petal length (cm)\": 1.5, \"y_pred\": 1.4473483303698114}, {\"sepal length (cm)\": 5.0, \"petal length (cm)\": 1.4, \"y_pred\": 2.1907215216717493}, {\"sepal length (cm)\": 5.4, \"petal length (cm)\": 1.7, \"y_pred\": 2.9340947129736854}, {\"sepal length (cm)\": 4.6, \"petal length (cm)\": 1.4, \"y_pred\": 1.4473483303698114}, {\"sepal length (cm)\": 5.0, \"petal length (cm)\": 1.5, \"y_pred\": 2.1907215216717493}, {\"sepal length (cm)\": 4.4, \"petal length (cm)\": 1.4, \"y_pred\": 1.0756617347188442}, {\"sepal length (cm)\": 4.9, \"petal length (cm)\": 1.5, \"y_pred\": 2.0048782238462657}, {\"sepal length (cm)\": 5.4, \"petal length (cm)\": 1.5, \"y_pred\": 2.9340947129736854}, {\"sepal length (cm)\": 4.8, \"petal length (cm)\": 1.6, \"y_pred\": 1.8190349260207803}, {\"sepal length (cm)\": 4.8, \"petal length (cm)\": 1.4, \"y_pred\": 1.8190349260207803}, {\"sepal length (cm)\": 4.3, \"petal length (cm)\": 1.1, \"y_pred\": 0.8898184368933597}, {\"sepal length (cm)\": 5.8, \"petal length (cm)\": 1.2, \"y_pred\": 3.6774679042756215}, {\"sepal length (cm)\": 5.7, \"petal length (cm)\": 1.5, \"y_pred\": 3.491624606450138}, {\"sepal length (cm)\": 5.4, \"petal length (cm)\": 1.3, \"y_pred\": 2.9340947129736854}, {\"sepal length (cm)\": 5.1, \"petal length (cm)\": 1.4, \"y_pred\": 2.376564819497233}, {\"sepal length (cm)\": 5.7, \"petal length (cm)\": 1.7, \"y_pred\": 3.491624606450138}, {\"sepal length (cm)\": 5.1, \"petal length (cm)\": 1.5, \"y_pred\": 2.376564819497233}, {\"sepal length (cm)\": 5.4, \"petal length (cm)\": 1.7, \"y_pred\": 2.9340947129736854}, {\"sepal length (cm)\": 5.1, \"petal length (cm)\": 1.5, \"y_pred\": 2.376564819497233}, {\"sepal length (cm)\": 4.6, \"petal length (cm)\": 1.0, \"y_pred\": 1.4473483303698114}, {\"sepal length (cm)\": 5.1, \"petal length (cm)\": 1.7, \"y_pred\": 2.376564819497233}, {\"sepal length (cm)\": 4.8, \"petal length (cm)\": 1.9, \"y_pred\": 1.8190349260207803}, {\"sepal length (cm)\": 5.0, \"petal length (cm)\": 1.6, \"y_pred\": 2.1907215216717493}, {\"sepal length (cm)\": 5.0, \"petal length (cm)\": 1.6, \"y_pred\": 2.1907215216717493}, {\"sepal length (cm)\": 5.2, \"petal length (cm)\": 1.5, \"y_pred\": 2.5624081173227164}, {\"sepal length (cm)\": 5.2, \"petal length (cm)\": 1.4, \"y_pred\": 2.5624081173227164}, {\"sepal length (cm)\": 4.7, \"petal length (cm)\": 1.6, \"y_pred\": 1.6331916281952967}, {\"sepal length (cm)\": 4.8, \"petal length (cm)\": 1.6, \"y_pred\": 1.8190349260207803}, {\"sepal length (cm)\": 5.4, \"petal length (cm)\": 1.5, \"y_pred\": 2.9340947129736854}, {\"sepal length (cm)\": 5.2, \"petal length (cm)\": 1.5, \"y_pred\": 2.5624081173227164}, {\"sepal length (cm)\": 5.5, \"petal length (cm)\": 1.4, \"y_pred\": 3.119938010799169}, {\"sepal length (cm)\": 4.9, \"petal length (cm)\": 1.5, \"y_pred\": 2.0048782238462657}, {\"sepal length (cm)\": 5.0, \"petal length (cm)\": 1.2, \"y_pred\": 2.1907215216717493}, {\"sepal length (cm)\": 5.5, \"petal length (cm)\": 1.3, \"y_pred\": 3.119938010799169}, {\"sepal length (cm)\": 4.9, \"petal length (cm)\": 1.4, \"y_pred\": 2.0048782238462657}, {\"sepal length (cm)\": 4.4, \"petal length (cm)\": 1.3, \"y_pred\": 1.0756617347188442}, {\"sepal length (cm)\": 5.1, \"petal length (cm)\": 1.5, \"y_pred\": 2.376564819497233}, {\"sepal length (cm)\": 5.0, \"petal length (cm)\": 1.3, \"y_pred\": 2.1907215216717493}, {\"sepal length (cm)\": 4.5, \"petal length (cm)\": 1.3, \"y_pred\": 1.2615050325443278}, {\"sepal length (cm)\": 4.4, \"petal length (cm)\": 1.3, \"y_pred\": 1.0756617347188442}, {\"sepal length (cm)\": 5.0, \"petal length (cm)\": 1.6, \"y_pred\": 2.1907215216717493}, {\"sepal length (cm)\": 5.1, \"petal length (cm)\": 1.9, \"y_pred\": 2.376564819497233}, {\"sepal length (cm)\": 4.8, \"petal length (cm)\": 1.4, \"y_pred\": 1.8190349260207803}, {\"sepal length (cm)\": 5.1, \"petal length (cm)\": 1.6, \"y_pred\": 2.376564819497233}, {\"sepal length (cm)\": 4.6, \"petal length (cm)\": 1.4, \"y_pred\": 1.4473483303698114}, {\"sepal length (cm)\": 5.3, \"petal length (cm)\": 1.5, \"y_pred\": 2.7482514151482}, {\"sepal length (cm)\": 5.0, \"petal length (cm)\": 1.4, \"y_pred\": 2.1907215216717493}, {\"sepal length (cm)\": 7.0, \"petal length (cm)\": 4.7, \"y_pred\": 5.90758747818143}, {\"sepal length (cm)\": 6.4, \"petal length (cm)\": 4.5, \"y_pred\": 4.792527691228527}, {\"sepal length (cm)\": 6.9, \"petal length (cm)\": 4.9, \"y_pred\": 5.721744180355946}, {\"sepal length (cm)\": 5.5, \"petal length (cm)\": 4.0, \"y_pred\": 3.119938010799169}, {\"sepal length (cm)\": 6.5, \"petal length (cm)\": 4.6, \"y_pred\": 4.97837098905401}, {\"sepal length (cm)\": 5.7, \"petal length (cm)\": 4.5, \"y_pred\": 3.491624606450138}, {\"sepal length (cm)\": 6.3, \"petal length (cm)\": 4.7, \"y_pred\": 4.606684393403041}, {\"sepal length (cm)\": 4.9, \"petal length (cm)\": 3.3, \"y_pred\": 2.0048782238462657}, {\"sepal length (cm)\": 6.6, \"petal length (cm)\": 4.6, \"y_pred\": 5.164214286879494}, {\"sepal length (cm)\": 5.2, \"petal length (cm)\": 3.9, \"y_pred\": 2.5624081173227164}, {\"sepal length (cm)\": 5.0, \"petal length (cm)\": 3.5, \"y_pred\": 2.1907215216717493}, {\"sepal length (cm)\": 5.9, \"petal length (cm)\": 4.2, \"y_pred\": 3.863311202101107}, {\"sepal length (cm)\": 6.0, \"petal length (cm)\": 4.0, \"y_pred\": 4.049154499926589}, {\"sepal length (cm)\": 6.1, \"petal length (cm)\": 4.7, \"y_pred\": 4.234997797752072}, {\"sepal length (cm)\": 5.6, \"petal length (cm)\": 3.6, \"y_pred\": 3.3057813086246526}, {\"sepal length (cm)\": 6.7, \"petal length (cm)\": 4.4, \"y_pred\": 5.350057584704979}, {\"sepal length (cm)\": 5.6, \"petal length (cm)\": 4.5, \"y_pred\": 3.3057813086246526}, {\"sepal length (cm)\": 5.8, \"petal length (cm)\": 4.1, \"y_pred\": 3.6774679042756215}, {\"sepal length (cm)\": 6.2, \"petal length (cm)\": 4.5, \"y_pred\": 4.420841095577558}, {\"sepal length (cm)\": 5.6, \"petal length (cm)\": 3.9, \"y_pred\": 3.3057813086246526}, {\"sepal length (cm)\": 5.9, \"petal length (cm)\": 4.8, \"y_pred\": 3.863311202101107}, {\"sepal length (cm)\": 6.1, \"petal length (cm)\": 4.0, \"y_pred\": 4.234997797752072}, {\"sepal length (cm)\": 6.3, \"petal length (cm)\": 4.9, \"y_pred\": 4.606684393403041}, {\"sepal length (cm)\": 6.1, \"petal length (cm)\": 4.7, \"y_pred\": 4.234997797752072}, {\"sepal length (cm)\": 6.4, \"petal length (cm)\": 4.3, \"y_pred\": 4.792527691228527}, {\"sepal length (cm)\": 6.6, \"petal length (cm)\": 4.4, \"y_pred\": 5.164214286879494}, {\"sepal length (cm)\": 6.8, \"petal length (cm)\": 4.8, \"y_pred\": 5.535900882530463}, {\"sepal length (cm)\": 6.7, \"petal length (cm)\": 5.0, \"y_pred\": 5.350057584704979}, {\"sepal length (cm)\": 6.0, \"petal length (cm)\": 4.5, \"y_pred\": 4.049154499926589}, {\"sepal length (cm)\": 5.7, \"petal length (cm)\": 3.5, \"y_pred\": 3.491624606450138}, {\"sepal length (cm)\": 5.5, \"petal length (cm)\": 3.8, \"y_pred\": 3.119938010799169}, {\"sepal length (cm)\": 5.5, \"petal length (cm)\": 3.7, \"y_pred\": 3.119938010799169}, {\"sepal length (cm)\": 5.8, \"petal length (cm)\": 3.9, \"y_pred\": 3.6774679042756215}, {\"sepal length (cm)\": 6.0, \"petal length (cm)\": 5.1, \"y_pred\": 4.049154499926589}, {\"sepal length (cm)\": 5.4, \"petal length (cm)\": 4.5, \"y_pred\": 2.9340947129736854}, {\"sepal length (cm)\": 6.0, \"petal length (cm)\": 4.5, \"y_pred\": 4.049154499926589}, {\"sepal length (cm)\": 6.7, \"petal length (cm)\": 4.7, \"y_pred\": 5.350057584704979}, {\"sepal length (cm)\": 6.3, \"petal length (cm)\": 4.4, \"y_pred\": 4.606684393403041}, {\"sepal length (cm)\": 5.6, \"petal length (cm)\": 4.1, \"y_pred\": 3.3057813086246526}, {\"sepal length (cm)\": 5.5, \"petal length (cm)\": 4.0, \"y_pred\": 3.119938010799169}, {\"sepal length (cm)\": 5.5, \"petal length (cm)\": 4.4, \"y_pred\": 3.119938010799169}, {\"sepal length (cm)\": 6.1, \"petal length (cm)\": 4.6, \"y_pred\": 4.234997797752072}, {\"sepal length (cm)\": 5.8, \"petal length (cm)\": 4.0, \"y_pred\": 3.6774679042756215}, {\"sepal length (cm)\": 5.0, \"petal length (cm)\": 3.3, \"y_pred\": 2.1907215216717493}, {\"sepal length (cm)\": 5.6, \"petal length (cm)\": 4.2, \"y_pred\": 3.3057813086246526}, {\"sepal length (cm)\": 5.7, \"petal length (cm)\": 4.2, \"y_pred\": 3.491624606450138}, {\"sepal length (cm)\": 5.7, \"petal length (cm)\": 4.2, \"y_pred\": 3.491624606450138}, {\"sepal length (cm)\": 6.2, \"petal length (cm)\": 4.3, \"y_pred\": 4.420841095577558}, {\"sepal length (cm)\": 5.1, \"petal length (cm)\": 3.0, \"y_pred\": 2.376564819497233}, {\"sepal length (cm)\": 5.7, \"petal length (cm)\": 4.1, \"y_pred\": 3.491624606450138}, {\"sepal length (cm)\": 6.3, \"petal length (cm)\": 6.0, \"y_pred\": 4.606684393403041}, {\"sepal length (cm)\": 5.8, \"petal length (cm)\": 5.1, \"y_pred\": 3.6774679042756215}, {\"sepal length (cm)\": 7.1, \"petal length (cm)\": 5.9, \"y_pred\": 6.0934307760069135}, {\"sepal length (cm)\": 6.3, \"petal length (cm)\": 5.6, \"y_pred\": 4.606684393403041}, {\"sepal length (cm)\": 6.5, \"petal length (cm)\": 5.8, \"y_pred\": 4.97837098905401}, {\"sepal length (cm)\": 7.6, \"petal length (cm)\": 6.6, \"y_pred\": 7.022647265134335}, {\"sepal length (cm)\": 4.9, \"petal length (cm)\": 4.5, \"y_pred\": 2.0048782238462657}, {\"sepal length (cm)\": 7.3, \"petal length (cm)\": 6.3, \"y_pred\": 6.4651173716578825}, {\"sepal length (cm)\": 6.7, \"petal length (cm)\": 5.8, \"y_pred\": 5.350057584704979}, {\"sepal length (cm)\": 7.2, \"petal length (cm)\": 6.1, \"y_pred\": 6.279274073832399}, {\"sepal length (cm)\": 6.5, \"petal length (cm)\": 5.1, \"y_pred\": 4.97837098905401}, {\"sepal length (cm)\": 6.4, \"petal length (cm)\": 5.3, \"y_pred\": 4.792527691228527}, {\"sepal length (cm)\": 6.8, \"petal length (cm)\": 5.5, \"y_pred\": 5.535900882530463}, {\"sepal length (cm)\": 5.7, \"petal length (cm)\": 5.0, \"y_pred\": 3.491624606450138}, {\"sepal length (cm)\": 5.8, \"petal length (cm)\": 5.1, \"y_pred\": 3.6774679042756215}, {\"sepal length (cm)\": 6.4, \"petal length (cm)\": 5.3, \"y_pred\": 4.792527691228527}, {\"sepal length (cm)\": 6.5, \"petal length (cm)\": 5.5, \"y_pred\": 4.97837098905401}, {\"sepal length (cm)\": 7.7, \"petal length (cm)\": 6.7, \"y_pred\": 7.208490562959819}, {\"sepal length (cm)\": 7.7, \"petal length (cm)\": 6.9, \"y_pred\": 7.208490562959819}, {\"sepal length (cm)\": 6.0, \"petal length (cm)\": 5.0, \"y_pred\": 4.049154499926589}, {\"sepal length (cm)\": 6.9, \"petal length (cm)\": 5.7, \"y_pred\": 5.721744180355946}, {\"sepal length (cm)\": 5.6, \"petal length (cm)\": 4.9, \"y_pred\": 3.3057813086246526}, {\"sepal length (cm)\": 7.7, \"petal length (cm)\": 6.7, \"y_pred\": 7.208490562959819}, {\"sepal length (cm)\": 6.3, \"petal length (cm)\": 4.9, \"y_pred\": 4.606684393403041}, {\"sepal length (cm)\": 6.7, \"petal length (cm)\": 5.7, \"y_pred\": 5.350057584704979}, {\"sepal length (cm)\": 7.2, \"petal length (cm)\": 6.0, \"y_pred\": 6.279274073832399}, {\"sepal length (cm)\": 6.2, \"petal length (cm)\": 4.8, \"y_pred\": 4.420841095577558}, {\"sepal length (cm)\": 6.1, \"petal length (cm)\": 4.9, \"y_pred\": 4.234997797752072}, {\"sepal length (cm)\": 6.4, \"petal length (cm)\": 5.6, \"y_pred\": 4.792527691228527}, {\"sepal length (cm)\": 7.2, \"petal length (cm)\": 5.8, \"y_pred\": 6.279274073832399}, {\"sepal length (cm)\": 7.4, \"petal length (cm)\": 6.1, \"y_pred\": 6.650960669483368}, {\"sepal length (cm)\": 7.9, \"petal length (cm)\": 6.4, \"y_pred\": 7.580177158610788}, {\"sepal length (cm)\": 6.4, \"petal length (cm)\": 5.6, \"y_pred\": 4.792527691228527}, {\"sepal length (cm)\": 6.3, \"petal length (cm)\": 5.1, \"y_pred\": 4.606684393403041}, {\"sepal length (cm)\": 6.1, \"petal length (cm)\": 5.6, \"y_pred\": 4.234997797752072}, {\"sepal length (cm)\": 7.7, \"petal length (cm)\": 6.1, \"y_pred\": 7.208490562959819}, {\"sepal length (cm)\": 6.3, \"petal length (cm)\": 5.6, \"y_pred\": 4.606684393403041}, {\"sepal length (cm)\": 6.4, \"petal length (cm)\": 5.5, \"y_pred\": 4.792527691228527}, {\"sepal length (cm)\": 6.0, \"petal length (cm)\": 4.8, \"y_pred\": 4.049154499926589}, {\"sepal length (cm)\": 6.9, \"petal length (cm)\": 5.4, \"y_pred\": 5.721744180355946}, {\"sepal length (cm)\": 6.7, \"petal length (cm)\": 5.6, \"y_pred\": 5.350057584704979}, {\"sepal length (cm)\": 6.9, \"petal length (cm)\": 5.1, \"y_pred\": 5.721744180355946}, {\"sepal length (cm)\": 5.8, \"petal length (cm)\": 5.1, \"y_pred\": 3.6774679042756215}, {\"sepal length (cm)\": 6.8, \"petal length (cm)\": 5.9, \"y_pred\": 5.535900882530463}, {\"sepal length (cm)\": 6.7, \"petal length (cm)\": 5.7, \"y_pred\": 5.350057584704979}, {\"sepal length (cm)\": 6.7, \"petal length (cm)\": 5.2, \"y_pred\": 5.350057584704979}, {\"sepal length (cm)\": 6.3, \"petal length (cm)\": 5.0, \"y_pred\": 4.606684393403041}, {\"sepal length (cm)\": 6.5, \"petal length (cm)\": 5.2, \"y_pred\": 4.97837098905401}, {\"sepal length (cm)\": 6.2, \"petal length (cm)\": 5.4, \"y_pred\": 4.420841095577558}, {\"sepal length (cm)\": 5.9, \"petal length (cm)\": 5.1, \"y_pred\": 3.863311202101107}]}}, {\"mode\": \"vega-lite\"});\n",
       "</script>"
      ],
      "text/plain": [
       "alt.LayerChart(...)"
      ]
     },
     "execution_count": 4,
     "metadata": {},
     "output_type": "execute_result"
    }
   ],
   "source": [
    "# Just for fun, let's see how well can sepal length approximate petal length\n",
    "\n",
    "plot = dia.plot_lstsq(\n",
    "    x = \"sepal length (cm)\", \n",
    "    target = pl.col(\"petal length (cm)\"), \n",
    "    add_bias=True\n",
    ")\n",
    "plot\n"
   ]
  },
  {
   "cell_type": "code",
   "execution_count": null,
   "metadata": {},
   "outputs": [],
   "source": [
    "# The plot is an Altair plot, you can do a lot of cool things from here. For more details, \n",
    "# visit Altair's official docs!\n",
    "plot.interactive()"
   ]
  },
  {
   "cell_type": "code",
   "execution_count": 5,
   "metadata": {},
   "outputs": [
    {
     "ename": "TypeError",
     "evalue": "'>' not supported between instances of 'NoneType' and 'int'",
     "output_type": "error",
     "traceback": [
      "\u001b[0;31m---------------------------------------------------------------------------\u001b[0m",
      "\u001b[0;31mTypeError\u001b[0m                                 Traceback (most recent call last)",
      "Cell \u001b[0;32mIn[5], line 1\u001b[0m\n\u001b[0;32m----> 1\u001b[0m \u001b[43mdia\u001b[49m\u001b[38;5;241;43m.\u001b[39;49m\u001b[43mplot_lstsq\u001b[49m\u001b[43m(\u001b[49m\n\u001b[1;32m      2\u001b[0m \u001b[43m    \u001b[49m\u001b[43mx\u001b[49m\u001b[43m \u001b[49m\u001b[38;5;241;43m=\u001b[39;49m\u001b[43m \u001b[49m\u001b[38;5;124;43m\"\u001b[39;49m\u001b[38;5;124;43msepal length (cm)\u001b[39;49m\u001b[38;5;124;43m\"\u001b[39;49m\u001b[43m,\u001b[49m\u001b[43m \u001b[49m\n\u001b[1;32m      3\u001b[0m \u001b[43m    \u001b[49m\u001b[43mtarget\u001b[49m\u001b[43m \u001b[49m\u001b[38;5;241;43m=\u001b[39;49m\u001b[43m \u001b[49m\u001b[43mpl\u001b[49m\u001b[38;5;241;43m.\u001b[39;49m\u001b[43mcol\u001b[49m\u001b[43m(\u001b[49m\u001b[38;5;124;43m\"\u001b[39;49m\u001b[38;5;124;43mpetal length (cm)\u001b[39;49m\u001b[38;5;124;43m\"\u001b[39;49m\u001b[43m)\u001b[49m\u001b[43m,\u001b[49m\u001b[43m \u001b[49m\n\u001b[1;32m      4\u001b[0m \u001b[43m    \u001b[49m\u001b[43madd_bias\u001b[49m\u001b[38;5;241;43m=\u001b[39;49m\u001b[38;5;28;43;01mTrue\u001b[39;49;00m\u001b[43m,\u001b[49m\n\u001b[1;32m      5\u001b[0m \u001b[43m    \u001b[49m\u001b[43mfilter_by\u001b[49m\u001b[43m \u001b[49m\u001b[38;5;241;43m=\u001b[39;49m\u001b[43m \u001b[49m\u001b[43mpl\u001b[49m\u001b[38;5;241;43m.\u001b[39;49m\u001b[43mcol\u001b[49m\u001b[43m(\u001b[49m\u001b[38;5;124;43m\"\u001b[39;49m\u001b[38;5;124;43mpetal length (cm)\u001b[39;49m\u001b[38;5;124;43m\"\u001b[39;49m\u001b[43m)\u001b[49m\u001b[43m \u001b[49m\u001b[38;5;241;43m>\u001b[39;49m\u001b[43m \u001b[49m\u001b[38;5;241;43m2\u001b[39;49m\u001b[43m,\u001b[49m\n\u001b[1;32m      6\u001b[0m \u001b[43m    \u001b[49m\u001b[43mby\u001b[49m\u001b[43m \u001b[49m\u001b[38;5;241;43m=\u001b[39;49m\u001b[43m \u001b[49m\u001b[38;5;124;43m\"\u001b[39;49m\u001b[38;5;124;43mspecies\u001b[39;49m\u001b[38;5;124;43m\"\u001b[39;49m\n\u001b[1;32m      7\u001b[0m \u001b[43m)\u001b[49m\n",
      "File \u001b[0;32m~/Desktop/MY/Projects/polars_ds_extension/python/polars_ds/diagnosis.py:849\u001b[0m, in \u001b[0;36mDIA.plot_lstsq\u001b[0;34m(self, x, target, add_bias, max_points, filter_by, title_comments, by)\u001b[0m\n\u001b[1;32m    839\u001b[0m     \u001b[38;5;28;01mreturn\u001b[39;00m DIA\u001b[38;5;241m.\u001b[39m_plot_lstsq(\n\u001b[1;32m    840\u001b[0m         \u001b[38;5;28mself\u001b[39m\u001b[38;5;241m.\u001b[39m_frame,\n\u001b[1;32m    841\u001b[0m         x,\n\u001b[0;32m   (...)\u001b[0m\n\u001b[1;32m    846\u001b[0m         title_comments,\n\u001b[1;32m    847\u001b[0m     )\u001b[38;5;241m.\u001b[39mconfigure(autosize \u001b[38;5;241m=\u001b[39m \u001b[38;5;124m\"\u001b[39m\u001b[38;5;124mpad\u001b[39m\u001b[38;5;124m\"\u001b[39m)\n\u001b[1;32m    848\u001b[0m \u001b[38;5;28;01melse\u001b[39;00m:\n\u001b[0;32m--> 849\u001b[0m     \u001b[38;5;28;01mreturn\u001b[39;00m \u001b[43malt\u001b[49m\u001b[38;5;241;43m.\u001b[39;49m\u001b[43mvconcat\u001b[49m\u001b[43m(\u001b[49m\n\u001b[1;32m    850\u001b[0m \u001b[43m        \u001b[49m\u001b[38;5;241;43m*\u001b[39;49m\u001b[43m(\u001b[49m\n\u001b[1;32m    851\u001b[0m \u001b[43m            \u001b[49m\u001b[43mDIA\u001b[49m\u001b[38;5;241;43m.\u001b[39;49m\u001b[43m_plot_lstsq\u001b[49m\u001b[43m(\u001b[49m\n\u001b[1;32m    852\u001b[0m \u001b[43m                \u001b[49m\u001b[43mdf\u001b[49m\u001b[43m,\u001b[49m\n\u001b[1;32m    853\u001b[0m \u001b[43m                \u001b[49m\u001b[43mx\u001b[49m\u001b[43m,\u001b[49m\n\u001b[1;32m    854\u001b[0m \u001b[43m                \u001b[49m\u001b[43mtarget\u001b[49m\u001b[43m,\u001b[49m\n\u001b[1;32m    855\u001b[0m \u001b[43m                \u001b[49m\u001b[43madd_bias\u001b[49m\u001b[43m,\u001b[49m\n\u001b[1;32m    856\u001b[0m \u001b[43m                \u001b[49m\u001b[43mmax_points\u001b[49m\u001b[43m,\u001b[49m\n\u001b[1;32m    857\u001b[0m \u001b[43m                \u001b[49m\u001b[43mfilter_by\u001b[49m\u001b[43m,\u001b[49m\n\u001b[1;32m    858\u001b[0m \u001b[43m                \u001b[49m\u001b[43mtitle_comments\u001b[49m\u001b[43m \u001b[49m\u001b[38;5;241;43m=\u001b[39;49m\u001b[43m \u001b[49m\u001b[38;5;124;43mf\u001b[39;49m\u001b[38;5;124;43m\"\u001b[39;49m\u001b[38;5;124;43mSegment = \u001b[39;49m\u001b[38;5;132;43;01m{\u001b[39;49;00m\u001b[43mkey\u001b[49m\u001b[38;5;250;43m \u001b[39;49m\u001b[38;5;28;43;01mif\u001b[39;49;00m\u001b[38;5;250;43m \u001b[39;49m\u001b[38;5;28;43mlen\u001b[39;49m\u001b[43m(\u001b[49m\u001b[43mkey\u001b[49m\u001b[43m)\u001b[49m\u001b[38;5;250;43m \u001b[39;49m\u001b[38;5;241;43m>\u001b[39;49m\u001b[38;5;250;43m \u001b[39;49m\u001b[38;5;241;43m1\u001b[39;49m\u001b[38;5;250;43m \u001b[39;49m\u001b[38;5;28;43;01melse\u001b[39;49;00m\u001b[38;5;250;43m \u001b[39;49m\u001b[43mkey\u001b[49m\u001b[43m[\u001b[49m\u001b[38;5;241;43m0\u001b[39;49m\u001b[43m]\u001b[49m\u001b[38;5;132;43;01m}\u001b[39;49;00m\u001b[38;5;124;43m\"\u001b[39;49m\u001b[43m,\u001b[49m\n\u001b[1;32m    859\u001b[0m \u001b[43m            \u001b[49m\u001b[43m)\u001b[49m\n\u001b[1;32m    860\u001b[0m \u001b[43m            \u001b[49m\u001b[38;5;28;43;01mfor\u001b[39;49;00m\u001b[43m \u001b[49m\u001b[43mkey\u001b[49m\u001b[43m,\u001b[49m\u001b[43m \u001b[49m\u001b[43mdf\u001b[49m\u001b[43m \u001b[49m\u001b[38;5;129;43;01min\u001b[39;49;00m\u001b[43m \u001b[49m\u001b[38;5;28;43mself\u001b[39;49m\u001b[38;5;241;43m.\u001b[39;49m\u001b[43m_frame\u001b[49m\u001b[38;5;241;43m.\u001b[39;49m\u001b[43mcollect\u001b[49m\u001b[43m(\u001b[49m\u001b[43m)\u001b[49m\u001b[38;5;241;43m.\u001b[39;49m\u001b[43mpartition_by\u001b[49m\u001b[43m(\u001b[49m\u001b[43mby\u001b[49m\u001b[43m,\u001b[49m\u001b[43m \u001b[49m\u001b[43mas_dict\u001b[49m\u001b[38;5;241;43m=\u001b[39;49m\u001b[38;5;28;43;01mTrue\u001b[39;49;00m\u001b[43m)\u001b[49m\u001b[38;5;241;43m.\u001b[39;49m\u001b[43mitems\u001b[49m\u001b[43m(\u001b[49m\u001b[43m)\u001b[49m\n\u001b[1;32m    861\u001b[0m \u001b[43m        \u001b[49m\u001b[43m)\u001b[49m\n\u001b[1;32m    862\u001b[0m \u001b[43m    \u001b[49m\u001b[43m)\u001b[49m\u001b[38;5;241m.\u001b[39mconfigure(autosize \u001b[38;5;241m=\u001b[39m \u001b[38;5;124m\"\u001b[39m\u001b[38;5;124mpad\u001b[39m\u001b[38;5;124m\"\u001b[39m)\n",
      "File \u001b[0;32m~/Desktop/MY/Projects/polars_ds_extension/python/polars_ds/diagnosis.py:851\u001b[0m, in \u001b[0;36m<genexpr>\u001b[0;34m(.0)\u001b[0m\n\u001b[1;32m    839\u001b[0m     \u001b[38;5;28;01mreturn\u001b[39;00m DIA\u001b[38;5;241m.\u001b[39m_plot_lstsq(\n\u001b[1;32m    840\u001b[0m         \u001b[38;5;28mself\u001b[39m\u001b[38;5;241m.\u001b[39m_frame,\n\u001b[1;32m    841\u001b[0m         x,\n\u001b[0;32m   (...)\u001b[0m\n\u001b[1;32m    846\u001b[0m         title_comments,\n\u001b[1;32m    847\u001b[0m     )\u001b[38;5;241m.\u001b[39mconfigure(autosize \u001b[38;5;241m=\u001b[39m \u001b[38;5;124m\"\u001b[39m\u001b[38;5;124mpad\u001b[39m\u001b[38;5;124m\"\u001b[39m)\n\u001b[1;32m    848\u001b[0m \u001b[38;5;28;01melse\u001b[39;00m:\n\u001b[1;32m    849\u001b[0m     \u001b[38;5;28;01mreturn\u001b[39;00m alt\u001b[38;5;241m.\u001b[39mvconcat(\n\u001b[1;32m    850\u001b[0m         \u001b[38;5;241m*\u001b[39m(\n\u001b[0;32m--> 851\u001b[0m             \u001b[43mDIA\u001b[49m\u001b[38;5;241;43m.\u001b[39;49m\u001b[43m_plot_lstsq\u001b[49m\u001b[43m(\u001b[49m\n\u001b[1;32m    852\u001b[0m \u001b[43m                \u001b[49m\u001b[43mdf\u001b[49m\u001b[43m,\u001b[49m\n\u001b[1;32m    853\u001b[0m \u001b[43m                \u001b[49m\u001b[43mx\u001b[49m\u001b[43m,\u001b[49m\n\u001b[1;32m    854\u001b[0m \u001b[43m                \u001b[49m\u001b[43mtarget\u001b[49m\u001b[43m,\u001b[49m\n\u001b[1;32m    855\u001b[0m \u001b[43m                \u001b[49m\u001b[43madd_bias\u001b[49m\u001b[43m,\u001b[49m\n\u001b[1;32m    856\u001b[0m \u001b[43m                \u001b[49m\u001b[43mmax_points\u001b[49m\u001b[43m,\u001b[49m\n\u001b[1;32m    857\u001b[0m \u001b[43m                \u001b[49m\u001b[43mfilter_by\u001b[49m\u001b[43m,\u001b[49m\n\u001b[1;32m    858\u001b[0m \u001b[43m                \u001b[49m\u001b[43mtitle_comments\u001b[49m\u001b[43m \u001b[49m\u001b[38;5;241;43m=\u001b[39;49m\u001b[43m \u001b[49m\u001b[38;5;124;43mf\u001b[39;49m\u001b[38;5;124;43m\"\u001b[39;49m\u001b[38;5;124;43mSegment = \u001b[39;49m\u001b[38;5;132;43;01m{\u001b[39;49;00m\u001b[43mkey\u001b[49m\u001b[38;5;250;43m \u001b[39;49m\u001b[38;5;28;43;01mif\u001b[39;49;00m\u001b[38;5;250;43m \u001b[39;49m\u001b[38;5;28;43mlen\u001b[39;49m\u001b[43m(\u001b[49m\u001b[43mkey\u001b[49m\u001b[43m)\u001b[49m\u001b[38;5;250;43m \u001b[39;49m\u001b[38;5;241;43m>\u001b[39;49m\u001b[38;5;250;43m \u001b[39;49m\u001b[38;5;241;43m1\u001b[39;49m\u001b[38;5;250;43m \u001b[39;49m\u001b[38;5;28;43;01melse\u001b[39;49;00m\u001b[38;5;250;43m \u001b[39;49m\u001b[43mkey\u001b[49m\u001b[43m[\u001b[49m\u001b[38;5;241;43m0\u001b[39;49m\u001b[43m]\u001b[49m\u001b[38;5;132;43;01m}\u001b[39;49;00m\u001b[38;5;124;43m\"\u001b[39;49m\u001b[43m,\u001b[49m\n\u001b[1;32m    859\u001b[0m \u001b[43m            \u001b[49m\u001b[43m)\u001b[49m\n\u001b[1;32m    860\u001b[0m             \u001b[38;5;28;01mfor\u001b[39;00m key, df \u001b[38;5;129;01min\u001b[39;00m \u001b[38;5;28mself\u001b[39m\u001b[38;5;241m.\u001b[39m_frame\u001b[38;5;241m.\u001b[39mcollect()\u001b[38;5;241m.\u001b[39mpartition_by(by, as_dict\u001b[38;5;241m=\u001b[39m\u001b[38;5;28;01mTrue\u001b[39;00m)\u001b[38;5;241m.\u001b[39mitems()\n\u001b[1;32m    861\u001b[0m         )\n\u001b[1;32m    862\u001b[0m     )\u001b[38;5;241m.\u001b[39mconfigure(autosize \u001b[38;5;241m=\u001b[39m \u001b[38;5;124m\"\u001b[39m\u001b[38;5;124mpad\u001b[39m\u001b[38;5;124m\"\u001b[39m)\n",
      "File \u001b[0;32m~/Desktop/MY/Projects/polars_ds_extension/python/polars_ds/diagnosis.py:105\u001b[0m, in \u001b[0;36mDIA._plot_lstsq\u001b[0;34m(df, x, target, add_bias, max_points, filter_by, title_comments)\u001b[0m\n\u001b[1;32m    102\u001b[0m \u001b[38;5;66;03m# Sample down. If len(temp) < max_points, all temp will be selected. This sample supports lazy.\u001b[39;00m\n\u001b[1;32m    103\u001b[0m df_sampled \u001b[38;5;241m=\u001b[39m sample(df_need, value\u001b[38;5;241m=\u001b[39mmax_points)\n\u001b[0;32m--> 105\u001b[0m \u001b[38;5;28;01mif\u001b[39;00m add_bias \u001b[38;5;129;01mand\u001b[39;00m \u001b[43malpha\u001b[49m\u001b[43m \u001b[49m\u001b[38;5;241;43m>\u001b[39;49m\u001b[43m \u001b[49m\u001b[38;5;241;43m0\u001b[39;49m:\n\u001b[1;32m    106\u001b[0m     subtitle \u001b[38;5;241m=\u001b[39m \u001b[38;5;124mf\u001b[39m\u001b[38;5;124m\"\u001b[39m\u001b[38;5;124my = \u001b[39m\u001b[38;5;132;01m{\u001b[39;00mbeta\u001b[38;5;132;01m:\u001b[39;00m\u001b[38;5;124m.4f\u001b[39m\u001b[38;5;132;01m}\u001b[39;00m\u001b[38;5;124m * x + \u001b[39m\u001b[38;5;132;01m{\u001b[39;00m\u001b[38;5;28mround\u001b[39m(alpha,\u001b[38;5;250m \u001b[39m\u001b[38;5;241m4\u001b[39m)\u001b[38;5;250m \u001b[39m\u001b[38;5;28;01mif\u001b[39;00m\u001b[38;5;250m \u001b[39madd_bias\u001b[38;5;250m \u001b[39m\u001b[38;5;28;01melse\u001b[39;00m\u001b[38;5;250m \u001b[39m\u001b[38;5;124m'\u001b[39m\u001b[38;5;124m'\u001b[39m\u001b[38;5;132;01m}\u001b[39;00m\u001b[38;5;124m\"\u001b[39m\n\u001b[1;32m    107\u001b[0m \u001b[38;5;28;01melif\u001b[39;00m add_bias \u001b[38;5;129;01mand\u001b[39;00m alpha \u001b[38;5;241m<\u001b[39m \u001b[38;5;241m0\u001b[39m:\n",
      "\u001b[0;31mTypeError\u001b[0m: '>' not supported between instances of 'NoneType' and 'int'"
     ]
    }
   ],
   "source": [
    "dia.plot_lstsq(\n",
    "    x = \"sepal length (cm)\", \n",
    "    target = pl.col(\"petal length (cm)\"), \n",
    "    add_bias=True,\n",
    "    filter_by = pl.col(\"petal length (cm)\") > 2,\n",
    "    by = \"species\"\n",
    ")"
   ]
  },
  {
   "cell_type": "code",
   "execution_count": null,
   "metadata": {},
   "outputs": [],
   "source": [
    "# Run the above on different subsets\n",
    "for v in df[\"species\"].unique():\n",
    "    fig = dia.plot_lstsq(\n",
    "        x = \"sepal length (cm)\", \n",
    "        target = \"petal length (cm)\",  \n",
    "        add_bias=True,\n",
    "        condition = pl.col(\"species\") == v\n",
    "    )\n",
    "    fig.show()"
   ]
  },
  {
   "cell_type": "code",
   "execution_count": null,
   "metadata": {},
   "outputs": [],
   "source": []
  },
  {
   "cell_type": "code",
   "execution_count": null,
   "metadata": {},
   "outputs": [],
   "source": []
  }
 ],
 "metadata": {
  "kernelspec": {
   "display_name": ".venv",
   "language": "python",
   "name": "python3"
  },
  "language_info": {
   "codemirror_mode": {
    "name": "ipython",
    "version": 3
   },
   "file_extension": ".py",
   "mimetype": "text/x-python",
   "name": "python",
   "nbconvert_exporter": "python",
   "pygments_lexer": "ipython3",
   "version": "3.11.8"
  }
 },
 "nbformat": 4,
 "nbformat_minor": 2
}
