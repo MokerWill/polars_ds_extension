{
 "cells": [
  {
   "cell_type": "code",
   "execution_count": 1,
   "id": "529f4422-5c3a-4bd6-abe0-a15edfc62abb",
   "metadata": {},
   "outputs": [],
   "source": [
    "import polars as pl\n",
    "import polars_ds as pds\n",
    "import numpy as np"
   ]
  },
  {
   "cell_type": "markdown",
   "id": "6a314316",
   "metadata": {},
   "source": [
    "# This notebook illustrates the basic usage of this package\n",
    "\n",
    "You need to create an environment with this package installed to run this notebook. (usually latest version)"
   ]
  },
  {
   "cell_type": "markdown",
   "id": "3aef5c69-fff3-4779-9b58-f939d725f0b0",
   "metadata": {},
   "source": [
    "# Num Extensions"
   ]
  },
  {
   "cell_type": "code",
   "execution_count": 2,
   "id": "430fec01-5d0b-422f-b099-c86037512b6d",
   "metadata": {},
   "outputs": [
    {
     "data": {
      "text/html": [
       "<div><style>\n",
       ".dataframe > thead > tr,\n",
       ".dataframe > tbody > tr {\n",
       "  text-align: right;\n",
       "  white-space: pre-wrap;\n",
       "}\n",
       "</style>\n",
       "<small>shape: (5, 13)</small><table border=\"1\" class=\"dataframe\"><thead><tr><th>f</th><th>time_idx</th><th>dummy</th><th>actual</th><th>predicted</th><th>dummy_groups</th><th>x1</th><th>x2</th><th>x3</th><th>a</th><th>b</th><th>y</th><th>y2</th></tr><tr><td>f64</td><td>i64</td><td>str</td><td>i32</td><td>f64</td><td>str</td><td>f64</td><td>f64</td><td>f64</td><td>f64</td><td>f64</td><td>f64</td><td>f64</td></tr></thead><tbody><tr><td>0.0</td><td>0</td><td>&quot;a&quot;</td><td>0</td><td>0.375402</td><td>&quot;a&quot;</td><td>0.942222</td><td>0.439831</td><td>0.971564</td><td>0.161725</td><td>0.081282</td><td>-1.184052</td><td>0.223283</td></tr><tr><td>0.841471</td><td>1</td><td>&quot;a&quot;</td><td>0</td><td>0.459718</td><td>&quot;a&quot;</td><td>0.3503</td><td>0.32613</td><td>0.301961</td><td>0.925339</td><td>0.63425</td><td>-0.302463</td><td>0.162196</td></tr><tr><td>0.909297</td><td>2</td><td>&quot;a&quot;</td><td>1</td><td>0.852819</td><td>&quot;a&quot;</td><td>0.159627</td><td>0.749902</td><td>0.027656</td><td>0.485268</td><td>0.129957</td><td>0.207438</td><td>0.355489</td></tr><tr><td>0.14112</td><td>3</td><td>&quot;a&quot;</td><td>1</td><td>0.19791</td><td>&quot;a&quot;</td><td>0.610992</td><td>0.830041</td><td>0.19653</td><td>0.462807</td><td>0.884362</td><td>0.04594</td><td>0.433295</td></tr><tr><td>-0.756802</td><td>4</td><td>&quot;a&quot;</td><td>1</td><td>0.22126</td><td>&quot;a&quot;</td><td>0.867392</td><td>0.174458</td><td>0.243151</td><td>0.421551</td><td>0.758321</td><td>-0.182225</td><td>0.167</td></tr></tbody></table></div>"
      ],
      "text/plain": [
       "shape: (5, 13)\n",
       "┌───────────┬──────────┬───────┬────────┬───┬──────────┬──────────┬───────────┬──────────┐\n",
       "│ f         ┆ time_idx ┆ dummy ┆ actual ┆ … ┆ a        ┆ b        ┆ y         ┆ y2       │\n",
       "│ ---       ┆ ---      ┆ ---   ┆ ---    ┆   ┆ ---      ┆ ---      ┆ ---       ┆ ---      │\n",
       "│ f64       ┆ i64      ┆ str   ┆ i32    ┆   ┆ f64      ┆ f64      ┆ f64       ┆ f64      │\n",
       "╞═══════════╪══════════╪═══════╪════════╪═══╪══════════╪══════════╪═══════════╪══════════╡\n",
       "│ 0.0       ┆ 0        ┆ a     ┆ 0      ┆ … ┆ 0.161725 ┆ 0.081282 ┆ -1.184052 ┆ 0.223283 │\n",
       "│ 0.841471  ┆ 1        ┆ a     ┆ 0      ┆ … ┆ 0.925339 ┆ 0.63425  ┆ -0.302463 ┆ 0.162196 │\n",
       "│ 0.909297  ┆ 2        ┆ a     ┆ 1      ┆ … ┆ 0.485268 ┆ 0.129957 ┆ 0.207438  ┆ 0.355489 │\n",
       "│ 0.14112   ┆ 3        ┆ a     ┆ 1      ┆ … ┆ 0.462807 ┆ 0.884362 ┆ 0.04594   ┆ 0.433295 │\n",
       "│ -0.756802 ┆ 4        ┆ a     ┆ 1      ┆ … ┆ 0.421551 ┆ 0.758321 ┆ -0.182225 ┆ 0.167    │\n",
       "└───────────┴──────────┴───────┴────────┴───┴──────────┴──────────┴───────────┴──────────┘"
      ]
     },
     "execution_count": 2,
     "metadata": {},
     "output_type": "execute_result"
    }
   ],
   "source": [
    "size = 10_000\n",
    "df = pl.DataFrame({\n",
    "    \"f\": np.sin(list(range(size)))\n",
    "    , \"time_idx\": range(size)\n",
    "    , \"dummy\": [\"a\"] * (size // 2) + [\"b\"] * (size // 2)\n",
    "    , \"actual\": np.round(np.random.random(size=size)).astype(np.int32)\n",
    "    , \"predicted\": np.random.random(size=size)\n",
    "    , \"dummy_groups\":[\"a\"] * (size//2) + [\"b\"] * (size//2) \n",
    "}).with_columns(\n",
    "    pds.random(0., 1.).alias(\"x1\")\n",
    "    , pds.random(0., 1.).alias(\"x2\")\n",
    "    , pds.random(0., 1.).alias(\"x3\")\n",
    "    , pds.random(0., 1.).alias(\"a\")\n",
    "    , pds.random(0., 1.).alias(\"b\")\n",
    ").with_columns(\n",
    "    y = pl.col(\"x1\") * 0.15 + pl.col(\"x2\") * 0.3 - pl.col(\"x3\") * 1.5 + pds.random() * 0.0001,\n",
    "    y2 = pl.col(\"x1\") * 0.13 + pl.col(\"x2\") * 0.45 - pl.col(\"x3\") * 0.1 + pds.random() * 0.0001\n",
    ")\n",
    "df.head()"
   ]
  },
  {
   "cell_type": "code",
   "execution_count": 3,
   "id": "b6f98453-34cd-4afc-b35d-db58fa60a69a",
   "metadata": {},
   "outputs": [
    {
     "data": {
      "text/html": [
       "<div><style>\n",
       ".dataframe > thead > tr,\n",
       ".dataframe > tbody > tr {\n",
       "  text-align: right;\n",
       "  white-space: pre-wrap;\n",
       "}\n",
       "</style>\n",
       "<small>shape: (1, 1)</small><table border=\"1\" class=\"dataframe\"><thead><tr><th>x1</th></tr><tr><td>f64</td></tr></thead><tbody><tr><td>0.0</td></tr></tbody></table></div>"
      ],
      "text/plain": [
       "shape: (1, 1)\n",
       "┌─────┐\n",
       "│ x1  │\n",
       "│ --- │\n",
       "│ f64 │\n",
       "╞═════╡\n",
       "│ 0.0 │\n",
       "└─────┘"
      ]
     },
     "execution_count": 3,
     "metadata": {},
     "output_type": "execute_result"
    }
   ],
   "source": [
    "# Column-wise Jaccard Similarity. Result should be 0 as they are distinct\n",
    "df.select(\n",
    "    pds.jaccard_col(\"x1\", pl.col(\"x2\"))\n",
    ")"
   ]
  },
  {
   "cell_type": "code",
   "execution_count": 4,
   "id": "416d5346-e75b-4769-a953-e898d6a4d84c",
   "metadata": {},
   "outputs": [
    {
     "data": {
      "text/html": [
       "<div><style>\n",
       ".dataframe > thead > tr,\n",
       ".dataframe > tbody > tr {\n",
       "  text-align: right;\n",
       "  white-space: pre-wrap;\n",
       "}\n",
       "</style>\n",
       "<small>shape: (5, 1)</small><table border=\"1\" class=\"dataframe\"><thead><tr><th>f</th></tr><tr><td>array[f64, 2]</td></tr></thead><tbody><tr><td>[1.939505, 0.0]</td></tr><tr><td>[1.939506, 0.000209]</td></tr><tr><td>[1.939508, 0.000418]</td></tr><tr><td>[1.939512, 0.000627]</td></tr><tr><td>[1.939518, 0.000835]</td></tr></tbody></table></div>"
      ],
      "text/plain": [
       "shape: (5, 1)\n",
       "┌──────────────────────┐\n",
       "│ f                    │\n",
       "│ ---                  │\n",
       "│ array[f64, 2]        │\n",
       "╞══════════════════════╡\n",
       "│ [1.939505, 0.0]      │\n",
       "│ [1.939506, 0.000209] │\n",
       "│ [1.939508, 0.000418] │\n",
       "│ [1.939512, 0.000627] │\n",
       "│ [1.939518, 0.000835] │\n",
       "└──────────────────────┘"
      ]
     },
     "execution_count": 4,
     "metadata": {},
     "output_type": "execute_result"
    }
   ],
   "source": [
    "# FFT. First is real part, second is complex part\n",
    "# By default, this behaves the same as np's rfft, which returns a non-redundant \n",
    "# compact representation of fft output.\n",
    "df.select(\n",
    "    pds.rfft(\"f\")\n",
    ").head()"
   ]
  },
  {
   "cell_type": "code",
   "execution_count": 5,
   "id": "71c76353",
   "metadata": {},
   "outputs": [
    {
     "data": {
      "text/plain": [
       "(10000, 1)"
      ]
     },
     "execution_count": 5,
     "metadata": {},
     "output_type": "execute_result"
    }
   ],
   "source": [
    "# FFT. But return the full length\n",
    "df.select(\n",
    "    pds.rfft(\"f\", return_full=True)\n",
    ").shape"
   ]
  },
  {
   "cell_type": "code",
   "execution_count": 6,
   "id": "cd6662d2",
   "metadata": {},
   "outputs": [
    {
     "data": {
      "text/html": [
       "<div><style>\n",
       ".dataframe > thead > tr,\n",
       ".dataframe > tbody > tr {\n",
       "  text-align: right;\n",
       "  white-space: pre-wrap;\n",
       "}\n",
       "</style>\n",
       "<small>shape: (5, 3)</small><table border=\"1\" class=\"dataframe\"><thead><tr><th>f</th><th>a</th><th>b</th></tr><tr><td>f64</td><td>f64</td><td>f64</td></tr></thead><tbody><tr><td>1.3944e-15</td><td>-0.161725</td><td>-0.081282</td></tr><tr><td>-0.841471</td><td>-0.925339</td><td>-0.63425</td></tr><tr><td>-0.909297</td><td>-0.485268</td><td>-0.129957</td></tr><tr><td>-0.14112</td><td>-0.462807</td><td>-0.884362</td></tr><tr><td>0.756802</td><td>-0.259826</td><td>-0.677039</td></tr></tbody></table></div>"
      ],
      "text/plain": [
       "shape: (5, 3)\n",
       "┌────────────┬───────────┬───────────┐\n",
       "│ f          ┆ a         ┆ b         │\n",
       "│ ---        ┆ ---       ┆ ---       │\n",
       "│ f64        ┆ f64       ┆ f64       │\n",
       "╞════════════╪═══════════╪═══════════╡\n",
       "│ 1.3944e-15 ┆ -0.161725 ┆ -0.081282 │\n",
       "│ -0.841471  ┆ -0.925339 ┆ -0.63425  │\n",
       "│ -0.909297  ┆ -0.485268 ┆ -0.129957 │\n",
       "│ -0.14112   ┆ -0.462807 ┆ -0.884362 │\n",
       "│ 0.756802   ┆ -0.259826 ┆ -0.677039 │\n",
       "└────────────┴───────────┴───────────┘"
      ]
     },
     "execution_count": 6,
     "metadata": {},
     "output_type": "execute_result"
    }
   ],
   "source": [
    "# Multiple Convolutions at once\n",
    "# Modes: `same`, `left` (left-aligned same), `right` (right-aligned same), `valid` or `full`\n",
    "# Method: `fft`, `direct`\n",
    "# Currently slower than SciPy but provides parallelism because of Polars\n",
    "df.select(\n",
    "    pds.convolve(\"f\", [-1, 0, 0, 0, 1], mode = \"full\", method = \"fft\"), # column f with the kernel given here\n",
    "    pds.convolve(\"a\", [-1, 0, 0, 0, 1], mode = \"full\", method = \"direct\"),\n",
    "    pds.convolve(\"b\", [-1, 0, 0, 0, 1], mode = \"full\", method = \"direct\"),\n",
    ").head()"
   ]
  },
  {
   "cell_type": "code",
   "execution_count": 7,
   "id": "ed47b643-6bcc-43f6-9a25-82168c33e7fd",
   "metadata": {},
   "outputs": [
    {
     "data": {
      "text/html": [
       "<div><style>\n",
       ".dataframe > thead > tr,\n",
       ".dataframe > tbody > tr {\n",
       "  text-align: right;\n",
       "  white-space: pre-wrap;\n",
       "}\n",
       "</style>\n",
       "<small>shape: (1, 1)</small><table border=\"1\" class=\"dataframe\"><thead><tr><th>lstsq_coeffs</th></tr><tr><td>list[f64]</td></tr></thead><tbody><tr><td>[-0.492448, -0.345018]</td></tr></tbody></table></div>"
      ],
      "text/plain": [
       "shape: (1, 1)\n",
       "┌────────────────────────┐\n",
       "│ lstsq_coeffs           │\n",
       "│ ---                    │\n",
       "│ list[f64]              │\n",
       "╞════════════════════════╡\n",
       "│ [-0.492448, -0.345018] │\n",
       "└────────────────────────┘"
      ]
     },
     "execution_count": 7,
     "metadata": {},
     "output_type": "execute_result"
    }
   ],
   "source": [
    "# Linear Regression\n",
    "df.select(\n",
    "    pds.lin_reg(\n",
    "        pl.col(\"x1\"), pl.col(\"x2\"),\n",
    "        target = pl.col(\"y\"),\n",
    "        add_bias=False\n",
    "    )\n",
    ")"
   ]
  },
  {
   "cell_type": "code",
   "execution_count": 8,
   "id": "e94324b7",
   "metadata": {},
   "outputs": [
    {
     "data": {
      "text/html": [
       "<div><style>\n",
       ".dataframe > thead > tr,\n",
       ".dataframe > tbody > tr {\n",
       "  text-align: right;\n",
       "  white-space: pre-wrap;\n",
       "}\n",
       "</style>\n",
       "<small>shape: (1, 2)</small><table border=\"1\" class=\"dataframe\"><thead><tr><th>y</th><th>y2</th></tr><tr><td>list[f64]</td><td>list[f64]</td></tr></thead><tbody><tr><td>[-0.492448, -0.345018]</td><td>[0.087209, 0.40704]</td></tr></tbody></table></div>"
      ],
      "text/plain": [
       "shape: (1, 2)\n",
       "┌────────────────────────┬─────────────────────┐\n",
       "│ y                      ┆ y2                  │\n",
       "│ ---                    ┆ ---                 │\n",
       "│ list[f64]              ┆ list[f64]           │\n",
       "╞════════════════════════╪═════════════════════╡\n",
       "│ [-0.492448, -0.345018] ┆ [0.087209, 0.40704] │\n",
       "└────────────────────────┴─────────────────────┘"
      ]
     },
     "execution_count": 8,
     "metadata": {},
     "output_type": "execute_result"
    }
   ],
   "source": [
    "# Linear Regression, multi-target\n",
    "df.select(\n",
    "    pds.lin_reg(\n",
    "        pl.col(\"x1\"), pl.col(\"x2\"),\n",
    "        target = [pl.col(\"y\"), pl.col(\"y2\")],\n",
    "        add_bias=False\n",
    "    )\n",
    ").unnest(\"lstsq_coeffs\")"
   ]
  },
  {
   "cell_type": "code",
   "execution_count": 9,
   "id": "7e6da23d",
   "metadata": {},
   "outputs": [
    {
     "data": {
      "text/html": [
       "<div><style>\n",
       ".dataframe > thead > tr,\n",
       ".dataframe > tbody > tr {\n",
       "  text-align: right;\n",
       "  white-space: pre-wrap;\n",
       "}\n",
       "</style>\n",
       "<small>shape: (4, 7)</small><table border=\"1\" class=\"dataframe\"><thead><tr><th>features</th><th>beta</th><th>std_err</th><th>t</th><th>p&gt;|t|</th><th>0.025</th><th>0.975</th></tr><tr><td>str</td><td>f64</td><td>f64</td><td>f64</td><td>f64</td><td>f64</td><td>f64</td></tr></thead><tbody><tr><td>&quot;ln(x1+1)&quot;</td><td>0.218917</td><td>0.001663</td><td>131.635063</td><td>0.0</td><td>0.215657</td><td>0.222177</td></tr><tr><td>&quot;exp(x2)&quot;</td><td>0.173932</td><td>0.000667</td><td>260.7488</td><td>0.0</td><td>0.172624</td><td>0.175239</td></tr><tr><td>&quot;sin(x3)&quot;</td><td>-1.742118</td><td>0.001336</td><td>-1304.216985</td><td>0.0</td><td>-1.744737</td><td>-1.7395</td></tr><tr><td>&quot;__bias__&quot;</td><td>-0.106742</td><td>0.001485</td><td>-71.895288</td><td>0.0</td><td>-0.109652</td><td>-0.103832</td></tr></tbody></table></div>"
      ],
      "text/plain": [
       "shape: (4, 7)\n",
       "┌──────────┬───────────┬──────────┬──────────────┬───────┬───────────┬───────────┐\n",
       "│ features ┆ beta      ┆ std_err  ┆ t            ┆ p>|t| ┆ 0.025     ┆ 0.975     │\n",
       "│ ---      ┆ ---       ┆ ---      ┆ ---          ┆ ---   ┆ ---       ┆ ---       │\n",
       "│ str      ┆ f64       ┆ f64      ┆ f64          ┆ f64   ┆ f64       ┆ f64       │\n",
       "╞══════════╪═══════════╪══════════╪══════════════╪═══════╪═══════════╪═══════════╡\n",
       "│ ln(x1+1) ┆ 0.218917  ┆ 0.001663 ┆ 131.635063   ┆ 0.0   ┆ 0.215657  ┆ 0.222177  │\n",
       "│ exp(x2)  ┆ 0.173932  ┆ 0.000667 ┆ 260.7488     ┆ 0.0   ┆ 0.172624  ┆ 0.175239  │\n",
       "│ sin(x3)  ┆ -1.742118 ┆ 0.001336 ┆ -1304.216985 ┆ 0.0   ┆ -1.744737 ┆ -1.7395   │\n",
       "│ __bias__ ┆ -0.106742 ┆ 0.001485 ┆ -71.895288   ┆ 0.0   ┆ -0.109652 ┆ -0.103832 │\n",
       "└──────────┴───────────┴──────────┴──────────────┴───────┴───────────┴───────────┘"
      ]
     },
     "execution_count": 9,
     "metadata": {},
     "output_type": "execute_result"
    }
   ],
   "source": [
    "df.select(\n",
    "    pds.lin_reg_report(\n",
    "        # formulaic input is also available for lstsq related queries, \n",
    "        # or you can always use polars expressions, e.g. pl.col('x1') + 1, pl.col('x2').exp(), pl.col('x3').sin()\n",
    "        \"ln(x1+1)\", \"exp(x2)\", \"sin(x3)\",\n",
    "        target = \"y\",\n",
    "        add_bias = True\n",
    "    ).alias(\"report\")\n",
    ").unnest(\"report\")"
   ]
  },
  {
   "cell_type": "code",
   "execution_count": 10,
   "id": "16511624-fc7f-45fc-b28e-ad9a91c1bfe9",
   "metadata": {},
   "outputs": [
    {
     "data": {
      "text/html": [
       "<div><style>\n",
       ".dataframe > thead > tr,\n",
       ".dataframe > tbody > tr {\n",
       "  text-align: right;\n",
       "  white-space: pre-wrap;\n",
       "}\n",
       "</style>\n",
       "<small>shape: (10_000, 2)</small><table border=\"1\" class=\"dataframe\"><thead><tr><th>dummy</th><th>lstsq_coeffs</th></tr><tr><td>str</td><td>list[f64]</td></tr></thead><tbody><tr><td>&quot;a&quot;</td><td>[-0.486552, -0.344752]</td></tr><tr><td>&quot;a&quot;</td><td>[-0.486552, -0.344752]</td></tr><tr><td>&quot;a&quot;</td><td>[-0.486552, -0.344752]</td></tr><tr><td>&quot;a&quot;</td><td>[-0.486552, -0.344752]</td></tr><tr><td>&quot;a&quot;</td><td>[-0.486552, -0.344752]</td></tr><tr><td>&hellip;</td><td>&hellip;</td></tr><tr><td>&quot;b&quot;</td><td>[-0.49842, -0.345308]</td></tr><tr><td>&quot;b&quot;</td><td>[-0.49842, -0.345308]</td></tr><tr><td>&quot;b&quot;</td><td>[-0.49842, -0.345308]</td></tr><tr><td>&quot;b&quot;</td><td>[-0.49842, -0.345308]</td></tr><tr><td>&quot;b&quot;</td><td>[-0.49842, -0.345308]</td></tr></tbody></table></div>"
      ],
      "text/plain": [
       "shape: (10_000, 2)\n",
       "┌───────┬────────────────────────┐\n",
       "│ dummy ┆ lstsq_coeffs           │\n",
       "│ ---   ┆ ---                    │\n",
       "│ str   ┆ list[f64]              │\n",
       "╞═══════╪════════════════════════╡\n",
       "│ a     ┆ [-0.486552, -0.344752] │\n",
       "│ a     ┆ [-0.486552, -0.344752] │\n",
       "│ a     ┆ [-0.486552, -0.344752] │\n",
       "│ a     ┆ [-0.486552, -0.344752] │\n",
       "│ a     ┆ [-0.486552, -0.344752] │\n",
       "│ …     ┆ …                      │\n",
       "│ b     ┆ [-0.49842, -0.345308]  │\n",
       "│ b     ┆ [-0.49842, -0.345308]  │\n",
       "│ b     ┆ [-0.49842, -0.345308]  │\n",
       "│ b     ┆ [-0.49842, -0.345308]  │\n",
       "│ b     ┆ [-0.49842, -0.345308]  │\n",
       "└───────┴────────────────────────┘"
      ]
     },
     "execution_count": 10,
     "metadata": {},
     "output_type": "execute_result"
    }
   ],
   "source": [
    "df.select(\n",
    "    \"dummy\",\n",
    "    pds.lin_reg(\n",
    "        pl.col(\"x1\"), pl.col(\"x2\"),\n",
    "        target = pl.col(\"y\"),\n",
    "        add_bias=False\n",
    "    ).over(pl.col(\"dummy\"))\n",
    ")"
   ]
  },
  {
   "cell_type": "code",
   "execution_count": 11,
   "id": "f550c7c6",
   "metadata": {},
   "outputs": [
    {
     "data": {
      "text/html": [
       "<div><style>\n",
       ".dataframe > thead > tr,\n",
       ".dataframe > tbody > tr {\n",
       "  text-align: right;\n",
       "  white-space: pre-wrap;\n",
       "}\n",
       "</style>\n",
       "<small>shape: (5, 5)</small><table border=\"1\" class=\"dataframe\"><thead><tr><th>x1</th><th>x2</th><th>y</th><th>pred</th><th>resid</th></tr><tr><td>f64</td><td>f64</td><td>f64</td><td>f64</td><td>f64</td></tr></thead><tbody><tr><td>0.942222</td><td>0.439831</td><td>-1.184052</td><td>-0.615745</td><td>-0.568307</td></tr><tr><td>0.3503</td><td>0.32613</td><td>-0.302463</td><td>-0.285026</td><td>-0.017438</td></tr><tr><td>0.159627</td><td>0.749902</td><td>0.207438</td><td>-0.337337</td><td>0.544775</td></tr><tr><td>0.610992</td><td>0.830041</td><td>0.04594</td><td>-0.587261</td><td>0.633201</td></tr><tr><td>0.867392</td><td>0.174458</td><td>-0.182225</td><td>-0.487336</td><td>0.305112</td></tr></tbody></table></div>"
      ],
      "text/plain": [
       "shape: (5, 5)\n",
       "┌──────────┬──────────┬───────────┬───────────┬───────────┐\n",
       "│ x1       ┆ x2       ┆ y         ┆ pred      ┆ resid     │\n",
       "│ ---      ┆ ---      ┆ ---       ┆ ---       ┆ ---       │\n",
       "│ f64      ┆ f64      ┆ f64       ┆ f64       ┆ f64       │\n",
       "╞══════════╪══════════╪═══════════╪═══════════╪═══════════╡\n",
       "│ 0.942222 ┆ 0.439831 ┆ -1.184052 ┆ -0.615745 ┆ -0.568307 │\n",
       "│ 0.3503   ┆ 0.32613  ┆ -0.302463 ┆ -0.285026 ┆ -0.017438 │\n",
       "│ 0.159627 ┆ 0.749902 ┆ 0.207438  ┆ -0.337337 ┆ 0.544775  │\n",
       "│ 0.610992 ┆ 0.830041 ┆ 0.04594   ┆ -0.587261 ┆ 0.633201  │\n",
       "│ 0.867392 ┆ 0.174458 ┆ -0.182225 ┆ -0.487336 ┆ 0.305112  │\n",
       "└──────────┴──────────┴───────────┴───────────┴───────────┘"
      ]
     },
     "execution_count": 11,
     "metadata": {},
     "output_type": "execute_result"
    }
   ],
   "source": [
    "# If you want prediction and residue instead of coefficients\n",
    "df.select(\n",
    "    \"x1\",\n",
    "    \"x2\",\n",
    "    \"y\",\n",
    "    pds.lin_reg(\n",
    "        \"x1\", pl.col(\"x2\"),\n",
    "        target = \"y\",\n",
    "        add_bias=False, \n",
    "        return_pred=True\n",
    "    ).alias(\"prediction\")\n",
    ").unnest(\"prediction\").head()"
   ]
  },
  {
   "cell_type": "code",
   "execution_count": 12,
   "id": "0e9fb061-340d-423d-9107-772387006ff2",
   "metadata": {},
   "outputs": [
    {
     "data": {
      "text/html": [
       "<div><style>\n",
       ".dataframe > thead > tr,\n",
       ".dataframe > tbody > tr {\n",
       "  text-align: right;\n",
       "  white-space: pre-wrap;\n",
       "}\n",
       "</style>\n",
       "<small>shape: (2, 2)</small><table border=\"1\" class=\"dataframe\"><thead><tr><th>dummy</th><th>lstsq_coeffs</th></tr><tr><td>str</td><td>list[f64]</td></tr></thead><tbody><tr><td>&quot;b&quot;</td><td>[-0.49842, -0.345308]</td></tr><tr><td>&quot;a&quot;</td><td>[-0.486552, -0.344752]</td></tr></tbody></table></div>"
      ],
      "text/plain": [
       "shape: (2, 2)\n",
       "┌───────┬────────────────────────┐\n",
       "│ dummy ┆ lstsq_coeffs           │\n",
       "│ ---   ┆ ---                    │\n",
       "│ str   ┆ list[f64]              │\n",
       "╞═══════╪════════════════════════╡\n",
       "│ b     ┆ [-0.49842, -0.345308]  │\n",
       "│ a     ┆ [-0.486552, -0.344752] │\n",
       "└───────┴────────────────────────┘"
      ]
     },
     "execution_count": 12,
     "metadata": {},
     "output_type": "execute_result"
    }
   ],
   "source": [
    "df.group_by(\"dummy\").agg(\n",
    "    pds.lin_reg(\n",
    "        pl.col(\"x1\"), pl.col(\"x2\"),\n",
    "        target = pl.col(\"y\"),\n",
    "        add_bias=False\n",
    "    )\n",
    ")"
   ]
  },
  {
   "cell_type": "code",
   "execution_count": 13,
   "id": "955f2db2",
   "metadata": {},
   "outputs": [
    {
     "data": {
      "text/html": [
       "<div><style>\n",
       ".dataframe > thead > tr,\n",
       ".dataframe > tbody > tr {\n",
       "  text-align: right;\n",
       "  white-space: pre-wrap;\n",
       "}\n",
       "</style>\n",
       "<small>shape: (2, 2)</small><table border=\"1\" class=\"dataframe\"><thead><tr><th>dummy</th><th>lstsq_coeffs</th></tr><tr><td>str</td><td>list[f64]</td></tr></thead><tbody><tr><td>&quot;a&quot;</td><td>[-0.312191, -0.177624]</td></tr><tr><td>&quot;b&quot;</td><td>[-0.320968, -0.17587]</td></tr></tbody></table></div>"
      ],
      "text/plain": [
       "shape: (2, 2)\n",
       "┌───────┬────────────────────────┐\n",
       "│ dummy ┆ lstsq_coeffs           │\n",
       "│ ---   ┆ ---                    │\n",
       "│ str   ┆ list[f64]              │\n",
       "╞═══════╪════════════════════════╡\n",
       "│ a     ┆ [-0.312191, -0.177624] │\n",
       "│ b     ┆ [-0.320968, -0.17587]  │\n",
       "└───────┴────────────────────────┘"
      ]
     },
     "execution_count": 13,
     "metadata": {},
     "output_type": "execute_result"
    }
   ],
   "source": [
    "# Lasso\n",
    "df.group_by(\"dummy\").agg(\n",
    "    pds.lin_reg(\n",
    "        pl.col(\"x1\"), pl.col(\"x2\"),\n",
    "        target = pl.col(\"y\"),\n",
    "        l1_reg = 0.1,\n",
    "        add_bias=False\n",
    "    )\n",
    ")"
   ]
  },
  {
   "cell_type": "code",
   "execution_count": 14,
   "id": "1bdae8e5",
   "metadata": {},
   "outputs": [
    {
     "data": {
      "text/html": [
       "<div><style>\n",
       ".dataframe > thead > tr,\n",
       ".dataframe > tbody > tr {\n",
       "  text-align: right;\n",
       "  white-space: pre-wrap;\n",
       "}\n",
       "</style>\n",
       "<small>shape: (2, 2)</small><table border=\"1\" class=\"dataframe\"><thead><tr><th>dummy</th><th>lasso_r2</th></tr><tr><td>str</td><td>f64</td></tr></thead><tbody><tr><td>&quot;a&quot;</td><td>-0.529623</td></tr><tr><td>&quot;b&quot;</td><td>-0.568124</td></tr></tbody></table></div>"
      ],
      "text/plain": [
       "shape: (2, 2)\n",
       "┌───────┬───────────┐\n",
       "│ dummy ┆ lasso_r2  │\n",
       "│ ---   ┆ ---       │\n",
       "│ str   ┆ f64       │\n",
       "╞═══════╪═══════════╡\n",
       "│ a     ┆ -0.529623 │\n",
       "│ b     ┆ -0.568124 │\n",
       "└───────┴───────────┘"
      ]
     },
     "execution_count": 14,
     "metadata": {},
     "output_type": "execute_result"
    }
   ],
   "source": [
    "# R2 metric of lasso regressions on each group\n",
    "df.group_by(\"dummy\").agg(\n",
    "    pds.query_r2(\n",
    "        actual = pl.col(\"y\"),\n",
    "        pred = pds.lin_reg(\n",
    "            pl.col(\"x1\"), pl.col(\"x2\"),\n",
    "            target = pl.col(\"y\"),\n",
    "            l1_reg = 0.1,\n",
    "            return_pred = True,\n",
    "            add_bias=False\n",
    "        ).struct.field(\"pred\")\n",
    "    ).alias(\"lasso_r2\")\n",
    ")"
   ]
  },
  {
   "cell_type": "code",
   "execution_count": 15,
   "id": "765ff27b",
   "metadata": {},
   "outputs": [
    {
     "data": {
      "text/html": [
       "<div><style>\n",
       ".dataframe > thead > tr,\n",
       ".dataframe > tbody > tr {\n",
       "  text-align: right;\n",
       "  white-space: pre-wrap;\n",
       "}\n",
       "</style>\n",
       "<small>shape: (10_000, 5)</small><table border=\"1\" class=\"dataframe\"><thead><tr><th>y</th><th>x1</th><th>x2</th><th>coeffs</th><th>pred</th></tr><tr><td>f64</td><td>f64</td><td>f64</td><td>list[f64]</td><td>f64</td></tr></thead><tbody><tr><td>-1.184052</td><td>0.942222</td><td>0.439831</td><td>null</td><td>null</td></tr><tr><td>-0.302463</td><td>0.3503</td><td>0.32613</td><td>null</td><td>null</td></tr><tr><td>0.207438</td><td>0.159627</td><td>0.749902</td><td>null</td><td>null</td></tr><tr><td>0.04594</td><td>0.610992</td><td>0.830041</td><td>null</td><td>null</td></tr><tr><td>-0.182225</td><td>0.867392</td><td>0.174458</td><td>[-0.869293, 0.429004]</td><td>-0.679175</td></tr><tr><td>&hellip;</td><td>&hellip;</td><td>&hellip;</td><td>&hellip;</td><td>&hellip;</td></tr><tr><td>-0.942163</td><td>0.835742</td><td>0.644598</td><td>[-0.219512, -0.451975]</td><td>-0.474798</td></tr><tr><td>-0.672708</td><td>0.606915</td><td>0.550782</td><td>[-0.32353, -0.396994]</td><td>-0.415012</td></tr><tr><td>-1.196937</td><td>0.573096</td><td>0.602933</td><td>[0.341433, -1.250515]</td><td>-0.558303</td></tr><tr><td>-0.4093</td><td>0.136927</td><td>0.241007</td><td>[2.027571, -3.712283]</td><td>-0.617058</td></tr><tr><td>0.184341</td><td>0.093312</td><td>0.75966</td><td>[-1.5916, 0.260049]</td><td>0.049034</td></tr></tbody></table></div>"
      ],
      "text/plain": [
       "shape: (10_000, 5)\n",
       "┌───────────┬──────────┬──────────┬────────────────────────┬───────────┐\n",
       "│ y         ┆ x1       ┆ x2       ┆ coeffs                 ┆ pred      │\n",
       "│ ---       ┆ ---      ┆ ---      ┆ ---                    ┆ ---       │\n",
       "│ f64       ┆ f64      ┆ f64      ┆ list[f64]              ┆ f64       │\n",
       "╞═══════════╪══════════╪══════════╪════════════════════════╪═══════════╡\n",
       "│ -1.184052 ┆ 0.942222 ┆ 0.439831 ┆ null                   ┆ null      │\n",
       "│ -0.302463 ┆ 0.3503   ┆ 0.32613  ┆ null                   ┆ null      │\n",
       "│ 0.207438  ┆ 0.159627 ┆ 0.749902 ┆ null                   ┆ null      │\n",
       "│ 0.04594   ┆ 0.610992 ┆ 0.830041 ┆ null                   ┆ null      │\n",
       "│ -0.182225 ┆ 0.867392 ┆ 0.174458 ┆ [-0.869293, 0.429004]  ┆ -0.679175 │\n",
       "│ …         ┆ …        ┆ …        ┆ …                      ┆ …         │\n",
       "│ -0.942163 ┆ 0.835742 ┆ 0.644598 ┆ [-0.219512, -0.451975] ┆ -0.474798 │\n",
       "│ -0.672708 ┆ 0.606915 ┆ 0.550782 ┆ [-0.32353, -0.396994]  ┆ -0.415012 │\n",
       "│ -1.196937 ┆ 0.573096 ┆ 0.602933 ┆ [0.341433, -1.250515]  ┆ -0.558303 │\n",
       "│ -0.4093   ┆ 0.136927 ┆ 0.241007 ┆ [2.027571, -3.712283]  ┆ -0.617058 │\n",
       "│ 0.184341  ┆ 0.093312 ┆ 0.75966  ┆ [-1.5916, 0.260049]    ┆ 0.049034  │\n",
       "└───────────┴──────────┴──────────┴────────────────────────┴───────────┘"
      ]
     },
     "execution_count": 15,
     "metadata": {},
     "output_type": "execute_result"
    }
   ],
   "source": [
    "# Rolling regression\n",
    "df.select(\n",
    "    \"y\",\n",
    "    \"x1\",\n",
    "    \"x2\",\n",
    "    pds.rolling_lin_reg(\n",
    "        \"x1\", \"x2\",\n",
    "        target = \"y\",\n",
    "        window_size = 5,\n",
    "        null_policy = \"zero\"\n",
    "    ).alias(\"result\")\n",
    ").unnest(\"result\")"
   ]
  },
  {
   "cell_type": "code",
   "execution_count": 16,
   "id": "d8fda8ca-57e7-4e02-a3f0-283ecce66a59",
   "metadata": {},
   "outputs": [
    {
     "data": {
      "text/html": [
       "<div><style>\n",
       ".dataframe > thead > tr,\n",
       ".dataframe > tbody > tr {\n",
       "  text-align: right;\n",
       "  white-space: pre-wrap;\n",
       "}\n",
       "</style>\n",
       "<small>shape: (1, 1)</small><table border=\"1\" class=\"dataframe\"><thead><tr><th>y</th></tr><tr><td>f64</td></tr></thead><tbody><tr><td>-0.0</td></tr></tbody></table></div>"
      ],
      "text/plain": [
       "shape: (1, 1)\n",
       "┌──────┐\n",
       "│ y    │\n",
       "│ ---  │\n",
       "│ f64  │\n",
       "╞══════╡\n",
       "│ -0.0 │\n",
       "└──────┘"
      ]
     },
     "execution_count": 16,
     "metadata": {},
     "output_type": "execute_result"
    }
   ],
   "source": [
    "# Conditional Entropy, should be 0 because x1 is an ID\n",
    "df.select(\n",
    "    pds.query_cond_entropy(\"y\", \"x1\")\n",
    ")"
   ]
  },
  {
   "cell_type": "code",
   "execution_count": 17,
   "id": "81def1cf",
   "metadata": {},
   "outputs": [
    {
     "data": {
      "text/html": [
       "<div><style>\n",
       ".dataframe > thead > tr,\n",
       ".dataframe > tbody > tr {\n",
       "  text-align: right;\n",
       "  white-space: pre-wrap;\n",
       "}\n",
       "</style>\n",
       "<small>shape: (1, 1)</small><table border=\"1\" class=\"dataframe\"><thead><tr><th>a</th></tr><tr><td>list[f64]</td></tr></thead><tbody><tr><td>[29.105964, 28.759142, 28.501461]</td></tr></tbody></table></div>"
      ],
      "text/plain": [
       "shape: (1, 1)\n",
       "┌─────────────────────────────────┐\n",
       "│ a                               │\n",
       "│ ---                             │\n",
       "│ list[f64]                       │\n",
       "╞═════════════════════════════════╡\n",
       "│ [29.105964, 28.759142, 28.5014… │\n",
       "└─────────────────────────────────┘"
      ]
     },
     "execution_count": 17,
     "metadata": {},
     "output_type": "execute_result"
    }
   ],
   "source": [
    "# Only want singular values (principal values?)\n",
    "df.select(\n",
    "    pds.singular_values(\"a\", \"b\", \"x1\")\n",
    ")"
   ]
  },
  {
   "cell_type": "code",
   "execution_count": 18,
   "id": "cc497383",
   "metadata": {},
   "outputs": [
    {
     "data": {
      "text/html": [
       "<div><style>\n",
       ".dataframe > thead > tr,\n",
       ".dataframe > tbody > tr {\n",
       "  text-align: right;\n",
       "  white-space: pre-wrap;\n",
       "}\n",
       "</style>\n",
       "<small>shape: (2, 2)</small><table border=\"1\" class=\"dataframe\"><thead><tr><th>singular_value</th><th>weight_vector</th></tr><tr><td>f64</td><td>list[f64]</td></tr></thead><tbody><tr><td>28.955855</td><td>[-0.638535, 0.769593]</td></tr><tr><td>28.656947</td><td>[0.769593, 0.638535]</td></tr></tbody></table></div>"
      ],
      "text/plain": [
       "shape: (2, 2)\n",
       "┌────────────────┬───────────────────────┐\n",
       "│ singular_value ┆ weight_vector         │\n",
       "│ ---            ┆ ---                   │\n",
       "│ f64            ┆ list[f64]             │\n",
       "╞════════════════╪═══════════════════════╡\n",
       "│ 28.955855      ┆ [-0.638535, 0.769593] │\n",
       "│ 28.656947      ┆ [0.769593, 0.638535]  │\n",
       "└────────────────┴───────────────────────┘"
      ]
     },
     "execution_count": 18,
     "metadata": {},
     "output_type": "execute_result"
    }
   ],
   "source": [
    "# Singular values + The principal components\n",
    "df.select(\n",
    "    pds.pca(\"a\", \"b\")\n",
    ").unnest(\"a\")"
   ]
  },
  {
   "cell_type": "code",
   "execution_count": 19,
   "id": "e047d40a",
   "metadata": {},
   "outputs": [
    {
     "data": {
      "text/html": [
       "<div><style>\n",
       ".dataframe > thead > tr,\n",
       ".dataframe > tbody > tr {\n",
       "  text-align: right;\n",
       "  white-space: pre-wrap;\n",
       "}\n",
       "</style>\n",
       "<small>shape: (5, 1)</small><table border=\"1\" class=\"dataframe\"><thead><tr><th>pc1</th></tr><tr><td>f64</td></tr></thead><tbody><tr><td>-0.107721</td></tr><tr><td>-0.169755</td></tr><tr><td>-0.276855</td></tr><tr><td>0.318073</td></tr><tr><td>0.247415</td></tr></tbody></table></div>"
      ],
      "text/plain": [
       "shape: (5, 1)\n",
       "┌───────────┐\n",
       "│ pc1       │\n",
       "│ ---       │\n",
       "│ f64       │\n",
       "╞═══════════╡\n",
       "│ -0.107721 │\n",
       "│ -0.169755 │\n",
       "│ -0.276855 │\n",
       "│ 0.318073  │\n",
       "│ 0.247415  │\n",
       "└───────────┘"
      ]
     },
     "execution_count": 19,
     "metadata": {},
     "output_type": "execute_result"
    }
   ],
   "source": [
    "# PC1\n",
    "df.select(\n",
    "    pds.principal_components(\"a\", \"b\", k =1).alias(\"principal_components\")\n",
    ").unnest(\"principal_components\").head()"
   ]
  },
  {
   "cell_type": "markdown",
   "id": "1b2e036f",
   "metadata": {},
   "source": [
    "# ML Metrics"
   ]
  },
  {
   "cell_type": "code",
   "execution_count": 20,
   "id": "85d0d094-3c4c-4230-a589-1027c5690162",
   "metadata": {},
   "outputs": [
    {
     "data": {
      "text/html": [
       "<div><style>\n",
       ".dataframe > thead > tr,\n",
       ".dataframe > tbody > tr {\n",
       "  text-align: right;\n",
       "  white-space: pre-wrap;\n",
       "}\n",
       "</style>\n",
       "<small>shape: (2, 8)</small><table border=\"1\" class=\"dataframe\"><thead><tr><th>dummy_groups</th><th>l2</th><th>log loss</th><th>precision</th><th>recall</th><th>f</th><th>average_precision</th><th>roc_auc</th></tr><tr><td>str</td><td>f64</td><td>f64</td><td>f64</td><td>f64</td><td>f64</td><td>f64</td><td>f64</td></tr></thead><tbody><tr><td>&quot;b&quot;</td><td>0.329164</td><td>0.993235</td><td>0.497233</td><td>0.511798</td><td>0.504411</td><td>0.501376</td><td>0.511545</td></tr><tr><td>&quot;a&quot;</td><td>0.338169</td><td>1.014774</td><td>0.490172</td><td>0.493339</td><td>0.491751</td><td>0.487677</td><td>0.491598</td></tr></tbody></table></div>"
      ],
      "text/plain": [
       "shape: (2, 8)\n",
       "┌──────────────┬──────────┬──────────┬───────────┬──────────┬──────────┬────────────────┬──────────┐\n",
       "│ dummy_groups ┆ l2       ┆ log loss ┆ precision ┆ recall   ┆ f        ┆ average_precis ┆ roc_auc  │\n",
       "│ ---          ┆ ---      ┆ ---      ┆ ---       ┆ ---      ┆ ---      ┆ ion            ┆ ---      │\n",
       "│ str          ┆ f64      ┆ f64      ┆ f64       ┆ f64      ┆ f64      ┆ ---            ┆ f64      │\n",
       "│              ┆          ┆          ┆           ┆          ┆          ┆ f64            ┆          │\n",
       "╞══════════════╪══════════╪══════════╪═══════════╪══════════╪══════════╪════════════════╪══════════╡\n",
       "│ b            ┆ 0.329164 ┆ 0.993235 ┆ 0.497233  ┆ 0.511798 ┆ 0.504411 ┆ 0.501376       ┆ 0.511545 │\n",
       "│ a            ┆ 0.338169 ┆ 1.014774 ┆ 0.490172  ┆ 0.493339 ┆ 0.491751 ┆ 0.487677       ┆ 0.491598 │\n",
       "└──────────────┴──────────┴──────────┴───────────┴──────────┴──────────┴────────────────┴──────────┘"
      ]
     },
     "execution_count": 20,
     "metadata": {},
     "output_type": "execute_result"
    }
   ],
   "source": [
    "df.group_by(\"dummy_groups\").agg(\n",
    "    pds.query_l2(\"actual\", \"predicted\").alias(\"l2\"),\n",
    "    pds.query_log_loss(\"actual\", \"predicted\").alias(\"log loss\"),\n",
    "    pds.query_binary_metrics(actual=\"actual\", pred=\"predicted\").alias(\"combo\")\n",
    ").unnest(\"combo\")\n"
   ]
  },
  {
   "cell_type": "markdown",
   "id": "a8d7c6e3-0f1d-45f0-9fdb-cdb303b98556",
   "metadata": {},
   "source": [
    "# Str Extension"
   ]
  },
  {
   "cell_type": "code",
   "execution_count": 21,
   "id": "54ad36f9-264e-4a49-bf36-936639440edf",
   "metadata": {},
   "outputs": [
    {
     "data": {
      "text/html": [
       "<div><style>\n",
       ".dataframe > thead > tr,\n",
       ".dataframe > tbody > tr {\n",
       "  text-align: right;\n",
       "  white-space: pre-wrap;\n",
       "}\n",
       "</style>\n",
       "<small>shape: (5, 2)</small><table border=\"1\" class=\"dataframe\"><thead><tr><th>sen</th><th>word</th></tr><tr><td>str</td><td>str</td></tr></thead><tbody><tr><td>&quot;Hello, world! I&#x27;m going to chu…</td><td>&quot;words&quot;</td></tr><tr><td>&quot;Hello, world! I&#x27;m going to chu…</td><td>&quot;word&quot;</td></tr><tr><td>&quot;Hello, world! I&#x27;m going to chu…</td><td>&quot;words&quot;</td></tr><tr><td>&quot;Hello, world! I&#x27;m going to chu…</td><td>&quot;word&quot;</td></tr><tr><td>&quot;Hello, world! I&#x27;m going to chu…</td><td>&quot;words&quot;</td></tr></tbody></table></div>"
      ],
      "text/plain": [
       "shape: (5, 2)\n",
       "┌─────────────────────────────────┬───────┐\n",
       "│ sen                             ┆ word  │\n",
       "│ ---                             ┆ ---   │\n",
       "│ str                             ┆ str   │\n",
       "╞═════════════════════════════════╪═══════╡\n",
       "│ Hello, world! I'm going to chu… ┆ words │\n",
       "│ Hello, world! I'm going to chu… ┆ word  │\n",
       "│ Hello, world! I'm going to chu… ┆ words │\n",
       "│ Hello, world! I'm going to chu… ┆ word  │\n",
       "│ Hello, world! I'm going to chu… ┆ words │\n",
       "└─────────────────────────────────┴───────┘"
      ]
     },
     "execution_count": 21,
     "metadata": {},
     "output_type": "execute_result"
    }
   ],
   "source": [
    "size = 100_000\n",
    "df2 = pl.DataFrame({\n",
    "    \"sen\":[\"Hello, world! I'm going to church.\"] * size,\n",
    "    \"word\":[\"words\", \"word\"] * (size //2)\n",
    "})\n",
    "df2.head()"
   ]
  },
  {
   "cell_type": "code",
   "execution_count": 22,
   "id": "ee123a7e-7f9b-4f48-a5d5-6354799201ab",
   "metadata": {},
   "outputs": [
    {
     "data": {
      "text/html": [
       "<div><style>\n",
       ".dataframe > thead > tr,\n",
       ".dataframe > tbody > tr {\n",
       "  text-align: right;\n",
       "  white-space: pre-wrap;\n",
       "}\n",
       "</style>\n",
       "<small>shape: (5, 1)</small><table border=\"1\" class=\"dataframe\"><thead><tr><th>sen</th></tr><tr><td>str</td></tr></thead><tbody><tr><td>&quot;hello&quot;</td></tr><tr><td>&quot;going&quot;</td></tr><tr><td>&quot;church&quot;</td></tr><tr><td>&quot;world&quot;</td></tr><tr><td>&quot;to&quot;</td></tr></tbody></table></div>"
      ],
      "text/plain": [
       "shape: (5, 1)\n",
       "┌────────┐\n",
       "│ sen    │\n",
       "│ ---    │\n",
       "│ str    │\n",
       "╞════════╡\n",
       "│ hello  │\n",
       "│ going  │\n",
       "│ church │\n",
       "│ world  │\n",
       "│ to     │\n",
       "└────────┘"
      ]
     },
     "execution_count": 22,
     "metadata": {},
     "output_type": "execute_result"
    }
   ],
   "source": [
    "# Tokenize\n",
    "df2.select(\n",
    "    pds.str_tokenize(pl.col(\"sen\").str.to_lowercase()).explode().unique()\n",
    ")"
   ]
  },
  {
   "cell_type": "code",
   "execution_count": 23,
   "id": "f33017e3-17df-498b-93d9-1d656a344388",
   "metadata": {},
   "outputs": [
    {
     "data": {
      "text/html": [
       "<div><style>\n",
       ".dataframe > thead > tr,\n",
       ".dataframe > tbody > tr {\n",
       "  text-align: right;\n",
       "  white-space: pre-wrap;\n",
       "}\n",
       "</style>\n",
       "<small>shape: (5, 1)</small><table border=\"1\" class=\"dataframe\"><thead><tr><th>sen</th></tr><tr><td>str</td></tr></thead><tbody><tr><td>&quot;go&quot;</td></tr><tr><td>&quot;church&quot;</td></tr><tr><td>&quot;world&quot;</td></tr><tr><td>&quot;&quot;</td></tr><tr><td>&quot;hello&quot;</td></tr></tbody></table></div>"
      ],
      "text/plain": [
       "shape: (5, 1)\n",
       "┌────────┐\n",
       "│ sen    │\n",
       "│ ---    │\n",
       "│ str    │\n",
       "╞════════╡\n",
       "│ go     │\n",
       "│ church │\n",
       "│ world  │\n",
       "│        │\n",
       "│ hello  │\n",
       "└────────┘"
      ]
     },
     "execution_count": 23,
     "metadata": {},
     "output_type": "execute_result"
    }
   ],
   "source": [
    "df2.select(\n",
    "    pds.str_tokenize(pl.col(\"sen\").str.to_lowercase(), stem=True).explode().unique()\n",
    ")"
   ]
  },
  {
   "cell_type": "code",
   "execution_count": 24,
   "id": "69237c02-5f9f-4e92-b68d-6ac43aad1a79",
   "metadata": {},
   "outputs": [
    {
     "data": {
      "text/html": [
       "<div><style>\n",
       ".dataframe > thead > tr,\n",
       ".dataframe > tbody > tr {\n",
       "  text-align: right;\n",
       "  white-space: pre-wrap;\n",
       "}\n",
       "</style>\n",
       "<small>shape: (5, 1)</small><table border=\"1\" class=\"dataframe\"><thead><tr><th>word</th></tr><tr><td>u32</td></tr></thead><tbody><tr><td>2</td></tr><tr><td>1</td></tr><tr><td>2</td></tr><tr><td>1</td></tr><tr><td>2</td></tr></tbody></table></div>"
      ],
      "text/plain": [
       "shape: (5, 1)\n",
       "┌──────┐\n",
       "│ word │\n",
       "│ ---  │\n",
       "│ u32  │\n",
       "╞══════╡\n",
       "│ 2    │\n",
       "│ 1    │\n",
       "│ 2    │\n",
       "│ 1    │\n",
       "│ 2    │\n",
       "└──────┘"
      ]
     },
     "execution_count": 24,
     "metadata": {},
     "output_type": "execute_result"
    }
   ],
   "source": [
    "df2.select(\n",
    "    pds.str_leven(\"word\", pl.lit(\"world\"))\n",
    ").head()"
   ]
  },
  {
   "cell_type": "code",
   "execution_count": 25,
   "id": "2eba320c",
   "metadata": {},
   "outputs": [
    {
     "data": {
      "text/html": [
       "<div><style>\n",
       ".dataframe > thead > tr,\n",
       ".dataframe > tbody > tr {\n",
       "  text-align: right;\n",
       "  white-space: pre-wrap;\n",
       "}\n",
       "</style>\n",
       "<small>shape: (5, 1)</small><table border=\"1\" class=\"dataframe\"><thead><tr><th>word</th></tr><tr><td>u32</td></tr></thead><tbody><tr><td>2</td></tr><tr><td>1</td></tr><tr><td>2</td></tr><tr><td>1</td></tr><tr><td>2</td></tr></tbody></table></div>"
      ],
      "text/plain": [
       "shape: (5, 1)\n",
       "┌──────┐\n",
       "│ word │\n",
       "│ ---  │\n",
       "│ u32  │\n",
       "╞══════╡\n",
       "│ 2    │\n",
       "│ 1    │\n",
       "│ 2    │\n",
       "│ 1    │\n",
       "│ 2    │\n",
       "└──────┘"
      ]
     },
     "execution_count": 25,
     "metadata": {},
     "output_type": "execute_result"
    }
   ],
   "source": [
    "# Damerau-Levenshtein\n",
    "df2.select(\n",
    "    pds.str_d_leven(\"word\", pl.lit(\"world\"))\n",
    ").head()"
   ]
  },
  {
   "cell_type": "code",
   "execution_count": 26,
   "id": "795396dc",
   "metadata": {},
   "outputs": [
    {
     "data": {
      "text/html": [
       "<div><style>\n",
       ".dataframe > thead > tr,\n",
       ".dataframe > tbody > tr {\n",
       "  text-align: right;\n",
       "  white-space: pre-wrap;\n",
       "}\n",
       "</style>\n",
       "<small>shape: (5, 1)</small><table border=\"1\" class=\"dataframe\"><thead><tr><th>word</th></tr><tr><td>f64</td></tr></thead><tbody><tr><td>0.6</td></tr><tr><td>0.8</td></tr><tr><td>0.6</td></tr><tr><td>0.8</td></tr><tr><td>0.6</td></tr></tbody></table></div>"
      ],
      "text/plain": [
       "shape: (5, 1)\n",
       "┌──────┐\n",
       "│ word │\n",
       "│ ---  │\n",
       "│ f64  │\n",
       "╞══════╡\n",
       "│ 0.6  │\n",
       "│ 0.8  │\n",
       "│ 0.6  │\n",
       "│ 0.8  │\n",
       "│ 0.6  │\n",
       "└──────┘"
      ]
     },
     "execution_count": 26,
     "metadata": {},
     "output_type": "execute_result"
    }
   ],
   "source": [
    "df2.select( # column \"word\" vs. the word \"world\"\n",
    "    pds.str_leven(\"word\", pl.lit(\"world\"), return_sim = True)\n",
    ").head()"
   ]
  },
  {
   "cell_type": "code",
   "execution_count": 27,
   "id": "2dad7633-67fa-47f3-b86a-9f4cd097a650",
   "metadata": {},
   "outputs": [
    {
     "data": {
      "text/html": [
       "<div><style>\n",
       ".dataframe > thead > tr,\n",
       ".dataframe > tbody > tr {\n",
       "  text-align: right;\n",
       "  white-space: pre-wrap;\n",
       "}\n",
       "</style>\n",
       "<small>shape: (5, 2)</small><table border=\"1\" class=\"dataframe\"><thead><tr><th>sen</th><th>word</th></tr><tr><td>str</td><td>str</td></tr></thead><tbody><tr><td>&quot;Hello, world! I&#x27;m going to chu…</td><td>&quot;word&quot;</td></tr><tr><td>&quot;Hello, world! I&#x27;m going to chu…</td><td>&quot;word&quot;</td></tr><tr><td>&quot;Hello, world! I&#x27;m going to chu…</td><td>&quot;word&quot;</td></tr><tr><td>&quot;Hello, world! I&#x27;m going to chu…</td><td>&quot;word&quot;</td></tr><tr><td>&quot;Hello, world! I&#x27;m going to chu…</td><td>&quot;word&quot;</td></tr></tbody></table></div>"
      ],
      "text/plain": [
       "shape: (5, 2)\n",
       "┌─────────────────────────────────┬──────┐\n",
       "│ sen                             ┆ word │\n",
       "│ ---                             ┆ ---  │\n",
       "│ str                             ┆ str  │\n",
       "╞═════════════════════════════════╪══════╡\n",
       "│ Hello, world! I'm going to chu… ┆ word │\n",
       "│ Hello, world! I'm going to chu… ┆ word │\n",
       "│ Hello, world! I'm going to chu… ┆ word │\n",
       "│ Hello, world! I'm going to chu… ┆ word │\n",
       "│ Hello, world! I'm going to chu… ┆ word │\n",
       "└─────────────────────────────────┴──────┘"
      ]
     },
     "execution_count": 27,
     "metadata": {},
     "output_type": "execute_result"
    }
   ],
   "source": [
    "df2.filter(\n",
    "    # This is way faster than computing ditance and then doing a filter\n",
    "    pds.filter_by_levenshtein(pl.col(\"word\"), pl.lit(\"world\"), 1) # <= 1. \n",
    ").head()"
   ]
  },
  {
   "cell_type": "code",
   "execution_count": 28,
   "id": "dc9477c1",
   "metadata": {},
   "outputs": [],
   "source": [
    "df = pl.DataFrame({\n",
    "    \"word\":[\"apple\", \"banana\", \"pineapple\", \"asasasas\", \"sasasass\"],\n",
    "    \"other_data\": [1,2,3,4,5]\n",
    "})\n",
    "gibberish = [\"asasasa\", \"sasaaasss\", \"asdasadadfa\"]"
   ]
  },
  {
   "cell_type": "code",
   "execution_count": 29,
   "id": "cf0c0e72",
   "metadata": {},
   "outputs": [
    {
     "data": {
      "text/html": [
       "<div><style>\n",
       ".dataframe > thead > tr,\n",
       ".dataframe > tbody > tr {\n",
       "  text-align: right;\n",
       "  white-space: pre-wrap;\n",
       "}\n",
       "</style>\n",
       "<small>shape: (1, 1)</small><table border=\"1\" class=\"dataframe\"><thead><tr><th>word</th></tr><tr><td>str</td></tr></thead><tbody><tr><td>&quot;banana&quot;</td></tr></tbody></table></div>"
      ],
      "text/plain": [
       "shape: (1, 1)\n",
       "┌────────┐\n",
       "│ word   │\n",
       "│ ---    │\n",
       "│ str    │\n",
       "╞════════╡\n",
       "│ banana │\n",
       "└────────┘"
      ]
     },
     "execution_count": 29,
     "metadata": {},
     "output_type": "execute_result"
    }
   ],
   "source": [
    "df.select(\n",
    "    # Nearest string\n",
    "    pds.str_nearest(\"word\", word = \"banana\")\n",
    ")"
   ]
  },
  {
   "cell_type": "code",
   "execution_count": 30,
   "id": "c50591e0",
   "metadata": {},
   "outputs": [
    {
     "data": {
      "text/html": [
       "<div><style>\n",
       ".dataframe > thead > tr,\n",
       ".dataframe > tbody > tr {\n",
       "  text-align: right;\n",
       "  white-space: pre-wrap;\n",
       "}\n",
       "</style>\n",
       "<small>shape: (2, 2)</small><table border=\"1\" class=\"dataframe\"><thead><tr><th>word</th><th>other_data</th></tr><tr><td>str</td><td>i64</td></tr></thead><tbody><tr><td>&quot;asasasas&quot;</td><td>4</td></tr><tr><td>&quot;sasasass&quot;</td><td>5</td></tr></tbody></table></div>"
      ],
      "text/plain": [
       "shape: (2, 2)\n",
       "┌──────────┬────────────┐\n",
       "│ word     ┆ other_data │\n",
       "│ ---      ┆ ---        │\n",
       "│ str      ┆ i64        │\n",
       "╞══════════╪════════════╡\n",
       "│ asasasas ┆ 4          │\n",
       "│ sasasass ┆ 5          │\n",
       "└──────────┴────────────┘"
      ]
     },
     "execution_count": 30,
     "metadata": {},
     "output_type": "execute_result"
    }
   ],
   "source": [
    "df.filter(\n",
    "    # Filters to words that are similar to any word in vocab\n",
    "    pds.similar_to_vocab(\n",
    "        pl.col(\"word\"),\n",
    "        vocab = gibberish,\n",
    "        threshold = 0.5,\n",
    "        metric = \"lv\", # Levenshtein similarity. Other options: dleven, osa, jw\n",
    "        strategy = \"any\" # True if the word is similar to any word in vocab. Other options: \"all\", \"avg\"\n",
    "    )\n",
    ")"
   ]
  },
  {
   "cell_type": "code",
   "execution_count": 31,
   "id": "7ece3794",
   "metadata": {},
   "outputs": [
    {
     "data": {
      "text/html": [
       "<div><style>\n",
       ".dataframe > thead > tr,\n",
       ".dataframe > tbody > tr {\n",
       "  text-align: right;\n",
       "  white-space: pre-wrap;\n",
       "}\n",
       "</style>\n",
       "<small>shape: (5, 6)</small><table border=\"1\" class=\"dataframe\"><thead><tr><th>asasasa</th><th>sasaaasss</th><th>asdasadadfa</th><th>LCS based Fuzz match - apples</th><th>Optimal String Alignment - apples</th><th>Jaro-Winkler - apples</th></tr><tr><td>f64</td><td>f64</td><td>f64</td><td>f64</td><td>f64</td><td>f64</td></tr></thead><tbody><tr><td>0.142857</td><td>0.111111</td><td>0.090909</td><td>0.833333</td><td>0.833333</td><td>0.966667</td></tr><tr><td>0.428571</td><td>0.333333</td><td>0.272727</td><td>0.166667</td><td>0.0</td><td>0.444444</td></tr><tr><td>0.111111</td><td>0.111111</td><td>0.090909</td><td>0.555556</td><td>0.444444</td><td>0.5</td></tr><tr><td>0.875</td><td>0.666667</td><td>0.545455</td><td>0.25</td><td>0.25</td><td>0.527778</td></tr><tr><td>0.75</td><td>0.777778</td><td>0.454545</td><td>0.25</td><td>0.25</td><td>0.527778</td></tr></tbody></table></div>"
      ],
      "text/plain": [
       "shape: (5, 6)\n",
       "┌──────────┬───────────┬─────────────┬────────────────┬──────────────────┬─────────────────────────┐\n",
       "│ asasasa  ┆ sasaaasss ┆ asdasadadfa ┆ LCS based Fuzz ┆ Optimal String   ┆ Jaro-Winkler - apples   │\n",
       "│ ---      ┆ ---       ┆ ---         ┆ match - apples ┆ Alignment - app… ┆ ---                     │\n",
       "│ f64      ┆ f64       ┆ f64         ┆ ---            ┆ ---              ┆ f64                     │\n",
       "│          ┆           ┆             ┆ f64            ┆ f64              ┆                         │\n",
       "╞══════════╪═══════════╪═════════════╪════════════════╪══════════════════╪═════════════════════════╡\n",
       "│ 0.142857 ┆ 0.111111  ┆ 0.090909    ┆ 0.833333       ┆ 0.833333         ┆ 0.966667                │\n",
       "│ 0.428571 ┆ 0.333333  ┆ 0.272727    ┆ 0.166667       ┆ 0.0              ┆ 0.444444                │\n",
       "│ 0.111111 ┆ 0.111111  ┆ 0.090909    ┆ 0.555556       ┆ 0.444444         ┆ 0.5                     │\n",
       "│ 0.875    ┆ 0.666667  ┆ 0.545455    ┆ 0.25           ┆ 0.25             ┆ 0.527778                │\n",
       "│ 0.75     ┆ 0.777778  ┆ 0.454545    ┆ 0.25           ┆ 0.25             ┆ 0.527778                │\n",
       "└──────────┴───────────┴─────────────┴────────────────┴──────────────────┴─────────────────────────┘"
      ]
     },
     "execution_count": 31,
     "metadata": {},
     "output_type": "execute_result"
    }
   ],
   "source": [
    "df.select(\n",
    "    pds.str_leven(\"word\", pl.lit(\"asasasa\"), return_sim=True).alias(\"asasasa\"),\n",
    "    pds.str_leven(\"word\", pl.lit(\"sasaaasss\"), return_sim=True).alias(\"sasaaasss\"),\n",
    "    pds.str_leven(\"word\", pl.lit(\"asdasadadfa\"), return_sim=True).alias(\"asdasadadfa\"),\n",
    "    pds.str_fuzz(\"word\", pl.lit(\"apples\")).alias(\"LCS based Fuzz match - apples\"),\n",
    "    pds.str_osa(\"word\", pl.lit(\"apples\"), return_sim=True).alias(\"Optimal String Alignment - apples\"),\n",
    "    pds.str_jw(\"word\", pl.lit(\"apples\")).alias(\"Jaro-Winkler - apples\"),\n",
    ")\n"
   ]
  },
  {
   "cell_type": "markdown",
   "id": "8841f2a1",
   "metadata": {},
   "source": [
    "# Stats Extension"
   ]
  },
  {
   "cell_type": "code",
   "execution_count": 32,
   "id": "2c6171b0",
   "metadata": {},
   "outputs": [
    {
     "data": {
      "text/html": [
       "<div><style>\n",
       ".dataframe > thead > tr,\n",
       ".dataframe > tbody > tr {\n",
       "  text-align: right;\n",
       "  white-space: pre-wrap;\n",
       "}\n",
       "</style>\n",
       "<small>shape: (5, 1)</small><table border=\"1\" class=\"dataframe\"><thead><tr><th>a</th></tr><tr><td>f64</td></tr></thead><tbody><tr><td>null</td></tr><tr><td>null</td></tr><tr><td>-0.262887</td></tr><tr><td>-1.102007</td></tr><tr><td>0.040405</td></tr></tbody></table></div>"
      ],
      "text/plain": [
       "shape: (5, 1)\n",
       "┌───────────┐\n",
       "│ a         │\n",
       "│ ---       │\n",
       "│ f64       │\n",
       "╞═══════════╡\n",
       "│ null      │\n",
       "│ null      │\n",
       "│ -0.262887 │\n",
       "│ -1.102007 │\n",
       "│ 0.040405  │\n",
       "└───────────┘"
      ]
     },
     "execution_count": 32,
     "metadata": {},
     "output_type": "execute_result"
    }
   ],
   "source": [
    "import numpy as np\n",
    "\n",
    "df = pl.DataFrame({\n",
    "    \"a\": [None, None] + list(np.random.normal(size = 998))\n",
    "})\n",
    "df.head()"
   ]
  },
  {
   "cell_type": "code",
   "execution_count": 33,
   "id": "2f6e7445",
   "metadata": {},
   "outputs": [
    {
     "data": {
      "text/html": [
       "<div><style>\n",
       ".dataframe > thead > tr,\n",
       ".dataframe > tbody > tr {\n",
       "  text-align: right;\n",
       "  white-space: pre-wrap;\n",
       "}\n",
       "</style>\n",
       "<small>shape: (5, 3)</small><table border=\"1\" class=\"dataframe\"><thead><tr><th>a</th><th>random_normal</th><th>random_normal_that_respects_null_of_a</th></tr><tr><td>f64</td><td>f64</td><td>f64</td></tr></thead><tbody><tr><td>null</td><td>1.708497</td><td>null</td></tr><tr><td>null</td><td>2.466918</td><td>null</td></tr><tr><td>-0.262887</td><td>0.129385</td><td>-0.548552</td></tr><tr><td>-1.102007</td><td>0.040371</td><td>1.405887</td></tr><tr><td>0.040405</td><td>1.585635</td><td>-0.432342</td></tr></tbody></table></div>"
      ],
      "text/plain": [
       "shape: (5, 3)\n",
       "┌───────────┬───────────────┬─────────────────────────────────┐\n",
       "│ a         ┆ random_normal ┆ random_normal_that_respects_nu… │\n",
       "│ ---       ┆ ---           ┆ ---                             │\n",
       "│ f64       ┆ f64           ┆ f64                             │\n",
       "╞═══════════╪═══════════════╪═════════════════════════════════╡\n",
       "│ null      ┆ 1.708497      ┆ null                            │\n",
       "│ null      ┆ 2.466918      ┆ null                            │\n",
       "│ -0.262887 ┆ 0.129385      ┆ -0.548552                       │\n",
       "│ -1.102007 ┆ 0.040371      ┆ 1.405887                        │\n",
       "│ 0.040405  ┆ 1.585635      ┆ -0.432342                       │\n",
       "└───────────┴───────────────┴─────────────────────────────────┘"
      ]
     },
     "execution_count": 33,
     "metadata": {},
     "output_type": "execute_result"
    }
   ],
   "source": [
    "# Genenrate random numbers, respecting null positions in reference column (pl.col(\"a\"))\n",
    "df.with_columns(\n",
    "    pds.random_normal(mean = 0.5, std = 1.0).alias(\"random_normal\"),\n",
    "    pl.when(pl.col(\"a\").is_null()).then(None).otherwise(\n",
    "        pds.random_normal(mean = 0.5, std = 1.0).alias(\"random_normal\")\n",
    "    ).alias(\"random_normal_that_respects_null_of_a\")\n",
    ").head()"
   ]
  },
  {
   "cell_type": "code",
   "execution_count": 34,
   "id": "11e13f55",
   "metadata": {},
   "outputs": [
    {
     "data": {
      "text/html": [
       "<div><style>\n",
       ".dataframe > thead > tr,\n",
       ".dataframe > tbody > tr {\n",
       "  text-align: right;\n",
       "  white-space: pre-wrap;\n",
       "}\n",
       "</style>\n",
       "<small>shape: (5, 3)</small><table border=\"1\" class=\"dataframe\"><thead><tr><th>a</th><th>random_str</th><th>random_str_that_respects_null_of_a</th></tr><tr><td>f64</td><td>str</td><td>str</td></tr></thead><tbody><tr><td>null</td><td>&quot;f4pD&quot;</td><td>null</td></tr><tr><td>null</td><td>&quot;e1&quot;</td><td>null</td></tr><tr><td>-0.262887</td><td>&quot;R&quot;</td><td>&quot;PI&quot;</td></tr><tr><td>-1.102007</td><td>&quot;iaRu&quot;</td><td>&quot;S9Vk&quot;</td></tr><tr><td>0.040405</td><td>&quot;db9&quot;</td><td>&quot;JWIz&quot;</td></tr></tbody></table></div>"
      ],
      "text/plain": [
       "shape: (5, 3)\n",
       "┌───────────┬────────────┬─────────────────────────────────┐\n",
       "│ a         ┆ random_str ┆ random_str_that_respects_null_… │\n",
       "│ ---       ┆ ---        ┆ ---                             │\n",
       "│ f64       ┆ str        ┆ str                             │\n",
       "╞═══════════╪════════════╪═════════════════════════════════╡\n",
       "│ null      ┆ f4pD       ┆ null                            │\n",
       "│ null      ┆ e1         ┆ null                            │\n",
       "│ -0.262887 ┆ R          ┆ PI                              │\n",
       "│ -1.102007 ┆ iaRu       ┆ S9Vk                            │\n",
       "│ 0.040405  ┆ db9        ┆ JWIz                            │\n",
       "└───────────┴────────────┴─────────────────────────────────┘"
      ]
     },
     "execution_count": 34,
     "metadata": {},
     "output_type": "execute_result"
    }
   ],
   "source": [
    "# Genenrate random string\n",
    "df.with_columns(\n",
    "    pds.random_str(min_size = 1, max_size = 5).alias(\"random_str\"),\n",
    "    pl.when(pl.col(\"a\").is_null()).then(None).otherwise(\n",
    "        pds.random_str(min_size = 1, max_size = 5)\n",
    "    ).alias(\"random_str_that_respects_null_of_a\")\n",
    ").head()"
   ]
  },
  {
   "cell_type": "code",
   "execution_count": 35,
   "id": "43c37394",
   "metadata": {},
   "outputs": [
    {
     "data": {
      "text/html": [
       "<div><style>\n",
       ".dataframe > thead > tr,\n",
       ".dataframe > tbody > tr {\n",
       "  text-align: right;\n",
       "  white-space: pre-wrap;\n",
       "}\n",
       "</style>\n",
       "<small>shape: (5, 2)</small><table border=\"1\" class=\"dataframe\"><thead><tr><th>a</th><th>random_str</th></tr><tr><td>f64</td><td>str</td></tr></thead><tbody><tr><td>null</td><td>null</td></tr><tr><td>null</td><td>null</td></tr><tr><td>-0.262887</td><td>&quot;ACCgS&quot;</td></tr><tr><td>-1.102007</td><td>&quot;lLfnS&quot;</td></tr><tr><td>0.040405</td><td>&quot;QkXLj&quot;</td></tr></tbody></table></div>"
      ],
      "text/plain": [
       "shape: (5, 2)\n",
       "┌───────────┬────────────┐\n",
       "│ a         ┆ random_str │\n",
       "│ ---       ┆ ---        │\n",
       "│ f64       ┆ str        │\n",
       "╞═══════════╪════════════╡\n",
       "│ null      ┆ null       │\n",
       "│ null      ┆ null       │\n",
       "│ -0.262887 ┆ ACCgS      │\n",
       "│ -1.102007 ┆ lLfnS      │\n",
       "│ 0.040405  ┆ QkXLj      │\n",
       "└───────────┴────────────┘"
      ]
     },
     "execution_count": 35,
     "metadata": {},
     "output_type": "execute_result"
    }
   ],
   "source": [
    "# Genenrate fixed size random string, while respecting column a's nulls\n",
    "df.with_columns(\n",
    "    pl.when(pl.col(\"a\").is_null()).then(None).otherwise(\n",
    "        pds.random_str(min_size = 5, max_size = 5)\n",
    "    ).alias(\"random_str\")\n",
    ").head()"
   ]
  },
  {
   "cell_type": "code",
   "execution_count": 36,
   "id": "3d0c06a4",
   "metadata": {},
   "outputs": [
    {
     "data": {
      "text/html": [
       "<div><style>\n",
       ".dataframe > thead > tr,\n",
       ".dataframe > tbody > tr {\n",
       "  text-align: right;\n",
       "  white-space: pre-wrap;\n",
       "}\n",
       "</style>\n",
       "<small>shape: (5, 4)</small><table border=\"1\" class=\"dataframe\"><thead><tr><th>a</th><th>test1</th><th>literal</th><th>test1_perturbed</th></tr><tr><td>f64</td><td>f64</td><td>f64</td><td>f64</td></tr></thead><tbody><tr><td>null</td><td>-0.783559</td><td>null</td><td>-0.783261</td></tr><tr><td>null</td><td>0.353855</td><td>null</td><td>0.354165</td></tr><tr><td>-0.262887</td><td>-0.011766</td><td>1.897042</td><td>-0.011788</td></tr><tr><td>-1.102007</td><td>-0.792581</td><td>2.124058</td><td>-0.79242</td></tr><tr><td>0.040405</td><td>1.215775</td><td>1.669608</td><td>1.21567</td></tr></tbody></table></div>"
      ],
      "text/plain": [
       "shape: (5, 4)\n",
       "┌───────────┬───────────┬──────────┬─────────────────┐\n",
       "│ a         ┆ test1     ┆ literal  ┆ test1_perturbed │\n",
       "│ ---       ┆ ---       ┆ ---      ┆ ---             │\n",
       "│ f64       ┆ f64       ┆ f64      ┆ f64             │\n",
       "╞═══════════╪═══════════╪══════════╪═════════════════╡\n",
       "│ null      ┆ -0.783559 ┆ null     ┆ -0.783261       │\n",
       "│ null      ┆ 0.353855  ┆ null     ┆ 0.354165        │\n",
       "│ -0.262887 ┆ -0.011766 ┆ 1.897042 ┆ -0.011788       │\n",
       "│ -1.102007 ┆ -0.792581 ┆ 2.124058 ┆ -0.79242        │\n",
       "│ 0.040405  ┆ 1.215775  ┆ 1.669608 ┆ 1.21567         │\n",
       "└───────────┴───────────┴──────────┴─────────────────┘"
      ]
     },
     "execution_count": 36,
     "metadata": {},
     "output_type": "execute_result"
    }
   ],
   "source": [
    "df.with_columns(\n",
    "    # Sample from a normal distribution, using reference column \"a\" 's mean and std\n",
    "    pds.random_normal(pl.col(\"a\").mean(), pl.col(\"a\").std()).alias(\"test1\") \n",
    "    # Sample from uniform distribution, with low = 0 and high = \"a\"'s max, and respect the nulls in \"a\"\n",
    "    , pl.when(pl.col(\"a\").is_null()).then(None).otherwise(\n",
    "        pds.random(lower = 0., upper = pl.col(\"a\").max()).alias(\"test2\")\n",
    "    )\n",
    ").with_columns(\n",
    "    # Add a random pertubation to test1\n",
    "    pds.perturb(\"test1\", epsilon=0.001).alias(\"test1_perturbed\")\n",
    ").head()"
   ]
  },
  {
   "cell_type": "code",
   "execution_count": 37,
   "id": "67dc6583",
   "metadata": {},
   "outputs": [
    {
     "data": {
      "text/html": [
       "<div><style>\n",
       ".dataframe > thead > tr,\n",
       ".dataframe > tbody > tr {\n",
       "  text-align: right;\n",
       "  white-space: pre-wrap;\n",
       "}\n",
       "</style>\n",
       "<small>shape: (5, 4)</small><table border=\"1\" class=\"dataframe\"><thead><tr><th>a</th><th>[0, 1)</th><th>Normal</th><th>Int from [0, 10)</th></tr><tr><td>f64</td><td>f64</td><td>f64</td><td>i32</td></tr></thead><tbody><tr><td>null</td><td>0.027235</td><td>0.088935</td><td>1</td></tr><tr><td>null</td><td>0.942403</td><td>0.790212</td><td>6</td></tr><tr><td>-0.262887</td><td>0.521936</td><td>2.001769</td><td>7</td></tr><tr><td>-1.102007</td><td>0.005144</td><td>0.669645</td><td>3</td></tr><tr><td>0.040405</td><td>0.895641</td><td>0.227451</td><td>3</td></tr></tbody></table></div>"
      ],
      "text/plain": [
       "shape: (5, 4)\n",
       "┌───────────┬──────────┬──────────┬──────────────────┐\n",
       "│ a         ┆ [0, 1)   ┆ Normal   ┆ Int from [0, 10) │\n",
       "│ ---       ┆ ---      ┆ ---      ┆ ---              │\n",
       "│ f64       ┆ f64      ┆ f64      ┆ i32              │\n",
       "╞═══════════╪══════════╪══════════╪══════════════════╡\n",
       "│ null      ┆ 0.027235 ┆ 0.088935 ┆ 1                │\n",
       "│ null      ┆ 0.942403 ┆ 0.790212 ┆ 6                │\n",
       "│ -0.262887 ┆ 0.521936 ┆ 2.001769 ┆ 7                │\n",
       "│ -1.102007 ┆ 0.005144 ┆ 0.669645 ┆ 3                │\n",
       "│ 0.040405  ┆ 0.895641 ┆ 0.227451 ┆ 3                │\n",
       "└───────────┴──────────┴──────────┴──────────────────┘"
      ]
     },
     "execution_count": 37,
     "metadata": {},
     "output_type": "execute_result"
    }
   ],
   "source": [
    "# New in v0.3.5\n",
    "# This way, we don't have a reference column, so we cannot respect nulls, but is more convenient to use.\n",
    "df.with_columns(\n",
    "    pds.random().alias(\"[0, 1)\"),\n",
    "    pds.random_normal(pl.col(\"a\").mean(), pl.col(\"a\").std()).alias(\"Normal\"),\n",
    "    pds.random_int(0, 10).alias(\"Int from [0, 10)\"),\n",
    ").head()"
   ]
  },
  {
   "cell_type": "code",
   "execution_count": 38,
   "id": "7b63f636",
   "metadata": {},
   "outputs": [
    {
     "data": {
      "text/html": [
       "<div><style>\n",
       ".dataframe > thead > tr,\n",
       ".dataframe > tbody > tr {\n",
       "  text-align: right;\n",
       "  white-space: pre-wrap;\n",
       "}\n",
       "</style>\n",
       "<small>shape: (1, 4)</small><table border=\"1\" class=\"dataframe\"><thead><tr><th>t-tests: statistics</th><th>t-tests: pvalue</th><th>normality_test: statistics</th><th>normality_test: pvalue</th></tr><tr><td>f64</td><td>f64</td><td>f64</td><td>f64</td></tr></thead><tbody><tr><td>0.143723</td><td>0.885739</td><td>5.490021</td><td>0.064248</td></tr></tbody></table></div>"
      ],
      "text/plain": [
       "shape: (1, 4)\n",
       "┌─────────────────────┬─────────────────┬────────────────────────────┬────────────────────────┐\n",
       "│ t-tests: statistics ┆ t-tests: pvalue ┆ normality_test: statistics ┆ normality_test: pvalue │\n",
       "│ ---                 ┆ ---             ┆ ---                        ┆ ---                    │\n",
       "│ f64                 ┆ f64             ┆ f64                        ┆ f64                    │\n",
       "╞═════════════════════╪═════════════════╪════════════════════════════╪════════════════════════╡\n",
       "│ 0.143723            ┆ 0.885739        ┆ 5.490021                   ┆ 0.064248               │\n",
       "└─────────────────────┴─────────────────┴────────────────────────────┴────────────────────────┘"
      ]
     },
     "execution_count": 38,
     "metadata": {},
     "output_type": "execute_result"
    }
   ],
   "source": [
    "# Genenrate 2 random sample, both normally distributed\n",
    "# Run Welch's t test on them, p value should be big since they have equal mean\n",
    "# Run a normality test. Again, p value should be big since they are normally distributed \n",
    "\n",
    "df.with_columns(\n",
    "    pds.random_normal(0.5, 1.0).alias(\"test1\"),\n",
    "    pds.random_normal(0.5, 2.0).alias(\"test2\"),\n",
    ").select(\n",
    "    pds.ttest_ind(\"test1\", \"test2\", equal_var=False).alias(\"t-test\"),\n",
    "    pds.normal_test(\"test1\").alias(\"normality_test\")\n",
    ").select(\n",
    "    pl.col(\"t-test\").struct.field(\"statistic\").alias(\"t-tests: statistics\")\n",
    "    , pl.col(\"t-test\").struct.field(\"pvalue\").alias(\"t-tests: pvalue\")\n",
    "    , pl.col(\"normality_test\").struct.field(\"statistic\").alias(\"normality_test: statistics\")\n",
    "    , pl.col(\"normality_test\").struct.field(\"pvalue\").alias(\"normality_test: pvalue\")\n",
    ")"
   ]
  },
  {
   "cell_type": "code",
   "execution_count": 39,
   "id": "b46a72a5",
   "metadata": {},
   "outputs": [
    {
     "data": {
      "text/html": [
       "<div><style>\n",
       ".dataframe > thead > tr,\n",
       ".dataframe > tbody > tr {\n",
       "  text-align: right;\n",
       "  white-space: pre-wrap;\n",
       "}\n",
       "</style>\n",
       "<small>shape: (5, 5)</small><table border=\"1\" class=\"dataframe\"><thead><tr><th>market_id</th><th>var1</th><th>var2</th><th>category_1</th><th>category_2</th></tr><tr><td>i64</td><td>f64</td><td>f64</td><td>i32</td><td>i32</td></tr></thead><tbody><tr><td>0</td><td>0.294425</td><td>0.827601</td><td>1</td><td>8</td></tr><tr><td>1</td><td>0.670674</td><td>0.567675</td><td>3</td><td>6</td></tr><tr><td>2</td><td>0.251429</td><td>0.570609</td><td>2</td><td>1</td></tr><tr><td>0</td><td>0.996076</td><td>0.405968</td><td>0</td><td>3</td></tr><tr><td>1</td><td>0.3855</td><td>0.734565</td><td>3</td><td>9</td></tr></tbody></table></div>"
      ],
      "text/plain": [
       "shape: (5, 5)\n",
       "┌───────────┬──────────┬──────────┬────────────┬────────────┐\n",
       "│ market_id ┆ var1     ┆ var2     ┆ category_1 ┆ category_2 │\n",
       "│ ---       ┆ ---      ┆ ---      ┆ ---        ┆ ---        │\n",
       "│ i64       ┆ f64      ┆ f64      ┆ i32        ┆ i32        │\n",
       "╞═══════════╪══════════╪══════════╪════════════╪════════════╡\n",
       "│ 0         ┆ 0.294425 ┆ 0.827601 ┆ 1          ┆ 8          │\n",
       "│ 1         ┆ 0.670674 ┆ 0.567675 ┆ 3          ┆ 6          │\n",
       "│ 2         ┆ 0.251429 ┆ 0.570609 ┆ 2          ┆ 1          │\n",
       "│ 0         ┆ 0.996076 ┆ 0.405968 ┆ 0          ┆ 3          │\n",
       "│ 1         ┆ 0.3855   ┆ 0.734565 ┆ 3          ┆ 9          │\n",
       "└───────────┴──────────┴──────────┴────────────┴────────────┘"
      ]
     },
     "execution_count": 39,
     "metadata": {},
     "output_type": "execute_result"
    }
   ],
   "source": [
    "size = 5_000\n",
    "df = pl.DataFrame({\n",
    "    \"market_id\": range(size),\n",
    "}).with_columns(\n",
    "    pl.col(\"market_id\").mod(3),\n",
    "    var1 = pds.random(),\n",
    "    var2 = pds.random(),\n",
    "    category_1 = pds.random_int(0, 5),\n",
    "    category_2 = pds.random_int(0, 10),\n",
    ")\n",
    "\n",
    "df.head(5)"
   ]
  },
  {
   "cell_type": "code",
   "execution_count": 40,
   "id": "adc4f66f",
   "metadata": {},
   "outputs": [
    {
     "data": {
      "text/html": [
       "<div><style>\n",
       ".dataframe > thead > tr,\n",
       ".dataframe > tbody > tr {\n",
       "  text-align: right;\n",
       "  white-space: pre-wrap;\n",
       "}\n",
       "</style>\n",
       "<small>shape: (1, 3)</small><table border=\"1\" class=\"dataframe\"><thead><tr><th>t-test</th><th>chi2-test</th><th>f-test</th></tr><tr><td>struct[2]</td><td>struct[2]</td><td>struct[2]</td></tr></thead><tbody><tr><td>{-0.971911,0.331118}</td><td>{25.746132,0.897306}</td><td>{0.238624,0.916601}</td></tr></tbody></table></div>"
      ],
      "text/plain": [
       "shape: (1, 3)\n",
       "┌──────────────────────┬──────────────────────┬─────────────────────┐\n",
       "│ t-test               ┆ chi2-test            ┆ f-test              │\n",
       "│ ---                  ┆ ---                  ┆ ---                 │\n",
       "│ struct[2]            ┆ struct[2]            ┆ struct[2]           │\n",
       "╞══════════════════════╪══════════════════════╪═════════════════════╡\n",
       "│ {-0.971911,0.331118} ┆ {25.746132,0.897306} ┆ {0.238624,0.916601} │\n",
       "└──────────────────────┴──────────────────────┴─────────────────────┘"
      ]
     },
     "execution_count": 40,
     "metadata": {},
     "output_type": "execute_result"
    }
   ],
   "source": [
    "# In dataframe statistical tests!\n",
    "df.select(\n",
    "    pds.ttest_ind(\"var1\", \"var2\", equal_var=True).alias(\"t-test\"),\n",
    "    pds.chi2(\"category_1\", \"category_2\").alias(\"chi2-test\"),\n",
    "    pds.f_test(\"var1\", group = \"category_1\").alias(\"f-test\")\n",
    ")"
   ]
  },
  {
   "cell_type": "code",
   "execution_count": 41,
   "id": "65dbb6bd",
   "metadata": {},
   "outputs": [
    {
     "name": "stdout",
     "output_type": "stream",
     "text": [
      "shape: (3, 4)\n",
      "┌───────────┬──────────────────────┬──────────────────────┬─────────────────────┐\n",
      "│ market_id ┆ t-test               ┆ chi2-test            ┆ f-test              │\n",
      "│ ---       ┆ ---                  ┆ ---                  ┆ ---                 │\n",
      "│ i64       ┆ struct[2]            ┆ struct[2]            ┆ struct[2]           │\n",
      "╞═══════════╪══════════════════════╪══════════════════════╪═════════════════════╡\n",
      "│ 0         ┆ {-0.604632,0.545465} ┆ {27.950572,0.828958} ┆ {0.064619,0.992327} │\n",
      "│ 1         ┆ {-0.756586,0.449351} ┆ {37.365459,0.40619}  ┆ {0.191293,0.943018} │\n",
      "│ 2         ┆ {-0.321324,0.747985} ┆ {36.327492,0.453395} ┆ {0.534485,0.710422} │\n",
      "└───────────┴──────────────────────┴──────────────────────┴─────────────────────┘\n"
     ]
    }
   ],
   "source": [
    "# Can also be done in group by context\n",
    "print(\n",
    "    df.group_by(\"market_id\").agg(\n",
    "        pds.ttest_ind(\"var1\", \"var2\", equal_var=False).alias(\"t-test\"),\n",
    "        pds.chi2(\"category_1\", \"category_2\").alias(\"chi2-test\"),\n",
    "        pds.f_test(\"var1\", group = \"category_1\").alias(\"f-test\")\n",
    "    )\n",
    ")"
   ]
  },
  {
   "cell_type": "code",
   "execution_count": 42,
   "id": "843d54c5",
   "metadata": {},
   "outputs": [
    {
     "data": {
      "text/html": [
       "<div><style>\n",
       ".dataframe > thead > tr,\n",
       ".dataframe > tbody > tr {\n",
       "  text-align: right;\n",
       "  white-space: pre-wrap;\n",
       "}\n",
       "</style>\n",
       "<small>shape: (9, 2)</small><table border=\"1\" class=\"dataframe\"><thead><tr><th>first_digit_cnt</th><th>first_digit_distribution</th></tr><tr><td>u32</td><td>f64</td></tr></thead><tbody><tr><td>538</td><td>0.1076</td></tr><tr><td>556</td><td>0.1112</td></tr><tr><td>533</td><td>0.1066</td></tr><tr><td>577</td><td>0.1154</td></tr><tr><td>557</td><td>0.1114</td></tr><tr><td>576</td><td>0.1152</td></tr><tr><td>549</td><td>0.1098</td></tr><tr><td>553</td><td>0.1106</td></tr><tr><td>561</td><td>0.1122</td></tr></tbody></table></div>"
      ],
      "text/plain": [
       "shape: (9, 2)\n",
       "┌─────────────────┬──────────────────────────┐\n",
       "│ first_digit_cnt ┆ first_digit_distribution │\n",
       "│ ---             ┆ ---                      │\n",
       "│ u32             ┆ f64                      │\n",
       "╞═════════════════╪══════════════════════════╡\n",
       "│ 538             ┆ 0.1076                   │\n",
       "│ 556             ┆ 0.1112                   │\n",
       "│ 533             ┆ 0.1066                   │\n",
       "│ 577             ┆ 0.1154                   │\n",
       "│ 557             ┆ 0.1114                   │\n",
       "│ 576             ┆ 0.1152                   │\n",
       "│ 549             ┆ 0.1098                   │\n",
       "│ 553             ┆ 0.1106                   │\n",
       "│ 561             ┆ 0.1122                   │\n",
       "└─────────────────┴──────────────────────────┘"
      ]
     },
     "execution_count": 42,
     "metadata": {},
     "output_type": "execute_result"
    }
   ],
   "source": [
    "# Benford's law\n",
    "df.select(\n",
    "    first_digit_cnt = pds.query_first_digit_cnt(pl.col(\"var1\")).explode()\n",
    ").with_columns(\n",
    "    # This doesn't follow benford's law because it is random data\n",
    "    first_digit_distribution = pl.col(\"first_digit_cnt\") / pl.col(\"first_digit_cnt\").sum()\n",
    ")"
   ]
  },
  {
   "cell_type": "markdown",
   "id": "b232e4d7",
   "metadata": {},
   "source": [
    "# Nearest Neighbors Related Tasks\n",
    "\n",
    "These queries can be very slow when data/dimension gets huge, even when processed in parallel."
   ]
  },
  {
   "cell_type": "code",
   "execution_count": 43,
   "id": "87aff1ef",
   "metadata": {},
   "outputs": [],
   "source": [
    "import polars_ds as pds\n",
    "size = 2000\n",
    "df = pl.DataFrame({\n",
    "    \"id\": range(size), \n",
    "}).with_columns(\n",
    "    pds.random().alias(\"var1\"),\n",
    "    pds.random().alias(\"var2\"),\n",
    "    pds.random().alias(\"var3\"),\n",
    "    pds.random().alias(\"r\"),\n",
    "    (pds.random() * 10).alias(\"rh\"),\n",
    "    pl.col(\"id\").cast(pl.UInt32)\n",
    ")"
   ]
  },
  {
   "cell_type": "code",
   "execution_count": 44,
   "id": "2fae4b5e",
   "metadata": {},
   "outputs": [
    {
     "data": {
      "text/html": [
       "<div><style>\n",
       ".dataframe > thead > tr,\n",
       ".dataframe > tbody > tr {\n",
       "  text-align: right;\n",
       "  white-space: pre-wrap;\n",
       "}\n",
       "</style>\n",
       "<small>shape: (5, 7)</small><table border=\"1\" class=\"dataframe\"><thead><tr><th>id</th><th>var1</th><th>var2</th><th>var3</th><th>r</th><th>rh</th><th>nb_l_inf_cnt</th></tr><tr><td>u32</td><td>f64</td><td>f64</td><td>f64</td><td>f64</td><td>f64</td><td>u32</td></tr></thead><tbody><tr><td>0</td><td>0.909291</td><td>0.883797</td><td>0.050987</td><td>0.041203</td><td>9.03286</td><td>17</td></tr><tr><td>1</td><td>0.28296</td><td>0.561952</td><td>0.20464</td><td>0.91307</td><td>6.259133</td><td>16</td></tr><tr><td>2</td><td>0.202197</td><td>0.700336</td><td>0.297267</td><td>0.436134</td><td>3.891523</td><td>14</td></tr><tr><td>3</td><td>0.517782</td><td>0.076448</td><td>0.910966</td><td>0.864982</td><td>4.12844</td><td>17</td></tr><tr><td>4</td><td>0.208706</td><td>0.480551</td><td>0.367441</td><td>0.701084</td><td>3.39438</td><td>18</td></tr></tbody></table></div>"
      ],
      "text/plain": [
       "shape: (5, 7)\n",
       "┌─────┬──────────┬──────────┬──────────┬──────────┬──────────┬──────────────┐\n",
       "│ id  ┆ var1     ┆ var2     ┆ var3     ┆ r        ┆ rh       ┆ nb_l_inf_cnt │\n",
       "│ --- ┆ ---      ┆ ---      ┆ ---      ┆ ---      ┆ ---      ┆ ---          │\n",
       "│ u32 ┆ f64      ┆ f64      ┆ f64      ┆ f64      ┆ f64      ┆ u32          │\n",
       "╞═════╪══════════╪══════════╪══════════╪══════════╪══════════╪══════════════╡\n",
       "│ 0   ┆ 0.909291 ┆ 0.883797 ┆ 0.050987 ┆ 0.041203 ┆ 9.03286  ┆ 17           │\n",
       "│ 1   ┆ 0.28296  ┆ 0.561952 ┆ 0.20464  ┆ 0.91307  ┆ 6.259133 ┆ 16           │\n",
       "│ 2   ┆ 0.202197 ┆ 0.700336 ┆ 0.297267 ┆ 0.436134 ┆ 3.891523 ┆ 14           │\n",
       "│ 3   ┆ 0.517782 ┆ 0.076448 ┆ 0.910966 ┆ 0.864982 ┆ 4.12844  ┆ 17           │\n",
       "│ 4   ┆ 0.208706 ┆ 0.480551 ┆ 0.367441 ┆ 0.701084 ┆ 3.39438  ┆ 18           │\n",
       "└─────┴──────────┴──────────┴──────────┴──────────┴──────────┴──────────────┘"
      ]
     },
     "execution_count": 44,
     "metadata": {},
     "output_type": "execute_result"
    }
   ],
   "source": [
    "# Get neighbor count. The point itself is always considered a neighbor to itself.\n",
    "df.with_columns(\n",
    "    pds.query_nb_cnt(\n",
    "        pl.col(\"var1\"), \"var2\", \"var3\", # Columns used as the coordinates in n-d space, str | pl.Expr \n",
    "        r = 0.1, # radius \n",
    "        dist = \"inf\", # L Infinity distance \n",
    "        parallel = True \n",
    "    ).alias(\"nb_l_inf_cnt\")\n",
    ").head() "
   ]
  },
  {
   "cell_type": "code",
   "execution_count": 45,
   "id": "69ad83d1",
   "metadata": {},
   "outputs": [
    {
     "data": {
      "text/html": [
       "<div><style>\n",
       ".dataframe > thead > tr,\n",
       ".dataframe > tbody > tr {\n",
       "  text-align: right;\n",
       "  white-space: pre-wrap;\n",
       "}\n",
       "</style>\n",
       "<small>shape: (5, 7)</small><table border=\"1\" class=\"dataframe\"><thead><tr><th>id</th><th>var1</th><th>var2</th><th>var3</th><th>r</th><th>rh</th><th>nb_l1_r_cnt</th></tr><tr><td>u32</td><td>f64</td><td>f64</td><td>f64</td><td>f64</td><td>f64</td><td>u32</td></tr></thead><tbody><tr><td>0</td><td>0.909291</td><td>0.883797</td><td>0.050987</td><td>0.041203</td><td>9.03286</td><td>1</td></tr><tr><td>1</td><td>0.28296</td><td>0.561952</td><td>0.20464</td><td>0.91307</td><td>6.259133</td><td>1076</td></tr><tr><td>2</td><td>0.202197</td><td>0.700336</td><td>0.297267</td><td>0.436134</td><td>3.891523</td><td>190</td></tr><tr><td>3</td><td>0.517782</td><td>0.076448</td><td>0.910966</td><td>0.864982</td><td>4.12844</td><td>624</td></tr><tr><td>4</td><td>0.208706</td><td>0.480551</td><td>0.367441</td><td>0.701084</td><td>3.39438</td><td>709</td></tr></tbody></table></div>"
      ],
      "text/plain": [
       "shape: (5, 7)\n",
       "┌─────┬──────────┬──────────┬──────────┬──────────┬──────────┬─────────────┐\n",
       "│ id  ┆ var1     ┆ var2     ┆ var3     ┆ r        ┆ rh       ┆ nb_l1_r_cnt │\n",
       "│ --- ┆ ---      ┆ ---      ┆ ---      ┆ ---      ┆ ---      ┆ ---         │\n",
       "│ u32 ┆ f64      ┆ f64      ┆ f64      ┆ f64      ┆ f64      ┆ u32         │\n",
       "╞═════╪══════════╪══════════╪══════════╪══════════╪══════════╪═════════════╡\n",
       "│ 0   ┆ 0.909291 ┆ 0.883797 ┆ 0.050987 ┆ 0.041203 ┆ 9.03286  ┆ 1           │\n",
       "│ 1   ┆ 0.28296  ┆ 0.561952 ┆ 0.20464  ┆ 0.91307  ┆ 6.259133 ┆ 1076        │\n",
       "│ 2   ┆ 0.202197 ┆ 0.700336 ┆ 0.297267 ┆ 0.436134 ┆ 3.891523 ┆ 190         │\n",
       "│ 3   ┆ 0.517782 ┆ 0.076448 ┆ 0.910966 ┆ 0.864982 ┆ 4.12844  ┆ 624         │\n",
       "│ 4   ┆ 0.208706 ┆ 0.480551 ┆ 0.367441 ┆ 0.701084 ┆ 3.39438  ┆ 709         │\n",
       "└─────┴──────────┴──────────┴──────────┴──────────┴──────────┴─────────────┘"
      ]
     },
     "execution_count": 45,
     "metadata": {},
     "output_type": "execute_result"
    }
   ],
   "source": [
    "df.with_columns(\n",
    "    pds.query_nb_cnt(\n",
    "        \"var1\", \"var2\", \"var3\", # Columns used as the coordinates in n-d space, str | pl.Expr \n",
    "        r = pl.col(\"r\"), # radius be an expression too\n",
    "        dist = \"l1\", # L 1 distance \n",
    "        parallel = True \n",
    "    ).alias(\"nb_l1_r_cnt\")\n",
    ").head()"
   ]
  },
  {
   "cell_type": "code",
   "execution_count": 46,
   "id": "ce1a2c7a",
   "metadata": {},
   "outputs": [
    {
     "data": {
      "text/html": [
       "<div><style>\n",
       ".dataframe > thead > tr,\n",
       ".dataframe > tbody > tr {\n",
       "  text-align: right;\n",
       "  white-space: pre-wrap;\n",
       "}\n",
       "</style>\n",
       "<small>shape: (5, 7)</small><table border=\"1\" class=\"dataframe\"><thead><tr><th>id</th><th>var1</th><th>var2</th><th>var3</th><th>r</th><th>rh</th><th>best friends</th></tr><tr><td>u32</td><td>f64</td><td>f64</td><td>f64</td><td>f64</td><td>f64</td><td>list[u32]</td></tr></thead><tbody><tr><td>0</td><td>0.909291</td><td>0.883797</td><td>0.050987</td><td>0.041203</td><td>9.03286</td><td>[0, 830, … 419]</td></tr><tr><td>1</td><td>0.28296</td><td>0.561952</td><td>0.20464</td><td>0.91307</td><td>6.259133</td><td>[1, 1599, … 1682]</td></tr><tr><td>2</td><td>0.202197</td><td>0.700336</td><td>0.297267</td><td>0.436134</td><td>3.891523</td><td>[2, 699, … 446]</td></tr><tr><td>3</td><td>0.517782</td><td>0.076448</td><td>0.910966</td><td>0.864982</td><td>4.12844</td><td>[3, 1908, … 474]</td></tr><tr><td>4</td><td>0.208706</td><td>0.480551</td><td>0.367441</td><td>0.701084</td><td>3.39438</td><td>[4, 19, … 136]</td></tr></tbody></table></div>"
      ],
      "text/plain": [
       "shape: (5, 7)\n",
       "┌─────┬──────────┬──────────┬──────────┬──────────┬──────────┬───────────────────┐\n",
       "│ id  ┆ var1     ┆ var2     ┆ var3     ┆ r        ┆ rh       ┆ best friends      │\n",
       "│ --- ┆ ---      ┆ ---      ┆ ---      ┆ ---      ┆ ---      ┆ ---               │\n",
       "│ u32 ┆ f64      ┆ f64      ┆ f64      ┆ f64      ┆ f64      ┆ list[u32]         │\n",
       "╞═════╪══════════╪══════════╪══════════╪══════════╪══════════╪═══════════════════╡\n",
       "│ 0   ┆ 0.909291 ┆ 0.883797 ┆ 0.050987 ┆ 0.041203 ┆ 9.03286  ┆ [0, 830, … 419]   │\n",
       "│ 1   ┆ 0.28296  ┆ 0.561952 ┆ 0.20464  ┆ 0.91307  ┆ 6.259133 ┆ [1, 1599, … 1682] │\n",
       "│ 2   ┆ 0.202197 ┆ 0.700336 ┆ 0.297267 ┆ 0.436134 ┆ 3.891523 ┆ [2, 699, … 446]   │\n",
       "│ 3   ┆ 0.517782 ┆ 0.076448 ┆ 0.910966 ┆ 0.864982 ┆ 4.12844  ┆ [3, 1908, … 474]  │\n",
       "│ 4   ┆ 0.208706 ┆ 0.480551 ┆ 0.367441 ┆ 0.701084 ┆ 3.39438  ┆ [4, 19, … 136]    │\n",
       "└─────┴──────────┴──────────┴──────────┴──────────┴──────────┴───────────────────┘"
      ]
     },
     "execution_count": 46,
     "metadata": {},
     "output_type": "execute_result"
    }
   ],
   "source": [
    "# Get ids of the k nearest neighbors. \n",
    "# The point itself is always considered a neighbor to itself, so k + 1 elements will be returned.\n",
    "df.with_columns(\n",
    "    pds.query_knn_ptwise(\n",
    "        pl.col(\"var1\"), pl.col(\"var2\"), pl.col(\"var3\"), # Columns used as the coordinates in n-d space\n",
    "        index = \"id\",  # pl.col(\"id\"), str | pl.Expr\n",
    "        k = 3, \n",
    "        dist = \"l2\", # squared l2\n",
    "        parallel = True\n",
    "    ).alias(\"best friends\")\n",
    ").head() "
   ]
  },
  {
   "cell_type": "code",
   "execution_count": 47,
   "id": "67a769f3",
   "metadata": {},
   "outputs": [
    {
     "name": "stdout",
     "output_type": "stream",
     "text": [
      "shape: (5, 3)\n",
      "┌─────┬───────────────────┬────────────────────┐\n",
      "│ id  ┆ best friends      ┆ best friends count │\n",
      "│ --- ┆ ---               ┆ ---                │\n",
      "│ u32 ┆ list[u32]         ┆ u32                │\n",
      "╞═════╪═══════════════════╪════════════════════╡\n",
      "│ 0   ┆ [0, 830, … 101]   ┆ 7                  │\n",
      "│ 1   ┆ [1, 1599, … 1564] ┆ 6                  │\n",
      "│ 2   ┆ [2, 699, … 1564]  ┆ 10                 │\n",
      "│ 3   ┆ [3, 1908, … 1666] ┆ 9                  │\n",
      "│ 4   ┆ [4, 19, … 1259]   ┆ 4                  │\n",
      "└─────┴───────────────────┴────────────────────┘\n"
     ]
    }
   ],
   "source": [
    "# Get all neighbors within radius r, call them best friends\n",
    "print(\n",
    "\n",
    "df.select(\n",
    "    pl.col(\"id\"),\n",
    "    pds.query_radius_ptwise(\n",
    "        pl.col(\"var1\"), pl.col(\"var2\"), pl.col(\"var3\"), # Columns used as the coordinates in 3d space\n",
    "        index = pl.col(\"id\"),\n",
    "        r = 0.1, \n",
    "        dist = \"l2\", # actually this is squared l2\n",
    "        parallel = True\n",
    "    ).alias(\"best friends\"),\n",
    ").with_columns( # -1 to remove the point itself\n",
    "    (pl.col(\"best friends\").list.len() - 1).alias(\"best friends count\")\n",
    ").head()\n",
    "\n",
    ")"
   ]
  },
  {
   "cell_type": "code",
   "execution_count": 48,
   "id": "06cd7fb2",
   "metadata": {},
   "outputs": [
    {
     "data": {
      "text/html": [
       "<div><style>\n",
       ".dataframe > thead > tr,\n",
       ".dataframe > tbody > tr {\n",
       "  text-align: right;\n",
       "  white-space: pre-wrap;\n",
       "}\n",
       "</style>\n",
       "<small>shape: (5, 8)</small><table border=\"1\" class=\"dataframe\"><thead><tr><th>id</th><th>var1</th><th>var2</th><th>var3</th><th>r</th><th>rh</th><th>idx</th><th>dist</th></tr><tr><td>u32</td><td>f64</td><td>f64</td><td>f64</td><td>f64</td><td>f64</td><td>list[u32]</td><td>list[f64]</td></tr></thead><tbody><tr><td>0</td><td>0.909291</td><td>0.883797</td><td>0.050987</td><td>0.041203</td><td>9.03286</td><td>[0, 830, … 419]</td><td>[0.0, 0.044744, … 0.080175]</td></tr><tr><td>1</td><td>0.28296</td><td>0.561952</td><td>0.20464</td><td>0.91307</td><td>6.259133</td><td>[1, 1599, … 1682]</td><td>[0.0, 0.080255, … 0.093535]</td></tr><tr><td>2</td><td>0.202197</td><td>0.700336</td><td>0.297267</td><td>0.436134</td><td>3.891523</td><td>[2, 699, … 446]</td><td>[0.0, 0.045895, … 0.058934]</td></tr><tr><td>3</td><td>0.517782</td><td>0.076448</td><td>0.910966</td><td>0.864982</td><td>4.12844</td><td>[3, 1908, … 474]</td><td>[0.0, 0.048407, … 0.051531]</td></tr><tr><td>4</td><td>0.208706</td><td>0.480551</td><td>0.367441</td><td>0.701084</td><td>3.39438</td><td>[4, 19, … 136]</td><td>[0.0, 0.055425, … 0.088305]</td></tr></tbody></table></div>"
      ],
      "text/plain": [
       "shape: (5, 8)\n",
       "┌─────┬──────────┬──────────┬──────────┬──────────┬──────────┬──────────────────┬──────────────────┐\n",
       "│ id  ┆ var1     ┆ var2     ┆ var3     ┆ r        ┆ rh       ┆ idx              ┆ dist             │\n",
       "│ --- ┆ ---      ┆ ---      ┆ ---      ┆ ---      ┆ ---      ┆ ---              ┆ ---              │\n",
       "│ u32 ┆ f64      ┆ f64      ┆ f64      ┆ f64      ┆ f64      ┆ list[u32]        ┆ list[f64]        │\n",
       "╞═════╪══════════╪══════════╪══════════╪══════════╪══════════╪══════════════════╪══════════════════╡\n",
       "│ 0   ┆ 0.909291 ┆ 0.883797 ┆ 0.050987 ┆ 0.041203 ┆ 9.03286  ┆ [0, 830, … 419]  ┆ [0.0, 0.044744,  │\n",
       "│     ┆          ┆          ┆          ┆          ┆          ┆                  ┆ … 0.080175]      │\n",
       "│ 1   ┆ 0.28296  ┆ 0.561952 ┆ 0.20464  ┆ 0.91307  ┆ 6.259133 ┆ [1, 1599, …      ┆ [0.0, 0.080255,  │\n",
       "│     ┆          ┆          ┆          ┆          ┆          ┆ 1682]            ┆ … 0.093535]      │\n",
       "│ 2   ┆ 0.202197 ┆ 0.700336 ┆ 0.297267 ┆ 0.436134 ┆ 3.891523 ┆ [2, 699, … 446]  ┆ [0.0, 0.045895,  │\n",
       "│     ┆          ┆          ┆          ┆          ┆          ┆                  ┆ … 0.058934]      │\n",
       "│ 3   ┆ 0.517782 ┆ 0.076448 ┆ 0.910966 ┆ 0.864982 ┆ 4.12844  ┆ [3, 1908, … 474] ┆ [0.0, 0.048407,  │\n",
       "│     ┆          ┆          ┆          ┆          ┆          ┆                  ┆ … 0.051531]      │\n",
       "│ 4   ┆ 0.208706 ┆ 0.480551 ┆ 0.367441 ┆ 0.701084 ┆ 3.39438  ┆ [4, 19, … 136]   ┆ [0.0, 0.055425,  │\n",
       "│     ┆          ┆          ┆          ┆          ┆          ┆                  ┆ … 0.088305]      │\n",
       "└─────┴──────────┴──────────┴──────────┴──────────┴──────────┴──────────────────┴──────────────────┘"
      ]
     },
     "execution_count": 48,
     "metadata": {},
     "output_type": "execute_result"
    }
   ],
   "source": [
    "# Get ids of the k nearest neighbors and distances\n",
    "# The point itself is always considered a neighbor to itself, so k + 1 elements will be returned.\n",
    "df.with_columns(\n",
    "    pds.query_knn_ptwise(\n",
    "        pl.col(\"var1\"), pl.col(\"var2\"), pl.col(\"var3\"), # Columns used as the coordinates in n-d space\n",
    "        index = pl.col(\"id\"),\n",
    "        k = 3, \n",
    "        dist = \"l2\", # actually this is squared l2\n",
    "        parallel = True,\n",
    "        return_dist = True\n",
    "    ).alias(\"best_friends_w_dist\")\n",
    ").unnest(\"best_friends_w_dist\").head()"
   ]
  },
  {
   "cell_type": "code",
   "execution_count": 49,
   "id": "b5c69ae4",
   "metadata": {},
   "outputs": [
    {
     "data": {
      "text/html": [
       "<div><style>\n",
       ".dataframe > thead > tr,\n",
       ".dataframe > tbody > tr {\n",
       "  text-align: right;\n",
       "  white-space: pre-wrap;\n",
       "}\n",
       "</style>\n",
       "<small>shape: (5, 6)</small><table border=\"1\" class=\"dataframe\"><thead><tr><th>id</th><th>var1</th><th>var2</th><th>var3</th><th>r</th><th>rh</th></tr><tr><td>u32</td><td>f64</td><td>f64</td><td>f64</td><td>f64</td><td>f64</td></tr></thead><tbody><tr><td>1</td><td>0.28296</td><td>0.561952</td><td>0.20464</td><td>0.91307</td><td>6.259133</td></tr><tr><td>2</td><td>0.202197</td><td>0.700336</td><td>0.297267</td><td>0.436134</td><td>3.891523</td></tr><tr><td>4</td><td>0.208706</td><td>0.480551</td><td>0.367441</td><td>0.701084</td><td>3.39438</td></tr><tr><td>7</td><td>0.412758</td><td>0.314244</td><td>0.655063</td><td>0.097273</td><td>6.469479</td></tr><tr><td>11</td><td>0.822353</td><td>0.80897</td><td>0.493537</td><td>0.806342</td><td>5.322478</td></tr></tbody></table></div>"
      ],
      "text/plain": [
       "shape: (5, 6)\n",
       "┌─────┬──────────┬──────────┬──────────┬──────────┬──────────┐\n",
       "│ id  ┆ var1     ┆ var2     ┆ var3     ┆ r        ┆ rh       │\n",
       "│ --- ┆ ---      ┆ ---      ┆ ---      ┆ ---      ┆ ---      │\n",
       "│ u32 ┆ f64      ┆ f64      ┆ f64      ┆ f64      ┆ f64      │\n",
       "╞═════╪══════════╪══════════╪══════════╪══════════╪══════════╡\n",
       "│ 1   ┆ 0.28296  ┆ 0.561952 ┆ 0.20464  ┆ 0.91307  ┆ 6.259133 │\n",
       "│ 2   ┆ 0.202197 ┆ 0.700336 ┆ 0.297267 ┆ 0.436134 ┆ 3.891523 │\n",
       "│ 4   ┆ 0.208706 ┆ 0.480551 ┆ 0.367441 ┆ 0.701084 ┆ 3.39438  │\n",
       "│ 7   ┆ 0.412758 ┆ 0.314244 ┆ 0.655063 ┆ 0.097273 ┆ 6.469479 │\n",
       "│ 11  ┆ 0.822353 ┆ 0.80897  ┆ 0.493537 ┆ 0.806342 ┆ 5.322478 │\n",
       "└─────┴──────────┴──────────┴──────────┴──────────┴──────────┘"
      ]
     },
     "execution_count": 49,
     "metadata": {},
     "output_type": "execute_result"
    }
   ],
   "source": [
    "# Filter to only points near the given point\n",
    "df.filter(\n",
    "    pds.within_dist_from(\n",
    "        pl.col(\"var1\"), pl.col(\"var2\"), pl.col(\"var3\"), # Columns used as the coordinates in n-d space\n",
    "        pt = [0.5, 0.5, 0.5],\n",
    "        r = 0.2,\n",
    "        dist = \"l2\" # actually this is squared l2, so this is asking for squared l2 <= 0.2\n",
    "    )\n",
    ").head()"
   ]
  },
  {
   "cell_type": "code",
   "execution_count": 50,
   "id": "4ab9e8f8",
   "metadata": {},
   "outputs": [
    {
     "data": {
      "text/html": [
       "<div><style>\n",
       ".dataframe > thead > tr,\n",
       ".dataframe > tbody > tr {\n",
       "  text-align: right;\n",
       "  white-space: pre-wrap;\n",
       "}\n",
       "</style>\n",
       "<small>shape: (5, 6)</small><table border=\"1\" class=\"dataframe\"><thead><tr><th>id</th><th>var1</th><th>var2</th><th>var3</th><th>r</th><th>rh</th></tr><tr><td>u32</td><td>f64</td><td>f64</td><td>f64</td><td>f64</td><td>f64</td></tr></thead><tbody><tr><td>23</td><td>0.5701</td><td>0.545562</td><td>0.091339</td><td>0.19684</td><td>2.35914</td></tr><tr><td>55</td><td>0.495225</td><td>0.548383</td><td>0.105188</td><td>0.277119</td><td>1.723293</td></tr><tr><td>59</td><td>0.503864</td><td>0.522583</td><td>0.291493</td><td>0.175174</td><td>4.71879</td></tr><tr><td>132</td><td>0.465892</td><td>0.434237</td><td>0.980264</td><td>0.404962</td><td>5.910106</td></tr><tr><td>159</td><td>0.451962</td><td>0.500064</td><td>0.390375</td><td>0.778265</td><td>5.166403</td></tr></tbody></table></div>"
      ],
      "text/plain": [
       "shape: (5, 6)\n",
       "┌─────┬──────────┬──────────┬──────────┬──────────┬──────────┐\n",
       "│ id  ┆ var1     ┆ var2     ┆ var3     ┆ r        ┆ rh       │\n",
       "│ --- ┆ ---      ┆ ---      ┆ ---      ┆ ---      ┆ ---      │\n",
       "│ u32 ┆ f64      ┆ f64      ┆ f64      ┆ f64      ┆ f64      │\n",
       "╞═════╪══════════╪══════════╪══════════╪══════════╪══════════╡\n",
       "│ 23  ┆ 0.5701   ┆ 0.545562 ┆ 0.091339 ┆ 0.19684  ┆ 2.35914  │\n",
       "│ 55  ┆ 0.495225 ┆ 0.548383 ┆ 0.105188 ┆ 0.277119 ┆ 1.723293 │\n",
       "│ 59  ┆ 0.503864 ┆ 0.522583 ┆ 0.291493 ┆ 0.175174 ┆ 4.71879  │\n",
       "│ 132 ┆ 0.465892 ┆ 0.434237 ┆ 0.980264 ┆ 0.404962 ┆ 5.910106 │\n",
       "│ 159 ┆ 0.451962 ┆ 0.500064 ┆ 0.390375 ┆ 0.778265 ┆ 5.166403 │\n",
       "└─────┴──────────┴──────────┴──────────┴──────────┴──────────┘"
      ]
     },
     "execution_count": 50,
     "metadata": {},
     "output_type": "execute_result"
    }
   ],
   "source": [
    "# Haversine distance is available when dimension is 2\n",
    "df.filter(\n",
    "    pds.within_dist_from(\n",
    "        pl.col(\"var1\"), pl.col(\"var2\"), # Columns used as the coordinates in n-d space\n",
    "        pt = [0.5, 0.5],\n",
    "        r = 10, # in km\n",
    "        dist = \"h\" \n",
    "    )\n",
    ").head()"
   ]
  },
  {
   "cell_type": "code",
   "execution_count": 51,
   "id": "7d3f5ae4",
   "metadata": {},
   "outputs": [
    {
     "data": {
      "text/html": [
       "<div><style>\n",
       ".dataframe > thead > tr,\n",
       ".dataframe > tbody > tr {\n",
       "  text-align: right;\n",
       "  white-space: pre-wrap;\n",
       "}\n",
       "</style>\n",
       "<small>shape: (5, 6)</small><table border=\"1\" class=\"dataframe\"><thead><tr><th>id</th><th>var1</th><th>var2</th><th>var3</th><th>r</th><th>rh</th></tr><tr><td>u32</td><td>f64</td><td>f64</td><td>f64</td><td>f64</td><td>f64</td></tr></thead><tbody><tr><td>59</td><td>0.503864</td><td>0.522583</td><td>0.291493</td><td>0.175174</td><td>4.71879</td></tr><tr><td>213</td><td>0.440951</td><td>0.528829</td><td>0.078859</td><td>0.418549</td><td>7.60724</td></tr><tr><td>246</td><td>0.466112</td><td>0.519506</td><td>0.412356</td><td>0.927081</td><td>8.954681</td></tr><tr><td>461</td><td>0.478636</td><td>0.561645</td><td>0.463417</td><td>0.961912</td><td>8.761375</td></tr><tr><td>516</td><td>0.527453</td><td>0.460041</td><td>0.204227</td><td>0.547982</td><td>8.697078</td></tr></tbody></table></div>"
      ],
      "text/plain": [
       "shape: (5, 6)\n",
       "┌─────┬──────────┬──────────┬──────────┬──────────┬──────────┐\n",
       "│ id  ┆ var1     ┆ var2     ┆ var3     ┆ r        ┆ rh       │\n",
       "│ --- ┆ ---      ┆ ---      ┆ ---      ┆ ---      ┆ ---      │\n",
       "│ u32 ┆ f64      ┆ f64      ┆ f64      ┆ f64      ┆ f64      │\n",
       "╞═════╪══════════╪══════════╪══════════╪══════════╪══════════╡\n",
       "│ 59  ┆ 0.503864 ┆ 0.522583 ┆ 0.291493 ┆ 0.175174 ┆ 4.71879  │\n",
       "│ 213 ┆ 0.440951 ┆ 0.528829 ┆ 0.078859 ┆ 0.418549 ┆ 7.60724  │\n",
       "│ 246 ┆ 0.466112 ┆ 0.519506 ┆ 0.412356 ┆ 0.927081 ┆ 8.954681 │\n",
       "│ 461 ┆ 0.478636 ┆ 0.561645 ┆ 0.463417 ┆ 0.961912 ┆ 8.761375 │\n",
       "│ 516 ┆ 0.527453 ┆ 0.460041 ┆ 0.204227 ┆ 0.547982 ┆ 8.697078 │\n",
       "└─────┴──────────┴──────────┴──────────┴──────────┴──────────┘"
      ]
     },
     "execution_count": 51,
     "metadata": {},
     "output_type": "execute_result"
    }
   ],
   "source": [
    "df.filter(\n",
    "    pds.within_dist_from(\n",
    "        pl.col(\"var1\"), pl.col(\"var2\"), \n",
    "        pt = [0.5, 0.5],\n",
    "        # radius can also be an existing column in the dataframe.\n",
    "        r = pl.col(\"rh\"), \n",
    "        dist = \"h\" \n",
    "    )\n",
    ").head()"
   ]
  },
  {
   "cell_type": "code",
   "execution_count": 52,
   "id": "f14627bc",
   "metadata": {},
   "outputs": [
    {
     "data": {
      "text/html": [
       "<div><style>\n",
       ".dataframe > thead > tr,\n",
       ".dataframe > tbody > tr {\n",
       "  text-align: right;\n",
       "  white-space: pre-wrap;\n",
       "}\n",
       "</style>\n",
       "<small>shape: (5, 3)</small><table border=\"1\" class=\"dataframe\"><thead><tr><th>id</th><th>friends</th><th>count</th></tr><tr><td>u64</td><td>list[u32]</td><td>u32</td></tr></thead><tbody><tr><td>0</td><td>[0, 1863, … 1380]</td><td>4</td></tr><tr><td>1</td><td>[1]</td><td>1</td></tr><tr><td>2</td><td>[2, 1984, … 902]</td><td>4</td></tr><tr><td>3</td><td>[3, 1609, … 1391]</td><td>4</td></tr><tr><td>4</td><td>[4, 795]</td><td>2</td></tr></tbody></table></div>"
      ],
      "text/plain": [
       "shape: (5, 3)\n",
       "┌─────┬───────────────────┬───────┐\n",
       "│ id  ┆ friends           ┆ count │\n",
       "│ --- ┆ ---               ┆ ---   │\n",
       "│ u64 ┆ list[u32]         ┆ u32   │\n",
       "╞═════╪═══════════════════╪═══════╡\n",
       "│ 0   ┆ [0, 1863, … 1380] ┆ 4     │\n",
       "│ 1   ┆ [1]               ┆ 1     │\n",
       "│ 2   ┆ [2, 1984, … 902]  ┆ 4     │\n",
       "│ 3   ┆ [3, 1609, … 1391] ┆ 4     │\n",
       "│ 4   ┆ [4, 795]          ┆ 2     │\n",
       "└─────┴───────────────────┴───────┘"
      ]
     },
     "execution_count": 52,
     "metadata": {},
     "output_type": "execute_result"
    }
   ],
   "source": [
    "friends = df.select(\n",
    "    pl.col(\"id\").cast(pl.UInt64),\n",
    "    pds.query_radius_ptwise(\n",
    "        # Columns used as the coordinates in n-d space\n",
    "        pl.col(\"var1\"), pl.col(\"var2\"), \n",
    "        index=pl.col(\"id\"),\n",
    "        r = 0.02, \n",
    "        dist = \"l2\",\n",
    "    ).alias(\"friends\")\n",
    ").with_columns(\n",
    "    pl.col(\"friends\").list.len().alias(\"count\")\n",
    ")\n",
    "friends.head()"
   ]
  },
  {
   "cell_type": "markdown",
   "id": "98264a05",
   "metadata": {},
   "source": [
    "# Using PDS Expressions On pl.Series, NumPy arrays, or pd.Series"
   ]
  },
  {
   "cell_type": "code",
   "execution_count": 53,
   "id": "0a42a771",
   "metadata": {},
   "outputs": [
    {
     "data": {
      "text/html": [
       "<div><style>\n",
       ".dataframe > thead > tr,\n",
       ".dataframe > tbody > tr {\n",
       "  text-align: right;\n",
       "  white-space: pre-wrap;\n",
       "}\n",
       "</style>\n",
       "<small>shape: (5, 6)</small><table border=\"1\" class=\"dataframe\"><thead><tr><th>actual</th><th>predicted</th><th>0-2</th><th>0-9</th><th>s1</th><th>s2</th></tr><tr><td>f64</td><td>f64</td><td>i32</td><td>i32</td><td>str</td><td>str</td></tr></thead><tbody><tr><td>0.0</td><td>0.025416</td><td>1</td><td>2</td><td>&quot;m&quot;</td><td>&quot;uL&quot;</td></tr><tr><td>1.0</td><td>0.102931</td><td>1</td><td>5</td><td>&quot;W&quot;</td><td>&quot;yL&quot;</td></tr><tr><td>1.0</td><td>0.739818</td><td>1</td><td>2</td><td>&quot;H&quot;</td><td>&quot;mF&quot;</td></tr><tr><td>1.0</td><td>0.106416</td><td>2</td><td>6</td><td>&quot;5&quot;</td><td>&quot;B&quot;</td></tr><tr><td>1.0</td><td>0.374921</td><td>1</td><td>5</td><td>&quot;l&quot;</td><td>&quot;dz&quot;</td></tr></tbody></table></div>"
      ],
      "text/plain": [
       "shape: (5, 6)\n",
       "┌────────┬───────────┬─────┬─────┬─────┬─────┐\n",
       "│ actual ┆ predicted ┆ 0-2 ┆ 0-9 ┆ s1  ┆ s2  │\n",
       "│ ---    ┆ ---       ┆ --- ┆ --- ┆ --- ┆ --- │\n",
       "│ f64    ┆ f64       ┆ i32 ┆ i32 ┆ str ┆ str │\n",
       "╞════════╪═══════════╪═════╪═════╪═════╪═════╡\n",
       "│ 0.0    ┆ 0.025416  ┆ 1   ┆ 2   ┆ m   ┆ uL  │\n",
       "│ 1.0    ┆ 0.102931  ┆ 1   ┆ 5   ┆ W   ┆ yL  │\n",
       "│ 1.0    ┆ 0.739818  ┆ 1   ┆ 2   ┆ H   ┆ mF  │\n",
       "│ 1.0    ┆ 0.106416  ┆ 2   ┆ 6   ┆ 5   ┆ B   │\n",
       "│ 1.0    ┆ 0.374921  ┆ 1   ┆ 5   ┆ l   ┆ dz  │\n",
       "└────────┴───────────┴─────┴─────┴─────┴─────┘"
      ]
     },
     "execution_count": 53,
     "metadata": {},
     "output_type": "execute_result"
    }
   ],
   "source": [
    "import pandas as pd\n",
    "import numpy as np\n",
    "from polars_ds.compat import compat as pds2\n",
    "\n",
    "df = pds.frame(size=100_000).select(\n",
    "    pds.random(0.0, 1.0).round().alias(\"actual\"),\n",
    "    pds.random(0.0, 1.0).alias(\"predicted\"),\n",
    "    pds.random_int(0, 3).alias(\"0-2\"),\n",
    "    pds.random_int(0, 10).alias(\"0-9\"),\n",
    "    pds.random_str(min_size=1, max_size=2).alias(\"s1\"),\n",
    "    pds.random_str(min_size=1, max_size=2).alias(\"s2\"),\n",
    ")\n",
    "df.head()"
   ]
  },
  {
   "cell_type": "code",
   "execution_count": 54,
   "id": "e6574a57",
   "metadata": {},
   "outputs": [],
   "source": [
    "df_pd = df.to_pandas()"
   ]
  },
  {
   "cell_type": "code",
   "execution_count": 55,
   "id": "70830d04",
   "metadata": {},
   "outputs": [
    {
     "data": {
      "text/html": [
       "<div><style>\n",
       ".dataframe > thead > tr,\n",
       ".dataframe > tbody > tr {\n",
       "  text-align: right;\n",
       "  white-space: pre-wrap;\n",
       "}\n",
       "</style>\n",
       "<small>shape: (1,)</small><table border=\"1\" class=\"dataframe\"><thead><tr><th>jaccard_col</th></tr><tr><td>f64</td></tr></thead><tbody><tr><td>0.3</td></tr></tbody></table></div>"
      ],
      "text/plain": [
       "shape: (1,)\n",
       "Series: 'jaccard_col' [f64]\n",
       "[\n",
       "\t0.3\n",
       "]"
      ]
     },
     "execution_count": 55,
     "metadata": {},
     "output_type": "execute_result"
    }
   ],
   "source": [
    "# Pandas Series\n",
    "pds2.jaccard_col(df_pd[\"0-2\"], df_pd[\"0-9\"])"
   ]
  },
  {
   "cell_type": "code",
   "execution_count": 56,
   "id": "471cbbbd",
   "metadata": {},
   "outputs": [
    {
     "data": {
      "text/html": [
       "<div><style>\n",
       ".dataframe > thead > tr,\n",
       ".dataframe > tbody > tr {\n",
       "  text-align: right;\n",
       "  white-space: pre-wrap;\n",
       "}\n",
       "</style>\n",
       "<small>shape: (1, 5)</small><table border=\"1\" class=\"dataframe\"><thead><tr><th>precision</th><th>recall</th><th>f</th><th>average_precision</th><th>roc_auc</th></tr><tr><td>f64</td><td>f64</td><td>f64</td><td>f64</td><td>f64</td></tr></thead><tbody><tr><td>0.501429</td><td>0.502614</td><td>0.502021</td><td>0.502378</td><td>0.503615</td></tr></tbody></table></div>"
      ],
      "text/plain": [
       "shape: (1, 5)\n",
       "┌───────────┬──────────┬──────────┬───────────────────┬──────────┐\n",
       "│ precision ┆ recall   ┆ f        ┆ average_precision ┆ roc_auc  │\n",
       "│ ---       ┆ ---      ┆ ---      ┆ ---               ┆ ---      │\n",
       "│ f64       ┆ f64      ┆ f64      ┆ f64               ┆ f64      │\n",
       "╞═══════════╪══════════╪══════════╪═══════════════════╪══════════╡\n",
       "│ 0.501429  ┆ 0.502614 ┆ 0.502021 ┆ 0.502378          ┆ 0.503615 │\n",
       "└───────────┴──────────┴──────────┴───────────────────┴──────────┘"
      ]
     },
     "execution_count": 56,
     "metadata": {},
     "output_type": "execute_result"
    }
   ],
   "source": [
    "# Polars Series\n",
    "pds2.query_binary_metrics(df[\"actual\"], df[\"predicted\"]).struct.unnest()"
   ]
  },
  {
   "cell_type": "code",
   "execution_count": 57,
   "id": "9d15fc63",
   "metadata": {},
   "outputs": [
    {
     "data": {
      "text/html": [
       "<div><style>\n",
       ".dataframe > thead > tr,\n",
       ".dataframe > tbody > tr {\n",
       "  text-align: right;\n",
       "  white-space: pre-wrap;\n",
       "}\n",
       "</style>\n",
       "<small>shape: (5, 4)</small><table border=\"1\" class=\"dataframe\"><thead><tr><th>cnt&lt;=</th><th>baseline_pct</th><th>actual_pct</th><th>psi_bin</th></tr><tr><td>f64</td><td>f64</td><td>f64</td><td>f64</td></tr></thead><tbody><tr><td>0.217667</td><td>0.2</td><td>0.205</td><td>0.000123</td></tr><tr><td>0.415258</td><td>0.2</td><td>0.198</td><td>0.00002</td></tr><tr><td>0.606419</td><td>0.2</td><td>0.196</td><td>0.000081</td></tr><tr><td>0.813805</td><td>0.2</td><td>0.219</td><td>0.001724</td></tr><tr><td>inf</td><td>0.2</td><td>0.182</td><td>0.001698</td></tr></tbody></table></div>"
      ],
      "text/plain": [
       "shape: (5, 4)\n",
       "┌──────────┬──────────────┬────────────┬──────────┐\n",
       "│ cnt<=    ┆ baseline_pct ┆ actual_pct ┆ psi_bin  │\n",
       "│ ---      ┆ ---          ┆ ---        ┆ ---      │\n",
       "│ f64      ┆ f64          ┆ f64        ┆ f64      │\n",
       "╞══════════╪══════════════╪════════════╪══════════╡\n",
       "│ 0.217667 ┆ 0.2          ┆ 0.205      ┆ 0.000123 │\n",
       "│ 0.415258 ┆ 0.2          ┆ 0.198      ┆ 0.00002  │\n",
       "│ 0.606419 ┆ 0.2          ┆ 0.196      ┆ 0.000081 │\n",
       "│ 0.813805 ┆ 0.2          ┆ 0.219      ┆ 0.001724 │\n",
       "│ inf      ┆ 0.2          ┆ 0.182      ┆ 0.001698 │\n",
       "└──────────┴──────────────┴────────────┴──────────┘"
      ]
     },
     "execution_count": 57,
     "metadata": {},
     "output_type": "execute_result"
    }
   ],
   "source": [
    "# NumPy Arrays\n",
    "pds2.psi(\n",
    "    np.random.random(size = 1000), \n",
    "    np.random.random(size = 1000), \n",
    "    n_bins = 5, \n",
    "    return_report = True\n",
    ").struct.unnest()"
   ]
  },
  {
   "cell_type": "code",
   "execution_count": 58,
   "id": "8c5c3fee",
   "metadata": {},
   "outputs": [
    {
     "data": {
      "text/html": [
       "<div><style>\n",
       ".dataframe > thead > tr,\n",
       ".dataframe > tbody > tr {\n",
       "  text-align: right;\n",
       "  white-space: pre-wrap;\n",
       "}\n",
       "</style>\n",
       "<small>shape: (1,)</small><table border=\"1\" class=\"dataframe\"><thead><tr><th>cid_ce</th></tr><tr><td>f64</td></tr></thead><tbody><tr><td>12.613179</td></tr></tbody></table></div>"
      ],
      "text/plain": [
       "shape: (1,)\n",
       "Series: 'cid_ce' [f64]\n",
       "[\n",
       "\t12.613179\n",
       "]"
      ]
     },
     "execution_count": 58,
     "metadata": {},
     "output_type": "execute_result"
    }
   ],
   "source": [
    "pds2.query_cid_ce(\n",
    "    np.random.random(size = 1000),\n",
    ")"
   ]
  },
  {
   "cell_type": "code",
   "execution_count": 59,
   "id": "b0c14067",
   "metadata": {},
   "outputs": [
    {
     "data": {
      "text/html": [
       "<div><style>\n",
       ".dataframe > thead > tr,\n",
       ".dataframe > tbody > tr {\n",
       "  text-align: right;\n",
       "  white-space: pre-wrap;\n",
       "}\n",
       "</style>\n",
       "<small>shape: (1,)</small><table border=\"1\" class=\"dataframe\"><thead><tr><th>c3_stats</th></tr><tr><td>f64</td></tr></thead><tbody><tr><td>0.116697</td></tr></tbody></table></div>"
      ],
      "text/plain": [
       "shape: (1,)\n",
       "Series: 'c3_stats' [f64]\n",
       "[\n",
       "\t0.116697\n",
       "]"
      ]
     },
     "execution_count": 59,
     "metadata": {},
     "output_type": "execute_result"
    }
   ],
   "source": [
    "pds2.query_c3_stats(\n",
    "    pl.Series(values=np.random.random(size = 1000)), \n",
    "    lag = 3\n",
    ")"
   ]
  },
  {
   "cell_type": "code",
   "execution_count": 60,
   "id": "f7cc8f20",
   "metadata": {},
   "outputs": [
    {
     "data": {
      "text/html": [
       "<div><style>\n",
       ".dataframe > thead > tr,\n",
       ".dataframe > tbody > tr {\n",
       "  text-align: right;\n",
       "  white-space: pre-wrap;\n",
       "}\n",
       "</style>\n",
       "<small>shape: (10,)</small><table border=\"1\" class=\"dataframe\"><thead><tr><th>str_leven</th></tr><tr><td>u32</td></tr></thead><tbody><tr><td>2</td></tr><tr><td>2</td></tr><tr><td>2</td></tr><tr><td>1</td></tr><tr><td>2</td></tr><tr><td>2</td></tr><tr><td>2</td></tr><tr><td>2</td></tr><tr><td>2</td></tr><tr><td>2</td></tr></tbody></table></div>"
      ],
      "text/plain": [
       "shape: (10,)\n",
       "Series: 'str_leven' [u32]\n",
       "[\n",
       "\t2\n",
       "\t2\n",
       "\t2\n",
       "\t1\n",
       "\t2\n",
       "\t2\n",
       "\t2\n",
       "\t2\n",
       "\t2\n",
       "\t2\n",
       "]"
      ]
     },
     "execution_count": 60,
     "metadata": {},
     "output_type": "execute_result"
    }
   ],
   "source": [
    "pds2.str_leven(df[\"s1\"], df[\"s2\"]).head() "
   ]
  },
  {
   "cell_type": "code",
   "execution_count": null,
   "id": "d2aab4a3",
   "metadata": {},
   "outputs": [],
   "source": []
  }
 ],
 "metadata": {
  "kernelspec": {
   "display_name": ".venv",
   "language": "python",
   "name": "python3"
  },
  "language_info": {
   "codemirror_mode": {
    "name": "ipython",
    "version": 3
   },
   "file_extension": ".py",
   "mimetype": "text/x-python",
   "name": "python",
   "nbconvert_exporter": "python",
   "pygments_lexer": "ipython3",
   "version": "3.12.7"
  }
 },
 "nbformat": 4,
 "nbformat_minor": 5
}
