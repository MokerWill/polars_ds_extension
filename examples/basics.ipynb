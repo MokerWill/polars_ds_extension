{
 "cells": [
  {
   "cell_type": "code",
   "execution_count": 1,
   "id": "529f4422-5c3a-4bd6-abe0-a15edfc62abb",
   "metadata": {},
   "outputs": [],
   "source": [
    "import polars as pl\n",
    "import polars_ds as pds\n",
    "import numpy as np"
   ]
  },
  {
   "cell_type": "markdown",
   "id": "6a314316",
   "metadata": {},
   "source": [
    "# This notebook illustrates the basic usage of this package\n",
    "\n",
    "You need to create an environment with this package installed to run this notebook. (usually latest version)"
   ]
  },
  {
   "cell_type": "markdown",
   "id": "3aef5c69-fff3-4779-9b58-f939d725f0b0",
   "metadata": {},
   "source": [
    "# Num Extensions"
   ]
  },
  {
   "cell_type": "code",
   "execution_count": 2,
   "id": "430fec01-5d0b-422f-b099-c86037512b6d",
   "metadata": {},
   "outputs": [
    {
     "data": {
      "text/html": [
       "<div><style>\n",
       ".dataframe > thead > tr,\n",
       ".dataframe > tbody > tr {\n",
       "  text-align: right;\n",
       "  white-space: pre-wrap;\n",
       "}\n",
       "</style>\n",
       "<small>shape: (5, 12)</small><table border=\"1\" class=\"dataframe\"><thead><tr><th>f</th><th>time_idx</th><th>dummy</th><th>actual</th><th>predicted</th><th>dummy_groups</th><th>x1</th><th>x2</th><th>x3</th><th>a</th><th>b</th><th>y</th></tr><tr><td>f64</td><td>i64</td><td>str</td><td>i32</td><td>f64</td><td>str</td><td>f64</td><td>f64</td><td>f64</td><td>f64</td><td>f64</td><td>f64</td></tr></thead><tbody><tr><td>0.0</td><td>0</td><td>&quot;a&quot;</td><td>1</td><td>0.892165</td><td>&quot;a&quot;</td><td>0.911793</td><td>0.695128</td><td>0.094218</td><td>0.818295</td><td>0.815966</td><td>0.203999</td></tr><tr><td>0.841471</td><td>1</td><td>&quot;a&quot;</td><td>1</td><td>0.948313</td><td>&quot;a&quot;</td><td>0.125725</td><td>0.956351</td><td>0.776309</td><td>0.325662</td><td>0.589716</td><td>-0.858681</td></tr><tr><td>0.909297</td><td>2</td><td>&quot;a&quot;</td><td>1</td><td>0.98999</td><td>&quot;a&quot;</td><td>0.621217</td><td>0.93351</td><td>0.002152</td><td>0.661189</td><td>0.483786</td><td>0.370057</td></tr><tr><td>0.14112</td><td>3</td><td>&quot;a&quot;</td><td>1</td><td>0.063476</td><td>&quot;a&quot;</td><td>0.55396</td><td>0.868633</td><td>0.533063</td><td>0.781415</td><td>0.392511</td><td>-0.455826</td></tr><tr><td>-0.756802</td><td>4</td><td>&quot;a&quot;</td><td>0</td><td>0.337291</td><td>&quot;a&quot;</td><td>0.107261</td><td>0.288737</td><td>0.465019</td><td>0.036417</td><td>0.10985</td><td>-0.594726</td></tr></tbody></table></div>"
      ],
      "text/plain": [
       "shape: (5, 12)\n",
       "┌───────────┬──────────┬───────┬────────┬───┬──────────┬──────────┬──────────┬───────────┐\n",
       "│ f         ┆ time_idx ┆ dummy ┆ actual ┆ … ┆ x3       ┆ a        ┆ b        ┆ y         │\n",
       "│ ---       ┆ ---      ┆ ---   ┆ ---    ┆   ┆ ---      ┆ ---      ┆ ---      ┆ ---       │\n",
       "│ f64       ┆ i64      ┆ str   ┆ i32    ┆   ┆ f64      ┆ f64      ┆ f64      ┆ f64       │\n",
       "╞═══════════╪══════════╪═══════╪════════╪═══╪══════════╪══════════╪══════════╪═══════════╡\n",
       "│ 0.0       ┆ 0        ┆ a     ┆ 1      ┆ … ┆ 0.094218 ┆ 0.818295 ┆ 0.815966 ┆ 0.203999  │\n",
       "│ 0.841471  ┆ 1        ┆ a     ┆ 1      ┆ … ┆ 0.776309 ┆ 0.325662 ┆ 0.589716 ┆ -0.858681 │\n",
       "│ 0.909297  ┆ 2        ┆ a     ┆ 1      ┆ … ┆ 0.002152 ┆ 0.661189 ┆ 0.483786 ┆ 0.370057  │\n",
       "│ 0.14112   ┆ 3        ┆ a     ┆ 1      ┆ … ┆ 0.533063 ┆ 0.781415 ┆ 0.392511 ┆ -0.455826 │\n",
       "│ -0.756802 ┆ 4        ┆ a     ┆ 0      ┆ … ┆ 0.465019 ┆ 0.036417 ┆ 0.10985  ┆ -0.594726 │\n",
       "└───────────┴──────────┴───────┴────────┴───┴──────────┴──────────┴──────────┴───────────┘"
      ]
     },
     "execution_count": 2,
     "metadata": {},
     "output_type": "execute_result"
    }
   ],
   "source": [
    "size = 10_000\n",
    "df = pl.DataFrame({\n",
    "    \"f\": np.sin(list(range(size)))\n",
    "    , \"time_idx\": range(size)\n",
    "    , \"dummy\": [\"a\"] * (size // 2) + [\"b\"] * (size // 2)\n",
    "    , \"actual\": np.round(np.random.random(size=size)).astype(np.int32)\n",
    "    , \"predicted\": np.random.random(size=size)\n",
    "    , \"dummy_groups\":[\"a\"] * (size//2) + [\"b\"] * (size//2) \n",
    "}).with_columns(\n",
    "    pds.random(0., 1.).alias(\"x1\")\n",
    "    , pds.random(0., 1.).alias(\"x2\")\n",
    "    , pds.random(0., 1.).alias(\"x3\")\n",
    "    , pds.random(0., 1.).alias(\"a\")\n",
    "    , pds.random(0., 1.).alias(\"b\")\n",
    ").with_columns(\n",
    "    y = pl.col(\"x1\") * 0.15 + pl.col(\"x2\") * 0.3 - pl.col(\"x3\") * 1.5 + pds.random() * 0.0001\n",
    ")\n",
    "df.head()"
   ]
  },
  {
   "cell_type": "code",
   "execution_count": 3,
   "id": "b6f98453-34cd-4afc-b35d-db58fa60a69a",
   "metadata": {},
   "outputs": [
    {
     "data": {
      "text/html": [
       "<div><style>\n",
       ".dataframe > thead > tr,\n",
       ".dataframe > tbody > tr {\n",
       "  text-align: right;\n",
       "  white-space: pre-wrap;\n",
       "}\n",
       "</style>\n",
       "<small>shape: (1, 1)</small><table border=\"1\" class=\"dataframe\"><thead><tr><th>x1</th></tr><tr><td>f64</td></tr></thead><tbody><tr><td>0.0</td></tr></tbody></table></div>"
      ],
      "text/plain": [
       "shape: (1, 1)\n",
       "┌─────┐\n",
       "│ x1  │\n",
       "│ --- │\n",
       "│ f64 │\n",
       "╞═════╡\n",
       "│ 0.0 │\n",
       "└─────┘"
      ]
     },
     "execution_count": 3,
     "metadata": {},
     "output_type": "execute_result"
    }
   ],
   "source": [
    "# Column-wise Jaccard Similarity. Result should be 0 as they are distinct\n",
    "df.select(\n",
    "    pds.query_jaccard_col(\"x1\", pl.col(\"x2\"))\n",
    ")"
   ]
  },
  {
   "cell_type": "code",
   "execution_count": 4,
   "id": "416d5346-e75b-4769-a953-e898d6a4d84c",
   "metadata": {},
   "outputs": [
    {
     "data": {
      "text/html": [
       "<div><style>\n",
       ".dataframe > thead > tr,\n",
       ".dataframe > tbody > tr {\n",
       "  text-align: right;\n",
       "  white-space: pre-wrap;\n",
       "}\n",
       "</style>\n",
       "<small>shape: (5, 1)</small><table border=\"1\" class=\"dataframe\"><thead><tr><th>f</th></tr><tr><td>array[f64, 2]</td></tr></thead><tbody><tr><td>[1.939505, 0.0]</td></tr><tr><td>[1.939506, 0.000209]</td></tr><tr><td>[1.939508, 0.000418]</td></tr><tr><td>[1.939512, 0.000627]</td></tr><tr><td>[1.939518, 0.000835]</td></tr></tbody></table></div>"
      ],
      "text/plain": [
       "shape: (5, 1)\n",
       "┌──────────────────────┐\n",
       "│ f                    │\n",
       "│ ---                  │\n",
       "│ array[f64, 2]        │\n",
       "╞══════════════════════╡\n",
       "│ [1.939505, 0.0]      │\n",
       "│ [1.939506, 0.000209] │\n",
       "│ [1.939508, 0.000418] │\n",
       "│ [1.939512, 0.000627] │\n",
       "│ [1.939518, 0.000835] │\n",
       "└──────────────────────┘"
      ]
     },
     "execution_count": 4,
     "metadata": {},
     "output_type": "execute_result"
    }
   ],
   "source": [
    "# FFT. First is real part, second is complex part\n",
    "# By default, this behaves the same as np's rfft, which returns a non-redundant \n",
    "# compact representation of fft output.\n",
    "df.select(\n",
    "    pds.rfft(\"f\")\n",
    ").head()"
   ]
  },
  {
   "cell_type": "code",
   "execution_count": 5,
   "id": "71c76353",
   "metadata": {},
   "outputs": [
    {
     "data": {
      "text/plain": [
       "(10000, 1)"
      ]
     },
     "execution_count": 5,
     "metadata": {},
     "output_type": "execute_result"
    }
   ],
   "source": [
    "# FFT. But return the full length\n",
    "df.select(\n",
    "    pds.rfft(\"f\", return_full=True)\n",
    ").shape"
   ]
  },
  {
   "cell_type": "code",
   "execution_count": 6,
   "id": "cd6662d2",
   "metadata": {},
   "outputs": [
    {
     "data": {
      "text/html": [
       "<div><style>\n",
       ".dataframe > thead > tr,\n",
       ".dataframe > tbody > tr {\n",
       "  text-align: right;\n",
       "  white-space: pre-wrap;\n",
       "}\n",
       "</style>\n",
       "<small>shape: (5, 3)</small><table border=\"1\" class=\"dataframe\"><thead><tr><th>f</th><th>a</th><th>b</th></tr><tr><td>f64</td><td>f64</td><td>f64</td></tr></thead><tbody><tr><td>-4.2882e-16</td><td>-0.818295</td><td>-0.815966</td></tr><tr><td>-0.841471</td><td>-0.325662</td><td>-0.589716</td></tr><tr><td>-0.909297</td><td>-0.661189</td><td>-0.483786</td></tr><tr><td>-0.14112</td><td>-0.781415</td><td>-0.392511</td></tr><tr><td>0.756802</td><td>0.781878</td><td>0.706116</td></tr></tbody></table></div>"
      ],
      "text/plain": [
       "shape: (5, 3)\n",
       "┌─────────────┬───────────┬───────────┐\n",
       "│ f           ┆ a         ┆ b         │\n",
       "│ ---         ┆ ---       ┆ ---       │\n",
       "│ f64         ┆ f64       ┆ f64       │\n",
       "╞═════════════╪═══════════╪═══════════╡\n",
       "│ -4.2882e-16 ┆ -0.818295 ┆ -0.815966 │\n",
       "│ -0.841471   ┆ -0.325662 ┆ -0.589716 │\n",
       "│ -0.909297   ┆ -0.661189 ┆ -0.483786 │\n",
       "│ -0.14112    ┆ -0.781415 ┆ -0.392511 │\n",
       "│ 0.756802    ┆ 0.781878  ┆ 0.706116  │\n",
       "└─────────────┴───────────┴───────────┘"
      ]
     },
     "execution_count": 6,
     "metadata": {},
     "output_type": "execute_result"
    }
   ],
   "source": [
    "# Multiple Convolutions at once\n",
    "# Modes: `same`, `left` (left-aligned same), `right` (right-aligned same), `valid` or `full`\n",
    "# Method: `fft`, `direct`\n",
    "# Currently slower than SciPy but provides parallelism because of Polars\n",
    "df.select(\n",
    "    pds.convolve(\"f\", [-1, 0, 0, 0, 1], mode = \"full\", method = \"fft\"), # column f with the kernel given here\n",
    "    pds.convolve(\"a\", [-1, 0, 0, 0, 1], mode = \"full\", method = \"direct\"),\n",
    "    pds.convolve(\"b\", [-1, 0, 0, 0, 1], mode = \"full\", method = \"direct\"),\n",
    ").head()"
   ]
  },
  {
   "cell_type": "code",
   "execution_count": 7,
   "id": "ed47b643-6bcc-43f6-9a25-82168c33e7fd",
   "metadata": {},
   "outputs": [
    {
     "data": {
      "text/html": [
       "<div><style>\n",
       ".dataframe > thead > tr,\n",
       ".dataframe > tbody > tr {\n",
       "  text-align: right;\n",
       "  white-space: pre-wrap;\n",
       "}\n",
       "</style>\n",
       "<small>shape: (1, 1)</small><table border=\"1\" class=\"dataframe\"><thead><tr><th>y</th></tr><tr><td>list[f64]</td></tr></thead><tbody><tr><td>[-0.490017, -0.355404]</td></tr></tbody></table></div>"
      ],
      "text/plain": [
       "shape: (1, 1)\n",
       "┌────────────────────────┐\n",
       "│ y                      │\n",
       "│ ---                    │\n",
       "│ list[f64]              │\n",
       "╞════════════════════════╡\n",
       "│ [-0.490017, -0.355404] │\n",
       "└────────────────────────┘"
      ]
     },
     "execution_count": 7,
     "metadata": {},
     "output_type": "execute_result"
    }
   ],
   "source": [
    "# Least Square (Linear Regression)\n",
    "df.select(\n",
    "    pds.query_lstsq(\n",
    "        pl.col(\"x1\"), pl.col(\"x2\"),\n",
    "        target = pl.col(\"y\"),\n",
    "        add_bias=False\n",
    "    )\n",
    ")"
   ]
  },
  {
   "cell_type": "code",
   "execution_count": 8,
   "id": "7e6da23d",
   "metadata": {},
   "outputs": [
    {
     "data": {
      "text/html": [
       "<div><style>\n",
       ".dataframe > thead > tr,\n",
       ".dataframe > tbody > tr {\n",
       "  text-align: right;\n",
       "  white-space: pre-wrap;\n",
       "}\n",
       "</style>\n",
       "<small>shape: (4, 7)</small><table border=\"1\" class=\"dataframe\"><thead><tr><th>features</th><th>beta</th><th>std_err</th><th>t</th><th>p&gt;|t|</th><th>0.025</th><th>0.975</th></tr><tr><td>str</td><td>f64</td><td>f64</td><td>f64</td><td>f64</td><td>f64</td><td>f64</td></tr></thead><tbody><tr><td>&quot;ln(x1+1)&quot;</td><td>0.219844</td><td>0.001645</td><td>133.680425</td><td>0.0</td><td>0.216621</td><td>0.223068</td></tr><tr><td>&quot;exp(x2)&quot;</td><td>0.175615</td><td>0.000671</td><td>261.549471</td><td>0.0</td><td>0.174299</td><td>0.176931</td></tr><tr><td>&quot;sin(x3)&quot;</td><td>-1.743993</td><td>0.001334</td><td>-1306.99375</td><td>0.0</td><td>-1.746608</td><td>-1.741377</td></tr><tr><td>&quot;__bias__&quot;</td><td>-0.109299</td><td>0.001498</td><td>-72.974218</td><td>0.0</td><td>-0.112235</td><td>-0.106363</td></tr></tbody></table></div>"
      ],
      "text/plain": [
       "shape: (4, 7)\n",
       "┌──────────┬───────────┬──────────┬─────────────┬───────┬───────────┬───────────┐\n",
       "│ features ┆ beta      ┆ std_err  ┆ t           ┆ p>|t| ┆ 0.025     ┆ 0.975     │\n",
       "│ ---      ┆ ---       ┆ ---      ┆ ---         ┆ ---   ┆ ---       ┆ ---       │\n",
       "│ str      ┆ f64       ┆ f64      ┆ f64         ┆ f64   ┆ f64       ┆ f64       │\n",
       "╞══════════╪═══════════╪══════════╪═════════════╪═══════╪═══════════╪═══════════╡\n",
       "│ ln(x1+1) ┆ 0.219844  ┆ 0.001645 ┆ 133.680425  ┆ 0.0   ┆ 0.216621  ┆ 0.223068  │\n",
       "│ exp(x2)  ┆ 0.175615  ┆ 0.000671 ┆ 261.549471  ┆ 0.0   ┆ 0.174299  ┆ 0.176931  │\n",
       "│ sin(x3)  ┆ -1.743993 ┆ 0.001334 ┆ -1306.99375 ┆ 0.0   ┆ -1.746608 ┆ -1.741377 │\n",
       "│ __bias__ ┆ -0.109299 ┆ 0.001498 ┆ -72.974218  ┆ 0.0   ┆ -0.112235 ┆ -0.106363 │\n",
       "└──────────┴───────────┴──────────┴─────────────┴───────┴───────────┴───────────┘"
      ]
     },
     "execution_count": 8,
     "metadata": {},
     "output_type": "execute_result"
    }
   ],
   "source": [
    "df.select(\n",
    "    pds.query_lstsq_report(\n",
    "        # formulaic input is also available for lstsq related queries, \n",
    "        # or you can always use polars expressions, e.g. pl.col('x1') + 1, pl.col('x2').exp(), pl.col('x3').sin()\n",
    "        \"ln(x1+1)\", \"exp(x2)\", \"sin(x3)\",\n",
    "        target = \"y\",\n",
    "        add_bias = True\n",
    "    ).alias(\"report\")\n",
    ").unnest(\"report\")"
   ]
  },
  {
   "cell_type": "code",
   "execution_count": 9,
   "id": "4c34e7b2",
   "metadata": {},
   "outputs": [
    {
     "data": {
      "text/html": [
       "<div><style>\n",
       ".dataframe > thead > tr,\n",
       ".dataframe > tbody > tr {\n",
       "  text-align: right;\n",
       "  white-space: pre-wrap;\n",
       "}\n",
       "</style>\n",
       "<small>shape: (1, 1)</small><table border=\"1\" class=\"dataframe\"><thead><tr><th>y</th></tr><tr><td>list[f64]</td></tr></thead><tbody><tr><td>[-0.490017, -0.355404]</td></tr></tbody></table></div>"
      ],
      "text/plain": [
       "shape: (1, 1)\n",
       "┌────────────────────────┐\n",
       "│ y                      │\n",
       "│ ---                    │\n",
       "│ list[f64]              │\n",
       "╞════════════════════════╡\n",
       "│ [-0.490017, -0.355404] │\n",
       "└────────────────────────┘"
      ]
     },
     "execution_count": 9,
     "metadata": {},
     "output_type": "execute_result"
    }
   ],
   "source": [
    "df.lazy().select(\n",
    "    pds.query_lstsq(\n",
    "        pl.col(\"x1\"), pl.col(\"x2\"),\n",
    "        target = \"y\", # We can either put pl.col(\"y\") here or just the string \"y\"\n",
    "        add_bias=False\n",
    "    )\n",
    ").collect()"
   ]
  },
  {
   "cell_type": "code",
   "execution_count": 10,
   "id": "16511624-fc7f-45fc-b28e-ad9a91c1bfe9",
   "metadata": {},
   "outputs": [
    {
     "data": {
      "text/html": [
       "<div><style>\n",
       ".dataframe > thead > tr,\n",
       ".dataframe > tbody > tr {\n",
       "  text-align: right;\n",
       "  white-space: pre-wrap;\n",
       "}\n",
       "</style>\n",
       "<small>shape: (10_000, 2)</small><table border=\"1\" class=\"dataframe\"><thead><tr><th>dummy</th><th>coeffs</th></tr><tr><td>str</td><td>list[f64]</td></tr></thead><tbody><tr><td>&quot;a&quot;</td><td>[-0.491637, -0.363114]</td></tr><tr><td>&quot;a&quot;</td><td>[-0.491637, -0.363114]</td></tr><tr><td>&quot;a&quot;</td><td>[-0.491637, -0.363114]</td></tr><tr><td>&quot;a&quot;</td><td>[-0.491637, -0.363114]</td></tr><tr><td>&quot;a&quot;</td><td>[-0.491637, -0.363114]</td></tr><tr><td>&hellip;</td><td>&hellip;</td></tr><tr><td>&quot;b&quot;</td><td>[-0.488274, -0.347916]</td></tr><tr><td>&quot;b&quot;</td><td>[-0.488274, -0.347916]</td></tr><tr><td>&quot;b&quot;</td><td>[-0.488274, -0.347916]</td></tr><tr><td>&quot;b&quot;</td><td>[-0.488274, -0.347916]</td></tr><tr><td>&quot;b&quot;</td><td>[-0.488274, -0.347916]</td></tr></tbody></table></div>"
      ],
      "text/plain": [
       "shape: (10_000, 2)\n",
       "┌───────┬────────────────────────┐\n",
       "│ dummy ┆ coeffs                 │\n",
       "│ ---   ┆ ---                    │\n",
       "│ str   ┆ list[f64]              │\n",
       "╞═══════╪════════════════════════╡\n",
       "│ a     ┆ [-0.491637, -0.363114] │\n",
       "│ a     ┆ [-0.491637, -0.363114] │\n",
       "│ a     ┆ [-0.491637, -0.363114] │\n",
       "│ a     ┆ [-0.491637, -0.363114] │\n",
       "│ a     ┆ [-0.491637, -0.363114] │\n",
       "│ …     ┆ …                      │\n",
       "│ b     ┆ [-0.488274, -0.347916] │\n",
       "│ b     ┆ [-0.488274, -0.347916] │\n",
       "│ b     ┆ [-0.488274, -0.347916] │\n",
       "│ b     ┆ [-0.488274, -0.347916] │\n",
       "│ b     ┆ [-0.488274, -0.347916] │\n",
       "└───────┴────────────────────────┘"
      ]
     },
     "execution_count": 10,
     "metadata": {},
     "output_type": "execute_result"
    }
   ],
   "source": [
    "df.select(\n",
    "    \"dummy\",\n",
    "    pds.query_lstsq(\n",
    "        pl.col(\"x1\"), pl.col(\"x2\"),\n",
    "        target = pl.col(\"y\"),\n",
    "        add_bias=False\n",
    "    ).over(pl.col(\"dummy\"))\n",
    ")"
   ]
  },
  {
   "cell_type": "code",
   "execution_count": 11,
   "id": "f550c7c6",
   "metadata": {},
   "outputs": [
    {
     "data": {
      "text/html": [
       "<div><style>\n",
       ".dataframe > thead > tr,\n",
       ".dataframe > tbody > tr {\n",
       "  text-align: right;\n",
       "  white-space: pre-wrap;\n",
       "}\n",
       "</style>\n",
       "<small>shape: (5, 5)</small><table border=\"1\" class=\"dataframe\"><thead><tr><th>x1</th><th>x2</th><th>y</th><th>pred</th><th>resid</th></tr><tr><td>f64</td><td>f64</td><td>f64</td><td>f64</td><td>f64</td></tr></thead><tbody><tr><td>0.911793</td><td>0.695128</td><td>0.203999</td><td>-0.693846</td><td>0.897845</td></tr><tr><td>0.125725</td><td>0.956351</td><td>-0.858681</td><td>-0.401499</td><td>-0.457183</td></tr><tr><td>0.621217</td><td>0.93351</td><td>0.370057</td><td>-0.636181</td><td>1.006238</td></tr><tr><td>0.55396</td><td>0.868633</td><td>-0.455826</td><td>-0.580166</td><td>0.124339</td></tr><tr><td>0.107261</td><td>0.288737</td><td>-0.594726</td><td>-0.155178</td><td>-0.439548</td></tr></tbody></table></div>"
      ],
      "text/plain": [
       "shape: (5, 5)\n",
       "┌──────────┬──────────┬───────────┬───────────┬───────────┐\n",
       "│ x1       ┆ x2       ┆ y         ┆ pred      ┆ resid     │\n",
       "│ ---      ┆ ---      ┆ ---       ┆ ---       ┆ ---       │\n",
       "│ f64      ┆ f64      ┆ f64       ┆ f64       ┆ f64       │\n",
       "╞══════════╪══════════╪═══════════╪═══════════╪═══════════╡\n",
       "│ 0.911793 ┆ 0.695128 ┆ 0.203999  ┆ -0.693846 ┆ 0.897845  │\n",
       "│ 0.125725 ┆ 0.956351 ┆ -0.858681 ┆ -0.401499 ┆ -0.457183 │\n",
       "│ 0.621217 ┆ 0.93351  ┆ 0.370057  ┆ -0.636181 ┆ 1.006238  │\n",
       "│ 0.55396  ┆ 0.868633 ┆ -0.455826 ┆ -0.580166 ┆ 0.124339  │\n",
       "│ 0.107261 ┆ 0.288737 ┆ -0.594726 ┆ -0.155178 ┆ -0.439548 │\n",
       "└──────────┴──────────┴───────────┴───────────┴───────────┘"
      ]
     },
     "execution_count": 11,
     "metadata": {},
     "output_type": "execute_result"
    }
   ],
   "source": [
    "# If you want prediction and residue instead of coefficients\n",
    "df.select(\n",
    "    \"x1\",\n",
    "    \"x2\",\n",
    "    \"y\",\n",
    "    pds.query_lstsq(\n",
    "        \"x1\", pl.col(\"x2\"),\n",
    "        target = \"y\",\n",
    "        add_bias=False, \n",
    "        return_pred=True\n",
    "    ).alias(\"prediction\")\n",
    ").unnest(\"prediction\").head()"
   ]
  },
  {
   "cell_type": "code",
   "execution_count": 12,
   "id": "0e9fb061-340d-423d-9107-772387006ff2",
   "metadata": {},
   "outputs": [
    {
     "data": {
      "text/html": [
       "<div><style>\n",
       ".dataframe > thead > tr,\n",
       ".dataframe > tbody > tr {\n",
       "  text-align: right;\n",
       "  white-space: pre-wrap;\n",
       "}\n",
       "</style>\n",
       "<small>shape: (2, 2)</small><table border=\"1\" class=\"dataframe\"><thead><tr><th>dummy</th><th>coeffs</th></tr><tr><td>str</td><td>list[f64]</td></tr></thead><tbody><tr><td>&quot;a&quot;</td><td>[-0.491637, -0.363114]</td></tr><tr><td>&quot;b&quot;</td><td>[-0.488274, -0.347916]</td></tr></tbody></table></div>"
      ],
      "text/plain": [
       "shape: (2, 2)\n",
       "┌───────┬────────────────────────┐\n",
       "│ dummy ┆ coeffs                 │\n",
       "│ ---   ┆ ---                    │\n",
       "│ str   ┆ list[f64]              │\n",
       "╞═══════╪════════════════════════╡\n",
       "│ a     ┆ [-0.491637, -0.363114] │\n",
       "│ b     ┆ [-0.488274, -0.347916] │\n",
       "└───────┴────────────────────────┘"
      ]
     },
     "execution_count": 12,
     "metadata": {},
     "output_type": "execute_result"
    }
   ],
   "source": [
    "df.group_by(\"dummy\").agg(\n",
    "    pds.query_lstsq(\n",
    "        pl.col(\"x1\"), pl.col(\"x2\"),\n",
    "        target = pl.col(\"y\"),\n",
    "        add_bias=False\n",
    "    )\n",
    ")"
   ]
  },
  {
   "cell_type": "code",
   "execution_count": 13,
   "id": "955f2db2",
   "metadata": {},
   "outputs": [
    {
     "data": {
      "text/html": [
       "<div><style>\n",
       ".dataframe > thead > tr,\n",
       ".dataframe > tbody > tr {\n",
       "  text-align: right;\n",
       "  white-space: pre-wrap;\n",
       "}\n",
       "</style>\n",
       "<small>shape: (2, 2)</small><table border=\"1\" class=\"dataframe\"><thead><tr><th>dummy</th><th>coeffs</th></tr><tr><td>str</td><td>list[f64]</td></tr></thead><tbody><tr><td>&quot;a&quot;</td><td>[-0.327664, -0.184011]</td></tr><tr><td>&quot;b&quot;</td><td>[-0.318486, -0.177007]</td></tr></tbody></table></div>"
      ],
      "text/plain": [
       "shape: (2, 2)\n",
       "┌───────┬────────────────────────┐\n",
       "│ dummy ┆ coeffs                 │\n",
       "│ ---   ┆ ---                    │\n",
       "│ str   ┆ list[f64]              │\n",
       "╞═══════╪════════════════════════╡\n",
       "│ a     ┆ [-0.327664, -0.184011] │\n",
       "│ b     ┆ [-0.318486, -0.177007] │\n",
       "└───────┴────────────────────────┘"
      ]
     },
     "execution_count": 13,
     "metadata": {},
     "output_type": "execute_result"
    }
   ],
   "source": [
    "# Lasso\n",
    "df.group_by(\"dummy\").agg(\n",
    "    pds.query_lstsq(\n",
    "        pl.col(\"x1\"), pl.col(\"x2\"),\n",
    "        target = pl.col(\"y\"),\n",
    "        l1_reg = 0.1,\n",
    "        add_bias=False\n",
    "    )\n",
    ")"
   ]
  },
  {
   "cell_type": "code",
   "execution_count": 14,
   "id": "1bdae8e5",
   "metadata": {},
   "outputs": [
    {
     "data": {
      "text/html": [
       "<div><style>\n",
       ".dataframe > thead > tr,\n",
       ".dataframe > tbody > tr {\n",
       "  text-align: right;\n",
       "  white-space: pre-wrap;\n",
       "}\n",
       "</style>\n",
       "<small>shape: (2, 2)</small><table border=\"1\" class=\"dataframe\"><thead><tr><th>dummy</th><th>lasso_r2</th></tr><tr><td>str</td><td>f64</td></tr></thead><tbody><tr><td>&quot;a&quot;</td><td>-0.533136</td></tr><tr><td>&quot;b&quot;</td><td>-0.548727</td></tr></tbody></table></div>"
      ],
      "text/plain": [
       "shape: (2, 2)\n",
       "┌───────┬───────────┐\n",
       "│ dummy ┆ lasso_r2  │\n",
       "│ ---   ┆ ---       │\n",
       "│ str   ┆ f64       │\n",
       "╞═══════╪═══════════╡\n",
       "│ a     ┆ -0.533136 │\n",
       "│ b     ┆ -0.548727 │\n",
       "└───────┴───────────┘"
      ]
     },
     "execution_count": 14,
     "metadata": {},
     "output_type": "execute_result"
    }
   ],
   "source": [
    "# R2 metric of lasso regressions on each group\n",
    "df.group_by(\"dummy\").agg(\n",
    "    pds.query_r2(\n",
    "        actual = pl.col(\"y\"),\n",
    "        pred = pds.query_lstsq(\n",
    "            pl.col(\"x1\"), pl.col(\"x2\"),\n",
    "            target = pl.col(\"y\"),\n",
    "            l1_reg = 0.1,\n",
    "            return_pred = True,\n",
    "            add_bias=False\n",
    "        ).struct.field(\"pred\")\n",
    "    ).alias(\"lasso_r2\")\n",
    ")"
   ]
  },
  {
   "cell_type": "code",
   "execution_count": 15,
   "id": "765ff27b",
   "metadata": {},
   "outputs": [
    {
     "data": {
      "text/html": [
       "<div><style>\n",
       ".dataframe > thead > tr,\n",
       ".dataframe > tbody > tr {\n",
       "  text-align: right;\n",
       "  white-space: pre-wrap;\n",
       "}\n",
       "</style>\n",
       "<small>shape: (10_000, 5)</small><table border=\"1\" class=\"dataframe\"><thead><tr><th>y</th><th>x1</th><th>x2</th><th>coeffs</th><th>pred</th></tr><tr><td>f64</td><td>f64</td><td>f64</td><td>list[f64]</td><td>f64</td></tr></thead><tbody><tr><td>0.203999</td><td>0.911793</td><td>0.695128</td><td>null</td><td>null</td></tr><tr><td>-0.858681</td><td>0.125725</td><td>0.956351</td><td>null</td><td>null</td></tr><tr><td>0.370057</td><td>0.621217</td><td>0.93351</td><td>null</td><td>null</td></tr><tr><td>-0.455826</td><td>0.55396</td><td>0.868633</td><td>null</td><td>null</td></tr><tr><td>-0.594726</td><td>0.107261</td><td>0.288737</td><td>[1.160027, -0.979407]</td><td>-0.158365</td></tr><tr><td>&hellip;</td><td>&hellip;</td><td>&hellip;</td><td>&hellip;</td><td>&hellip;</td></tr><tr><td>0.220408</td><td>0.230911</td><td>0.658026</td><td>[-1.13021, 0.56658]</td><td>0.111846</td></tr><tr><td>-0.994365</td><td>0.889447</td><td>0.924552</td><td>[-0.924553, -0.002686]</td><td>-0.824824</td></tr><tr><td>-1.455982</td><td>0.207659</td><td>0.020715</td><td>[-1.495076, 0.657265]</td><td>-0.29685</td></tr><tr><td>-0.98038</td><td>0.939537</td><td>0.244478</td><td>[-1.675845, 0.691202]</td><td>-1.405534</td></tr><tr><td>-1.306904</td><td>0.119283</td><td>0.533054</td><td>[-1.079334, -0.22549]</td><td>-0.248944</td></tr></tbody></table></div>"
      ],
      "text/plain": [
       "shape: (10_000, 5)\n",
       "┌───────────┬──────────┬──────────┬────────────────────────┬───────────┐\n",
       "│ y         ┆ x1       ┆ x2       ┆ coeffs                 ┆ pred      │\n",
       "│ ---       ┆ ---      ┆ ---      ┆ ---                    ┆ ---       │\n",
       "│ f64       ┆ f64      ┆ f64      ┆ list[f64]              ┆ f64       │\n",
       "╞═══════════╪══════════╪══════════╪════════════════════════╪═══════════╡\n",
       "│ 0.203999  ┆ 0.911793 ┆ 0.695128 ┆ null                   ┆ null      │\n",
       "│ -0.858681 ┆ 0.125725 ┆ 0.956351 ┆ null                   ┆ null      │\n",
       "│ 0.370057  ┆ 0.621217 ┆ 0.93351  ┆ null                   ┆ null      │\n",
       "│ -0.455826 ┆ 0.55396  ┆ 0.868633 ┆ null                   ┆ null      │\n",
       "│ -0.594726 ┆ 0.107261 ┆ 0.288737 ┆ [1.160027, -0.979407]  ┆ -0.158365 │\n",
       "│ …         ┆ …        ┆ …        ┆ …                      ┆ …         │\n",
       "│ 0.220408  ┆ 0.230911 ┆ 0.658026 ┆ [-1.13021, 0.56658]    ┆ 0.111846  │\n",
       "│ -0.994365 ┆ 0.889447 ┆ 0.924552 ┆ [-0.924553, -0.002686] ┆ -0.824824 │\n",
       "│ -1.455982 ┆ 0.207659 ┆ 0.020715 ┆ [-1.495076, 0.657265]  ┆ -0.29685  │\n",
       "│ -0.98038  ┆ 0.939537 ┆ 0.244478 ┆ [-1.675845, 0.691202]  ┆ -1.405534 │\n",
       "│ -1.306904 ┆ 0.119283 ┆ 0.533054 ┆ [-1.079334, -0.22549]  ┆ -0.248944 │\n",
       "└───────────┴──────────┴──────────┴────────────────────────┴───────────┘"
      ]
     },
     "execution_count": 15,
     "metadata": {},
     "output_type": "execute_result"
    }
   ],
   "source": [
    "# Rolling regression\n",
    "df.select(\n",
    "    \"y\",\n",
    "    \"x1\",\n",
    "    \"x2\",\n",
    "    pds.query_rolling_lstsq(\n",
    "        \"x1\", \"x2\",\n",
    "        target = \"y\",\n",
    "        window_size = 5,\n",
    "        null_policy = \"zero\"\n",
    "    ).alias(\"result\")\n",
    ").unnest(\"result\")"
   ]
  },
  {
   "cell_type": "code",
   "execution_count": 16,
   "id": "d8fda8ca-57e7-4e02-a3f0-283ecce66a59",
   "metadata": {},
   "outputs": [
    {
     "data": {
      "text/html": [
       "<div><style>\n",
       ".dataframe > thead > tr,\n",
       ".dataframe > tbody > tr {\n",
       "  text-align: right;\n",
       "  white-space: pre-wrap;\n",
       "}\n",
       "</style>\n",
       "<small>shape: (1, 1)</small><table border=\"1\" class=\"dataframe\"><thead><tr><th>y</th></tr><tr><td>f64</td></tr></thead><tbody><tr><td>-0.0</td></tr></tbody></table></div>"
      ],
      "text/plain": [
       "shape: (1, 1)\n",
       "┌──────┐\n",
       "│ y    │\n",
       "│ ---  │\n",
       "│ f64  │\n",
       "╞══════╡\n",
       "│ -0.0 │\n",
       "└──────┘"
      ]
     },
     "execution_count": 16,
     "metadata": {},
     "output_type": "execute_result"
    }
   ],
   "source": [
    "# Conditional Entropy, should be 0 because x1 is an ID\n",
    "df.select(\n",
    "    pds.query_cond_entropy(\"y\", \"x1\")\n",
    ")"
   ]
  },
  {
   "cell_type": "code",
   "execution_count": 17,
   "id": "81def1cf",
   "metadata": {},
   "outputs": [
    {
     "data": {
      "text/html": [
       "<div><style>\n",
       ".dataframe > thead > tr,\n",
       ".dataframe > tbody > tr {\n",
       "  text-align: right;\n",
       "  white-space: pre-wrap;\n",
       "}\n",
       "</style>\n",
       "<small>shape: (1, 1)</small><table border=\"1\" class=\"dataframe\"><thead><tr><th>a</th></tr><tr><td>list[f64]</td></tr></thead><tbody><tr><td>[29.313388, 28.98794, 28.657594]</td></tr></tbody></table></div>"
      ],
      "text/plain": [
       "shape: (1, 1)\n",
       "┌─────────────────────────────────┐\n",
       "│ a                               │\n",
       "│ ---                             │\n",
       "│ list[f64]                       │\n",
       "╞═════════════════════════════════╡\n",
       "│ [29.313388, 28.98794, 28.65759… │\n",
       "└─────────────────────────────────┘"
      ]
     },
     "execution_count": 17,
     "metadata": {},
     "output_type": "execute_result"
    }
   ],
   "source": [
    "# Only want singular values (principal values?)\n",
    "df.select(\n",
    "    pds.query_singular_values(\"a\", \"b\", \"x1\")\n",
    ")"
   ]
  },
  {
   "cell_type": "code",
   "execution_count": 18,
   "id": "cc497383",
   "metadata": {},
   "outputs": [
    {
     "data": {
      "text/html": [
       "<div><style>\n",
       ".dataframe > thead > tr,\n",
       ".dataframe > tbody > tr {\n",
       "  text-align: right;\n",
       "  white-space: pre-wrap;\n",
       "}\n",
       "</style>\n",
       "<small>shape: (2, 2)</small><table border=\"1\" class=\"dataframe\"><thead><tr><th>singular_value</th><th>weight_vector</th></tr><tr><td>f64</td><td>list[f64]</td></tr></thead><tbody><tr><td>29.122366</td><td>[-0.462112, 0.886822]</td></tr><tr><td>28.657989</td><td>[0.886822, 0.462112]</td></tr></tbody></table></div>"
      ],
      "text/plain": [
       "shape: (2, 2)\n",
       "┌────────────────┬───────────────────────┐\n",
       "│ singular_value ┆ weight_vector         │\n",
       "│ ---            ┆ ---                   │\n",
       "│ f64            ┆ list[f64]             │\n",
       "╞════════════════╪═══════════════════════╡\n",
       "│ 29.122366      ┆ [-0.462112, 0.886822] │\n",
       "│ 28.657989      ┆ [0.886822, 0.462112]  │\n",
       "└────────────────┴───────────────────────┘"
      ]
     },
     "execution_count": 18,
     "metadata": {},
     "output_type": "execute_result"
    }
   ],
   "source": [
    "# Singular values + The principal components\n",
    "df.select(\n",
    "    pds.query_pca(\"a\", \"b\")\n",
    ").unnest(\"a\")"
   ]
  },
  {
   "cell_type": "code",
   "execution_count": 19,
   "id": "e047d40a",
   "metadata": {},
   "outputs": [
    {
     "data": {
      "text/html": [
       "<div><style>\n",
       ".dataframe > thead > tr,\n",
       ".dataframe > tbody > tr {\n",
       "  text-align: right;\n",
       "  white-space: pre-wrap;\n",
       "}\n",
       "</style>\n",
       "<small>shape: (5, 1)</small><table border=\"1\" class=\"dataframe\"><thead><tr><th>pc1</th></tr><tr><td>f64</td></tr></thead><tbody><tr><td>0.133943</td></tr><tr><td>0.160952</td></tr><tr><td>-0.08804</td></tr><tr><td>-0.224543</td></tr><tr><td>-0.130941</td></tr></tbody></table></div>"
      ],
      "text/plain": [
       "shape: (5, 1)\n",
       "┌───────────┐\n",
       "│ pc1       │\n",
       "│ ---       │\n",
       "│ f64       │\n",
       "╞═══════════╡\n",
       "│ 0.133943  │\n",
       "│ 0.160952  │\n",
       "│ -0.08804  │\n",
       "│ -0.224543 │\n",
       "│ -0.130941 │\n",
       "└───────────┘"
      ]
     },
     "execution_count": 19,
     "metadata": {},
     "output_type": "execute_result"
    }
   ],
   "source": [
    "# PC1\n",
    "df.select(\n",
    "    pds.query_principal_components(\"a\", \"b\", k =1)\n",
    ").unnest(\"principal_components\").head()"
   ]
  },
  {
   "cell_type": "markdown",
   "id": "1b2e036f",
   "metadata": {},
   "source": [
    "# ML Metrics"
   ]
  },
  {
   "cell_type": "code",
   "execution_count": 20,
   "id": "85d0d094-3c4c-4230-a589-1027c5690162",
   "metadata": {},
   "outputs": [
    {
     "data": {
      "text/html": [
       "<div><style>\n",
       ".dataframe > thead > tr,\n",
       ".dataframe > tbody > tr {\n",
       "  text-align: right;\n",
       "  white-space: pre-wrap;\n",
       "}\n",
       "</style>\n",
       "<small>shape: (2, 8)</small><table border=\"1\" class=\"dataframe\"><thead><tr><th>dummy_groups</th><th>l2</th><th>log loss</th><th>precision</th><th>recall</th><th>f</th><th>average_precision</th><th>roc_auc</th></tr><tr><td>str</td><td>f64</td><td>f64</td><td>f64</td><td>f64</td><td>f64</td><td>f64</td><td>f64</td></tr></thead><tbody><tr><td>&quot;b&quot;</td><td>0.332189</td><td>0.99867</td><td>0.496745</td><td>0.491744</td><td>0.494232</td><td>0.503049</td><td>0.50233</td></tr><tr><td>&quot;a&quot;</td><td>0.343686</td><td>1.036797</td><td>0.491823</td><td>0.488317</td><td>0.490064</td><td>0.491171</td><td>0.480539</td></tr></tbody></table></div>"
      ],
      "text/plain": [
       "shape: (2, 8)\n",
       "┌──────────────┬──────────┬──────────┬───────────┬──────────┬──────────┬────────────────┬──────────┐\n",
       "│ dummy_groups ┆ l2       ┆ log loss ┆ precision ┆ recall   ┆ f        ┆ average_precis ┆ roc_auc  │\n",
       "│ ---          ┆ ---      ┆ ---      ┆ ---       ┆ ---      ┆ ---      ┆ ion            ┆ ---      │\n",
       "│ str          ┆ f64      ┆ f64      ┆ f64       ┆ f64      ┆ f64      ┆ ---            ┆ f64      │\n",
       "│              ┆          ┆          ┆           ┆          ┆          ┆ f64            ┆          │\n",
       "╞══════════════╪══════════╪══════════╪═══════════╪══════════╪══════════╪════════════════╪══════════╡\n",
       "│ b            ┆ 0.332189 ┆ 0.99867  ┆ 0.496745  ┆ 0.491744 ┆ 0.494232 ┆ 0.503049       ┆ 0.50233  │\n",
       "│ a            ┆ 0.343686 ┆ 1.036797 ┆ 0.491823  ┆ 0.488317 ┆ 0.490064 ┆ 0.491171       ┆ 0.480539 │\n",
       "└──────────────┴──────────┴──────────┴───────────┴──────────┴──────────┴────────────────┴──────────┘"
      ]
     },
     "execution_count": 20,
     "metadata": {},
     "output_type": "execute_result"
    }
   ],
   "source": [
    "df.group_by(\"dummy_groups\").agg(\n",
    "    pds.query_l2(\"actual\", \"predicted\").alias(\"l2\"),\n",
    "    pds.query_log_loss(\"actual\", \"predicted\").alias(\"log loss\"),\n",
    "    pds.query_binary_metrics(actual=\"actual\", pred=\"predicted\").alias(\"combo\")\n",
    ").unnest(\"combo\")\n"
   ]
  },
  {
   "cell_type": "markdown",
   "id": "a8d7c6e3-0f1d-45f0-9fdb-cdb303b98556",
   "metadata": {},
   "source": [
    "# Str Extension"
   ]
  },
  {
   "cell_type": "code",
   "execution_count": 21,
   "id": "54ad36f9-264e-4a49-bf36-936639440edf",
   "metadata": {},
   "outputs": [
    {
     "data": {
      "text/html": [
       "<div><style>\n",
       ".dataframe > thead > tr,\n",
       ".dataframe > tbody > tr {\n",
       "  text-align: right;\n",
       "  white-space: pre-wrap;\n",
       "}\n",
       "</style>\n",
       "<small>shape: (5, 2)</small><table border=\"1\" class=\"dataframe\"><thead><tr><th>sen</th><th>word</th></tr><tr><td>str</td><td>str</td></tr></thead><tbody><tr><td>&quot;Hello, world! I&#x27;m going to chu…</td><td>&quot;words&quot;</td></tr><tr><td>&quot;Hello, world! I&#x27;m going to chu…</td><td>&quot;word&quot;</td></tr><tr><td>&quot;Hello, world! I&#x27;m going to chu…</td><td>&quot;words&quot;</td></tr><tr><td>&quot;Hello, world! I&#x27;m going to chu…</td><td>&quot;word&quot;</td></tr><tr><td>&quot;Hello, world! I&#x27;m going to chu…</td><td>&quot;words&quot;</td></tr></tbody></table></div>"
      ],
      "text/plain": [
       "shape: (5, 2)\n",
       "┌─────────────────────────────────┬───────┐\n",
       "│ sen                             ┆ word  │\n",
       "│ ---                             ┆ ---   │\n",
       "│ str                             ┆ str   │\n",
       "╞═════════════════════════════════╪═══════╡\n",
       "│ Hello, world! I'm going to chu… ┆ words │\n",
       "│ Hello, world! I'm going to chu… ┆ word  │\n",
       "│ Hello, world! I'm going to chu… ┆ words │\n",
       "│ Hello, world! I'm going to chu… ┆ word  │\n",
       "│ Hello, world! I'm going to chu… ┆ words │\n",
       "└─────────────────────────────────┴───────┘"
      ]
     },
     "execution_count": 21,
     "metadata": {},
     "output_type": "execute_result"
    }
   ],
   "source": [
    "size = 100_000\n",
    "df2 = pl.DataFrame({\n",
    "    \"sen\":[\"Hello, world! I'm going to church.\"] * size,\n",
    "    \"word\":[\"words\", \"word\"] * (size //2)\n",
    "})\n",
    "df2.head()"
   ]
  },
  {
   "cell_type": "code",
   "execution_count": 22,
   "id": "ee123a7e-7f9b-4f48-a5d5-6354799201ab",
   "metadata": {},
   "outputs": [
    {
     "data": {
      "text/html": [
       "<div><style>\n",
       ".dataframe > thead > tr,\n",
       ".dataframe > tbody > tr {\n",
       "  text-align: right;\n",
       "  white-space: pre-wrap;\n",
       "}\n",
       "</style>\n",
       "<small>shape: (5, 1)</small><table border=\"1\" class=\"dataframe\"><thead><tr><th>sen</th></tr><tr><td>str</td></tr></thead><tbody><tr><td>&quot;world&quot;</td></tr><tr><td>&quot;hello&quot;</td></tr><tr><td>&quot;going&quot;</td></tr><tr><td>&quot;to&quot;</td></tr><tr><td>&quot;church&quot;</td></tr></tbody></table></div>"
      ],
      "text/plain": [
       "shape: (5, 1)\n",
       "┌────────┐\n",
       "│ sen    │\n",
       "│ ---    │\n",
       "│ str    │\n",
       "╞════════╡\n",
       "│ world  │\n",
       "│ hello  │\n",
       "│ going  │\n",
       "│ to     │\n",
       "│ church │\n",
       "└────────┘"
      ]
     },
     "execution_count": 22,
     "metadata": {},
     "output_type": "execute_result"
    }
   ],
   "source": [
    "# Tokenize\n",
    "df2.select(\n",
    "    pds.str_tokenize(pl.col(\"sen\").str.to_lowercase()).explode().unique()\n",
    ")"
   ]
  },
  {
   "cell_type": "code",
   "execution_count": 23,
   "id": "f33017e3-17df-498b-93d9-1d656a344388",
   "metadata": {},
   "outputs": [
    {
     "data": {
      "text/html": [
       "<div><style>\n",
       ".dataframe > thead > tr,\n",
       ".dataframe > tbody > tr {\n",
       "  text-align: right;\n",
       "  white-space: pre-wrap;\n",
       "}\n",
       "</style>\n",
       "<small>shape: (5, 1)</small><table border=\"1\" class=\"dataframe\"><thead><tr><th>sen</th></tr><tr><td>str</td></tr></thead><tbody><tr><td>&quot;go&quot;</td></tr><tr><td>&quot;&quot;</td></tr><tr><td>&quot;hello&quot;</td></tr><tr><td>&quot;church&quot;</td></tr><tr><td>&quot;world&quot;</td></tr></tbody></table></div>"
      ],
      "text/plain": [
       "shape: (5, 1)\n",
       "┌────────┐\n",
       "│ sen    │\n",
       "│ ---    │\n",
       "│ str    │\n",
       "╞════════╡\n",
       "│ go     │\n",
       "│        │\n",
       "│ hello  │\n",
       "│ church │\n",
       "│ world  │\n",
       "└────────┘"
      ]
     },
     "execution_count": 23,
     "metadata": {},
     "output_type": "execute_result"
    }
   ],
   "source": [
    "df2.select(\n",
    "    pds.str_tokenize(pl.col(\"sen\").str.to_lowercase(), stem=True).explode().unique()\n",
    ")"
   ]
  },
  {
   "cell_type": "code",
   "execution_count": 24,
   "id": "69237c02-5f9f-4e92-b68d-6ac43aad1a79",
   "metadata": {},
   "outputs": [
    {
     "data": {
      "text/html": [
       "<div><style>\n",
       ".dataframe > thead > tr,\n",
       ".dataframe > tbody > tr {\n",
       "  text-align: right;\n",
       "  white-space: pre-wrap;\n",
       "}\n",
       "</style>\n",
       "<small>shape: (5, 1)</small><table border=\"1\" class=\"dataframe\"><thead><tr><th>word</th></tr><tr><td>u32</td></tr></thead><tbody><tr><td>2</td></tr><tr><td>1</td></tr><tr><td>2</td></tr><tr><td>1</td></tr><tr><td>2</td></tr></tbody></table></div>"
      ],
      "text/plain": [
       "shape: (5, 1)\n",
       "┌──────┐\n",
       "│ word │\n",
       "│ ---  │\n",
       "│ u32  │\n",
       "╞══════╡\n",
       "│ 2    │\n",
       "│ 1    │\n",
       "│ 2    │\n",
       "│ 1    │\n",
       "│ 2    │\n",
       "└──────┘"
      ]
     },
     "execution_count": 24,
     "metadata": {},
     "output_type": "execute_result"
    }
   ],
   "source": [
    "df2.select(\n",
    "    pds.str_leven(\"word\", pl.lit(\"world\"))\n",
    ").head()"
   ]
  },
  {
   "cell_type": "code",
   "execution_count": 25,
   "id": "2eba320c",
   "metadata": {},
   "outputs": [
    {
     "data": {
      "text/html": [
       "<div><style>\n",
       ".dataframe > thead > tr,\n",
       ".dataframe > tbody > tr {\n",
       "  text-align: right;\n",
       "  white-space: pre-wrap;\n",
       "}\n",
       "</style>\n",
       "<small>shape: (5, 1)</small><table border=\"1\" class=\"dataframe\"><thead><tr><th>word</th></tr><tr><td>u32</td></tr></thead><tbody><tr><td>2</td></tr><tr><td>1</td></tr><tr><td>2</td></tr><tr><td>1</td></tr><tr><td>2</td></tr></tbody></table></div>"
      ],
      "text/plain": [
       "shape: (5, 1)\n",
       "┌──────┐\n",
       "│ word │\n",
       "│ ---  │\n",
       "│ u32  │\n",
       "╞══════╡\n",
       "│ 2    │\n",
       "│ 1    │\n",
       "│ 2    │\n",
       "│ 1    │\n",
       "│ 2    │\n",
       "└──────┘"
      ]
     },
     "execution_count": 25,
     "metadata": {},
     "output_type": "execute_result"
    }
   ],
   "source": [
    "# Damerau-Levenshtein\n",
    "df2.select(\n",
    "    pds.str_d_leven(\"word\", pl.lit(\"world\"))\n",
    ").head()"
   ]
  },
  {
   "cell_type": "code",
   "execution_count": 26,
   "id": "795396dc",
   "metadata": {},
   "outputs": [
    {
     "data": {
      "text/html": [
       "<div><style>\n",
       ".dataframe > thead > tr,\n",
       ".dataframe > tbody > tr {\n",
       "  text-align: right;\n",
       "  white-space: pre-wrap;\n",
       "}\n",
       "</style>\n",
       "<small>shape: (5, 1)</small><table border=\"1\" class=\"dataframe\"><thead><tr><th>word</th></tr><tr><td>f64</td></tr></thead><tbody><tr><td>0.6</td></tr><tr><td>0.8</td></tr><tr><td>0.6</td></tr><tr><td>0.8</td></tr><tr><td>0.6</td></tr></tbody></table></div>"
      ],
      "text/plain": [
       "shape: (5, 1)\n",
       "┌──────┐\n",
       "│ word │\n",
       "│ ---  │\n",
       "│ f64  │\n",
       "╞══════╡\n",
       "│ 0.6  │\n",
       "│ 0.8  │\n",
       "│ 0.6  │\n",
       "│ 0.8  │\n",
       "│ 0.6  │\n",
       "└──────┘"
      ]
     },
     "execution_count": 26,
     "metadata": {},
     "output_type": "execute_result"
    }
   ],
   "source": [
    "df2.select( # column \"word\" vs. the word \"world\"\n",
    "    pds.str_leven(\"word\", pl.lit(\"world\"), return_sim = True)\n",
    ").head()"
   ]
  },
  {
   "cell_type": "code",
   "execution_count": 27,
   "id": "2dad7633-67fa-47f3-b86a-9f4cd097a650",
   "metadata": {},
   "outputs": [
    {
     "data": {
      "text/html": [
       "<div><style>\n",
       ".dataframe > thead > tr,\n",
       ".dataframe > tbody > tr {\n",
       "  text-align: right;\n",
       "  white-space: pre-wrap;\n",
       "}\n",
       "</style>\n",
       "<small>shape: (5, 2)</small><table border=\"1\" class=\"dataframe\"><thead><tr><th>sen</th><th>word</th></tr><tr><td>str</td><td>str</td></tr></thead><tbody><tr><td>&quot;Hello, world! I&#x27;m going to chu…</td><td>&quot;word&quot;</td></tr><tr><td>&quot;Hello, world! I&#x27;m going to chu…</td><td>&quot;word&quot;</td></tr><tr><td>&quot;Hello, world! I&#x27;m going to chu…</td><td>&quot;word&quot;</td></tr><tr><td>&quot;Hello, world! I&#x27;m going to chu…</td><td>&quot;word&quot;</td></tr><tr><td>&quot;Hello, world! I&#x27;m going to chu…</td><td>&quot;word&quot;</td></tr></tbody></table></div>"
      ],
      "text/plain": [
       "shape: (5, 2)\n",
       "┌─────────────────────────────────┬──────┐\n",
       "│ sen                             ┆ word │\n",
       "│ ---                             ┆ ---  │\n",
       "│ str                             ┆ str  │\n",
       "╞═════════════════════════════════╪══════╡\n",
       "│ Hello, world! I'm going to chu… ┆ word │\n",
       "│ Hello, world! I'm going to chu… ┆ word │\n",
       "│ Hello, world! I'm going to chu… ┆ word │\n",
       "│ Hello, world! I'm going to chu… ┆ word │\n",
       "│ Hello, world! I'm going to chu… ┆ word │\n",
       "└─────────────────────────────────┴──────┘"
      ]
     },
     "execution_count": 27,
     "metadata": {},
     "output_type": "execute_result"
    }
   ],
   "source": [
    "df2.filter(\n",
    "    # This is way faster than computing ditance and then doing a filter\n",
    "    pds.filter_by_levenshtein(pl.col(\"word\"), pl.lit(\"world\"), 1) # <= 1. \n",
    ").head()"
   ]
  },
  {
   "cell_type": "code",
   "execution_count": 28,
   "id": "dc9477c1",
   "metadata": {},
   "outputs": [],
   "source": [
    "df = pl.DataFrame({\n",
    "    \"word\":[\"apple\", \"banana\", \"pineapple\", \"asasasas\", \"sasasass\"],\n",
    "    \"other_data\": [1,2,3,4,5]\n",
    "})\n",
    "gibberish = [\"asasasa\", \"sasaaasss\", \"asdasadadfa\"]"
   ]
  },
  {
   "cell_type": "code",
   "execution_count": 29,
   "id": "c50591e0",
   "metadata": {},
   "outputs": [
    {
     "data": {
      "text/html": [
       "<div><style>\n",
       ".dataframe > thead > tr,\n",
       ".dataframe > tbody > tr {\n",
       "  text-align: right;\n",
       "  white-space: pre-wrap;\n",
       "}\n",
       "</style>\n",
       "<small>shape: (2, 2)</small><table border=\"1\" class=\"dataframe\"><thead><tr><th>word</th><th>other_data</th></tr><tr><td>str</td><td>i64</td></tr></thead><tbody><tr><td>&quot;asasasas&quot;</td><td>4</td></tr><tr><td>&quot;sasasass&quot;</td><td>5</td></tr></tbody></table></div>"
      ],
      "text/plain": [
       "shape: (2, 2)\n",
       "┌──────────┬────────────┐\n",
       "│ word     ┆ other_data │\n",
       "│ ---      ┆ ---        │\n",
       "│ str      ┆ i64        │\n",
       "╞══════════╪════════════╡\n",
       "│ asasasas ┆ 4          │\n",
       "│ sasasass ┆ 5          │\n",
       "└──────────┴────────────┘"
      ]
     },
     "execution_count": 29,
     "metadata": {},
     "output_type": "execute_result"
    }
   ],
   "source": [
    "df.filter(\n",
    "    pds.similar_to_vocab(\n",
    "        pl.col(\"word\"),\n",
    "        vocab = gibberish,\n",
    "        threshold = 0.5,\n",
    "        metric = \"lv\", # Levenshtein similarity. Other options: dleven, osa, jw\n",
    "        strategy = \"any\" # True if the word is similar to any word in vocab. Other options: \"all\", \"avg\"\n",
    "    )\n",
    ")"
   ]
  },
  {
   "cell_type": "code",
   "execution_count": 30,
   "id": "7ece3794",
   "metadata": {},
   "outputs": [
    {
     "data": {
      "text/html": [
       "<div><style>\n",
       ".dataframe > thead > tr,\n",
       ".dataframe > tbody > tr {\n",
       "  text-align: right;\n",
       "  white-space: pre-wrap;\n",
       "}\n",
       "</style>\n",
       "<small>shape: (5, 6)</small><table border=\"1\" class=\"dataframe\"><thead><tr><th>asasasa</th><th>sasaaasss</th><th>asdasadadfa</th><th>LCS based Fuzz match - apples</th><th>Optimal String Alignment - apples</th><th>Jaro-Winkler - apples</th></tr><tr><td>f64</td><td>f64</td><td>f64</td><td>f64</td><td>f64</td><td>f64</td></tr></thead><tbody><tr><td>0.142857</td><td>0.111111</td><td>0.090909</td><td>0.833333</td><td>0.833333</td><td>0.966667</td></tr><tr><td>0.428571</td><td>0.333333</td><td>0.272727</td><td>0.166667</td><td>0.0</td><td>0.444444</td></tr><tr><td>0.111111</td><td>0.111111</td><td>0.090909</td><td>0.555556</td><td>0.444444</td><td>0.5</td></tr><tr><td>0.875</td><td>0.666667</td><td>0.545455</td><td>0.25</td><td>0.25</td><td>0.527778</td></tr><tr><td>0.75</td><td>0.777778</td><td>0.454545</td><td>0.25</td><td>0.25</td><td>0.527778</td></tr></tbody></table></div>"
      ],
      "text/plain": [
       "shape: (5, 6)\n",
       "┌──────────┬───────────┬─────────────┬────────────────┬──────────────────┬─────────────────────────┐\n",
       "│ asasasa  ┆ sasaaasss ┆ asdasadadfa ┆ LCS based Fuzz ┆ Optimal String   ┆ Jaro-Winkler - apples   │\n",
       "│ ---      ┆ ---       ┆ ---         ┆ match - apples ┆ Alignment - app… ┆ ---                     │\n",
       "│ f64      ┆ f64       ┆ f64         ┆ ---            ┆ ---              ┆ f64                     │\n",
       "│          ┆           ┆             ┆ f64            ┆ f64              ┆                         │\n",
       "╞══════════╪═══════════╪═════════════╪════════════════╪══════════════════╪═════════════════════════╡\n",
       "│ 0.142857 ┆ 0.111111  ┆ 0.090909    ┆ 0.833333       ┆ 0.833333         ┆ 0.966667                │\n",
       "│ 0.428571 ┆ 0.333333  ┆ 0.272727    ┆ 0.166667       ┆ 0.0              ┆ 0.444444                │\n",
       "│ 0.111111 ┆ 0.111111  ┆ 0.090909    ┆ 0.555556       ┆ 0.444444         ┆ 0.5                     │\n",
       "│ 0.875    ┆ 0.666667  ┆ 0.545455    ┆ 0.25           ┆ 0.25             ┆ 0.527778                │\n",
       "│ 0.75     ┆ 0.777778  ┆ 0.454545    ┆ 0.25           ┆ 0.25             ┆ 0.527778                │\n",
       "└──────────┴───────────┴─────────────┴────────────────┴──────────────────┴─────────────────────────┘"
      ]
     },
     "execution_count": 30,
     "metadata": {},
     "output_type": "execute_result"
    }
   ],
   "source": [
    "df.select(\n",
    "    pds.str_leven(\"word\", pl.lit(\"asasasa\"), return_sim=True).alias(\"asasasa\"),\n",
    "    pds.str_leven(\"word\", pl.lit(\"sasaaasss\"), return_sim=True).alias(\"sasaaasss\"),\n",
    "    pds.str_leven(\"word\", pl.lit(\"asdasadadfa\"), return_sim=True).alias(\"asdasadadfa\"),\n",
    "    pds.str_fuzz(\"word\", pl.lit(\"apples\")).alias(\"LCS based Fuzz match - apples\"),\n",
    "    pds.str_osa(\"word\", pl.lit(\"apples\"), return_sim=True).alias(\"Optimal String Alignment - apples\"),\n",
    "    pds.str_jw(\"word\", pl.lit(\"apples\")).alias(\"Jaro-Winkler - apples\"),\n",
    ")\n"
   ]
  },
  {
   "cell_type": "markdown",
   "id": "8841f2a1",
   "metadata": {},
   "source": [
    "# Stats Extension"
   ]
  },
  {
   "cell_type": "code",
   "execution_count": 31,
   "id": "2c6171b0",
   "metadata": {},
   "outputs": [
    {
     "data": {
      "text/html": [
       "<div><style>\n",
       ".dataframe > thead > tr,\n",
       ".dataframe > tbody > tr {\n",
       "  text-align: right;\n",
       "  white-space: pre-wrap;\n",
       "}\n",
       "</style>\n",
       "<small>shape: (5, 1)</small><table border=\"1\" class=\"dataframe\"><thead><tr><th>a</th></tr><tr><td>f64</td></tr></thead><tbody><tr><td>null</td></tr><tr><td>null</td></tr><tr><td>-0.063853</td></tr><tr><td>0.589552</td></tr><tr><td>-0.946684</td></tr></tbody></table></div>"
      ],
      "text/plain": [
       "shape: (5, 1)\n",
       "┌───────────┐\n",
       "│ a         │\n",
       "│ ---       │\n",
       "│ f64       │\n",
       "╞═══════════╡\n",
       "│ null      │\n",
       "│ null      │\n",
       "│ -0.063853 │\n",
       "│ 0.589552  │\n",
       "│ -0.946684 │\n",
       "└───────────┘"
      ]
     },
     "execution_count": 31,
     "metadata": {},
     "output_type": "execute_result"
    }
   ],
   "source": [
    "import numpy as np\n",
    "\n",
    "df = pl.DataFrame({\n",
    "    \"a\": [None, None] + list(np.random.normal(size = 998))\n",
    "})\n",
    "df.head()"
   ]
  },
  {
   "cell_type": "code",
   "execution_count": 32,
   "id": "2f6e7445",
   "metadata": {},
   "outputs": [
    {
     "data": {
      "text/html": [
       "<div><style>\n",
       ".dataframe > thead > tr,\n",
       ".dataframe > tbody > tr {\n",
       "  text-align: right;\n",
       "  white-space: pre-wrap;\n",
       "}\n",
       "</style>\n",
       "<small>shape: (5, 3)</small><table border=\"1\" class=\"dataframe\"><thead><tr><th>a</th><th>random_normal</th><th>random_normal_that_respects_null_of_a</th></tr><tr><td>f64</td><td>f64</td><td>f64</td></tr></thead><tbody><tr><td>null</td><td>2.515477</td><td>null</td></tr><tr><td>null</td><td>-1.507373</td><td>null</td></tr><tr><td>-0.063853</td><td>0.132507</td><td>0.784535</td></tr><tr><td>0.589552</td><td>-1.125048</td><td>1.717568</td></tr><tr><td>-0.946684</td><td>1.346741</td><td>0.454957</td></tr></tbody></table></div>"
      ],
      "text/plain": [
       "shape: (5, 3)\n",
       "┌───────────┬───────────────┬─────────────────────────────────┐\n",
       "│ a         ┆ random_normal ┆ random_normal_that_respects_nu… │\n",
       "│ ---       ┆ ---           ┆ ---                             │\n",
       "│ f64       ┆ f64           ┆ f64                             │\n",
       "╞═══════════╪═══════════════╪═════════════════════════════════╡\n",
       "│ null      ┆ 2.515477      ┆ null                            │\n",
       "│ null      ┆ -1.507373     ┆ null                            │\n",
       "│ -0.063853 ┆ 0.132507      ┆ 0.784535                        │\n",
       "│ 0.589552  ┆ -1.125048     ┆ 1.717568                        │\n",
       "│ -0.946684 ┆ 1.346741      ┆ 0.454957                        │\n",
       "└───────────┴───────────────┴─────────────────────────────────┘"
      ]
     },
     "execution_count": 32,
     "metadata": {},
     "output_type": "execute_result"
    }
   ],
   "source": [
    "# Genenrate random numbers, respecting null positions in reference column (pl.col(\"a\"))\n",
    "df.with_columns(\n",
    "    pds.random_normal(mean = 0.5, std = 1.0).alias(\"random_normal\"),\n",
    "    pl.when(pl.col(\"a\").is_null()).then(None).otherwise(\n",
    "        pds.random_normal(mean = 0.5, std = 1.0).alias(\"random_normal\")\n",
    "    ).alias(\"random_normal_that_respects_null_of_a\")\n",
    ").head()"
   ]
  },
  {
   "cell_type": "code",
   "execution_count": 33,
   "id": "11e13f55",
   "metadata": {},
   "outputs": [
    {
     "data": {
      "text/html": [
       "<div><style>\n",
       ".dataframe > thead > tr,\n",
       ".dataframe > tbody > tr {\n",
       "  text-align: right;\n",
       "  white-space: pre-wrap;\n",
       "}\n",
       "</style>\n",
       "<small>shape: (5, 3)</small><table border=\"1\" class=\"dataframe\"><thead><tr><th>a</th><th>random_str</th><th>random_str_that_respects_null_of_a</th></tr><tr><td>f64</td><td>str</td><td>str</td></tr></thead><tbody><tr><td>null</td><td>&quot;p9q&quot;</td><td>null</td></tr><tr><td>null</td><td>&quot;R1UZ&quot;</td><td>null</td></tr><tr><td>-0.063853</td><td>&quot;q5Vog&quot;</td><td>&quot;o&quot;</td></tr><tr><td>0.589552</td><td>&quot;vQMM&quot;</td><td>&quot;AH&quot;</td></tr><tr><td>-0.946684</td><td>&quot;Ydh&quot;</td><td>&quot;0&quot;</td></tr></tbody></table></div>"
      ],
      "text/plain": [
       "shape: (5, 3)\n",
       "┌───────────┬────────────┬─────────────────────────────────┐\n",
       "│ a         ┆ random_str ┆ random_str_that_respects_null_… │\n",
       "│ ---       ┆ ---        ┆ ---                             │\n",
       "│ f64       ┆ str        ┆ str                             │\n",
       "╞═══════════╪════════════╪═════════════════════════════════╡\n",
       "│ null      ┆ p9q        ┆ null                            │\n",
       "│ null      ┆ R1UZ       ┆ null                            │\n",
       "│ -0.063853 ┆ q5Vog      ┆ o                               │\n",
       "│ 0.589552  ┆ vQMM       ┆ AH                              │\n",
       "│ -0.946684 ┆ Ydh        ┆ 0                               │\n",
       "└───────────┴────────────┴─────────────────────────────────┘"
      ]
     },
     "execution_count": 33,
     "metadata": {},
     "output_type": "execute_result"
    }
   ],
   "source": [
    "# Genenrate random string\n",
    "df.with_columns(\n",
    "    pds.random_str(min_size = 1, max_size = 5).alias(\"random_str\"),\n",
    "    pl.when(pl.col(\"a\").is_null()).then(None).otherwise(\n",
    "        pds.random_str(min_size = 1, max_size = 5)\n",
    "    ).alias(\"random_str_that_respects_null_of_a\")\n",
    ").head()"
   ]
  },
  {
   "cell_type": "code",
   "execution_count": 34,
   "id": "43c37394",
   "metadata": {},
   "outputs": [
    {
     "data": {
      "text/html": [
       "<div><style>\n",
       ".dataframe > thead > tr,\n",
       ".dataframe > tbody > tr {\n",
       "  text-align: right;\n",
       "  white-space: pre-wrap;\n",
       "}\n",
       "</style>\n",
       "<small>shape: (5, 2)</small><table border=\"1\" class=\"dataframe\"><thead><tr><th>a</th><th>random_str</th></tr><tr><td>f64</td><td>str</td></tr></thead><tbody><tr><td>null</td><td>null</td></tr><tr><td>null</td><td>null</td></tr><tr><td>-0.063853</td><td>&quot;qhb5I&quot;</td></tr><tr><td>0.589552</td><td>&quot;Dfmvg&quot;</td></tr><tr><td>-0.946684</td><td>&quot;sL1xx&quot;</td></tr></tbody></table></div>"
      ],
      "text/plain": [
       "shape: (5, 2)\n",
       "┌───────────┬────────────┐\n",
       "│ a         ┆ random_str │\n",
       "│ ---       ┆ ---        │\n",
       "│ f64       ┆ str        │\n",
       "╞═══════════╪════════════╡\n",
       "│ null      ┆ null       │\n",
       "│ null      ┆ null       │\n",
       "│ -0.063853 ┆ qhb5I      │\n",
       "│ 0.589552  ┆ Dfmvg      │\n",
       "│ -0.946684 ┆ sL1xx      │\n",
       "└───────────┴────────────┘"
      ]
     },
     "execution_count": 34,
     "metadata": {},
     "output_type": "execute_result"
    }
   ],
   "source": [
    "# Genenrate fixed size random string, while respecting column a's nulls\n",
    "df.with_columns(\n",
    "    pl.when(pl.col(\"a\").is_null()).then(None).otherwise(\n",
    "        pds.random_str(min_size = 5, max_size = 5)\n",
    "    ).alias(\"random_str\")\n",
    ").head()"
   ]
  },
  {
   "cell_type": "code",
   "execution_count": 35,
   "id": "3d0c06a4",
   "metadata": {},
   "outputs": [
    {
     "data": {
      "text/html": [
       "<div><style>\n",
       ".dataframe > thead > tr,\n",
       ".dataframe > tbody > tr {\n",
       "  text-align: right;\n",
       "  white-space: pre-wrap;\n",
       "}\n",
       "</style>\n",
       "<small>shape: (5, 4)</small><table border=\"1\" class=\"dataframe\"><thead><tr><th>a</th><th>test1</th><th>literal</th><th>test1_perturbed</th></tr><tr><td>f64</td><td>f64</td><td>f64</td><td>f64</td></tr></thead><tbody><tr><td>null</td><td>0.278036</td><td>null</td><td>0.277542</td></tr><tr><td>null</td><td>1.817391</td><td>null</td><td>1.817711</td></tr><tr><td>-0.063853</td><td>-0.498464</td><td>0.833706</td><td>-0.498104</td></tr><tr><td>0.589552</td><td>-0.976279</td><td>1.275155</td><td>-0.976284</td></tr><tr><td>-0.946684</td><td>-0.750324</td><td>2.289387</td><td>-0.750434</td></tr></tbody></table></div>"
      ],
      "text/plain": [
       "shape: (5, 4)\n",
       "┌───────────┬───────────┬──────────┬─────────────────┐\n",
       "│ a         ┆ test1     ┆ literal  ┆ test1_perturbed │\n",
       "│ ---       ┆ ---       ┆ ---      ┆ ---             │\n",
       "│ f64       ┆ f64       ┆ f64      ┆ f64             │\n",
       "╞═══════════╪═══════════╪══════════╪═════════════════╡\n",
       "│ null      ┆ 0.278036  ┆ null     ┆ 0.277542        │\n",
       "│ null      ┆ 1.817391  ┆ null     ┆ 1.817711        │\n",
       "│ -0.063853 ┆ -0.498464 ┆ 0.833706 ┆ -0.498104       │\n",
       "│ 0.589552  ┆ -0.976279 ┆ 1.275155 ┆ -0.976284       │\n",
       "│ -0.946684 ┆ -0.750324 ┆ 2.289387 ┆ -0.750434       │\n",
       "└───────────┴───────────┴──────────┴─────────────────┘"
      ]
     },
     "execution_count": 35,
     "metadata": {},
     "output_type": "execute_result"
    }
   ],
   "source": [
    "df.with_columns(\n",
    "    # Sample from a normal distribution, using reference column \"a\" 's mean and std\n",
    "    pds.random_normal(pl.col(\"a\").mean(), pl.col(\"a\").std()).alias(\"test1\") \n",
    "    # Sample from uniform distribution, with low = 0 and high = \"a\"'s max, and respect the nulls in \"a\"\n",
    "    , pl.when(pl.col(\"a\").is_null()).then(None).otherwise(\n",
    "        pds.random(lower = 0., upper = pl.col(\"a\").max()).alias(\"test2\")\n",
    "    )\n",
    ").with_columns(\n",
    "    # Add a random pertubation to test1\n",
    "    pds.perturb(\"test1\", epsilon=0.001).alias(\"test1_perturbed\")\n",
    ").head()"
   ]
  },
  {
   "cell_type": "code",
   "execution_count": 36,
   "id": "67dc6583",
   "metadata": {},
   "outputs": [
    {
     "data": {
      "text/html": [
       "<div><style>\n",
       ".dataframe > thead > tr,\n",
       ".dataframe > tbody > tr {\n",
       "  text-align: right;\n",
       "  white-space: pre-wrap;\n",
       "}\n",
       "</style>\n",
       "<small>shape: (5, 4)</small><table border=\"1\" class=\"dataframe\"><thead><tr><th>a</th><th>[0, 1)</th><th>Normal</th><th>Int from [0, 10)</th></tr><tr><td>f64</td><td>f64</td><td>f64</td><td>i32</td></tr></thead><tbody><tr><td>null</td><td>0.484578</td><td>-0.373655</td><td>0</td></tr><tr><td>null</td><td>0.096912</td><td>-0.271684</td><td>5</td></tr><tr><td>-0.063853</td><td>0.380539</td><td>-1.088371</td><td>7</td></tr><tr><td>0.589552</td><td>0.112595</td><td>-1.894823</td><td>4</td></tr><tr><td>-0.946684</td><td>0.770406</td><td>-1.255929</td><td>4</td></tr></tbody></table></div>"
      ],
      "text/plain": [
       "shape: (5, 4)\n",
       "┌───────────┬──────────┬───────────┬──────────────────┐\n",
       "│ a         ┆ [0, 1)   ┆ Normal    ┆ Int from [0, 10) │\n",
       "│ ---       ┆ ---      ┆ ---       ┆ ---              │\n",
       "│ f64       ┆ f64      ┆ f64       ┆ i32              │\n",
       "╞═══════════╪══════════╪═══════════╪══════════════════╡\n",
       "│ null      ┆ 0.484578 ┆ -0.373655 ┆ 0                │\n",
       "│ null      ┆ 0.096912 ┆ -0.271684 ┆ 5                │\n",
       "│ -0.063853 ┆ 0.380539 ┆ -1.088371 ┆ 7                │\n",
       "│ 0.589552  ┆ 0.112595 ┆ -1.894823 ┆ 4                │\n",
       "│ -0.946684 ┆ 0.770406 ┆ -1.255929 ┆ 4                │\n",
       "└───────────┴──────────┴───────────┴──────────────────┘"
      ]
     },
     "execution_count": 36,
     "metadata": {},
     "output_type": "execute_result"
    }
   ],
   "source": [
    "# New in v0.3.5\n",
    "# This way, we don't have a reference column, so we cannot respect nulls, but is more convenient to use.\n",
    "df.with_columns(\n",
    "    pds.random().alias(\"[0, 1)\"),\n",
    "    pds.random_normal(pl.col(\"a\").mean(), pl.col(\"a\").std()).alias(\"Normal\"),\n",
    "    pds.random_int(0, 10).alias(\"Int from [0, 10)\"),\n",
    ").head()"
   ]
  },
  {
   "cell_type": "code",
   "execution_count": 37,
   "id": "7b63f636",
   "metadata": {},
   "outputs": [
    {
     "data": {
      "text/html": [
       "<div><style>\n",
       ".dataframe > thead > tr,\n",
       ".dataframe > tbody > tr {\n",
       "  text-align: right;\n",
       "  white-space: pre-wrap;\n",
       "}\n",
       "</style>\n",
       "<small>shape: (1, 4)</small><table border=\"1\" class=\"dataframe\"><thead><tr><th>t-tests: statistics</th><th>t-tests: pvalue</th><th>normality_test: statistics</th><th>normality_test: pvalue</th></tr><tr><td>f64</td><td>f64</td><td>f64</td><td>f64</td></tr></thead><tbody><tr><td>-0.109282</td><td>0.912994</td><td>2.311937</td><td>0.314753</td></tr></tbody></table></div>"
      ],
      "text/plain": [
       "shape: (1, 4)\n",
       "┌─────────────────────┬─────────────────┬────────────────────────────┬────────────────────────┐\n",
       "│ t-tests: statistics ┆ t-tests: pvalue ┆ normality_test: statistics ┆ normality_test: pvalue │\n",
       "│ ---                 ┆ ---             ┆ ---                        ┆ ---                    │\n",
       "│ f64                 ┆ f64             ┆ f64                        ┆ f64                    │\n",
       "╞═════════════════════╪═════════════════╪════════════════════════════╪════════════════════════╡\n",
       "│ -0.109282           ┆ 0.912994        ┆ 2.311937                   ┆ 0.314753               │\n",
       "└─────────────────────┴─────────────────┴────────────────────────────┴────────────────────────┘"
      ]
     },
     "execution_count": 37,
     "metadata": {},
     "output_type": "execute_result"
    }
   ],
   "source": [
    "# Genenrate 2 random sample, both normally distributed\n",
    "# Run Welch's t test on them, p value should be big since they have equal mean\n",
    "# Run a normality test. Again, p value should be big since they are normally distributed \n",
    "\n",
    "df.with_columns(\n",
    "    pds.random_normal(0.5, 1.0).alias(\"test1\"),\n",
    "    pds.random_normal(0.5, 2.0).alias(\"test2\"),\n",
    ").select(\n",
    "    pds.query_ttest_ind(\"test1\", \"test2\", equal_var=False).alias(\"t-test\"),\n",
    "    pds.normal_test(\"test1\").alias(\"normality_test\")\n",
    ").select(\n",
    "    pl.col(\"t-test\").struct.field(\"statistic\").alias(\"t-tests: statistics\")\n",
    "    , pl.col(\"t-test\").struct.field(\"pvalue\").alias(\"t-tests: pvalue\")\n",
    "    , pl.col(\"normality_test\").struct.field(\"statistic\").alias(\"normality_test: statistics\")\n",
    "    , pl.col(\"normality_test\").struct.field(\"pvalue\").alias(\"normality_test: pvalue\")\n",
    ")"
   ]
  },
  {
   "cell_type": "code",
   "execution_count": 38,
   "id": "b46a72a5",
   "metadata": {},
   "outputs": [
    {
     "data": {
      "text/html": [
       "<div><style>\n",
       ".dataframe > thead > tr,\n",
       ".dataframe > tbody > tr {\n",
       "  text-align: right;\n",
       "  white-space: pre-wrap;\n",
       "}\n",
       "</style>\n",
       "<small>shape: (5, 5)</small><table border=\"1\" class=\"dataframe\"><thead><tr><th>market_id</th><th>var1</th><th>var2</th><th>category_1</th><th>category_2</th></tr><tr><td>i64</td><td>f64</td><td>f64</td><td>i32</td><td>i32</td></tr></thead><tbody><tr><td>0</td><td>0.8498</td><td>0.104762</td><td>2</td><td>7</td></tr><tr><td>1</td><td>0.835423</td><td>0.304521</td><td>3</td><td>2</td></tr><tr><td>2</td><td>0.451455</td><td>0.915635</td><td>2</td><td>1</td></tr><tr><td>0</td><td>0.198961</td><td>0.840353</td><td>0</td><td>7</td></tr><tr><td>1</td><td>0.066047</td><td>0.936805</td><td>2</td><td>3</td></tr></tbody></table></div>"
      ],
      "text/plain": [
       "shape: (5, 5)\n",
       "┌───────────┬──────────┬──────────┬────────────┬────────────┐\n",
       "│ market_id ┆ var1     ┆ var2     ┆ category_1 ┆ category_2 │\n",
       "│ ---       ┆ ---      ┆ ---      ┆ ---        ┆ ---        │\n",
       "│ i64       ┆ f64      ┆ f64      ┆ i32        ┆ i32        │\n",
       "╞═══════════╪══════════╪══════════╪════════════╪════════════╡\n",
       "│ 0         ┆ 0.8498   ┆ 0.104762 ┆ 2          ┆ 7          │\n",
       "│ 1         ┆ 0.835423 ┆ 0.304521 ┆ 3          ┆ 2          │\n",
       "│ 2         ┆ 0.451455 ┆ 0.915635 ┆ 2          ┆ 1          │\n",
       "│ 0         ┆ 0.198961 ┆ 0.840353 ┆ 0          ┆ 7          │\n",
       "│ 1         ┆ 0.066047 ┆ 0.936805 ┆ 2          ┆ 3          │\n",
       "└───────────┴──────────┴──────────┴────────────┴────────────┘"
      ]
     },
     "execution_count": 38,
     "metadata": {},
     "output_type": "execute_result"
    }
   ],
   "source": [
    "size = 5_000\n",
    "df = pl.DataFrame({\n",
    "    \"market_id\": range(size),\n",
    "}).with_columns(\n",
    "    pl.col(\"market_id\").mod(3),\n",
    "    var1 = pds.random(),\n",
    "    var2 = pds.random(),\n",
    "    category_1 = pds.random_int(0, 5),\n",
    "    category_2 = pds.random_int(0, 10),\n",
    ")\n",
    "\n",
    "df.head(5)"
   ]
  },
  {
   "cell_type": "code",
   "execution_count": 39,
   "id": "adc4f66f",
   "metadata": {},
   "outputs": [
    {
     "data": {
      "text/html": [
       "<div><style>\n",
       ".dataframe > thead > tr,\n",
       ".dataframe > tbody > tr {\n",
       "  text-align: right;\n",
       "  white-space: pre-wrap;\n",
       "}\n",
       "</style>\n",
       "<small>shape: (1, 3)</small><table border=\"1\" class=\"dataframe\"><thead><tr><th>t-test</th><th>chi2-test</th><th>f-test</th></tr><tr><td>struct[2]</td><td>struct[2]</td><td>struct[2]</td></tr></thead><tbody><tr><td>{-0.64793,0.517045}</td><td>{22.170505,0.965739}</td><td>{0.50483,0.732206}</td></tr></tbody></table></div>"
      ],
      "text/plain": [
       "shape: (1, 3)\n",
       "┌─────────────────────┬──────────────────────┬────────────────────┐\n",
       "│ t-test              ┆ chi2-test            ┆ f-test             │\n",
       "│ ---                 ┆ ---                  ┆ ---                │\n",
       "│ struct[2]           ┆ struct[2]            ┆ struct[2]          │\n",
       "╞═════════════════════╪══════════════════════╪════════════════════╡\n",
       "│ {-0.64793,0.517045} ┆ {22.170505,0.965739} ┆ {0.50483,0.732206} │\n",
       "└─────────────────────┴──────────────────────┴────────────────────┘"
      ]
     },
     "execution_count": 39,
     "metadata": {},
     "output_type": "execute_result"
    }
   ],
   "source": [
    "# In dataframe statistical tests!\n",
    "df.select(\n",
    "    pds.query_ttest_ind(\"var1\", \"var2\", equal_var=True).alias(\"t-test\"),\n",
    "    pds.query_chi2(\"category_1\", \"category_2\").alias(\"chi2-test\"),\n",
    "    pds.query_f_test(\"var1\", group = \"category_1\").alias(\"f-test\")\n",
    ")"
   ]
  },
  {
   "cell_type": "code",
   "execution_count": 40,
   "id": "65dbb6bd",
   "metadata": {},
   "outputs": [
    {
     "name": "stdout",
     "output_type": "stream",
     "text": [
      "shape: (3, 4)\n",
      "┌───────────┬──────────────────────┬──────────────────────┬─────────────────────┐\n",
      "│ market_id ┆ t-test               ┆ chi2-test            ┆ f-test              │\n",
      "│ ---       ┆ ---                  ┆ ---                  ┆ ---                 │\n",
      "│ i64       ┆ struct[2]            ┆ struct[2]            ┆ struct[2]           │\n",
      "╞═══════════╪══════════════════════╪══════════════════════╪═════════════════════╡\n",
      "│ 0         ┆ {-1.04167,0.29764}   ┆ {27.019093,0.860273} ┆ {0.542672,0.70442}  │\n",
      "│ 1         ┆ {-0.146552,0.883494} ┆ {37.653112,0.393468} ┆ {0.377929,0.824525} │\n",
      "│ 2         ┆ {0.064001,0.948973}  ┆ {26.863301,0.865169} ┆ {0.05765,0.993836}  │\n",
      "└───────────┴──────────────────────┴──────────────────────┴─────────────────────┘\n"
     ]
    }
   ],
   "source": [
    "# Can also be done in group by context\n",
    "print(\n",
    "    df.group_by(\"market_id\").agg(\n",
    "        pds.query_ttest_ind(\"var1\", \"var2\", equal_var=False).alias(\"t-test\"),\n",
    "        pds.query_chi2(\"category_1\", \"category_2\").alias(\"chi2-test\"),\n",
    "        pds.query_f_test(\"var1\", group = \"category_1\").alias(\"f-test\")\n",
    "    )\n",
    ")"
   ]
  },
  {
   "cell_type": "code",
   "execution_count": 41,
   "id": "843d54c5",
   "metadata": {},
   "outputs": [
    {
     "data": {
      "text/html": [
       "<div><style>\n",
       ".dataframe > thead > tr,\n",
       ".dataframe > tbody > tr {\n",
       "  text-align: right;\n",
       "  white-space: pre-wrap;\n",
       "}\n",
       "</style>\n",
       "<small>shape: (9, 2)</small><table border=\"1\" class=\"dataframe\"><thead><tr><th>first_digit_cnt</th><th>first_digit_distribution</th></tr><tr><td>u32</td><td>f64</td></tr></thead><tbody><tr><td>566</td><td>0.1132</td></tr><tr><td>585</td><td>0.117</td></tr><tr><td>591</td><td>0.1182</td></tr><tr><td>538</td><td>0.1076</td></tr><tr><td>553</td><td>0.1106</td></tr><tr><td>556</td><td>0.1112</td></tr><tr><td>556</td><td>0.1112</td></tr><tr><td>496</td><td>0.0992</td></tr><tr><td>559</td><td>0.1118</td></tr></tbody></table></div>"
      ],
      "text/plain": [
       "shape: (9, 2)\n",
       "┌─────────────────┬──────────────────────────┐\n",
       "│ first_digit_cnt ┆ first_digit_distribution │\n",
       "│ ---             ┆ ---                      │\n",
       "│ u32             ┆ f64                      │\n",
       "╞═════════════════╪══════════════════════════╡\n",
       "│ 566             ┆ 0.1132                   │\n",
       "│ 585             ┆ 0.117                    │\n",
       "│ 591             ┆ 0.1182                   │\n",
       "│ 538             ┆ 0.1076                   │\n",
       "│ 553             ┆ 0.1106                   │\n",
       "│ 556             ┆ 0.1112                   │\n",
       "│ 556             ┆ 0.1112                   │\n",
       "│ 496             ┆ 0.0992                   │\n",
       "│ 559             ┆ 0.1118                   │\n",
       "└─────────────────┴──────────────────────────┘"
      ]
     },
     "execution_count": 41,
     "metadata": {},
     "output_type": "execute_result"
    }
   ],
   "source": [
    "# Benford's law\n",
    "df.select(\n",
    "    first_digit_cnt = pds.query_first_digit_cnt(pl.col(\"var1\")).explode()\n",
    ").with_columns(\n",
    "    # This doesn't follow benford's law because it is random data\n",
    "    first_digit_distribution = pl.col(\"first_digit_cnt\") / pl.col(\"first_digit_cnt\").sum()\n",
    ")"
   ]
  },
  {
   "cell_type": "markdown",
   "id": "b232e4d7",
   "metadata": {},
   "source": [
    "# Nearest Neighbors Related Tasks\n",
    "\n",
    "These queries can be very slow when data/dimension gets huge, even when processed in parallel."
   ]
  },
  {
   "cell_type": "code",
   "execution_count": 42,
   "id": "87aff1ef",
   "metadata": {},
   "outputs": [],
   "source": [
    "import polars_ds as pds\n",
    "size = 2000\n",
    "df = pl.DataFrame({\n",
    "    \"id\": range(size), \n",
    "}).with_columns(\n",
    "    pds.random().alias(\"var1\"),\n",
    "    pds.random().alias(\"var2\"),\n",
    "    pds.random().alias(\"var3\"),\n",
    "    pds.random().alias(\"r\"),\n",
    "    (pds.random() * 10).alias(\"rh\"),\n",
    "    pl.col(\"id\").cast(pl.UInt32)\n",
    ")"
   ]
  },
  {
   "cell_type": "code",
   "execution_count": 43,
   "id": "2fae4b5e",
   "metadata": {},
   "outputs": [
    {
     "data": {
      "text/html": [
       "<div><style>\n",
       ".dataframe > thead > tr,\n",
       ".dataframe > tbody > tr {\n",
       "  text-align: right;\n",
       "  white-space: pre-wrap;\n",
       "}\n",
       "</style>\n",
       "<small>shape: (5, 7)</small><table border=\"1\" class=\"dataframe\"><thead><tr><th>id</th><th>var1</th><th>var2</th><th>var3</th><th>r</th><th>rh</th><th>nb_l_inf_cnt</th></tr><tr><td>u32</td><td>f64</td><td>f64</td><td>f64</td><td>f64</td><td>f64</td><td>u32</td></tr></thead><tbody><tr><td>0</td><td>0.690801</td><td>0.170121</td><td>0.441214</td><td>0.941438</td><td>6.092433</td><td>12</td></tr><tr><td>1</td><td>0.812247</td><td>0.095282</td><td>0.305064</td><td>0.698363</td><td>4.982886</td><td>13</td></tr><tr><td>2</td><td>0.887274</td><td>0.765451</td><td>0.395854</td><td>0.497346</td><td>0.99468</td><td>19</td></tr><tr><td>3</td><td>0.31295</td><td>0.12156</td><td>0.313221</td><td>0.850428</td><td>0.942336</td><td>17</td></tr><tr><td>4</td><td>0.792379</td><td>0.079288</td><td>0.809853</td><td>0.403986</td><td>1.952905</td><td>10</td></tr></tbody></table></div>"
      ],
      "text/plain": [
       "shape: (5, 7)\n",
       "┌─────┬──────────┬──────────┬──────────┬──────────┬──────────┬──────────────┐\n",
       "│ id  ┆ var1     ┆ var2     ┆ var3     ┆ r        ┆ rh       ┆ nb_l_inf_cnt │\n",
       "│ --- ┆ ---      ┆ ---      ┆ ---      ┆ ---      ┆ ---      ┆ ---          │\n",
       "│ u32 ┆ f64      ┆ f64      ┆ f64      ┆ f64      ┆ f64      ┆ u32          │\n",
       "╞═════╪══════════╪══════════╪══════════╪══════════╪══════════╪══════════════╡\n",
       "│ 0   ┆ 0.690801 ┆ 0.170121 ┆ 0.441214 ┆ 0.941438 ┆ 6.092433 ┆ 12           │\n",
       "│ 1   ┆ 0.812247 ┆ 0.095282 ┆ 0.305064 ┆ 0.698363 ┆ 4.982886 ┆ 13           │\n",
       "│ 2   ┆ 0.887274 ┆ 0.765451 ┆ 0.395854 ┆ 0.497346 ┆ 0.99468  ┆ 19           │\n",
       "│ 3   ┆ 0.31295  ┆ 0.12156  ┆ 0.313221 ┆ 0.850428 ┆ 0.942336 ┆ 17           │\n",
       "│ 4   ┆ 0.792379 ┆ 0.079288 ┆ 0.809853 ┆ 0.403986 ┆ 1.952905 ┆ 10           │\n",
       "└─────┴──────────┴──────────┴──────────┴──────────┴──────────┴──────────────┘"
      ]
     },
     "execution_count": 43,
     "metadata": {},
     "output_type": "execute_result"
    }
   ],
   "source": [
    "# Get neighbor count. The point itself is always considered a neighbor to itself.\n",
    "df.with_columns(\n",
    "    pds.query_nb_cnt(\n",
    "        0.1, # radius \n",
    "        pl.col(\"var1\"), \"var2\", \"var3\", # Columns used as the coordinates in n-d space, str | pl.Expr \n",
    "        dist = \"inf\", # L Infinity distance \n",
    "        parallel = True \n",
    "    ).alias(\"nb_l_inf_cnt\")\n",
    ").head() "
   ]
  },
  {
   "cell_type": "code",
   "execution_count": 44,
   "id": "69ad83d1",
   "metadata": {},
   "outputs": [
    {
     "data": {
      "text/html": [
       "<div><style>\n",
       ".dataframe > thead > tr,\n",
       ".dataframe > tbody > tr {\n",
       "  text-align: right;\n",
       "  white-space: pre-wrap;\n",
       "}\n",
       "</style>\n",
       "<small>shape: (5, 7)</small><table border=\"1\" class=\"dataframe\"><thead><tr><th>id</th><th>var1</th><th>var2</th><th>var3</th><th>r</th><th>rh</th><th>nb_l1_r_cnt</th></tr><tr><td>u32</td><td>f64</td><td>f64</td><td>f64</td><td>f64</td><td>f64</td><td>u32</td></tr></thead><tbody><tr><td>0</td><td>0.690801</td><td>0.170121</td><td>0.441214</td><td>0.941438</td><td>6.092433</td><td>1142</td></tr><tr><td>1</td><td>0.812247</td><td>0.095282</td><td>0.305064</td><td>0.698363</td><td>4.982886</td><td>437</td></tr><tr><td>2</td><td>0.887274</td><td>0.765451</td><td>0.395854</td><td>0.497346</td><td>0.99468</td><td>226</td></tr><tr><td>3</td><td>0.31295</td><td>0.12156</td><td>0.313221</td><td>0.850428</td><td>0.942336</td><td>810</td></tr><tr><td>4</td><td>0.792379</td><td>0.079288</td><td>0.809853</td><td>0.403986</td><td>1.952905</td><td>112</td></tr></tbody></table></div>"
      ],
      "text/plain": [
       "shape: (5, 7)\n",
       "┌─────┬──────────┬──────────┬──────────┬──────────┬──────────┬─────────────┐\n",
       "│ id  ┆ var1     ┆ var2     ┆ var3     ┆ r        ┆ rh       ┆ nb_l1_r_cnt │\n",
       "│ --- ┆ ---      ┆ ---      ┆ ---      ┆ ---      ┆ ---      ┆ ---         │\n",
       "│ u32 ┆ f64      ┆ f64      ┆ f64      ┆ f64      ┆ f64      ┆ u32         │\n",
       "╞═════╪══════════╪══════════╪══════════╪══════════╪══════════╪═════════════╡\n",
       "│ 0   ┆ 0.690801 ┆ 0.170121 ┆ 0.441214 ┆ 0.941438 ┆ 6.092433 ┆ 1142        │\n",
       "│ 1   ┆ 0.812247 ┆ 0.095282 ┆ 0.305064 ┆ 0.698363 ┆ 4.982886 ┆ 437         │\n",
       "│ 2   ┆ 0.887274 ┆ 0.765451 ┆ 0.395854 ┆ 0.497346 ┆ 0.99468  ┆ 226         │\n",
       "│ 3   ┆ 0.31295  ┆ 0.12156  ┆ 0.313221 ┆ 0.850428 ┆ 0.942336 ┆ 810         │\n",
       "│ 4   ┆ 0.792379 ┆ 0.079288 ┆ 0.809853 ┆ 0.403986 ┆ 1.952905 ┆ 112         │\n",
       "└─────┴──────────┴──────────┴──────────┴──────────┴──────────┴─────────────┘"
      ]
     },
     "execution_count": 44,
     "metadata": {},
     "output_type": "execute_result"
    }
   ],
   "source": [
    "df.with_columns(\n",
    "    pds.query_nb_cnt(\n",
    "        pl.col(\"r\"), # radius be an expression too\n",
    "        \"var1\", \"var2\", \"var3\", # Columns used as the coordinates in n-d space, str | pl.Expr \n",
    "        dist = \"l1\", # L 1 distance \n",
    "        parallel = True \n",
    "    ).alias(\"nb_l1_r_cnt\")\n",
    ").head()"
   ]
  },
  {
   "cell_type": "code",
   "execution_count": 45,
   "id": "ce1a2c7a",
   "metadata": {},
   "outputs": [
    {
     "data": {
      "text/html": [
       "<div><style>\n",
       ".dataframe > thead > tr,\n",
       ".dataframe > tbody > tr {\n",
       "  text-align: right;\n",
       "  white-space: pre-wrap;\n",
       "}\n",
       "</style>\n",
       "<small>shape: (5, 7)</small><table border=\"1\" class=\"dataframe\"><thead><tr><th>id</th><th>var1</th><th>var2</th><th>var3</th><th>r</th><th>rh</th><th>best friends</th></tr><tr><td>u32</td><td>f64</td><td>f64</td><td>f64</td><td>f64</td><td>f64</td><td>list[u32]</td></tr></thead><tbody><tr><td>0</td><td>0.690801</td><td>0.170121</td><td>0.441214</td><td>0.941438</td><td>6.092433</td><td>[0, 1302, … 1845]</td></tr><tr><td>1</td><td>0.812247</td><td>0.095282</td><td>0.305064</td><td>0.698363</td><td>4.982886</td><td>[1, 341, … 1938]</td></tr><tr><td>2</td><td>0.887274</td><td>0.765451</td><td>0.395854</td><td>0.497346</td><td>0.99468</td><td>[2, 1331, … 259]</td></tr><tr><td>3</td><td>0.31295</td><td>0.12156</td><td>0.313221</td><td>0.850428</td><td>0.942336</td><td>[3, 1198, … 1277]</td></tr><tr><td>4</td><td>0.792379</td><td>0.079288</td><td>0.809853</td><td>0.403986</td><td>1.952905</td><td>[4, 957, … 553]</td></tr></tbody></table></div>"
      ],
      "text/plain": [
       "shape: (5, 7)\n",
       "┌─────┬──────────┬──────────┬──────────┬──────────┬──────────┬───────────────────┐\n",
       "│ id  ┆ var1     ┆ var2     ┆ var3     ┆ r        ┆ rh       ┆ best friends      │\n",
       "│ --- ┆ ---      ┆ ---      ┆ ---      ┆ ---      ┆ ---      ┆ ---               │\n",
       "│ u32 ┆ f64      ┆ f64      ┆ f64      ┆ f64      ┆ f64      ┆ list[u32]         │\n",
       "╞═════╪══════════╪══════════╪══════════╪══════════╪══════════╪═══════════════════╡\n",
       "│ 0   ┆ 0.690801 ┆ 0.170121 ┆ 0.441214 ┆ 0.941438 ┆ 6.092433 ┆ [0, 1302, … 1845] │\n",
       "│ 1   ┆ 0.812247 ┆ 0.095282 ┆ 0.305064 ┆ 0.698363 ┆ 4.982886 ┆ [1, 341, … 1938]  │\n",
       "│ 2   ┆ 0.887274 ┆ 0.765451 ┆ 0.395854 ┆ 0.497346 ┆ 0.99468  ┆ [2, 1331, … 259]  │\n",
       "│ 3   ┆ 0.31295  ┆ 0.12156  ┆ 0.313221 ┆ 0.850428 ┆ 0.942336 ┆ [3, 1198, … 1277] │\n",
       "│ 4   ┆ 0.792379 ┆ 0.079288 ┆ 0.809853 ┆ 0.403986 ┆ 1.952905 ┆ [4, 957, … 553]   │\n",
       "└─────┴──────────┴──────────┴──────────┴──────────┴──────────┴───────────────────┘"
      ]
     },
     "execution_count": 45,
     "metadata": {},
     "output_type": "execute_result"
    }
   ],
   "source": [
    "# Get ids of the k nearest neighbors. \n",
    "# The point itself is always considered a neighbor to itself, so k + 1 elements will be returned.\n",
    "df.with_columns(\n",
    "    pds.query_knn_ptwise(\n",
    "        pl.col(\"var1\"), pl.col(\"var2\"), pl.col(\"var3\"), # Columns used as the coordinates in n-d space\n",
    "        index = \"id\",  # pl.col(\"id\"), str | pl.Expr\n",
    "        k = 3, \n",
    "        dist = \"l2\", # squared l2\n",
    "        parallel = True\n",
    "    ).alias(\"best friends\")\n",
    ").head() "
   ]
  },
  {
   "cell_type": "code",
   "execution_count": 46,
   "id": "67a769f3",
   "metadata": {},
   "outputs": [
    {
     "name": "stdout",
     "output_type": "stream",
     "text": [
      "shape: (5, 3)\n",
      "┌─────┬───────────────────┬────────────────────┐\n",
      "│ id  ┆ best friends      ┆ best friends count │\n",
      "│ --- ┆ ---               ┆ ---                │\n",
      "│ u32 ┆ list[u32]         ┆ u32                │\n",
      "╞═════╪═══════════════════╪════════════════════╡\n",
      "│ 0   ┆ [0, 1302, … 1655] ┆ 5                  │\n",
      "│ 1   ┆ [1, 341, … 700]   ┆ 8                  │\n",
      "│ 2   ┆ [2, 1331, … 946]  ┆ 5                  │\n",
      "│ 3   ┆ [3, 1198, … 1047] ┆ 7                  │\n",
      "│ 4   ┆ [4, 957, … 246]   ┆ 4                  │\n",
      "└─────┴───────────────────┴────────────────────┘\n"
     ]
    }
   ],
   "source": [
    "# Get all neighbors within radius r, call them best friends\n",
    "print(\n",
    "\n",
    "df.select(\n",
    "    pl.col(\"id\"),\n",
    "    pds.query_radius_ptwise(\n",
    "        pl.col(\"var1\"), pl.col(\"var2\"), pl.col(\"var3\"), # Columns used as the coordinates in 3d space\n",
    "        index = pl.col(\"id\"),\n",
    "        r = 0.1, \n",
    "        dist = \"l2\", # actually this is squared l2\n",
    "        parallel = True\n",
    "    ).alias(\"best friends\"),\n",
    ").with_columns( # -1 to remove the point itself\n",
    "    (pl.col(\"best friends\").list.len() - 1).alias(\"best friends count\")\n",
    ").head()\n",
    "\n",
    ")"
   ]
  },
  {
   "cell_type": "code",
   "execution_count": 47,
   "id": "06cd7fb2",
   "metadata": {},
   "outputs": [
    {
     "data": {
      "text/html": [
       "<div><style>\n",
       ".dataframe > thead > tr,\n",
       ".dataframe > tbody > tr {\n",
       "  text-align: right;\n",
       "  white-space: pre-wrap;\n",
       "}\n",
       "</style>\n",
       "<small>shape: (5, 8)</small><table border=\"1\" class=\"dataframe\"><thead><tr><th>id</th><th>var1</th><th>var2</th><th>var3</th><th>r</th><th>rh</th><th>idx</th><th>dist</th></tr><tr><td>u32</td><td>f64</td><td>f64</td><td>f64</td><td>f64</td><td>f64</td><td>list[u32]</td><td>list[f64]</td></tr></thead><tbody><tr><td>0</td><td>0.690801</td><td>0.170121</td><td>0.441214</td><td>0.941438</td><td>6.092433</td><td>[0, 1302, … 1845]</td><td>[0.0, 0.0724, … 0.097051]</td></tr><tr><td>1</td><td>0.812247</td><td>0.095282</td><td>0.305064</td><td>0.698363</td><td>4.982886</td><td>[1, 341, … 1938]</td><td>[0.0, 0.040774, … 0.063491]</td></tr><tr><td>2</td><td>0.887274</td><td>0.765451</td><td>0.395854</td><td>0.497346</td><td>0.99468</td><td>[2, 1331, … 259]</td><td>[0.0, 0.053612, … 0.076934]</td></tr><tr><td>3</td><td>0.31295</td><td>0.12156</td><td>0.313221</td><td>0.850428</td><td>0.942336</td><td>[3, 1198, … 1277]</td><td>[0.0, 0.04743, … 0.065846]</td></tr><tr><td>4</td><td>0.792379</td><td>0.079288</td><td>0.809853</td><td>0.403986</td><td>1.952905</td><td>[4, 957, … 553]</td><td>[0.0, 0.062671, … 0.074585]</td></tr></tbody></table></div>"
      ],
      "text/plain": [
       "shape: (5, 8)\n",
       "┌─────┬──────────┬──────────┬──────────┬──────────┬──────────┬──────────────────┬──────────────────┐\n",
       "│ id  ┆ var1     ┆ var2     ┆ var3     ┆ r        ┆ rh       ┆ idx              ┆ dist             │\n",
       "│ --- ┆ ---      ┆ ---      ┆ ---      ┆ ---      ┆ ---      ┆ ---              ┆ ---              │\n",
       "│ u32 ┆ f64      ┆ f64      ┆ f64      ┆ f64      ┆ f64      ┆ list[u32]        ┆ list[f64]        │\n",
       "╞═════╪══════════╪══════════╪══════════╪══════════╪══════════╪══════════════════╪══════════════════╡\n",
       "│ 0   ┆ 0.690801 ┆ 0.170121 ┆ 0.441214 ┆ 0.941438 ┆ 6.092433 ┆ [0, 1302, …      ┆ [0.0, 0.0724, …  │\n",
       "│     ┆          ┆          ┆          ┆          ┆          ┆ 1845]            ┆ 0.097051]        │\n",
       "│ 1   ┆ 0.812247 ┆ 0.095282 ┆ 0.305064 ┆ 0.698363 ┆ 4.982886 ┆ [1, 341, … 1938] ┆ [0.0, 0.040774,  │\n",
       "│     ┆          ┆          ┆          ┆          ┆          ┆                  ┆ … 0.063491]      │\n",
       "│ 2   ┆ 0.887274 ┆ 0.765451 ┆ 0.395854 ┆ 0.497346 ┆ 0.99468  ┆ [2, 1331, … 259] ┆ [0.0, 0.053612,  │\n",
       "│     ┆          ┆          ┆          ┆          ┆          ┆                  ┆ … 0.076934]      │\n",
       "│ 3   ┆ 0.31295  ┆ 0.12156  ┆ 0.313221 ┆ 0.850428 ┆ 0.942336 ┆ [3, 1198, …      ┆ [0.0, 0.04743, … │\n",
       "│     ┆          ┆          ┆          ┆          ┆          ┆ 1277]            ┆ 0.065846]        │\n",
       "│ 4   ┆ 0.792379 ┆ 0.079288 ┆ 0.809853 ┆ 0.403986 ┆ 1.952905 ┆ [4, 957, … 553]  ┆ [0.0, 0.062671,  │\n",
       "│     ┆          ┆          ┆          ┆          ┆          ┆                  ┆ … 0.074585]      │\n",
       "└─────┴──────────┴──────────┴──────────┴──────────┴──────────┴──────────────────┴──────────────────┘"
      ]
     },
     "execution_count": 47,
     "metadata": {},
     "output_type": "execute_result"
    }
   ],
   "source": [
    "# Get ids of the k nearest neighbors and distances\n",
    "# The point itself is always considered a neighbor to itself, so k + 1 elements will be returned.\n",
    "df.with_columns(\n",
    "    pds.query_knn_ptwise(\n",
    "        pl.col(\"var1\"), pl.col(\"var2\"), pl.col(\"var3\"), # Columns used as the coordinates in n-d space\n",
    "        index = pl.col(\"id\"),\n",
    "        k = 3, \n",
    "        dist = \"l2\", # actually this is squared l2\n",
    "        parallel = True,\n",
    "        return_dist = True\n",
    "    ).alias(\"best_friends_w_dist\")\n",
    ").unnest(\"best_friends_w_dist\").head()"
   ]
  },
  {
   "cell_type": "code",
   "execution_count": 48,
   "id": "b5c69ae4",
   "metadata": {},
   "outputs": [
    {
     "data": {
      "text/html": [
       "<div><style>\n",
       ".dataframe > thead > tr,\n",
       ".dataframe > tbody > tr {\n",
       "  text-align: right;\n",
       "  white-space: pre-wrap;\n",
       "}\n",
       "</style>\n",
       "<small>shape: (5, 6)</small><table border=\"1\" class=\"dataframe\"><thead><tr><th>id</th><th>var1</th><th>var2</th><th>var3</th><th>r</th><th>rh</th></tr><tr><td>u32</td><td>f64</td><td>f64</td><td>f64</td><td>f64</td><td>f64</td></tr></thead><tbody><tr><td>0</td><td>0.690801</td><td>0.170121</td><td>0.441214</td><td>0.941438</td><td>6.092433</td></tr><tr><td>5</td><td>0.488917</td><td>0.569547</td><td>0.719197</td><td>0.222572</td><td>8.093664</td></tr><tr><td>6</td><td>0.784901</td><td>0.599807</td><td>0.662587</td><td>0.083576</td><td>9.275924</td></tr><tr><td>7</td><td>0.655748</td><td>0.45577</td><td>0.552408</td><td>0.711763</td><td>8.581199</td></tr><tr><td>9</td><td>0.189803</td><td>0.336674</td><td>0.521146</td><td>0.3185</td><td>9.84388</td></tr></tbody></table></div>"
      ],
      "text/plain": [
       "shape: (5, 6)\n",
       "┌─────┬──────────┬──────────┬──────────┬──────────┬──────────┐\n",
       "│ id  ┆ var1     ┆ var2     ┆ var3     ┆ r        ┆ rh       │\n",
       "│ --- ┆ ---      ┆ ---      ┆ ---      ┆ ---      ┆ ---      │\n",
       "│ u32 ┆ f64      ┆ f64      ┆ f64      ┆ f64      ┆ f64      │\n",
       "╞═════╪══════════╪══════════╪══════════╪══════════╪══════════╡\n",
       "│ 0   ┆ 0.690801 ┆ 0.170121 ┆ 0.441214 ┆ 0.941438 ┆ 6.092433 │\n",
       "│ 5   ┆ 0.488917 ┆ 0.569547 ┆ 0.719197 ┆ 0.222572 ┆ 8.093664 │\n",
       "│ 6   ┆ 0.784901 ┆ 0.599807 ┆ 0.662587 ┆ 0.083576 ┆ 9.275924 │\n",
       "│ 7   ┆ 0.655748 ┆ 0.45577  ┆ 0.552408 ┆ 0.711763 ┆ 8.581199 │\n",
       "│ 9   ┆ 0.189803 ┆ 0.336674 ┆ 0.521146 ┆ 0.3185   ┆ 9.84388  │\n",
       "└─────┴──────────┴──────────┴──────────┴──────────┴──────────┘"
      ]
     },
     "execution_count": 48,
     "metadata": {},
     "output_type": "execute_result"
    }
   ],
   "source": [
    "# Filter to only points near the given point\n",
    "df.filter(\n",
    "    pds.within_dist_from(\n",
    "        pl.col(\"var1\"), pl.col(\"var2\"), pl.col(\"var3\"), # Columns used as the coordinates in n-d space\n",
    "        pt = [0.5, 0.5, 0.5],\n",
    "        r = 0.2,\n",
    "        dist = \"l2\" # actually this is squared l2, so this is asking for squared l2 <= 0.2\n",
    "    )\n",
    ").head()"
   ]
  },
  {
   "cell_type": "code",
   "execution_count": 49,
   "id": "4ab9e8f8",
   "metadata": {},
   "outputs": [
    {
     "data": {
      "text/html": [
       "<div><style>\n",
       ".dataframe > thead > tr,\n",
       ".dataframe > tbody > tr {\n",
       "  text-align: right;\n",
       "  white-space: pre-wrap;\n",
       "}\n",
       "</style>\n",
       "<small>shape: (5, 6)</small><table border=\"1\" class=\"dataframe\"><thead><tr><th>id</th><th>var1</th><th>var2</th><th>var3</th><th>r</th><th>rh</th></tr><tr><td>u32</td><td>f64</td><td>f64</td><td>f64</td><td>f64</td><td>f64</td></tr></thead><tbody><tr><td>5</td><td>0.488917</td><td>0.569547</td><td>0.719197</td><td>0.222572</td><td>8.093664</td></tr><tr><td>25</td><td>0.552314</td><td>0.537143</td><td>0.228336</td><td>0.322478</td><td>7.359873</td></tr><tr><td>48</td><td>0.458231</td><td>0.538932</td><td>0.251232</td><td>0.424817</td><td>3.99862</td></tr><tr><td>54</td><td>0.507641</td><td>0.516375</td><td>0.473393</td><td>0.758425</td><td>0.310381</td></tr><tr><td>70</td><td>0.516725</td><td>0.547032</td><td>0.176468</td><td>0.00018</td><td>2.904882</td></tr></tbody></table></div>"
      ],
      "text/plain": [
       "shape: (5, 6)\n",
       "┌─────┬──────────┬──────────┬──────────┬──────────┬──────────┐\n",
       "│ id  ┆ var1     ┆ var2     ┆ var3     ┆ r        ┆ rh       │\n",
       "│ --- ┆ ---      ┆ ---      ┆ ---      ┆ ---      ┆ ---      │\n",
       "│ u32 ┆ f64      ┆ f64      ┆ f64      ┆ f64      ┆ f64      │\n",
       "╞═════╪══════════╪══════════╪══════════╪══════════╪══════════╡\n",
       "│ 5   ┆ 0.488917 ┆ 0.569547 ┆ 0.719197 ┆ 0.222572 ┆ 8.093664 │\n",
       "│ 25  ┆ 0.552314 ┆ 0.537143 ┆ 0.228336 ┆ 0.322478 ┆ 7.359873 │\n",
       "│ 48  ┆ 0.458231 ┆ 0.538932 ┆ 0.251232 ┆ 0.424817 ┆ 3.99862  │\n",
       "│ 54  ┆ 0.507641 ┆ 0.516375 ┆ 0.473393 ┆ 0.758425 ┆ 0.310381 │\n",
       "│ 70  ┆ 0.516725 ┆ 0.547032 ┆ 0.176468 ┆ 0.00018  ┆ 2.904882 │\n",
       "└─────┴──────────┴──────────┴──────────┴──────────┴──────────┘"
      ]
     },
     "execution_count": 49,
     "metadata": {},
     "output_type": "execute_result"
    }
   ],
   "source": [
    "# Haversine distance is available when dimension is 2\n",
    "df.filter(\n",
    "    pds.within_dist_from(\n",
    "        pl.col(\"var1\"), pl.col(\"var2\"), # Columns used as the coordinates in n-d space\n",
    "        pt = [0.5, 0.5],\n",
    "        r = 10, # in km\n",
    "        dist = \"h\" \n",
    "    )\n",
    ").head()"
   ]
  },
  {
   "cell_type": "code",
   "execution_count": 50,
   "id": "7d3f5ae4",
   "metadata": {},
   "outputs": [
    {
     "data": {
      "text/html": [
       "<div><style>\n",
       ".dataframe > thead > tr,\n",
       ".dataframe > tbody > tr {\n",
       "  text-align: right;\n",
       "  white-space: pre-wrap;\n",
       "}\n",
       "</style>\n",
       "<small>shape: (5, 6)</small><table border=\"1\" class=\"dataframe\"><thead><tr><th>id</th><th>var1</th><th>var2</th><th>var3</th><th>r</th><th>rh</th></tr><tr><td>u32</td><td>f64</td><td>f64</td><td>f64</td><td>f64</td><td>f64</td></tr></thead><tbody><tr><td>5</td><td>0.488917</td><td>0.569547</td><td>0.719197</td><td>0.222572</td><td>8.093664</td></tr><tr><td>25</td><td>0.552314</td><td>0.537143</td><td>0.228336</td><td>0.322478</td><td>7.359873</td></tr><tr><td>224</td><td>0.496332</td><td>0.512851</td><td>0.016562</td><td>0.910587</td><td>9.142325</td></tr><tr><td>273</td><td>0.472758</td><td>0.420041</td><td>0.203852</td><td>0.26653</td><td>9.412762</td></tr><tr><td>540</td><td>0.484401</td><td>0.506627</td><td>0.86604</td><td>0.890258</td><td>6.919762</td></tr></tbody></table></div>"
      ],
      "text/plain": [
       "shape: (5, 6)\n",
       "┌─────┬──────────┬──────────┬──────────┬──────────┬──────────┐\n",
       "│ id  ┆ var1     ┆ var2     ┆ var3     ┆ r        ┆ rh       │\n",
       "│ --- ┆ ---      ┆ ---      ┆ ---      ┆ ---      ┆ ---      │\n",
       "│ u32 ┆ f64      ┆ f64      ┆ f64      ┆ f64      ┆ f64      │\n",
       "╞═════╪══════════╪══════════╪══════════╪══════════╪══════════╡\n",
       "│ 5   ┆ 0.488917 ┆ 0.569547 ┆ 0.719197 ┆ 0.222572 ┆ 8.093664 │\n",
       "│ 25  ┆ 0.552314 ┆ 0.537143 ┆ 0.228336 ┆ 0.322478 ┆ 7.359873 │\n",
       "│ 224 ┆ 0.496332 ┆ 0.512851 ┆ 0.016562 ┆ 0.910587 ┆ 9.142325 │\n",
       "│ 273 ┆ 0.472758 ┆ 0.420041 ┆ 0.203852 ┆ 0.26653  ┆ 9.412762 │\n",
       "│ 540 ┆ 0.484401 ┆ 0.506627 ┆ 0.86604  ┆ 0.890258 ┆ 6.919762 │\n",
       "└─────┴──────────┴──────────┴──────────┴──────────┴──────────┘"
      ]
     },
     "execution_count": 50,
     "metadata": {},
     "output_type": "execute_result"
    }
   ],
   "source": [
    "df.filter(\n",
    "    pds.within_dist_from(\n",
    "        pl.col(\"var1\"), pl.col(\"var2\"), \n",
    "        pt = [0.5, 0.5],\n",
    "        # radius can also be an existing column in the dataframe.\n",
    "        r = pl.col(\"rh\"), \n",
    "        dist = \"h\" \n",
    "    )\n",
    ").head()"
   ]
  },
  {
   "cell_type": "code",
   "execution_count": 51,
   "id": "f14627bc",
   "metadata": {},
   "outputs": [
    {
     "data": {
      "text/html": [
       "<div><style>\n",
       ".dataframe > thead > tr,\n",
       ".dataframe > tbody > tr {\n",
       "  text-align: right;\n",
       "  white-space: pre-wrap;\n",
       "}\n",
       "</style>\n",
       "<small>shape: (5, 3)</small><table border=\"1\" class=\"dataframe\"><thead><tr><th>id</th><th>friends</th><th>count</th></tr><tr><td>u64</td><td>list[u32]</td><td>u32</td></tr></thead><tbody><tr><td>0</td><td>[0, 1728]</td><td>2</td></tr><tr><td>1</td><td>[1, 827]</td><td>2</td></tr><tr><td>2</td><td>[2, 679]</td><td>2</td></tr><tr><td>3</td><td>[3, 1618, … 137]</td><td>4</td></tr><tr><td>4</td><td>[4, 341, … 871]</td><td>4</td></tr></tbody></table></div>"
      ],
      "text/plain": [
       "shape: (5, 3)\n",
       "┌─────┬──────────────────┬───────┐\n",
       "│ id  ┆ friends          ┆ count │\n",
       "│ --- ┆ ---              ┆ ---   │\n",
       "│ u64 ┆ list[u32]        ┆ u32   │\n",
       "╞═════╪══════════════════╪═══════╡\n",
       "│ 0   ┆ [0, 1728]        ┆ 2     │\n",
       "│ 1   ┆ [1, 827]         ┆ 2     │\n",
       "│ 2   ┆ [2, 679]         ┆ 2     │\n",
       "│ 3   ┆ [3, 1618, … 137] ┆ 4     │\n",
       "│ 4   ┆ [4, 341, … 871]  ┆ 4     │\n",
       "└─────┴──────────────────┴───────┘"
      ]
     },
     "execution_count": 51,
     "metadata": {},
     "output_type": "execute_result"
    }
   ],
   "source": [
    "friends = df.select(\n",
    "    pl.col(\"id\").cast(pl.UInt64),\n",
    "    pds.query_radius_ptwise(\n",
    "        # Columns used as the coordinates in n-d space\n",
    "        pl.col(\"var1\"), pl.col(\"var2\"), \n",
    "        index=pl.col(\"id\"),\n",
    "        r = 0.02, \n",
    "        dist = \"l2\",\n",
    "    ).alias(\"friends\")\n",
    ").with_columns(\n",
    "    pl.col(\"friends\").list.len().alias(\"count\")\n",
    ")\n",
    "friends.head()"
   ]
  },
  {
   "cell_type": "markdown",
   "id": "9f8eabf1",
   "metadata": {},
   "source": [
    "# String Nearest Neighbors\n",
    "\n",
    "This might be very slow for very large vocab / column."
   ]
  },
  {
   "cell_type": "code",
   "execution_count": 52,
   "id": "f2c9ed80",
   "metadata": {},
   "outputs": [],
   "source": [
    "df = pl.DataFrame({\n",
    "    \"a\":[\"AAAAA\", \"ABCABC\", \"AAAADDD\", \"ADSDSDS\", \"WORD\"],\n",
    "    \"b\":[\"AAAAT\", \"ABCACD\", \"ADSSD\", \"APPLES\", \"WORLD\"] \n",
    "})"
   ]
  },
  {
   "cell_type": "code",
   "execution_count": 53,
   "id": "062fd694",
   "metadata": {},
   "outputs": [
    {
     "data": {
      "text/html": [
       "<div><style>\n",
       ".dataframe > thead > tr,\n",
       ".dataframe > tbody > tr {\n",
       "  text-align: right;\n",
       "  white-space: pre-wrap;\n",
       "}\n",
       "</style>\n",
       "<small>shape: (5, 1)</small><table border=\"1\" class=\"dataframe\"><thead><tr><th>similar_words_from_vocab</th></tr><tr><td>str</td></tr></thead><tbody><tr><td>&quot;AAAAT&quot;</td></tr><tr><td>&quot;ABCACD&quot;</td></tr><tr><td>&quot;AAAAT&quot;</td></tr><tr><td>&quot;ADSSD&quot;</td></tr><tr><td>&quot;WORLD&quot;</td></tr></tbody></table></div>"
      ],
      "text/plain": [
       "shape: (5, 1)\n",
       "┌──────────────────────────┐\n",
       "│ similar_words_from_vocab │\n",
       "│ ---                      │\n",
       "│ str                      │\n",
       "╞══════════════════════════╡\n",
       "│ AAAAT                    │\n",
       "│ ABCACD                   │\n",
       "│ AAAAT                    │\n",
       "│ ADSSD                    │\n",
       "│ WORLD                    │\n",
       "└──────────────────────────┘"
      ]
     },
     "execution_count": 53,
     "metadata": {},
     "output_type": "execute_result"
    }
   ],
   "source": [
    "# Use Levenshtein to find the nearest neighbor in vocab to word in column a\n",
    "df.select(\n",
    "    pds.query_similar_words(\n",
    "        \"a\",\n",
    "        vocab = pl.col(\"b\"),\n",
    "        k = 1, \n",
    "        metric = \"lv\"\n",
    "    ).alias(\"similar_words_from_vocab\"),\n",
    ")"
   ]
  },
  {
   "cell_type": "code",
   "execution_count": 54,
   "id": "29437b8b",
   "metadata": {},
   "outputs": [
    {
     "data": {
      "text/html": [
       "<div><style>\n",
       ".dataframe > thead > tr,\n",
       ".dataframe > tbody > tr {\n",
       "  text-align: right;\n",
       "  white-space: pre-wrap;\n",
       "}\n",
       "</style>\n",
       "<small>shape: (5, 1)</small><table border=\"1\" class=\"dataframe\"><thead><tr><th>similar_words_from_vocab</th></tr><tr><td>list[str]</td></tr></thead><tbody><tr><td>[&quot;AAAAT&quot;, &quot;ADSSD&quot;]</td></tr><tr><td>[&quot;ABCACD&quot;, &quot;AAAAT&quot;]</td></tr><tr><td>[&quot;AAAAT&quot;, &quot;ABCACD&quot;]</td></tr><tr><td>[&quot;ADSSD&quot;, &quot;APPLES&quot;]</td></tr><tr><td>[&quot;WORLD&quot;, &quot;ADSSD&quot;]</td></tr></tbody></table></div>"
      ],
      "text/plain": [
       "shape: (5, 1)\n",
       "┌──────────────────────────┐\n",
       "│ similar_words_from_vocab │\n",
       "│ ---                      │\n",
       "│ list[str]                │\n",
       "╞══════════════════════════╡\n",
       "│ [\"AAAAT\", \"ADSSD\"]       │\n",
       "│ [\"ABCACD\", \"AAAAT\"]      │\n",
       "│ [\"AAAAT\", \"ABCACD\"]      │\n",
       "│ [\"ADSSD\", \"APPLES\"]      │\n",
       "│ [\"WORLD\", \"ADSSD\"]       │\n",
       "└──────────────────────────┘"
      ]
     },
     "execution_count": 54,
     "metadata": {},
     "output_type": "execute_result"
    }
   ],
   "source": [
    "# Use Levenshtein to find 2 nearest neighbors\n",
    "df.select(\n",
    "    pds.query_similar_words(\n",
    "        \"a\",\n",
    "        vocab = pl.col(\"b\"),\n",
    "        k = 2, \n",
    "        metric = \"lv\"\n",
    "    ).alias(\"similar_words_from_vocab\"),\n",
    ")"
   ]
  },
  {
   "cell_type": "code",
   "execution_count": 55,
   "id": "9150bece",
   "metadata": {},
   "outputs": [
    {
     "data": {
      "text/html": [
       "<div><style>\n",
       ".dataframe > thead > tr,\n",
       ".dataframe > tbody > tr {\n",
       "  text-align: right;\n",
       "  white-space: pre-wrap;\n",
       "}\n",
       "</style>\n",
       "<small>shape: (5, 1)</small><table border=\"1\" class=\"dataframe\"><thead><tr><th>similar_words_from_vocab</th></tr><tr><td>list[str]</td></tr></thead><tbody><tr><td>[&quot;AAAAT&quot;, &quot;ADSSD&quot;]</td></tr><tr><td>[&quot;ABCACD&quot;]</td></tr><tr><td>[]</td></tr><tr><td>[]</td></tr><tr><td>[]</td></tr></tbody></table></div>"
      ],
      "text/plain": [
       "shape: (5, 1)\n",
       "┌──────────────────────────┐\n",
       "│ similar_words_from_vocab │\n",
       "│ ---                      │\n",
       "│ list[str]                │\n",
       "╞══════════════════════════╡\n",
       "│ [\"AAAAT\", \"ADSSD\"]       │\n",
       "│ [\"ABCACD\"]               │\n",
       "│ []                       │\n",
       "│ []                       │\n",
       "│ []                       │\n",
       "└──────────────────────────┘"
      ]
     },
     "execution_count": 55,
     "metadata": {},
     "output_type": "execute_result"
    }
   ],
   "source": [
    "# Currently only Levenshtein and hamming are implemented for this\n",
    "# Empty means nothing in vocab can be compared in the hamming sense with the corresponding word in a\n",
    "df.select(\n",
    "    pds.query_similar_words(\n",
    "        \"a\",\n",
    "        vocab = pl.col(\"b\"),\n",
    "        k = 2, \n",
    "        threshold = 4,\n",
    "        metric = \"hamming\"\n",
    "    ).alias(\"similar_words_from_vocab\"),\n",
    ")"
   ]
  },
  {
   "cell_type": "code",
   "execution_count": 56,
   "id": "b35776a1",
   "metadata": {},
   "outputs": [
    {
     "data": {
      "text/html": [
       "<div><style>\n",
       ".dataframe > thead > tr,\n",
       ".dataframe > tbody > tr {\n",
       "  text-align: right;\n",
       "  white-space: pre-wrap;\n",
       "}\n",
       "</style>\n",
       "<small>shape: (5, 2)</small><table border=\"1\" class=\"dataframe\"><thead><tr><th>a</th><th>similar_words_from_vocab</th></tr><tr><td>str</td><td>list[str]</td></tr></thead><tbody><tr><td>&quot;AAAAA&quot;</td><td>[&quot;AAAAA&quot;, &quot;ZIV&quot;, &quot;WORLD&quot;]</td></tr><tr><td>&quot;ABCABC&quot;</td><td>[&quot;ABCDEFG&quot;, &quot;AAAAA&quot;, &quot;ZIV&quot;]</td></tr><tr><td>&quot;AAAADDD&quot;</td><td>[&quot;AAAAA&quot;, &quot;WORLD&quot;, &quot;ABCDEFG&quot;]</td></tr><tr><td>&quot;ADSDSDS&quot;</td><td>[&quot;ABCDEFG&quot;, &quot;WORLD&quot;, &quot;AAAAA&quot;]</td></tr><tr><td>&quot;WORD&quot;</td><td>[&quot;WORLD&quot;, &quot;ZIV&quot;, &quot;TQQQ&quot;]</td></tr></tbody></table></div>"
      ],
      "text/plain": [
       "shape: (5, 2)\n",
       "┌─────────┬───────────────────────────────┐\n",
       "│ a       ┆ similar_words_from_vocab      │\n",
       "│ ---     ┆ ---                           │\n",
       "│ str     ┆ list[str]                     │\n",
       "╞═════════╪═══════════════════════════════╡\n",
       "│ AAAAA   ┆ [\"AAAAA\", \"ZIV\", \"WORLD\"]     │\n",
       "│ ABCABC  ┆ [\"ABCDEFG\", \"AAAAA\", \"ZIV\"]   │\n",
       "│ AAAADDD ┆ [\"AAAAA\", \"WORLD\", \"ABCDEFG\"] │\n",
       "│ ADSDSDS ┆ [\"ABCDEFG\", \"WORLD\", \"AAAAA\"] │\n",
       "│ WORD    ┆ [\"WORLD\", \"ZIV\", \"TQQQ\"]      │\n",
       "└─────────┴───────────────────────────────┘"
      ]
     },
     "execution_count": 56,
     "metadata": {},
     "output_type": "execute_result"
    }
   ],
   "source": [
    "# You may provide a vocab like this\n",
    "df.select(\n",
    "    pl.col(\"a\"),\n",
    "    pds.query_similar_words(\n",
    "        \"a\",\n",
    "        vocab = [\"WORLD\", \"AAAAA\", \"ABCDEFG\", \"ZIV\", \"TQQQ\"],\n",
    "        k = 3, \n",
    "        metric = \"lv\"\n",
    "    ).alias(\"similar_words_from_vocab\"),\n",
    ")"
   ]
  },
  {
   "cell_type": "markdown",
   "id": "98264a05",
   "metadata": {},
   "source": [
    "# Using PDS Expressions On Series / NumPy arrays"
   ]
  },
  {
   "cell_type": "code",
   "execution_count": 57,
   "id": "0a42a771",
   "metadata": {},
   "outputs": [
    {
     "data": {
      "text/html": [
       "<div><style>\n",
       ".dataframe > thead > tr,\n",
       ".dataframe > tbody > tr {\n",
       "  text-align: right;\n",
       "  white-space: pre-wrap;\n",
       "}\n",
       "</style>\n",
       "<small>shape: (5, 4)</small><table border=\"1\" class=\"dataframe\"><thead><tr><th>actual</th><th>predicted</th><th>0-2</th><th>0-9</th></tr><tr><td>f64</td><td>f64</td><td>i32</td><td>i32</td></tr></thead><tbody><tr><td>1.0</td><td>0.184754</td><td>0</td><td>0</td></tr><tr><td>0.0</td><td>0.332776</td><td>2</td><td>3</td></tr><tr><td>1.0</td><td>0.54619</td><td>2</td><td>2</td></tr><tr><td>1.0</td><td>0.41849</td><td>0</td><td>8</td></tr><tr><td>1.0</td><td>0.504009</td><td>1</td><td>0</td></tr></tbody></table></div>"
      ],
      "text/plain": [
       "shape: (5, 4)\n",
       "┌────────┬───────────┬─────┬─────┐\n",
       "│ actual ┆ predicted ┆ 0-2 ┆ 0-9 │\n",
       "│ ---    ┆ ---       ┆ --- ┆ --- │\n",
       "│ f64    ┆ f64       ┆ i32 ┆ i32 │\n",
       "╞════════╪═══════════╪═════╪═════╡\n",
       "│ 1.0    ┆ 0.184754  ┆ 0   ┆ 0   │\n",
       "│ 0.0    ┆ 0.332776  ┆ 2   ┆ 3   │\n",
       "│ 1.0    ┆ 0.54619   ┆ 2   ┆ 2   │\n",
       "│ 1.0    ┆ 0.41849   ┆ 0   ┆ 8   │\n",
       "│ 1.0    ┆ 0.504009  ┆ 1   ┆ 0   │\n",
       "└────────┴───────────┴─────┴─────┘"
      ]
     },
     "execution_count": 57,
     "metadata": {},
     "output_type": "execute_result"
    }
   ],
   "source": [
    "df = pds.frame(size=100_000).select(\n",
    "    pds.random(0.0, 1.0).round().alias(\"actual\"),\n",
    "    pds.random(0.0, 1.0).alias(\"predicted\"),\n",
    "    pds.random_int(0, 3).alias(\"0-2\"),\n",
    "    pds.random_int(0, 10).alias(\"0-9\"),\n",
    ")\n",
    "df.head()"
   ]
  },
  {
   "cell_type": "code",
   "execution_count": 58,
   "id": "70830d04",
   "metadata": {},
   "outputs": [
    {
     "data": {
      "text/html": [
       "<div><style>\n",
       ".dataframe > thead > tr,\n",
       ".dataframe > tbody > tr {\n",
       "  text-align: right;\n",
       "  white-space: pre-wrap;\n",
       "}\n",
       "</style>\n",
       "<small>shape: (1, 1)</small><table border=\"1\" class=\"dataframe\"><thead><tr><th>jaccard_col</th></tr><tr><td>f64</td></tr></thead><tbody><tr><td>0.3</td></tr></tbody></table></div>"
      ],
      "text/plain": [
       "shape: (1, 1)\n",
       "┌─────────────┐\n",
       "│ jaccard_col │\n",
       "│ ---         │\n",
       "│ f64         │\n",
       "╞═════════════╡\n",
       "│ 0.3         │\n",
       "└─────────────┘"
      ]
     },
     "execution_count": 58,
     "metadata": {},
     "output_type": "execute_result"
    }
   ],
   "source": [
    "pds.eval_series(\n",
    "    df[\"0-2\"], df[\"0-9\"], # use series as args\n",
    "    expr = \"query_jaccard_col\" # name of the pds expression\n",
    ")"
   ]
  },
  {
   "cell_type": "code",
   "execution_count": 59,
   "id": "e8c6d51b",
   "metadata": {},
   "outputs": [
    {
     "data": {
      "text/html": [
       "<div><style>\n",
       ".dataframe > thead > tr,\n",
       ".dataframe > tbody > tr {\n",
       "  text-align: right;\n",
       "  white-space: pre-wrap;\n",
       "}\n",
       "</style>\n",
       "<small>shape: (1, 5)</small><table border=\"1\" class=\"dataframe\"><thead><tr><th>precision</th><th>recall</th><th>f</th><th>average_precision</th><th>roc_auc</th></tr><tr><td>f64</td><td>f64</td><td>f64</td><td>f64</td><td>f64</td></tr></thead><tbody><tr><td>0.498474</td><td>0.498293</td><td>0.498384</td><td>0.498171</td><td>0.500488</td></tr></tbody></table></div>"
      ],
      "text/plain": [
       "shape: (1, 5)\n",
       "┌───────────┬──────────┬──────────┬───────────────────┬──────────┐\n",
       "│ precision ┆ recall   ┆ f        ┆ average_precision ┆ roc_auc  │\n",
       "│ ---       ┆ ---      ┆ ---      ┆ ---               ┆ ---      │\n",
       "│ f64       ┆ f64      ┆ f64      ┆ f64               ┆ f64      │\n",
       "╞═══════════╪══════════╪══════════╪═══════════════════╪══════════╡\n",
       "│ 0.498474  ┆ 0.498293 ┆ 0.498384 ┆ 0.498171          ┆ 0.500488 │\n",
       "└───────────┴──────────┴──────────┴───────────────────┴──────────┘"
      ]
     },
     "execution_count": 59,
     "metadata": {},
     "output_type": "execute_result"
    }
   ],
   "source": [
    "pds.eval_series(\n",
    "    df[\"actual\"], df[\"predicted\"], # use series as args\n",
    "    expr = \"query_binary_metrics\" # name of the pds expression\n",
    ").unnest(\"binary_metrics\")"
   ]
  },
  {
   "cell_type": "code",
   "execution_count": 60,
   "id": "9d15fc63",
   "metadata": {},
   "outputs": [
    {
     "data": {
      "text/html": [
       "<div><style>\n",
       ".dataframe > thead > tr,\n",
       ".dataframe > tbody > tr {\n",
       "  text-align: right;\n",
       "  white-space: pre-wrap;\n",
       "}\n",
       "</style>\n",
       "<small>shape: (5, 4)</small><table border=\"1\" class=\"dataframe\"><thead><tr><th>cnt&lt;=</th><th>baseline_pct</th><th>actual_pct</th><th>psi_bin</th></tr><tr><td>f64</td><td>f64</td><td>f64</td><td>f64</td></tr></thead><tbody><tr><td>0.183927</td><td>0.2</td><td>0.182</td><td>0.001698</td></tr><tr><td>0.383886</td><td>0.2</td><td>0.23</td><td>0.004193</td></tr><tr><td>0.583203</td><td>0.2</td><td>0.185</td><td>0.001169</td></tr><tr><td>0.788215</td><td>0.2</td><td>0.195</td><td>0.000127</td></tr><tr><td>inf</td><td>0.2</td><td>0.208</td><td>0.000314</td></tr></tbody></table></div>"
      ],
      "text/plain": [
       "shape: (5, 4)\n",
       "┌──────────┬──────────────┬────────────┬──────────┐\n",
       "│ cnt<=    ┆ baseline_pct ┆ actual_pct ┆ psi_bin  │\n",
       "│ ---      ┆ ---          ┆ ---        ┆ ---      │\n",
       "│ f64      ┆ f64          ┆ f64        ┆ f64      │\n",
       "╞══════════╪══════════════╪════════════╪══════════╡\n",
       "│ 0.183927 ┆ 0.2          ┆ 0.182      ┆ 0.001698 │\n",
       "│ 0.383886 ┆ 0.2          ┆ 0.23       ┆ 0.004193 │\n",
       "│ 0.583203 ┆ 0.2          ┆ 0.185      ┆ 0.001169 │\n",
       "│ 0.788215 ┆ 0.2          ┆ 0.195      ┆ 0.000127 │\n",
       "│ inf      ┆ 0.2          ┆ 0.208      ┆ 0.000314 │\n",
       "└──────────┴──────────────┴────────────┴──────────┘"
      ]
     },
     "execution_count": 60,
     "metadata": {},
     "output_type": "execute_result"
    }
   ],
   "source": [
    "pds.eval_series(\n",
    "    # can also use NumPy\n",
    "    np.random.random(size = 1000), \n",
    "    np.random.random(size = 1000), \n",
    "    expr = \"query_psi\", # name of the pds expression\n",
    "    n_bins = 5, \n",
    "    return_report = True\n",
    ").unnest(\"psi\")"
   ]
  },
  {
   "cell_type": "code",
   "execution_count": 61,
   "id": "8c5c3fee",
   "metadata": {},
   "outputs": [
    {
     "data": {
      "text/html": [
       "<div><style>\n",
       ".dataframe > thead > tr,\n",
       ".dataframe > tbody > tr {\n",
       "  text-align: right;\n",
       "  white-space: pre-wrap;\n",
       "}\n",
       "</style>\n",
       "<small>shape: (1, 1)</small><table border=\"1\" class=\"dataframe\"><thead><tr><th>cid_ce</th></tr><tr><td>f64</td></tr></thead><tbody><tr><td>12.759065</td></tr></tbody></table></div>"
      ],
      "text/plain": [
       "shape: (1, 1)\n",
       "┌───────────┐\n",
       "│ cid_ce    │\n",
       "│ ---       │\n",
       "│ f64       │\n",
       "╞═══════════╡\n",
       "│ 12.759065 │\n",
       "└───────────┘"
      ]
     },
     "execution_count": 61,
     "metadata": {},
     "output_type": "execute_result"
    }
   ],
   "source": [
    "pds.eval_series(\n",
    "    np.random.random(size = 1000), \n",
    "    expr = \"query_cid_ce\", # name of the pds expression\n",
    ")"
   ]
  },
  {
   "cell_type": "code",
   "execution_count": 62,
   "id": "b0c14067",
   "metadata": {},
   "outputs": [
    {
     "data": {
      "text/html": [
       "<div><style>\n",
       ".dataframe > thead > tr,\n",
       ".dataframe > tbody > tr {\n",
       "  text-align: right;\n",
       "  white-space: pre-wrap;\n",
       "}\n",
       "</style>\n",
       "<small>shape: (1, 1)</small><table border=\"1\" class=\"dataframe\"><thead><tr><th>c3_stats</th></tr><tr><td>f64</td></tr></thead><tbody><tr><td>0.123318</td></tr></tbody></table></div>"
      ],
      "text/plain": [
       "shape: (1, 1)\n",
       "┌──────────┐\n",
       "│ c3_stats │\n",
       "│ ---      │\n",
       "│ f64      │\n",
       "╞══════════╡\n",
       "│ 0.123318 │\n",
       "└──────────┘"
      ]
     },
     "execution_count": 62,
     "metadata": {},
     "output_type": "execute_result"
    }
   ],
   "source": [
    "pds.eval_series(\n",
    "    pl.Series(values=np.random.random(size = 1000)), \n",
    "    expr = \"query_c3_stats\", # name of the pds expression\n",
    "    lag = 3\n",
    ")"
   ]
  },
  {
   "cell_type": "markdown",
   "id": "bc7ee650",
   "metadata": {},
   "source": [
    "# Examples using Ball Tree Features"
   ]
  },
  {
   "cell_type": "code",
   "execution_count": 65,
   "id": "cc89e553",
   "metadata": {},
   "outputs": [
    {
     "data": {
      "text/html": [
       "<div><style>\n",
       ".dataframe > thead > tr,\n",
       ".dataframe > tbody > tr {\n",
       "  text-align: right;\n",
       "  white-space: pre-wrap;\n",
       "}\n",
       "</style>\n",
       "<small>shape: (5, 13)</small><table border=\"1\" class=\"dataframe\"><thead><tr><th>f</th><th>time_idx</th><th>dummy</th><th>actual</th><th>predicted</th><th>dummy_groups</th><th>x1</th><th>x2</th><th>x3</th><th>a</th><th>b</th><th>y</th><th>index</th></tr><tr><td>f64</td><td>i64</td><td>str</td><td>i32</td><td>f64</td><td>str</td><td>f64</td><td>f64</td><td>f64</td><td>f64</td><td>f64</td><td>f64</td><td>u32</td></tr></thead><tbody><tr><td>0.0</td><td>0</td><td>&quot;a&quot;</td><td>0</td><td>0.491635</td><td>&quot;a&quot;</td><td>0.711689</td><td>0.624497</td><td>0.03681</td><td>0.51618</td><td>0.714925</td><td>0.238894</td><td>0</td></tr><tr><td>0.841471</td><td>1</td><td>&quot;a&quot;</td><td>1</td><td>0.01081</td><td>&quot;a&quot;</td><td>0.990379</td><td>0.273985</td><td>0.691863</td><td>0.448978</td><td>0.258321</td><td>-0.806979</td><td>1</td></tr><tr><td>0.909297</td><td>2</td><td>&quot;a&quot;</td><td>1</td><td>0.016883</td><td>&quot;a&quot;</td><td>0.079827</td><td>0.349622</td><td>0.012541</td><td>0.348881</td><td>0.60795</td><td>0.098134</td><td>2</td></tr><tr><td>0.14112</td><td>3</td><td>&quot;a&quot;</td><td>1</td><td>0.738627</td><td>&quot;a&quot;</td><td>0.983878</td><td>0.342483</td><td>0.915068</td><td>0.722341</td><td>0.762508</td><td>-1.122252</td><td>3</td></tr><tr><td>-0.756802</td><td>4</td><td>&quot;a&quot;</td><td>0</td><td>0.596465</td><td>&quot;a&quot;</td><td>0.760799</td><td>0.309211</td><td>0.687014</td><td>0.656174</td><td>0.942946</td><td>-0.82356</td><td>4</td></tr></tbody></table></div>"
      ],
      "text/plain": [
       "shape: (5, 13)\n",
       "┌───────────┬──────────┬───────┬────────┬───┬──────────┬──────────┬───────────┬───────┐\n",
       "│ f         ┆ time_idx ┆ dummy ┆ actual ┆ … ┆ a        ┆ b        ┆ y         ┆ index │\n",
       "│ ---       ┆ ---      ┆ ---   ┆ ---    ┆   ┆ ---      ┆ ---      ┆ ---       ┆ ---   │\n",
       "│ f64       ┆ i64      ┆ str   ┆ i32    ┆   ┆ f64      ┆ f64      ┆ f64       ┆ u32   │\n",
       "╞═══════════╪══════════╪═══════╪════════╪═══╪══════════╪══════════╪═══════════╪═══════╡\n",
       "│ 0.0       ┆ 0        ┆ a     ┆ 0      ┆ … ┆ 0.51618  ┆ 0.714925 ┆ 0.238894  ┆ 0     │\n",
       "│ 0.841471  ┆ 1        ┆ a     ┆ 1      ┆ … ┆ 0.448978 ┆ 0.258321 ┆ -0.806979 ┆ 1     │\n",
       "│ 0.909297  ┆ 2        ┆ a     ┆ 1      ┆ … ┆ 0.348881 ┆ 0.60795  ┆ 0.098134  ┆ 2     │\n",
       "│ 0.14112   ┆ 3        ┆ a     ┆ 1      ┆ … ┆ 0.722341 ┆ 0.762508 ┆ -1.122252 ┆ 3     │\n",
       "│ -0.756802 ┆ 4        ┆ a     ┆ 0      ┆ … ┆ 0.656174 ┆ 0.942946 ┆ -0.82356  ┆ 4     │\n",
       "└───────────┴──────────┴───────┴────────┴───┴──────────┴──────────┴───────────┴───────┘"
      ]
     },
     "execution_count": 65,
     "metadata": {},
     "output_type": "execute_result"
    }
   ],
   "source": [
    "size = 1_000\n",
    "df = pl.DataFrame({\n",
    "    \"f\": np.sin(list(range(size)))\n",
    "    , \"time_idx\": range(size)\n",
    "    , \"dummy\": [\"a\"] * (size // 2) + [\"b\"] * (size // 2)\n",
    "    , \"actual\": np.round(np.random.random(size=size)).astype(np.int32)\n",
    "    , \"predicted\": np.random.random(size=size)\n",
    "    , \"dummy_groups\":[\"a\"] * (size//2) + [\"b\"] * (size//2) \n",
    "}).with_columns(\n",
    "    pds.random(0., 1.).alias(\"x1\")\n",
    "    , pds.random(0., 1.).alias(\"x2\")\n",
    "    , pds.random(0., 1.).alias(\"x3\")\n",
    "    , pds.random(0., 1.).alias(\"a\")\n",
    "    , pds.random(0., 1.).alias(\"b\")\n",
    ").with_columns(\n",
    "    y = pl.col(\"x1\") * 0.15 + pl.col(\"x2\") * 0.3 - pl.col(\"x3\") * 1.5 + pds.random() * 0.0001\n",
    ")\n",
    "df = df.with_columns(pl.int_range(0, size).cast(dtype=pl.UInt32).alias(\"index\"))\n",
    "df.head()"
   ]
  },
  {
   "cell_type": "code",
   "execution_count": 66,
   "id": "728a9bc1",
   "metadata": {},
   "outputs": [
    {
     "data": {
      "text/html": [
       "<div><style>\n",
       ".dataframe > thead > tr,\n",
       ".dataframe > tbody > tr {\n",
       "  text-align: right;\n",
       "  white-space: pre-wrap;\n",
       "}\n",
       "</style>\n",
       "<small>shape: (1_000, 14)</small><table border=\"1\" class=\"dataframe\"><thead><tr><th>f</th><th>time_idx</th><th>dummy</th><th>actual</th><th>predicted</th><th>dummy_groups</th><th>x1</th><th>x2</th><th>x3</th><th>a</th><th>b</th><th>y</th><th>index</th><th>ball_tree_knn_ptwise</th></tr><tr><td>f64</td><td>i64</td><td>str</td><td>i32</td><td>f64</td><td>str</td><td>f64</td><td>f64</td><td>f64</td><td>f64</td><td>f64</td><td>f64</td><td>u32</td><td>list[u32]</td></tr></thead><tbody><tr><td>0.0</td><td>0</td><td>&quot;a&quot;</td><td>0</td><td>0.491635</td><td>&quot;a&quot;</td><td>0.711689</td><td>0.624497</td><td>0.03681</td><td>0.51618</td><td>0.714925</td><td>0.238894</td><td>0</td><td>[0, 309, … 383]</td></tr><tr><td>0.841471</td><td>1</td><td>&quot;a&quot;</td><td>1</td><td>0.01081</td><td>&quot;a&quot;</td><td>0.990379</td><td>0.273985</td><td>0.691863</td><td>0.448978</td><td>0.258321</td><td>-0.806979</td><td>1</td><td>[1, 215, … 4]</td></tr><tr><td>0.909297</td><td>2</td><td>&quot;a&quot;</td><td>1</td><td>0.016883</td><td>&quot;a&quot;</td><td>0.079827</td><td>0.349622</td><td>0.012541</td><td>0.348881</td><td>0.60795</td><td>0.098134</td><td>2</td><td>[2, 837, … 213]</td></tr><tr><td>0.14112</td><td>3</td><td>&quot;a&quot;</td><td>1</td><td>0.738627</td><td>&quot;a&quot;</td><td>0.983878</td><td>0.342483</td><td>0.915068</td><td>0.722341</td><td>0.762508</td><td>-1.122252</td><td>3</td><td>[3, 366, … 78]</td></tr><tr><td>-0.756802</td><td>4</td><td>&quot;a&quot;</td><td>0</td><td>0.596465</td><td>&quot;a&quot;</td><td>0.760799</td><td>0.309211</td><td>0.687014</td><td>0.656174</td><td>0.942946</td><td>-0.82356</td><td>4</td><td>[4, 196, … 942]</td></tr><tr><td>&hellip;</td><td>&hellip;</td><td>&hellip;</td><td>&hellip;</td><td>&hellip;</td><td>&hellip;</td><td>&hellip;</td><td>&hellip;</td><td>&hellip;</td><td>&hellip;</td><td>&hellip;</td><td>&hellip;</td><td>&hellip;</td><td>&hellip;</td></tr><tr><td>0.773833</td><td>995</td><td>&quot;b&quot;</td><td>0</td><td>0.81024</td><td>&quot;b&quot;</td><td>0.808594</td><td>0.798673</td><td>0.776158</td><td>0.799283</td><td>0.96809</td><td>-0.80334</td><td>995</td><td>[995, 234, … 915]</td></tr><tr><td>-0.114875</td><td>996</td><td>&quot;b&quot;</td><td>0</td><td>0.435576</td><td>&quot;b&quot;</td><td>0.182852</td><td>0.952257</td><td>0.663921</td><td>0.68566</td><td>0.079458</td><td>-0.682739</td><td>996</td><td>[996, 490, … 827]</td></tr><tr><td>-0.897967</td><td>997</td><td>&quot;b&quot;</td><td>1</td><td>0.799476</td><td>&quot;b&quot;</td><td>0.131082</td><td>0.389023</td><td>0.65403</td><td>0.669834</td><td>0.847043</td><td>-0.844666</td><td>997</td><td>[997, 456, … 116]</td></tr><tr><td>-0.855473</td><td>998</td><td>&quot;b&quot;</td><td>1</td><td>0.12903</td><td>&quot;b&quot;</td><td>0.794842</td><td>0.794882</td><td>0.297178</td><td>0.113799</td><td>0.990062</td><td>-0.088007</td><td>998</td><td>[998, 769, … 321]</td></tr><tr><td>-0.026461</td><td>999</td><td>&quot;b&quot;</td><td>1</td><td>0.209619</td><td>&quot;b&quot;</td><td>0.547187</td><td>0.21612</td><td>0.006355</td><td>0.131024</td><td>0.038085</td><td>0.137398</td><td>999</td><td>[999, 107, … 586]</td></tr></tbody></table></div>"
      ],
      "text/plain": [
       "shape: (1_000, 14)\n",
       "┌───────────┬──────────┬───────┬────────┬───┬──────────┬───────────┬───────┬──────────────────────┐\n",
       "│ f         ┆ time_idx ┆ dummy ┆ actual ┆ … ┆ b        ┆ y         ┆ index ┆ ball_tree_knn_ptwise │\n",
       "│ ---       ┆ ---      ┆ ---   ┆ ---    ┆   ┆ ---      ┆ ---       ┆ ---   ┆ ---                  │\n",
       "│ f64       ┆ i64      ┆ str   ┆ i32    ┆   ┆ f64      ┆ f64       ┆ u32   ┆ list[u32]            │\n",
       "╞═══════════╪══════════╪═══════╪════════╪═══╪══════════╪═══════════╪═══════╪══════════════════════╡\n",
       "│ 0.0       ┆ 0        ┆ a     ┆ 0      ┆ … ┆ 0.714925 ┆ 0.238894  ┆ 0     ┆ [0, 309, … 383]      │\n",
       "│ 0.841471  ┆ 1        ┆ a     ┆ 1      ┆ … ┆ 0.258321 ┆ -0.806979 ┆ 1     ┆ [1, 215, … 4]        │\n",
       "│ 0.909297  ┆ 2        ┆ a     ┆ 1      ┆ … ┆ 0.60795  ┆ 0.098134  ┆ 2     ┆ [2, 837, … 213]      │\n",
       "│ 0.14112   ┆ 3        ┆ a     ┆ 1      ┆ … ┆ 0.762508 ┆ -1.122252 ┆ 3     ┆ [3, 366, … 78]       │\n",
       "│ -0.756802 ┆ 4        ┆ a     ┆ 0      ┆ … ┆ 0.942946 ┆ -0.82356  ┆ 4     ┆ [4, 196, … 942]      │\n",
       "│ …         ┆ …        ┆ …     ┆ …      ┆ … ┆ …        ┆ …         ┆ …     ┆ …                    │\n",
       "│ 0.773833  ┆ 995      ┆ b     ┆ 0      ┆ … ┆ 0.96809  ┆ -0.80334  ┆ 995   ┆ [995, 234, … 915]    │\n",
       "│ -0.114875 ┆ 996      ┆ b     ┆ 0      ┆ … ┆ 0.079458 ┆ -0.682739 ┆ 996   ┆ [996, 490, … 827]    │\n",
       "│ -0.897967 ┆ 997      ┆ b     ┆ 1      ┆ … ┆ 0.847043 ┆ -0.844666 ┆ 997   ┆ [997, 456, … 116]    │\n",
       "│ -0.855473 ┆ 998      ┆ b     ┆ 1      ┆ … ┆ 0.990062 ┆ -0.088007 ┆ 998   ┆ [998, 769, … 321]    │\n",
       "│ -0.026461 ┆ 999      ┆ b     ┆ 1      ┆ … ┆ 0.038085 ┆ 0.137398  ┆ 999   ┆ [999, 107, … 586]    │\n",
       "└───────────┴──────────┴───────┴────────┴───┴──────────┴───────────┴───────┴──────────────────────┘"
      ]
     },
     "execution_count": 66,
     "metadata": {},
     "output_type": "execute_result"
    }
   ],
   "source": [
    "# Pointwise Nearest Neighbors\n",
    "df.with_columns(\n",
    "    pds.query_bt_knn_ptwise(\n",
    "        pl.col(\"x2\"), \n",
    "        pl.col(\"x3\"), \n",
    "        index=pl.col(\"index\"),\n",
    "        r=999.0,\n",
    "        k =5,\n",
    "        distance_metric=\"haversine\",\n",
    "        parallel=True).alias(\"ball_tree_knn_ptwise\")\n",
    ")"
   ]
  },
  {
   "cell_type": "code",
   "execution_count": 68,
   "id": "74f1e763",
   "metadata": {},
   "outputs": [
    {
     "data": {
      "text/html": [
       "<div><style>\n",
       ".dataframe > thead > tr,\n",
       ".dataframe > tbody > tr {\n",
       "  text-align: right;\n",
       "  white-space: pre-wrap;\n",
       "}\n",
       "</style>\n",
       "<small>shape: (1_000, 15)</small><table border=\"1\" class=\"dataframe\"><thead><tr><th>f</th><th>time_idx</th><th>dummy</th><th>actual</th><th>predicted</th><th>dummy_groups</th><th>x1</th><th>x2</th><th>x3</th><th>a</th><th>b</th><th>y</th><th>index</th><th>ids</th><th>distances</th></tr><tr><td>f64</td><td>i64</td><td>str</td><td>i32</td><td>f64</td><td>str</td><td>f64</td><td>f64</td><td>f64</td><td>f64</td><td>f64</td><td>f64</td><td>u32</td><td>list[u32]</td><td>list[f64]</td></tr></thead><tbody><tr><td>0.0</td><td>0</td><td>&quot;a&quot;</td><td>0</td><td>0.491635</td><td>&quot;a&quot;</td><td>0.711689</td><td>0.624497</td><td>0.03681</td><td>0.51618</td><td>0.714925</td><td>0.238894</td><td>0</td><td>[0, 309, … 383]</td><td>[0.0, 0.227001, … 4.571094]</td></tr><tr><td>0.841471</td><td>1</td><td>&quot;a&quot;</td><td>1</td><td>0.01081</td><td>&quot;a&quot;</td><td>0.990379</td><td>0.273985</td><td>0.691863</td><td>0.448978</td><td>0.258321</td><td>-0.806979</td><td>1</td><td>[1, 215, … 4]</td><td>[0.0, 0.472495, … 3.953833]</td></tr><tr><td>0.909297</td><td>2</td><td>&quot;a&quot;</td><td>1</td><td>0.016883</td><td>&quot;a&quot;</td><td>0.079827</td><td>0.349622</td><td>0.012541</td><td>0.348881</td><td>0.60795</td><td>0.098134</td><td>2</td><td>[2, 837, … 213]</td><td>[0.0, 0.507418, … 2.867486]</td></tr><tr><td>0.14112</td><td>3</td><td>&quot;a&quot;</td><td>1</td><td>0.738627</td><td>&quot;a&quot;</td><td>0.983878</td><td>0.342483</td><td>0.915068</td><td>0.722341</td><td>0.762508</td><td>-1.122252</td><td>3</td><td>[3, 366, … 78]</td><td>[0.0, 0.094053, … 3.338146]</td></tr><tr><td>-0.756802</td><td>4</td><td>&quot;a&quot;</td><td>0</td><td>0.596465</td><td>&quot;a&quot;</td><td>0.760799</td><td>0.309211</td><td>0.687014</td><td>0.656174</td><td>0.942946</td><td>-0.82356</td><td>4</td><td>[4, 196, … 942]</td><td>[0.0, 2.545978, … 3.247336]</td></tr><tr><td>&hellip;</td><td>&hellip;</td><td>&hellip;</td><td>&hellip;</td><td>&hellip;</td><td>&hellip;</td><td>&hellip;</td><td>&hellip;</td><td>&hellip;</td><td>&hellip;</td><td>&hellip;</td><td>&hellip;</td><td>&hellip;</td><td>&hellip;</td><td>&hellip;</td></tr><tr><td>0.773833</td><td>995</td><td>&quot;b&quot;</td><td>0</td><td>0.81024</td><td>&quot;b&quot;</td><td>0.808594</td><td>0.798673</td><td>0.776158</td><td>0.799283</td><td>0.96809</td><td>-0.80334</td><td>995</td><td>[995, 234, … 915]</td><td>[0.0, 0.762144, … 3.949634]</td></tr><tr><td>-0.114875</td><td>996</td><td>&quot;b&quot;</td><td>0</td><td>0.435576</td><td>&quot;b&quot;</td><td>0.182852</td><td>0.952257</td><td>0.663921</td><td>0.68566</td><td>0.079458</td><td>-0.682739</td><td>996</td><td>[996, 490, … 827]</td><td>[0.0, 0.410204, … 3.064209]</td></tr><tr><td>-0.897967</td><td>997</td><td>&quot;b&quot;</td><td>1</td><td>0.799476</td><td>&quot;b&quot;</td><td>0.131082</td><td>0.389023</td><td>0.65403</td><td>0.669834</td><td>0.847043</td><td>-0.844666</td><td>997</td><td>[997, 456, … 116]</td><td>[0.0, 0.796457, … 4.244226]</td></tr><tr><td>-0.855473</td><td>998</td><td>&quot;b&quot;</td><td>1</td><td>0.12903</td><td>&quot;b&quot;</td><td>0.794842</td><td>0.794882</td><td>0.297178</td><td>0.113799</td><td>0.990062</td><td>-0.088007</td><td>998</td><td>[998, 769, … 321]</td><td>[0.0, 0.507682, … 2.901211]</td></tr><tr><td>-0.026461</td><td>999</td><td>&quot;b&quot;</td><td>1</td><td>0.209619</td><td>&quot;b&quot;</td><td>0.547187</td><td>0.21612</td><td>0.006355</td><td>0.131024</td><td>0.038085</td><td>0.137398</td><td>999</td><td>[999, 107, … 586]</td><td>[0.0, 1.816998, … 2.902915]</td></tr></tbody></table></div>"
      ],
      "text/plain": [
       "shape: (1_000, 15)\n",
       "┌───────────┬──────────┬───────┬────────┬───┬───────────┬───────┬────────────────────┬─────────────┐\n",
       "│ f         ┆ time_idx ┆ dummy ┆ actual ┆ … ┆ y         ┆ index ┆ ids                ┆ distances   │\n",
       "│ ---       ┆ ---      ┆ ---   ┆ ---    ┆   ┆ ---       ┆ ---   ┆ ---                ┆ ---         │\n",
       "│ f64       ┆ i64      ┆ str   ┆ i32    ┆   ┆ f64       ┆ u32   ┆ list[u32]          ┆ list[f64]   │\n",
       "╞═══════════╪══════════╪═══════╪════════╪═══╪═══════════╪═══════╪════════════════════╪═════════════╡\n",
       "│ 0.0       ┆ 0        ┆ a     ┆ 0      ┆ … ┆ 0.238894  ┆ 0     ┆ [0, 309, … 383]    ┆ [0.0,       │\n",
       "│           ┆          ┆       ┆        ┆   ┆           ┆       ┆                    ┆ 0.227001, … │\n",
       "│           ┆          ┆       ┆        ┆   ┆           ┆       ┆                    ┆ 4.571094]   │\n",
       "│ 0.841471  ┆ 1        ┆ a     ┆ 1      ┆ … ┆ -0.806979 ┆ 1     ┆ [1, 215, … 4]      ┆ [0.0,       │\n",
       "│           ┆          ┆       ┆        ┆   ┆           ┆       ┆                    ┆ 0.472495, … │\n",
       "│           ┆          ┆       ┆        ┆   ┆           ┆       ┆                    ┆ 3.953833]   │\n",
       "│ 0.909297  ┆ 2        ┆ a     ┆ 1      ┆ … ┆ 0.098134  ┆ 2     ┆ [2, 837, … 213]    ┆ [0.0,       │\n",
       "│           ┆          ┆       ┆        ┆   ┆           ┆       ┆                    ┆ 0.507418, … │\n",
       "│           ┆          ┆       ┆        ┆   ┆           ┆       ┆                    ┆ 2.867486]   │\n",
       "│ 0.14112   ┆ 3        ┆ a     ┆ 1      ┆ … ┆ -1.122252 ┆ 3     ┆ [3, 366, … 78]     ┆ [0.0,       │\n",
       "│           ┆          ┆       ┆        ┆   ┆           ┆       ┆                    ┆ 0.094053, … │\n",
       "│           ┆          ┆       ┆        ┆   ┆           ┆       ┆                    ┆ 3.338146]   │\n",
       "│ -0.756802 ┆ 4        ┆ a     ┆ 0      ┆ … ┆ -0.82356  ┆ 4     ┆ [4, 196, … 942]    ┆ [0.0,       │\n",
       "│           ┆          ┆       ┆        ┆   ┆           ┆       ┆                    ┆ 2.545978, … │\n",
       "│           ┆          ┆       ┆        ┆   ┆           ┆       ┆                    ┆ 3.247336]   │\n",
       "│ …         ┆ …        ┆ …     ┆ …      ┆ … ┆ …         ┆ …     ┆ …                  ┆ …           │\n",
       "│ 0.773833  ┆ 995      ┆ b     ┆ 0      ┆ … ┆ -0.80334  ┆ 995   ┆ [995, 234, … 915]  ┆ [0.0,       │\n",
       "│           ┆          ┆       ┆        ┆   ┆           ┆       ┆                    ┆ 0.762144, … │\n",
       "│           ┆          ┆       ┆        ┆   ┆           ┆       ┆                    ┆ 3.949634]   │\n",
       "│ -0.114875 ┆ 996      ┆ b     ┆ 0      ┆ … ┆ -0.682739 ┆ 996   ┆ [996, 490, … 827]  ┆ [0.0,       │\n",
       "│           ┆          ┆       ┆        ┆   ┆           ┆       ┆                    ┆ 0.410204, … │\n",
       "│           ┆          ┆       ┆        ┆   ┆           ┆       ┆                    ┆ 3.064209]   │\n",
       "│ -0.897967 ┆ 997      ┆ b     ┆ 1      ┆ … ┆ -0.844666 ┆ 997   ┆ [997, 456, … 116]  ┆ [0.0,       │\n",
       "│           ┆          ┆       ┆        ┆   ┆           ┆       ┆                    ┆ 0.796457, … │\n",
       "│           ┆          ┆       ┆        ┆   ┆           ┆       ┆                    ┆ 4.244226]   │\n",
       "│ -0.855473 ┆ 998      ┆ b     ┆ 1      ┆ … ┆ -0.088007 ┆ 998   ┆ [998, 769, … 321]  ┆ [0.0,       │\n",
       "│           ┆          ┆       ┆        ┆   ┆           ┆       ┆                    ┆ 0.507682, … │\n",
       "│           ┆          ┆       ┆        ┆   ┆           ┆       ┆                    ┆ 2.901211]   │\n",
       "│ -0.026461 ┆ 999      ┆ b     ┆ 1      ┆ … ┆ 0.137398  ┆ 999   ┆ [999, 107, … 586]  ┆ [0.0,       │\n",
       "│           ┆          ┆       ┆        ┆   ┆           ┆       ┆                    ┆ 1.816998, … │\n",
       "│           ┆          ┆       ┆        ┆   ┆           ┆       ┆                    ┆ 2.902915]   │\n",
       "└───────────┴──────────┴───────┴────────┴───┴───────────┴───────┴────────────────────┴─────────────┘"
      ]
     },
     "execution_count": 68,
     "metadata": {},
     "output_type": "execute_result"
    }
   ],
   "source": [
    "# Pointwise Nearest Neighbors with distances\n",
    "# we get a struct with an ids column and a dist column\n",
    "\n",
    "df.with_columns(\n",
    "    pds.query_bt_knn_ptwise(\n",
    "        pl.col(\"x2\"), \n",
    "        pl.col(\"x3\"), \n",
    "        index=pl.col(\"index\"),\n",
    "        r=999.0,\n",
    "        k =5,\n",
    "        distance_metric=\"haversine\",\n",
    "        return_dist=True,\n",
    "        parallel=True).alias(\"ball_tree_knn_ptwise\")\n",
    ").unnest(\"ball_tree_knn_ptwise\")"
   ]
  },
  {
   "cell_type": "code",
   "execution_count": 69,
   "id": "d9ce8e89",
   "metadata": {},
   "outputs": [
    {
     "data": {
      "text/html": [
       "<div><style>\n",
       ".dataframe > thead > tr,\n",
       ".dataframe > tbody > tr {\n",
       "  text-align: right;\n",
       "  white-space: pre-wrap;\n",
       "}\n",
       "</style>\n",
       "<small>shape: (1_000, 14)</small><table border=\"1\" class=\"dataframe\"><thead><tr><th>f</th><th>time_idx</th><th>dummy</th><th>actual</th><th>predicted</th><th>dummy_groups</th><th>x1</th><th>x2</th><th>x3</th><th>a</th><th>b</th><th>y</th><th>index</th><th>ball_tree_knn_radius_freq_cnt</th></tr><tr><td>f64</td><td>i64</td><td>str</td><td>i32</td><td>f64</td><td>str</td><td>f64</td><td>f64</td><td>f64</td><td>f64</td><td>f64</td><td>f64</td><td>u32</td><td>struct[2]</td></tr></thead><tbody><tr><td>0.0</td><td>0</td><td>&quot;a&quot;</td><td>0</td><td>0.491635</td><td>&quot;a&quot;</td><td>0.711689</td><td>0.624497</td><td>0.03681</td><td>0.51618</td><td>0.714925</td><td>0.238894</td><td>0</td><td>{871,10}</td></tr><tr><td>0.841471</td><td>1</td><td>&quot;a&quot;</td><td>1</td><td>0.01081</td><td>&quot;a&quot;</td><td>0.990379</td><td>0.273985</td><td>0.691863</td><td>0.448978</td><td>0.258321</td><td>-0.806979</td><td>1</td><td>{701,10}</td></tr><tr><td>0.909297</td><td>2</td><td>&quot;a&quot;</td><td>1</td><td>0.016883</td><td>&quot;a&quot;</td><td>0.079827</td><td>0.349622</td><td>0.012541</td><td>0.348881</td><td>0.60795</td><td>0.098134</td><td>2</td><td>{167,9}</td></tr><tr><td>0.14112</td><td>3</td><td>&quot;a&quot;</td><td>1</td><td>0.738627</td><td>&quot;a&quot;</td><td>0.983878</td><td>0.342483</td><td>0.915068</td><td>0.722341</td><td>0.762508</td><td>-1.122252</td><td>3</td><td>{362,9}</td></tr><tr><td>-0.756802</td><td>4</td><td>&quot;a&quot;</td><td>0</td><td>0.596465</td><td>&quot;a&quot;</td><td>0.760799</td><td>0.309211</td><td>0.687014</td><td>0.656174</td><td>0.942946</td><td>-0.82356</td><td>4</td><td>{147,9}</td></tr><tr><td>&hellip;</td><td>&hellip;</td><td>&hellip;</td><td>&hellip;</td><td>&hellip;</td><td>&hellip;</td><td>&hellip;</td><td>&hellip;</td><td>&hellip;</td><td>&hellip;</td><td>&hellip;</td><td>&hellip;</td><td>&hellip;</td><td>&hellip;</td></tr><tr><td>0.773833</td><td>995</td><td>&quot;b&quot;</td><td>0</td><td>0.81024</td><td>&quot;b&quot;</td><td>0.808594</td><td>0.798673</td><td>0.776158</td><td>0.799283</td><td>0.96809</td><td>-0.80334</td><td>995</td><td>{492,1}</td></tr><tr><td>-0.114875</td><td>996</td><td>&quot;b&quot;</td><td>0</td><td>0.435576</td><td>&quot;b&quot;</td><td>0.182852</td><td>0.952257</td><td>0.663921</td><td>0.68566</td><td>0.079458</td><td>-0.682739</td><td>996</td><td>{600,1}</td></tr><tr><td>-0.897967</td><td>997</td><td>&quot;b&quot;</td><td>1</td><td>0.799476</td><td>&quot;b&quot;</td><td>0.131082</td><td>0.389023</td><td>0.65403</td><td>0.669834</td><td>0.847043</td><td>-0.844666</td><td>997</td><td>{610,1}</td></tr><tr><td>-0.855473</td><td>998</td><td>&quot;b&quot;</td><td>1</td><td>0.12903</td><td>&quot;b&quot;</td><td>0.794842</td><td>0.794882</td><td>0.297178</td><td>0.113799</td><td>0.990062</td><td>-0.088007</td><td>998</td><td>{828,1}</td></tr><tr><td>-0.026461</td><td>999</td><td>&quot;b&quot;</td><td>1</td><td>0.209619</td><td>&quot;b&quot;</td><td>0.547187</td><td>0.21612</td><td>0.006355</td><td>0.131024</td><td>0.038085</td><td>0.137398</td><td>999</td><td>{933,1}</td></tr></tbody></table></div>"
      ],
      "text/plain": [
       "shape: (1_000, 14)\n",
       "┌───────────┬──────────┬───────┬────────┬───┬──────────┬───────────┬───────┬───────────────────────┐\n",
       "│ f         ┆ time_idx ┆ dummy ┆ actual ┆ … ┆ b        ┆ y         ┆ index ┆ ball_tree_knn_radius_ │\n",
       "│ ---       ┆ ---      ┆ ---   ┆ ---    ┆   ┆ ---      ┆ ---       ┆ ---   ┆ freq_cnt              │\n",
       "│ f64       ┆ i64      ┆ str   ┆ i32    ┆   ┆ f64      ┆ f64       ┆ u32   ┆ ---                   │\n",
       "│           ┆          ┆       ┆        ┆   ┆          ┆           ┆       ┆ struct[2]             │\n",
       "╞═══════════╪══════════╪═══════╪════════╪═══╪══════════╪═══════════╪═══════╪═══════════════════════╡\n",
       "│ 0.0       ┆ 0        ┆ a     ┆ 0      ┆ … ┆ 0.714925 ┆ 0.238894  ┆ 0     ┆ {871,10}              │\n",
       "│ 0.841471  ┆ 1        ┆ a     ┆ 1      ┆ … ┆ 0.258321 ┆ -0.806979 ┆ 1     ┆ {701,10}              │\n",
       "│ 0.909297  ┆ 2        ┆ a     ┆ 1      ┆ … ┆ 0.60795  ┆ 0.098134  ┆ 2     ┆ {167,9}               │\n",
       "│ 0.14112   ┆ 3        ┆ a     ┆ 1      ┆ … ┆ 0.762508 ┆ -1.122252 ┆ 3     ┆ {362,9}               │\n",
       "│ -0.756802 ┆ 4        ┆ a     ┆ 0      ┆ … ┆ 0.942946 ┆ -0.82356  ┆ 4     ┆ {147,9}               │\n",
       "│ …         ┆ …        ┆ …     ┆ …      ┆ … ┆ …        ┆ …         ┆ …     ┆ …                     │\n",
       "│ 0.773833  ┆ 995      ┆ b     ┆ 0      ┆ … ┆ 0.96809  ┆ -0.80334  ┆ 995   ┆ {492,1}               │\n",
       "│ -0.114875 ┆ 996      ┆ b     ┆ 0      ┆ … ┆ 0.079458 ┆ -0.682739 ┆ 996   ┆ {600,1}               │\n",
       "│ -0.897967 ┆ 997      ┆ b     ┆ 1      ┆ … ┆ 0.847043 ┆ -0.844666 ┆ 997   ┆ {610,1}               │\n",
       "│ -0.855473 ┆ 998      ┆ b     ┆ 1      ┆ … ┆ 0.990062 ┆ -0.088007 ┆ 998   ┆ {828,1}               │\n",
       "│ -0.026461 ┆ 999      ┆ b     ┆ 1      ┆ … ┆ 0.038085 ┆ 0.137398  ┆ 999   ┆ {933,1}               │\n",
       "└───────────┴──────────┴───────┴────────┴───┴──────────┴───────────┴───────┴───────────────────────┘"
      ]
     },
     "execution_count": 69,
     "metadata": {},
     "output_type": "execute_result"
    }
   ],
   "source": [
    "# Frequency Count\n",
    "df.with_columns(\n",
    "    pds.query_bt_knn_radius_freq_cnt(\n",
    "        pl.col(\"x2\"), \n",
    "        pl.col(\"x3\"), \n",
    "        index=pl.col(\"index\"), \n",
    "        r=999.0, \n",
    "        k =5, \n",
    "        distance_metric=\"haversine\", \n",
    "        parallel=True\n",
    "        ).alias(\"ball_tree_knn_radius_freq_cnt\")\n",
    ")"
   ]
  },
  {
   "cell_type": "code",
   "execution_count": 74,
   "id": "ddf08cd8",
   "metadata": {},
   "outputs": [
    {
     "data": {
      "text/html": [
       "<div><style>\n",
       ".dataframe > thead > tr,\n",
       ".dataframe > tbody > tr {\n",
       "  text-align: right;\n",
       "  white-space: pre-wrap;\n",
       "}\n",
       "</style>\n",
       "<small>shape: (1_000, 14)</small><table border=\"1\" class=\"dataframe\"><thead><tr><th>f</th><th>time_idx</th><th>dummy</th><th>actual</th><th>predicted</th><th>dummy_groups</th><th>x1</th><th>x2</th><th>x3</th><th>a</th><th>b</th><th>y</th><th>index</th><th>btree_knn_avg</th></tr><tr><td>f64</td><td>i64</td><td>str</td><td>i32</td><td>f64</td><td>str</td><td>f64</td><td>f64</td><td>f64</td><td>f64</td><td>f64</td><td>f64</td><td>u32</td><td>f64</td></tr></thead><tbody><tr><td>0.0</td><td>0</td><td>&quot;a&quot;</td><td>0</td><td>0.491635</td><td>&quot;a&quot;</td><td>0.711689</td><td>0.624497</td><td>0.03681</td><td>0.51618</td><td>0.714925</td><td>0.238894</td><td>0</td><td>131.048471</td></tr><tr><td>0.841471</td><td>1</td><td>&quot;a&quot;</td><td>1</td><td>0.01081</td><td>&quot;a&quot;</td><td>0.990379</td><td>0.273985</td><td>0.691863</td><td>0.448978</td><td>0.258321</td><td>-0.806979</td><td>1</td><td>428.336943</td></tr><tr><td>0.909297</td><td>2</td><td>&quot;a&quot;</td><td>1</td><td>0.016883</td><td>&quot;a&quot;</td><td>0.079827</td><td>0.349622</td><td>0.012541</td><td>0.348881</td><td>0.60795</td><td>0.098134</td><td>2</td><td>51.713153</td></tr><tr><td>0.14112</td><td>3</td><td>&quot;a&quot;</td><td>1</td><td>0.738627</td><td>&quot;a&quot;</td><td>0.983878</td><td>0.342483</td><td>0.915068</td><td>0.722341</td><td>0.762508</td><td>-1.122252</td><td>3</td><td>280.478864</td></tr><tr><td>-0.756802</td><td>4</td><td>&quot;a&quot;</td><td>0</td><td>0.596465</td><td>&quot;a&quot;</td><td>0.760799</td><td>0.309211</td><td>0.687014</td><td>0.656174</td><td>0.942946</td><td>-0.82356</td><td>4</td><td>108.016655</td></tr><tr><td>&hellip;</td><td>&hellip;</td><td>&hellip;</td><td>&hellip;</td><td>&hellip;</td><td>&hellip;</td><td>&hellip;</td><td>&hellip;</td><td>&hellip;</td><td>&hellip;</td><td>&hellip;</td><td>&hellip;</td><td>&hellip;</td><td>&hellip;</td></tr><tr><td>0.773833</td><td>995</td><td>&quot;b&quot;</td><td>0</td><td>0.81024</td><td>&quot;b&quot;</td><td>0.808594</td><td>0.798673</td><td>0.776158</td><td>0.799283</td><td>0.96809</td><td>-0.80334</td><td>995</td><td>837.903962</td></tr><tr><td>-0.114875</td><td>996</td><td>&quot;b&quot;</td><td>0</td><td>0.435576</td><td>&quot;b&quot;</td><td>0.182852</td><td>0.952257</td><td>0.663921</td><td>0.68566</td><td>0.079458</td><td>-0.682739</td><td>996</td><td>610.02722</td></tr><tr><td>-0.897967</td><td>997</td><td>&quot;b&quot;</td><td>1</td><td>0.799476</td><td>&quot;b&quot;</td><td>0.131082</td><td>0.389023</td><td>0.65403</td><td>0.669834</td><td>0.847043</td><td>-0.844666</td><td>997</td><td>723.917782</td></tr><tr><td>-0.855473</td><td>998</td><td>&quot;b&quot;</td><td>1</td><td>0.12903</td><td>&quot;b&quot;</td><td>0.794842</td><td>0.794882</td><td>0.297178</td><td>0.113799</td><td>0.990062</td><td>-0.088007</td><td>998</td><td>589.166151</td></tr><tr><td>-0.026461</td><td>999</td><td>&quot;b&quot;</td><td>1</td><td>0.209619</td><td>&quot;b&quot;</td><td>0.547187</td><td>0.21612</td><td>0.006355</td><td>0.131024</td><td>0.038085</td><td>0.137398</td><td>999</td><td>914.581934</td></tr></tbody></table></div>"
      ],
      "text/plain": [
       "shape: (1_000, 14)\n",
       "┌───────────┬──────────┬───────┬────────┬───┬──────────┬───────────┬───────┬───────────────┐\n",
       "│ f         ┆ time_idx ┆ dummy ┆ actual ┆ … ┆ b        ┆ y         ┆ index ┆ btree_knn_avg │\n",
       "│ ---       ┆ ---      ┆ ---   ┆ ---    ┆   ┆ ---      ┆ ---       ┆ ---   ┆ ---           │\n",
       "│ f64       ┆ i64      ┆ str   ┆ i32    ┆   ┆ f64      ┆ f64       ┆ u32   ┆ f64           │\n",
       "╞═══════════╪══════════╪═══════╪════════╪═══╪══════════╪═══════════╪═══════╪═══════════════╡\n",
       "│ 0.0       ┆ 0        ┆ a     ┆ 0      ┆ … ┆ 0.714925 ┆ 0.238894  ┆ 0     ┆ 131.048471    │\n",
       "│ 0.841471  ┆ 1        ┆ a     ┆ 1      ┆ … ┆ 0.258321 ┆ -0.806979 ┆ 1     ┆ 428.336943    │\n",
       "│ 0.909297  ┆ 2        ┆ a     ┆ 1      ┆ … ┆ 0.60795  ┆ 0.098134  ┆ 2     ┆ 51.713153     │\n",
       "│ 0.14112   ┆ 3        ┆ a     ┆ 1      ┆ … ┆ 0.762508 ┆ -1.122252 ┆ 3     ┆ 280.478864    │\n",
       "│ -0.756802 ┆ 4        ┆ a     ┆ 0      ┆ … ┆ 0.942946 ┆ -0.82356  ┆ 4     ┆ 108.016655    │\n",
       "│ …         ┆ …        ┆ …     ┆ …      ┆ … ┆ …        ┆ …         ┆ …     ┆ …             │\n",
       "│ 0.773833  ┆ 995      ┆ b     ┆ 0      ┆ … ┆ 0.96809  ┆ -0.80334  ┆ 995   ┆ 837.903962    │\n",
       "│ -0.114875 ┆ 996      ┆ b     ┆ 0      ┆ … ┆ 0.079458 ┆ -0.682739 ┆ 996   ┆ 610.02722     │\n",
       "│ -0.897967 ┆ 997      ┆ b     ┆ 1      ┆ … ┆ 0.847043 ┆ -0.844666 ┆ 997   ┆ 723.917782    │\n",
       "│ -0.855473 ┆ 998      ┆ b     ┆ 1      ┆ … ┆ 0.990062 ┆ -0.088007 ┆ 998   ┆ 589.166151    │\n",
       "│ -0.026461 ┆ 999      ┆ b     ┆ 1      ┆ … ┆ 0.038085 ┆ 0.137398  ┆ 999   ┆ 914.581934    │\n",
       "└───────────┴──────────┴───────┴────────┴───┴──────────┴───────────┴───────┴───────────────┘"
      ]
     },
     "execution_count": 74,
     "metadata": {},
     "output_type": "execute_result"
    }
   ],
   "source": [
    "# Average distance of k nearest neighbors\n",
    "df.with_columns(\n",
    "    pds.query_bt_knn_avg(\n",
    "        pl.col(\"x2\"), \n",
    "        pl.col(\"x3\"), \n",
    "        pl.col(\"x1\"), \n",
    "        index=pl.col(\"index\"), \n",
    "        r=999.0, \n",
    "        k =1,\n",
    "        distance_metric=\"euclidean\", \n",
    "        parallel=True).alias(\"btree_knn_avg\")\n",
    ")"
   ]
  },
  {
   "cell_type": "code",
   "execution_count": 75,
   "id": "195210f9",
   "metadata": {},
   "outputs": [
    {
     "data": {
      "text/html": [
       "<div><style>\n",
       ".dataframe > thead > tr,\n",
       ".dataframe > tbody > tr {\n",
       "  text-align: right;\n",
       "  white-space: pre-wrap;\n",
       "}\n",
       "</style>\n",
       "<small>shape: (1_000, 14)</small><table border=\"1\" class=\"dataframe\"><thead><tr><th>f</th><th>time_idx</th><th>dummy</th><th>actual</th><th>predicted</th><th>dummy_groups</th><th>x1</th><th>x2</th><th>x3</th><th>a</th><th>b</th><th>y</th><th>index</th><th>btree_within_radius</th></tr><tr><td>f64</td><td>i64</td><td>str</td><td>i32</td><td>f64</td><td>str</td><td>f64</td><td>f64</td><td>f64</td><td>f64</td><td>f64</td><td>f64</td><td>u32</td><td>u32</td></tr></thead><tbody><tr><td>0.0</td><td>0</td><td>&quot;a&quot;</td><td>0</td><td>0.491635</td><td>&quot;a&quot;</td><td>0.711689</td><td>0.624497</td><td>0.03681</td><td>0.51618</td><td>0.714925</td><td>0.238894</td><td>0</td><td>40</td></tr><tr><td>0.841471</td><td>1</td><td>&quot;a&quot;</td><td>1</td><td>0.01081</td><td>&quot;a&quot;</td><td>0.990379</td><td>0.273985</td><td>0.691863</td><td>0.448978</td><td>0.258321</td><td>-0.806979</td><td>1</td><td>89</td></tr><tr><td>0.909297</td><td>2</td><td>&quot;a&quot;</td><td>1</td><td>0.016883</td><td>&quot;a&quot;</td><td>0.079827</td><td>0.349622</td><td>0.012541</td><td>0.348881</td><td>0.60795</td><td>0.098134</td><td>2</td><td>45</td></tr><tr><td>0.14112</td><td>3</td><td>&quot;a&quot;</td><td>1</td><td>0.738627</td><td>&quot;a&quot;</td><td>0.983878</td><td>0.342483</td><td>0.915068</td><td>0.722341</td><td>0.762508</td><td>-1.122252</td><td>3</td><td>59</td></tr><tr><td>-0.756802</td><td>4</td><td>&quot;a&quot;</td><td>0</td><td>0.596465</td><td>&quot;a&quot;</td><td>0.760799</td><td>0.309211</td><td>0.687014</td><td>0.656174</td><td>0.942946</td><td>-0.82356</td><td>4</td><td>90</td></tr><tr><td>&hellip;</td><td>&hellip;</td><td>&hellip;</td><td>&hellip;</td><td>&hellip;</td><td>&hellip;</td><td>&hellip;</td><td>&hellip;</td><td>&hellip;</td><td>&hellip;</td><td>&hellip;</td><td>&hellip;</td><td>&hellip;</td><td>&hellip;</td></tr><tr><td>0.773833</td><td>995</td><td>&quot;b&quot;</td><td>0</td><td>0.81024</td><td>&quot;b&quot;</td><td>0.808594</td><td>0.798673</td><td>0.776158</td><td>0.799283</td><td>0.96809</td><td>-0.80334</td><td>995</td><td>81</td></tr><tr><td>-0.114875</td><td>996</td><td>&quot;b&quot;</td><td>0</td><td>0.435576</td><td>&quot;b&quot;</td><td>0.182852</td><td>0.952257</td><td>0.663921</td><td>0.68566</td><td>0.079458</td><td>-0.682739</td><td>996</td><td>63</td></tr><tr><td>-0.897967</td><td>997</td><td>&quot;b&quot;</td><td>1</td><td>0.799476</td><td>&quot;b&quot;</td><td>0.131082</td><td>0.389023</td><td>0.65403</td><td>0.669834</td><td>0.847043</td><td>-0.844666</td><td>997</td><td>90</td></tr><tr><td>-0.855473</td><td>998</td><td>&quot;b&quot;</td><td>1</td><td>0.12903</td><td>&quot;b&quot;</td><td>0.794842</td><td>0.794882</td><td>0.297178</td><td>0.113799</td><td>0.990062</td><td>-0.088007</td><td>998</td><td>106</td></tr><tr><td>-0.026461</td><td>999</td><td>&quot;b&quot;</td><td>1</td><td>0.209619</td><td>&quot;b&quot;</td><td>0.547187</td><td>0.21612</td><td>0.006355</td><td>0.131024</td><td>0.038085</td><td>0.137398</td><td>999</td><td>55</td></tr></tbody></table></div>"
      ],
      "text/plain": [
       "shape: (1_000, 14)\n",
       "┌───────────┬──────────┬───────┬────────┬───┬──────────┬───────────┬───────┬─────────────────────┐\n",
       "│ f         ┆ time_idx ┆ dummy ┆ actual ┆ … ┆ b        ┆ y         ┆ index ┆ btree_within_radius │\n",
       "│ ---       ┆ ---      ┆ ---   ┆ ---    ┆   ┆ ---      ┆ ---       ┆ ---   ┆ ---                 │\n",
       "│ f64       ┆ i64      ┆ str   ┆ i32    ┆   ┆ f64      ┆ f64       ┆ u32   ┆ u32                 │\n",
       "╞═══════════╪══════════╪═══════╪════════╪═══╪══════════╪═══════════╪═══════╪═════════════════════╡\n",
       "│ 0.0       ┆ 0        ┆ a     ┆ 0      ┆ … ┆ 0.714925 ┆ 0.238894  ┆ 0     ┆ 40                  │\n",
       "│ 0.841471  ┆ 1        ┆ a     ┆ 1      ┆ … ┆ 0.258321 ┆ -0.806979 ┆ 1     ┆ 89                  │\n",
       "│ 0.909297  ┆ 2        ┆ a     ┆ 1      ┆ … ┆ 0.60795  ┆ 0.098134  ┆ 2     ┆ 45                  │\n",
       "│ 0.14112   ┆ 3        ┆ a     ┆ 1      ┆ … ┆ 0.762508 ┆ -1.122252 ┆ 3     ┆ 59                  │\n",
       "│ -0.756802 ┆ 4        ┆ a     ┆ 0      ┆ … ┆ 0.942946 ┆ -0.82356  ┆ 4     ┆ 90                  │\n",
       "│ …         ┆ …        ┆ …     ┆ …      ┆ … ┆ …        ┆ …         ┆ …     ┆ …                   │\n",
       "│ 0.773833  ┆ 995      ┆ b     ┆ 0      ┆ … ┆ 0.96809  ┆ -0.80334  ┆ 995   ┆ 81                  │\n",
       "│ -0.114875 ┆ 996      ┆ b     ┆ 0      ┆ … ┆ 0.079458 ┆ -0.682739 ┆ 996   ┆ 63                  │\n",
       "│ -0.897967 ┆ 997      ┆ b     ┆ 1      ┆ … ┆ 0.847043 ┆ -0.844666 ┆ 997   ┆ 90                  │\n",
       "│ -0.855473 ┆ 998      ┆ b     ┆ 1      ┆ … ┆ 0.990062 ┆ -0.088007 ┆ 998   ┆ 106                 │\n",
       "│ -0.026461 ┆ 999      ┆ b     ┆ 1      ┆ … ┆ 0.038085 ┆ 0.137398  ┆ 999   ┆ 55                  │\n",
       "└───────────┴──────────┴───────┴────────┴───┴──────────┴───────────┴───────┴─────────────────────┘"
      ]
     },
     "execution_count": 75,
     "metadata": {},
     "output_type": "execute_result"
    }
   ],
   "source": [
    "# Count neighbors within radius\n",
    "df.with_columns(\n",
    "    pds.query_bt_nb_cnt(\n",
    "        pl.col(\"x2\"),\n",
    "        pl.col(\"x3\"),\n",
    "        index=pl.col(\"index\"),\n",
    "        r=18.0, \n",
    "        distance_metric=\"haversine\",\n",
    "        parallel=True).alias(\"btree_within_radius\")\n",
    ")"
   ]
  },
  {
   "cell_type": "code",
   "execution_count": 76,
   "id": "026350c4",
   "metadata": {},
   "outputs": [
    {
     "data": {
      "text/html": [
       "<div><style>\n",
       ".dataframe > thead > tr,\n",
       ".dataframe > tbody > tr {\n",
       "  text-align: right;\n",
       "  white-space: pre-wrap;\n",
       "}\n",
       "</style>\n",
       "<small>shape: (1_000, 14)</small><table border=\"1\" class=\"dataframe\"><thead><tr><th>f</th><th>time_idx</th><th>dummy</th><th>actual</th><th>predicted</th><th>dummy_groups</th><th>x1</th><th>x2</th><th>x3</th><th>a</th><th>b</th><th>y</th><th>index</th><th>btree_within_dist_from</th></tr><tr><td>f64</td><td>i64</td><td>str</td><td>i32</td><td>f64</td><td>str</td><td>f64</td><td>f64</td><td>f64</td><td>f64</td><td>f64</td><td>f64</td><td>u32</td><td>bool</td></tr></thead><tbody><tr><td>0.0</td><td>0</td><td>&quot;a&quot;</td><td>0</td><td>0.491635</td><td>&quot;a&quot;</td><td>0.711689</td><td>0.624497</td><td>0.03681</td><td>0.51618</td><td>0.714925</td><td>0.238894</td><td>0</td><td>true</td></tr><tr><td>0.841471</td><td>1</td><td>&quot;a&quot;</td><td>1</td><td>0.01081</td><td>&quot;a&quot;</td><td>0.990379</td><td>0.273985</td><td>0.691863</td><td>0.448978</td><td>0.258321</td><td>-0.806979</td><td>1</td><td>true</td></tr><tr><td>0.909297</td><td>2</td><td>&quot;a&quot;</td><td>1</td><td>0.016883</td><td>&quot;a&quot;</td><td>0.079827</td><td>0.349622</td><td>0.012541</td><td>0.348881</td><td>0.60795</td><td>0.098134</td><td>2</td><td>true</td></tr><tr><td>0.14112</td><td>3</td><td>&quot;a&quot;</td><td>1</td><td>0.738627</td><td>&quot;a&quot;</td><td>0.983878</td><td>0.342483</td><td>0.915068</td><td>0.722341</td><td>0.762508</td><td>-1.122252</td><td>3</td><td>true</td></tr><tr><td>-0.756802</td><td>4</td><td>&quot;a&quot;</td><td>0</td><td>0.596465</td><td>&quot;a&quot;</td><td>0.760799</td><td>0.309211</td><td>0.687014</td><td>0.656174</td><td>0.942946</td><td>-0.82356</td><td>4</td><td>true</td></tr><tr><td>&hellip;</td><td>&hellip;</td><td>&hellip;</td><td>&hellip;</td><td>&hellip;</td><td>&hellip;</td><td>&hellip;</td><td>&hellip;</td><td>&hellip;</td><td>&hellip;</td><td>&hellip;</td><td>&hellip;</td><td>&hellip;</td><td>&hellip;</td></tr><tr><td>0.773833</td><td>995</td><td>&quot;b&quot;</td><td>0</td><td>0.81024</td><td>&quot;b&quot;</td><td>0.808594</td><td>0.798673</td><td>0.776158</td><td>0.799283</td><td>0.96809</td><td>-0.80334</td><td>995</td><td>true</td></tr><tr><td>-0.114875</td><td>996</td><td>&quot;b&quot;</td><td>0</td><td>0.435576</td><td>&quot;b&quot;</td><td>0.182852</td><td>0.952257</td><td>0.663921</td><td>0.68566</td><td>0.079458</td><td>-0.682739</td><td>996</td><td>true</td></tr><tr><td>-0.897967</td><td>997</td><td>&quot;b&quot;</td><td>1</td><td>0.799476</td><td>&quot;b&quot;</td><td>0.131082</td><td>0.389023</td><td>0.65403</td><td>0.669834</td><td>0.847043</td><td>-0.844666</td><td>997</td><td>true</td></tr><tr><td>-0.855473</td><td>998</td><td>&quot;b&quot;</td><td>1</td><td>0.12903</td><td>&quot;b&quot;</td><td>0.794842</td><td>0.794882</td><td>0.297178</td><td>0.113799</td><td>0.990062</td><td>-0.088007</td><td>998</td><td>true</td></tr><tr><td>-0.026461</td><td>999</td><td>&quot;b&quot;</td><td>1</td><td>0.209619</td><td>&quot;b&quot;</td><td>0.547187</td><td>0.21612</td><td>0.006355</td><td>0.131024</td><td>0.038085</td><td>0.137398</td><td>999</td><td>true</td></tr></tbody></table></div>"
      ],
      "text/plain": [
       "shape: (1_000, 14)\n",
       "┌───────────┬──────────┬───────┬────────┬───┬──────────┬───────────┬───────┬───────────────────────┐\n",
       "│ f         ┆ time_idx ┆ dummy ┆ actual ┆ … ┆ b        ┆ y         ┆ index ┆ btree_within_dist_fro │\n",
       "│ ---       ┆ ---      ┆ ---   ┆ ---    ┆   ┆ ---      ┆ ---       ┆ ---   ┆ m                     │\n",
       "│ f64       ┆ i64      ┆ str   ┆ i32    ┆   ┆ f64      ┆ f64       ┆ u32   ┆ ---                   │\n",
       "│           ┆          ┆       ┆        ┆   ┆          ┆           ┆       ┆ bool                  │\n",
       "╞═══════════╪══════════╪═══════╪════════╪═══╪══════════╪═══════════╪═══════╪═══════════════════════╡\n",
       "│ 0.0       ┆ 0        ┆ a     ┆ 0      ┆ … ┆ 0.714925 ┆ 0.238894  ┆ 0     ┆ true                  │\n",
       "│ 0.841471  ┆ 1        ┆ a     ┆ 1      ┆ … ┆ 0.258321 ┆ -0.806979 ┆ 1     ┆ true                  │\n",
       "│ 0.909297  ┆ 2        ┆ a     ┆ 1      ┆ … ┆ 0.60795  ┆ 0.098134  ┆ 2     ┆ true                  │\n",
       "│ 0.14112   ┆ 3        ┆ a     ┆ 1      ┆ … ┆ 0.762508 ┆ -1.122252 ┆ 3     ┆ true                  │\n",
       "│ -0.756802 ┆ 4        ┆ a     ┆ 0      ┆ … ┆ 0.942946 ┆ -0.82356  ┆ 4     ┆ true                  │\n",
       "│ …         ┆ …        ┆ …     ┆ …      ┆ … ┆ …        ┆ …         ┆ …     ┆ …                     │\n",
       "│ 0.773833  ┆ 995      ┆ b     ┆ 0      ┆ … ┆ 0.96809  ┆ -0.80334  ┆ 995   ┆ true                  │\n",
       "│ -0.114875 ┆ 996      ┆ b     ┆ 0      ┆ … ┆ 0.079458 ┆ -0.682739 ┆ 996   ┆ true                  │\n",
       "│ -0.897967 ┆ 997      ┆ b     ┆ 1      ┆ … ┆ 0.847043 ┆ -0.844666 ┆ 997   ┆ true                  │\n",
       "│ -0.855473 ┆ 998      ┆ b     ┆ 1      ┆ … ┆ 0.990062 ┆ -0.088007 ┆ 998   ┆ true                  │\n",
       "│ -0.026461 ┆ 999      ┆ b     ┆ 1      ┆ … ┆ 0.038085 ┆ 0.137398  ┆ 999   ┆ true                  │\n",
       "└───────────┴──────────┴───────┴────────┴───┴──────────┴───────────┴───────┴───────────────────────┘"
      ]
     },
     "execution_count": 76,
     "metadata": {},
     "output_type": "execute_result"
    }
   ],
   "source": [
    "# returns true if the row is within k nearest neighbors of the given point\n",
    "df.with_columns(\n",
    "    pds.bt_within_dist_from(\n",
    "        pl.col(\"x2\"),\n",
    "        pl.col(\"x3\"),\n",
    "        pt=[123,78.99],\n",
    "        r=999999, \n",
    "        distance_metric=\"haversine\",\n",
    "        parallel=True).alias(\"btree_within_dist_from\")\n",
    ")"
   ]
  },
  {
   "cell_type": "code",
   "execution_count": 77,
   "id": "dbe0983f",
   "metadata": {},
   "outputs": [
    {
     "data": {
      "text/html": [
       "<div><style>\n",
       ".dataframe > thead > tr,\n",
       ".dataframe > tbody > tr {\n",
       "  text-align: right;\n",
       "  white-space: pre-wrap;\n",
       "}\n",
       "</style>\n",
       "<small>shape: (1_000, 14)</small><table border=\"1\" class=\"dataframe\"><thead><tr><th>f</th><th>time_idx</th><th>dummy</th><th>actual</th><th>predicted</th><th>dummy_groups</th><th>x1</th><th>x2</th><th>x3</th><th>a</th><th>b</th><th>y</th><th>index</th><th>btree_nn_within</th></tr><tr><td>f64</td><td>i64</td><td>str</td><td>i32</td><td>f64</td><td>str</td><td>f64</td><td>f64</td><td>f64</td><td>f64</td><td>f64</td><td>f64</td><td>u32</td><td>bool</td></tr></thead><tbody><tr><td>0.0</td><td>0</td><td>&quot;a&quot;</td><td>0</td><td>0.491635</td><td>&quot;a&quot;</td><td>0.711689</td><td>0.624497</td><td>0.03681</td><td>0.51618</td><td>0.714925</td><td>0.238894</td><td>0</td><td>true</td></tr><tr><td>0.841471</td><td>1</td><td>&quot;a&quot;</td><td>1</td><td>0.01081</td><td>&quot;a&quot;</td><td>0.990379</td><td>0.273985</td><td>0.691863</td><td>0.448978</td><td>0.258321</td><td>-0.806979</td><td>1</td><td>false</td></tr><tr><td>0.909297</td><td>2</td><td>&quot;a&quot;</td><td>1</td><td>0.016883</td><td>&quot;a&quot;</td><td>0.079827</td><td>0.349622</td><td>0.012541</td><td>0.348881</td><td>0.60795</td><td>0.098134</td><td>2</td><td>true</td></tr><tr><td>0.14112</td><td>3</td><td>&quot;a&quot;</td><td>1</td><td>0.738627</td><td>&quot;a&quot;</td><td>0.983878</td><td>0.342483</td><td>0.915068</td><td>0.722341</td><td>0.762508</td><td>-1.122252</td><td>3</td><td>false</td></tr><tr><td>-0.756802</td><td>4</td><td>&quot;a&quot;</td><td>0</td><td>0.596465</td><td>&quot;a&quot;</td><td>0.760799</td><td>0.309211</td><td>0.687014</td><td>0.656174</td><td>0.942946</td><td>-0.82356</td><td>4</td><td>false</td></tr><tr><td>&hellip;</td><td>&hellip;</td><td>&hellip;</td><td>&hellip;</td><td>&hellip;</td><td>&hellip;</td><td>&hellip;</td><td>&hellip;</td><td>&hellip;</td><td>&hellip;</td><td>&hellip;</td><td>&hellip;</td><td>&hellip;</td><td>&hellip;</td></tr><tr><td>0.773833</td><td>995</td><td>&quot;b&quot;</td><td>0</td><td>0.81024</td><td>&quot;b&quot;</td><td>0.808594</td><td>0.798673</td><td>0.776158</td><td>0.799283</td><td>0.96809</td><td>-0.80334</td><td>995</td><td>false</td></tr><tr><td>-0.114875</td><td>996</td><td>&quot;b&quot;</td><td>0</td><td>0.435576</td><td>&quot;b&quot;</td><td>0.182852</td><td>0.952257</td><td>0.663921</td><td>0.68566</td><td>0.079458</td><td>-0.682739</td><td>996</td><td>false</td></tr><tr><td>-0.897967</td><td>997</td><td>&quot;b&quot;</td><td>1</td><td>0.799476</td><td>&quot;b&quot;</td><td>0.131082</td><td>0.389023</td><td>0.65403</td><td>0.669834</td><td>0.847043</td><td>-0.844666</td><td>997</td><td>false</td></tr><tr><td>-0.855473</td><td>998</td><td>&quot;b&quot;</td><td>1</td><td>0.12903</td><td>&quot;b&quot;</td><td>0.794842</td><td>0.794882</td><td>0.297178</td><td>0.113799</td><td>0.990062</td><td>-0.088007</td><td>998</td><td>true</td></tr><tr><td>-0.026461</td><td>999</td><td>&quot;b&quot;</td><td>1</td><td>0.209619</td><td>&quot;b&quot;</td><td>0.547187</td><td>0.21612</td><td>0.006355</td><td>0.131024</td><td>0.038085</td><td>0.137398</td><td>999</td><td>true</td></tr></tbody></table></div>"
      ],
      "text/plain": [
       "shape: (1_000, 14)\n",
       "┌───────────┬──────────┬───────┬────────┬───┬──────────┬───────────┬───────┬─────────────────┐\n",
       "│ f         ┆ time_idx ┆ dummy ┆ actual ┆ … ┆ b        ┆ y         ┆ index ┆ btree_nn_within │\n",
       "│ ---       ┆ ---      ┆ ---   ┆ ---    ┆   ┆ ---      ┆ ---       ┆ ---   ┆ ---             │\n",
       "│ f64       ┆ i64      ┆ str   ┆ i32    ┆   ┆ f64      ┆ f64       ┆ u32   ┆ bool            │\n",
       "╞═══════════╪══════════╪═══════╪════════╪═══╪══════════╪═══════════╪═══════╪═════════════════╡\n",
       "│ 0.0       ┆ 0        ┆ a     ┆ 0      ┆ … ┆ 0.714925 ┆ 0.238894  ┆ 0     ┆ true            │\n",
       "│ 0.841471  ┆ 1        ┆ a     ┆ 1      ┆ … ┆ 0.258321 ┆ -0.806979 ┆ 1     ┆ false           │\n",
       "│ 0.909297  ┆ 2        ┆ a     ┆ 1      ┆ … ┆ 0.60795  ┆ 0.098134  ┆ 2     ┆ true            │\n",
       "│ 0.14112   ┆ 3        ┆ a     ┆ 1      ┆ … ┆ 0.762508 ┆ -1.122252 ┆ 3     ┆ false           │\n",
       "│ -0.756802 ┆ 4        ┆ a     ┆ 0      ┆ … ┆ 0.942946 ┆ -0.82356  ┆ 4     ┆ false           │\n",
       "│ …         ┆ …        ┆ …     ┆ …      ┆ … ┆ …        ┆ …         ┆ …     ┆ …               │\n",
       "│ 0.773833  ┆ 995      ┆ b     ┆ 0      ┆ … ┆ 0.96809  ┆ -0.80334  ┆ 995   ┆ false           │\n",
       "│ -0.114875 ┆ 996      ┆ b     ┆ 0      ┆ … ┆ 0.079458 ┆ -0.682739 ┆ 996   ┆ false           │\n",
       "│ -0.897967 ┆ 997      ┆ b     ┆ 1      ┆ … ┆ 0.847043 ┆ -0.844666 ┆ 997   ┆ false           │\n",
       "│ -0.855473 ┆ 998      ┆ b     ┆ 1      ┆ … ┆ 0.990062 ┆ -0.088007 ┆ 998   ┆ true            │\n",
       "│ -0.026461 ┆ 999      ┆ b     ┆ 1      ┆ … ┆ 0.038085 ┆ 0.137398  ┆ 999   ┆ true            │\n",
       "└───────────┴──────────┴───────┴────────┴───┴──────────┴───────────┴───────┴─────────────────┘"
      ]
     },
     "execution_count": 77,
     "metadata": {},
     "output_type": "execute_result"
    }
   ],
   "source": [
    "# check if a point is included in the k nearest neighbors of the given point\n",
    "# Note: This is an exact match so your point could be quite close but now show up\n",
    "# We can pass in an EPSILON to account for this. THis is defaulted to the EPSILON of the data type in Rust\n",
    "\n",
    "# pick a random point\n",
    "point = df.select(pl.col(\"x2\"), pl.col(\"x3\"))\n",
    "rr = list(point.row(2))\n",
    "df.with_columns(\n",
    "    pds.is_bt_knn_from(\n",
    "        pl.col(\"x2\"),\n",
    "        pl.col(\"x3\"),\n",
    "        pt=rr, \n",
    "        k=56, \n",
    "        distance_metric=\"haversine\",\n",
    "        parallel=True, epsilon=0.5).alias(\"btree_nn_within\")\n",
    ")"
   ]
  },
  {
   "cell_type": "code",
   "execution_count": null,
   "id": "f7cc8f20",
   "metadata": {},
   "outputs": [],
   "source": []
  }
 ],
 "metadata": {
  "kernelspec": {
   "display_name": "Python 3 (ipykernel)",
   "language": "python",
   "name": "python3"
  },
  "language_info": {
   "codemirror_mode": {
    "name": "ipython",
    "version": 3
   },
   "file_extension": ".py",
   "mimetype": "text/x-python",
   "name": "python",
   "nbconvert_exporter": "python",
   "pygments_lexer": "ipython3",
   "version": "3.10.3"
  }
 },
 "nbformat": 4,
 "nbformat_minor": 5
}
