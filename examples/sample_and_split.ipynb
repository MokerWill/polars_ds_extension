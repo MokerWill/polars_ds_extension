{
 "cells": [
  {
   "cell_type": "markdown",
   "metadata": {},
   "source": [
    "# Sampling and Splitting"
   ]
  },
  {
   "cell_type": "markdown",
   "metadata": {},
   "source": [
    "## Sampling\n",
    "\n",
    "Sampling for basic tabular datasets. (Not designed for time series as of now.)"
   ]
  },
  {
   "cell_type": "code",
   "execution_count": 1,
   "metadata": {},
   "outputs": [],
   "source": [
    "import polars as pl\n",
    "import polars_ds as pds\n",
    "import polars_ds.sample as sa"
   ]
  },
  {
   "cell_type": "code",
   "execution_count": 2,
   "metadata": {},
   "outputs": [
    {
     "data": {
      "text/html": [
       "<div><style>\n",
       ".dataframe > thead > tr,\n",
       ".dataframe > tbody > tr {\n",
       "  text-align: right;\n",
       "  white-space: pre-wrap;\n",
       "}\n",
       "</style>\n",
       "<small>shape: (5, 8)</small><table border=\"1\" class=\"dataframe\"><thead><tr><th>row_num</th><th>uniform_1</th><th>uniform_2</th><th>exp</th><th>normal</th><th>fat_normal</th><th>flags</th><th>category</th></tr><tr><td>i64</td><td>f64</td><td>f64</td><td>f64</td><td>f64</td><td>f64</td><td>i32</td><td>str</td></tr></thead><tbody><tr><td>0</td><td>10.593157</td><td>0.21437</td><td>1.054066</td><td>-0.489076</td><td>-1650.392435</td><td>0</td><td>&quot;A&quot;</td></tr><tr><td>1</td><td>9.036933</td><td>0.392068</td><td>7.672009</td><td>-0.083204</td><td>-315.023785</td><td>1</td><td>&quot;A&quot;</td></tr><tr><td>2</td><td>2.12332</td><td>0.130388</td><td>0.382255</td><td>-0.668561</td><td>434.767472</td><td>2</td><td>&quot;A&quot;</td></tr><tr><td>3</td><td>1.226607</td><td>0.285949</td><td>1.200802</td><td>0.469201</td><td>-1524.582504</td><td>1</td><td>&quot;A&quot;</td></tr><tr><td>4</td><td>10.694611</td><td>0.245202</td><td>0.950469</td><td>-0.42295</td><td>1805.192107</td><td>2</td><td>&quot;A&quot;</td></tr></tbody></table></div>"
      ],
      "text/plain": [
       "shape: (5, 8)\n",
       "┌─────────┬───────────┬───────────┬──────────┬───────────┬──────────────┬───────┬──────────┐\n",
       "│ row_num ┆ uniform_1 ┆ uniform_2 ┆ exp      ┆ normal    ┆ fat_normal   ┆ flags ┆ category │\n",
       "│ ---     ┆ ---       ┆ ---       ┆ ---      ┆ ---       ┆ ---          ┆ ---   ┆ ---      │\n",
       "│ i64     ┆ f64       ┆ f64       ┆ f64      ┆ f64       ┆ f64          ┆ i32   ┆ str      │\n",
       "╞═════════╪═══════════╪═══════════╪══════════╪═══════════╪══════════════╪═══════╪══════════╡\n",
       "│ 0       ┆ 10.593157 ┆ 0.21437   ┆ 1.054066 ┆ -0.489076 ┆ -1650.392435 ┆ 0     ┆ A        │\n",
       "│ 1       ┆ 9.036933  ┆ 0.392068  ┆ 7.672009 ┆ -0.083204 ┆ -315.023785  ┆ 1     ┆ A        │\n",
       "│ 2       ┆ 2.12332   ┆ 0.130388  ┆ 0.382255 ┆ -0.668561 ┆ 434.767472   ┆ 2     ┆ A        │\n",
       "│ 3       ┆ 1.226607  ┆ 0.285949  ┆ 1.200802 ┆ 0.469201  ┆ -1524.582504 ┆ 1     ┆ A        │\n",
       "│ 4       ┆ 10.694611 ┆ 0.245202  ┆ 0.950469 ┆ -0.42295  ┆ 1805.192107  ┆ 2     ┆ A        │\n",
       "└─────────┴───────────┴───────────┴──────────┴───────────┴──────────────┴───────┴──────────┘"
      ]
     },
     "execution_count": 2,
     "metadata": {},
     "output_type": "execute_result"
    }
   ],
   "source": [
    "df = pds.frame(size=100_000).with_columns(\n",
    "    pds.random(0.0, 12.0).alias(\"uniform_1\"),\n",
    "    pds.random(0.0, 1.0).alias(\"uniform_2\"),\n",
    "    pds.random_exp(0.5).alias(\"exp\"),\n",
    "    pds.random_normal(0.0, 1.0).alias(\"normal\"),\n",
    "    pds.random_normal(0.0, 1000.0).alias(\"fat_normal\"),\n",
    "    (pds.random_int(0, 3)).alias(\"flags\"),\n",
    "    pl.Series([\"A\"] * 30_000 + [\"B\"] * 30_000 + [\"C\"] * 40_000).alias(\"category\"),\n",
    ")\n",
    "df.head()"
   ]
  },
  {
   "cell_type": "code",
   "execution_count": 3,
   "metadata": {},
   "outputs": [
    {
     "data": {
      "text/plain": [
       "['row_num', 'uniform_2', 'normal']"
      ]
     },
     "execution_count": 3,
     "metadata": {},
     "output_type": "execute_result"
    }
   ],
   "source": [
    "sa.random_cols(df, 2, keep = [\"row_num\"])"
   ]
  },
  {
   "cell_type": "code",
   "execution_count": 4,
   "metadata": {},
   "outputs": [
    {
     "data": {
      "text/html": [
       "<div><style>\n",
       ".dataframe > thead > tr,\n",
       ".dataframe > tbody > tr {\n",
       "  text-align: right;\n",
       "  white-space: pre-wrap;\n",
       "}\n",
       "</style>\n",
       "<small>shape: (60_000, 8)</small><table border=\"1\" class=\"dataframe\"><thead><tr><th>row_num</th><th>uniform_1</th><th>uniform_2</th><th>exp</th><th>normal</th><th>fat_normal</th><th>flags</th><th>category</th></tr><tr><td>i64</td><td>f64</td><td>f64</td><td>f64</td><td>f64</td><td>f64</td><td>i32</td><td>str</td></tr></thead><tbody><tr><td>0</td><td>10.593157</td><td>0.21437</td><td>1.054066</td><td>-0.489076</td><td>-1650.392435</td><td>0</td><td>&quot;A&quot;</td></tr><tr><td>1</td><td>9.036933</td><td>0.392068</td><td>7.672009</td><td>-0.083204</td><td>-315.023785</td><td>1</td><td>&quot;A&quot;</td></tr><tr><td>2</td><td>2.12332</td><td>0.130388</td><td>0.382255</td><td>-0.668561</td><td>434.767472</td><td>2</td><td>&quot;A&quot;</td></tr><tr><td>3</td><td>1.226607</td><td>0.285949</td><td>1.200802</td><td>0.469201</td><td>-1524.582504</td><td>1</td><td>&quot;A&quot;</td></tr><tr><td>6</td><td>0.186466</td><td>0.753861</td><td>3.178885</td><td>1.630469</td><td>-1898.897546</td><td>0</td><td>&quot;A&quot;</td></tr><tr><td>&hellip;</td><td>&hellip;</td><td>&hellip;</td><td>&hellip;</td><td>&hellip;</td><td>&hellip;</td><td>&hellip;</td><td>&hellip;</td></tr><tr><td>99994</td><td>1.966948</td><td>0.345592</td><td>0.676595</td><td>1.46892</td><td>-389.847966</td><td>0</td><td>&quot;C&quot;</td></tr><tr><td>99996</td><td>1.091215</td><td>0.460275</td><td>2.204426</td><td>0.556299</td><td>-1483.426234</td><td>2</td><td>&quot;C&quot;</td></tr><tr><td>99997</td><td>9.237426</td><td>0.740545</td><td>0.360436</td><td>-0.35651</td><td>-775.448781</td><td>2</td><td>&quot;C&quot;</td></tr><tr><td>99998</td><td>5.752461</td><td>0.476507</td><td>1.755452</td><td>0.238971</td><td>1059.729354</td><td>0</td><td>&quot;C&quot;</td></tr><tr><td>99999</td><td>6.876322</td><td>0.746787</td><td>3.087467</td><td>0.235166</td><td>-2045.352523</td><td>0</td><td>&quot;C&quot;</td></tr></tbody></table></div>"
      ],
      "text/plain": [
       "shape: (60_000, 8)\n",
       "┌─────────┬───────────┬───────────┬──────────┬───────────┬──────────────┬───────┬──────────┐\n",
       "│ row_num ┆ uniform_1 ┆ uniform_2 ┆ exp      ┆ normal    ┆ fat_normal   ┆ flags ┆ category │\n",
       "│ ---     ┆ ---       ┆ ---       ┆ ---      ┆ ---       ┆ ---          ┆ ---   ┆ ---      │\n",
       "│ i64     ┆ f64       ┆ f64       ┆ f64      ┆ f64       ┆ f64          ┆ i32   ┆ str      │\n",
       "╞═════════╪═══════════╪═══════════╪══════════╪═══════════╪══════════════╪═══════╪══════════╡\n",
       "│ 0       ┆ 10.593157 ┆ 0.21437   ┆ 1.054066 ┆ -0.489076 ┆ -1650.392435 ┆ 0     ┆ A        │\n",
       "│ 1       ┆ 9.036933  ┆ 0.392068  ┆ 7.672009 ┆ -0.083204 ┆ -315.023785  ┆ 1     ┆ A        │\n",
       "│ 2       ┆ 2.12332   ┆ 0.130388  ┆ 0.382255 ┆ -0.668561 ┆ 434.767472   ┆ 2     ┆ A        │\n",
       "│ 3       ┆ 1.226607  ┆ 0.285949  ┆ 1.200802 ┆ 0.469201  ┆ -1524.582504 ┆ 1     ┆ A        │\n",
       "│ 6       ┆ 0.186466  ┆ 0.753861  ┆ 3.178885 ┆ 1.630469  ┆ -1898.897546 ┆ 0     ┆ A        │\n",
       "│ …       ┆ …         ┆ …         ┆ …        ┆ …         ┆ …            ┆ …     ┆ …        │\n",
       "│ 99994   ┆ 1.966948  ┆ 0.345592  ┆ 0.676595 ┆ 1.46892   ┆ -389.847966  ┆ 0     ┆ C        │\n",
       "│ 99996   ┆ 1.091215  ┆ 0.460275  ┆ 2.204426 ┆ 0.556299  ┆ -1483.426234 ┆ 2     ┆ C        │\n",
       "│ 99997   ┆ 9.237426  ┆ 0.740545  ┆ 0.360436 ┆ -0.35651  ┆ -775.448781  ┆ 2     ┆ C        │\n",
       "│ 99998   ┆ 5.752461  ┆ 0.476507  ┆ 1.755452 ┆ 0.238971  ┆ 1059.729354  ┆ 0     ┆ C        │\n",
       "│ 99999   ┆ 6.876322  ┆ 0.746787  ┆ 3.087467 ┆ 0.235166  ┆ -2045.352523 ┆ 0     ┆ C        │\n",
       "└─────────┴───────────┴───────────┴──────────┴───────────┴──────────────┴───────┴──────────┘"
      ]
     },
     "execution_count": 4,
     "metadata": {},
     "output_type": "execute_result"
    }
   ],
   "source": [
    "# Random Sample\n",
    "sa.sample(df, 0.6) # by ratio"
   ]
  },
  {
   "cell_type": "code",
   "execution_count": 5,
   "metadata": {},
   "outputs": [
    {
     "data": {
      "text/html": [
       "<div><style>\n",
       ".dataframe > thead > tr,\n",
       ".dataframe > tbody > tr {\n",
       "  text-align: right;\n",
       "  white-space: pre-wrap;\n",
       "}\n",
       "</style>\n",
       "<small>shape: (30_000, 8)</small><table border=\"1\" class=\"dataframe\"><thead><tr><th>row_num</th><th>uniform_1</th><th>uniform_2</th><th>exp</th><th>normal</th><th>fat_normal</th><th>flags</th><th>category</th></tr><tr><td>i64</td><td>f64</td><td>f64</td><td>f64</td><td>f64</td><td>f64</td><td>i32</td><td>str</td></tr></thead><tbody><tr><td>5</td><td>1.161311</td><td>0.930557</td><td>0.57782</td><td>0.444369</td><td>963.682717</td><td>2</td><td>&quot;A&quot;</td></tr><tr><td>9</td><td>2.137823</td><td>0.0489</td><td>4.298631</td><td>-1.234245</td><td>1852.670961</td><td>1</td><td>&quot;A&quot;</td></tr><tr><td>11</td><td>0.07801</td><td>0.607029</td><td>1.628022</td><td>0.78909</td><td>677.725992</td><td>2</td><td>&quot;A&quot;</td></tr><tr><td>18</td><td>4.603517</td><td>0.830616</td><td>4.532298</td><td>0.009164</td><td>227.262853</td><td>0</td><td>&quot;A&quot;</td></tr><tr><td>22</td><td>10.909803</td><td>0.185106</td><td>0.373381</td><td>-0.298333</td><td>1281.782869</td><td>0</td><td>&quot;A&quot;</td></tr><tr><td>&hellip;</td><td>&hellip;</td><td>&hellip;</td><td>&hellip;</td><td>&hellip;</td><td>&hellip;</td><td>&hellip;</td><td>&hellip;</td></tr><tr><td>99981</td><td>1.777943</td><td>0.838998</td><td>3.563427</td><td>1.423849</td><td>-212.46092</td><td>2</td><td>&quot;C&quot;</td></tr><tr><td>99988</td><td>8.539298</td><td>0.855779</td><td>3.489416</td><td>1.447965</td><td>-60.630336</td><td>0</td><td>&quot;C&quot;</td></tr><tr><td>99990</td><td>10.8084</td><td>0.994461</td><td>2.093933</td><td>-0.811928</td><td>311.047933</td><td>2</td><td>&quot;C&quot;</td></tr><tr><td>99994</td><td>1.966948</td><td>0.345592</td><td>0.676595</td><td>1.46892</td><td>-389.847966</td><td>0</td><td>&quot;C&quot;</td></tr><tr><td>99995</td><td>5.816455</td><td>0.376426</td><td>0.959057</td><td>-0.223584</td><td>617.583015</td><td>2</td><td>&quot;C&quot;</td></tr></tbody></table></div>"
      ],
      "text/plain": [
       "shape: (30_000, 8)\n",
       "┌─────────┬───────────┬───────────┬──────────┬───────────┬─────────────┬───────┬──────────┐\n",
       "│ row_num ┆ uniform_1 ┆ uniform_2 ┆ exp      ┆ normal    ┆ fat_normal  ┆ flags ┆ category │\n",
       "│ ---     ┆ ---       ┆ ---       ┆ ---      ┆ ---       ┆ ---         ┆ ---   ┆ ---      │\n",
       "│ i64     ┆ f64       ┆ f64       ┆ f64      ┆ f64       ┆ f64         ┆ i32   ┆ str      │\n",
       "╞═════════╪═══════════╪═══════════╪══════════╪═══════════╪═════════════╪═══════╪══════════╡\n",
       "│ 5       ┆ 1.161311  ┆ 0.930557  ┆ 0.57782  ┆ 0.444369  ┆ 963.682717  ┆ 2     ┆ A        │\n",
       "│ 9       ┆ 2.137823  ┆ 0.0489    ┆ 4.298631 ┆ -1.234245 ┆ 1852.670961 ┆ 1     ┆ A        │\n",
       "│ 11      ┆ 0.07801   ┆ 0.607029  ┆ 1.628022 ┆ 0.78909   ┆ 677.725992  ┆ 2     ┆ A        │\n",
       "│ 18      ┆ 4.603517  ┆ 0.830616  ┆ 4.532298 ┆ 0.009164  ┆ 227.262853  ┆ 0     ┆ A        │\n",
       "│ 22      ┆ 10.909803 ┆ 0.185106  ┆ 0.373381 ┆ -0.298333 ┆ 1281.782869 ┆ 0     ┆ A        │\n",
       "│ …       ┆ …         ┆ …         ┆ …        ┆ …         ┆ …           ┆ …     ┆ …        │\n",
       "│ 99981   ┆ 1.777943  ┆ 0.838998  ┆ 3.563427 ┆ 1.423849  ┆ -212.46092  ┆ 2     ┆ C        │\n",
       "│ 99988   ┆ 8.539298  ┆ 0.855779  ┆ 3.489416 ┆ 1.447965  ┆ -60.630336  ┆ 0     ┆ C        │\n",
       "│ 99990   ┆ 10.8084   ┆ 0.994461  ┆ 2.093933 ┆ -0.811928 ┆ 311.047933  ┆ 2     ┆ C        │\n",
       "│ 99994   ┆ 1.966948  ┆ 0.345592  ┆ 0.676595 ┆ 1.46892   ┆ -389.847966 ┆ 0     ┆ C        │\n",
       "│ 99995   ┆ 5.816455  ┆ 0.376426  ┆ 0.959057 ┆ -0.223584 ┆ 617.583015  ┆ 2     ┆ C        │\n",
       "└─────────┴───────────┴───────────┴──────────┴───────────┴─────────────┴───────┴──────────┘"
      ]
     },
     "execution_count": 5,
     "metadata": {},
     "output_type": "execute_result"
    }
   ],
   "source": [
    "sa.sample(df, 30_000) # by count"
   ]
  },
  {
   "cell_type": "code",
   "execution_count": 6,
   "metadata": {},
   "outputs": [
    {
     "data": {
      "text/html": [
       "<div><style>\n",
       ".dataframe > thead > tr,\n",
       ".dataframe > tbody > tr {\n",
       "  text-align: right;\n",
       "  white-space: pre-wrap;\n",
       "}\n",
       "</style>\n",
       "<small>shape: (3, 2)</small><table border=\"1\" class=\"dataframe\"><thead><tr><th>flags</th><th>len</th></tr><tr><td>i32</td><td>u32</td></tr></thead><tbody><tr><td>0</td><td>33288</td></tr><tr><td>1</td><td>33335</td></tr><tr><td>2</td><td>33377</td></tr></tbody></table></div>"
      ],
      "text/plain": [
       "shape: (3, 2)\n",
       "┌───────┬───────┐\n",
       "│ flags ┆ len   │\n",
       "│ ---   ┆ ---   │\n",
       "│ i32   ┆ u32   │\n",
       "╞═══════╪═══════╡\n",
       "│ 0     ┆ 33288 │\n",
       "│ 1     ┆ 33335 │\n",
       "│ 2     ┆ 33377 │\n",
       "└───────┴───────┘"
      ]
     },
     "execution_count": 6,
     "metadata": {},
     "output_type": "execute_result"
    }
   ],
   "source": [
    "df.group_by(\"flags\").len().sort(\"flags\")"
   ]
  },
  {
   "cell_type": "code",
   "execution_count": 7,
   "metadata": {},
   "outputs": [
    {
     "data": {
      "text/html": [
       "<div><style>\n",
       ".dataframe > thead > tr,\n",
       ".dataframe > tbody > tr {\n",
       "  text-align: right;\n",
       "  white-space: pre-wrap;\n",
       "}\n",
       "</style>\n",
       "<small>shape: (3, 2)</small><table border=\"1\" class=\"dataframe\"><thead><tr><th>flags</th><th>len</th></tr><tr><td>i32</td><td>u32</td></tr></thead><tbody><tr><td>0</td><td>16644</td></tr><tr><td>1</td><td>33335</td></tr><tr><td>2</td><td>33377</td></tr></tbody></table></div>"
      ],
      "text/plain": [
       "shape: (3, 2)\n",
       "┌───────┬───────┐\n",
       "│ flags ┆ len   │\n",
       "│ ---   ┆ ---   │\n",
       "│ i32   ┆ u32   │\n",
       "╞═══════╪═══════╡\n",
       "│ 0     ┆ 16644 │\n",
       "│ 1     ┆ 33335 │\n",
       "│ 2     ┆ 33377 │\n",
       "└───────┴───────┘"
      ]
     },
     "execution_count": 7,
     "metadata": {},
     "output_type": "execute_result"
    }
   ],
   "source": [
    "# Downsample on one group\n",
    "sa1 = sa.downsample(\n",
    "    df, \n",
    "    (pl.col(\"flags\") == 0, 0.5)\n",
    ")\n",
    "sa1.group_by(\"flags\").len().sort(\"flags\")"
   ]
  },
  {
   "cell_type": "code",
   "execution_count": 8,
   "metadata": {},
   "outputs": [
    {
     "data": {
      "text/html": [
       "<div><style>\n",
       ".dataframe > thead > tr,\n",
       ".dataframe > tbody > tr {\n",
       "  text-align: right;\n",
       "  white-space: pre-wrap;\n",
       "}\n",
       "</style>\n",
       "<small>shape: (3, 2)</small><table border=\"1\" class=\"dataframe\"><thead><tr><th>flags</th><th>len</th></tr><tr><td>i32</td><td>u32</td></tr></thead><tbody><tr><td>0</td><td>16644</td></tr><tr><td>1</td><td>10001</td></tr><tr><td>2</td><td>13351</td></tr></tbody></table></div>"
      ],
      "text/plain": [
       "shape: (3, 2)\n",
       "┌───────┬───────┐\n",
       "│ flags ┆ len   │\n",
       "│ ---   ┆ ---   │\n",
       "│ i32   ┆ u32   │\n",
       "╞═══════╪═══════╡\n",
       "│ 0     ┆ 16644 │\n",
       "│ 1     ┆ 10001 │\n",
       "│ 2     ┆ 13351 │\n",
       "└───────┴───────┘"
      ]
     },
     "execution_count": 8,
     "metadata": {},
     "output_type": "execute_result"
    }
   ],
   "source": [
    "# Downsample on multiple groups\n",
    "sa2 = sa.downsample(\n",
    "    df, \n",
    "    (pl.col(\"flags\") == 0, 0.5),\n",
    "    (pl.col(\"flags\") == 1, 0.3),\n",
    "    (pl.col(\"flags\") == 2, 0.4),\n",
    ")\n",
    "sa2.group_by(\"flags\").len().sort(\"flags\")"
   ]
  },
  {
   "cell_type": "code",
   "execution_count": 9,
   "metadata": {},
   "outputs": [
    {
     "data": {
      "text/html": [
       "<div><style>\n",
       ".dataframe > thead > tr,\n",
       ".dataframe > tbody > tr {\n",
       "  text-align: right;\n",
       "  white-space: pre-wrap;\n",
       "}\n",
       "</style>\n",
       "<small>shape: (3, 2)</small><table border=\"1\" class=\"dataframe\"><thead><tr><th>category</th><th>len</th></tr><tr><td>str</td><td>u32</td></tr></thead><tbody><tr><td>&quot;A&quot;</td><td>30000</td></tr><tr><td>&quot;B&quot;</td><td>30000</td></tr><tr><td>&quot;C&quot;</td><td>40000</td></tr></tbody></table></div>"
      ],
      "text/plain": [
       "shape: (3, 2)\n",
       "┌──────────┬───────┐\n",
       "│ category ┆ len   │\n",
       "│ ---      ┆ ---   │\n",
       "│ str      ┆ u32   │\n",
       "╞══════════╪═══════╡\n",
       "│ A        ┆ 30000 │\n",
       "│ B        ┆ 30000 │\n",
       "│ C        ┆ 40000 │\n",
       "└──────────┴───────┘"
      ]
     },
     "execution_count": 9,
     "metadata": {},
     "output_type": "execute_result"
    }
   ],
   "source": [
    "df.group_by(\"category\").len().sort(\"category\")"
   ]
  },
  {
   "cell_type": "code",
   "execution_count": 10,
   "metadata": {},
   "outputs": [
    {
     "data": {
      "text/html": [
       "<div><style>\n",
       ".dataframe > thead > tr,\n",
       ".dataframe > tbody > tr {\n",
       "  text-align: right;\n",
       "  white-space: pre-wrap;\n",
       "}\n",
       "</style>\n",
       "<small>shape: (3, 2)</small><table border=\"1\" class=\"dataframe\"><thead><tr><th>category</th><th>len</th></tr><tr><td>str</td><td>u32</td></tr></thead><tbody><tr><td>&quot;A&quot;</td><td>30000</td></tr><tr><td>&quot;B&quot;</td><td>30000</td></tr><tr><td>&quot;C&quot;</td><td>30000</td></tr></tbody></table></div>"
      ],
      "text/plain": [
       "shape: (3, 2)\n",
       "┌──────────┬───────┐\n",
       "│ category ┆ len   │\n",
       "│ ---      ┆ ---   │\n",
       "│ str      ┆ u32   │\n",
       "╞══════════╪═══════╡\n",
       "│ A        ┆ 30000 │\n",
       "│ B        ┆ 30000 │\n",
       "│ C        ┆ 30000 │\n",
       "└──────────┴───────┘"
      ]
     },
     "execution_count": 10,
     "metadata": {},
     "output_type": "execute_result"
    }
   ],
   "source": [
    "# Volume neutral by each category, will take the greatest possible value so that we get neutral volume.\n",
    "vn = sa.volume_neutral(\n",
    "    df,\n",
    "    by = pl.col(\"category\"),\n",
    ")\n",
    "vn.group_by(\"category\").len().sort(\"category\")"
   ]
  },
  {
   "cell_type": "code",
   "execution_count": 11,
   "metadata": {},
   "outputs": [
    {
     "data": {
      "text/html": [
       "<div><style>\n",
       ".dataframe > thead > tr,\n",
       ".dataframe > tbody > tr {\n",
       "  text-align: right;\n",
       "  white-space: pre-wrap;\n",
       "}\n",
       "</style>\n",
       "<small>shape: (3, 2)</small><table border=\"1\" class=\"dataframe\"><thead><tr><th>category</th><th>len</th></tr><tr><td>str</td><td>u32</td></tr></thead><tbody><tr><td>&quot;A&quot;</td><td>10000</td></tr><tr><td>&quot;B&quot;</td><td>10000</td></tr><tr><td>&quot;C&quot;</td><td>10000</td></tr></tbody></table></div>"
      ],
      "text/plain": [
       "shape: (3, 2)\n",
       "┌──────────┬───────┐\n",
       "│ category ┆ len   │\n",
       "│ ---      ┆ ---   │\n",
       "│ str      ┆ u32   │\n",
       "╞══════════╪═══════╡\n",
       "│ A        ┆ 10000 │\n",
       "│ B        ┆ 10000 │\n",
       "│ C        ┆ 10000 │\n",
       "└──────────┴───────┘"
      ]
     },
     "execution_count": 11,
     "metadata": {},
     "output_type": "execute_result"
    }
   ],
   "source": [
    "# Volume neutral (10_000) by each category\n",
    "vn = sa.volume_neutral(\n",
    "    df,\n",
    "    by = pl.col(\"category\"),\n",
    "    target_volume = 10_000\n",
    ")\n",
    "vn.group_by(\"category\").len().sort(\"category\")"
   ]
  },
  {
   "cell_type": "code",
   "execution_count": 12,
   "metadata": {},
   "outputs": [
    {
     "data": {
      "text/html": [
       "<div><style>\n",
       ".dataframe > thead > tr,\n",
       ".dataframe > tbody > tr {\n",
       "  text-align: right;\n",
       "  white-space: pre-wrap;\n",
       "}\n",
       "</style>\n",
       "<small>shape: (3, 2)</small><table border=\"1\" class=\"dataframe\"><thead><tr><th>category</th><th>len</th></tr><tr><td>str</td><td>u32</td></tr></thead><tbody><tr><td>&quot;A&quot;</td><td>10000</td></tr><tr><td>&quot;B&quot;</td><td>4266</td></tr><tr><td>&quot;C&quot;</td><td>5734</td></tr></tbody></table></div>"
      ],
      "text/plain": [
       "shape: (3, 2)\n",
       "┌──────────┬───────┐\n",
       "│ category ┆ len   │\n",
       "│ ---      ┆ ---   │\n",
       "│ str      ┆ u32   │\n",
       "╞══════════╪═══════╡\n",
       "│ A        ┆ 10000 │\n",
       "│ B        ┆ 4266  │\n",
       "│ C        ┆ 5734  │\n",
       "└──────────┴───────┘"
      ]
     },
     "execution_count": 12,
     "metadata": {},
     "output_type": "execute_result"
    }
   ],
   "source": [
    "# Volume neutral (10_000) by a more complicated condition\n",
    "vn = sa.volume_neutral(\n",
    "    df,\n",
    "    by = pl.col(\"category\") == \"A\",\n",
    "    target_volume = 10_000\n",
    ") # This makes sense because count for B + count for C = 10_000\n",
    "vn.group_by(\"category\").len().sort(\"category\")"
   ]
  },
  {
   "cell_type": "code",
   "execution_count": 13,
   "metadata": {},
   "outputs": [
    {
     "data": {
      "text/html": [
       "<div><style>\n",
       ".dataframe > thead > tr,\n",
       ".dataframe > tbody > tr {\n",
       "  text-align: right;\n",
       "  white-space: pre-wrap;\n",
       "}\n",
       "</style>\n",
       "<small>shape: (9, 3)</small><table border=\"1\" class=\"dataframe\"><thead><tr><th>category</th><th>flags</th><th>len</th></tr><tr><td>str</td><td>i32</td><td>u32</td></tr></thead><tbody><tr><td>&quot;A&quot;</td><td>0</td><td>9862</td></tr><tr><td>&quot;A&quot;</td><td>1</td><td>9862</td></tr><tr><td>&quot;A&quot;</td><td>2</td><td>9862</td></tr><tr><td>&quot;B&quot;</td><td>0</td><td>9973</td></tr><tr><td>&quot;B&quot;</td><td>1</td><td>9973</td></tr><tr><td>&quot;B&quot;</td><td>2</td><td>9973</td></tr><tr><td>&quot;C&quot;</td><td>0</td><td>13236</td></tr><tr><td>&quot;C&quot;</td><td>1</td><td>13236</td></tr><tr><td>&quot;C&quot;</td><td>2</td><td>13236</td></tr></tbody></table></div>"
      ],
      "text/plain": [
       "shape: (9, 3)\n",
       "┌──────────┬───────┬───────┐\n",
       "│ category ┆ flags ┆ len   │\n",
       "│ ---      ┆ ---   ┆ ---   │\n",
       "│ str      ┆ i32   ┆ u32   │\n",
       "╞══════════╪═══════╪═══════╡\n",
       "│ A        ┆ 0     ┆ 9862  │\n",
       "│ A        ┆ 1     ┆ 9862  │\n",
       "│ A        ┆ 2     ┆ 9862  │\n",
       "│ B        ┆ 0     ┆ 9973  │\n",
       "│ B        ┆ 1     ┆ 9973  │\n",
       "│ B        ┆ 2     ┆ 9973  │\n",
       "│ C        ┆ 0     ┆ 13236 │\n",
       "│ C        ┆ 1     ┆ 13236 │\n",
       "│ C        ┆ 2     ┆ 13236 │\n",
       "└──────────┴───────┴───────┘"
      ]
     },
     "execution_count": 13,
     "metadata": {},
     "output_type": "execute_result"
    }
   ],
   "source": [
    "# Volume neutral sample with a control level. Volume neutral happens under the category level, meaning\n",
    "# the volume for each flag in each category is neutral.\n",
    "vn = sa.volume_neutral(\n",
    "    df,\n",
    "    by = pl.col(\"flags\"),\n",
    "    control = pl.col(\"category\")\n",
    ") \n",
    "vn.group_by([\"category\", \"flags\"]).len().sort([\"category\", \"flags\"])"
   ]
  },
  {
   "cell_type": "code",
   "execution_count": 14,
   "metadata": {},
   "outputs": [
    {
     "data": {
      "text/html": [
       "<div><style>\n",
       ".dataframe > thead > tr,\n",
       ".dataframe > tbody > tr {\n",
       "  text-align: right;\n",
       "  white-space: pre-wrap;\n",
       "}\n",
       "</style>\n",
       "<small>shape: (9, 3)</small><table border=\"1\" class=\"dataframe\"><thead><tr><th>category</th><th>flags</th><th>len</th></tr><tr><td>str</td><td>i32</td><td>u32</td></tr></thead><tbody><tr><td>&quot;A&quot;</td><td>0</td><td>9862</td></tr><tr><td>&quot;A&quot;</td><td>1</td><td>9862</td></tr><tr><td>&quot;A&quot;</td><td>2</td><td>9862</td></tr><tr><td>&quot;B&quot;</td><td>0</td><td>9973</td></tr><tr><td>&quot;B&quot;</td><td>1</td><td>9973</td></tr><tr><td>&quot;B&quot;</td><td>2</td><td>9973</td></tr><tr><td>&quot;C&quot;</td><td>0</td><td>10000</td></tr><tr><td>&quot;C&quot;</td><td>1</td><td>10000</td></tr><tr><td>&quot;C&quot;</td><td>2</td><td>10000</td></tr></tbody></table></div>"
      ],
      "text/plain": [
       "shape: (9, 3)\n",
       "┌──────────┬───────┬───────┐\n",
       "│ category ┆ flags ┆ len   │\n",
       "│ ---      ┆ ---   ┆ ---   │\n",
       "│ str      ┆ i32   ┆ u32   │\n",
       "╞══════════╪═══════╪═══════╡\n",
       "│ A        ┆ 0     ┆ 9862  │\n",
       "│ A        ┆ 1     ┆ 9862  │\n",
       "│ A        ┆ 2     ┆ 9862  │\n",
       "│ B        ┆ 0     ┆ 9973  │\n",
       "│ B        ┆ 1     ┆ 9973  │\n",
       "│ B        ┆ 2     ┆ 9973  │\n",
       "│ C        ┆ 0     ┆ 10000 │\n",
       "│ C        ┆ 1     ┆ 10000 │\n",
       "│ C        ┆ 2     ┆ 10000 │\n",
       "└──────────┴───────┴───────┘"
      ]
     },
     "execution_count": 14,
     "metadata": {},
     "output_type": "execute_result"
    }
   ],
   "source": [
    "# We may not meet the target volume for all categories.\n",
    "vn = sa.volume_neutral(\n",
    "    df,\n",
    "    by = pl.col(\"flags\"),\n",
    "    control = pl.col(\"category\"),\n",
    "    target_volume= 10_000\n",
    ") # \n",
    "vn.group_by([\"category\", \"flags\"]).len().sort([\"category\", \"flags\"])"
   ]
  },
  {
   "cell_type": "markdown",
   "metadata": {},
   "source": [
    "## Splitting\n",
    "\n",
    "To be added..."
   ]
  },
  {
   "cell_type": "markdown",
   "metadata": {},
   "source": []
  },
  {
   "cell_type": "markdown",
   "metadata": {},
   "source": []
  }
 ],
 "metadata": {
  "kernelspec": {
   "display_name": ".venv",
   "language": "python",
   "name": "python3"
  },
  "language_info": {
   "codemirror_mode": {
    "name": "ipython",
    "version": 3
   },
   "file_extension": ".py",
   "mimetype": "text/x-python",
   "name": "python",
   "nbconvert_exporter": "python",
   "pygments_lexer": "ipython3",
   "version": "3.12.6"
  }
 },
 "nbformat": 4,
 "nbformat_minor": 2
}
