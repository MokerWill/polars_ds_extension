{
 "cells": [
  {
   "cell_type": "markdown",
   "metadata": {},
   "source": [
    "# Sampling and Splitting"
   ]
  },
  {
   "cell_type": "markdown",
   "metadata": {},
   "source": [
    "## Sampling\n",
    "\n",
    "Sampling for basic tabular datasets. (Not designed for time series as of now.)"
   ]
  },
  {
   "cell_type": "code",
   "execution_count": 1,
   "metadata": {},
   "outputs": [],
   "source": [
    "import polars as pl\n",
    "import polars_ds as pds\n",
    "import polars_ds.sample_and_splits as sa"
   ]
  },
  {
   "cell_type": "code",
   "execution_count": 2,
   "metadata": {},
   "outputs": [
    {
     "data": {
      "text/html": [
       "<div><style>\n",
       ".dataframe > thead > tr,\n",
       ".dataframe > tbody > tr {\n",
       "  text-align: right;\n",
       "  white-space: pre-wrap;\n",
       "}\n",
       "</style>\n",
       "<small>shape: (5, 8)</small><table border=\"1\" class=\"dataframe\"><thead><tr><th>row_num</th><th>uniform_1</th><th>uniform_2</th><th>exp</th><th>normal</th><th>fat_normal</th><th>flags</th><th>category</th></tr><tr><td>i64</td><td>f64</td><td>f64</td><td>f64</td><td>f64</td><td>f64</td><td>i32</td><td>str</td></tr></thead><tbody><tr><td>0</td><td>11.206726</td><td>0.894185</td><td>4.458632</td><td>-1.050551</td><td>-889.082412</td><td>2</td><td>&quot;A&quot;</td></tr><tr><td>1</td><td>10.582617</td><td>0.178725</td><td>0.30583</td><td>1.600861</td><td>-1314.229192</td><td>2</td><td>&quot;A&quot;</td></tr><tr><td>2</td><td>7.428565</td><td>0.179167</td><td>1.25681</td><td>1.542938</td><td>-508.690208</td><td>0</td><td>&quot;A&quot;</td></tr><tr><td>3</td><td>2.7745</td><td>0.952779</td><td>1.743263</td><td>0.53713</td><td>559.948959</td><td>0</td><td>&quot;A&quot;</td></tr><tr><td>4</td><td>9.308098</td><td>0.409356</td><td>0.451091</td><td>1.245293</td><td>395.857481</td><td>0</td><td>&quot;A&quot;</td></tr></tbody></table></div>"
      ],
      "text/plain": [
       "shape: (5, 8)\n",
       "┌─────────┬───────────┬───────────┬──────────┬───────────┬──────────────┬───────┬──────────┐\n",
       "│ row_num ┆ uniform_1 ┆ uniform_2 ┆ exp      ┆ normal    ┆ fat_normal   ┆ flags ┆ category │\n",
       "│ ---     ┆ ---       ┆ ---       ┆ ---      ┆ ---       ┆ ---          ┆ ---   ┆ ---      │\n",
       "│ i64     ┆ f64       ┆ f64       ┆ f64      ┆ f64       ┆ f64          ┆ i32   ┆ str      │\n",
       "╞═════════╪═══════════╪═══════════╪══════════╪═══════════╪══════════════╪═══════╪══════════╡\n",
       "│ 0       ┆ 11.206726 ┆ 0.894185  ┆ 4.458632 ┆ -1.050551 ┆ -889.082412  ┆ 2     ┆ A        │\n",
       "│ 1       ┆ 10.582617 ┆ 0.178725  ┆ 0.30583  ┆ 1.600861  ┆ -1314.229192 ┆ 2     ┆ A        │\n",
       "│ 2       ┆ 7.428565  ┆ 0.179167  ┆ 1.25681  ┆ 1.542938  ┆ -508.690208  ┆ 0     ┆ A        │\n",
       "│ 3       ┆ 2.7745    ┆ 0.952779  ┆ 1.743263 ┆ 0.53713   ┆ 559.948959   ┆ 0     ┆ A        │\n",
       "│ 4       ┆ 9.308098  ┆ 0.409356  ┆ 0.451091 ┆ 1.245293  ┆ 395.857481   ┆ 0     ┆ A        │\n",
       "└─────────┴───────────┴───────────┴──────────┴───────────┴──────────────┴───────┴──────────┘"
      ]
     },
     "execution_count": 2,
     "metadata": {},
     "output_type": "execute_result"
    }
   ],
   "source": [
    "df = pds.frame(size=100_000).with_columns(\n",
    "    pds.random(0.0, 12.0).alias(\"uniform_1\"),\n",
    "    pds.random(0.0, 1.0).alias(\"uniform_2\"),\n",
    "    pds.random_exp(0.5).alias(\"exp\"),\n",
    "    pds.random_normal(0.0, 1.0).alias(\"normal\"),\n",
    "    pds.random_normal(0.0, 1000.0).alias(\"fat_normal\"),\n",
    "    (pds.random_int(0, 3)).alias(\"flags\"),\n",
    "    pl.Series([\"A\"] * 30_000 + [\"B\"] * 30_000 + [\"C\"] * 40_000).alias(\"category\"),\n",
    ")\n",
    "df.head()"
   ]
  },
  {
   "cell_type": "code",
   "execution_count": 3,
   "metadata": {},
   "outputs": [
    {
     "data": {
      "text/plain": [
       "['row_num', 'normal', 'flags']"
      ]
     },
     "execution_count": 3,
     "metadata": {},
     "output_type": "execute_result"
    }
   ],
   "source": [
    "sa.random_cols(df, 2, keep = [\"row_num\"])"
   ]
  },
  {
   "cell_type": "code",
   "execution_count": 4,
   "metadata": {},
   "outputs": [
    {
     "data": {
      "text/html": [
       "<div><style>\n",
       ".dataframe > thead > tr,\n",
       ".dataframe > tbody > tr {\n",
       "  text-align: right;\n",
       "  white-space: pre-wrap;\n",
       "}\n",
       "</style>\n",
       "<small>shape: (60_000, 8)</small><table border=\"1\" class=\"dataframe\"><thead><tr><th>row_num</th><th>uniform_1</th><th>uniform_2</th><th>exp</th><th>normal</th><th>fat_normal</th><th>flags</th><th>category</th></tr><tr><td>i64</td><td>f64</td><td>f64</td><td>f64</td><td>f64</td><td>f64</td><td>i32</td><td>str</td></tr></thead><tbody><tr><td>1</td><td>10.582617</td><td>0.178725</td><td>0.30583</td><td>1.600861</td><td>-1314.229192</td><td>2</td><td>&quot;A&quot;</td></tr><tr><td>2</td><td>7.428565</td><td>0.179167</td><td>1.25681</td><td>1.542938</td><td>-508.690208</td><td>0</td><td>&quot;A&quot;</td></tr><tr><td>3</td><td>2.7745</td><td>0.952779</td><td>1.743263</td><td>0.53713</td><td>559.948959</td><td>0</td><td>&quot;A&quot;</td></tr><tr><td>4</td><td>9.308098</td><td>0.409356</td><td>0.451091</td><td>1.245293</td><td>395.857481</td><td>0</td><td>&quot;A&quot;</td></tr><tr><td>5</td><td>0.197613</td><td>0.50962</td><td>1.487213</td><td>0.899812</td><td>-504.788795</td><td>0</td><td>&quot;A&quot;</td></tr><tr><td>&hellip;</td><td>&hellip;</td><td>&hellip;</td><td>&hellip;</td><td>&hellip;</td><td>&hellip;</td><td>&hellip;</td><td>&hellip;</td></tr><tr><td>99991</td><td>9.855049</td><td>0.550736</td><td>16.33884</td><td>-1.237213</td><td>428.289176</td><td>0</td><td>&quot;C&quot;</td></tr><tr><td>99992</td><td>10.678872</td><td>0.592427</td><td>0.884442</td><td>0.476622</td><td>-3040.243293</td><td>0</td><td>&quot;C&quot;</td></tr><tr><td>99995</td><td>1.596649</td><td>0.873083</td><td>3.649007</td><td>1.359436</td><td>-1275.453144</td><td>0</td><td>&quot;C&quot;</td></tr><tr><td>99996</td><td>5.713725</td><td>0.496043</td><td>8.549229</td><td>1.224408</td><td>1356.433622</td><td>2</td><td>&quot;C&quot;</td></tr><tr><td>99999</td><td>8.544393</td><td>0.473532</td><td>1.202125</td><td>-0.061709</td><td>-25.572256</td><td>1</td><td>&quot;C&quot;</td></tr></tbody></table></div>"
      ],
      "text/plain": [
       "shape: (60_000, 8)\n",
       "┌─────────┬───────────┬───────────┬──────────┬───────────┬──────────────┬───────┬──────────┐\n",
       "│ row_num ┆ uniform_1 ┆ uniform_2 ┆ exp      ┆ normal    ┆ fat_normal   ┆ flags ┆ category │\n",
       "│ ---     ┆ ---       ┆ ---       ┆ ---      ┆ ---       ┆ ---          ┆ ---   ┆ ---      │\n",
       "│ i64     ┆ f64       ┆ f64       ┆ f64      ┆ f64       ┆ f64          ┆ i32   ┆ str      │\n",
       "╞═════════╪═══════════╪═══════════╪══════════╪═══════════╪══════════════╪═══════╪══════════╡\n",
       "│ 1       ┆ 10.582617 ┆ 0.178725  ┆ 0.30583  ┆ 1.600861  ┆ -1314.229192 ┆ 2     ┆ A        │\n",
       "│ 2       ┆ 7.428565  ┆ 0.179167  ┆ 1.25681  ┆ 1.542938  ┆ -508.690208  ┆ 0     ┆ A        │\n",
       "│ 3       ┆ 2.7745    ┆ 0.952779  ┆ 1.743263 ┆ 0.53713   ┆ 559.948959   ┆ 0     ┆ A        │\n",
       "│ 4       ┆ 9.308098  ┆ 0.409356  ┆ 0.451091 ┆ 1.245293  ┆ 395.857481   ┆ 0     ┆ A        │\n",
       "│ 5       ┆ 0.197613  ┆ 0.50962   ┆ 1.487213 ┆ 0.899812  ┆ -504.788795  ┆ 0     ┆ A        │\n",
       "│ …       ┆ …         ┆ …         ┆ …        ┆ …         ┆ …            ┆ …     ┆ …        │\n",
       "│ 99991   ┆ 9.855049  ┆ 0.550736  ┆ 16.33884 ┆ -1.237213 ┆ 428.289176   ┆ 0     ┆ C        │\n",
       "│ 99992   ┆ 10.678872 ┆ 0.592427  ┆ 0.884442 ┆ 0.476622  ┆ -3040.243293 ┆ 0     ┆ C        │\n",
       "│ 99995   ┆ 1.596649  ┆ 0.873083  ┆ 3.649007 ┆ 1.359436  ┆ -1275.453144 ┆ 0     ┆ C        │\n",
       "│ 99996   ┆ 5.713725  ┆ 0.496043  ┆ 8.549229 ┆ 1.224408  ┆ 1356.433622  ┆ 2     ┆ C        │\n",
       "│ 99999   ┆ 8.544393  ┆ 0.473532  ┆ 1.202125 ┆ -0.061709 ┆ -25.572256   ┆ 1     ┆ C        │\n",
       "└─────────┴───────────┴───────────┴──────────┴───────────┴──────────────┴───────┴──────────┘"
      ]
     },
     "execution_count": 4,
     "metadata": {},
     "output_type": "execute_result"
    }
   ],
   "source": [
    "# Random Sample\n",
    "sa.sample(df, 0.6) # by ratio"
   ]
  },
  {
   "cell_type": "code",
   "execution_count": 5,
   "metadata": {},
   "outputs": [
    {
     "data": {
      "text/html": [
       "<div><style>\n",
       ".dataframe > thead > tr,\n",
       ".dataframe > tbody > tr {\n",
       "  text-align: right;\n",
       "  white-space: pre-wrap;\n",
       "}\n",
       "</style>\n",
       "<small>shape: (30_000, 8)</small><table border=\"1\" class=\"dataframe\"><thead><tr><th>row_num</th><th>uniform_1</th><th>uniform_2</th><th>exp</th><th>normal</th><th>fat_normal</th><th>flags</th><th>category</th></tr><tr><td>i64</td><td>f64</td><td>f64</td><td>f64</td><td>f64</td><td>f64</td><td>i32</td><td>str</td></tr></thead><tbody><tr><td>0</td><td>11.206726</td><td>0.894185</td><td>4.458632</td><td>-1.050551</td><td>-889.082412</td><td>2</td><td>&quot;A&quot;</td></tr><tr><td>3</td><td>2.7745</td><td>0.952779</td><td>1.743263</td><td>0.53713</td><td>559.948959</td><td>0</td><td>&quot;A&quot;</td></tr><tr><td>6</td><td>10.429956</td><td>0.882234</td><td>2.800236</td><td>-0.468756</td><td>-358.755424</td><td>0</td><td>&quot;A&quot;</td></tr><tr><td>11</td><td>6.535157</td><td>0.655297</td><td>1.563761</td><td>0.425741</td><td>-140.830527</td><td>2</td><td>&quot;A&quot;</td></tr><tr><td>13</td><td>3.734648</td><td>0.603236</td><td>3.702746</td><td>-1.778182</td><td>-57.954508</td><td>0</td><td>&quot;A&quot;</td></tr><tr><td>&hellip;</td><td>&hellip;</td><td>&hellip;</td><td>&hellip;</td><td>&hellip;</td><td>&hellip;</td><td>&hellip;</td><td>&hellip;</td></tr><tr><td>99981</td><td>2.456735</td><td>0.453969</td><td>0.010071</td><td>-1.933908</td><td>-839.604284</td><td>0</td><td>&quot;C&quot;</td></tr><tr><td>99982</td><td>5.420465</td><td>0.316977</td><td>5.236476</td><td>-0.365679</td><td>826.449517</td><td>1</td><td>&quot;C&quot;</td></tr><tr><td>99983</td><td>6.719658</td><td>0.909437</td><td>1.238917</td><td>-0.297085</td><td>-601.853564</td><td>2</td><td>&quot;C&quot;</td></tr><tr><td>99992</td><td>10.678872</td><td>0.592427</td><td>0.884442</td><td>0.476622</td><td>-3040.243293</td><td>0</td><td>&quot;C&quot;</td></tr><tr><td>99996</td><td>5.713725</td><td>0.496043</td><td>8.549229</td><td>1.224408</td><td>1356.433622</td><td>2</td><td>&quot;C&quot;</td></tr></tbody></table></div>"
      ],
      "text/plain": [
       "shape: (30_000, 8)\n",
       "┌─────────┬───────────┬───────────┬──────────┬───────────┬──────────────┬───────┬──────────┐\n",
       "│ row_num ┆ uniform_1 ┆ uniform_2 ┆ exp      ┆ normal    ┆ fat_normal   ┆ flags ┆ category │\n",
       "│ ---     ┆ ---       ┆ ---       ┆ ---      ┆ ---       ┆ ---          ┆ ---   ┆ ---      │\n",
       "│ i64     ┆ f64       ┆ f64       ┆ f64      ┆ f64       ┆ f64          ┆ i32   ┆ str      │\n",
       "╞═════════╪═══════════╪═══════════╪══════════╪═══════════╪══════════════╪═══════╪══════════╡\n",
       "│ 0       ┆ 11.206726 ┆ 0.894185  ┆ 4.458632 ┆ -1.050551 ┆ -889.082412  ┆ 2     ┆ A        │\n",
       "│ 3       ┆ 2.7745    ┆ 0.952779  ┆ 1.743263 ┆ 0.53713   ┆ 559.948959   ┆ 0     ┆ A        │\n",
       "│ 6       ┆ 10.429956 ┆ 0.882234  ┆ 2.800236 ┆ -0.468756 ┆ -358.755424  ┆ 0     ┆ A        │\n",
       "│ 11      ┆ 6.535157  ┆ 0.655297  ┆ 1.563761 ┆ 0.425741  ┆ -140.830527  ┆ 2     ┆ A        │\n",
       "│ 13      ┆ 3.734648  ┆ 0.603236  ┆ 3.702746 ┆ -1.778182 ┆ -57.954508   ┆ 0     ┆ A        │\n",
       "│ …       ┆ …         ┆ …         ┆ …        ┆ …         ┆ …            ┆ …     ┆ …        │\n",
       "│ 99981   ┆ 2.456735  ┆ 0.453969  ┆ 0.010071 ┆ -1.933908 ┆ -839.604284  ┆ 0     ┆ C        │\n",
       "│ 99982   ┆ 5.420465  ┆ 0.316977  ┆ 5.236476 ┆ -0.365679 ┆ 826.449517   ┆ 1     ┆ C        │\n",
       "│ 99983   ┆ 6.719658  ┆ 0.909437  ┆ 1.238917 ┆ -0.297085 ┆ -601.853564  ┆ 2     ┆ C        │\n",
       "│ 99992   ┆ 10.678872 ┆ 0.592427  ┆ 0.884442 ┆ 0.476622  ┆ -3040.243293 ┆ 0     ┆ C        │\n",
       "│ 99996   ┆ 5.713725  ┆ 0.496043  ┆ 8.549229 ┆ 1.224408  ┆ 1356.433622  ┆ 2     ┆ C        │\n",
       "└─────────┴───────────┴───────────┴──────────┴───────────┴──────────────┴───────┴──────────┘"
      ]
     },
     "execution_count": 5,
     "metadata": {},
     "output_type": "execute_result"
    }
   ],
   "source": [
    "sa.sample(df, 30_000) # by count"
   ]
  },
  {
   "cell_type": "code",
   "execution_count": 6,
   "metadata": {},
   "outputs": [
    {
     "data": {
      "text/html": [
       "<div><style>\n",
       ".dataframe > thead > tr,\n",
       ".dataframe > tbody > tr {\n",
       "  text-align: right;\n",
       "  white-space: pre-wrap;\n",
       "}\n",
       "</style>\n",
       "<small>shape: (3, 2)</small><table border=\"1\" class=\"dataframe\"><thead><tr><th>flags</th><th>len</th></tr><tr><td>i32</td><td>u32</td></tr></thead><tbody><tr><td>0</td><td>33277</td></tr><tr><td>1</td><td>33463</td></tr><tr><td>2</td><td>33260</td></tr></tbody></table></div>"
      ],
      "text/plain": [
       "shape: (3, 2)\n",
       "┌───────┬───────┐\n",
       "│ flags ┆ len   │\n",
       "│ ---   ┆ ---   │\n",
       "│ i32   ┆ u32   │\n",
       "╞═══════╪═══════╡\n",
       "│ 0     ┆ 33277 │\n",
       "│ 1     ┆ 33463 │\n",
       "│ 2     ┆ 33260 │\n",
       "└───────┴───────┘"
      ]
     },
     "execution_count": 6,
     "metadata": {},
     "output_type": "execute_result"
    }
   ],
   "source": [
    "df.group_by(\"flags\").len().sort(\"flags\")"
   ]
  },
  {
   "cell_type": "code",
   "execution_count": 7,
   "metadata": {},
   "outputs": [
    {
     "data": {
      "text/html": [
       "<div><style>\n",
       ".dataframe > thead > tr,\n",
       ".dataframe > tbody > tr {\n",
       "  text-align: right;\n",
       "  white-space: pre-wrap;\n",
       "}\n",
       "</style>\n",
       "<small>shape: (3, 2)</small><table border=\"1\" class=\"dataframe\"><thead><tr><th>flags</th><th>len</th></tr><tr><td>i32</td><td>u32</td></tr></thead><tbody><tr><td>0</td><td>16638</td></tr><tr><td>1</td><td>33463</td></tr><tr><td>2</td><td>33260</td></tr></tbody></table></div>"
      ],
      "text/plain": [
       "shape: (3, 2)\n",
       "┌───────┬───────┐\n",
       "│ flags ┆ len   │\n",
       "│ ---   ┆ ---   │\n",
       "│ i32   ┆ u32   │\n",
       "╞═══════╪═══════╡\n",
       "│ 0     ┆ 16638 │\n",
       "│ 1     ┆ 33463 │\n",
       "│ 2     ┆ 33260 │\n",
       "└───────┴───────┘"
      ]
     },
     "execution_count": 7,
     "metadata": {},
     "output_type": "execute_result"
    }
   ],
   "source": [
    "# Downsample on one group\n",
    "sa1 = sa.downsample(\n",
    "    df, \n",
    "    (pl.col(\"flags\") == 0, 0.5)\n",
    ")\n",
    "sa1.group_by(\"flags\").len().sort(\"flags\")"
   ]
  },
  {
   "cell_type": "code",
   "execution_count": 8,
   "metadata": {},
   "outputs": [
    {
     "data": {
      "text/html": [
       "<div><style>\n",
       ".dataframe > thead > tr,\n",
       ".dataframe > tbody > tr {\n",
       "  text-align: right;\n",
       "  white-space: pre-wrap;\n",
       "}\n",
       "</style>\n",
       "<small>shape: (3, 2)</small><table border=\"1\" class=\"dataframe\"><thead><tr><th>flags</th><th>len</th></tr><tr><td>i32</td><td>u32</td></tr></thead><tbody><tr><td>0</td><td>16638</td></tr><tr><td>1</td><td>10038</td></tr><tr><td>2</td><td>13304</td></tr></tbody></table></div>"
      ],
      "text/plain": [
       "shape: (3, 2)\n",
       "┌───────┬───────┐\n",
       "│ flags ┆ len   │\n",
       "│ ---   ┆ ---   │\n",
       "│ i32   ┆ u32   │\n",
       "╞═══════╪═══════╡\n",
       "│ 0     ┆ 16638 │\n",
       "│ 1     ┆ 10038 │\n",
       "│ 2     ┆ 13304 │\n",
       "└───────┴───────┘"
      ]
     },
     "execution_count": 8,
     "metadata": {},
     "output_type": "execute_result"
    }
   ],
   "source": [
    "# Downsample on multiple groups\n",
    "sa2 = sa.downsample(\n",
    "    df, \n",
    "    (pl.col(\"flags\") == 0, 0.5),\n",
    "    (pl.col(\"flags\") == 1, 0.3),\n",
    "    (pl.col(\"flags\") == 2, 0.4),\n",
    ")\n",
    "sa2.group_by(\"flags\").len().sort(\"flags\")"
   ]
  },
  {
   "cell_type": "code",
   "execution_count": 9,
   "metadata": {},
   "outputs": [
    {
     "data": {
      "text/html": [
       "<div><style>\n",
       ".dataframe > thead > tr,\n",
       ".dataframe > tbody > tr {\n",
       "  text-align: right;\n",
       "  white-space: pre-wrap;\n",
       "}\n",
       "</style>\n",
       "<small>shape: (3, 2)</small><table border=\"1\" class=\"dataframe\"><thead><tr><th>category</th><th>len</th></tr><tr><td>str</td><td>u32</td></tr></thead><tbody><tr><td>&quot;A&quot;</td><td>30000</td></tr><tr><td>&quot;B&quot;</td><td>30000</td></tr><tr><td>&quot;C&quot;</td><td>40000</td></tr></tbody></table></div>"
      ],
      "text/plain": [
       "shape: (3, 2)\n",
       "┌──────────┬───────┐\n",
       "│ category ┆ len   │\n",
       "│ ---      ┆ ---   │\n",
       "│ str      ┆ u32   │\n",
       "╞══════════╪═══════╡\n",
       "│ A        ┆ 30000 │\n",
       "│ B        ┆ 30000 │\n",
       "│ C        ┆ 40000 │\n",
       "└──────────┴───────┘"
      ]
     },
     "execution_count": 9,
     "metadata": {},
     "output_type": "execute_result"
    }
   ],
   "source": [
    "df.group_by(\"category\").len().sort(\"category\")"
   ]
  },
  {
   "cell_type": "code",
   "execution_count": 10,
   "metadata": {},
   "outputs": [
    {
     "data": {
      "text/html": [
       "<div><style>\n",
       ".dataframe > thead > tr,\n",
       ".dataframe > tbody > tr {\n",
       "  text-align: right;\n",
       "  white-space: pre-wrap;\n",
       "}\n",
       "</style>\n",
       "<small>shape: (3, 2)</small><table border=\"1\" class=\"dataframe\"><thead><tr><th>category</th><th>len</th></tr><tr><td>str</td><td>u32</td></tr></thead><tbody><tr><td>&quot;A&quot;</td><td>30000</td></tr><tr><td>&quot;B&quot;</td><td>30000</td></tr><tr><td>&quot;C&quot;</td><td>30000</td></tr></tbody></table></div>"
      ],
      "text/plain": [
       "shape: (3, 2)\n",
       "┌──────────┬───────┐\n",
       "│ category ┆ len   │\n",
       "│ ---      ┆ ---   │\n",
       "│ str      ┆ u32   │\n",
       "╞══════════╪═══════╡\n",
       "│ A        ┆ 30000 │\n",
       "│ B        ┆ 30000 │\n",
       "│ C        ┆ 30000 │\n",
       "└──────────┴───────┘"
      ]
     },
     "execution_count": 10,
     "metadata": {},
     "output_type": "execute_result"
    }
   ],
   "source": [
    "# Volume neutral by each category, will take the greatest possible value so that we get neutral volume.\n",
    "vn = sa.volume_neutral(\n",
    "    df,\n",
    "    by = pl.col(\"category\"),\n",
    ")\n",
    "vn.group_by(\"category\").len().sort(\"category\")"
   ]
  },
  {
   "cell_type": "code",
   "execution_count": 11,
   "metadata": {},
   "outputs": [
    {
     "data": {
      "text/html": [
       "<div><style>\n",
       ".dataframe > thead > tr,\n",
       ".dataframe > tbody > tr {\n",
       "  text-align: right;\n",
       "  white-space: pre-wrap;\n",
       "}\n",
       "</style>\n",
       "<small>shape: (3, 2)</small><table border=\"1\" class=\"dataframe\"><thead><tr><th>category</th><th>len</th></tr><tr><td>str</td><td>u32</td></tr></thead><tbody><tr><td>&quot;A&quot;</td><td>10000</td></tr><tr><td>&quot;B&quot;</td><td>10000</td></tr><tr><td>&quot;C&quot;</td><td>10000</td></tr></tbody></table></div>"
      ],
      "text/plain": [
       "shape: (3, 2)\n",
       "┌──────────┬───────┐\n",
       "│ category ┆ len   │\n",
       "│ ---      ┆ ---   │\n",
       "│ str      ┆ u32   │\n",
       "╞══════════╪═══════╡\n",
       "│ A        ┆ 10000 │\n",
       "│ B        ┆ 10000 │\n",
       "│ C        ┆ 10000 │\n",
       "└──────────┴───────┘"
      ]
     },
     "execution_count": 11,
     "metadata": {},
     "output_type": "execute_result"
    }
   ],
   "source": [
    "# Volume neutral (10_000) by each category\n",
    "vn = sa.volume_neutral(\n",
    "    df,\n",
    "    by = pl.col(\"category\"),\n",
    "    target_volume = 10_000\n",
    ")\n",
    "vn.group_by(\"category\").len().sort(\"category\")"
   ]
  },
  {
   "cell_type": "code",
   "execution_count": 12,
   "metadata": {},
   "outputs": [
    {
     "data": {
      "text/html": [
       "<div><style>\n",
       ".dataframe > thead > tr,\n",
       ".dataframe > tbody > tr {\n",
       "  text-align: right;\n",
       "  white-space: pre-wrap;\n",
       "}\n",
       "</style>\n",
       "<small>shape: (3, 2)</small><table border=\"1\" class=\"dataframe\"><thead><tr><th>category</th><th>len</th></tr><tr><td>str</td><td>u32</td></tr></thead><tbody><tr><td>&quot;A&quot;</td><td>10000</td></tr><tr><td>&quot;B&quot;</td><td>4223</td></tr><tr><td>&quot;C&quot;</td><td>5777</td></tr></tbody></table></div>"
      ],
      "text/plain": [
       "shape: (3, 2)\n",
       "┌──────────┬───────┐\n",
       "│ category ┆ len   │\n",
       "│ ---      ┆ ---   │\n",
       "│ str      ┆ u32   │\n",
       "╞══════════╪═══════╡\n",
       "│ A        ┆ 10000 │\n",
       "│ B        ┆ 4223  │\n",
       "│ C        ┆ 5777  │\n",
       "└──────────┴───────┘"
      ]
     },
     "execution_count": 12,
     "metadata": {},
     "output_type": "execute_result"
    }
   ],
   "source": [
    "# Volume neutral (10_000) by a more complicated condition\n",
    "vn = sa.volume_neutral(\n",
    "    df,\n",
    "    by = pl.col(\"category\") == \"A\",\n",
    "    target_volume = 10_000\n",
    ") # This makes sense because count for B + count for C = 10_000\n",
    "vn.group_by(\"category\").len().sort(\"category\")"
   ]
  },
  {
   "cell_type": "code",
   "execution_count": 13,
   "metadata": {},
   "outputs": [
    {
     "data": {
      "text/html": [
       "<div><style>\n",
       ".dataframe > thead > tr,\n",
       ".dataframe > tbody > tr {\n",
       "  text-align: right;\n",
       "  white-space: pre-wrap;\n",
       "}\n",
       "</style>\n",
       "<small>shape: (9, 3)</small><table border=\"1\" class=\"dataframe\"><thead><tr><th>category</th><th>flags</th><th>len</th></tr><tr><td>str</td><td>i32</td><td>u32</td></tr></thead><tbody><tr><td>&quot;A&quot;</td><td>0</td><td>9927</td></tr><tr><td>&quot;A&quot;</td><td>1</td><td>9927</td></tr><tr><td>&quot;A&quot;</td><td>2</td><td>9927</td></tr><tr><td>&quot;B&quot;</td><td>0</td><td>9946</td></tr><tr><td>&quot;B&quot;</td><td>1</td><td>9946</td></tr><tr><td>&quot;B&quot;</td><td>2</td><td>9946</td></tr><tr><td>&quot;C&quot;</td><td>0</td><td>13215</td></tr><tr><td>&quot;C&quot;</td><td>1</td><td>13215</td></tr><tr><td>&quot;C&quot;</td><td>2</td><td>13215</td></tr></tbody></table></div>"
      ],
      "text/plain": [
       "shape: (9, 3)\n",
       "┌──────────┬───────┬───────┐\n",
       "│ category ┆ flags ┆ len   │\n",
       "│ ---      ┆ ---   ┆ ---   │\n",
       "│ str      ┆ i32   ┆ u32   │\n",
       "╞══════════╪═══════╪═══════╡\n",
       "│ A        ┆ 0     ┆ 9927  │\n",
       "│ A        ┆ 1     ┆ 9927  │\n",
       "│ A        ┆ 2     ┆ 9927  │\n",
       "│ B        ┆ 0     ┆ 9946  │\n",
       "│ B        ┆ 1     ┆ 9946  │\n",
       "│ B        ┆ 2     ┆ 9946  │\n",
       "│ C        ┆ 0     ┆ 13215 │\n",
       "│ C        ┆ 1     ┆ 13215 │\n",
       "│ C        ┆ 2     ┆ 13215 │\n",
       "└──────────┴───────┴───────┘"
      ]
     },
     "execution_count": 13,
     "metadata": {},
     "output_type": "execute_result"
    }
   ],
   "source": [
    "# Volume neutral sample with a control level. Volume neutral happens under the category level, meaning\n",
    "# the volume for each flag in each category is neutral.\n",
    "vn = sa.volume_neutral(\n",
    "    df,\n",
    "    by = pl.col(\"flags\"),\n",
    "    control = pl.col(\"category\")\n",
    ") \n",
    "vn.group_by([\"category\", \"flags\"]).len().sort([\"category\", \"flags\"])"
   ]
  },
  {
   "cell_type": "code",
   "execution_count": 14,
   "metadata": {},
   "outputs": [
    {
     "data": {
      "text/html": [
       "<div><style>\n",
       ".dataframe > thead > tr,\n",
       ".dataframe > tbody > tr {\n",
       "  text-align: right;\n",
       "  white-space: pre-wrap;\n",
       "}\n",
       "</style>\n",
       "<small>shape: (9, 3)</small><table border=\"1\" class=\"dataframe\"><thead><tr><th>category</th><th>flags</th><th>len</th></tr><tr><td>str</td><td>i32</td><td>u32</td></tr></thead><tbody><tr><td>&quot;A&quot;</td><td>0</td><td>9927</td></tr><tr><td>&quot;A&quot;</td><td>1</td><td>9927</td></tr><tr><td>&quot;A&quot;</td><td>2</td><td>9927</td></tr><tr><td>&quot;B&quot;</td><td>0</td><td>9946</td></tr><tr><td>&quot;B&quot;</td><td>1</td><td>9946</td></tr><tr><td>&quot;B&quot;</td><td>2</td><td>9946</td></tr><tr><td>&quot;C&quot;</td><td>0</td><td>10000</td></tr><tr><td>&quot;C&quot;</td><td>1</td><td>10000</td></tr><tr><td>&quot;C&quot;</td><td>2</td><td>10000</td></tr></tbody></table></div>"
      ],
      "text/plain": [
       "shape: (9, 3)\n",
       "┌──────────┬───────┬───────┐\n",
       "│ category ┆ flags ┆ len   │\n",
       "│ ---      ┆ ---   ┆ ---   │\n",
       "│ str      ┆ i32   ┆ u32   │\n",
       "╞══════════╪═══════╪═══════╡\n",
       "│ A        ┆ 0     ┆ 9927  │\n",
       "│ A        ┆ 1     ┆ 9927  │\n",
       "│ A        ┆ 2     ┆ 9927  │\n",
       "│ B        ┆ 0     ┆ 9946  │\n",
       "│ B        ┆ 1     ┆ 9946  │\n",
       "│ B        ┆ 2     ┆ 9946  │\n",
       "│ C        ┆ 0     ┆ 10000 │\n",
       "│ C        ┆ 1     ┆ 10000 │\n",
       "│ C        ┆ 2     ┆ 10000 │\n",
       "└──────────┴───────┴───────┘"
      ]
     },
     "execution_count": 14,
     "metadata": {},
     "output_type": "execute_result"
    }
   ],
   "source": [
    "# We may not meet the target volume for all categories.\n",
    "vn = sa.volume_neutral(\n",
    "    df,\n",
    "    by = pl.col(\"flags\"),\n",
    "    control = pl.col(\"category\"),\n",
    "    target_volume= 10_000\n",
    ") # \n",
    "vn.group_by([\"category\", \"flags\"]).len().sort([\"category\", \"flags\"])"
   ]
  },
  {
   "cell_type": "markdown",
   "metadata": {},
   "source": [
    "## Splitting\n",
    "\n",
    "Split by ratios."
   ]
  },
  {
   "cell_type": "code",
   "execution_count": 15,
   "metadata": {},
   "outputs": [
    {
     "name": "stdout",
     "output_type": "stream",
     "text": [
      "(100000, 8)\n",
      "(60000, 8)\n",
      "(40000, 8)\n"
     ]
    }
   ],
   "source": [
    "print(df.shape)\n",
    "train, test = sa.split_by_ratio(\n",
    "    df,\n",
    "    split_ratio = 0.6\n",
    ")\n",
    "print(train.shape)\n",
    "print(test.shape)\n"
   ]
  },
  {
   "cell_type": "code",
   "execution_count": 16,
   "metadata": {},
   "outputs": [
    {
     "name": "stdout",
     "output_type": "stream",
     "text": [
      "(100000, 8)\n",
      "(25000, 8)\n",
      "(40000, 8)\n",
      "(10000, 8)\n",
      "(25000, 8)\n"
     ]
    }
   ],
   "source": [
    "print(df.shape)\n",
    "for frame in sa.split_by_ratio(df, split_ratio = [0.25, 0.4, 0.10, 0.25]):\n",
    "    print(frame.shape)"
   ]
  },
  {
   "cell_type": "code",
   "execution_count": null,
   "metadata": {},
   "outputs": [],
   "source": []
  }
 ],
 "metadata": {
  "kernelspec": {
   "display_name": ".venv",
   "language": "python",
   "name": "python3"
  },
  "language_info": {
   "codemirror_mode": {
    "name": "ipython",
    "version": 3
   },
   "file_extension": ".py",
   "mimetype": "text/x-python",
   "name": "python",
   "nbconvert_exporter": "python",
   "pygments_lexer": "ipython3",
   "version": "3.12.7"
  }
 },
 "nbformat": 4,
 "nbformat_minor": 2
}
