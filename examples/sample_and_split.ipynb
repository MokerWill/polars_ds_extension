{
 "cells": [
  {
   "cell_type": "markdown",
   "metadata": {},
   "source": [
    "# Sampling and Splitting"
   ]
  },
  {
   "cell_type": "markdown",
   "metadata": {},
   "source": [
    "## Sampling\n",
    "\n",
    "Sampling for basic tabular datasets. (Not designed for time series as of now.)"
   ]
  },
  {
   "cell_type": "code",
   "execution_count": 1,
   "metadata": {},
   "outputs": [],
   "source": [
    "import polars as pl\n",
    "import polars_ds as pds\n",
    "import polars_ds.sample_and_split as ss"
   ]
  },
  {
   "cell_type": "code",
   "execution_count": 2,
   "metadata": {},
   "outputs": [
    {
     "data": {
      "text/html": [
       "<div><style>\n",
       ".dataframe > thead > tr,\n",
       ".dataframe > tbody > tr {\n",
       "  text-align: right;\n",
       "  white-space: pre-wrap;\n",
       "}\n",
       "</style>\n",
       "<small>shape: (5, 8)</small><table border=\"1\" class=\"dataframe\"><thead><tr><th>row_num</th><th>uniform_1</th><th>uniform_2</th><th>exp</th><th>normal</th><th>fat_normal</th><th>flags</th><th>category</th></tr><tr><td>i64</td><td>f64</td><td>f64</td><td>f64</td><td>f64</td><td>f64</td><td>i32</td><td>str</td></tr></thead><tbody><tr><td>0</td><td>7.455579</td><td>0.646415</td><td>3.907644</td><td>-1.162823</td><td>102.141997</td><td>2</td><td>&quot;A&quot;</td></tr><tr><td>1</td><td>0.528006</td><td>0.859853</td><td>0.344567</td><td>-0.136473</td><td>181.935043</td><td>1</td><td>&quot;A&quot;</td></tr><tr><td>2</td><td>3.555607</td><td>0.972201</td><td>0.261143</td><td>-0.836478</td><td>-720.824478</td><td>1</td><td>&quot;A&quot;</td></tr><tr><td>3</td><td>5.548706</td><td>0.983658</td><td>1.640527</td><td>0.954563</td><td>1448.808151</td><td>1</td><td>&quot;A&quot;</td></tr><tr><td>4</td><td>2.390781</td><td>0.911941</td><td>9.608222</td><td>1.254891</td><td>-267.94636</td><td>1</td><td>&quot;A&quot;</td></tr></tbody></table></div>"
      ],
      "text/plain": [
       "shape: (5, 8)\n",
       "┌─────────┬───────────┬───────────┬──────────┬───────────┬─────────────┬───────┬──────────┐\n",
       "│ row_num ┆ uniform_1 ┆ uniform_2 ┆ exp      ┆ normal    ┆ fat_normal  ┆ flags ┆ category │\n",
       "│ ---     ┆ ---       ┆ ---       ┆ ---      ┆ ---       ┆ ---         ┆ ---   ┆ ---      │\n",
       "│ i64     ┆ f64       ┆ f64       ┆ f64      ┆ f64       ┆ f64         ┆ i32   ┆ str      │\n",
       "╞═════════╪═══════════╪═══════════╪══════════╪═══════════╪═════════════╪═══════╪══════════╡\n",
       "│ 0       ┆ 7.455579  ┆ 0.646415  ┆ 3.907644 ┆ -1.162823 ┆ 102.141997  ┆ 2     ┆ A        │\n",
       "│ 1       ┆ 0.528006  ┆ 0.859853  ┆ 0.344567 ┆ -0.136473 ┆ 181.935043  ┆ 1     ┆ A        │\n",
       "│ 2       ┆ 3.555607  ┆ 0.972201  ┆ 0.261143 ┆ -0.836478 ┆ -720.824478 ┆ 1     ┆ A        │\n",
       "│ 3       ┆ 5.548706  ┆ 0.983658  ┆ 1.640527 ┆ 0.954563  ┆ 1448.808151 ┆ 1     ┆ A        │\n",
       "│ 4       ┆ 2.390781  ┆ 0.911941  ┆ 9.608222 ┆ 1.254891  ┆ -267.94636  ┆ 1     ┆ A        │\n",
       "└─────────┴───────────┴───────────┴──────────┴───────────┴─────────────┴───────┴──────────┘"
      ]
     },
     "execution_count": 2,
     "metadata": {},
     "output_type": "execute_result"
    }
   ],
   "source": [
    "df = pds.frame(size=100_000).with_columns(\n",
    "    pds.random(0.0, 12.0).alias(\"uniform_1\"),\n",
    "    pds.random(0.0, 1.0).alias(\"uniform_2\"),\n",
    "    pds.random_exp(0.5).alias(\"exp\"),\n",
    "    pds.random_normal(0.0, 1.0).alias(\"normal\"),\n",
    "    pds.random_normal(0.0, 1000.0).alias(\"fat_normal\"),\n",
    "    (pds.random_int(0, 3)).alias(\"flags\"),\n",
    "    pl.Series([\"A\"] * 30_000 + [\"B\"] * 30_000 + [\"C\"] * 40_000).alias(\"category\"),\n",
    ")\n",
    "df.head()"
   ]
  },
  {
   "cell_type": "code",
   "execution_count": 3,
   "metadata": {},
   "outputs": [
    {
     "data": {
      "text/plain": [
       "['row_num', 'exp', 'normal']"
      ]
     },
     "execution_count": 3,
     "metadata": {},
     "output_type": "execute_result"
    }
   ],
   "source": [
    "ss.random_cols(df.columns, 2, keep = [\"row_num\"])"
   ]
  },
  {
   "cell_type": "code",
   "execution_count": 4,
   "metadata": {},
   "outputs": [
    {
     "data": {
      "text/html": [
       "<div><style>\n",
       ".dataframe > thead > tr,\n",
       ".dataframe > tbody > tr {\n",
       "  text-align: right;\n",
       "  white-space: pre-wrap;\n",
       "}\n",
       "</style>\n",
       "<small>shape: (60_000, 8)</small><table border=\"1\" class=\"dataframe\"><thead><tr><th>row_num</th><th>uniform_1</th><th>uniform_2</th><th>exp</th><th>normal</th><th>fat_normal</th><th>flags</th><th>category</th></tr><tr><td>i64</td><td>f64</td><td>f64</td><td>f64</td><td>f64</td><td>f64</td><td>i32</td><td>str</td></tr></thead><tbody><tr><td>0</td><td>7.455579</td><td>0.646415</td><td>3.907644</td><td>-1.162823</td><td>102.141997</td><td>2</td><td>&quot;A&quot;</td></tr><tr><td>1</td><td>0.528006</td><td>0.859853</td><td>0.344567</td><td>-0.136473</td><td>181.935043</td><td>1</td><td>&quot;A&quot;</td></tr><tr><td>2</td><td>3.555607</td><td>0.972201</td><td>0.261143</td><td>-0.836478</td><td>-720.824478</td><td>1</td><td>&quot;A&quot;</td></tr><tr><td>6</td><td>5.735477</td><td>0.840533</td><td>2.331571</td><td>-0.45213</td><td>-1499.985468</td><td>1</td><td>&quot;A&quot;</td></tr><tr><td>8</td><td>11.755689</td><td>0.203643</td><td>4.712804</td><td>0.755243</td><td>-1087.54292</td><td>0</td><td>&quot;A&quot;</td></tr><tr><td>&hellip;</td><td>&hellip;</td><td>&hellip;</td><td>&hellip;</td><td>&hellip;</td><td>&hellip;</td><td>&hellip;</td><td>&hellip;</td></tr><tr><td>99991</td><td>6.748497</td><td>0.310911</td><td>3.920252</td><td>-2.111197</td><td>-370.769352</td><td>0</td><td>&quot;C&quot;</td></tr><tr><td>99993</td><td>7.696526</td><td>0.2563</td><td>0.978704</td><td>0.552231</td><td>321.112705</td><td>0</td><td>&quot;C&quot;</td></tr><tr><td>99994</td><td>0.679278</td><td>0.891505</td><td>1.31112</td><td>-0.737345</td><td>1258.803922</td><td>0</td><td>&quot;C&quot;</td></tr><tr><td>99997</td><td>4.186838</td><td>0.977635</td><td>1.447623</td><td>-0.618252</td><td>1181.83129</td><td>1</td><td>&quot;C&quot;</td></tr><tr><td>99999</td><td>9.077079</td><td>0.638057</td><td>0.646859</td><td>-0.637465</td><td>-1802.316254</td><td>2</td><td>&quot;C&quot;</td></tr></tbody></table></div>"
      ],
      "text/plain": [
       "shape: (60_000, 8)\n",
       "┌─────────┬───────────┬───────────┬──────────┬───────────┬──────────────┬───────┬──────────┐\n",
       "│ row_num ┆ uniform_1 ┆ uniform_2 ┆ exp      ┆ normal    ┆ fat_normal   ┆ flags ┆ category │\n",
       "│ ---     ┆ ---       ┆ ---       ┆ ---      ┆ ---       ┆ ---          ┆ ---   ┆ ---      │\n",
       "│ i64     ┆ f64       ┆ f64       ┆ f64      ┆ f64       ┆ f64          ┆ i32   ┆ str      │\n",
       "╞═════════╪═══════════╪═══════════╪══════════╪═══════════╪══════════════╪═══════╪══════════╡\n",
       "│ 0       ┆ 7.455579  ┆ 0.646415  ┆ 3.907644 ┆ -1.162823 ┆ 102.141997   ┆ 2     ┆ A        │\n",
       "│ 1       ┆ 0.528006  ┆ 0.859853  ┆ 0.344567 ┆ -0.136473 ┆ 181.935043   ┆ 1     ┆ A        │\n",
       "│ 2       ┆ 3.555607  ┆ 0.972201  ┆ 0.261143 ┆ -0.836478 ┆ -720.824478  ┆ 1     ┆ A        │\n",
       "│ 6       ┆ 5.735477  ┆ 0.840533  ┆ 2.331571 ┆ -0.45213  ┆ -1499.985468 ┆ 1     ┆ A        │\n",
       "│ 8       ┆ 11.755689 ┆ 0.203643  ┆ 4.712804 ┆ 0.755243  ┆ -1087.54292  ┆ 0     ┆ A        │\n",
       "│ …       ┆ …         ┆ …         ┆ …        ┆ …         ┆ …            ┆ …     ┆ …        │\n",
       "│ 99991   ┆ 6.748497  ┆ 0.310911  ┆ 3.920252 ┆ -2.111197 ┆ -370.769352  ┆ 0     ┆ C        │\n",
       "│ 99993   ┆ 7.696526  ┆ 0.2563    ┆ 0.978704 ┆ 0.552231  ┆ 321.112705   ┆ 0     ┆ C        │\n",
       "│ 99994   ┆ 0.679278  ┆ 0.891505  ┆ 1.31112  ┆ -0.737345 ┆ 1258.803922  ┆ 0     ┆ C        │\n",
       "│ 99997   ┆ 4.186838  ┆ 0.977635  ┆ 1.447623 ┆ -0.618252 ┆ 1181.83129   ┆ 1     ┆ C        │\n",
       "│ 99999   ┆ 9.077079  ┆ 0.638057  ┆ 0.646859 ┆ -0.637465 ┆ -1802.316254 ┆ 2     ┆ C        │\n",
       "└─────────┴───────────┴───────────┴──────────┴───────────┴──────────────┴───────┴──────────┘"
      ]
     },
     "execution_count": 4,
     "metadata": {},
     "output_type": "execute_result"
    }
   ],
   "source": [
    "# Random Sample\n",
    "ss.sample(df, 0.6) # by ratio"
   ]
  },
  {
   "cell_type": "code",
   "execution_count": 5,
   "metadata": {},
   "outputs": [
    {
     "data": {
      "text/html": [
       "<div><style>\n",
       ".dataframe > thead > tr,\n",
       ".dataframe > tbody > tr {\n",
       "  text-align: right;\n",
       "  white-space: pre-wrap;\n",
       "}\n",
       "</style>\n",
       "<small>shape: (30_000, 8)</small><table border=\"1\" class=\"dataframe\"><thead><tr><th>row_num</th><th>uniform_1</th><th>uniform_2</th><th>exp</th><th>normal</th><th>fat_normal</th><th>flags</th><th>category</th></tr><tr><td>i64</td><td>f64</td><td>f64</td><td>f64</td><td>f64</td><td>f64</td><td>i32</td><td>str</td></tr></thead><tbody><tr><td>2</td><td>3.555607</td><td>0.972201</td><td>0.261143</td><td>-0.836478</td><td>-720.824478</td><td>1</td><td>&quot;A&quot;</td></tr><tr><td>6</td><td>5.735477</td><td>0.840533</td><td>2.331571</td><td>-0.45213</td><td>-1499.985468</td><td>1</td><td>&quot;A&quot;</td></tr><tr><td>8</td><td>11.755689</td><td>0.203643</td><td>4.712804</td><td>0.755243</td><td>-1087.54292</td><td>0</td><td>&quot;A&quot;</td></tr><tr><td>12</td><td>1.001083</td><td>0.185386</td><td>2.589078</td><td>-0.753902</td><td>-1597.862794</td><td>0</td><td>&quot;A&quot;</td></tr><tr><td>13</td><td>1.341568</td><td>0.532354</td><td>1.213042</td><td>-0.917556</td><td>-346.481171</td><td>1</td><td>&quot;A&quot;</td></tr><tr><td>&hellip;</td><td>&hellip;</td><td>&hellip;</td><td>&hellip;</td><td>&hellip;</td><td>&hellip;</td><td>&hellip;</td><td>&hellip;</td></tr><tr><td>99984</td><td>8.458869</td><td>0.187026</td><td>0.256183</td><td>1.294262</td><td>926.261393</td><td>1</td><td>&quot;C&quot;</td></tr><tr><td>99985</td><td>4.861788</td><td>0.679973</td><td>1.629607</td><td>-0.146087</td><td>737.701739</td><td>2</td><td>&quot;C&quot;</td></tr><tr><td>99986</td><td>11.732498</td><td>0.421336</td><td>1.395327</td><td>-0.639032</td><td>-72.43559</td><td>2</td><td>&quot;C&quot;</td></tr><tr><td>99988</td><td>11.306076</td><td>0.766519</td><td>0.302939</td><td>-0.476744</td><td>972.509535</td><td>2</td><td>&quot;C&quot;</td></tr><tr><td>99994</td><td>0.679278</td><td>0.891505</td><td>1.31112</td><td>-0.737345</td><td>1258.803922</td><td>0</td><td>&quot;C&quot;</td></tr></tbody></table></div>"
      ],
      "text/plain": [
       "shape: (30_000, 8)\n",
       "┌─────────┬───────────┬───────────┬──────────┬───────────┬──────────────┬───────┬──────────┐\n",
       "│ row_num ┆ uniform_1 ┆ uniform_2 ┆ exp      ┆ normal    ┆ fat_normal   ┆ flags ┆ category │\n",
       "│ ---     ┆ ---       ┆ ---       ┆ ---      ┆ ---       ┆ ---          ┆ ---   ┆ ---      │\n",
       "│ i64     ┆ f64       ┆ f64       ┆ f64      ┆ f64       ┆ f64          ┆ i32   ┆ str      │\n",
       "╞═════════╪═══════════╪═══════════╪══════════╪═══════════╪══════════════╪═══════╪══════════╡\n",
       "│ 2       ┆ 3.555607  ┆ 0.972201  ┆ 0.261143 ┆ -0.836478 ┆ -720.824478  ┆ 1     ┆ A        │\n",
       "│ 6       ┆ 5.735477  ┆ 0.840533  ┆ 2.331571 ┆ -0.45213  ┆ -1499.985468 ┆ 1     ┆ A        │\n",
       "│ 8       ┆ 11.755689 ┆ 0.203643  ┆ 4.712804 ┆ 0.755243  ┆ -1087.54292  ┆ 0     ┆ A        │\n",
       "│ 12      ┆ 1.001083  ┆ 0.185386  ┆ 2.589078 ┆ -0.753902 ┆ -1597.862794 ┆ 0     ┆ A        │\n",
       "│ 13      ┆ 1.341568  ┆ 0.532354  ┆ 1.213042 ┆ -0.917556 ┆ -346.481171  ┆ 1     ┆ A        │\n",
       "│ …       ┆ …         ┆ …         ┆ …        ┆ …         ┆ …            ┆ …     ┆ …        │\n",
       "│ 99984   ┆ 8.458869  ┆ 0.187026  ┆ 0.256183 ┆ 1.294262  ┆ 926.261393   ┆ 1     ┆ C        │\n",
       "│ 99985   ┆ 4.861788  ┆ 0.679973  ┆ 1.629607 ┆ -0.146087 ┆ 737.701739   ┆ 2     ┆ C        │\n",
       "│ 99986   ┆ 11.732498 ┆ 0.421336  ┆ 1.395327 ┆ -0.639032 ┆ -72.43559    ┆ 2     ┆ C        │\n",
       "│ 99988   ┆ 11.306076 ┆ 0.766519  ┆ 0.302939 ┆ -0.476744 ┆ 972.509535   ┆ 2     ┆ C        │\n",
       "│ 99994   ┆ 0.679278  ┆ 0.891505  ┆ 1.31112  ┆ -0.737345 ┆ 1258.803922  ┆ 0     ┆ C        │\n",
       "└─────────┴───────────┴───────────┴──────────┴───────────┴──────────────┴───────┴──────────┘"
      ]
     },
     "execution_count": 5,
     "metadata": {},
     "output_type": "execute_result"
    }
   ],
   "source": [
    "ss.sample(df, 30_000) # by count"
   ]
  },
  {
   "cell_type": "code",
   "execution_count": 6,
   "metadata": {},
   "outputs": [
    {
     "data": {
      "text/html": [
       "<div><style>\n",
       ".dataframe > thead > tr,\n",
       ".dataframe > tbody > tr {\n",
       "  text-align: right;\n",
       "  white-space: pre-wrap;\n",
       "}\n",
       "</style>\n",
       "<small>shape: (3, 2)</small><table border=\"1\" class=\"dataframe\"><thead><tr><th>flags</th><th>len</th></tr><tr><td>i32</td><td>u32</td></tr></thead><tbody><tr><td>0</td><td>33223</td></tr><tr><td>1</td><td>33206</td></tr><tr><td>2</td><td>33571</td></tr></tbody></table></div>"
      ],
      "text/plain": [
       "shape: (3, 2)\n",
       "┌───────┬───────┐\n",
       "│ flags ┆ len   │\n",
       "│ ---   ┆ ---   │\n",
       "│ i32   ┆ u32   │\n",
       "╞═══════╪═══════╡\n",
       "│ 0     ┆ 33223 │\n",
       "│ 1     ┆ 33206 │\n",
       "│ 2     ┆ 33571 │\n",
       "└───────┴───────┘"
      ]
     },
     "execution_count": 6,
     "metadata": {},
     "output_type": "execute_result"
    }
   ],
   "source": [
    "df.group_by(\"flags\").len().sort(\"flags\")"
   ]
  },
  {
   "cell_type": "code",
   "execution_count": 7,
   "metadata": {},
   "outputs": [
    {
     "data": {
      "text/html": [
       "<div><style>\n",
       ".dataframe > thead > tr,\n",
       ".dataframe > tbody > tr {\n",
       "  text-align: right;\n",
       "  white-space: pre-wrap;\n",
       "}\n",
       "</style>\n",
       "<small>shape: (3, 2)</small><table border=\"1\" class=\"dataframe\"><thead><tr><th>flags</th><th>len</th></tr><tr><td>i32</td><td>u32</td></tr></thead><tbody><tr><td>0</td><td>16611</td></tr><tr><td>1</td><td>33206</td></tr><tr><td>2</td><td>33571</td></tr></tbody></table></div>"
      ],
      "text/plain": [
       "shape: (3, 2)\n",
       "┌───────┬───────┐\n",
       "│ flags ┆ len   │\n",
       "│ ---   ┆ ---   │\n",
       "│ i32   ┆ u32   │\n",
       "╞═══════╪═══════╡\n",
       "│ 0     ┆ 16611 │\n",
       "│ 1     ┆ 33206 │\n",
       "│ 2     ┆ 33571 │\n",
       "└───────┴───────┘"
      ]
     },
     "execution_count": 7,
     "metadata": {},
     "output_type": "execute_result"
    }
   ],
   "source": [
    "# Downsample on one group\n",
    "sa1 = ss.downsample(\n",
    "    df, \n",
    "    (pl.col(\"flags\") == 0, 0.5)\n",
    ")\n",
    "sa1.group_by(\"flags\").len().sort(\"flags\")"
   ]
  },
  {
   "cell_type": "code",
   "execution_count": 8,
   "metadata": {},
   "outputs": [
    {
     "data": {
      "text/html": [
       "<div><style>\n",
       ".dataframe > thead > tr,\n",
       ".dataframe > tbody > tr {\n",
       "  text-align: right;\n",
       "  white-space: pre-wrap;\n",
       "}\n",
       "</style>\n",
       "<small>shape: (3, 2)</small><table border=\"1\" class=\"dataframe\"><thead><tr><th>flags</th><th>len</th></tr><tr><td>i32</td><td>u32</td></tr></thead><tbody><tr><td>0</td><td>16611</td></tr><tr><td>1</td><td>9961</td></tr><tr><td>2</td><td>13428</td></tr></tbody></table></div>"
      ],
      "text/plain": [
       "shape: (3, 2)\n",
       "┌───────┬───────┐\n",
       "│ flags ┆ len   │\n",
       "│ ---   ┆ ---   │\n",
       "│ i32   ┆ u32   │\n",
       "╞═══════╪═══════╡\n",
       "│ 0     ┆ 16611 │\n",
       "│ 1     ┆ 9961  │\n",
       "│ 2     ┆ 13428 │\n",
       "└───────┴───────┘"
      ]
     },
     "execution_count": 8,
     "metadata": {},
     "output_type": "execute_result"
    }
   ],
   "source": [
    "# Downsample on multiple groups\n",
    "sa2 = ss.downsample(\n",
    "    df, \n",
    "    (pl.col(\"flags\") == 0, 0.5),\n",
    "    (pl.col(\"flags\") == 1, 0.3),\n",
    "    (pl.col(\"flags\") == 2, 0.4),\n",
    ")\n",
    "sa2.group_by(\"flags\").len().sort(\"flags\")"
   ]
  },
  {
   "cell_type": "code",
   "execution_count": 9,
   "metadata": {},
   "outputs": [
    {
     "data": {
      "text/html": [
       "<div><style>\n",
       ".dataframe > thead > tr,\n",
       ".dataframe > tbody > tr {\n",
       "  text-align: right;\n",
       "  white-space: pre-wrap;\n",
       "}\n",
       "</style>\n",
       "<small>shape: (3, 2)</small><table border=\"1\" class=\"dataframe\"><thead><tr><th>category</th><th>len</th></tr><tr><td>str</td><td>u32</td></tr></thead><tbody><tr><td>&quot;A&quot;</td><td>30000</td></tr><tr><td>&quot;B&quot;</td><td>30000</td></tr><tr><td>&quot;C&quot;</td><td>40000</td></tr></tbody></table></div>"
      ],
      "text/plain": [
       "shape: (3, 2)\n",
       "┌──────────┬───────┐\n",
       "│ category ┆ len   │\n",
       "│ ---      ┆ ---   │\n",
       "│ str      ┆ u32   │\n",
       "╞══════════╪═══════╡\n",
       "│ A        ┆ 30000 │\n",
       "│ B        ┆ 30000 │\n",
       "│ C        ┆ 40000 │\n",
       "└──────────┴───────┘"
      ]
     },
     "execution_count": 9,
     "metadata": {},
     "output_type": "execute_result"
    }
   ],
   "source": [
    "df.group_by(\"category\").len().sort(\"category\")"
   ]
  },
  {
   "cell_type": "code",
   "execution_count": 10,
   "metadata": {},
   "outputs": [
    {
     "data": {
      "text/html": [
       "<div><style>\n",
       ".dataframe > thead > tr,\n",
       ".dataframe > tbody > tr {\n",
       "  text-align: right;\n",
       "  white-space: pre-wrap;\n",
       "}\n",
       "</style>\n",
       "<small>shape: (3, 2)</small><table border=\"1\" class=\"dataframe\"><thead><tr><th>category</th><th>len</th></tr><tr><td>str</td><td>u32</td></tr></thead><tbody><tr><td>&quot;A&quot;</td><td>30000</td></tr><tr><td>&quot;B&quot;</td><td>30000</td></tr><tr><td>&quot;C&quot;</td><td>30000</td></tr></tbody></table></div>"
      ],
      "text/plain": [
       "shape: (3, 2)\n",
       "┌──────────┬───────┐\n",
       "│ category ┆ len   │\n",
       "│ ---      ┆ ---   │\n",
       "│ str      ┆ u32   │\n",
       "╞══════════╪═══════╡\n",
       "│ A        ┆ 30000 │\n",
       "│ B        ┆ 30000 │\n",
       "│ C        ┆ 30000 │\n",
       "└──────────┴───────┘"
      ]
     },
     "execution_count": 10,
     "metadata": {},
     "output_type": "execute_result"
    }
   ],
   "source": [
    "# Volume neutral by each category, will take the greatest possible value so that we get neutral volume.\n",
    "vn = ss.volume_neutral(\n",
    "    df,\n",
    "    by = pl.col(\"category\"),\n",
    ")\n",
    "vn.group_by(\"category\").len().sort(\"category\")"
   ]
  },
  {
   "cell_type": "code",
   "execution_count": 11,
   "metadata": {},
   "outputs": [
    {
     "data": {
      "text/html": [
       "<div><style>\n",
       ".dataframe > thead > tr,\n",
       ".dataframe > tbody > tr {\n",
       "  text-align: right;\n",
       "  white-space: pre-wrap;\n",
       "}\n",
       "</style>\n",
       "<small>shape: (3, 2)</small><table border=\"1\" class=\"dataframe\"><thead><tr><th>category</th><th>len</th></tr><tr><td>str</td><td>u32</td></tr></thead><tbody><tr><td>&quot;A&quot;</td><td>10000</td></tr><tr><td>&quot;B&quot;</td><td>10000</td></tr><tr><td>&quot;C&quot;</td><td>10000</td></tr></tbody></table></div>"
      ],
      "text/plain": [
       "shape: (3, 2)\n",
       "┌──────────┬───────┐\n",
       "│ category ┆ len   │\n",
       "│ ---      ┆ ---   │\n",
       "│ str      ┆ u32   │\n",
       "╞══════════╪═══════╡\n",
       "│ A        ┆ 10000 │\n",
       "│ B        ┆ 10000 │\n",
       "│ C        ┆ 10000 │\n",
       "└──────────┴───────┘"
      ]
     },
     "execution_count": 11,
     "metadata": {},
     "output_type": "execute_result"
    }
   ],
   "source": [
    "# Volume neutral (10_000) by each category\n",
    "vn = ss.volume_neutral(\n",
    "    df,\n",
    "    by = pl.col(\"category\"),\n",
    "    target_volume = 10_000\n",
    ")\n",
    "vn.group_by(\"category\").len().sort(\"category\")"
   ]
  },
  {
   "cell_type": "code",
   "execution_count": 12,
   "metadata": {},
   "outputs": [
    {
     "data": {
      "text/html": [
       "<div><style>\n",
       ".dataframe > thead > tr,\n",
       ".dataframe > tbody > tr {\n",
       "  text-align: right;\n",
       "  white-space: pre-wrap;\n",
       "}\n",
       "</style>\n",
       "<small>shape: (3, 2)</small><table border=\"1\" class=\"dataframe\"><thead><tr><th>category</th><th>len</th></tr><tr><td>str</td><td>u32</td></tr></thead><tbody><tr><td>&quot;A&quot;</td><td>10000</td></tr><tr><td>&quot;B&quot;</td><td>4231</td></tr><tr><td>&quot;C&quot;</td><td>5769</td></tr></tbody></table></div>"
      ],
      "text/plain": [
       "shape: (3, 2)\n",
       "┌──────────┬───────┐\n",
       "│ category ┆ len   │\n",
       "│ ---      ┆ ---   │\n",
       "│ str      ┆ u32   │\n",
       "╞══════════╪═══════╡\n",
       "│ A        ┆ 10000 │\n",
       "│ B        ┆ 4231  │\n",
       "│ C        ┆ 5769  │\n",
       "└──────────┴───────┘"
      ]
     },
     "execution_count": 12,
     "metadata": {},
     "output_type": "execute_result"
    }
   ],
   "source": [
    "# Volume neutral (10_000) by a more complicated condition\n",
    "vn = ss.volume_neutral(\n",
    "    df,\n",
    "    by = pl.col(\"category\") == \"A\",\n",
    "    target_volume = 10_000\n",
    ") # This makes sense because count for B + count for C = 10_000\n",
    "vn.group_by(\"category\").len().sort(\"category\")"
   ]
  },
  {
   "cell_type": "code",
   "execution_count": 13,
   "metadata": {},
   "outputs": [
    {
     "data": {
      "text/html": [
       "<div><style>\n",
       ".dataframe > thead > tr,\n",
       ".dataframe > tbody > tr {\n",
       "  text-align: right;\n",
       "  white-space: pre-wrap;\n",
       "}\n",
       "</style>\n",
       "<small>shape: (9, 3)</small><table border=\"1\" class=\"dataframe\"><thead><tr><th>category</th><th>flags</th><th>len</th></tr><tr><td>str</td><td>i32</td><td>u32</td></tr></thead><tbody><tr><td>&quot;A&quot;</td><td>0</td><td>9970</td></tr><tr><td>&quot;A&quot;</td><td>1</td><td>9970</td></tr><tr><td>&quot;A&quot;</td><td>2</td><td>9970</td></tr><tr><td>&quot;B&quot;</td><td>0</td><td>9891</td></tr><tr><td>&quot;B&quot;</td><td>1</td><td>9891</td></tr><tr><td>&quot;B&quot;</td><td>2</td><td>9891</td></tr><tr><td>&quot;C&quot;</td><td>0</td><td>13199</td></tr><tr><td>&quot;C&quot;</td><td>1</td><td>13199</td></tr><tr><td>&quot;C&quot;</td><td>2</td><td>13199</td></tr></tbody></table></div>"
      ],
      "text/plain": [
       "shape: (9, 3)\n",
       "┌──────────┬───────┬───────┐\n",
       "│ category ┆ flags ┆ len   │\n",
       "│ ---      ┆ ---   ┆ ---   │\n",
       "│ str      ┆ i32   ┆ u32   │\n",
       "╞══════════╪═══════╪═══════╡\n",
       "│ A        ┆ 0     ┆ 9970  │\n",
       "│ A        ┆ 1     ┆ 9970  │\n",
       "│ A        ┆ 2     ┆ 9970  │\n",
       "│ B        ┆ 0     ┆ 9891  │\n",
       "│ B        ┆ 1     ┆ 9891  │\n",
       "│ B        ┆ 2     ┆ 9891  │\n",
       "│ C        ┆ 0     ┆ 13199 │\n",
       "│ C        ┆ 1     ┆ 13199 │\n",
       "│ C        ┆ 2     ┆ 13199 │\n",
       "└──────────┴───────┴───────┘"
      ]
     },
     "execution_count": 13,
     "metadata": {},
     "output_type": "execute_result"
    }
   ],
   "source": [
    "# Volume neutral sample with a control level. Volume neutral happens under the category level, meaning\n",
    "# the volume for each flag in each category is neutral.\n",
    "vn = ss.volume_neutral(\n",
    "    df,\n",
    "    by = pl.col(\"flags\"),\n",
    "    control = pl.col(\"category\")\n",
    ") \n",
    "vn.group_by([\"category\", \"flags\"]).len().sort([\"category\", \"flags\"])"
   ]
  },
  {
   "cell_type": "code",
   "execution_count": 14,
   "metadata": {},
   "outputs": [
    {
     "data": {
      "text/html": [
       "<div><style>\n",
       ".dataframe > thead > tr,\n",
       ".dataframe > tbody > tr {\n",
       "  text-align: right;\n",
       "  white-space: pre-wrap;\n",
       "}\n",
       "</style>\n",
       "<small>shape: (9, 3)</small><table border=\"1\" class=\"dataframe\"><thead><tr><th>category</th><th>flags</th><th>len</th></tr><tr><td>str</td><td>i32</td><td>u32</td></tr></thead><tbody><tr><td>&quot;A&quot;</td><td>0</td><td>9970</td></tr><tr><td>&quot;A&quot;</td><td>1</td><td>9970</td></tr><tr><td>&quot;A&quot;</td><td>2</td><td>9970</td></tr><tr><td>&quot;B&quot;</td><td>0</td><td>9891</td></tr><tr><td>&quot;B&quot;</td><td>1</td><td>9891</td></tr><tr><td>&quot;B&quot;</td><td>2</td><td>9891</td></tr><tr><td>&quot;C&quot;</td><td>0</td><td>10000</td></tr><tr><td>&quot;C&quot;</td><td>1</td><td>10000</td></tr><tr><td>&quot;C&quot;</td><td>2</td><td>10000</td></tr></tbody></table></div>"
      ],
      "text/plain": [
       "shape: (9, 3)\n",
       "┌──────────┬───────┬───────┐\n",
       "│ category ┆ flags ┆ len   │\n",
       "│ ---      ┆ ---   ┆ ---   │\n",
       "│ str      ┆ i32   ┆ u32   │\n",
       "╞══════════╪═══════╪═══════╡\n",
       "│ A        ┆ 0     ┆ 9970  │\n",
       "│ A        ┆ 1     ┆ 9970  │\n",
       "│ A        ┆ 2     ┆ 9970  │\n",
       "│ B        ┆ 0     ┆ 9891  │\n",
       "│ B        ┆ 1     ┆ 9891  │\n",
       "│ B        ┆ 2     ┆ 9891  │\n",
       "│ C        ┆ 0     ┆ 10000 │\n",
       "│ C        ┆ 1     ┆ 10000 │\n",
       "│ C        ┆ 2     ┆ 10000 │\n",
       "└──────────┴───────┴───────┘"
      ]
     },
     "execution_count": 14,
     "metadata": {},
     "output_type": "execute_result"
    }
   ],
   "source": [
    "# We may not meet the target volume for all categories.\n",
    "vn = ss.volume_neutral(\n",
    "    df,\n",
    "    by = pl.col(\"flags\"),\n",
    "    control = pl.col(\"category\"),\n",
    "    target_volume= 10_000\n",
    ") # \n",
    "vn.group_by([\"category\", \"flags\"]).len().sort([\"category\", \"flags\"])"
   ]
  },
  {
   "cell_type": "markdown",
   "metadata": {},
   "source": [
    "## Splitting\n",
    "\n",
    "Split by ratios."
   ]
  },
  {
   "cell_type": "code",
   "execution_count": 15,
   "metadata": {},
   "outputs": [
    {
     "data": {
      "text/html": [
       "<div><style>\n",
       ".dataframe > thead > tr,\n",
       ".dataframe > tbody > tr {\n",
       "  text-align: right;\n",
       "  white-space: pre-wrap;\n",
       "}\n",
       "</style>\n",
       "<small>shape: (2, 2)</small><table border=\"1\" class=\"dataframe\"><thead><tr><th>my_splits</th><th>cnt</th></tr><tr><td>str</td><td>u32</td></tr></thead><tbody><tr><td>&quot;test&quot;</td><td>40000</td></tr><tr><td>&quot;train&quot;</td><td>60000</td></tr></tbody></table></div>"
      ],
      "text/plain": [
       "shape: (2, 2)\n",
       "┌───────────┬───────┐\n",
       "│ my_splits ┆ cnt   │\n",
       "│ ---       ┆ ---   │\n",
       "│ str       ┆ u32   │\n",
       "╞═══════════╪═══════╡\n",
       "│ test      ┆ 40000 │\n",
       "│ train     ┆ 60000 │\n",
       "└───────────┴───────┘"
      ]
     },
     "execution_count": 15,
     "metadata": {},
     "output_type": "execute_result"
    }
   ],
   "source": [
    "df_with_splits = ss.split_by_ratio(\n",
    "    df,\n",
    "    split_ratio = 0.6,\n",
    "    split_col = \"my_splits\"\n",
    ")\n",
    "df_with_splits.group_by(\"my_splits\").agg(\n",
    "    cnt = pl.len()\n",
    ")\n"
   ]
  },
  {
   "cell_type": "code",
   "execution_count": 16,
   "metadata": {},
   "outputs": [
    {
     "data": {
      "text/html": [
       "<div><style>\n",
       ".dataframe > thead > tr,\n",
       ".dataframe > tbody > tr {\n",
       "  text-align: right;\n",
       "  white-space: pre-wrap;\n",
       "}\n",
       "</style>\n",
       "<small>shape: (4, 2)</small><table border=\"1\" class=\"dataframe\"><thead><tr><th>my_splits</th><th>cnt</th></tr><tr><td>str</td><td>u32</td></tr></thead><tbody><tr><td>&quot;split_0&quot;</td><td>25000</td></tr><tr><td>&quot;split_1&quot;</td><td>40000</td></tr><tr><td>&quot;split_2&quot;</td><td>10000</td></tr><tr><td>&quot;split_3&quot;</td><td>25000</td></tr></tbody></table></div>"
      ],
      "text/plain": [
       "shape: (4, 2)\n",
       "┌───────────┬───────┐\n",
       "│ my_splits ┆ cnt   │\n",
       "│ ---       ┆ ---   │\n",
       "│ str       ┆ u32   │\n",
       "╞═══════════╪═══════╡\n",
       "│ split_0   ┆ 25000 │\n",
       "│ split_1   ┆ 40000 │\n",
       "│ split_2   ┆ 10000 │\n",
       "│ split_3   ┆ 25000 │\n",
       "└───────────┴───────┘"
      ]
     },
     "execution_count": 16,
     "metadata": {},
     "output_type": "execute_result"
    }
   ],
   "source": [
    "df_with_splits = ss.split_by_ratio(\n",
    "    df, \n",
    "    split_ratio = [0.25, 0.4, 0.10, 0.25],\n",
    "    split_col = \"my_splits\"\n",
    ")\n",
    "df_with_splits.group_by(\"my_splits\").agg(\n",
    "    cnt = pl.len()\n",
    ").sort(\"my_splits\")"
   ]
  },
  {
   "cell_type": "code",
   "execution_count": 17,
   "metadata": {},
   "outputs": [
    {
     "data": {
      "text/html": [
       "<div><style>\n",
       ".dataframe > thead > tr,\n",
       ".dataframe > tbody > tr {\n",
       "  text-align: right;\n",
       "  white-space: pre-wrap;\n",
       "}\n",
       "</style>\n",
       "<small>shape: (4, 2)</small><table border=\"1\" class=\"dataframe\"><thead><tr><th>my_splits</th><th>cnt</th></tr><tr><td>str</td><td>u32</td></tr></thead><tbody><tr><td>&quot;test&quot;</td><td>30000</td></tr><tr><td>&quot;train&quot;</td><td>60000</td></tr><tr><td>&quot;validation1&quot;</td><td>5000</td></tr><tr><td>&quot;validation2&quot;</td><td>5000</td></tr></tbody></table></div>"
      ],
      "text/plain": [
       "shape: (4, 2)\n",
       "┌─────────────┬───────┐\n",
       "│ my_splits   ┆ cnt   │\n",
       "│ ---         ┆ ---   │\n",
       "│ str         ┆ u32   │\n",
       "╞═════════════╪═══════╡\n",
       "│ test        ┆ 30000 │\n",
       "│ train       ┆ 60000 │\n",
       "│ validation1 ┆ 5000  │\n",
       "│ validation2 ┆ 5000  │\n",
       "└─────────────┴───────┘"
      ]
     },
     "execution_count": 17,
     "metadata": {},
     "output_type": "execute_result"
    }
   ],
   "source": [
    "df_with_splits = ss.split_by_ratio(\n",
    "    df, \n",
    "    split_ratio = {'train': 0.6, 'test': 0.3, 'validation1': 0.05, 'validation2': 0.05},\n",
    "    split_col = \"my_splits\"\n",
    ")\n",
    "\n",
    "df_with_splits.group_by(\"my_splits\").agg(\n",
    "    cnt = pl.len()\n",
    ").sort(\"my_splits\")"
   ]
  },
  {
   "cell_type": "code",
   "execution_count": 18,
   "metadata": {},
   "outputs": [
    {
     "data": {
      "text/html": [
       "<div><style>\n",
       ".dataframe > thead > tr,\n",
       ".dataframe > tbody > tr {\n",
       "  text-align: right;\n",
       "  white-space: pre-wrap;\n",
       "}\n",
       "</style>\n",
       "<small>shape: (5, 9)</small><table border=\"1\" class=\"dataframe\"><thead><tr><th>my_splits</th><th>row_num</th><th>uniform_1</th><th>uniform_2</th><th>exp</th><th>normal</th><th>fat_normal</th><th>flags</th><th>category</th></tr><tr><td>str</td><td>i64</td><td>f64</td><td>f64</td><td>f64</td><td>f64</td><td>f64</td><td>i32</td><td>str</td></tr></thead><tbody><tr><td>&quot;train&quot;</td><td>45013</td><td>9.169039</td><td>0.717273</td><td>4.697014</td><td>1.204236</td><td>-487.318857</td><td>0</td><td>&quot;B&quot;</td></tr><tr><td>&quot;train&quot;</td><td>16961</td><td>2.238217</td><td>0.856904</td><td>4.5812</td><td>0.482397</td><td>1066.509262</td><td>2</td><td>&quot;A&quot;</td></tr><tr><td>&quot;train&quot;</td><td>15961</td><td>11.691381</td><td>0.173182</td><td>4.340948</td><td>-0.419331</td><td>-1188.824524</td><td>2</td><td>&quot;A&quot;</td></tr><tr><td>&quot;train&quot;</td><td>70943</td><td>7.647667</td><td>0.482927</td><td>1.704144</td><td>1.292678</td><td>1796.367936</td><td>2</td><td>&quot;C&quot;</td></tr><tr><td>&quot;train&quot;</td><td>78203</td><td>3.280742</td><td>0.238988</td><td>1.896998</td><td>-1.068015</td><td>-1565.01054</td><td>1</td><td>&quot;C&quot;</td></tr></tbody></table></div>"
      ],
      "text/plain": [
       "shape: (5, 9)\n",
       "┌───────────┬─────────┬───────────┬───────────┬───┬───────────┬──────────────┬───────┬──────────┐\n",
       "│ my_splits ┆ row_num ┆ uniform_1 ┆ uniform_2 ┆ … ┆ normal    ┆ fat_normal   ┆ flags ┆ category │\n",
       "│ ---       ┆ ---     ┆ ---       ┆ ---       ┆   ┆ ---       ┆ ---          ┆ ---   ┆ ---      │\n",
       "│ str       ┆ i64     ┆ f64       ┆ f64       ┆   ┆ f64       ┆ f64          ┆ i32   ┆ str      │\n",
       "╞═══════════╪═════════╪═══════════╪═══════════╪═══╪═══════════╪══════════════╪═══════╪══════════╡\n",
       "│ train     ┆ 45013   ┆ 9.169039  ┆ 0.717273  ┆ … ┆ 1.204236  ┆ -487.318857  ┆ 0     ┆ B        │\n",
       "│ train     ┆ 16961   ┆ 2.238217  ┆ 0.856904  ┆ … ┆ 0.482397  ┆ 1066.509262  ┆ 2     ┆ A        │\n",
       "│ train     ┆ 15961   ┆ 11.691381 ┆ 0.173182  ┆ … ┆ -0.419331 ┆ -1188.824524 ┆ 2     ┆ A        │\n",
       "│ train     ┆ 70943   ┆ 7.647667  ┆ 0.482927  ┆ … ┆ 1.292678  ┆ 1796.367936  ┆ 2     ┆ C        │\n",
       "│ train     ┆ 78203   ┆ 3.280742  ┆ 0.238988  ┆ … ┆ -1.068015 ┆ -1565.01054  ┆ 1     ┆ C        │\n",
       "└───────────┴─────────┴───────────┴───────────┴───┴───────────┴──────────────┴───────┴──────────┘"
      ]
     },
     "execution_count": 18,
     "metadata": {},
     "output_type": "execute_result"
    }
   ],
   "source": [
    "df_with_splits.head()"
   ]
  },
  {
   "cell_type": "code",
   "execution_count": 21,
   "metadata": {},
   "outputs": [
    {
     "data": {
      "text/html": [
       "<div><style>\n",
       ".dataframe > thead > tr,\n",
       ".dataframe > tbody > tr {\n",
       "  text-align: right;\n",
       "  white-space: pre-wrap;\n",
       "}\n",
       "</style>\n",
       "<small>shape: (6, 4)</small><table border=\"1\" class=\"dataframe\"><thead><tr><th>category</th><th>my_splits</th><th>cnt</th><th>pct_in_category</th></tr><tr><td>str</td><td>str</td><td>u32</td><td>f64</td></tr></thead><tbody><tr><td>&quot;A&quot;</td><td>&quot;test&quot;</td><td>12000</td><td>0.4</td></tr><tr><td>&quot;A&quot;</td><td>&quot;train&quot;</td><td>18000</td><td>0.6</td></tr><tr><td>&quot;B&quot;</td><td>&quot;test&quot;</td><td>12000</td><td>0.4</td></tr><tr><td>&quot;B&quot;</td><td>&quot;train&quot;</td><td>18000</td><td>0.6</td></tr><tr><td>&quot;C&quot;</td><td>&quot;test&quot;</td><td>16000</td><td>0.4</td></tr><tr><td>&quot;C&quot;</td><td>&quot;train&quot;</td><td>24000</td><td>0.6</td></tr></tbody></table></div>"
      ],
      "text/plain": [
       "shape: (6, 4)\n",
       "┌──────────┬───────────┬───────┬─────────────────┐\n",
       "│ category ┆ my_splits ┆ cnt   ┆ pct_in_category │\n",
       "│ ---      ┆ ---       ┆ ---   ┆ ---             │\n",
       "│ str      ┆ str       ┆ u32   ┆ f64             │\n",
       "╞══════════╪═══════════╪═══════╪═════════════════╡\n",
       "│ A        ┆ test      ┆ 12000 ┆ 0.4             │\n",
       "│ A        ┆ train     ┆ 18000 ┆ 0.6             │\n",
       "│ B        ┆ test      ┆ 12000 ┆ 0.4             │\n",
       "│ B        ┆ train     ┆ 18000 ┆ 0.6             │\n",
       "│ C        ┆ test      ┆ 16000 ┆ 0.4             │\n",
       "│ C        ┆ train     ┆ 24000 ┆ 0.6             │\n",
       "└──────────┴───────────┴───────┴─────────────────┘"
      ]
     },
     "execution_count": 21,
     "metadata": {},
     "output_type": "execute_result"
    }
   ],
   "source": [
    "# Split with stratify\n",
    "df_with_splits = ss.split_by_ratio(\n",
    "    df,\n",
    "    split_ratio = 0.6,\n",
    "    split_col = \"my_splits\",\n",
    "    by = \"category\",\n",
    "    default_split_1 = \"train\",\n",
    "    default_split_2 = \"test\"\n",
    ")\n",
    "df_with_splits.group_by([\"category\", \"my_splits\"]).agg(\n",
    "    cnt = pl.len()\n",
    ").with_columns(\n",
    "    pct_in_category = pl.col(\"cnt\") / pl.col(\"cnt\").sum().over(\"category\")\n",
    ").sort([\"category\", \"my_splits\"])\n",
    "\n"
   ]
  },
  {
   "cell_type": "code",
   "execution_count": null,
   "metadata": {},
   "outputs": [],
   "source": []
  },
  {
   "cell_type": "code",
   "execution_count": null,
   "metadata": {},
   "outputs": [],
   "source": [
    "# If you need to do work with the splits individually\n",
    "# you can filter, or use .partition_by(\"my_splits\") to get separated dataframes"
   ]
  }
 ],
 "metadata": {
  "kernelspec": {
   "display_name": ".venv",
   "language": "python",
   "name": "python3"
  },
  "language_info": {
   "codemirror_mode": {
    "name": "ipython",
    "version": 3
   },
   "file_extension": ".py",
   "mimetype": "text/x-python",
   "name": "python",
   "nbconvert_exporter": "python",
   "pygments_lexer": "ipython3",
   "version": "3.13.3"
  }
 },
 "nbformat": 4,
 "nbformat_minor": 2
}
