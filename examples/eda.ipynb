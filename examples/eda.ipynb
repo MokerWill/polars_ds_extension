{
 "cells": [
  {
   "cell_type": "markdown",
   "metadata": {},
   "source": [
    "# EDA module\n",
    "\n",
    "## 1. Diagnosis and DIA (Data Inspection Assistant)\n",
    "\n",
    "If you cannot import this module, please try: pip install \"polars_ds[plot]\"\n",
    "\n",
    "The dataset used for dependency detection can be found on github, at examples/dependency.parquet\n",
    "\n",
    "The plots cannot be rendered on github. Currently, the plot backend is Altair but this is subject\n",
    "to change depending on which plotting backend supports Polars more natively."
   ]
  },
  {
   "cell_type": "code",
   "execution_count": 1,
   "metadata": {},
   "outputs": [
    {
     "data": {
      "text/plain": [
       "RendererRegistry.enable('mimetype')"
      ]
     },
     "execution_count": 1,
     "metadata": {},
     "output_type": "execute_result"
    }
   ],
   "source": [
    "import altair as alt # the plotting package used by PDS\n",
    "# For display on github. You don't need to do this when testing locally\n",
    "# alt.renderers.enable(\"svg\")\n",
    "alt.renderers.enable(\"mimetype\")"
   ]
  },
  {
   "cell_type": "code",
   "execution_count": 2,
   "metadata": {},
   "outputs": [],
   "source": [
    "import polars as pl\n",
    "import polars_ds as pds\n",
    "from polars_ds.eda.diagnosis import DIA"
   ]
  },
  {
   "cell_type": "code",
   "execution_count": 3,
   "metadata": {},
   "outputs": [
    {
     "data": {
      "text/html": [
       "<div><style>\n",
       ".dataframe > thead > tr,\n",
       ".dataframe > tbody > tr {\n",
       "  text-align: right;\n",
       "  white-space: pre-wrap;\n",
       "}\n",
       "</style>\n",
       "<small>shape: (5, 6)</small><table border=\"1\" class=\"dataframe\"><thead><tr><th>uniform_1</th><th>uniform_2</th><th>exp</th><th>normal</th><th>fat_normal</th><th>list_prob</th></tr><tr><td>f64</td><td>f64</td><td>f64</td><td>f64</td><td>f64</td><td>list[f64]</td></tr></thead><tbody><tr><td>7.330444</td><td>0.458241</td><td>0.013818</td><td>-1.509217</td><td>-728.566451</td><td>[0.458241, 0.541759]</td></tr><tr><td>7.655661</td><td>0.95085</td><td>1.654652</td><td>0.752534</td><td>299.641261</td><td>[0.95085, 0.04915]</td></tr><tr><td>11.106622</td><td>0.122725</td><td>4.001433</td><td>-1.372728</td><td>-1552.937912</td><td>[0.122725, 0.877275]</td></tr><tr><td>9.228297</td><td>0.058692</td><td>3.043305</td><td>1.673092</td><td>-947.229262</td><td>[0.058692, 0.941308]</td></tr><tr><td>9.676003</td><td>0.411456</td><td>0.1145</td><td>-1.358878</td><td>-1189.550397</td><td>[0.411456, 0.588544]</td></tr></tbody></table></div>"
      ],
      "text/plain": [
       "shape: (5, 6)\n",
       "┌───────────┬───────────┬──────────┬───────────┬──────────────┬──────────────────────┐\n",
       "│ uniform_1 ┆ uniform_2 ┆ exp      ┆ normal    ┆ fat_normal   ┆ list_prob            │\n",
       "│ ---       ┆ ---       ┆ ---      ┆ ---       ┆ ---          ┆ ---                  │\n",
       "│ f64       ┆ f64       ┆ f64      ┆ f64       ┆ f64          ┆ list[f64]            │\n",
       "╞═══════════╪═══════════╪══════════╪═══════════╪══════════════╪══════════════════════╡\n",
       "│ 7.330444  ┆ 0.458241  ┆ 0.013818 ┆ -1.509217 ┆ -728.566451  ┆ [0.458241, 0.541759] │\n",
       "│ 7.655661  ┆ 0.95085   ┆ 1.654652 ┆ 0.752534  ┆ 299.641261   ┆ [0.95085, 0.04915]   │\n",
       "│ 11.106622 ┆ 0.122725  ┆ 4.001433 ┆ -1.372728 ┆ -1552.937912 ┆ [0.122725, 0.877275] │\n",
       "│ 9.228297  ┆ 0.058692  ┆ 3.043305 ┆ 1.673092  ┆ -947.229262  ┆ [0.058692, 0.941308] │\n",
       "│ 9.676003  ┆ 0.411456  ┆ 0.1145   ┆ -1.358878 ┆ -1189.550397 ┆ [0.411456, 0.588544] │\n",
       "└───────────┴───────────┴──────────┴───────────┴──────────────┴──────────────────────┘"
      ]
     },
     "execution_count": 3,
     "metadata": {},
     "output_type": "execute_result"
    }
   ],
   "source": [
    "df = pds.frame(size=1_000_000).select(\n",
    "    pds.random(0.0, 12.0).alias(\"uniform_1\"),\n",
    "    pds.random(0.0, 1.0).alias(\"uniform_2\"),\n",
    "    pds.random_exp(0.5).alias(\"exp\"),\n",
    "    pds.random_normal(0.0, 1.0).alias(\"normal\"),\n",
    "    pds.random_normal(0.0, 1000.0).alias(\"fat_normal\"),\n",
    ").with_columns(\n",
    "    pl.concat_list(\"uniform_2\", 1 - pl.col(\"uniform_2\")).alias(\"list_prob\")\n",
    ")\n",
    "df.head()"
   ]
  },
  {
   "cell_type": "code",
   "execution_count": 4,
   "metadata": {},
   "outputs": [],
   "source": [
    "dia = DIA(df)"
   ]
  },
  {
   "cell_type": "code",
   "execution_count": 5,
   "metadata": {},
   "outputs": [
    {
     "data": {
      "text/html": [
       "<div><style>\n",
       ".dataframe > thead > tr,\n",
       ".dataframe > tbody > tr {\n",
       "  text-align: right;\n",
       "  white-space: pre-wrap;\n",
       "}\n",
       "</style>\n",
       "<small>shape: (5, 7)</small><table border=\"1\" class=\"dataframe\"><thead><tr><th>column</th><th>null_count</th><th>null%</th><th>NaN_count</th><th>NaN%</th><th>inf_count</th><th>Inf%</th></tr><tr><td>str</td><td>u32</td><td>f64</td><td>u32</td><td>f64</td><td>u32</td><td>f64</td></tr></thead><tbody><tr><td>&quot;uniform_1&quot;</td><td>0</td><td>0.0</td><td>0</td><td>0.0</td><td>0</td><td>0.0</td></tr><tr><td>&quot;uniform_2&quot;</td><td>0</td><td>0.0</td><td>0</td><td>0.0</td><td>0</td><td>0.0</td></tr><tr><td>&quot;exp&quot;</td><td>0</td><td>0.0</td><td>0</td><td>0.0</td><td>0</td><td>0.0</td></tr><tr><td>&quot;normal&quot;</td><td>0</td><td>0.0</td><td>0</td><td>0.0</td><td>0</td><td>0.0</td></tr><tr><td>&quot;fat_normal&quot;</td><td>0</td><td>0.0</td><td>0</td><td>0.0</td><td>0</td><td>0.0</td></tr></tbody></table></div>"
      ],
      "text/plain": [
       "shape: (5, 7)\n",
       "┌────────────┬────────────┬───────┬───────────┬──────┬───────────┬──────┐\n",
       "│ column     ┆ null_count ┆ null% ┆ NaN_count ┆ NaN% ┆ inf_count ┆ Inf% │\n",
       "│ ---        ┆ ---        ┆ ---   ┆ ---       ┆ ---  ┆ ---       ┆ ---  │\n",
       "│ str        ┆ u32        ┆ f64   ┆ u32       ┆ f64  ┆ u32       ┆ f64  │\n",
       "╞════════════╪════════════╪═══════╪═══════════╪══════╪═══════════╪══════╡\n",
       "│ uniform_1  ┆ 0          ┆ 0.0   ┆ 0         ┆ 0.0  ┆ 0         ┆ 0.0  │\n",
       "│ uniform_2  ┆ 0          ┆ 0.0   ┆ 0         ┆ 0.0  ┆ 0         ┆ 0.0  │\n",
       "│ exp        ┆ 0          ┆ 0.0   ┆ 0         ┆ 0.0  ┆ 0         ┆ 0.0  │\n",
       "│ normal     ┆ 0          ┆ 0.0   ┆ 0         ┆ 0.0  ┆ 0         ┆ 0.0  │\n",
       "│ fat_normal ┆ 0          ┆ 0.0   ┆ 0         ┆ 0.0  ┆ 0         ┆ 0.0  │\n",
       "└────────────┴────────────┴───────┴───────────┴──────┴───────────┴──────┘"
      ]
     },
     "execution_count": 5,
     "metadata": {},
     "output_type": "execute_result"
    }
   ],
   "source": [
    "dia.special_values_report()"
   ]
  },
  {
   "cell_type": "code",
   "execution_count": 6,
   "metadata": {},
   "outputs": [
    {
     "data": {
      "text/html": [
       "<div id=\"mtsvvynwom\" style=\"padding-left:0px;padding-right:0px;padding-top:10px;padding-bottom:10px;overflow-x:auto;overflow-y:auto;width:auto;height:auto;\">\n",
       "<style>\n",
       "#mtsvvynwom table {\n",
       "          font-family: -apple-system, BlinkMacSystemFont, 'Segoe UI', Roboto, Oxygen, Ubuntu, Cantarell, 'Helvetica Neue', 'Fira Sans', 'Droid Sans', Arial, sans-serif;\n",
       "          -webkit-font-smoothing: antialiased;\n",
       "          -moz-osx-font-smoothing: grayscale;\n",
       "        }\n",
       "\n",
       "#mtsvvynwom thead, tbody, tfoot, tr, td, th { border-style: none !important; }\n",
       " tr { background-color: transparent !important; }\n",
       "#mtsvvynwom p { margin: 0 !important; padding: 0 !important; }\n",
       " #mtsvvynwom .gt_table { display: table !important; border-collapse: collapse !important; line-height: normal !important; margin-left: auto !important; margin-right: auto !important; color: #333333 !important; font-size: 16px !important; font-weight: normal !important; font-style: normal !important; background-color: #FFFFFF !important; width: auto !important; border-top-style: solid !important; border-top-width: 2px !important; border-top-color: #A8A8A8 !important; border-right-style: none !important; border-right-width: 2px !important; border-right-color: #D3D3D3 !important; border-bottom-style: solid !important; border-bottom-width: 2px !important; border-bottom-color: #A8A8A8 !important; border-left-style: none !important; border-left-width: 2px !important; border-left-color: #D3D3D3 !important; }\n",
       " #mtsvvynwom .gt_caption { padding-top: 4px !important; padding-bottom: 4px !important; }\n",
       " #mtsvvynwom .gt_title { color: #333333 !important; font-size: 125% !important; font-weight: initial !important; padding-top: 4px !important; padding-bottom: 4px !important; padding-left: 5px !important; padding-right: 5px !important; border-bottom-color: #FFFFFF !important; border-bottom-width: 0 !important; }\n",
       " #mtsvvynwom .gt_subtitle { color: #333333 !important; font-size: 85% !important; font-weight: initial !important; padding-top: 3px !important; padding-bottom: 5px !important; padding-left: 5px !important; padding-right: 5px !important; border-top-color: #FFFFFF !important; border-top-width: 0 !important; }\n",
       " #mtsvvynwom .gt_heading { background-color: #FFFFFF !important; text-align: center !important; border-bottom-color: #FFFFFF !important; border-left-style: none !important; border-left-width: 1px !important; border-left-color: #D3D3D3 !important; border-right-style: none !important; border-right-width: 1px !important; border-right-color: #D3D3D3 !important; }\n",
       " #mtsvvynwom .gt_bottom_border { border-bottom-style: solid !important; border-bottom-width: 2px !important; border-bottom-color: #D3D3D3 !important; }\n",
       " #mtsvvynwom .gt_col_headings { border-top-style: solid !important; border-top-width: 2px !important; border-top-color: #D3D3D3 !important; border-bottom-style: solid !important; border-bottom-width: 2px !important; border-bottom-color: #D3D3D3 !important; border-left-style: none !important; border-left-width: 1px !important; border-left-color: #D3D3D3 !important; border-right-style: none !important; border-right-width: 1px !important; border-right-color: #D3D3D3 !important; }\n",
       " #mtsvvynwom .gt_col_heading { color: #333333 !important; background-color: #FFFFFF !important; font-size: 100% !important; font-weight: normal !important; text-transform: inherit !important; border-left-style: none !important; border-left-width: 1px !important; border-left-color: #D3D3D3 !important; border-right-style: none !important; border-right-width: 1px !important; border-right-color: #D3D3D3 !important; vertical-align: bottom !important; padding-top: 5px !important; padding-bottom: 5px !important; padding-left: 5px !important; padding-right: 5px !important; overflow-x: hidden !important; }\n",
       " #mtsvvynwom .gt_column_spanner_outer { color: #333333 !important; background-color: #FFFFFF !important; font-size: 100% !important; font-weight: normal !important; text-transform: inherit !important; padding-top: 0 !important; padding-bottom: 0 !important; padding-left: 4px !important; padding-right: 4px !important; }\n",
       " #mtsvvynwom .gt_column_spanner_outer:first-child { padding-left: 0 !important; }\n",
       " #mtsvvynwom .gt_column_spanner_outer:last-child { padding-right: 0 !important; }\n",
       " #mtsvvynwom .gt_column_spanner { border-bottom-style: solid !important; border-bottom-width: 2px !important; border-bottom-color: #D3D3D3 !important; vertical-align: bottom !important; padding-top: 5px !important; padding-bottom: 5px !important; overflow-x: hidden !important; display: inline-block !important; width: 100% !important; }\n",
       " #mtsvvynwom .gt_spanner_row { border-bottom-style: hidden !important; }\n",
       " #mtsvvynwom .gt_group_heading { padding-top: 8px !important; padding-bottom: 8px !important; padding-left: 5px !important; padding-right: 5px !important; color: #333333 !important; background-color: #FFFFFF !important; font-size: 100% !important; font-weight: initial !important; text-transform: inherit !important; border-top-style: solid !important; border-top-width: 2px !important; border-top-color: #D3D3D3 !important; border-bottom-style: solid !important; border-bottom-width: 2px !important; border-bottom-color: #D3D3D3 !important; border-left-style: none !important; border-left-width: 1px !important; border-left-color: #D3D3D3 !important; border-right-style: none !important; border-right-width: 1px !important; border-right-color: #D3D3D3 !important; vertical-align: middle !important; text-align: left !important; }\n",
       " #mtsvvynwom .gt_empty_group_heading { padding: 0.5px !important; color: #333333 !important; background-color: #FFFFFF !important; font-size: 100% !important; font-weight: initial !important; border-top-style: solid !important; border-top-width: 2px !important; border-top-color: #D3D3D3 !important; border-bottom-style: solid !important; border-bottom-width: 2px !important; border-bottom-color: #D3D3D3 !important; vertical-align: middle !important; }\n",
       " #mtsvvynwom .gt_from_md> :first-child { margin-top: 0 !important; }\n",
       " #mtsvvynwom .gt_from_md> :last-child { margin-bottom: 0 !important; }\n",
       " #mtsvvynwom .gt_row { padding-top: 8px !important; padding-bottom: 8px !important; padding-left: 5px !important; padding-right: 5px !important; margin: 10px !important; border-top-style: solid !important; border-top-width: 1px !important; border-top-color: #D3D3D3 !important; border-left-style: none !important; border-left-width: 1px !important; border-left-color: #D3D3D3 !important; border-right-style: none !important; border-right-width: 1px !important; border-right-color: #D3D3D3 !important; vertical-align: middle !important; overflow-x: hidden !important; }\n",
       " #mtsvvynwom .gt_stub { color: #333333 !important; background-color: #FFFFFF !important; font-size: 100% !important; font-weight: initial !important; text-transform: inherit !important; border-right-style: solid !important; border-right-width: 2px !important; border-right-color: #D3D3D3 !important; padding-left: 5px !important; padding-right: 5px !important; }\n",
       " #mtsvvynwom .gt_stub_row_group { color: #333333 !important; background-color: #FFFFFF !important; font-size: 100% !important; font-weight: initial !important; text-transform: inherit !important; border-right-style: solid !important; border-right-width: 2px !important; border-right-color: #D3D3D3 !important; padding-left: 5px !important; padding-right: 5px !important; vertical-align: top !important; }\n",
       " #mtsvvynwom .gt_row_group_first td { border-top-width: 2px !important; }\n",
       " #mtsvvynwom .gt_row_group_first th { border-top-width: 2px !important; }\n",
       " #mtsvvynwom .gt_striped { background-color: rgba(128,128,128,0.05) !important; }\n",
       " #mtsvvynwom .gt_table_body { border-top-style: solid !important; border-top-width: 2px !important; border-top-color: #D3D3D3 !important; border-bottom-style: solid !important; border-bottom-width: 2px !important; border-bottom-color: #D3D3D3 !important; }\n",
       " #mtsvvynwom .gt_sourcenotes { color: #333333 !important; background-color: #FFFFFF !important; border-bottom-style: none !important; border-bottom-width: 2px !important; border-bottom-color: #D3D3D3 !important; border-left-style: none !important; border-left-width: 2px !important; border-left-color: #D3D3D3 !important; border-right-style: none !important; border-right-width: 2px !important; border-right-color: #D3D3D3 !important; }\n",
       " #mtsvvynwom .gt_sourcenote { font-size: 90% !important; padding-top: 4px !important; padding-bottom: 4px !important; padding-left: 5px !important; padding-right: 5px !important; text-align: left !important; }\n",
       " #mtsvvynwom .gt_left { text-align: left !important; }\n",
       " #mtsvvynwom .gt_center { text-align: center !important; }\n",
       " #mtsvvynwom .gt_right { text-align: right !important; font-variant-numeric: tabular-nums !important; }\n",
       " #mtsvvynwom .gt_font_normal { font-weight: normal !important; }\n",
       " #mtsvvynwom .gt_font_bold { font-weight: bold !important; }\n",
       " #mtsvvynwom .gt_font_italic { font-style: italic !important; }\n",
       " #mtsvvynwom .gt_super { font-size: 65% !important; }\n",
       " #mtsvvynwom .gt_footnote_marks { font-size: 75% !important; vertical-align: 0.4em !important; position: initial !important; }\n",
       " #mtsvvynwom .gt_asterisk { font-size: 100% !important; vertical-align: 0 !important; }\n",
       " \n",
       "</style>\n",
       "<table class=\"gt_table\" data-quarto-disable-processing=\"false\" data-quarto-bootstrap=\"false\">\n",
       "<thead>\n",
       "\n",
       "<tr class=\"gt_col_headings\">\n",
       "  <th class=\"gt_col_heading gt_columns_bottom_border gt_left\" rowspan=\"1\" colspan=\"1\" scope=\"col\" id=\"column\">column</th>\n",
       "  <th class=\"gt_col_heading gt_columns_bottom_border gt_center\" rowspan=\"1\" colspan=\"1\" scope=\"col\" id=\"non_null_cnt\">non_null_cnt</th>\n",
       "  <th class=\"gt_col_heading gt_columns_bottom_border gt_right\" rowspan=\"1\" colspan=\"1\" scope=\"col\" id=\"null%\">null%</th>\n",
       "  <th class=\"gt_col_heading gt_columns_bottom_border gt_right\" rowspan=\"1\" colspan=\"1\" scope=\"col\" id=\"mean\">mean</th>\n",
       "  <th class=\"gt_col_heading gt_columns_bottom_border gt_right\" rowspan=\"1\" colspan=\"1\" scope=\"col\" id=\"std\">std</th>\n",
       "  <th class=\"gt_col_heading gt_columns_bottom_border gt_right\" rowspan=\"1\" colspan=\"1\" scope=\"col\" id=\"min\">min</th>\n",
       "  <th class=\"gt_col_heading gt_columns_bottom_border gt_right\" rowspan=\"1\" colspan=\"1\" scope=\"col\" id=\"q1\">q1</th>\n",
       "  <th class=\"gt_col_heading gt_columns_bottom_border gt_right\" rowspan=\"1\" colspan=\"1\" scope=\"col\" id=\"median\">median</th>\n",
       "  <th class=\"gt_col_heading gt_columns_bottom_border gt_right\" rowspan=\"1\" colspan=\"1\" scope=\"col\" id=\"q3\">q3</th>\n",
       "  <th class=\"gt_col_heading gt_columns_bottom_border gt_right\" rowspan=\"1\" colspan=\"1\" scope=\"col\" id=\"max\">max</th>\n",
       "  <th class=\"gt_col_heading gt_columns_bottom_border gt_right\" rowspan=\"1\" colspan=\"1\" scope=\"col\" id=\"IQR\">IQR</th>\n",
       "  <th class=\"gt_col_heading gt_columns_bottom_border gt_center\" rowspan=\"1\" colspan=\"1\" scope=\"col\" id=\"outlier_cnt\">outlier_cnt</th>\n",
       "  <th class=\"gt_col_heading gt_columns_bottom_border gt_center\" rowspan=\"1\" colspan=\"1\" scope=\"col\" id=\"histogram\">histogram</th>\n",
       "</tr>\n",
       "</thead>\n",
       "<tbody class=\"gt_table_body\">\n",
       "  <tr>\n",
       "    <th class=\"gt_row gt_left gt_stub\">uniform_1</th>\n",
       "    <td class=\"gt_row gt_center\">1000000</td>\n",
       "    <td class=\"gt_row gt_right\">0.00%</td>\n",
       "    <td class=\"gt_row gt_right\">6.004</td>\n",
       "    <td class=\"gt_row gt_right\">3.467</td>\n",
       "    <td class=\"gt_row gt_right\">0.000</td>\n",
       "    <td class=\"gt_row gt_right\">2.996</td>\n",
       "    <td class=\"gt_row gt_right\">6.010</td>\n",
       "    <td class=\"gt_row gt_right\">9.010</td>\n",
       "    <td class=\"gt_row gt_right\">12.000</td>\n",
       "    <td class=\"gt_row gt_right\">6.014</td>\n",
       "    <td class=\"gt_row gt_center\">0</td>\n",
       "    <td class=\"gt_row gt_center\"><div><svg role=\"img\" viewBox=\"0 0 1100 130\" style=\"height: 2em; margin-left: auto; margin-right: auto; font-size: inherit; overflow: visible; vertical-align: middle; position:relative;\"><defs><pattern id=\"area_pattern\" width=\"8\" height=\"8\" patternUnits=\"userSpaceOnUse\"><path class=\"pattern-line\" d=\"M 0,8 l 8,-8 M -1,1 l 4,-4 M 6,10 l 4,-4\" stroke=\"#FF0000\" stroke-width=\"1.5\" stroke-linecap=\"round\" shape-rendering=\"geometricPrecision\"></path></pattern></defs><style> text { font-family: ui-monospace, 'Cascadia Code', 'Source Code Pro', Menlo, Consolas, 'DejaVu Sans Mono', monospace; stroke-width: 0.15em; paint-order: stroke; stroke-linejoin: round; cursor: default; } .vert-line:hover rect { fill: #911EB4; fill-opacity: 40%; stroke: #FFFFFF60; color: red; } .vert-line:hover text { stroke: white; fill: #212427; } .horizontal-line:hover text {stroke: white; fill: #212427; } .ref-line:hover rect { stroke: #FFFFFF60; } .ref-line:hover line { stroke: #FF0000; } .ref-line:hover text { stroke: white; fill: #212427; } .y-axis-line:hover rect { fill: #EDEDED; fill-opacity: 60%; stroke: #FFFFFF60; color: red; } .y-axis-line:hover text { stroke: white; stroke-width: 0.20em; fill: #1A1C1F; } </style><line x1=\"22.5\" y1=\"115.0\" x2=\"1077.5\" y2=\"115.0\" stroke=\"#BFBFBF\" stroke-width=\"4\"></line><rect x=\"30.0\" y=\"15.795197010059246\" width=\"40\" height=\"99.20480298994076\" stroke=\"#3290CC\" stroke-width=\"4\" fill=\"#3FB5FF\"></rect><rect x=\"82.63157894736841\" y=\"15.479106198560697\" width=\"40\" height=\"99.5208938014393\" stroke=\"#3290CC\" stroke-width=\"4\" fill=\"#3FB5FF\"></rect><rect x=\"135.26315789473682\" y=\"15.423442407856545\" width=\"40\" height=\"99.57655759214346\" stroke=\"#3290CC\" stroke-width=\"4\" fill=\"#3FB5FF\"></rect><rect x=\"187.89473684210526\" y=\"15.584469802393539\" width=\"40\" height=\"99.41553019760646\" stroke=\"#3290CC\" stroke-width=\"4\" fill=\"#3FB5FF\"></rect><rect x=\"240.52631578947364\" y=\"15.075543715955629\" width=\"40\" height=\"99.92445628404437\" stroke=\"#3290CC\" stroke-width=\"4\" fill=\"#3FB5FF\"></rect><rect x=\"293.1578947368421\" y=\"16.087431911256008\" width=\"40\" height=\"98.912568088744\" stroke=\"#3290CC\" stroke-width=\"4\" fill=\"#3FB5FF\"></rect><rect x=\"345.7894736842105\" y=\"16.264363245994193\" width=\"40\" height=\"98.73563675400581\" stroke=\"#3290CC\" stroke-width=\"4\" fill=\"#3FB5FF\"></rect><rect x=\"398.4210526315789\" y=\"15.832968868037053\" width=\"40\" height=\"99.16703113196294\" stroke=\"#3290CC\" stroke-width=\"4\" fill=\"#3FB5FF\"></rect><rect x=\"451.05263157894734\" y=\"16.039720090652462\" width=\"40\" height=\"98.96027990934753\" stroke=\"#3290CC\" stroke-width=\"4\" fill=\"#3FB5FF\"></rect><rect x=\"503.68421052631584\" y=\"15.489046161186435\" width=\"40\" height=\"99.51095383881356\" stroke=\"#3290CC\" stroke-width=\"4\" fill=\"#3FB5FF\"></rect><rect x=\"556.3157894736842\" y=\"16.172915589837388\" width=\"40\" height=\"98.82708441016261\" stroke=\"#3290CC\" stroke-width=\"4\" fill=\"#3FB5FF\"></rect><rect x=\"608.9473684210526\" y=\"15.200787245039958\" width=\"40\" height=\"99.79921275496004\" stroke=\"#3290CC\" stroke-width=\"4\" fill=\"#3FB5FF\"></rect><rect x=\"661.578947368421\" y=\"15.946284441970501\" width=\"40\" height=\"99.0537155580295\" stroke=\"#3290CC\" stroke-width=\"4\" fill=\"#3FB5FF\"></rect><rect x=\"714.2105263157894\" y=\"15.512902071488208\" width=\"40\" height=\"99.48709792851179\" stroke=\"#3290CC\" stroke-width=\"4\" fill=\"#3FB5FF\"></rect><rect x=\"766.8421052631578\" y=\"15.628205637946799\" width=\"40\" height=\"99.37179436205321\" stroke=\"#3290CC\" stroke-width=\"4\" fill=\"#3FB5FF\"></rect><rect x=\"819.4736842105264\" y=\"15.689833406226391\" width=\"40\" height=\"99.3101665937736\" stroke=\"#3290CC\" stroke-width=\"4\" fill=\"#3FB5FF\"></rect><rect x=\"872.1052631578947\" y=\"15.135183491710066\" width=\"40\" height=\"99.86481650828993\" stroke=\"#3290CC\" stroke-width=\"4\" fill=\"#3FB5FF\"></rect><rect x=\"924.736842105263\" y=\"15.093435648681961\" width=\"40\" height=\"99.90656435131804\" stroke=\"#3290CC\" stroke-width=\"4\" fill=\"#3FB5FF\"></rect><rect x=\"977.3684210526316\" y=\"15.0\" width=\"40\" height=\"100.0\" stroke=\"#3290CC\" stroke-width=\"4\" fill=\"#3FB5FF\"></rect><rect x=\"1030.0\" y=\"15.556637907041468\" width=\"40\" height=\"99.44336209295854\" stroke=\"#3290CC\" stroke-width=\"4\" fill=\"#3FB5FF\"></rect><g class=\"y-axis-line\"><rect x=\"0\" y=\"0\" width=\"65\" height=\"130\" stroke=\"transparent\" stroke-width=\"0\" fill=\"transparent\"></rect><text x=\"0\" y=\"19.0\" fill=\"transparent\" stroke=\"transparent\" font-size=\"25\">50.3K</text><text x=\"0\" y=\"126.0\" fill=\"transparent\" stroke=\"transparent\" font-size=\"25\">0</text></g><g class=\"vert-line\"><rect x=\"40.0\" y=\"0\" width=\"20\" height=\"130\" stroke=\"transparent\" stroke-width=\"12\" fill=\"transparent\"></rect><text x=\"60.0\" y=\"20\" fill=\"transparent\" stroke=\"transparent\" font-size=\"30px\">49.9K</text></g><g class=\"vert-line\"><rect x=\"92.63157894736841\" y=\"0\" width=\"20\" height=\"130\" stroke=\"transparent\" stroke-width=\"12\" fill=\"transparent\"></rect><text x=\"112.63157894736841\" y=\"20\" fill=\"transparent\" stroke=\"transparent\" font-size=\"30px\">50.1K</text></g><g class=\"vert-line\"><rect x=\"145.26315789473682\" y=\"0\" width=\"20\" height=\"130\" stroke=\"transparent\" stroke-width=\"12\" fill=\"transparent\"></rect><text x=\"165.26315789473682\" y=\"20\" fill=\"transparent\" stroke=\"transparent\" font-size=\"30px\">50.1K</text></g><g class=\"vert-line\"><rect x=\"197.89473684210526\" y=\"0\" width=\"20\" height=\"130\" stroke=\"transparent\" stroke-width=\"12\" fill=\"transparent\"></rect><text x=\"217.89473684210526\" y=\"20\" fill=\"transparent\" stroke=\"transparent\" font-size=\"30px\">50.0K</text></g><g class=\"vert-line\"><rect x=\"250.52631578947364\" y=\"0\" width=\"20\" height=\"130\" stroke=\"transparent\" stroke-width=\"12\" fill=\"transparent\"></rect><text x=\"270.52631578947364\" y=\"20\" fill=\"transparent\" stroke=\"transparent\" font-size=\"30px\">50.3K</text></g><g class=\"vert-line\"><rect x=\"303.1578947368421\" y=\"0\" width=\"20\" height=\"130\" stroke=\"transparent\" stroke-width=\"12\" fill=\"transparent\"></rect><text x=\"323.1578947368421\" y=\"20\" fill=\"transparent\" stroke=\"transparent\" font-size=\"30px\">49.8K</text></g><g class=\"vert-line\"><rect x=\"355.7894736842105\" y=\"0\" width=\"20\" height=\"130\" stroke=\"transparent\" stroke-width=\"12\" fill=\"transparent\"></rect><text x=\"375.7894736842105\" y=\"20\" fill=\"transparent\" stroke=\"transparent\" font-size=\"30px\">49.7K</text></g><g class=\"vert-line\"><rect x=\"408.4210526315789\" y=\"0\" width=\"20\" height=\"130\" stroke=\"transparent\" stroke-width=\"12\" fill=\"transparent\"></rect><text x=\"428.4210526315789\" y=\"20\" fill=\"transparent\" stroke=\"transparent\" font-size=\"30px\">49.9K</text></g><g class=\"vert-line\"><rect x=\"461.05263157894734\" y=\"0\" width=\"20\" height=\"130\" stroke=\"transparent\" stroke-width=\"12\" fill=\"transparent\"></rect><text x=\"481.05263157894734\" y=\"20\" fill=\"transparent\" stroke=\"transparent\" font-size=\"30px\">49.8K</text></g><g class=\"vert-line\"><rect x=\"513.6842105263158\" y=\"0\" width=\"20\" height=\"130\" stroke=\"transparent\" stroke-width=\"12\" fill=\"transparent\"></rect><text x=\"533.6842105263158\" y=\"20\" fill=\"transparent\" stroke=\"transparent\" font-size=\"30px\">50.1K</text></g><g class=\"vert-line\"><rect x=\"566.3157894736842\" y=\"0\" width=\"20\" height=\"130\" stroke=\"transparent\" stroke-width=\"12\" fill=\"transparent\"></rect><text x=\"586.3157894736842\" y=\"20\" fill=\"transparent\" stroke=\"transparent\" font-size=\"30px\">49.7K</text></g><g class=\"vert-line\"><rect x=\"618.9473684210526\" y=\"0\" width=\"20\" height=\"130\" stroke=\"transparent\" stroke-width=\"12\" fill=\"transparent\"></rect><text x=\"638.9473684210526\" y=\"20\" fill=\"transparent\" stroke=\"transparent\" font-size=\"30px\">50.2K</text></g><g class=\"vert-line\"><rect x=\"671.578947368421\" y=\"0\" width=\"20\" height=\"130\" stroke=\"transparent\" stroke-width=\"12\" fill=\"transparent\"></rect><text x=\"691.578947368421\" y=\"20\" fill=\"transparent\" stroke=\"transparent\" font-size=\"30px\">49.8K</text></g><g class=\"vert-line\"><rect x=\"724.2105263157894\" y=\"0\" width=\"20\" height=\"130\" stroke=\"transparent\" stroke-width=\"12\" fill=\"transparent\"></rect><text x=\"744.2105263157894\" y=\"20\" fill=\"transparent\" stroke=\"transparent\" font-size=\"30px\">50.0K</text></g><g class=\"vert-line\"><rect x=\"776.8421052631578\" y=\"0\" width=\"20\" height=\"130\" stroke=\"transparent\" stroke-width=\"12\" fill=\"transparent\"></rect><text x=\"796.8421052631578\" y=\"20\" fill=\"transparent\" stroke=\"transparent\" font-size=\"30px\">50.0K</text></g><g class=\"vert-line\"><rect x=\"829.4736842105264\" y=\"0\" width=\"20\" height=\"130\" stroke=\"transparent\" stroke-width=\"12\" fill=\"transparent\"></rect><text x=\"849.4736842105264\" y=\"20\" fill=\"transparent\" stroke=\"transparent\" font-size=\"30px\">50.0K</text></g><g class=\"vert-line\"><rect x=\"882.1052631578947\" y=\"0\" width=\"20\" height=\"130\" stroke=\"transparent\" stroke-width=\"12\" fill=\"transparent\"></rect><text x=\"902.1052631578947\" y=\"20\" fill=\"transparent\" stroke=\"transparent\" font-size=\"30px\">50.2K</text></g><g class=\"vert-line\"><rect x=\"934.736842105263\" y=\"0\" width=\"20\" height=\"130\" stroke=\"transparent\" stroke-width=\"12\" fill=\"transparent\"></rect><text x=\"954.736842105263\" y=\"20\" fill=\"transparent\" stroke=\"transparent\" font-size=\"30px\">50.3K</text></g><g class=\"vert-line\"><rect x=\"987.3684210526316\" y=\"0\" width=\"20\" height=\"130\" stroke=\"transparent\" stroke-width=\"12\" fill=\"transparent\"></rect><text x=\"1007.3684210526316\" y=\"20\" fill=\"transparent\" stroke=\"transparent\" font-size=\"30px\">50.3K</text></g><g class=\"vert-line\"><rect x=\"1040.0\" y=\"0\" width=\"20\" height=\"130\" stroke=\"transparent\" stroke-width=\"12\" fill=\"transparent\"></rect><text x=\"1060.0\" y=\"20\" fill=\"transparent\" stroke=\"transparent\" font-size=\"30px\">50.0K</text></g></svg></div></td>\n",
       "  </tr>\n",
       "  <tr>\n",
       "    <th class=\"gt_row gt_left gt_stub\">uniform_2</th>\n",
       "    <td class=\"gt_row gt_center\">1000000</td>\n",
       "    <td class=\"gt_row gt_right\">0.00%</td>\n",
       "    <td class=\"gt_row gt_right\">0.500</td>\n",
       "    <td class=\"gt_row gt_right\">0.289</td>\n",
       "    <td class=\"gt_row gt_right\">0.000</td>\n",
       "    <td class=\"gt_row gt_right\">0.250</td>\n",
       "    <td class=\"gt_row gt_right\">0.500</td>\n",
       "    <td class=\"gt_row gt_right\">0.750</td>\n",
       "    <td class=\"gt_row gt_right\">1.000</td>\n",
       "    <td class=\"gt_row gt_right\">0.500</td>\n",
       "    <td class=\"gt_row gt_center\">0</td>\n",
       "    <td class=\"gt_row gt_center\"><div><svg role=\"img\" viewBox=\"0 0 1100 130\" style=\"height: 2em; margin-left: auto; margin-right: auto; font-size: inherit; overflow: visible; vertical-align: middle; position:relative;\"><defs><pattern id=\"area_pattern\" width=\"8\" height=\"8\" patternUnits=\"userSpaceOnUse\"><path class=\"pattern-line\" d=\"M 0,8 l 8,-8 M -1,1 l 4,-4 M 6,10 l 4,-4\" stroke=\"#FF0000\" stroke-width=\"1.5\" stroke-linecap=\"round\" shape-rendering=\"geometricPrecision\"></path></pattern></defs><style> text { font-family: ui-monospace, 'Cascadia Code', 'Source Code Pro', Menlo, Consolas, 'DejaVu Sans Mono', monospace; stroke-width: 0.15em; paint-order: stroke; stroke-linejoin: round; cursor: default; } .vert-line:hover rect { fill: #911EB4; fill-opacity: 40%; stroke: #FFFFFF60; color: red; } .vert-line:hover text { stroke: white; fill: #212427; } .horizontal-line:hover text {stroke: white; fill: #212427; } .ref-line:hover rect { stroke: #FFFFFF60; } .ref-line:hover line { stroke: #FF0000; } .ref-line:hover text { stroke: white; fill: #212427; } .y-axis-line:hover rect { fill: #EDEDED; fill-opacity: 60%; stroke: #FFFFFF60; color: red; } .y-axis-line:hover text { stroke: white; stroke-width: 0.20em; fill: #1A1C1F; } </style><line x1=\"22.5\" y1=\"115.0\" x2=\"1077.5\" y2=\"115.0\" stroke=\"#BFBFBF\" stroke-width=\"4\"></line><rect x=\"30.0\" y=\"15.840019064262453\" width=\"40\" height=\"99.15998093573755\" stroke=\"#3290CC\" stroke-width=\"4\" fill=\"#3FB5FF\"></rect><rect x=\"82.63157894736841\" y=\"15.937326237191193\" width=\"40\" height=\"99.0626737628088\" stroke=\"#3290CC\" stroke-width=\"4\" fill=\"#3FB5FF\"></rect><rect x=\"135.26315789473682\" y=\"16.102152672968458\" width=\"40\" height=\"98.89784732703154\" stroke=\"#3290CC\" stroke-width=\"4\" fill=\"#3FB5FF\"></rect><rect x=\"187.89473684210526\" y=\"15.164826435777265\" width=\"40\" height=\"99.83517356422274\" stroke=\"#3290CC\" stroke-width=\"4\" fill=\"#3FB5FF\"></rect><rect x=\"240.52631578947364\" y=\"15.949241401223288\" width=\"40\" height=\"99.05075859877671\" stroke=\"#3290CC\" stroke-width=\"4\" fill=\"#3FB5FF\"></rect><rect x=\"293.1578947368421\" y=\"16.2371911986655\" width=\"40\" height=\"98.7628088013345\" stroke=\"#3290CC\" stroke-width=\"4\" fill=\"#3FB5FF\"></rect><rect x=\"345.7894736842105\" y=\"15.728810866629592\" width=\"40\" height=\"99.27118913337041\" stroke=\"#3290CC\" stroke-width=\"4\" fill=\"#3FB5FF\"></rect><rect x=\"398.4210526315789\" y=\"15.323695289538485\" width=\"40\" height=\"99.67630471046152\" stroke=\"#3290CC\" stroke-width=\"4\" fill=\"#3FB5FF\"></rect><rect x=\"451.05263157894734\" y=\"15.675192628485188\" width=\"40\" height=\"99.32480737151481\" stroke=\"#3290CC\" stroke-width=\"4\" fill=\"#3FB5FF\"></rect><rect x=\"503.68421052631584\" y=\"15.317737707522436\" width=\"40\" height=\"99.68226229247756\" stroke=\"#3290CC\" stroke-width=\"4\" fill=\"#3FB5FF\"></rect><rect x=\"556.3157894736842\" y=\"15.857891810310585\" width=\"40\" height=\"99.14210818968941\" stroke=\"#3290CC\" stroke-width=\"4\" fill=\"#3FB5FF\"></rect><rect x=\"608.9473684210526\" y=\"15.09333545158472\" width=\"40\" height=\"99.90666454841528\" stroke=\"#3290CC\" stroke-width=\"4\" fill=\"#3FB5FF\"></rect><rect x=\"661.578947368421\" y=\"16.120025419016603\" width=\"40\" height=\"98.8799745809834\" stroke=\"#3290CC\" stroke-width=\"4\" fill=\"#3FB5FF\"></rect><rect x=\"714.2105263157894\" y=\"15.0\" width=\"40\" height=\"100.0\" stroke=\"#3290CC\" stroke-width=\"4\" fill=\"#3FB5FF\"></rect><rect x=\"766.8421052631578\" y=\"16.31662562554611\" width=\"40\" height=\"98.68337437445389\" stroke=\"#3290CC\" stroke-width=\"4\" fill=\"#3FB5FF\"></rect><rect x=\"819.4736842105264\" y=\"15.726825005957576\" width=\"40\" height=\"99.27317499404242\" stroke=\"#3290CC\" stroke-width=\"4\" fill=\"#3FB5FF\"></rect><rect x=\"872.1052631578947\" y=\"15.792358408134087\" width=\"40\" height=\"99.20764159186591\" stroke=\"#3290CC\" stroke-width=\"4\" fill=\"#3FB5FF\"></rect><rect x=\"924.736842105263\" y=\"15.244260862657875\" width=\"40\" height=\"99.75573913734212\" stroke=\"#3290CC\" stroke-width=\"4\" fill=\"#3FB5FF\"></rect><rect x=\"977.3684210526316\" y=\"16.276908412105804\" width=\"40\" height=\"98.7230915878942\" stroke=\"#3290CC\" stroke-width=\"4\" fill=\"#3FB5FF\"></rect><rect x=\"1030.0\" y=\"15.434903487171345\" width=\"40\" height=\"99.56509651282866\" stroke=\"#3290CC\" stroke-width=\"4\" fill=\"#3FB5FF\"></rect><g class=\"y-axis-line\"><rect x=\"0\" y=\"0\" width=\"65\" height=\"130\" stroke=\"transparent\" stroke-width=\"0\" fill=\"transparent\"></rect><text x=\"0\" y=\"19.0\" fill=\"transparent\" stroke=\"transparent\" font-size=\"25\">50.4K</text><text x=\"0\" y=\"126.0\" fill=\"transparent\" stroke=\"transparent\" font-size=\"25\">0</text></g><g class=\"vert-line\"><rect x=\"40.0\" y=\"0\" width=\"20\" height=\"130\" stroke=\"transparent\" stroke-width=\"12\" fill=\"transparent\"></rect><text x=\"60.0\" y=\"20\" fill=\"transparent\" stroke=\"transparent\" font-size=\"30px\">49.9K</text></g><g class=\"vert-line\"><rect x=\"92.63157894736841\" y=\"0\" width=\"20\" height=\"130\" stroke=\"transparent\" stroke-width=\"12\" fill=\"transparent\"></rect><text x=\"112.63157894736841\" y=\"20\" fill=\"transparent\" stroke=\"transparent\" font-size=\"30px\">49.9K</text></g><g class=\"vert-line\"><rect x=\"145.26315789473682\" y=\"0\" width=\"20\" height=\"130\" stroke=\"transparent\" stroke-width=\"12\" fill=\"transparent\"></rect><text x=\"165.26315789473682\" y=\"20\" fill=\"transparent\" stroke=\"transparent\" font-size=\"30px\">49.8K</text></g><g class=\"vert-line\"><rect x=\"197.89473684210526\" y=\"0\" width=\"20\" height=\"130\" stroke=\"transparent\" stroke-width=\"12\" fill=\"transparent\"></rect><text x=\"217.89473684210526\" y=\"20\" fill=\"transparent\" stroke=\"transparent\" font-size=\"30px\">50.3K</text></g><g class=\"vert-line\"><rect x=\"250.52631578947364\" y=\"0\" width=\"20\" height=\"130\" stroke=\"transparent\" stroke-width=\"12\" fill=\"transparent\"></rect><text x=\"270.52631578947364\" y=\"20\" fill=\"transparent\" stroke=\"transparent\" font-size=\"30px\">49.9K</text></g><g class=\"vert-line\"><rect x=\"303.1578947368421\" y=\"0\" width=\"20\" height=\"130\" stroke=\"transparent\" stroke-width=\"12\" fill=\"transparent\"></rect><text x=\"323.1578947368421\" y=\"20\" fill=\"transparent\" stroke=\"transparent\" font-size=\"30px\">49.7K</text></g><g class=\"vert-line\"><rect x=\"355.7894736842105\" y=\"0\" width=\"20\" height=\"130\" stroke=\"transparent\" stroke-width=\"12\" fill=\"transparent\"></rect><text x=\"375.7894736842105\" y=\"20\" fill=\"transparent\" stroke=\"transparent\" font-size=\"30px\">50.0K</text></g><g class=\"vert-line\"><rect x=\"408.4210526315789\" y=\"0\" width=\"20\" height=\"130\" stroke=\"transparent\" stroke-width=\"12\" fill=\"transparent\"></rect><text x=\"428.4210526315789\" y=\"20\" fill=\"transparent\" stroke=\"transparent\" font-size=\"30px\">50.2K</text></g><g class=\"vert-line\"><rect x=\"461.05263157894734\" y=\"0\" width=\"20\" height=\"130\" stroke=\"transparent\" stroke-width=\"12\" fill=\"transparent\"></rect><text x=\"481.05263157894734\" y=\"20\" fill=\"transparent\" stroke=\"transparent\" font-size=\"30px\">50.0K</text></g><g class=\"vert-line\"><rect x=\"513.6842105263158\" y=\"0\" width=\"20\" height=\"130\" stroke=\"transparent\" stroke-width=\"12\" fill=\"transparent\"></rect><text x=\"533.6842105263158\" y=\"20\" fill=\"transparent\" stroke=\"transparent\" font-size=\"30px\">50.2K</text></g><g class=\"vert-line\"><rect x=\"566.3157894736842\" y=\"0\" width=\"20\" height=\"130\" stroke=\"transparent\" stroke-width=\"12\" fill=\"transparent\"></rect><text x=\"586.3157894736842\" y=\"20\" fill=\"transparent\" stroke=\"transparent\" font-size=\"30px\">49.9K</text></g><g class=\"vert-line\"><rect x=\"618.9473684210526\" y=\"0\" width=\"20\" height=\"130\" stroke=\"transparent\" stroke-width=\"12\" fill=\"transparent\"></rect><text x=\"638.9473684210526\" y=\"20\" fill=\"transparent\" stroke=\"transparent\" font-size=\"30px\">50.3K</text></g><g class=\"vert-line\"><rect x=\"671.578947368421\" y=\"0\" width=\"20\" height=\"130\" stroke=\"transparent\" stroke-width=\"12\" fill=\"transparent\"></rect><text x=\"691.578947368421\" y=\"20\" fill=\"transparent\" stroke=\"transparent\" font-size=\"30px\">49.8K</text></g><g class=\"vert-line\"><rect x=\"724.2105263157894\" y=\"0\" width=\"20\" height=\"130\" stroke=\"transparent\" stroke-width=\"12\" fill=\"transparent\"></rect><text x=\"744.2105263157894\" y=\"20\" fill=\"transparent\" stroke=\"transparent\" font-size=\"30px\">50.4K</text></g><g class=\"vert-line\"><rect x=\"776.8421052631578\" y=\"0\" width=\"20\" height=\"130\" stroke=\"transparent\" stroke-width=\"12\" fill=\"transparent\"></rect><text x=\"796.8421052631578\" y=\"20\" fill=\"transparent\" stroke=\"transparent\" font-size=\"30px\">49.7K</text></g><g class=\"vert-line\"><rect x=\"829.4736842105264\" y=\"0\" width=\"20\" height=\"130\" stroke=\"transparent\" stroke-width=\"12\" fill=\"transparent\"></rect><text x=\"849.4736842105264\" y=\"20\" fill=\"transparent\" stroke=\"transparent\" font-size=\"30px\">50.0K</text></g><g class=\"vert-line\"><rect x=\"882.1052631578947\" y=\"0\" width=\"20\" height=\"130\" stroke=\"transparent\" stroke-width=\"12\" fill=\"transparent\"></rect><text x=\"902.1052631578947\" y=\"20\" fill=\"transparent\" stroke=\"transparent\" font-size=\"30px\">50.0K</text></g><g class=\"vert-line\"><rect x=\"934.736842105263\" y=\"0\" width=\"20\" height=\"130\" stroke=\"transparent\" stroke-width=\"12\" fill=\"transparent\"></rect><text x=\"954.736842105263\" y=\"20\" fill=\"transparent\" stroke=\"transparent\" font-size=\"30px\">50.2K</text></g><g class=\"vert-line\"><rect x=\"987.3684210526316\" y=\"0\" width=\"20\" height=\"130\" stroke=\"transparent\" stroke-width=\"12\" fill=\"transparent\"></rect><text x=\"1007.3684210526316\" y=\"20\" fill=\"transparent\" stroke=\"transparent\" font-size=\"30px\">49.7K</text></g><g class=\"vert-line\"><rect x=\"1040.0\" y=\"0\" width=\"20\" height=\"130\" stroke=\"transparent\" stroke-width=\"12\" fill=\"transparent\"></rect><text x=\"1060.0\" y=\"20\" fill=\"transparent\" stroke=\"transparent\" font-size=\"30px\">50.1K</text></g></svg></div></td>\n",
       "  </tr>\n",
       "  <tr>\n",
       "    <th class=\"gt_row gt_left gt_stub\">exp</th>\n",
       "    <td class=\"gt_row gt_center\">1000000</td>\n",
       "    <td class=\"gt_row gt_right\">0.00%</td>\n",
       "    <td class=\"gt_row gt_right\">2.001</td>\n",
       "    <td class=\"gt_row gt_right\">2.000</td>\n",
       "    <td class=\"gt_row gt_right\">0.000</td>\n",
       "    <td class=\"gt_row gt_right\">0.574</td>\n",
       "    <td class=\"gt_row gt_right\">1.390</td>\n",
       "    <td class=\"gt_row gt_right\">2.770</td>\n",
       "    <td class=\"gt_row gt_right\">31.322</td>\n",
       "    <td class=\"gt_row gt_right\">2.196</td>\n",
       "    <td class=\"gt_row gt_center\">48312</td>\n",
       "    <td class=\"gt_row gt_center\"><div><svg role=\"img\" viewBox=\"0 0 1000 130\" style=\"height: 2em; margin-left: auto; margin-right: auto; font-size: inherit; overflow: visible; vertical-align: middle; position:relative;\"><defs><pattern id=\"area_pattern\" width=\"8\" height=\"8\" patternUnits=\"userSpaceOnUse\"><path class=\"pattern-line\" d=\"M 0,8 l 8,-8 M -1,1 l 4,-4 M 6,10 l 4,-4\" stroke=\"#FF0000\" stroke-width=\"1.5\" stroke-linecap=\"round\" shape-rendering=\"geometricPrecision\"></path></pattern></defs><style> text { font-family: ui-monospace, 'Cascadia Code', 'Source Code Pro', Menlo, Consolas, 'DejaVu Sans Mono', monospace; stroke-width: 0.15em; paint-order: stroke; stroke-linejoin: round; cursor: default; } .vert-line:hover rect { fill: #911EB4; fill-opacity: 40%; stroke: #FFFFFF60; color: red; } .vert-line:hover text { stroke: white; fill: #212427; } .horizontal-line:hover text {stroke: white; fill: #212427; } .ref-line:hover rect { stroke: #FFFFFF60; } .ref-line:hover line { stroke: #FF0000; } .ref-line:hover text { stroke: white; fill: #212427; } .y-axis-line:hover rect { fill: #EDEDED; fill-opacity: 60%; stroke: #FFFFFF60; color: red; } .y-axis-line:hover text { stroke: white; stroke-width: 0.20em; fill: #1A1C1F; } </style><line x1=\"22.5\" y1=\"115.0\" x2=\"977.5\" y2=\"115.0\" stroke=\"#BFBFBF\" stroke-width=\"4\"></line><rect x=\"30.0\" y=\"15.0\" width=\"40\" height=\"100.0\" stroke=\"#3290CC\" stroke-width=\"4\" fill=\"#3FB5FF\"></rect><rect x=\"82.94117647058823\" y=\"69.03896535183203\" width=\"40\" height=\"45.96103464816797\" stroke=\"#3290CC\" stroke-width=\"4\" fill=\"#3FB5FF\"></rect><rect x=\"135.88235294117646\" y=\"94.0695915279879\" width=\"40\" height=\"20.930408472012104\" stroke=\"#3290CC\" stroke-width=\"4\" fill=\"#3FB5FF\"></rect><rect x=\"188.8235294117647\" y=\"105.4641895133021\" width=\"40\" height=\"9.535810486697898\" stroke=\"#3290CC\" stroke-width=\"4\" fill=\"#3FB5FF\"></rect><rect x=\"241.76470588235293\" y=\"110.63595439282683\" width=\"40\" height=\"4.364045607173168\" stroke=\"#3290CC\" stroke-width=\"4\" fill=\"#3FB5FF\"></rect><rect x=\"294.70588235294116\" y=\"113.00025829305191\" width=\"40\" height=\"1.999741706948086\" stroke=\"#3290CC\" stroke-width=\"4\" fill=\"#3FB5FF\"></rect><rect x=\"347.6470588235294\" y=\"114.07328142872956\" width=\"40\" height=\"0.9267185712704418\" stroke=\"#3290CC\" stroke-width=\"4\" fill=\"#3FB5FF\"></rect><rect x=\"400.5882352941176\" y=\"114.5728939891517\" width=\"40\" height=\"0.4271060108483056\" stroke=\"#3290CC\" stroke-width=\"4\" fill=\"#3FB5FF\"></rect><rect x=\"453.52941176470586\" y=\"114.80019187483856\" width=\"40\" height=\"0.19980812516143942\" stroke=\"#3290CC\" stroke-width=\"4\" fill=\"#3FB5FF\"></rect><rect x=\"506.47058823529414\" y=\"114.91402531271909\" width=\"40\" height=\"0.08597468728090973\" stroke=\"#3290CC\" stroke-width=\"4\" fill=\"#3FB5FF\"></rect><rect x=\"559.4117647058823\" y=\"114.96402346776871\" width=\"40\" height=\"0.03597653223128816\" stroke=\"#3290CC\" stroke-width=\"4\" fill=\"#3FB5FF\"></rect><rect x=\"612.3529411764706\" y=\"114.98302645658832\" width=\"40\" height=\"0.016973543411680225\" stroke=\"#3290CC\" stroke-width=\"4\" fill=\"#3FB5FF\"></rect><rect x=\"665.2941176470588\" y=\"114.99354267370208\" width=\"40\" height=\"0.006457326297919508\" stroke=\"#3290CC\" stroke-width=\"4\" fill=\"#3FB5FF\"></rect><rect x=\"718.235294117647\" y=\"114.997786059555\" width=\"40\" height=\"0.0022139404450030042\" stroke=\"#3290CC\" stroke-width=\"4\" fill=\"#3FB5FF\"></rect><rect x=\"771.1764705882352\" y=\"114.99815504962916\" width=\"40\" height=\"0.0018449503708382053\" stroke=\"#3290CC\" stroke-width=\"4\" fill=\"#3FB5FF\"></rect><rect x=\"824.1176470588235\" y=\"114.99981550496292\" width=\"40\" height=\"0.00018449503707529402\" stroke=\"#3290CC\" stroke-width=\"4\" fill=\"#3FB5FF\"></rect><rect x=\"877.0588235294117\" y=\"114.99963100992584\" width=\"40\" height=\"0.0003689900741647989\" stroke=\"#3290CC\" stroke-width=\"4\" fill=\"#3FB5FF\"></rect><rect x=\"930.0\" y=\"114.99963100992584\" width=\"40\" height=\"0.0003689900741647989\" stroke=\"#3290CC\" stroke-width=\"4\" fill=\"#3FB5FF\"></rect><g class=\"y-axis-line\"><rect x=\"0\" y=\"0\" width=\"65\" height=\"130\" stroke=\"transparent\" stroke-width=\"0\" fill=\"transparent\"></rect><text x=\"0\" y=\"19.0\" fill=\"transparent\" stroke=\"transparent\" font-size=\"25\">542K</text><text x=\"0\" y=\"126.0\" fill=\"transparent\" stroke=\"transparent\" font-size=\"25\">0</text></g><g class=\"vert-line\"><rect x=\"40.0\" y=\"0\" width=\"20\" height=\"130\" stroke=\"transparent\" stroke-width=\"12\" fill=\"transparent\"></rect><text x=\"60.0\" y=\"20\" fill=\"transparent\" stroke=\"transparent\" font-size=\"30px\">542K</text></g><g class=\"vert-line\"><rect x=\"92.94117647058823\" y=\"0\" width=\"20\" height=\"130\" stroke=\"transparent\" stroke-width=\"12\" fill=\"transparent\"></rect><text x=\"112.94117647058823\" y=\"20\" fill=\"transparent\" stroke=\"transparent\" font-size=\"30px\">249K</text></g><g class=\"vert-line\"><rect x=\"145.88235294117646\" y=\"0\" width=\"20\" height=\"130\" stroke=\"transparent\" stroke-width=\"12\" fill=\"transparent\"></rect><text x=\"165.88235294117646\" y=\"20\" fill=\"transparent\" stroke=\"transparent\" font-size=\"30px\">113K</text></g><g class=\"vert-line\"><rect x=\"198.8235294117647\" y=\"0\" width=\"20\" height=\"130\" stroke=\"transparent\" stroke-width=\"12\" fill=\"transparent\"></rect><text x=\"218.8235294117647\" y=\"20\" fill=\"transparent\" stroke=\"transparent\" font-size=\"30px\">51.7K</text></g><g class=\"vert-line\"><rect x=\"251.76470588235293\" y=\"0\" width=\"20\" height=\"130\" stroke=\"transparent\" stroke-width=\"12\" fill=\"transparent\"></rect><text x=\"271.7647058823529\" y=\"20\" fill=\"transparent\" stroke=\"transparent\" font-size=\"30px\">23.7K</text></g><g class=\"vert-line\"><rect x=\"304.70588235294116\" y=\"0\" width=\"20\" height=\"130\" stroke=\"transparent\" stroke-width=\"12\" fill=\"transparent\"></rect><text x=\"324.70588235294116\" y=\"20\" fill=\"transparent\" stroke=\"transparent\" font-size=\"30px\">10.8K</text></g><g class=\"vert-line\"><rect x=\"357.6470588235294\" y=\"0\" width=\"20\" height=\"130\" stroke=\"transparent\" stroke-width=\"12\" fill=\"transparent\"></rect><text x=\"377.6470588235294\" y=\"20\" fill=\"transparent\" stroke=\"transparent\" font-size=\"30px\">5.02K</text></g><g class=\"vert-line\"><rect x=\"410.5882352941176\" y=\"0\" width=\"20\" height=\"130\" stroke=\"transparent\" stroke-width=\"12\" fill=\"transparent\"></rect><text x=\"430.5882352941176\" y=\"20\" fill=\"transparent\" stroke=\"transparent\" font-size=\"30px\">2.32K</text></g><g class=\"vert-line\"><rect x=\"463.52941176470586\" y=\"0\" width=\"20\" height=\"130\" stroke=\"transparent\" stroke-width=\"12\" fill=\"transparent\"></rect><text x=\"483.52941176470586\" y=\"20\" fill=\"transparent\" stroke=\"transparent\" font-size=\"30px\">1.08K</text></g><g class=\"vert-line\"><rect x=\"516.4705882352941\" y=\"0\" width=\"20\" height=\"130\" stroke=\"transparent\" stroke-width=\"12\" fill=\"transparent\"></rect><text x=\"536.4705882352941\" y=\"20\" fill=\"transparent\" stroke=\"transparent\" font-size=\"30px\">466</text></g><g class=\"vert-line\"><rect x=\"569.4117647058823\" y=\"0\" width=\"20\" height=\"130\" stroke=\"transparent\" stroke-width=\"12\" fill=\"transparent\"></rect><text x=\"589.4117647058823\" y=\"20\" fill=\"transparent\" stroke=\"transparent\" font-size=\"30px\">195</text></g><g class=\"vert-line\"><rect x=\"622.3529411764706\" y=\"0\" width=\"20\" height=\"130\" stroke=\"transparent\" stroke-width=\"12\" fill=\"transparent\"></rect><text x=\"642.3529411764706\" y=\"20\" fill=\"transparent\" stroke=\"transparent\" font-size=\"30px\">92</text></g><g class=\"vert-line\"><rect x=\"675.2941176470588\" y=\"0\" width=\"20\" height=\"130\" stroke=\"transparent\" stroke-width=\"12\" fill=\"transparent\"></rect><text x=\"695.2941176470588\" y=\"20\" fill=\"transparent\" stroke=\"transparent\" font-size=\"30px\">35</text></g><g class=\"vert-line\"><rect x=\"728.235294117647\" y=\"0\" width=\"20\" height=\"130\" stroke=\"transparent\" stroke-width=\"12\" fill=\"transparent\"></rect><text x=\"748.235294117647\" y=\"20\" fill=\"transparent\" stroke=\"transparent\" font-size=\"30px\">12</text></g><g class=\"vert-line\"><rect x=\"781.1764705882352\" y=\"0\" width=\"20\" height=\"130\" stroke=\"transparent\" stroke-width=\"12\" fill=\"transparent\"></rect><text x=\"801.1764705882352\" y=\"20\" fill=\"transparent\" stroke=\"transparent\" font-size=\"30px\">10</text></g><g class=\"vert-line\"><rect x=\"834.1176470588235\" y=\"0\" width=\"20\" height=\"130\" stroke=\"transparent\" stroke-width=\"12\" fill=\"transparent\"></rect><text x=\"854.1176470588235\" y=\"20\" fill=\"transparent\" stroke=\"transparent\" font-size=\"30px\">1</text></g><g class=\"vert-line\"><rect x=\"887.0588235294117\" y=\"0\" width=\"20\" height=\"130\" stroke=\"transparent\" stroke-width=\"12\" fill=\"transparent\"></rect><text x=\"907.0588235294117\" y=\"20\" fill=\"transparent\" stroke=\"transparent\" font-size=\"30px\">2</text></g><g class=\"vert-line\"><rect x=\"940.0\" y=\"0\" width=\"20\" height=\"130\" stroke=\"transparent\" stroke-width=\"12\" fill=\"transparent\"></rect><text x=\"960.0\" y=\"20\" fill=\"transparent\" stroke=\"transparent\" font-size=\"30px\">2</text></g></svg></div></td>\n",
       "  </tr>\n",
       "  <tr>\n",
       "    <th class=\"gt_row gt_left gt_stub\">normal</th>\n",
       "    <td class=\"gt_row gt_center\">1000000</td>\n",
       "    <td class=\"gt_row gt_right\">0.00%</td>\n",
       "    <td class=\"gt_row gt_right\">0.000</td>\n",
       "    <td class=\"gt_row gt_right\">0.999</td>\n",
       "    <td class=\"gt_row gt_right\">−4.861</td>\n",
       "    <td class=\"gt_row gt_right\">−0.673</td>\n",
       "    <td class=\"gt_row gt_right\">0.000</td>\n",
       "    <td class=\"gt_row gt_right\">0.674</td>\n",
       "    <td class=\"gt_row gt_right\">5.050</td>\n",
       "    <td class=\"gt_row gt_right\">1.347</td>\n",
       "    <td class=\"gt_row gt_center\">6968</td>\n",
       "    <td class=\"gt_row gt_center\"><div><svg role=\"img\" viewBox=\"0 0 1100 130\" style=\"height: 2em; margin-left: auto; margin-right: auto; font-size: inherit; overflow: visible; vertical-align: middle; position:relative;\"><defs><pattern id=\"area_pattern\" width=\"8\" height=\"8\" patternUnits=\"userSpaceOnUse\"><path class=\"pattern-line\" d=\"M 0,8 l 8,-8 M -1,1 l 4,-4 M 6,10 l 4,-4\" stroke=\"#FF0000\" stroke-width=\"1.5\" stroke-linecap=\"round\" shape-rendering=\"geometricPrecision\"></path></pattern></defs><style> text { font-family: ui-monospace, 'Cascadia Code', 'Source Code Pro', Menlo, Consolas, 'DejaVu Sans Mono', monospace; stroke-width: 0.15em; paint-order: stroke; stroke-linejoin: round; cursor: default; } .vert-line:hover rect { fill: #911EB4; fill-opacity: 40%; stroke: #FFFFFF60; color: red; } .vert-line:hover text { stroke: white; fill: #212427; } .horizontal-line:hover text {stroke: white; fill: #212427; } .ref-line:hover rect { stroke: #FFFFFF60; } .ref-line:hover line { stroke: #FF0000; } .ref-line:hover text { stroke: white; fill: #212427; } .y-axis-line:hover rect { fill: #EDEDED; fill-opacity: 60%; stroke: #FFFFFF60; color: red; } .y-axis-line:hover text { stroke: white; stroke-width: 0.20em; fill: #1A1C1F; } </style><line x1=\"22.5\" y1=\"115.0\" x2=\"1077.5\" y2=\"115.0\" stroke=\"#BFBFBF\" stroke-width=\"4\"></line><rect x=\"30.0\" y=\"114.99638871835614\" width=\"40\" height=\"0.0036112816438560458\" stroke=\"#3290CC\" stroke-width=\"4\" fill=\"#3FB5FF\"></rect><rect x=\"82.63157894736841\" y=\"114.97472102849301\" width=\"40\" height=\"0.02527897150699232\" stroke=\"#3290CC\" stroke-width=\"4\" fill=\"#3FB5FF\"></rect><rect x=\"135.26315789473682\" y=\"114.83388104438265\" width=\"40\" height=\"0.16611895561734968\" stroke=\"#3290CC\" stroke-width=\"4\" fill=\"#3FB5FF\"></rect><rect x=\"187.89473684210526\" y=\"114.19313650128716\" width=\"40\" height=\"0.8068634987128434\" stroke=\"#3290CC\" stroke-width=\"4\" fill=\"#3FB5FF\"></rect><rect x=\"240.52631578947364\" y=\"111.63376961054907\" width=\"40\" height=\"3.3662303894509336\" stroke=\"#3290CC\" stroke-width=\"4\" fill=\"#3FB5FF\"></rect><rect x=\"293.1578947368421\" y=\"104.23322172753396\" width=\"40\" height=\"10.766778272466041\" stroke=\"#3290CC\" stroke-width=\"4\" fill=\"#3FB5FF\"></rect><rect x=\"345.7894736842105\" y=\"87.86947280446974\" width=\"40\" height=\"27.130527195530263\" stroke=\"#3290CC\" stroke-width=\"4\" fill=\"#3FB5FF\"></rect><rect x=\"398.4210526315789\" y=\"62.05551571681361\" width=\"40\" height=\"52.94448428318639\" stroke=\"#3290CC\" stroke-width=\"4\" fill=\"#3FB5FF\"></rect><rect x=\"451.05263157894734\" y=\"32.7509969716824\" width=\"40\" height=\"82.2490030283176\" stroke=\"#3290CC\" stroke-width=\"4\" fill=\"#3FB5FF\"></rect><rect x=\"503.68421052631584\" y=\"15.0\" width=\"40\" height=\"100.0\" stroke=\"#3290CC\" stroke-width=\"4\" fill=\"#3FB5FF\"></rect><rect x=\"556.3157894736842\" y=\"19.59355025098408\" width=\"40\" height=\"95.40644974901592\" stroke=\"#3290CC\" stroke-width=\"4\" fill=\"#3FB5FF\"></rect><rect x=\"608.9473684210526\" y=\"43.640558820039516\" width=\"40\" height=\"71.35944117996048\" stroke=\"#3290CC\" stroke-width=\"4\" fill=\"#3FB5FF\"></rect><rect x=\"661.578947368421\" y=\"72.80784886270422\" width=\"40\" height=\"42.19215113729578\" stroke=\"#3290CC\" stroke-width=\"4\" fill=\"#3FB5FF\"></rect><rect x=\"714.2105263157894\" y=\"95.31799914361035\" width=\"40\" height=\"19.68200085638965\" stroke=\"#3290CC\" stroke-width=\"4\" fill=\"#3FB5FF\"></rect><rect x=\"766.8421052631578\" y=\"107.79497722313077\" width=\"40\" height=\"7.205022776869228\" stroke=\"#3290CC\" stroke-width=\"4\" fill=\"#3FB5FF\"></rect><rect x=\"819.4736842105264\" y=\"112.96117356335478\" width=\"40\" height=\"2.0388264366452233\" stroke=\"#3290CC\" stroke-width=\"4\" fill=\"#3FB5FF\"></rect><rect x=\"872.1052631578947\" y=\"114.53259697580957\" width=\"40\" height=\"0.4674030241904319\" stroke=\"#3290CC\" stroke-width=\"4\" fill=\"#3FB5FF\"></rect><rect x=\"924.736842105263\" y=\"114.92622667498982\" width=\"40\" height=\"0.07377332501017975\" stroke=\"#3290CC\" stroke-width=\"4\" fill=\"#3FB5FF\"></rect><rect x=\"977.3684210526316\" y=\"114.98761846293536\" width=\"40\" height=\"0.01238153706464118\" stroke=\"#3290CC\" stroke-width=\"4\" fill=\"#3FB5FF\"></rect><rect x=\"1030.0\" y=\"114.99896820524461\" width=\"40\" height=\"0.001031794755391502\" stroke=\"#3290CC\" stroke-width=\"4\" fill=\"#3FB5FF\"></rect><g class=\"y-axis-line\"><rect x=\"0\" y=\"0\" width=\"65\" height=\"130\" stroke=\"transparent\" stroke-width=\"0\" fill=\"transparent\"></rect><text x=\"0\" y=\"19.0\" fill=\"transparent\" stroke=\"transparent\" font-size=\"25\">194K</text><text x=\"0\" y=\"126.0\" fill=\"transparent\" stroke=\"transparent\" font-size=\"25\">0</text></g><g class=\"vert-line\"><rect x=\"40.0\" y=\"0\" width=\"20\" height=\"130\" stroke=\"transparent\" stroke-width=\"12\" fill=\"transparent\"></rect><text x=\"60.0\" y=\"20\" fill=\"transparent\" stroke=\"transparent\" font-size=\"30px\">7</text></g><g class=\"vert-line\"><rect x=\"92.63157894736841\" y=\"0\" width=\"20\" height=\"130\" stroke=\"transparent\" stroke-width=\"12\" fill=\"transparent\"></rect><text x=\"112.63157894736841\" y=\"20\" fill=\"transparent\" stroke=\"transparent\" font-size=\"30px\">49</text></g><g class=\"vert-line\"><rect x=\"145.26315789473682\" y=\"0\" width=\"20\" height=\"130\" stroke=\"transparent\" stroke-width=\"12\" fill=\"transparent\"></rect><text x=\"165.26315789473682\" y=\"20\" fill=\"transparent\" stroke=\"transparent\" font-size=\"30px\">322</text></g><g class=\"vert-line\"><rect x=\"197.89473684210526\" y=\"0\" width=\"20\" height=\"130\" stroke=\"transparent\" stroke-width=\"12\" fill=\"transparent\"></rect><text x=\"217.89473684210526\" y=\"20\" fill=\"transparent\" stroke=\"transparent\" font-size=\"30px\">1.56K</text></g><g class=\"vert-line\"><rect x=\"250.52631578947364\" y=\"0\" width=\"20\" height=\"130\" stroke=\"transparent\" stroke-width=\"12\" fill=\"transparent\"></rect><text x=\"270.52631578947364\" y=\"20\" fill=\"transparent\" stroke=\"transparent\" font-size=\"30px\">6.52K</text></g><g class=\"vert-line\"><rect x=\"303.1578947368421\" y=\"0\" width=\"20\" height=\"130\" stroke=\"transparent\" stroke-width=\"12\" fill=\"transparent\"></rect><text x=\"323.1578947368421\" y=\"20\" fill=\"transparent\" stroke=\"transparent\" font-size=\"30px\">20.9K</text></g><g class=\"vert-line\"><rect x=\"355.7894736842105\" y=\"0\" width=\"20\" height=\"130\" stroke=\"transparent\" stroke-width=\"12\" fill=\"transparent\"></rect><text x=\"375.7894736842105\" y=\"20\" fill=\"transparent\" stroke=\"transparent\" font-size=\"30px\">52.6K</text></g><g class=\"vert-line\"><rect x=\"408.4210526315789\" y=\"0\" width=\"20\" height=\"130\" stroke=\"transparent\" stroke-width=\"12\" fill=\"transparent\"></rect><text x=\"428.4210526315789\" y=\"20\" fill=\"transparent\" stroke=\"transparent\" font-size=\"30px\">103K</text></g><g class=\"vert-line\"><rect x=\"461.05263157894734\" y=\"0\" width=\"20\" height=\"130\" stroke=\"transparent\" stroke-width=\"12\" fill=\"transparent\"></rect><text x=\"481.05263157894734\" y=\"20\" fill=\"transparent\" stroke=\"transparent\" font-size=\"30px\">159K</text></g><g class=\"vert-line\"><rect x=\"513.6842105263158\" y=\"0\" width=\"20\" height=\"130\" stroke=\"transparent\" stroke-width=\"12\" fill=\"transparent\"></rect><text x=\"533.6842105263158\" y=\"20\" fill=\"transparent\" stroke=\"transparent\" font-size=\"30px\">194K</text></g><g class=\"vert-line\"><rect x=\"566.3157894736842\" y=\"0\" width=\"20\" height=\"130\" stroke=\"transparent\" stroke-width=\"12\" fill=\"transparent\"></rect><text x=\"586.3157894736842\" y=\"20\" fill=\"transparent\" stroke=\"transparent\" font-size=\"30px\">185K</text></g><g class=\"vert-line\"><rect x=\"618.9473684210526\" y=\"0\" width=\"20\" height=\"130\" stroke=\"transparent\" stroke-width=\"12\" fill=\"transparent\"></rect><text x=\"638.9473684210526\" y=\"20\" fill=\"transparent\" stroke=\"transparent\" font-size=\"30px\">138K</text></g><g class=\"vert-line\"><rect x=\"671.578947368421\" y=\"0\" width=\"20\" height=\"130\" stroke=\"transparent\" stroke-width=\"12\" fill=\"transparent\"></rect><text x=\"691.578947368421\" y=\"20\" fill=\"transparent\" stroke=\"transparent\" font-size=\"30px\">81.8K</text></g><g class=\"vert-line\"><rect x=\"724.2105263157894\" y=\"0\" width=\"20\" height=\"130\" stroke=\"transparent\" stroke-width=\"12\" fill=\"transparent\"></rect><text x=\"744.2105263157894\" y=\"20\" fill=\"transparent\" stroke=\"transparent\" font-size=\"30px\">38.2K</text></g><g class=\"vert-line\"><rect x=\"776.8421052631578\" y=\"0\" width=\"20\" height=\"130\" stroke=\"transparent\" stroke-width=\"12\" fill=\"transparent\"></rect><text x=\"796.8421052631578\" y=\"20\" fill=\"transparent\" stroke=\"transparent\" font-size=\"30px\">14.0K</text></g><g class=\"vert-line\"><rect x=\"829.4736842105264\" y=\"0\" width=\"20\" height=\"130\" stroke=\"transparent\" stroke-width=\"12\" fill=\"transparent\"></rect><text x=\"849.4736842105264\" y=\"20\" fill=\"transparent\" stroke=\"transparent\" font-size=\"30px\">3.95K</text></g><g class=\"vert-line\"><rect x=\"882.1052631578947\" y=\"0\" width=\"20\" height=\"130\" stroke=\"transparent\" stroke-width=\"12\" fill=\"transparent\"></rect><text x=\"902.1052631578947\" y=\"20\" fill=\"transparent\" stroke=\"transparent\" font-size=\"30px\">906</text></g><g class=\"vert-line\"><rect x=\"934.736842105263\" y=\"0\" width=\"20\" height=\"130\" stroke=\"transparent\" stroke-width=\"12\" fill=\"transparent\"></rect><text x=\"954.736842105263\" y=\"20\" fill=\"transparent\" stroke=\"transparent\" font-size=\"30px\">143</text></g><g class=\"vert-line\"><rect x=\"987.3684210526316\" y=\"0\" width=\"20\" height=\"130\" stroke=\"transparent\" stroke-width=\"12\" fill=\"transparent\"></rect><text x=\"1007.3684210526316\" y=\"20\" fill=\"transparent\" stroke=\"transparent\" font-size=\"30px\">24</text></g><g class=\"vert-line\"><rect x=\"1040.0\" y=\"0\" width=\"20\" height=\"130\" stroke=\"transparent\" stroke-width=\"12\" fill=\"transparent\"></rect><text x=\"1060.0\" y=\"20\" fill=\"transparent\" stroke=\"transparent\" font-size=\"30px\">2</text></g></svg></div></td>\n",
       "  </tr>\n",
       "  <tr>\n",
       "    <th class=\"gt_row gt_left gt_stub\">fat_normal</th>\n",
       "    <td class=\"gt_row gt_center\">1000000</td>\n",
       "    <td class=\"gt_row gt_right\">0.00%</td>\n",
       "    <td class=\"gt_row gt_right\">0.910</td>\n",
       "    <td class=\"gt_row gt_right\">1,000.760</td>\n",
       "    <td class=\"gt_row gt_right\">−4,759.809</td>\n",
       "    <td class=\"gt_row gt_right\">−673.024</td>\n",
       "    <td class=\"gt_row gt_right\">0.450</td>\n",
       "    <td class=\"gt_row gt_right\">675.844</td>\n",
       "    <td class=\"gt_row gt_right\">4,649.868</td>\n",
       "    <td class=\"gt_row gt_right\">1,348.868</td>\n",
       "    <td class=\"gt_row gt_center\">6987</td>\n",
       "    <td class=\"gt_row gt_center\"><div><svg role=\"img\" viewBox=\"0 0 1100 130\" style=\"height: 2em; margin-left: auto; margin-right: auto; font-size: inherit; overflow: visible; vertical-align: middle; position:relative;\"><defs><pattern id=\"area_pattern\" width=\"8\" height=\"8\" patternUnits=\"userSpaceOnUse\"><path class=\"pattern-line\" d=\"M 0,8 l 8,-8 M -1,1 l 4,-4 M 6,10 l 4,-4\" stroke=\"#FF0000\" stroke-width=\"1.5\" stroke-linecap=\"round\" shape-rendering=\"geometricPrecision\"></path></pattern></defs><style> text { font-family: ui-monospace, 'Cascadia Code', 'Source Code Pro', Menlo, Consolas, 'DejaVu Sans Mono', monospace; stroke-width: 0.15em; paint-order: stroke; stroke-linejoin: round; cursor: default; } .vert-line:hover rect { fill: #911EB4; fill-opacity: 40%; stroke: #FFFFFF60; color: red; } .vert-line:hover text { stroke: white; fill: #212427; } .horizontal-line:hover text {stroke: white; fill: #212427; } .ref-line:hover rect { stroke: #FFFFFF60; } .ref-line:hover line { stroke: #FF0000; } .ref-line:hover text { stroke: white; fill: #212427; } .y-axis-line:hover rect { fill: #EDEDED; fill-opacity: 60%; stroke: #FFFFFF60; color: red; } .y-axis-line:hover text { stroke: white; stroke-width: 0.20em; fill: #1A1C1F; } </style><line x1=\"22.5\" y1=\"115.0\" x2=\"1077.5\" y2=\"115.0\" stroke=\"#BFBFBF\" stroke-width=\"4\"></line><rect x=\"30.0\" y=\"114.99672240400741\" width=\"40\" height=\"0.0032775959925857023\" stroke=\"#3290CC\" stroke-width=\"4\" fill=\"#3FB5FF\"></rect><rect x=\"82.63157894736841\" y=\"114.96722404007407\" width=\"40\" height=\"0.03277595992592808\" stroke=\"#3290CC\" stroke-width=\"4\" fill=\"#3FB5FF\"></rect><rect x=\"135.26315789473682\" y=\"114.80389050644321\" width=\"40\" height=\"0.19610949355678997\" stroke=\"#3290CC\" stroke-width=\"4\" fill=\"#3FB5FF\"></rect><rect x=\"187.89473684210526\" y=\"114.12324307198148\" width=\"40\" height=\"0.8767569280185228\" stroke=\"#3290CC\" stroke-width=\"4\" fill=\"#3FB5FF\"></rect><rect x=\"240.52631578947364\" y=\"111.68307285549625\" width=\"40\" height=\"3.316927144503751\" stroke=\"#3290CC\" stroke-width=\"4\" fill=\"#3FB5FF\"></rect><rect x=\"293.1578947368421\" y=\"105.01043368057641\" width=\"40\" height=\"9.989566319423588\" stroke=\"#3290CC\" stroke-width=\"4\" fill=\"#3FB5FF\"></rect><rect x=\"345.7894736842105\" y=\"90.39563314960587\" width=\"40\" height=\"24.60436685039413\" stroke=\"#3290CC\" stroke-width=\"4\" fill=\"#3FB5FF\"></rect><rect x=\"398.4210526315789\" y=\"66.78492415096608\" width=\"40\" height=\"48.21507584903392\" stroke=\"#3290CC\" stroke-width=\"4\" fill=\"#3FB5FF\"></rect><rect x=\"451.05263157894734\" y=\"38.752191892320056\" width=\"40\" height=\"76.24780810767994\" stroke=\"#3290CC\" stroke-width=\"4\" fill=\"#3FB5FF\"></rect><rect x=\"503.68421052631584\" y=\"17.473492442409906\" width=\"40\" height=\"97.5265075575901\" stroke=\"#3290CC\" stroke-width=\"4\" fill=\"#3FB5FF\"></rect><rect x=\"556.3157894736842\" y=\"15.0\" width=\"40\" height=\"100.0\" stroke=\"#3290CC\" stroke-width=\"4\" fill=\"#3FB5FF\"></rect><rect x=\"608.9473684210526\" y=\"32.696287030006395\" width=\"40\" height=\"82.3037129699936\" stroke=\"#3290CC\" stroke-width=\"4\" fill=\"#3FB5FF\"></rect><rect x=\"661.578947368421\" y=\"59.98281993433883\" width=\"40\" height=\"55.01718006566117\" stroke=\"#3290CC\" stroke-width=\"4\" fill=\"#3FB5FF\"></rect><rect x=\"714.2105263157894\" y=\"85.63984136435396\" width=\"40\" height=\"29.360158635646044\" stroke=\"#3290CC\" stroke-width=\"4\" fill=\"#3FB5FF\"></rect><rect x=\"766.8421052631578\" y=\"102.42058658042947\" width=\"40\" height=\"12.579413419570528\" stroke=\"#3290CC\" stroke-width=\"4\" fill=\"#3FB5FF\"></rect><rect x=\"819.4736842105264\" y=\"110.533182928095\" width=\"40\" height=\"4.466817071904998\" stroke=\"#3290CC\" stroke-width=\"4\" fill=\"#3FB5FF\"></rect><rect x=\"872.1052631578947\" y=\"113.79930733471357\" width=\"40\" height=\"1.2006926652864252\" stroke=\"#3290CC\" stroke-width=\"4\" fill=\"#3FB5FF\"></rect><rect x=\"924.736842105263\" y=\"114.7312371286074\" width=\"40\" height=\"0.268762871392596\" stroke=\"#3290CC\" stroke-width=\"4\" fill=\"#3FB5FF\"></rect><rect x=\"977.3684210526316\" y=\"114.94810473011728\" width=\"40\" height=\"0.05189526988272064\" stroke=\"#3290CC\" stroke-width=\"4\" fill=\"#3FB5FF\"></rect><rect x=\"1030.0\" y=\"114.99180601001851\" width=\"40\" height=\"0.008193989981492678\" stroke=\"#3290CC\" stroke-width=\"4\" fill=\"#3FB5FF\"></rect><g class=\"y-axis-line\"><rect x=\"0\" y=\"0\" width=\"65\" height=\"130\" stroke=\"transparent\" stroke-width=\"0\" fill=\"transparent\"></rect><text x=\"0\" y=\"19.0\" fill=\"transparent\" stroke=\"transparent\" font-size=\"25\">183K</text><text x=\"0\" y=\"126.0\" fill=\"transparent\" stroke=\"transparent\" font-size=\"25\">0</text></g><g class=\"vert-line\"><rect x=\"40.0\" y=\"0\" width=\"20\" height=\"130\" stroke=\"transparent\" stroke-width=\"12\" fill=\"transparent\"></rect><text x=\"60.0\" y=\"20\" fill=\"transparent\" stroke=\"transparent\" font-size=\"30px\">6</text></g><g class=\"vert-line\"><rect x=\"92.63157894736841\" y=\"0\" width=\"20\" height=\"130\" stroke=\"transparent\" stroke-width=\"12\" fill=\"transparent\"></rect><text x=\"112.63157894736841\" y=\"20\" fill=\"transparent\" stroke=\"transparent\" font-size=\"30px\">60</text></g><g class=\"vert-line\"><rect x=\"145.26315789473682\" y=\"0\" width=\"20\" height=\"130\" stroke=\"transparent\" stroke-width=\"12\" fill=\"transparent\"></rect><text x=\"165.26315789473682\" y=\"20\" fill=\"transparent\" stroke=\"transparent\" font-size=\"30px\">359</text></g><g class=\"vert-line\"><rect x=\"197.89473684210526\" y=\"0\" width=\"20\" height=\"130\" stroke=\"transparent\" stroke-width=\"12\" fill=\"transparent\"></rect><text x=\"217.89473684210526\" y=\"20\" fill=\"transparent\" stroke=\"transparent\" font-size=\"30px\">1.60K</text></g><g class=\"vert-line\"><rect x=\"250.52631578947364\" y=\"0\" width=\"20\" height=\"130\" stroke=\"transparent\" stroke-width=\"12\" fill=\"transparent\"></rect><text x=\"270.52631578947364\" y=\"20\" fill=\"transparent\" stroke=\"transparent\" font-size=\"30px\">6.07K</text></g><g class=\"vert-line\"><rect x=\"303.1578947368421\" y=\"0\" width=\"20\" height=\"130\" stroke=\"transparent\" stroke-width=\"12\" fill=\"transparent\"></rect><text x=\"323.1578947368421\" y=\"20\" fill=\"transparent\" stroke=\"transparent\" font-size=\"30px\">18.3K</text></g><g class=\"vert-line\"><rect x=\"355.7894736842105\" y=\"0\" width=\"20\" height=\"130\" stroke=\"transparent\" stroke-width=\"12\" fill=\"transparent\"></rect><text x=\"375.7894736842105\" y=\"20\" fill=\"transparent\" stroke=\"transparent\" font-size=\"30px\">45.0K</text></g><g class=\"vert-line\"><rect x=\"408.4210526315789\" y=\"0\" width=\"20\" height=\"130\" stroke=\"transparent\" stroke-width=\"12\" fill=\"transparent\"></rect><text x=\"428.4210526315789\" y=\"20\" fill=\"transparent\" stroke=\"transparent\" font-size=\"30px\">88.3K</text></g><g class=\"vert-line\"><rect x=\"461.05263157894734\" y=\"0\" width=\"20\" height=\"130\" stroke=\"transparent\" stroke-width=\"12\" fill=\"transparent\"></rect><text x=\"481.05263157894734\" y=\"20\" fill=\"transparent\" stroke=\"transparent\" font-size=\"30px\">140K</text></g><g class=\"vert-line\"><rect x=\"513.6842105263158\" y=\"0\" width=\"20\" height=\"130\" stroke=\"transparent\" stroke-width=\"12\" fill=\"transparent\"></rect><text x=\"533.6842105263158\" y=\"20\" fill=\"transparent\" stroke=\"transparent\" font-size=\"30px\">179K</text></g><g class=\"vert-line\"><rect x=\"566.3157894736842\" y=\"0\" width=\"20\" height=\"130\" stroke=\"transparent\" stroke-width=\"12\" fill=\"transparent\"></rect><text x=\"586.3157894736842\" y=\"20\" fill=\"transparent\" stroke=\"transparent\" font-size=\"30px\">183K</text></g><g class=\"vert-line\"><rect x=\"618.9473684210526\" y=\"0\" width=\"20\" height=\"130\" stroke=\"transparent\" stroke-width=\"12\" fill=\"transparent\"></rect><text x=\"638.9473684210526\" y=\"20\" fill=\"transparent\" stroke=\"transparent\" font-size=\"30px\">151K</text></g><g class=\"vert-line\"><rect x=\"671.578947368421\" y=\"0\" width=\"20\" height=\"130\" stroke=\"transparent\" stroke-width=\"12\" fill=\"transparent\"></rect><text x=\"691.578947368421\" y=\"20\" fill=\"transparent\" stroke=\"transparent\" font-size=\"30px\">101K</text></g><g class=\"vert-line\"><rect x=\"724.2105263157894\" y=\"0\" width=\"20\" height=\"130\" stroke=\"transparent\" stroke-width=\"12\" fill=\"transparent\"></rect><text x=\"744.2105263157894\" y=\"20\" fill=\"transparent\" stroke=\"transparent\" font-size=\"30px\">53.7K</text></g><g class=\"vert-line\"><rect x=\"776.8421052631578\" y=\"0\" width=\"20\" height=\"130\" stroke=\"transparent\" stroke-width=\"12\" fill=\"transparent\"></rect><text x=\"796.8421052631578\" y=\"20\" fill=\"transparent\" stroke=\"transparent\" font-size=\"30px\">23.0K</text></g><g class=\"vert-line\"><rect x=\"829.4736842105264\" y=\"0\" width=\"20\" height=\"130\" stroke=\"transparent\" stroke-width=\"12\" fill=\"transparent\"></rect><text x=\"849.4736842105264\" y=\"20\" fill=\"transparent\" stroke=\"transparent\" font-size=\"30px\">8.18K</text></g><g class=\"vert-line\"><rect x=\"882.1052631578947\" y=\"0\" width=\"20\" height=\"130\" stroke=\"transparent\" stroke-width=\"12\" fill=\"transparent\"></rect><text x=\"902.1052631578947\" y=\"20\" fill=\"transparent\" stroke=\"transparent\" font-size=\"30px\">2.20K</text></g><g class=\"vert-line\"><rect x=\"934.736842105263\" y=\"0\" width=\"20\" height=\"130\" stroke=\"transparent\" stroke-width=\"12\" fill=\"transparent\"></rect><text x=\"954.736842105263\" y=\"20\" fill=\"transparent\" stroke=\"transparent\" font-size=\"30px\">492</text></g><g class=\"vert-line\"><rect x=\"987.3684210526316\" y=\"0\" width=\"20\" height=\"130\" stroke=\"transparent\" stroke-width=\"12\" fill=\"transparent\"></rect><text x=\"1007.3684210526316\" y=\"20\" fill=\"transparent\" stroke=\"transparent\" font-size=\"30px\">95</text></g><g class=\"vert-line\"><rect x=\"1040.0\" y=\"0\" width=\"20\" height=\"130\" stroke=\"transparent\" stroke-width=\"12\" fill=\"transparent\"></rect><text x=\"1060.0\" y=\"20\" fill=\"transparent\" stroke=\"transparent\" font-size=\"30px\">15</text></g></svg></div></td>\n",
       "  </tr>\n",
       "</tbody>\n",
       "\n",
       "\n",
       "</table>\n",
       "\n",
       "</div>\n",
       "        "
      ],
      "text/plain": [
       "GT(_tbl_data=shape: (5, 13)\n",
       "┌────────────┬────────────┬───────┬──────────┬───┬────────────┬────────────┬───────────┬───────────┐\n",
       "│ column     ┆ non_null_c ┆ null% ┆ mean     ┆ … ┆ max        ┆ IQR        ┆ outlier_c ┆ histogram │\n",
       "│ ---        ┆ nt         ┆ ---   ┆ ---      ┆   ┆ ---        ┆ ---        ┆ nt        ┆ ---       │\n",
       "│ str        ┆ ---        ┆ f64   ┆ f64      ┆   ┆ f64        ┆ f64        ┆ ---       ┆ struct[1] │\n",
       "│            ┆ u32        ┆       ┆          ┆   ┆            ┆            ┆ u32       ┆           │\n",
       "╞════════════╪════════════╪═══════╪══════════╪═══╪════════════╪════════════╪═══════════╪═══════════╡\n",
       "│ uniform_1  ┆ 1000000    ┆ 0.0   ┆ 6.003778 ┆ … ┆ 11.999989  ┆ 6.013776   ┆ 0         ┆ {[49902,  │\n",
       "│            ┆            ┆       ┆          ┆   ┆            ┆            ┆           ┆ 50061, …  │\n",
       "│            ┆            ┆       ┆          ┆   ┆            ┆            ┆           ┆ 50022]}   │\n",
       "│ uniform_2  ┆ 1000000    ┆ 0.0   ┆ 0.500125 ┆ … ┆ 1.0        ┆ 0.499776   ┆ 0         ┆ {[49933,  │\n",
       "│            ┆            ┆       ┆          ┆   ┆            ┆            ┆           ┆ 49884, …  │\n",
       "│            ┆            ┆       ┆          ┆   ┆            ┆            ┆           ┆ 50137]}   │\n",
       "│ exp        ┆ 1000000    ┆ 0.0   ┆ 2.000708 ┆ … ┆ 31.321732  ┆ 2.196131   ┆ 48312     ┆ {[542020, │\n",
       "│            ┆            ┆       ┆          ┆   ┆            ┆            ┆           ┆ 249118, … │\n",
       "│            ┆            ┆       ┆          ┆   ┆            ┆            ┆           ┆ 2]}       │\n",
       "│ normal     ┆ 1000000    ┆ 0.0   ┆ 0.000432 ┆ … ┆ 5.050149   ┆ 1.346994   ┆ 6968      ┆ {[7, 49,  │\n",
       "│            ┆            ┆       ┆          ┆   ┆            ┆            ┆           ┆ … 2]}     │\n",
       "│ fat_normal ┆ 1000000    ┆ 0.0   ┆ 0.90987  ┆ … ┆ 4649.86756 ┆ 1348.86823 ┆ 6987      ┆ {[6, 60,  │\n",
       "│            ┆            ┆       ┆          ┆   ┆ 3          ┆ 3          ┆           ┆ … 15]}    │\n",
       "└────────────┴────────────┴───────┴──────────┴───┴────────────┴────────────┴───────────┴───────────┘, _body=<great_tables._gt_data.Body object at 0x7a43980de270>, _boxhead=Boxhead([ColInfo(var='column', type=<ColInfoTypeEnum.stub: 2>, column_label='column', column_align='left', column_width=None), ColInfo(var='non_null_cnt', type=<ColInfoTypeEnum.default: 1>, column_label='non_null_cnt', column_align='center', column_width=None), ColInfo(var='null%', type=<ColInfoTypeEnum.default: 1>, column_label='null%', column_align='right', column_width=None), ColInfo(var='mean', type=<ColInfoTypeEnum.default: 1>, column_label='mean', column_align='right', column_width=None), ColInfo(var='std', type=<ColInfoTypeEnum.default: 1>, column_label='std', column_align='right', column_width=None), ColInfo(var='min', type=<ColInfoTypeEnum.default: 1>, column_label='min', column_align='right', column_width=None), ColInfo(var='q1', type=<ColInfoTypeEnum.default: 1>, column_label='q1', column_align='right', column_width=None), ColInfo(var='median', type=<ColInfoTypeEnum.default: 1>, column_label='median', column_align='right', column_width=None), ColInfo(var='q3', type=<ColInfoTypeEnum.default: 1>, column_label='q3', column_align='right', column_width=None), ColInfo(var='max', type=<ColInfoTypeEnum.default: 1>, column_label='max', column_align='right', column_width=None), ColInfo(var='IQR', type=<ColInfoTypeEnum.default: 1>, column_label='IQR', column_align='right', column_width=None), ColInfo(var='outlier_cnt', type=<ColInfoTypeEnum.default: 1>, column_label='outlier_cnt', column_align='center', column_width=None), ColInfo(var='histogram', type=<ColInfoTypeEnum.default: 1>, column_label='histogram', column_align='center', column_width=None)]), _stub=<great_tables._gt_data.Stub object at 0x7a43980ddfd0>, _spanners=Spanners([]), _heading=Heading(title=None, subtitle=None, preheader=None), _stubhead='column', _source_notes=[], _footnotes=[], _styles=[], _locale=<great_tables._gt_data.Locale object at 0x7a43980de660>, _formats=[<great_tables._gt_data.FormatInfo object at 0x7a43980de7b0>, <great_tables._gt_data.FormatInfo object at 0x7a4377f05bd0>, <great_tables._gt_data.FormatInfo object at 0x7a4377f06350>], _substitutions=[], _options=Options(table_id=OptionsInfo(scss=False, category='table', type='value', value=None), table_caption=OptionsInfo(scss=False, category='table', type='value', value=None), table_width=OptionsInfo(scss=True, category='table', type='px', value='auto'), table_layout=OptionsInfo(scss=True, category='table', type='value', value='fixed'), table_margin_left=OptionsInfo(scss=True, category='table', type='px', value='auto'), table_margin_right=OptionsInfo(scss=True, category='table', type='px', value='auto'), table_background_color=OptionsInfo(scss=True, category='table', type='value', value='#FFFFFF'), table_additional_css=OptionsInfo(scss=False, category='table', type='values', value=[]), table_font_names=OptionsInfo(scss=False, category='table', type='values', value=['-apple-system', 'BlinkMacSystemFont', 'Segoe UI', 'Roboto', 'Oxygen', 'Ubuntu', 'Cantarell', 'Helvetica Neue', 'Fira Sans', 'Droid Sans', 'Arial', 'sans-serif']), table_font_size=OptionsInfo(scss=True, category='table', type='px', value='16px'), table_font_weight=OptionsInfo(scss=True, category='table', type='value', value='normal'), table_font_style=OptionsInfo(scss=True, category='table', type='value', value='normal'), table_font_color=OptionsInfo(scss=True, category='table', type='value', value='#333333'), table_font_color_light=OptionsInfo(scss=True, category='table', type='value', value='#FFFFFF'), table_border_top_include=OptionsInfo(scss=False, category='table', type='boolean', value=True), table_border_top_style=OptionsInfo(scss=True, category='table', type='value', value='solid'), table_border_top_width=OptionsInfo(scss=True, category='table', type='px', value='2px'), table_border_top_color=OptionsInfo(scss=True, category='table', type='value', value='#A8A8A8'), table_border_right_style=OptionsInfo(scss=True, category='table', type='value', value='none'), table_border_right_width=OptionsInfo(scss=True, category='table', type='px', value='2px'), table_border_right_color=OptionsInfo(scss=True, category='table', type='value', value='#D3D3D3'), table_border_bottom_include=OptionsInfo(scss=False, category='table', type='boolean', value=True), table_border_bottom_style=OptionsInfo(scss=True, category='table', type='value', value='solid'), table_border_bottom_width=OptionsInfo(scss=True, category='table', type='px', value='2px'), table_border_bottom_color=OptionsInfo(scss=True, category='table', type='value', value='#A8A8A8'), table_border_left_style=OptionsInfo(scss=True, category='table', type='value', value='none'), table_border_left_width=OptionsInfo(scss=True, category='table', type='px', value='2px'), table_border_left_color=OptionsInfo(scss=True, category='table', type='value', value='#D3D3D3'), heading_background_color=OptionsInfo(scss=True, category='heading', type='value', value=None), heading_align=OptionsInfo(scss=True, category='heading', type='value', value='center'), heading_title_font_size=OptionsInfo(scss=True, category='heading', type='px', value='125%'), heading_title_font_weight=OptionsInfo(scss=True, category='heading', type='value', value='initial'), heading_subtitle_font_size=OptionsInfo(scss=True, category='heading', type='px', value='85%'), heading_subtitle_font_weight=OptionsInfo(scss=True, category='heading', type='value', value='initial'), heading_padding=OptionsInfo(scss=True, category='heading', type='px', value='4px'), heading_padding_horizontal=OptionsInfo(scss=True, category='heading', type='px', value='5px'), heading_border_bottom_style=OptionsInfo(scss=True, category='heading', type='value', value='solid'), heading_border_bottom_width=OptionsInfo(scss=True, category='heading', type='px', value='2px'), heading_border_bottom_color=OptionsInfo(scss=True, category='heading', type='value', value='#D3D3D3'), heading_border_lr_style=OptionsInfo(scss=True, category='heading', type='value', value='none'), heading_border_lr_width=OptionsInfo(scss=True, category='heading', type='px', value='1px'), heading_border_lr_color=OptionsInfo(scss=True, category='heading', type='value', value='#D3D3D3'), column_labels_background_color=OptionsInfo(scss=True, category='column_labels', type='value', value=None), column_labels_font_size=OptionsInfo(scss=True, category='column_labels', type='px', value='100%'), column_labels_font_weight=OptionsInfo(scss=True, category='column_labels', type='value', value='normal'), column_labels_text_transform=OptionsInfo(scss=True, category='column_labels', type='value', value='inherit'), column_labels_padding=OptionsInfo(scss=True, category='column_labels', type='px', value='5px'), column_labels_padding_horizontal=OptionsInfo(scss=True, category='column_labels', type='px', value='5px'), column_labels_vlines_style=OptionsInfo(scss=True, category='table_body', type='value', value='none'), column_labels_vlines_width=OptionsInfo(scss=True, category='table_body', type='px', value='1px'), column_labels_vlines_color=OptionsInfo(scss=True, category='table_body', type='value', value='#D3D3D3'), column_labels_border_top_style=OptionsInfo(scss=True, category='column_labels', type='value', value='solid'), column_labels_border_top_width=OptionsInfo(scss=True, category='column_labels', type='px', value='2px'), column_labels_border_top_color=OptionsInfo(scss=True, category='column_labels', type='value', value='#D3D3D3'), column_labels_border_bottom_style=OptionsInfo(scss=True, category='column_labels', type='value', value='solid'), column_labels_border_bottom_width=OptionsInfo(scss=True, category='column_labels', type='px', value='2px'), column_labels_border_bottom_color=OptionsInfo(scss=True, category='column_labels', type='value', value='#D3D3D3'), column_labels_border_lr_style=OptionsInfo(scss=True, category='column_labels', type='value', value='none'), column_labels_border_lr_width=OptionsInfo(scss=True, category='column_labels', type='px', value='1px'), column_labels_border_lr_color=OptionsInfo(scss=True, category='column_labels', type='value', value='#D3D3D3'), column_labels_hidden=OptionsInfo(scss=False, category='column_labels', type='boolean', value=False), row_group_background_color=OptionsInfo(scss=True, category='row_group', type='value', value=None), row_group_font_size=OptionsInfo(scss=True, category='row_group', type='px', value='100%'), row_group_font_weight=OptionsInfo(scss=True, category='row_group', type='value', value='initial'), row_group_text_transform=OptionsInfo(scss=True, category='row_group', type='value', value='inherit'), row_group_padding=OptionsInfo(scss=True, category='row_group', type='px', value='8px'), row_group_padding_horizontal=OptionsInfo(scss=True, category='row_group', type='px', value='5px'), row_group_border_top_style=OptionsInfo(scss=True, category='row_group', type='value', value='solid'), row_group_border_top_width=OptionsInfo(scss=True, category='row_group', type='px', value='2px'), row_group_border_top_color=OptionsInfo(scss=True, category='row_group', type='value', value='#D3D3D3'), row_group_border_right_style=OptionsInfo(scss=True, category='row_group', type='value', value='none'), row_group_border_right_width=OptionsInfo(scss=True, category='row_group', type='px', value='1px'), row_group_border_right_color=OptionsInfo(scss=True, category='row_group', type='value', value='#D3D3D3'), row_group_border_bottom_style=OptionsInfo(scss=True, category='row_group', type='value', value='solid'), row_group_border_bottom_width=OptionsInfo(scss=True, category='row_group', type='px', value='2px'), row_group_border_bottom_color=OptionsInfo(scss=True, category='row_group', type='value', value='#D3D3D3'), row_group_border_left_style=OptionsInfo(scss=True, category='row_group', type='value', value='none'), row_group_border_left_width=OptionsInfo(scss=True, category='row_group', type='px', value='1px'), row_group_border_left_color=OptionsInfo(scss=True, category='row_group', type='value', value='#D3D3D3'), row_group_as_column=OptionsInfo(scss=False, category='row_group', type='boolean', value=False), table_body_hlines_style=OptionsInfo(scss=True, category='table_body', type='value', value='solid'), table_body_hlines_width=OptionsInfo(scss=True, category='table_body', type='px', value='1px'), table_body_hlines_color=OptionsInfo(scss=True, category='table_body', type='value', value='#D3D3D3'), table_body_vlines_style=OptionsInfo(scss=True, category='table_body', type='value', value='none'), table_body_vlines_width=OptionsInfo(scss=True, category='table_body', type='px', value='1px'), table_body_vlines_color=OptionsInfo(scss=True, category='table_body', type='value', value='#D3D3D3'), table_body_border_top_style=OptionsInfo(scss=True, category='table_body', type='value', value='solid'), table_body_border_top_width=OptionsInfo(scss=True, category='table_body', type='px', value='2px'), table_body_border_top_color=OptionsInfo(scss=True, category='table_body', type='value', value='#D3D3D3'), table_body_border_bottom_style=OptionsInfo(scss=True, category='table_body', type='value', value='solid'), table_body_border_bottom_width=OptionsInfo(scss=True, category='table_body', type='px', value='2px'), table_body_border_bottom_color=OptionsInfo(scss=True, category='table_body', type='value', value='#D3D3D3'), data_row_padding=OptionsInfo(scss=True, category='data_row', type='px', value='8px'), data_row_padding_horizontal=OptionsInfo(scss=True, category='data_row', type='px', value='5px'), stub_background_color=OptionsInfo(scss=True, category='stub', type='value', value=None), stub_font_size=OptionsInfo(scss=True, category='stub', type='px', value='100%'), stub_font_weight=OptionsInfo(scss=True, category='stub', type='value', value='initial'), stub_text_transform=OptionsInfo(scss=True, category='stub', type='value', value='inherit'), stub_border_style=OptionsInfo(scss=True, category='stub', type='value', value='solid'), stub_border_width=OptionsInfo(scss=True, category='stub', type='px', value='2px'), stub_border_color=OptionsInfo(scss=True, category='stub', type='value', value='#D3D3D3'), stub_row_group_background_color=OptionsInfo(scss=True, category='stub', type='value', value=None), stub_row_group_font_size=OptionsInfo(scss=True, category='stub', type='px', value='100%'), stub_row_group_font_weight=OptionsInfo(scss=True, category='stub', type='value', value='initial'), stub_row_group_text_transform=OptionsInfo(scss=True, category='stub', type='value', value='inherit'), stub_row_group_border_style=OptionsInfo(scss=True, category='stub', type='value', value='solid'), stub_row_group_border_width=OptionsInfo(scss=True, category='stub', type='px', value='2px'), stub_row_group_border_color=OptionsInfo(scss=True, category='stub', type='value', value='#D3D3D3'), source_notes_padding=OptionsInfo(scss=True, category='source_notes', type='px', value='4px'), source_notes_padding_horizontal=OptionsInfo(scss=True, category='source_notes', type='px', value='5px'), source_notes_background_color=OptionsInfo(scss=True, category='source_notes', type='value', value=None), source_notes_font_size=OptionsInfo(scss=True, category='source_notes', type='px', value='90%'), source_notes_border_bottom_style=OptionsInfo(scss=True, category='source_notes', type='value', value='none'), source_notes_border_bottom_width=OptionsInfo(scss=True, category='source_notes', type='px', value='2px'), source_notes_border_bottom_color=OptionsInfo(scss=True, category='source_notes', type='value', value='#D3D3D3'), source_notes_border_lr_style=OptionsInfo(scss=True, category='source_notes', type='value', value='none'), source_notes_border_lr_width=OptionsInfo(scss=True, category='source_notes', type='px', value='2px'), source_notes_border_lr_color=OptionsInfo(scss=True, category='source_notes', type='value', value='#D3D3D3'), source_notes_multiline=OptionsInfo(scss=False, category='source_notes', type='boolean', value=True), source_notes_sep=OptionsInfo(scss=False, category='source_notes', type='value', value=' '), row_striping_background_color=OptionsInfo(scss=True, category='row', type='value', value='rgba(128,128,128,0.05)'), row_striping_include_stub=OptionsInfo(scss=False, category='row', type='boolean', value=False), row_striping_include_table_body=OptionsInfo(scss=False, category='row', type='boolean', value=False), container_width=OptionsInfo(scss=False, category='container', type='px', value='auto'), container_height=OptionsInfo(scss=False, category='container', type='px', value='auto'), container_padding_x=OptionsInfo(scss=False, category='container', type='px', value='0px'), container_padding_y=OptionsInfo(scss=False, category='container', type='px', value='10px'), container_overflow_x=OptionsInfo(scss=False, category='container', type='overflow', value='auto'), container_overflow_y=OptionsInfo(scss=False, category='container', type='overflow', value='auto'), quarto_disable_processing=OptionsInfo(scss=False, category='quarto', type='logical', value=False), quarto_use_bootstrap=OptionsInfo(scss=False, category='quarto', type='logical', value=False)), _has_built=False)"
      ]
     },
     "execution_count": 6,
     "metadata": {},
     "output_type": "execute_result"
    }
   ],
   "source": [
    "# Only shows for numerical columns\n",
    "dia.numeric_profile(histogram=True)"
   ]
  },
  {
   "cell_type": "code",
   "execution_count": 7,
   "metadata": {},
   "outputs": [
    {
     "data": {
      "text/html": [
       "<div><style>\n",
       ".dataframe > thead > tr,\n",
       ".dataframe > tbody > tr {\n",
       "  text-align: right;\n",
       "  white-space: pre-wrap;\n",
       "}\n",
       "</style>\n",
       "<small>shape: (5, 12)</small><table border=\"1\" class=\"dataframe\"><thead><tr><th>column</th><th>non_null_cnt</th><th>null%</th><th>mean</th><th>std</th><th>min</th><th>q1</th><th>median</th><th>q3</th><th>max</th><th>IQR</th><th>outlier_cnt</th></tr><tr><td>str</td><td>u32</td><td>f64</td><td>f64</td><td>f64</td><td>f64</td><td>f64</td><td>f64</td><td>f64</td><td>f64</td><td>f64</td><td>u32</td></tr></thead><tbody><tr><td>&quot;uniform_1&quot;</td><td>1000000</td><td>0.0</td><td>6.003778</td><td>3.466652</td><td>0.000002</td><td>2.996129</td><td>6.01</td><td>9.009905</td><td>11.999989</td><td>6.013776</td><td>0</td></tr><tr><td>&quot;uniform_2&quot;</td><td>1000000</td><td>0.0</td><td>0.500125</td><td>0.288605</td><td>5.2330e-7</td><td>0.250244</td><td>0.5</td><td>0.75002</td><td>1.0</td><td>0.499776</td><td>0</td></tr><tr><td>&quot;exp&quot;</td><td>1000000</td><td>0.0</td><td>2.000708</td><td>2.000078</td><td>1.9788e-8</td><td>0.574215</td><td>1.39</td><td>2.770346</td><td>31.321732</td><td>2.196131</td><td>48312</td></tr><tr><td>&quot;normal&quot;</td><td>1000000</td><td>0.0</td><td>0.000432</td><td>0.999395</td><td>-4.860776</td><td>-0.673249</td><td>-0.0</td><td>0.673746</td><td>5.050149</td><td>1.346994</td><td>6968</td></tr><tr><td>&quot;fat_normal&quot;</td><td>1000000</td><td>0.0</td><td>0.90987</td><td>1000.759901</td><td>-4759.808886</td><td>-673.023911</td><td>0.45</td><td>675.844322</td><td>4649.867563</td><td>1348.868233</td><td>6987</td></tr></tbody></table></div>"
      ],
      "text/plain": [
       "shape: (5, 12)\n",
       "┌────────────┬────────────┬───────┬──────────┬───┬────────────┬────────────┬───────────┬───────────┐\n",
       "│ column     ┆ non_null_c ┆ null% ┆ mean     ┆ … ┆ q3         ┆ max        ┆ IQR       ┆ outlier_c │\n",
       "│ ---        ┆ nt         ┆ ---   ┆ ---      ┆   ┆ ---        ┆ ---        ┆ ---       ┆ nt        │\n",
       "│ str        ┆ ---        ┆ f64   ┆ f64      ┆   ┆ f64        ┆ f64        ┆ f64       ┆ ---       │\n",
       "│            ┆ u32        ┆       ┆          ┆   ┆            ┆            ┆           ┆ u32       │\n",
       "╞════════════╪════════════╪═══════╪══════════╪═══╪════════════╪════════════╪═══════════╪═══════════╡\n",
       "│ uniform_1  ┆ 1000000    ┆ 0.0   ┆ 6.003778 ┆ … ┆ 9.009905   ┆ 11.999989  ┆ 6.013776  ┆ 0         │\n",
       "│ uniform_2  ┆ 1000000    ┆ 0.0   ┆ 0.500125 ┆ … ┆ 0.75002    ┆ 1.0        ┆ 0.499776  ┆ 0         │\n",
       "│ exp        ┆ 1000000    ┆ 0.0   ┆ 2.000708 ┆ … ┆ 2.770346   ┆ 31.321732  ┆ 2.196131  ┆ 48312     │\n",
       "│ normal     ┆ 1000000    ┆ 0.0   ┆ 0.000432 ┆ … ┆ 0.673746   ┆ 5.050149   ┆ 1.346994  ┆ 6968      │\n",
       "│ fat_normal ┆ 1000000    ┆ 0.0   ┆ 0.90987  ┆ … ┆ 675.844322 ┆ 4649.86756 ┆ 1348.8682 ┆ 6987      │\n",
       "│            ┆            ┆       ┆          ┆   ┆            ┆ 3          ┆ 33        ┆           │\n",
       "└────────────┴────────────┴───────┴──────────┴───┴────────────┴────────────┴───────────┴───────────┘"
      ]
     },
     "execution_count": 7,
     "metadata": {},
     "output_type": "execute_result"
    }
   ],
   "source": [
    "# Don't compute histogram. Use Polars as output format instead of GT\n",
    "dia.numeric_profile(histogram=False, gt=False) "
   ]
  },
  {
   "cell_type": "code",
   "execution_count": 8,
   "metadata": {},
   "outputs": [
    {
     "name": "stdout",
     "output_type": "stream",
     "text": [
      "shape: (10, 3)\n",
      "┌───────────┬────────────┬───────────┐\n",
      "│ x         ┆ y          ┆ corr      │\n",
      "│ ---       ┆ ---        ┆ ---       │\n",
      "│ str       ┆ str        ┆ f64       │\n",
      "╞═══════════╪════════════╪═══════════╡\n",
      "│ normal    ┆ fat_normal ┆ -0.001449 │\n",
      "│ uniform_1 ┆ fat_normal ┆ 0.001162  │\n",
      "│ exp       ┆ normal     ┆ 0.000979  │\n",
      "│ uniform_1 ┆ exp        ┆ 0.000581  │\n",
      "│ uniform_2 ┆ fat_normal ┆ -0.000426 │\n",
      "│ uniform_1 ┆ normal     ┆ 0.000408  │\n",
      "│ exp       ┆ fat_normal ┆ -0.000338 │\n",
      "│ uniform_2 ┆ exp        ┆ 0.000295  │\n",
      "│ uniform_2 ┆ normal     ┆ 0.000028  │\n",
      "│ uniform_1 ┆ uniform_2  ┆ -0.000013 │\n",
      "└───────────┴────────────┴───────────┘\n",
      "shape: (10, 3)\n",
      "┌───────────┬────────────┬───────────┐\n",
      "│ x         ┆ y          ┆ corr      │\n",
      "│ ---       ┆ ---        ┆ ---       │\n",
      "│ str       ┆ str        ┆ f64       │\n",
      "╞═══════════╪════════════╪═══════════╡\n",
      "│ uniform_2 ┆ exp        ┆ -0.000978 │\n",
      "│ normal    ┆ fat_normal ┆ -0.000933 │\n",
      "│ exp       ┆ normal     ┆ 0.000908  │\n",
      "│ uniform_1 ┆ fat_normal ┆ 0.000741  │\n",
      "│ exp       ┆ fat_normal ┆ -0.000714 │\n",
      "│ uniform_1 ┆ exp        ┆ 0.000368  │\n",
      "│ uniform_1 ┆ normal     ┆ 0.000328  │\n",
      "│ uniform_2 ┆ fat_normal ┆ -0.000231 │\n",
      "│ uniform_2 ┆ normal     ┆ 0.000094  │\n",
      "│ uniform_1 ┆ uniform_2  ┆ -0.00001  │\n",
      "└───────────┴────────────┴───────────┘\n",
      "shape: (10, 3)\n",
      "┌───────────┬────────────┬───────────┐\n",
      "│ x         ┆ y          ┆ corr      │\n",
      "│ ---       ┆ ---        ┆ ---       │\n",
      "│ str       ┆ str        ┆ f64       │\n",
      "╞═══════════╪════════════╪═══════════╡\n",
      "│ uniform_2 ┆ exp        ┆ -0.001467 │\n",
      "│ normal    ┆ fat_normal ┆ -0.0014   │\n",
      "│ exp       ┆ normal     ┆ 0.001362  │\n",
      "│ uniform_1 ┆ fat_normal ┆ 0.001112  │\n",
      "│ exp       ┆ fat_normal ┆ -0.001071 │\n",
      "│ uniform_1 ┆ exp        ┆ 0.000551  │\n",
      "│ uniform_1 ┆ normal     ┆ 0.000491  │\n",
      "│ uniform_2 ┆ fat_normal ┆ -0.000347 │\n",
      "│ uniform_2 ┆ normal     ┆ 0.00014   │\n",
      "│ uniform_1 ┆ uniform_2  ┆ -0.000014 │\n",
      "└───────────┴────────────┴───────────┘\n"
     ]
    }
   ],
   "source": [
    "print(dia.infer_corr())\n",
    "print(dia.infer_corr(method = \"kendall\"))\n",
    "print(dia.infer_corr(method = \"spearman\"))"
   ]
  },
  {
   "cell_type": "code",
   "execution_count": 9,
   "metadata": {},
   "outputs": [
    {
     "data": {
      "text/plain": [
       "{'numerics': ['uniform_1', 'uniform_2', 'exp', 'normal', 'fat_normal'],\n",
       " 'ints': [],\n",
       " 'floats': ['uniform_1', 'uniform_2', 'exp', 'normal', 'fat_normal'],\n",
       " 'strs': [],\n",
       " 'bools': [],\n",
       " 'cats': [],\n",
       " 'list_floats': ['list_prob'],\n",
       " 'list_bool': [],\n",
       " 'list_str': [],\n",
       " 'list_ints': [],\n",
       " 'simple_types': ['uniform_1',\n",
       "  'uniform_2',\n",
       "  'exp',\n",
       "  'normal',\n",
       "  'fat_normal',\n",
       "  'list_prob'],\n",
       " 'other_types': []}"
      ]
     },
     "execution_count": 9,
     "metadata": {},
     "output_type": "execute_result"
    }
   ],
   "source": [
    "dia.meta()"
   ]
  },
  {
   "cell_type": "code",
   "execution_count": 10,
   "metadata": {},
   "outputs": [
    {
     "data": {
      "text/plain": [
       "['uniform_2', 'list_prob']"
      ]
     },
     "execution_count": 10,
     "metadata": {},
     "output_type": "execute_result"
    }
   ],
   "source": [
    "# Uniform_2 can potentially be a probability score column (e.g. output of predict_proba, but taking values only for class =1)\n",
    "# list_prob can potentially be a 2-class probability column (e.g. output of predict_proba)\n",
    "dia.infer_prob()"
   ]
  },
  {
   "cell_type": "markdown",
   "metadata": {},
   "source": [
    "# Dependency Detection, Distribution Comparisons\n",
    "\n",
    "Does knowing values in column A tell us values in column B?"
   ]
  },
  {
   "cell_type": "code",
   "execution_count": 11,
   "metadata": {},
   "outputs": [
    {
     "data": {
      "text/html": [
       "<div><style>\n",
       ".dataframe > thead > tr,\n",
       ".dataframe > tbody > tr {\n",
       "  text-align: right;\n",
       "  white-space: pre-wrap;\n",
       "}\n",
       "</style>\n",
       "<small>shape: (5, 22)</small><table border=\"1\" class=\"dataframe\"><thead><tr><th>ID</th><th>Gender</th><th>DOB</th><th>Lead_Creation_Date</th><th>City_Code</th><th>City_Category</th><th>Employer_Code</th><th>Employer_Category1</th><th>Employer_Category2</th><th>Monthly_Income</th><th>Customer_Existing_Primary_Bank_Code</th><th>Primary_Bank_Type</th><th>Contacted</th><th>Source</th><th>Source_Category</th><th>Existing_EMI</th><th>Loan_Amount</th><th>Loan_Period</th><th>Interest_Rate</th><th>EMI</th><th>Var1</th><th>Approved</th></tr><tr><td>str</td><td>str</td><td>str</td><td>str</td><td>str</td><td>str</td><td>str</td><td>str</td><td>i64</td><td>f64</td><td>str</td><td>str</td><td>str</td><td>str</td><td>str</td><td>f64</td><td>i64</td><td>i64</td><td>f64</td><td>i64</td><td>i64</td><td>i64</td></tr></thead><tbody><tr><td>&quot;APPC90493171225&quot;</td><td>&quot;Female&quot;</td><td>&quot;23/07/79&quot;</td><td>&quot;15/07/16&quot;</td><td>&quot;C10001&quot;</td><td>&quot;A&quot;</td><td>&quot;COM0044082&quot;</td><td>&quot;A&quot;</td><td>4</td><td>2000.0</td><td>&quot;B001&quot;</td><td>&quot;P&quot;</td><td>&quot;N&quot;</td><td>&quot;S122&quot;</td><td>&quot;G&quot;</td><td>0.0</td><td>null</td><td>null</td><td>null</td><td>null</td><td>0</td><td>0</td></tr><tr><td>&quot;APPD40611263344&quot;</td><td>&quot;Male&quot;</td><td>&quot;07/12/86&quot;</td><td>&quot;04/07/16&quot;</td><td>&quot;C10003&quot;</td><td>&quot;A&quot;</td><td>&quot;COM0000002&quot;</td><td>&quot;C&quot;</td><td>1</td><td>3500.0</td><td>&quot;B002&quot;</td><td>&quot;P&quot;</td><td>&quot;Y&quot;</td><td>&quot;S122&quot;</td><td>&quot;G&quot;</td><td>0.0</td><td>20000</td><td>2</td><td>13.25</td><td>953</td><td>10</td><td>0</td></tr><tr><td>&quot;APPE70289249423&quot;</td><td>&quot;Male&quot;</td><td>&quot;10/12/82&quot;</td><td>&quot;19/07/16&quot;</td><td>&quot;C10125&quot;</td><td>&quot;C&quot;</td><td>&quot;COM0005267&quot;</td><td>&quot;C&quot;</td><td>4</td><td>2250.0</td><td>&quot;B003&quot;</td><td>&quot;G&quot;</td><td>&quot;Y&quot;</td><td>&quot;S143&quot;</td><td>&quot;B&quot;</td><td>0.0</td><td>45000</td><td>4</td><td>null</td><td>null</td><td>0</td><td>0</td></tr><tr><td>&quot;APPF80273865537&quot;</td><td>&quot;Male&quot;</td><td>&quot;30/01/89&quot;</td><td>&quot;09/07/16&quot;</td><td>&quot;C10477&quot;</td><td>&quot;C&quot;</td><td>&quot;COM0004143&quot;</td><td>&quot;A&quot;</td><td>4</td><td>3500.0</td><td>&quot;B003&quot;</td><td>&quot;G&quot;</td><td>&quot;Y&quot;</td><td>&quot;S143&quot;</td><td>&quot;B&quot;</td><td>0.0</td><td>92000</td><td>5</td><td>null</td><td>null</td><td>7</td><td>0</td></tr><tr><td>&quot;APPG60994436641&quot;</td><td>&quot;Male&quot;</td><td>&quot;19/04/85&quot;</td><td>&quot;20/07/16&quot;</td><td>&quot;C10002&quot;</td><td>&quot;A&quot;</td><td>&quot;COM0001781&quot;</td><td>&quot;A&quot;</td><td>4</td><td>10000.0</td><td>&quot;B001&quot;</td><td>&quot;P&quot;</td><td>&quot;Y&quot;</td><td>&quot;S134&quot;</td><td>&quot;B&quot;</td><td>2500.0</td><td>50000</td><td>2</td><td>null</td><td>null</td><td>10</td><td>0</td></tr></tbody></table></div>"
      ],
      "text/plain": [
       "shape: (5, 22)\n",
       "┌────────────────┬────────┬──────────┬────────────────┬───┬───────────────┬──────┬──────┬──────────┐\n",
       "│ ID             ┆ Gender ┆ DOB      ┆ Lead_Creation_ ┆ … ┆ Interest_Rate ┆ EMI  ┆ Var1 ┆ Approved │\n",
       "│ ---            ┆ ---    ┆ ---      ┆ Date           ┆   ┆ ---           ┆ ---  ┆ ---  ┆ ---      │\n",
       "│ str            ┆ str    ┆ str      ┆ ---            ┆   ┆ f64           ┆ i64  ┆ i64  ┆ i64      │\n",
       "│                ┆        ┆          ┆ str            ┆   ┆               ┆      ┆      ┆          │\n",
       "╞════════════════╪════════╪══════════╪════════════════╪═══╪═══════════════╪══════╪══════╪══════════╡\n",
       "│ APPC9049317122 ┆ Female ┆ 23/07/79 ┆ 15/07/16       ┆ … ┆ null          ┆ null ┆ 0    ┆ 0        │\n",
       "│ 5              ┆        ┆          ┆                ┆   ┆               ┆      ┆      ┆          │\n",
       "│ APPD4061126334 ┆ Male   ┆ 07/12/86 ┆ 04/07/16       ┆ … ┆ 13.25         ┆ 953  ┆ 10   ┆ 0        │\n",
       "│ 4              ┆        ┆          ┆                ┆   ┆               ┆      ┆      ┆          │\n",
       "│ APPE7028924942 ┆ Male   ┆ 10/12/82 ┆ 19/07/16       ┆ … ┆ null          ┆ null ┆ 0    ┆ 0        │\n",
       "│ 3              ┆        ┆          ┆                ┆   ┆               ┆      ┆      ┆          │\n",
       "│ APPF8027386553 ┆ Male   ┆ 30/01/89 ┆ 09/07/16       ┆ … ┆ null          ┆ null ┆ 7    ┆ 0        │\n",
       "│ 7              ┆        ┆          ┆                ┆   ┆               ┆      ┆      ┆          │\n",
       "│ APPG6099443664 ┆ Male   ┆ 19/04/85 ┆ 20/07/16       ┆ … ┆ null          ┆ null ┆ 10   ┆ 0        │\n",
       "│ 1              ┆        ┆          ┆                ┆   ┆               ┆      ┆      ┆          │\n",
       "└────────────────┴────────┴──────────┴────────────────┴───┴───────────────┴──────┴──────┴──────────┘"
      ]
     },
     "execution_count": 11,
     "metadata": {},
     "output_type": "execute_result"
    }
   ],
   "source": [
    "df = pl.read_parquet(\"dependency.parquet\")\n",
    "df.head()"
   ]
  },
  {
   "cell_type": "code",
   "execution_count": 12,
   "metadata": {},
   "outputs": [
    {
     "data": {
      "text/plain": [
       "(69713, 22)"
      ]
     },
     "execution_count": 12,
     "metadata": {},
     "output_type": "execute_result"
    }
   ],
   "source": [
    "df.shape"
   ]
  },
  {
   "cell_type": "code",
   "execution_count": 13,
   "metadata": {},
   "outputs": [],
   "source": [
    "dia = DIA(df)"
   ]
  },
  {
   "cell_type": "code",
   "execution_count": 14,
   "metadata": {},
   "outputs": [
    {
     "name": "stderr",
     "output_type": "stream",
     "text": [
      "/tmp/ipykernel_29592/3037619369.py:1: UserWarning: The following columns are dropped because they cannot be used in dependency detection: ['Monthly_Income', 'Existing_EMI', 'Interest_Rate']\n",
      "  dia.infer_dependency()\n"
     ]
    },
    {
     "data": {
      "text/html": [
       "<div><style>\n",
       ".dataframe > thead > tr,\n",
       ".dataframe > tbody > tr {\n",
       "  text-align: right;\n",
       "  white-space: pre-wrap;\n",
       "}\n",
       "</style>\n",
       "<small>shape: (171, 3)</small><table border=\"1\" class=\"dataframe\"><thead><tr><th>column</th><th>by</th><th>cond_entropy</th></tr><tr><td>str</td><td>str</td><td>f64</td></tr></thead><tbody><tr><td>&quot;Gender&quot;</td><td>&quot;ID&quot;</td><td>0.0</td></tr><tr><td>&quot;Contacted&quot;</td><td>&quot;ID&quot;</td><td>0.0</td></tr><tr><td>&quot;Approved&quot;</td><td>&quot;ID&quot;</td><td>0.0</td></tr><tr><td>&quot;Primary_Bank_Type&quot;</td><td>&quot;Customer_Existing_Primary_Bank…</td><td>0.0</td></tr><tr><td>&quot;Primary_Bank_Type&quot;</td><td>&quot;ID&quot;</td><td>0.0</td></tr><tr><td>&hellip;</td><td>&hellip;</td><td>&hellip;</td></tr><tr><td>&quot;Loan_Amount&quot;</td><td>&quot;City_Code&quot;</td><td>2.702889</td></tr><tr><td>&quot;City_Code&quot;</td><td>&quot;EMI&quot;</td><td>3.147327</td></tr><tr><td>&quot;Lead_Creation_Date&quot;</td><td>&quot;EMI&quot;</td><td>3.92818</td></tr><tr><td>&quot;Lead_Creation_Date&quot;</td><td>&quot;City_Code&quot;</td><td>4.204907</td></tr><tr><td>&quot;Lead_Creation_Date&quot;</td><td>&quot;Loan_Amount&quot;</td><td>4.336805</td></tr></tbody></table></div>"
      ],
      "text/plain": [
       "shape: (171, 3)\n",
       "┌────────────────────┬─────────────────────────────────┬──────────────┐\n",
       "│ column             ┆ by                              ┆ cond_entropy │\n",
       "│ ---                ┆ ---                             ┆ ---          │\n",
       "│ str                ┆ str                             ┆ f64          │\n",
       "╞════════════════════╪═════════════════════════════════╪══════════════╡\n",
       "│ Gender             ┆ ID                              ┆ 0.0          │\n",
       "│ Contacted          ┆ ID                              ┆ 0.0          │\n",
       "│ Approved           ┆ ID                              ┆ 0.0          │\n",
       "│ Primary_Bank_Type  ┆ Customer_Existing_Primary_Bank… ┆ 0.0          │\n",
       "│ Primary_Bank_Type  ┆ ID                              ┆ 0.0          │\n",
       "│ …                  ┆ …                               ┆ …            │\n",
       "│ Loan_Amount        ┆ City_Code                       ┆ 2.702889     │\n",
       "│ City_Code          ┆ EMI                             ┆ 3.147327     │\n",
       "│ Lead_Creation_Date ┆ EMI                             ┆ 3.92818      │\n",
       "│ Lead_Creation_Date ┆ City_Code                       ┆ 4.204907     │\n",
       "│ Lead_Creation_Date ┆ Loan_Amount                     ┆ 4.336805     │\n",
       "└────────────────────┴─────────────────────────────────┴──────────────┘"
      ]
     },
     "execution_count": 14,
     "metadata": {},
     "output_type": "execute_result"
    }
   ],
   "source": [
    "dia.infer_dependency()"
   ]
  },
  {
   "cell_type": "code",
   "execution_count": 15,
   "metadata": {},
   "outputs": [
    {
     "name": "stderr",
     "output_type": "stream",
     "text": [
      "/home/tq/Projects/polars_ds_extension/python/polars_ds/eda/diagnosis.py:689: UserWarning: The following columns are dropped because they cannot be used in dependency detection: ['Monthly_Income', 'Existing_EMI', 'Interest_Rate']\n",
      "  dep_frame = self.infer_dependency(subset=subset)\n"
     ]
    },
    {
     "data": {
      "image/svg+xml": [
       "<?xml version=\"1.0\" encoding=\"UTF-8\" standalone=\"no\"?>\n",
       "<!DOCTYPE svg PUBLIC \"-//W3C//DTD SVG 1.1//EN\"\n",
       " \"http://www.w3.org/Graphics/SVG/1.1/DTD/svg11.dtd\">\n",
       "<!-- Generated by graphviz version 12.2.1 (20241206.2353)\n",
       " -->\n",
       "<!-- Title: Dependency Plot Pages: 1 -->\n",
       "<svg width=\"2560pt\" height=\"188pt\"\n",
       " viewBox=\"0.00 0.00 2559.70 188.00\" xmlns=\"http://www.w3.org/2000/svg\" xmlns:xlink=\"http://www.w3.org/1999/xlink\">\n",
       "<g id=\"graph0\" class=\"graph\" transform=\"scale(1 1) rotate(0) translate(4 184)\">\n",
       "<title>Dependency Plot</title>\n",
       "<polygon fill=\"white\" stroke=\"none\" points=\"-4,4 -4,-184 2555.7,-184 2555.7,4 -4,4\"/>\n",
       "<!-- Employer_Category2 -->\n",
       "<g id=\"node1\" class=\"node\">\n",
       "<title>Employer_Category2</title>\n",
       "<ellipse fill=\"none\" stroke=\"black\" cx=\"116.45\" cy=\"-18\" rx=\"116.45\" ry=\"18\"/>\n",
       "<text text-anchor=\"middle\" x=\"116.45\" y=\"-13.32\" font-family=\"Times,serif\" font-size=\"14.00\">Employer_Category2</text>\n",
       "</g>\n",
       "<!-- Employer_Code -->\n",
       "<g id=\"node2\" class=\"node\">\n",
       "<title>Employer_Code</title>\n",
       "<ellipse fill=\"none\" stroke=\"black\" cx=\"330.45\" cy=\"-90\" rx=\"89.61\" ry=\"18\"/>\n",
       "<text text-anchor=\"middle\" x=\"330.45\" y=\"-85.33\" font-family=\"Times,serif\" font-size=\"14.00\">Employer_Code</text>\n",
       "</g>\n",
       "<!-- Employer_Code&#45;&gt;Employer_Category2 -->\n",
       "<g id=\"edge1\" class=\"edge\">\n",
       "<title>Employer_Code&#45;&gt;Employer_Category2</title>\n",
       "<path fill=\"none\" stroke=\"black\" d=\"M284.8,-74.07C252.9,-63.63 210.01,-49.61 175.51,-38.32\"/>\n",
       "<polygon fill=\"black\" stroke=\"black\" points=\"176.65,-35.01 166.06,-35.23 174.48,-41.66 176.65,-35.01\"/>\n",
       "</g>\n",
       "<!-- Employer_Category1 -->\n",
       "<g id=\"node18\" class=\"node\">\n",
       "<title>Employer_Category1</title>\n",
       "<ellipse fill=\"none\" stroke=\"black\" cx=\"367.45\" cy=\"-18\" rx=\"116.45\" ry=\"18\"/>\n",
       "<text text-anchor=\"middle\" x=\"367.45\" y=\"-13.32\" font-family=\"Times,serif\" font-size=\"14.00\">Employer_Category1</text>\n",
       "</g>\n",
       "<!-- Employer_Code&#45;&gt;Employer_Category1 -->\n",
       "<g id=\"edge17\" class=\"edge\">\n",
       "<title>Employer_Code&#45;&gt;Employer_Category1</title>\n",
       "<path fill=\"none\" stroke=\"black\" d=\"M339.59,-71.7C343.67,-63.98 348.57,-54.71 353.11,-46.11\"/>\n",
       "<polygon fill=\"black\" stroke=\"black\" points=\"356.12,-47.92 357.7,-37.44 349.93,-44.65 356.12,-47.92\"/>\n",
       "</g>\n",
       "<!-- Customer_Existing_Primary_Bank_Code -->\n",
       "<g id=\"node3\" class=\"node\">\n",
       "<title>Customer_Existing_Primary_Bank_Code</title>\n",
       "<ellipse fill=\"none\" stroke=\"black\" cx=\"649.45\" cy=\"-90\" rx=\"211.67\" ry=\"18\"/>\n",
       "<text text-anchor=\"middle\" x=\"649.45\" y=\"-85.33\" font-family=\"Times,serif\" font-size=\"14.00\">Customer_Existing_Primary_Bank_Code</text>\n",
       "</g>\n",
       "<!-- Primary_Bank_Type -->\n",
       "<g id=\"node16\" class=\"node\">\n",
       "<title>Primary_Bank_Type</title>\n",
       "<ellipse fill=\"none\" stroke=\"black\" cx=\"649.45\" cy=\"-18\" rx=\"110.66\" ry=\"18\"/>\n",
       "<text text-anchor=\"middle\" x=\"649.45\" y=\"-13.32\" font-family=\"Times,serif\" font-size=\"14.00\">Primary_Bank_Type</text>\n",
       "</g>\n",
       "<!-- Customer_Existing_Primary_Bank_Code&#45;&gt;Primary_Bank_Type -->\n",
       "<g id=\"edge15\" class=\"edge\">\n",
       "<title>Customer_Existing_Primary_Bank_Code&#45;&gt;Primary_Bank_Type</title>\n",
       "<path fill=\"none\" stroke=\"black\" d=\"M649.45,-71.7C649.45,-64.41 649.45,-55.73 649.45,-47.54\"/>\n",
       "<polygon fill=\"black\" stroke=\"black\" points=\"652.95,-47.62 649.45,-37.62 645.95,-47.62 652.95,-47.62\"/>\n",
       "</g>\n",
       "<!-- ID -->\n",
       "<g id=\"node4\" class=\"node\">\n",
       "<title>ID</title>\n",
       "<ellipse fill=\"none\" stroke=\"black\" cx=\"1523.45\" cy=\"-162\" rx=\"27\" ry=\"18\"/>\n",
       "<text text-anchor=\"middle\" x=\"1523.45\" y=\"-157.32\" font-family=\"Times,serif\" font-size=\"14.00\">ID</text>\n",
       "</g>\n",
       "<!-- ID&#45;&gt;Employer_Code -->\n",
       "<g id=\"edge8\" class=\"edge\">\n",
       "<title>ID&#45;&gt;Employer_Code</title>\n",
       "<path fill=\"none\" stroke=\"black\" d=\"M1496.26,-160.92C1372.74,-160.29 852.2,-154.83 428.45,-108 420.75,-107.15 412.74,-106.07 404.76,-104.88\"/>\n",
       "<polygon fill=\"black\" stroke=\"black\" points=\"405.46,-101.45 395.04,-103.36 404.38,-108.36 405.46,-101.45\"/>\n",
       "</g>\n",
       "<!-- ID&#45;&gt;Customer_Existing_Primary_Bank_Code -->\n",
       "<g id=\"edge2\" class=\"edge\">\n",
       "<title>ID&#45;&gt;Customer_Existing_Primary_Bank_Code</title>\n",
       "<path fill=\"none\" stroke=\"black\" d=\"M1496.81,-158.87C1395.28,-150.74 1027.37,-121.27 811.15,-103.95\"/>\n",
       "<polygon fill=\"black\" stroke=\"black\" points=\"811.44,-100.46 801.2,-103.15 810.88,-107.44 811.44,-100.46\"/>\n",
       "</g>\n",
       "<!-- EMI -->\n",
       "<g id=\"node5\" class=\"node\">\n",
       "<title>EMI</title>\n",
       "<ellipse fill=\"none\" stroke=\"black\" cx=\"911.45\" cy=\"-90\" rx=\"32.27\" ry=\"18\"/>\n",
       "<text text-anchor=\"middle\" x=\"911.45\" y=\"-85.33\" font-family=\"Times,serif\" font-size=\"14.00\">EMI</text>\n",
       "</g>\n",
       "<!-- ID&#45;&gt;EMI -->\n",
       "<g id=\"edge3\" class=\"edge\">\n",
       "<title>ID&#45;&gt;EMI</title>\n",
       "<path fill=\"none\" stroke=\"black\" d=\"M1496.21,-161.34C1413.24,-161.78 1156.83,-158.63 952.45,-108 950.31,-107.47 948.15,-106.85 945.98,-106.16\"/>\n",
       "<polygon fill=\"black\" stroke=\"black\" points=\"947.34,-102.93 936.74,-102.82 944.96,-109.51 947.34,-102.93\"/>\n",
       "</g>\n",
       "<!-- City_Code -->\n",
       "<g id=\"node6\" class=\"node\">\n",
       "<title>City_Code</title>\n",
       "<ellipse fill=\"none\" stroke=\"black\" cx=\"1023.45\" cy=\"-90\" rx=\"61.73\" ry=\"18\"/>\n",
       "<text text-anchor=\"middle\" x=\"1023.45\" y=\"-85.33\" font-family=\"Times,serif\" font-size=\"14.00\">City_Code</text>\n",
       "</g>\n",
       "<!-- ID&#45;&gt;City_Code -->\n",
       "<g id=\"edge4\" class=\"edge\">\n",
       "<title>ID&#45;&gt;City_Code</title>\n",
       "<path fill=\"none\" stroke=\"black\" d=\"M1496.68,-158.75C1428.96,-152.81 1245.46,-135.32 1094.45,-108 1089.61,-107.13 1084.62,-106.13 1079.62,-105.06\"/>\n",
       "<polygon fill=\"black\" stroke=\"black\" points=\"1080.74,-101.72 1070.21,-102.97 1079.22,-108.56 1080.74,-101.72\"/>\n",
       "</g>\n",
       "<!-- Source -->\n",
       "<g id=\"node7\" class=\"node\">\n",
       "<title>Source</title>\n",
       "<ellipse fill=\"none\" stroke=\"black\" cx=\"1149.45\" cy=\"-90\" rx=\"45.95\" ry=\"18\"/>\n",
       "<text text-anchor=\"middle\" x=\"1149.45\" y=\"-85.33\" font-family=\"Times,serif\" font-size=\"14.00\">Source</text>\n",
       "</g>\n",
       "<!-- ID&#45;&gt;Source -->\n",
       "<g id=\"edge5\" class=\"edge\">\n",
       "<title>ID&#45;&gt;Source</title>\n",
       "<path fill=\"none\" stroke=\"black\" d=\"M1496.74,-157.8C1441.63,-150.94 1311.53,-133.32 1204.45,-108 1201.15,-107.22 1197.76,-106.35 1194.36,-105.42\"/>\n",
       "<polygon fill=\"black\" stroke=\"black\" points=\"1195.61,-102.14 1185.03,-102.75 1193.68,-108.87 1195.61,-102.14\"/>\n",
       "</g>\n",
       "<!-- Source_Category -->\n",
       "<g id=\"node8\" class=\"node\">\n",
       "<title>Source_Category</title>\n",
       "<ellipse fill=\"none\" stroke=\"black\" cx=\"1309.45\" cy=\"-90\" rx=\"96.45\" ry=\"18\"/>\n",
       "<text text-anchor=\"middle\" x=\"1309.45\" y=\"-85.33\" font-family=\"Times,serif\" font-size=\"14.00\">Source_Category</text>\n",
       "</g>\n",
       "<!-- ID&#45;&gt;Source_Category -->\n",
       "<g id=\"edge6\" class=\"edge\">\n",
       "<title>ID&#45;&gt;Source_Category</title>\n",
       "<path fill=\"none\" stroke=\"black\" d=\"M1499.73,-153.24C1467.82,-142.81 1410.07,-123.92 1366.53,-109.67\"/>\n",
       "<polygon fill=\"black\" stroke=\"black\" points=\"1367.83,-106.41 1357.23,-106.63 1365.65,-113.07 1367.83,-106.41\"/>\n",
       "</g>\n",
       "<!-- Var1 -->\n",
       "<g id=\"node9\" class=\"node\">\n",
       "<title>Var1</title>\n",
       "<ellipse fill=\"none\" stroke=\"black\" cx=\"1458.45\" cy=\"-90\" rx=\"34.37\" ry=\"18\"/>\n",
       "<text text-anchor=\"middle\" x=\"1458.45\" y=\"-85.33\" font-family=\"Times,serif\" font-size=\"14.00\">Var1</text>\n",
       "</g>\n",
       "<!-- ID&#45;&gt;Var1 -->\n",
       "<g id=\"edge7\" class=\"edge\">\n",
       "<title>ID&#45;&gt;Var1</title>\n",
       "<path fill=\"none\" stroke=\"black\" d=\"M1509.66,-146.15C1501.16,-137 1490.07,-125.05 1480.38,-114.62\"/>\n",
       "<polygon fill=\"black\" stroke=\"black\" points=\"1483.06,-112.36 1473.69,-107.42 1477.93,-117.13 1483.06,-112.36\"/>\n",
       "</g>\n",
       "<!-- Loan_Amount -->\n",
       "<g id=\"node10\" class=\"node\">\n",
       "<title>Loan_Amount</title>\n",
       "<ellipse fill=\"none\" stroke=\"black\" cx=\"1589.45\" cy=\"-90\" rx=\"79.09\" ry=\"18\"/>\n",
       "<text text-anchor=\"middle\" x=\"1589.45\" y=\"-85.33\" font-family=\"Times,serif\" font-size=\"14.00\">Loan_Amount</text>\n",
       "</g>\n",
       "<!-- ID&#45;&gt;Loan_Amount -->\n",
       "<g id=\"edge9\" class=\"edge\">\n",
       "<title>ID&#45;&gt;Loan_Amount</title>\n",
       "<path fill=\"none\" stroke=\"black\" d=\"M1537.44,-146.15C1545.66,-137.44 1556.26,-126.19 1565.75,-116.13\"/>\n",
       "<polygon fill=\"black\" stroke=\"black\" points=\"1568.03,-118.82 1572.34,-109.14 1562.93,-114.02 1568.03,-118.82\"/>\n",
       "</g>\n",
       "<!-- Gender -->\n",
       "<g id=\"node12\" class=\"node\">\n",
       "<title>Gender</title>\n",
       "<ellipse fill=\"none\" stroke=\"black\" cx=\"1734.45\" cy=\"-90\" rx=\"48.05\" ry=\"18\"/>\n",
       "<text text-anchor=\"middle\" x=\"1734.45\" y=\"-85.33\" font-family=\"Times,serif\" font-size=\"14.00\">Gender</text>\n",
       "</g>\n",
       "<!-- ID&#45;&gt;Gender -->\n",
       "<g id=\"edge11\" class=\"edge\">\n",
       "<title>ID&#45;&gt;Gender</title>\n",
       "<path fill=\"none\" stroke=\"black\" d=\"M1547.24,-153.11C1581.35,-141.79 1644.81,-120.74 1688.31,-106.31\"/>\n",
       "<polygon fill=\"black\" stroke=\"black\" points=\"1689.36,-109.65 1697.74,-103.18 1687.15,-103 1689.36,-109.65\"/>\n",
       "</g>\n",
       "<!-- Lead_Creation_Date -->\n",
       "<g id=\"node13\" class=\"node\">\n",
       "<title>Lead_Creation_Date</title>\n",
       "<ellipse fill=\"none\" stroke=\"black\" cx=\"1912.45\" cy=\"-90\" rx=\"111.71\" ry=\"18\"/>\n",
       "<text text-anchor=\"middle\" x=\"1912.45\" y=\"-85.33\" font-family=\"Times,serif\" font-size=\"14.00\">Lead_Creation_Date</text>\n",
       "</g>\n",
       "<!-- ID&#45;&gt;Lead_Creation_Date -->\n",
       "<g id=\"edge12\" class=\"edge\">\n",
       "<title>ID&#45;&gt;Lead_Creation_Date</title>\n",
       "<path fill=\"none\" stroke=\"black\" d=\"M1549.57,-156.3C1605.77,-146.19 1740.19,-122 1828.71,-106.07\"/>\n",
       "<polygon fill=\"black\" stroke=\"black\" points=\"1829.09,-109.56 1838.32,-104.34 1827.85,-102.67 1829.09,-109.56\"/>\n",
       "</g>\n",
       "<!-- DOB -->\n",
       "<g id=\"node14\" class=\"node\">\n",
       "<title>DOB</title>\n",
       "<ellipse fill=\"none\" stroke=\"black\" cx=\"2076.45\" cy=\"-90\" rx=\"34.37\" ry=\"18\"/>\n",
       "<text text-anchor=\"middle\" x=\"2076.45\" y=\"-85.33\" font-family=\"Times,serif\" font-size=\"14.00\">DOB</text>\n",
       "</g>\n",
       "<!-- ID&#45;&gt;DOB -->\n",
       "<g id=\"edge13\" class=\"edge\">\n",
       "<title>ID&#45;&gt;DOB</title>\n",
       "<path fill=\"none\" stroke=\"black\" d=\"M1550.71,-160.76C1627.7,-159.55 1852.95,-152.17 2033.45,-108 2035.7,-107.45 2037.99,-106.8 2040.29,-106.1\"/>\n",
       "<polygon fill=\"black\" stroke=\"black\" points=\"2041.16,-109.5 2049.47,-102.91 2038.87,-102.88 2041.16,-109.5\"/>\n",
       "</g>\n",
       "<!-- Approved -->\n",
       "<g id=\"node15\" class=\"node\">\n",
       "<title>Approved</title>\n",
       "<ellipse fill=\"none\" stroke=\"black\" cx=\"2187.45\" cy=\"-90\" rx=\"59.1\" ry=\"18\"/>\n",
       "<text text-anchor=\"middle\" x=\"2187.45\" y=\"-85.33\" font-family=\"Times,serif\" font-size=\"14.00\">Approved</text>\n",
       "</g>\n",
       "<!-- ID&#45;&gt;Approved -->\n",
       "<g id=\"edge14\" class=\"edge\">\n",
       "<title>ID&#45;&gt;Approved</title>\n",
       "<path fill=\"none\" stroke=\"black\" d=\"M1550.67,-160.09C1635.43,-156.95 1902.02,-144.61 2119.45,-108 2124.04,-107.23 2128.77,-106.31 2133.51,-105.3\"/>\n",
       "<polygon fill=\"black\" stroke=\"black\" points=\"2134.03,-108.77 2143.02,-103.15 2132.49,-101.94 2134.03,-108.77\"/>\n",
       "</g>\n",
       "<!-- Contacted -->\n",
       "<g id=\"node17\" class=\"node\">\n",
       "<title>Contacted</title>\n",
       "<ellipse fill=\"none\" stroke=\"black\" cx=\"2326.45\" cy=\"-90\" rx=\"62.26\" ry=\"18\"/>\n",
       "<text text-anchor=\"middle\" x=\"2326.45\" y=\"-85.33\" font-family=\"Times,serif\" font-size=\"14.00\">Contacted</text>\n",
       "</g>\n",
       "<!-- ID&#45;&gt;Contacted -->\n",
       "<g id=\"edge16\" class=\"edge\">\n",
       "<title>ID&#45;&gt;Contacted</title>\n",
       "<path fill=\"none\" stroke=\"black\" d=\"M1550.54,-160.63C1647.01,-158.95 1982.52,-150.27 2255.45,-108 2260.37,-107.24 2265.46,-106.31 2270.54,-105.28\"/>\n",
       "<polygon fill=\"black\" stroke=\"black\" points=\"2271.07,-108.75 2280.11,-103.22 2269.6,-101.9 2271.07,-108.75\"/>\n",
       "</g>\n",
       "<!-- Loan_Period -->\n",
       "<g id=\"node19\" class=\"node\">\n",
       "<title>Loan_Period</title>\n",
       "<ellipse fill=\"none\" stroke=\"black\" cx=\"2479.45\" cy=\"-90\" rx=\"72.25\" ry=\"18\"/>\n",
       "<text text-anchor=\"middle\" x=\"2479.45\" y=\"-85.33\" font-family=\"Times,serif\" font-size=\"14.00\">Loan_Period</text>\n",
       "</g>\n",
       "<!-- ID&#45;&gt;Loan_Period -->\n",
       "<g id=\"edge18\" class=\"edge\">\n",
       "<title>ID&#45;&gt;Loan_Period</title>\n",
       "<path fill=\"none\" stroke=\"black\" d=\"M1550.77,-160.77C1658.74,-159.57 2065.94,-152.18 2397.45,-108 2403.72,-107.16 2410.24,-106.12 2416.73,-104.96\"/>\n",
       "<polygon fill=\"black\" stroke=\"black\" points=\"2416.91,-108.49 2426.1,-103.2 2415.62,-101.61 2416.91,-108.49\"/>\n",
       "</g>\n",
       "<!-- City_Category -->\n",
       "<g id=\"node11\" class=\"node\">\n",
       "<title>City_Category</title>\n",
       "<ellipse fill=\"none\" stroke=\"black\" cx=\"1023.45\" cy=\"-18\" rx=\"82.25\" ry=\"18\"/>\n",
       "<text text-anchor=\"middle\" x=\"1023.45\" y=\"-13.32\" font-family=\"Times,serif\" font-size=\"14.00\">City_Category</text>\n",
       "</g>\n",
       "<!-- City_Code&#45;&gt;City_Category -->\n",
       "<g id=\"edge10\" class=\"edge\">\n",
       "<title>City_Code&#45;&gt;City_Category</title>\n",
       "<path fill=\"none\" stroke=\"black\" d=\"M1023.45,-71.7C1023.45,-64.41 1023.45,-55.73 1023.45,-47.54\"/>\n",
       "<polygon fill=\"black\" stroke=\"black\" points=\"1026.95,-47.62 1023.45,-37.62 1019.95,-47.62 1026.95,-47.62\"/>\n",
       "</g>\n",
       "</g>\n",
       "</svg>\n"
      ],
      "text/plain": [
       "<graphviz.graphs.Digraph at 0x7a4334048980>"
      ]
     },
     "execution_count": 15,
     "metadata": {},
     "output_type": "execute_result"
    }
   ],
   "source": [
    "dia.plot_dependency()"
   ]
  },
  {
   "cell_type": "code",
   "execution_count": 16,
   "metadata": {},
   "outputs": [
    {
     "name": "stderr",
     "output_type": "stream",
     "text": [
      "/home/tq/Projects/polars_ds_extension/python/polars_ds/eda/diagnosis.py:689: UserWarning: The following columns are dropped because they cannot be used in dependency detection: ['Monthly_Income', 'Existing_EMI', 'Interest_Rate']\n",
      "  dep_frame = self.infer_dependency(subset=subset)\n"
     ]
    },
    {
     "data": {
      "image/svg+xml": [
       "<?xml version=\"1.0\" encoding=\"UTF-8\" standalone=\"no\"?>\n",
       "<!DOCTYPE svg PUBLIC \"-//W3C//DTD SVG 1.1//EN\"\n",
       " \"http://www.w3.org/Graphics/SVG/1.1/DTD/svg11.dtd\">\n",
       "<!-- Generated by graphviz version 12.2.1 (20241206.2353)\n",
       " -->\n",
       "<!-- Title: Dependency Plot Pages: 1 -->\n",
       "<svg width=\"1075pt\" height=\"116pt\"\n",
       " viewBox=\"0.00 0.00 1074.69 116.00\" xmlns=\"http://www.w3.org/2000/svg\" xmlns:xlink=\"http://www.w3.org/1999/xlink\">\n",
       "<g id=\"graph0\" class=\"graph\" transform=\"scale(1 1) rotate(0) translate(4 112)\">\n",
       "<title>Dependency Plot</title>\n",
       "<polygon fill=\"white\" stroke=\"none\" points=\"-4,4 -4,-112 1070.69,-112 1070.69,4 -4,4\"/>\n",
       "<!-- City_Category -->\n",
       "<g id=\"node1\" class=\"node\">\n",
       "<title>City_Category</title>\n",
       "<ellipse fill=\"none\" stroke=\"black\" cx=\"82.25\" cy=\"-18\" rx=\"82.25\" ry=\"18\"/>\n",
       "<text text-anchor=\"middle\" x=\"82.25\" y=\"-13.32\" font-family=\"Times,serif\" font-size=\"14.00\">City_Category</text>\n",
       "</g>\n",
       "<!-- City_Code -->\n",
       "<g id=\"node2\" class=\"node\">\n",
       "<title>City_Code</title>\n",
       "<ellipse fill=\"none\" stroke=\"black\" cx=\"82.25\" cy=\"-90\" rx=\"61.73\" ry=\"18\"/>\n",
       "<text text-anchor=\"middle\" x=\"82.25\" y=\"-85.33\" font-family=\"Times,serif\" font-size=\"14.00\">City_Code</text>\n",
       "</g>\n",
       "<!-- City_Code&#45;&gt;City_Category -->\n",
       "<g id=\"edge1\" class=\"edge\">\n",
       "<title>City_Code&#45;&gt;City_Category</title>\n",
       "<path fill=\"none\" stroke=\"black\" d=\"M82.25,-71.7C82.25,-64.41 82.25,-55.73 82.25,-47.54\"/>\n",
       "<polygon fill=\"black\" stroke=\"black\" points=\"85.75,-47.62 82.25,-37.62 78.75,-47.62 85.75,-47.62\"/>\n",
       "</g>\n",
       "<!-- Primary_Bank_Type -->\n",
       "<g id=\"node3\" class=\"node\">\n",
       "<title>Primary_Bank_Type</title>\n",
       "<ellipse fill=\"none\" stroke=\"black\" cx=\"373.25\" cy=\"-18\" rx=\"110.66\" ry=\"18\"/>\n",
       "<text text-anchor=\"middle\" x=\"373.25\" y=\"-13.32\" font-family=\"Times,serif\" font-size=\"14.00\">Primary_Bank_Type</text>\n",
       "</g>\n",
       "<!-- Customer_Existing_Primary_Bank_Code -->\n",
       "<g id=\"node4\" class=\"node\">\n",
       "<title>Customer_Existing_Primary_Bank_Code</title>\n",
       "<ellipse fill=\"none\" stroke=\"black\" cx=\"373.25\" cy=\"-90\" rx=\"211.67\" ry=\"18\"/>\n",
       "<text text-anchor=\"middle\" x=\"373.25\" y=\"-85.33\" font-family=\"Times,serif\" font-size=\"14.00\">Customer_Existing_Primary_Bank_Code</text>\n",
       "</g>\n",
       "<!-- Customer_Existing_Primary_Bank_Code&#45;&gt;Primary_Bank_Type -->\n",
       "<g id=\"edge2\" class=\"edge\">\n",
       "<title>Customer_Existing_Primary_Bank_Code&#45;&gt;Primary_Bank_Type</title>\n",
       "<path fill=\"none\" stroke=\"black\" d=\"M373.25,-71.7C373.25,-64.41 373.25,-55.73 373.25,-47.54\"/>\n",
       "<polygon fill=\"black\" stroke=\"black\" points=\"376.75,-47.62 373.25,-37.62 369.75,-47.62 376.75,-47.62\"/>\n",
       "</g>\n",
       "<!-- Employer_Category2 -->\n",
       "<g id=\"node5\" class=\"node\">\n",
       "<title>Employer_Category2</title>\n",
       "<ellipse fill=\"none\" stroke=\"black\" cx=\"699.25\" cy=\"-18\" rx=\"116.45\" ry=\"18\"/>\n",
       "<text text-anchor=\"middle\" x=\"699.25\" y=\"-13.32\" font-family=\"Times,serif\" font-size=\"14.00\">Employer_Category2</text>\n",
       "</g>\n",
       "<!-- Employer_Code -->\n",
       "<g id=\"node6\" class=\"node\">\n",
       "<title>Employer_Code</title>\n",
       "<ellipse fill=\"none\" stroke=\"black\" cx=\"780.25\" cy=\"-90\" rx=\"89.61\" ry=\"18\"/>\n",
       "<text text-anchor=\"middle\" x=\"780.25\" y=\"-85.33\" font-family=\"Times,serif\" font-size=\"14.00\">Employer_Code</text>\n",
       "</g>\n",
       "<!-- Employer_Code&#45;&gt;Employer_Category2 -->\n",
       "<g id=\"edge3\" class=\"edge\">\n",
       "<title>Employer_Code&#45;&gt;Employer_Category2</title>\n",
       "<path fill=\"none\" stroke=\"black\" d=\"M760.64,-72.05C750.67,-63.43 738.36,-52.8 727.4,-43.32\"/>\n",
       "<polygon fill=\"black\" stroke=\"black\" points=\"729.96,-40.91 720.1,-37.02 725.38,-46.21 729.96,-40.91\"/>\n",
       "</g>\n",
       "<!-- Employer_Category1 -->\n",
       "<g id=\"node7\" class=\"node\">\n",
       "<title>Employer_Category1</title>\n",
       "<ellipse fill=\"none\" stroke=\"black\" cx=\"950.25\" cy=\"-18\" rx=\"116.45\" ry=\"18\"/>\n",
       "<text text-anchor=\"middle\" x=\"950.25\" y=\"-13.32\" font-family=\"Times,serif\" font-size=\"14.00\">Employer_Category1</text>\n",
       "</g>\n",
       "<!-- Employer_Code&#45;&gt;Employer_Category1 -->\n",
       "<g id=\"edge4\" class=\"edge\">\n",
       "<title>Employer_Code&#45;&gt;Employer_Category1</title>\n",
       "<path fill=\"none\" stroke=\"black\" d=\"M818.4,-73.29C842.49,-63.37 873.88,-50.44 899.99,-39.69\"/>\n",
       "<polygon fill=\"black\" stroke=\"black\" points=\"901.14,-43.01 909.05,-35.96 898.47,-36.53 901.14,-43.01\"/>\n",
       "</g>\n",
       "</g>\n",
       "</svg>\n"
      ],
      "text/plain": [
       "<graphviz.graphs.Digraph at 0x7a43340b5090>"
      ]
     },
     "execution_count": 16,
     "metadata": {},
     "output_type": "execute_result"
    }
   ],
   "source": [
    "# ID implies everything, of course, because ID is unique.\n",
    "# So let's not plot it\n",
    "dia.plot_dependency(subset=pl.all().exclude(\"ID\"))"
   ]
  },
  {
   "cell_type": "code",
   "execution_count": 17,
   "metadata": {},
   "outputs": [
    {
     "data": {
      "text/html": [
       "<div><style>\n",
       ".dataframe > thead > tr,\n",
       ".dataframe > tbody > tr {\n",
       "  text-align: right;\n",
       "  white-space: pre-wrap;\n",
       "}\n",
       "</style>\n",
       "<small>shape: (13, 13)</small><table border=\"1\" class=\"dataframe\"><thead><tr><th>column</th><th>null_count</th><th>n_unique</th><th>most_freq</th><th>most_freq_cnt</th><th>min_byte_len</th><th>min_char_len</th><th>avg_byte_len</th><th>avg_char_len</th><th>max_byte_len</th><th>max_char_len</th><th>5p_byte_len</th><th>95p_byte_len</th></tr><tr><td>str</td><td>u32</td><td>u32</td><td>str</td><td>u32</td><td>u32</td><td>u32</td><td>f64</td><td>f64</td><td>u32</td><td>u32</td><td>f64</td><td>f64</td></tr></thead><tbody><tr><td>&quot;ID&quot;</td><td>0</td><td>69713</td><td>&quot;APPC90493171225&quot;</td><td>1</td><td>15</td><td>15</td><td>15.0</td><td>15.0</td><td>15</td><td>15</td><td>15.0</td><td>15.0</td></tr><tr><td>&quot;Gender&quot;</td><td>0</td><td>2</td><td>&quot;Male&quot;</td><td>39949</td><td>4</td><td>4</td><td>4.853901</td><td>4.853901</td><td>6</td><td>6</td><td>4.0</td><td>6.0</td></tr><tr><td>&quot;DOB&quot;</td><td>15</td><td>10760</td><td>&quot;11/01/82&quot;</td><td>253</td><td>8</td><td>8</td><td>8.0</td><td>8.0</td><td>8</td><td>8</td><td>8.0</td><td>8.0</td></tr><tr><td>&quot;Lead_Creation_Date&quot;</td><td>0</td><td>92</td><td>&quot;02/09/16&quot;</td><td>1838</td><td>8</td><td>8</td><td>8.0</td><td>8.0</td><td>8</td><td>8</td><td>8.0</td><td>8.0</td></tr><tr><td>&quot;City_Code&quot;</td><td>814</td><td>679</td><td>&quot;C10001&quot;</td><td>10007</td><td>6</td><td>6</td><td>6.0</td><td>6.0</td><td>6</td><td>6</td><td>6.0</td><td>6.0</td></tr><tr><td>&hellip;</td><td>&hellip;</td><td>&hellip;</td><td>&hellip;</td><td>&hellip;</td><td>&hellip;</td><td>&hellip;</td><td>&hellip;</td><td>&hellip;</td><td>&hellip;</td><td>&hellip;</td><td>&hellip;</td><td>&hellip;</td></tr><tr><td>&quot;Customer_Existing_Primary_Bank…</td><td>9391</td><td>58</td><td>&quot;B001&quot;</td><td>14197</td><td>4</td><td>4</td><td>4.0</td><td>4.0</td><td>4</td><td>4</td><td>4.0</td><td>4.0</td></tr><tr><td>&quot;Primary_Bank_Type&quot;</td><td>9391</td><td>3</td><td>&quot;P&quot;</td><td>39619</td><td>1</td><td>1</td><td>1.0</td><td>1.0</td><td>1</td><td>1</td><td>1.0</td><td>1.0</td></tr><tr><td>&quot;Contacted&quot;</td><td>0</td><td>2</td><td>&quot;Y&quot;</td><td>45275</td><td>1</td><td>1</td><td>1.0</td><td>1.0</td><td>1</td><td>1</td><td>1.0</td><td>1.0</td></tr><tr><td>&quot;Source&quot;</td><td>0</td><td>29</td><td>&quot;S122&quot;</td><td>30941</td><td>4</td><td>4</td><td>4.0</td><td>4.0</td><td>4</td><td>4</td><td>4.0</td><td>4.0</td></tr><tr><td>&quot;Source_Category&quot;</td><td>0</td><td>7</td><td>&quot;B&quot;</td><td>29812</td><td>1</td><td>1</td><td>1.0</td><td>1.0</td><td>1</td><td>1</td><td>1.0</td><td>1.0</td></tr></tbody></table></div>"
      ],
      "text/plain": [
       "shape: (13, 13)\n",
       "┌───────────┬───────────┬──────────┬───────────┬───┬───────────┬───────────┬───────────┬───────────┐\n",
       "│ column    ┆ null_coun ┆ n_unique ┆ most_freq ┆ … ┆ max_byte_ ┆ max_char_ ┆ 5p_byte_l ┆ 95p_byte_ │\n",
       "│ ---       ┆ t         ┆ ---      ┆ ---       ┆   ┆ len       ┆ len       ┆ en        ┆ len       │\n",
       "│ str       ┆ ---       ┆ u32      ┆ str       ┆   ┆ ---       ┆ ---       ┆ ---       ┆ ---       │\n",
       "│           ┆ u32       ┆          ┆           ┆   ┆ u32       ┆ u32       ┆ f64       ┆ f64       │\n",
       "╞═══════════╪═══════════╪══════════╪═══════════╪═══╪═══════════╪═══════════╪═══════════╪═══════════╡\n",
       "│ ID        ┆ 0         ┆ 69713    ┆ APPC90493 ┆ … ┆ 15        ┆ 15        ┆ 15.0      ┆ 15.0      │\n",
       "│           ┆           ┆          ┆ 171225    ┆   ┆           ┆           ┆           ┆           │\n",
       "│ Gender    ┆ 0         ┆ 2        ┆ Male      ┆ … ┆ 6         ┆ 6         ┆ 4.0       ┆ 6.0       │\n",
       "│ DOB       ┆ 15        ┆ 10760    ┆ 11/01/82  ┆ … ┆ 8         ┆ 8         ┆ 8.0       ┆ 8.0       │\n",
       "│ Lead_Crea ┆ 0         ┆ 92       ┆ 02/09/16  ┆ … ┆ 8         ┆ 8         ┆ 8.0       ┆ 8.0       │\n",
       "│ tion_Date ┆           ┆          ┆           ┆   ┆           ┆           ┆           ┆           │\n",
       "│ City_Code ┆ 814       ┆ 679      ┆ C10001    ┆ … ┆ 6         ┆ 6         ┆ 6.0       ┆ 6.0       │\n",
       "│ …         ┆ …         ┆ …        ┆ …         ┆ … ┆ …         ┆ …         ┆ …         ┆ …         │\n",
       "│ Customer_ ┆ 9391      ┆ 58       ┆ B001      ┆ … ┆ 4         ┆ 4         ┆ 4.0       ┆ 4.0       │\n",
       "│ Existing_ ┆           ┆          ┆           ┆   ┆           ┆           ┆           ┆           │\n",
       "│ Primary_B ┆           ┆          ┆           ┆   ┆           ┆           ┆           ┆           │\n",
       "│ ank…      ┆           ┆          ┆           ┆   ┆           ┆           ┆           ┆           │\n",
       "│ Primary_B ┆ 9391      ┆ 3        ┆ P         ┆ … ┆ 1         ┆ 1         ┆ 1.0       ┆ 1.0       │\n",
       "│ ank_Type  ┆           ┆          ┆           ┆   ┆           ┆           ┆           ┆           │\n",
       "│ Contacted ┆ 0         ┆ 2        ┆ Y         ┆ … ┆ 1         ┆ 1         ┆ 1.0       ┆ 1.0       │\n",
       "│ Source    ┆ 0         ┆ 29       ┆ S122      ┆ … ┆ 4         ┆ 4         ┆ 4.0       ┆ 4.0       │\n",
       "│ Source_Ca ┆ 0         ┆ 7        ┆ B         ┆ … ┆ 1         ┆ 1         ┆ 1.0       ┆ 1.0       │\n",
       "│ tegory    ┆           ┆          ┆           ┆   ┆           ┆           ┆           ┆           │\n",
       "└───────────┴───────────┴──────────┴───────────┴───┴───────────┴───────────┴───────────┴───────────┘"
      ]
     },
     "execution_count": 17,
     "metadata": {},
     "output_type": "execute_result"
    }
   ],
   "source": [
    "# Basic stats about string columns\n",
    "dia.str_stats()"
   ]
  },
  {
   "cell_type": "markdown",
   "metadata": {},
   "source": [
    "# Correlation, Null Correlation, Feature Distribution"
   ]
  },
  {
   "cell_type": "code",
   "execution_count": 18,
   "metadata": {},
   "outputs": [
    {
     "data": {
      "text/html": [
       "<div id=\"lbskplrgcy\" style=\"padding-left:0px;padding-right:0px;padding-top:10px;padding-bottom:10px;overflow-x:auto;overflow-y:auto;width:auto;height:auto;\">\n",
       "<style>\n",
       "#lbskplrgcy table {\n",
       "          font-family: -apple-system, BlinkMacSystemFont, 'Segoe UI', Roboto, Oxygen, Ubuntu, Cantarell, 'Helvetica Neue', 'Fira Sans', 'Droid Sans', Arial, sans-serif;\n",
       "          -webkit-font-smoothing: antialiased;\n",
       "          -moz-osx-font-smoothing: grayscale;\n",
       "        }\n",
       "\n",
       "#lbskplrgcy thead, tbody, tfoot, tr, td, th { border-style: none !important; }\n",
       " tr { background-color: transparent !important; }\n",
       "#lbskplrgcy p { margin: 0 !important; padding: 0 !important; }\n",
       " #lbskplrgcy .gt_table { display: table !important; border-collapse: collapse !important; line-height: normal !important; margin-left: auto !important; margin-right: auto !important; color: #333333 !important; font-size: 16px !important; font-weight: normal !important; font-style: normal !important; background-color: #FFFFFF !important; width: auto !important; border-top-style: solid !important; border-top-width: 2px !important; border-top-color: #A8A8A8 !important; border-right-style: none !important; border-right-width: 2px !important; border-right-color: #D3D3D3 !important; border-bottom-style: solid !important; border-bottom-width: 2px !important; border-bottom-color: #A8A8A8 !important; border-left-style: none !important; border-left-width: 2px !important; border-left-color: #D3D3D3 !important; }\n",
       " #lbskplrgcy .gt_caption { padding-top: 4px !important; padding-bottom: 4px !important; }\n",
       " #lbskplrgcy .gt_title { color: #333333 !important; font-size: 125% !important; font-weight: initial !important; padding-top: 4px !important; padding-bottom: 4px !important; padding-left: 5px !important; padding-right: 5px !important; border-bottom-color: #FFFFFF !important; border-bottom-width: 0 !important; }\n",
       " #lbskplrgcy .gt_subtitle { color: #333333 !important; font-size: 85% !important; font-weight: initial !important; padding-top: 3px !important; padding-bottom: 5px !important; padding-left: 5px !important; padding-right: 5px !important; border-top-color: #FFFFFF !important; border-top-width: 0 !important; }\n",
       " #lbskplrgcy .gt_heading { background-color: #FFFFFF !important; text-align: center !important; border-bottom-color: #FFFFFF !important; border-left-style: none !important; border-left-width: 1px !important; border-left-color: #D3D3D3 !important; border-right-style: none !important; border-right-width: 1px !important; border-right-color: #D3D3D3 !important; }\n",
       " #lbskplrgcy .gt_bottom_border { border-bottom-style: solid !important; border-bottom-width: 2px !important; border-bottom-color: #D3D3D3 !important; }\n",
       " #lbskplrgcy .gt_col_headings { border-top-style: solid !important; border-top-width: 2px !important; border-top-color: #D3D3D3 !important; border-bottom-style: solid !important; border-bottom-width: 2px !important; border-bottom-color: #D3D3D3 !important; border-left-style: none !important; border-left-width: 1px !important; border-left-color: #D3D3D3 !important; border-right-style: none !important; border-right-width: 1px !important; border-right-color: #D3D3D3 !important; }\n",
       " #lbskplrgcy .gt_col_heading { color: #333333 !important; background-color: #FFFFFF !important; font-size: 100% !important; font-weight: normal !important; text-transform: inherit !important; border-left-style: none !important; border-left-width: 1px !important; border-left-color: #D3D3D3 !important; border-right-style: none !important; border-right-width: 1px !important; border-right-color: #D3D3D3 !important; vertical-align: bottom !important; padding-top: 5px !important; padding-bottom: 5px !important; padding-left: 5px !important; padding-right: 5px !important; overflow-x: hidden !important; }\n",
       " #lbskplrgcy .gt_column_spanner_outer { color: #333333 !important; background-color: #FFFFFF !important; font-size: 100% !important; font-weight: normal !important; text-transform: inherit !important; padding-top: 0 !important; padding-bottom: 0 !important; padding-left: 4px !important; padding-right: 4px !important; }\n",
       " #lbskplrgcy .gt_column_spanner_outer:first-child { padding-left: 0 !important; }\n",
       " #lbskplrgcy .gt_column_spanner_outer:last-child { padding-right: 0 !important; }\n",
       " #lbskplrgcy .gt_column_spanner { border-bottom-style: solid !important; border-bottom-width: 2px !important; border-bottom-color: #D3D3D3 !important; vertical-align: bottom !important; padding-top: 5px !important; padding-bottom: 5px !important; overflow-x: hidden !important; display: inline-block !important; width: 100% !important; }\n",
       " #lbskplrgcy .gt_spanner_row { border-bottom-style: hidden !important; }\n",
       " #lbskplrgcy .gt_group_heading { padding-top: 8px !important; padding-bottom: 8px !important; padding-left: 5px !important; padding-right: 5px !important; color: #333333 !important; background-color: #FFFFFF !important; font-size: 100% !important; font-weight: initial !important; text-transform: inherit !important; border-top-style: solid !important; border-top-width: 2px !important; border-top-color: #D3D3D3 !important; border-bottom-style: solid !important; border-bottom-width: 2px !important; border-bottom-color: #D3D3D3 !important; border-left-style: none !important; border-left-width: 1px !important; border-left-color: #D3D3D3 !important; border-right-style: none !important; border-right-width: 1px !important; border-right-color: #D3D3D3 !important; vertical-align: middle !important; text-align: left !important; }\n",
       " #lbskplrgcy .gt_empty_group_heading { padding: 0.5px !important; color: #333333 !important; background-color: #FFFFFF !important; font-size: 100% !important; font-weight: initial !important; border-top-style: solid !important; border-top-width: 2px !important; border-top-color: #D3D3D3 !important; border-bottom-style: solid !important; border-bottom-width: 2px !important; border-bottom-color: #D3D3D3 !important; vertical-align: middle !important; }\n",
       " #lbskplrgcy .gt_from_md> :first-child { margin-top: 0 !important; }\n",
       " #lbskplrgcy .gt_from_md> :last-child { margin-bottom: 0 !important; }\n",
       " #lbskplrgcy .gt_row { padding-top: 8px !important; padding-bottom: 8px !important; padding-left: 5px !important; padding-right: 5px !important; margin: 10px !important; border-top-style: solid !important; border-top-width: 1px !important; border-top-color: #D3D3D3 !important; border-left-style: none !important; border-left-width: 1px !important; border-left-color: #D3D3D3 !important; border-right-style: none !important; border-right-width: 1px !important; border-right-color: #D3D3D3 !important; vertical-align: middle !important; overflow-x: hidden !important; }\n",
       " #lbskplrgcy .gt_stub { color: #333333 !important; background-color: #FFFFFF !important; font-size: 100% !important; font-weight: initial !important; text-transform: inherit !important; border-right-style: solid !important; border-right-width: 2px !important; border-right-color: #D3D3D3 !important; padding-left: 5px !important; padding-right: 5px !important; }\n",
       " #lbskplrgcy .gt_stub_row_group { color: #333333 !important; background-color: #FFFFFF !important; font-size: 100% !important; font-weight: initial !important; text-transform: inherit !important; border-right-style: solid !important; border-right-width: 2px !important; border-right-color: #D3D3D3 !important; padding-left: 5px !important; padding-right: 5px !important; vertical-align: top !important; }\n",
       " #lbskplrgcy .gt_row_group_first td { border-top-width: 2px !important; }\n",
       " #lbskplrgcy .gt_row_group_first th { border-top-width: 2px !important; }\n",
       " #lbskplrgcy .gt_striped { background-color: rgba(128,128,128,0.05) !important; }\n",
       " #lbskplrgcy .gt_table_body { border-top-style: solid !important; border-top-width: 2px !important; border-top-color: #D3D3D3 !important; border-bottom-style: solid !important; border-bottom-width: 2px !important; border-bottom-color: #D3D3D3 !important; }\n",
       " #lbskplrgcy .gt_sourcenotes { color: #333333 !important; background-color: #FFFFFF !important; border-bottom-style: none !important; border-bottom-width: 2px !important; border-bottom-color: #D3D3D3 !important; border-left-style: none !important; border-left-width: 2px !important; border-left-color: #D3D3D3 !important; border-right-style: none !important; border-right-width: 2px !important; border-right-color: #D3D3D3 !important; }\n",
       " #lbskplrgcy .gt_sourcenote { font-size: 90% !important; padding-top: 4px !important; padding-bottom: 4px !important; padding-left: 5px !important; padding-right: 5px !important; text-align: left !important; }\n",
       " #lbskplrgcy .gt_left { text-align: left !important; }\n",
       " #lbskplrgcy .gt_center { text-align: center !important; }\n",
       " #lbskplrgcy .gt_right { text-align: right !important; font-variant-numeric: tabular-nums !important; }\n",
       " #lbskplrgcy .gt_font_normal { font-weight: normal !important; }\n",
       " #lbskplrgcy .gt_font_bold { font-weight: bold !important; }\n",
       " #lbskplrgcy .gt_font_italic { font-style: italic !important; }\n",
       " #lbskplrgcy .gt_super { font-size: 65% !important; }\n",
       " #lbskplrgcy .gt_footnote_marks { font-size: 75% !important; vertical-align: 0.4em !important; position: initial !important; }\n",
       " #lbskplrgcy .gt_asterisk { font-size: 100% !important; vertical-align: 0 !important; }\n",
       " \n",
       "</style>\n",
       "<table class=\"gt_table\" data-quarto-disable-processing=\"false\" data-quarto-bootstrap=\"false\">\n",
       "<thead>\n",
       "\n",
       "<tr class=\"gt_col_headings\">\n",
       "  <th class=\"gt_col_heading gt_columns_bottom_border gt_left\" rowspan=\"1\" colspan=\"1\" scope=\"col\" id=\"column\">column</th>\n",
       "  <th class=\"gt_col_heading gt_columns_bottom_border gt_center\" rowspan=\"1\" colspan=\"1\" scope=\"col\" id=\"non_null_cnt\">non_null_cnt</th>\n",
       "  <th class=\"gt_col_heading gt_columns_bottom_border gt_right\" rowspan=\"1\" colspan=\"1\" scope=\"col\" id=\"null%\">null%</th>\n",
       "  <th class=\"gt_col_heading gt_columns_bottom_border gt_right\" rowspan=\"1\" colspan=\"1\" scope=\"col\" id=\"mean\">mean</th>\n",
       "  <th class=\"gt_col_heading gt_columns_bottom_border gt_right\" rowspan=\"1\" colspan=\"1\" scope=\"col\" id=\"std\">std</th>\n",
       "  <th class=\"gt_col_heading gt_columns_bottom_border gt_right\" rowspan=\"1\" colspan=\"1\" scope=\"col\" id=\"min\">min</th>\n",
       "  <th class=\"gt_col_heading gt_columns_bottom_border gt_right\" rowspan=\"1\" colspan=\"1\" scope=\"col\" id=\"q1\">q1</th>\n",
       "  <th class=\"gt_col_heading gt_columns_bottom_border gt_right\" rowspan=\"1\" colspan=\"1\" scope=\"col\" id=\"median\">median</th>\n",
       "  <th class=\"gt_col_heading gt_columns_bottom_border gt_right\" rowspan=\"1\" colspan=\"1\" scope=\"col\" id=\"q3\">q3</th>\n",
       "  <th class=\"gt_col_heading gt_columns_bottom_border gt_right\" rowspan=\"1\" colspan=\"1\" scope=\"col\" id=\"max\">max</th>\n",
       "  <th class=\"gt_col_heading gt_columns_bottom_border gt_right\" rowspan=\"1\" colspan=\"1\" scope=\"col\" id=\"IQR\">IQR</th>\n",
       "  <th class=\"gt_col_heading gt_columns_bottom_border gt_center\" rowspan=\"1\" colspan=\"1\" scope=\"col\" id=\"outlier_cnt\">outlier_cnt</th>\n",
       "  <th class=\"gt_col_heading gt_columns_bottom_border gt_center\" rowspan=\"1\" colspan=\"1\" scope=\"col\" id=\"histogram\">histogram</th>\n",
       "</tr>\n",
       "</thead>\n",
       "<tbody class=\"gt_table_body\">\n",
       "  <tr>\n",
       "    <th class=\"gt_row gt_left gt_stub\">Employer_Category2</th>\n",
       "    <td class=\"gt_row gt_center\">65415</td>\n",
       "    <td class=\"gt_row gt_right\">6.17%</td>\n",
       "    <td class=\"gt_row gt_right\">3.720</td>\n",
       "    <td class=\"gt_row gt_right\">0.807</td>\n",
       "    <td class=\"gt_row gt_right\">1.000</td>\n",
       "    <td class=\"gt_row gt_right\">4.000</td>\n",
       "    <td class=\"gt_row gt_right\">4.000</td>\n",
       "    <td class=\"gt_row gt_right\">4.000</td>\n",
       "    <td class=\"gt_row gt_right\">4.000</td>\n",
       "    <td class=\"gt_row gt_right\">0.000</td>\n",
       "    <td class=\"gt_row gt_center\">7833</td>\n",
       "    <td class=\"gt_row gt_center\"><div><svg role=\"img\" viewBox=\"0 0 300 130\" style=\"height: 2em; margin-left: auto; margin-right: auto; font-size: inherit; overflow: visible; vertical-align: middle; position:relative;\"><defs><pattern id=\"area_pattern\" width=\"8\" height=\"8\" patternUnits=\"userSpaceOnUse\"><path class=\"pattern-line\" d=\"M 0,8 l 8,-8 M -1,1 l 4,-4 M 6,10 l 4,-4\" stroke=\"#FF0000\" stroke-width=\"1.5\" stroke-linecap=\"round\" shape-rendering=\"geometricPrecision\"></path></pattern></defs><style> text { font-family: ui-monospace, 'Cascadia Code', 'Source Code Pro', Menlo, Consolas, 'DejaVu Sans Mono', monospace; stroke-width: 0.15em; paint-order: stroke; stroke-linejoin: round; cursor: default; } .vert-line:hover rect { fill: #911EB4; fill-opacity: 40%; stroke: #FFFFFF60; color: red; } .vert-line:hover text { stroke: white; fill: #212427; } .horizontal-line:hover text {stroke: white; fill: #212427; } .ref-line:hover rect { stroke: #FFFFFF60; } .ref-line:hover line { stroke: #FF0000; } .ref-line:hover text { stroke: white; fill: #212427; } .y-axis-line:hover rect { fill: #EDEDED; fill-opacity: 60%; stroke: #FFFFFF60; color: red; } .y-axis-line:hover text { stroke: white; stroke-width: 0.20em; fill: #1A1C1F; } </style><line x1=\"22.5\" y1=\"115.0\" x2=\"277.5\" y2=\"115.0\" stroke=\"#BFBFBF\" stroke-width=\"4\"></line><rect x=\"30.0\" y=\"107.60532805390574\" width=\"40\" height=\"7.394671946094263\" stroke=\"#3290CC\" stroke-width=\"4\" fill=\"#3FB5FF\"></rect><rect x=\"96.66666666666666\" y=\"111.60484179083741\" width=\"40\" height=\"3.395158209162588\" stroke=\"#3290CC\" stroke-width=\"4\" fill=\"#3FB5FF\"></rect><rect x=\"163.33333333333331\" y=\"112.18662081900594\" width=\"40\" height=\"2.813379180994062\" stroke=\"#3290CC\" stroke-width=\"4\" fill=\"#3FB5FF\"></rect><rect x=\"230.0\" y=\"15.0\" width=\"40\" height=\"100.0\" stroke=\"#3290CC\" stroke-width=\"4\" fill=\"#3FB5FF\"></rect><g class=\"y-axis-line\"><rect x=\"0\" y=\"0\" width=\"65\" height=\"130\" stroke=\"transparent\" stroke-width=\"0\" fill=\"transparent\"></rect><text x=\"0\" y=\"19.0\" fill=\"transparent\" stroke=\"transparent\" font-size=\"25\">57.6K</text><text x=\"0\" y=\"126.0\" fill=\"transparent\" stroke=\"transparent\" font-size=\"25\">0</text></g><g class=\"vert-line\"><rect x=\"40.0\" y=\"0\" width=\"20\" height=\"130\" stroke=\"transparent\" stroke-width=\"12\" fill=\"transparent\"></rect><text x=\"60.0\" y=\"20\" fill=\"transparent\" stroke=\"transparent\" font-size=\"30px\">4.26K</text></g><g class=\"vert-line\"><rect x=\"106.66666666666666\" y=\"0\" width=\"20\" height=\"130\" stroke=\"transparent\" stroke-width=\"12\" fill=\"transparent\"></rect><text x=\"126.66666666666666\" y=\"20\" fill=\"transparent\" stroke=\"transparent\" font-size=\"30px\">1.96K</text></g><g class=\"vert-line\"><rect x=\"173.33333333333331\" y=\"0\" width=\"20\" height=\"130\" stroke=\"transparent\" stroke-width=\"12\" fill=\"transparent\"></rect><text x=\"193.33333333333331\" y=\"20\" fill=\"transparent\" stroke=\"transparent\" font-size=\"30px\">1.62K</text></g><g class=\"vert-line\"><rect x=\"240.0\" y=\"0\" width=\"20\" height=\"130\" stroke=\"transparent\" stroke-width=\"12\" fill=\"transparent\"></rect><text x=\"260.0\" y=\"20\" fill=\"transparent\" stroke=\"transparent\" font-size=\"30px\">57.6K</text></g></svg></div></td>\n",
       "  </tr>\n",
       "  <tr>\n",
       "    <th class=\"gt_row gt_left gt_stub\">Monthly_Income</th>\n",
       "    <td class=\"gt_row gt_center\">69713</td>\n",
       "    <td class=\"gt_row gt_right\">0.00%</td>\n",
       "    <td class=\"gt_row gt_right\">5,622.283</td>\n",
       "    <td class=\"gt_row gt_right\">174,767.062</td>\n",
       "    <td class=\"gt_row gt_right\">0.000</td>\n",
       "    <td class=\"gt_row gt_right\">1,650.000</td>\n",
       "    <td class=\"gt_row gt_right\">2,500.000</td>\n",
       "    <td class=\"gt_row gt_right\">4,000.000</td>\n",
       "    <td class=\"gt_row gt_right\">38,383,838.300</td>\n",
       "    <td class=\"gt_row gt_right\">2,350.000</td>\n",
       "    <td class=\"gt_row gt_center\">3920</td>\n",
       "    <td class=\"gt_row gt_center\"><div><svg role=\"img\" viewBox=\"0 0 400 130\" style=\"height: 2em; margin-left: auto; margin-right: auto; font-size: inherit; overflow: visible; vertical-align: middle; position:relative;\"><defs><pattern id=\"area_pattern\" width=\"8\" height=\"8\" patternUnits=\"userSpaceOnUse\"><path class=\"pattern-line\" d=\"M 0,8 l 8,-8 M -1,1 l 4,-4 M 6,10 l 4,-4\" stroke=\"#FF0000\" stroke-width=\"1.5\" stroke-linecap=\"round\" shape-rendering=\"geometricPrecision\"></path></pattern></defs><style> text { font-family: ui-monospace, 'Cascadia Code', 'Source Code Pro', Menlo, Consolas, 'DejaVu Sans Mono', monospace; stroke-width: 0.15em; paint-order: stroke; stroke-linejoin: round; cursor: default; } .vert-line:hover rect { fill: #911EB4; fill-opacity: 40%; stroke: #FFFFFF60; color: red; } .vert-line:hover text { stroke: white; fill: #212427; } .horizontal-line:hover text {stroke: white; fill: #212427; } .ref-line:hover rect { stroke: #FFFFFF60; } .ref-line:hover line { stroke: #FF0000; } .ref-line:hover text { stroke: white; fill: #212427; } .y-axis-line:hover rect { fill: #EDEDED; fill-opacity: 60%; stroke: #FFFFFF60; color: red; } .y-axis-line:hover text { stroke: white; stroke-width: 0.20em; fill: #1A1C1F; } </style><line x1=\"22.5\" y1=\"115.0\" x2=\"377.5\" y2=\"115.0\" stroke=\"#BFBFBF\" stroke-width=\"4\"></line><rect x=\"30.0\" y=\"15.0\" width=\"40\" height=\"100.0\" stroke=\"#3290CC\" stroke-width=\"4\" fill=\"#3FB5FF\"></rect><rect x=\"90.0\" y=\"114.99282629592963\" width=\"40\" height=\"0.007173704070368103\" stroke=\"#3290CC\" stroke-width=\"4\" fill=\"#3FB5FF\"></rect><rect x=\"150.0\" y=\"114.99569577755778\" width=\"40\" height=\"0.004304222442215178\" stroke=\"#3290CC\" stroke-width=\"4\" fill=\"#3FB5FF\"></rect><rect x=\"210.00000000000003\" y=\"114.99426103674371\" width=\"40\" height=\"0.00573896325629164\" stroke=\"#3290CC\" stroke-width=\"4\" fill=\"#3FB5FF\"></rect><rect x=\"270.0\" y=\"114.99856525918592\" width=\"40\" height=\"0.0014347408140764628\" stroke=\"#3290CC\" stroke-width=\"4\" fill=\"#3FB5FF\"></rect><rect x=\"330.0\" y=\"114.99856525918592\" width=\"40\" height=\"0.0014347408140764628\" stroke=\"#3290CC\" stroke-width=\"4\" fill=\"#3FB5FF\"></rect><g class=\"y-axis-line\"><rect x=\"0\" y=\"0\" width=\"65\" height=\"130\" stroke=\"transparent\" stroke-width=\"0\" fill=\"transparent\"></rect><text x=\"0\" y=\"19.0\" fill=\"transparent\" stroke=\"transparent\" font-size=\"25\">69.7K</text><text x=\"0\" y=\"126.0\" fill=\"transparent\" stroke=\"transparent\" font-size=\"25\">0</text></g><g class=\"vert-line\"><rect x=\"40.0\" y=\"0\" width=\"20\" height=\"130\" stroke=\"transparent\" stroke-width=\"12\" fill=\"transparent\"></rect><text x=\"60.0\" y=\"20\" fill=\"transparent\" stroke=\"transparent\" font-size=\"30px\">69.7K</text></g><g class=\"vert-line\"><rect x=\"100.0\" y=\"0\" width=\"20\" height=\"130\" stroke=\"transparent\" stroke-width=\"12\" fill=\"transparent\"></rect><text x=\"120.0\" y=\"20\" fill=\"transparent\" stroke=\"transparent\" font-size=\"30px\">5</text></g><g class=\"vert-line\"><rect x=\"160.0\" y=\"0\" width=\"20\" height=\"130\" stroke=\"transparent\" stroke-width=\"12\" fill=\"transparent\"></rect><text x=\"180.0\" y=\"20\" fill=\"transparent\" stroke=\"transparent\" font-size=\"30px\">3</text></g><g class=\"vert-line\"><rect x=\"220.00000000000003\" y=\"0\" width=\"20\" height=\"130\" stroke=\"transparent\" stroke-width=\"12\" fill=\"transparent\"></rect><text x=\"240.00000000000003\" y=\"20\" fill=\"transparent\" stroke=\"transparent\" font-size=\"30px\">4</text></g><g class=\"vert-line\"><rect x=\"280.0\" y=\"0\" width=\"20\" height=\"130\" stroke=\"transparent\" stroke-width=\"12\" fill=\"transparent\"></rect><text x=\"300.0\" y=\"20\" fill=\"transparent\" stroke=\"transparent\" font-size=\"30px\">1</text></g><g class=\"vert-line\"><rect x=\"340.0\" y=\"0\" width=\"20\" height=\"130\" stroke=\"transparent\" stroke-width=\"12\" fill=\"transparent\"></rect><text x=\"360.0\" y=\"20\" fill=\"transparent\" stroke=\"transparent\" font-size=\"30px\">1</text></g></svg></div></td>\n",
       "  </tr>\n",
       "  <tr>\n",
       "    <th class=\"gt_row gt_left gt_stub\">Existing_EMI</th>\n",
       "    <td class=\"gt_row gt_center\">69662</td>\n",
       "    <td class=\"gt_row gt_right\">0.07%</td>\n",
       "    <td class=\"gt_row gt_right\">360.929</td>\n",
       "    <td class=\"gt_row gt_right\">2,288.518</td>\n",
       "    <td class=\"gt_row gt_right\">0.000</td>\n",
       "    <td class=\"gt_row gt_right\">0.000</td>\n",
       "    <td class=\"gt_row gt_right\">0.000</td>\n",
       "    <td class=\"gt_row gt_right\">350.000</td>\n",
       "    <td class=\"gt_row gt_right\">545,436.500</td>\n",
       "    <td class=\"gt_row gt_right\">350.000</td>\n",
       "    <td class=\"gt_row gt_center\">6549</td>\n",
       "    <td class=\"gt_row gt_center\"><div><svg role=\"img\" viewBox=\"0 0 300 130\" style=\"height: 2em; margin-left: auto; margin-right: auto; font-size: inherit; overflow: visible; vertical-align: middle; position:relative;\"><defs><pattern id=\"area_pattern\" width=\"8\" height=\"8\" patternUnits=\"userSpaceOnUse\"><path class=\"pattern-line\" d=\"M 0,8 l 8,-8 M -1,1 l 4,-4 M 6,10 l 4,-4\" stroke=\"#FF0000\" stroke-width=\"1.5\" stroke-linecap=\"round\" shape-rendering=\"geometricPrecision\"></path></pattern></defs><style> text { font-family: ui-monospace, 'Cascadia Code', 'Source Code Pro', Menlo, Consolas, 'DejaVu Sans Mono', monospace; stroke-width: 0.15em; paint-order: stroke; stroke-linejoin: round; cursor: default; } .vert-line:hover rect { fill: #911EB4; fill-opacity: 40%; stroke: #FFFFFF60; color: red; } .vert-line:hover text { stroke: white; fill: #212427; } .horizontal-line:hover text {stroke: white; fill: #212427; } .ref-line:hover rect { stroke: #FFFFFF60; } .ref-line:hover line { stroke: #FF0000; } .ref-line:hover text { stroke: white; fill: #212427; } .y-axis-line:hover rect { fill: #EDEDED; fill-opacity: 60%; stroke: #FFFFFF60; color: red; } .y-axis-line:hover text { stroke: white; stroke-width: 0.20em; fill: #1A1C1F; } </style><line x1=\"22.5\" y1=\"115.0\" x2=\"277.5\" y2=\"115.0\" stroke=\"#BFBFBF\" stroke-width=\"4\"></line><rect x=\"30.0\" y=\"15.0\" width=\"40\" height=\"100.0\" stroke=\"#3290CC\" stroke-width=\"4\" fill=\"#3FB5FF\"></rect><rect x=\"96.66666666666666\" y=\"114.99282176441031\" width=\"40\" height=\"0.00717823558969144\" stroke=\"#3290CC\" stroke-width=\"4\" fill=\"#3FB5FF\"></rect><rect x=\"163.33333333333331\" y=\"114.99856435288206\" width=\"40\" height=\"0.0014356471179439723\" stroke=\"#3290CC\" stroke-width=\"4\" fill=\"#3FB5FF\"></rect><rect x=\"230.0\" y=\"114.99856435288206\" width=\"40\" height=\"0.0014356471179439723\" stroke=\"#3290CC\" stroke-width=\"4\" fill=\"#3FB5FF\"></rect><g class=\"y-axis-line\"><rect x=\"0\" y=\"0\" width=\"65\" height=\"130\" stroke=\"transparent\" stroke-width=\"0\" fill=\"transparent\"></rect><text x=\"0\" y=\"19.0\" fill=\"transparent\" stroke=\"transparent\" font-size=\"25\">69.7K</text><text x=\"0\" y=\"126.0\" fill=\"transparent\" stroke=\"transparent\" font-size=\"25\">0</text></g><g class=\"vert-line\"><rect x=\"40.0\" y=\"0\" width=\"20\" height=\"130\" stroke=\"transparent\" stroke-width=\"12\" fill=\"transparent\"></rect><text x=\"60.0\" y=\"20\" fill=\"transparent\" stroke=\"transparent\" font-size=\"30px\">69.7K</text></g><g class=\"vert-line\"><rect x=\"106.66666666666666\" y=\"0\" width=\"20\" height=\"130\" stroke=\"transparent\" stroke-width=\"12\" fill=\"transparent\"></rect><text x=\"126.66666666666666\" y=\"20\" fill=\"transparent\" stroke=\"transparent\" font-size=\"30px\">5</text></g><g class=\"vert-line\"><rect x=\"173.33333333333331\" y=\"0\" width=\"20\" height=\"130\" stroke=\"transparent\" stroke-width=\"12\" fill=\"transparent\"></rect><text x=\"193.33333333333331\" y=\"20\" fill=\"transparent\" stroke=\"transparent\" font-size=\"30px\">1</text></g><g class=\"vert-line\"><rect x=\"240.0\" y=\"0\" width=\"20\" height=\"130\" stroke=\"transparent\" stroke-width=\"12\" fill=\"transparent\"></rect><text x=\"260.0\" y=\"20\" fill=\"transparent\" stroke=\"transparent\" font-size=\"30px\">1</text></g></svg></div></td>\n",
       "  </tr>\n",
       "  <tr>\n",
       "    <th class=\"gt_row gt_left gt_stub\">Loan_Amount</th>\n",
       "    <td class=\"gt_row gt_center\">42004</td>\n",
       "    <td class=\"gt_row gt_right\">39.75%</td>\n",
       "    <td class=\"gt_row gt_right\">39,429.983</td>\n",
       "    <td class=\"gt_row gt_right\">30,727.596</td>\n",
       "    <td class=\"gt_row gt_right\">5,000.000</td>\n",
       "    <td class=\"gt_row gt_right\">20,000.000</td>\n",
       "    <td class=\"gt_row gt_right\">30,000.000</td>\n",
       "    <td class=\"gt_row gt_right\">50,000.000</td>\n",
       "    <td class=\"gt_row gt_right\">300,000.000</td>\n",
       "    <td class=\"gt_row gt_right\">30,000.000</td>\n",
       "    <td class=\"gt_row gt_center\">1547</td>\n",
       "    <td class=\"gt_row gt_center\"><div><svg role=\"img\" viewBox=\"0 0 1050 130\" style=\"height: 2em; margin-left: auto; margin-right: auto; font-size: inherit; overflow: visible; vertical-align: middle; position:relative;\"><defs><pattern id=\"area_pattern\" width=\"8\" height=\"8\" patternUnits=\"userSpaceOnUse\"><path class=\"pattern-line\" d=\"M 0,8 l 8,-8 M -1,1 l 4,-4 M 6,10 l 4,-4\" stroke=\"#FF0000\" stroke-width=\"1.5\" stroke-linecap=\"round\" shape-rendering=\"geometricPrecision\"></path></pattern></defs><style> text { font-family: ui-monospace, 'Cascadia Code', 'Source Code Pro', Menlo, Consolas, 'DejaVu Sans Mono', monospace; stroke-width: 0.15em; paint-order: stroke; stroke-linejoin: round; cursor: default; } .vert-line:hover rect { fill: #911EB4; fill-opacity: 40%; stroke: #FFFFFF60; color: red; } .vert-line:hover text { stroke: white; fill: #212427; } .horizontal-line:hover text {stroke: white; fill: #212427; } .ref-line:hover rect { stroke: #FFFFFF60; } .ref-line:hover line { stroke: #FF0000; } .ref-line:hover text { stroke: white; fill: #212427; } .y-axis-line:hover rect { fill: #EDEDED; fill-opacity: 60%; stroke: #FFFFFF60; color: red; } .y-axis-line:hover text { stroke: white; stroke-width: 0.20em; fill: #1A1C1F; } </style><line x1=\"22.5\" y1=\"115.0\" x2=\"1027.5\" y2=\"115.0\" stroke=\"#BFBFBF\" stroke-width=\"4\"></line><rect x=\"30.0\" y=\"57.43291830348226\" width=\"40\" height=\"57.56708169651774\" stroke=\"#3290CC\" stroke-width=\"4\" fill=\"#3FB5FF\"></rect><rect x=\"82.77777777777777\" y=\"15.0\" width=\"40\" height=\"100.0\" stroke=\"#3290CC\" stroke-width=\"4\" fill=\"#3FB5FF\"></rect><rect x=\"135.55555555555554\" y=\"72.25414474998337\" width=\"40\" height=\"42.74585525001663\" stroke=\"#3290CC\" stroke-width=\"4\" fill=\"#3FB5FF\"></rect><rect x=\"188.33333333333331\" y=\"75.17045076236766\" width=\"40\" height=\"39.829549237632335\" stroke=\"#3290CC\" stroke-width=\"4\" fill=\"#3FB5FF\"></rect><rect x=\"241.1111111111111\" y=\"104.2802450229709\" width=\"40\" height=\"10.719754977029098\" stroke=\"#3290CC\" stroke-width=\"4\" fill=\"#3FB5FF\"></rect><rect x=\"293.8888888888889\" y=\"108.13536187495839\" width=\"40\" height=\"6.864638125041608\" stroke=\"#3290CC\" stroke-width=\"4\" fill=\"#3FB5FF\"></rect><rect x=\"346.66666666666663\" y=\"103.57447233504227\" width=\"40\" height=\"11.425527664957727\" stroke=\"#3290CC\" stroke-width=\"4\" fill=\"#3FB5FF\"></rect><rect x=\"399.4444444444444\" y=\"111.08495905186764\" width=\"40\" height=\"3.915040948132358\" stroke=\"#3290CC\" stroke-width=\"4\" fill=\"#3FB5FF\"></rect><rect x=\"452.2222222222222\" y=\"113.96797389972701\" width=\"40\" height=\"1.0320261002729865\" stroke=\"#3290CC\" stroke-width=\"4\" fill=\"#3FB5FF\"></rect><rect x=\"505.0\" y=\"110.82528796857314\" width=\"40\" height=\"4.174712031426864\" stroke=\"#3290CC\" stroke-width=\"4\" fill=\"#3FB5FF\"></rect><rect x=\"557.7777777777778\" y=\"114.82688594447033\" width=\"40\" height=\"0.1731140555296662\" stroke=\"#3290CC\" stroke-width=\"4\" fill=\"#3FB5FF\"></rect><rect x=\"610.5555555555555\" y=\"114.60716425860576\" width=\"40\" height=\"0.3928357413942365\" stroke=\"#3290CC\" stroke-width=\"4\" fill=\"#3FB5FF\"></rect><rect x=\"663.3333333333333\" y=\"114.94673413676011\" width=\"40\" height=\"0.05326586323988636\" stroke=\"#3290CC\" stroke-width=\"4\" fill=\"#3FB5FF\"></rect><rect x=\"716.1111111111111\" y=\"114.62048072441574\" width=\"40\" height=\"0.3795192755842578\" stroke=\"#3290CC\" stroke-width=\"4\" fill=\"#3FB5FF\"></rect><rect x=\"768.8888888888888\" y=\"114.98668353419002\" width=\"40\" height=\"0.013316465809978695\" stroke=\"#3290CC\" stroke-width=\"4\" fill=\"#3FB5FF\"></rect><rect x=\"821.6666666666666\" y=\"114.94007590385512\" width=\"40\" height=\"0.05992409614488281\" stroke=\"#3290CC\" stroke-width=\"4\" fill=\"#3FB5FF\"></rect><rect x=\"874.4444444444443\" y=\"114.71369598508556\" width=\"40\" height=\"0.28630401491443536\" stroke=\"#3290CC\" stroke-width=\"4\" fill=\"#3FB5FF\"></rect><rect x=\"927.2222222222222\" y=\"114.98668353419002\" width=\"40\" height=\"0.013316465809978695\" stroke=\"#3290CC\" stroke-width=\"4\" fill=\"#3FB5FF\"></rect><rect x=\"980.0\" y=\"114.97336706838004\" width=\"40\" height=\"0.02663293161995739\" stroke=\"#3290CC\" stroke-width=\"4\" fill=\"#3FB5FF\"></rect><g class=\"y-axis-line\"><rect x=\"0\" y=\"0\" width=\"65\" height=\"130\" stroke=\"transparent\" stroke-width=\"0\" fill=\"transparent\"></rect><text x=\"0\" y=\"19.0\" fill=\"transparent\" stroke=\"transparent\" font-size=\"25\">15.0K</text><text x=\"0\" y=\"126.0\" fill=\"transparent\" stroke=\"transparent\" font-size=\"25\">0</text></g><g class=\"vert-line\"><rect x=\"40.0\" y=\"0\" width=\"20\" height=\"130\" stroke=\"transparent\" stroke-width=\"12\" fill=\"transparent\"></rect><text x=\"60.0\" y=\"20\" fill=\"transparent\" stroke=\"transparent\" font-size=\"30px\">8.65K</text></g><g class=\"vert-line\"><rect x=\"92.77777777777777\" y=\"0\" width=\"20\" height=\"130\" stroke=\"transparent\" stroke-width=\"12\" fill=\"transparent\"></rect><text x=\"112.77777777777777\" y=\"20\" fill=\"transparent\" stroke=\"transparent\" font-size=\"30px\">15.0K</text></g><g class=\"vert-line\"><rect x=\"145.55555555555554\" y=\"0\" width=\"20\" height=\"130\" stroke=\"transparent\" stroke-width=\"12\" fill=\"transparent\"></rect><text x=\"165.55555555555554\" y=\"20\" fill=\"transparent\" stroke=\"transparent\" font-size=\"30px\">6.42K</text></g><g class=\"vert-line\"><rect x=\"198.33333333333331\" y=\"0\" width=\"20\" height=\"130\" stroke=\"transparent\" stroke-width=\"12\" fill=\"transparent\"></rect><text x=\"218.33333333333331\" y=\"20\" fill=\"transparent\" stroke=\"transparent\" font-size=\"30px\">5.98K</text></g><g class=\"vert-line\"><rect x=\"251.1111111111111\" y=\"0\" width=\"20\" height=\"130\" stroke=\"transparent\" stroke-width=\"12\" fill=\"transparent\"></rect><text x=\"271.1111111111111\" y=\"20\" fill=\"transparent\" stroke=\"transparent\" font-size=\"30px\">1.61K</text></g><g class=\"vert-line\"><rect x=\"303.8888888888889\" y=\"0\" width=\"20\" height=\"130\" stroke=\"transparent\" stroke-width=\"12\" fill=\"transparent\"></rect><text x=\"323.8888888888889\" y=\"20\" fill=\"transparent\" stroke=\"transparent\" font-size=\"30px\">1.03K</text></g><g class=\"vert-line\"><rect x=\"356.66666666666663\" y=\"0\" width=\"20\" height=\"130\" stroke=\"transparent\" stroke-width=\"12\" fill=\"transparent\"></rect><text x=\"376.66666666666663\" y=\"20\" fill=\"transparent\" stroke=\"transparent\" font-size=\"30px\">1.72K</text></g><g class=\"vert-line\"><rect x=\"409.4444444444444\" y=\"0\" width=\"20\" height=\"130\" stroke=\"transparent\" stroke-width=\"12\" fill=\"transparent\"></rect><text x=\"429.4444444444444\" y=\"20\" fill=\"transparent\" stroke=\"transparent\" font-size=\"30px\">588</text></g><g class=\"vert-line\"><rect x=\"462.2222222222222\" y=\"0\" width=\"20\" height=\"130\" stroke=\"transparent\" stroke-width=\"12\" fill=\"transparent\"></rect><text x=\"482.2222222222222\" y=\"20\" fill=\"transparent\" stroke=\"transparent\" font-size=\"30px\">155</text></g><g class=\"vert-line\"><rect x=\"515.0\" y=\"0\" width=\"20\" height=\"130\" stroke=\"transparent\" stroke-width=\"12\" fill=\"transparent\"></rect><text x=\"535.0\" y=\"20\" fill=\"transparent\" stroke=\"transparent\" font-size=\"30px\">627</text></g><g class=\"vert-line\"><rect x=\"567.7777777777778\" y=\"0\" width=\"20\" height=\"130\" stroke=\"transparent\" stroke-width=\"12\" fill=\"transparent\"></rect><text x=\"587.7777777777778\" y=\"20\" fill=\"transparent\" stroke=\"transparent\" font-size=\"30px\">26</text></g><g class=\"vert-line\"><rect x=\"620.5555555555555\" y=\"0\" width=\"20\" height=\"130\" stroke=\"transparent\" stroke-width=\"12\" fill=\"transparent\"></rect><text x=\"640.5555555555555\" y=\"20\" fill=\"transparent\" stroke=\"transparent\" font-size=\"30px\">59</text></g><g class=\"vert-line\"><rect x=\"673.3333333333333\" y=\"0\" width=\"20\" height=\"130\" stroke=\"transparent\" stroke-width=\"12\" fill=\"transparent\"></rect><text x=\"693.3333333333333\" y=\"20\" fill=\"transparent\" stroke=\"transparent\" font-size=\"30px\">8</text></g><g class=\"vert-line\"><rect x=\"726.1111111111111\" y=\"0\" width=\"20\" height=\"130\" stroke=\"transparent\" stroke-width=\"12\" fill=\"transparent\"></rect><text x=\"746.1111111111111\" y=\"20\" fill=\"transparent\" stroke=\"transparent\" font-size=\"30px\">57</text></g><g class=\"vert-line\"><rect x=\"778.8888888888888\" y=\"0\" width=\"20\" height=\"130\" stroke=\"transparent\" stroke-width=\"12\" fill=\"transparent\"></rect><text x=\"798.8888888888888\" y=\"20\" fill=\"transparent\" stroke=\"transparent\" font-size=\"30px\">2</text></g><g class=\"vert-line\"><rect x=\"831.6666666666666\" y=\"0\" width=\"20\" height=\"130\" stroke=\"transparent\" stroke-width=\"12\" fill=\"transparent\"></rect><text x=\"851.6666666666666\" y=\"20\" fill=\"transparent\" stroke=\"transparent\" font-size=\"30px\">9</text></g><g class=\"vert-line\"><rect x=\"884.4444444444443\" y=\"0\" width=\"20\" height=\"130\" stroke=\"transparent\" stroke-width=\"12\" fill=\"transparent\"></rect><text x=\"904.4444444444443\" y=\"20\" fill=\"transparent\" stroke=\"transparent\" font-size=\"30px\">43</text></g><g class=\"vert-line\"><rect x=\"937.2222222222222\" y=\"0\" width=\"20\" height=\"130\" stroke=\"transparent\" stroke-width=\"12\" fill=\"transparent\"></rect><text x=\"957.2222222222222\" y=\"20\" fill=\"transparent\" stroke=\"transparent\" font-size=\"30px\">2</text></g><g class=\"vert-line\"><rect x=\"990.0\" y=\"0\" width=\"20\" height=\"130\" stroke=\"transparent\" stroke-width=\"12\" fill=\"transparent\"></rect><text x=\"1010.0\" y=\"20\" fill=\"transparent\" stroke=\"transparent\" font-size=\"30px\">4</text></g></svg></div></td>\n",
       "  </tr>\n",
       "  <tr>\n",
       "    <th class=\"gt_row gt_left gt_stub\">Loan_Period</th>\n",
       "    <td class=\"gt_row gt_center\">42004</td>\n",
       "    <td class=\"gt_row gt_right\">39.75%</td>\n",
       "    <td class=\"gt_row gt_right\">3.891</td>\n",
       "    <td class=\"gt_row gt_right\">1.167</td>\n",
       "    <td class=\"gt_row gt_right\">1.000</td>\n",
       "    <td class=\"gt_row gt_right\">3.000</td>\n",
       "    <td class=\"gt_row gt_right\">4.000</td>\n",
       "    <td class=\"gt_row gt_right\">5.000</td>\n",
       "    <td class=\"gt_row gt_right\">6.000</td>\n",
       "    <td class=\"gt_row gt_right\">2.000</td>\n",
       "    <td class=\"gt_row gt_center\">0</td>\n",
       "    <td class=\"gt_row gt_center\"><div><svg role=\"img\" viewBox=\"0 0 400 130\" style=\"height: 2em; margin-left: auto; margin-right: auto; font-size: inherit; overflow: visible; vertical-align: middle; position:relative;\"><defs><pattern id=\"area_pattern\" width=\"8\" height=\"8\" patternUnits=\"userSpaceOnUse\"><path class=\"pattern-line\" d=\"M 0,8 l 8,-8 M -1,1 l 4,-4 M 6,10 l 4,-4\" stroke=\"#FF0000\" stroke-width=\"1.5\" stroke-linecap=\"round\" shape-rendering=\"geometricPrecision\"></path></pattern></defs><style> text { font-family: ui-monospace, 'Cascadia Code', 'Source Code Pro', Menlo, Consolas, 'DejaVu Sans Mono', monospace; stroke-width: 0.15em; paint-order: stroke; stroke-linejoin: round; cursor: default; } .vert-line:hover rect { fill: #911EB4; fill-opacity: 40%; stroke: #FFFFFF60; color: red; } .vert-line:hover text { stroke: white; fill: #212427; } .horizontal-line:hover text {stroke: white; fill: #212427; } .ref-line:hover rect { stroke: #FFFFFF60; } .ref-line:hover line { stroke: #FF0000; } .ref-line:hover text { stroke: white; fill: #212427; } .y-axis-line:hover rect { fill: #EDEDED; fill-opacity: 60%; stroke: #FFFFFF60; color: red; } .y-axis-line:hover text { stroke: white; stroke-width: 0.20em; fill: #1A1C1F; } </style><line x1=\"22.5\" y1=\"115.0\" x2=\"377.5\" y2=\"115.0\" stroke=\"#BFBFBF\" stroke-width=\"4\"></line><rect x=\"30.0\" y=\"103.6747132648772\" width=\"40\" height=\"11.325286735122802\" stroke=\"#3290CC\" stroke-width=\"4\" fill=\"#3FB5FF\"></rect><rect x=\"90.0\" y=\"89.38299405512521\" width=\"40\" height=\"25.61700594487479\" stroke=\"#3290CC\" stroke-width=\"4\" fill=\"#3FB5FF\"></rect><rect x=\"150.0\" y=\"72.6112412177986\" width=\"40\" height=\"42.38875878220141\" stroke=\"#3290CC\" stroke-width=\"4\" fill=\"#3FB5FF\"></rect><rect x=\"210.00000000000003\" y=\"42.10622710622711\" width=\"40\" height=\"72.89377289377289\" stroke=\"#3290CC\" stroke-width=\"4\" fill=\"#3FB5FF\"></rect><rect x=\"270.0\" y=\"15.0\" width=\"40\" height=\"100.0\" stroke=\"#3290CC\" stroke-width=\"4\" fill=\"#3FB5FF\"></rect><rect x=\"330.0\" y=\"114.99399507596229\" width=\"40\" height=\"0.006004924037711135\" stroke=\"#3290CC\" stroke-width=\"4\" fill=\"#3FB5FF\"></rect><g class=\"y-axis-line\"><rect x=\"0\" y=\"0\" width=\"65\" height=\"130\" stroke=\"transparent\" stroke-width=\"0\" fill=\"transparent\"></rect><text x=\"0\" y=\"19.0\" fill=\"transparent\" stroke=\"transparent\" font-size=\"25\">16.7K</text><text x=\"0\" y=\"126.0\" fill=\"transparent\" stroke=\"transparent\" font-size=\"25\">0</text></g><g class=\"vert-line\"><rect x=\"40.0\" y=\"0\" width=\"20\" height=\"130\" stroke=\"transparent\" stroke-width=\"12\" fill=\"transparent\"></rect><text x=\"60.0\" y=\"20\" fill=\"transparent\" stroke=\"transparent\" font-size=\"30px\">1.89K</text></g><g class=\"vert-line\"><rect x=\"100.0\" y=\"0\" width=\"20\" height=\"130\" stroke=\"transparent\" stroke-width=\"12\" fill=\"transparent\"></rect><text x=\"120.0\" y=\"20\" fill=\"transparent\" stroke=\"transparent\" font-size=\"30px\">4.27K</text></g><g class=\"vert-line\"><rect x=\"160.0\" y=\"0\" width=\"20\" height=\"130\" stroke=\"transparent\" stroke-width=\"12\" fill=\"transparent\"></rect><text x=\"180.0\" y=\"20\" fill=\"transparent\" stroke=\"transparent\" font-size=\"30px\">7.06K</text></g><g class=\"vert-line\"><rect x=\"220.00000000000003\" y=\"0\" width=\"20\" height=\"130\" stroke=\"transparent\" stroke-width=\"12\" fill=\"transparent\"></rect><text x=\"240.00000000000003\" y=\"20\" fill=\"transparent\" stroke=\"transparent\" font-size=\"30px\">12.1K</text></g><g class=\"vert-line\"><rect x=\"280.0\" y=\"0\" width=\"20\" height=\"130\" stroke=\"transparent\" stroke-width=\"12\" fill=\"transparent\"></rect><text x=\"300.0\" y=\"20\" fill=\"transparent\" stroke=\"transparent\" font-size=\"30px\">16.7K</text></g><g class=\"vert-line\"><rect x=\"340.0\" y=\"0\" width=\"20\" height=\"130\" stroke=\"transparent\" stroke-width=\"12\" fill=\"transparent\"></rect><text x=\"360.0\" y=\"20\" fill=\"transparent\" stroke=\"transparent\" font-size=\"30px\">1</text></g></svg></div></td>\n",
       "  </tr>\n",
       "  <tr>\n",
       "    <th class=\"gt_row gt_left gt_stub\">Interest_Rate</th>\n",
       "    <td class=\"gt_row gt_center\">22276</td>\n",
       "    <td class=\"gt_row gt_right\">68.05%</td>\n",
       "    <td class=\"gt_row gt_right\">19.214</td>\n",
       "    <td class=\"gt_row gt_right\">5.847</td>\n",
       "    <td class=\"gt_row gt_right\">11.990</td>\n",
       "    <td class=\"gt_row gt_right\">15.250</td>\n",
       "    <td class=\"gt_row gt_right\">18.000</td>\n",
       "    <td class=\"gt_row gt_right\">20.000</td>\n",
       "    <td class=\"gt_row gt_right\">37.000</td>\n",
       "    <td class=\"gt_row gt_right\">4.750</td>\n",
       "    <td class=\"gt_row gt_center\">2378</td>\n",
       "    <td class=\"gt_row gt_center\"><div><svg role=\"img\" viewBox=\"0 0 1050 130\" style=\"height: 2em; margin-left: auto; margin-right: auto; font-size: inherit; overflow: visible; vertical-align: middle; position:relative;\"><defs><pattern id=\"area_pattern\" width=\"8\" height=\"8\" patternUnits=\"userSpaceOnUse\"><path class=\"pattern-line\" d=\"M 0,8 l 8,-8 M -1,1 l 4,-4 M 6,10 l 4,-4\" stroke=\"#FF0000\" stroke-width=\"1.5\" stroke-linecap=\"round\" shape-rendering=\"geometricPrecision\"></path></pattern></defs><style> text { font-family: ui-monospace, 'Cascadia Code', 'Source Code Pro', Menlo, Consolas, 'DejaVu Sans Mono', monospace; stroke-width: 0.15em; paint-order: stroke; stroke-linejoin: round; cursor: default; } .vert-line:hover rect { fill: #911EB4; fill-opacity: 40%; stroke: #FFFFFF60; color: red; } .vert-line:hover text { stroke: white; fill: #212427; } .horizontal-line:hover text {stroke: white; fill: #212427; } .ref-line:hover rect { stroke: #FFFFFF60; } .ref-line:hover line { stroke: #FF0000; } .ref-line:hover text { stroke: white; fill: #212427; } .y-axis-line:hover rect { fill: #EDEDED; fill-opacity: 60%; stroke: #FFFFFF60; color: red; } .y-axis-line:hover text { stroke: white; stroke-width: 0.20em; fill: #1A1C1F; } </style><line x1=\"22.5\" y1=\"115.0\" x2=\"1027.5\" y2=\"115.0\" stroke=\"#BFBFBF\" stroke-width=\"4\"></line><rect x=\"30.0\" y=\"97.59072117593018\" width=\"40\" height=\"17.409278824069816\" stroke=\"#3290CC\" stroke-width=\"4\" fill=\"#3FB5FF\"></rect><rect x=\"82.77777777777777\" y=\"51.79375287092329\" width=\"40\" height=\"63.20624712907671\" stroke=\"#3290CC\" stroke-width=\"4\" fill=\"#3FB5FF\"></rect><rect x=\"135.55555555555554\" y=\"15.0\" width=\"40\" height=\"100.0\" stroke=\"#3290CC\" stroke-width=\"4\" fill=\"#3FB5FF\"></rect><rect x=\"188.33333333333331\" y=\"58.98254478640331\" width=\"40\" height=\"56.01745521359669\" stroke=\"#3290CC\" stroke-width=\"4\" fill=\"#3FB5FF\"></rect><rect x=\"241.1111111111111\" y=\"81.92696371152962\" width=\"40\" height=\"33.07303628847038\" stroke=\"#3290CC\" stroke-width=\"4\" fill=\"#3FB5FF\"></rect><rect x=\"293.8888888888889\" y=\"58.84474046853468\" width=\"40\" height=\"56.15525953146532\" stroke=\"#3290CC\" stroke-width=\"4\" fill=\"#3FB5FF\"></rect><rect x=\"346.66666666666663\" y=\"23.819476343592104\" width=\"40\" height=\"91.1805236564079\" stroke=\"#3290CC\" stroke-width=\"4\" fill=\"#3FB5FF\"></rect><rect x=\"399.4444444444444\" y=\"114.65548920532842\" width=\"40\" height=\"0.34451079467157797\" stroke=\"#3290CC\" stroke-width=\"4\" fill=\"#3FB5FF\"></rect><rect x=\"452.2222222222222\" y=\"113.43821773082223\" width=\"40\" height=\"1.561782269177769\" stroke=\"#3290CC\" stroke-width=\"4\" fill=\"#3FB5FF\"></rect><rect x=\"505.0\" y=\"101.54111162149746\" width=\"40\" height=\"13.458888378502536\" stroke=\"#3290CC\" stroke-width=\"4\" fill=\"#3FB5FF\"></rect><rect x=\"557.7777777777778\" y=\"113.69085898024805\" width=\"40\" height=\"1.309141019751948\" stroke=\"#3290CC\" stroke-width=\"4\" fill=\"#3FB5FF\"></rect><rect x=\"610.5555555555555\" y=\"114.72439136426274\" width=\"40\" height=\"0.2756086357372567\" stroke=\"#3290CC\" stroke-width=\"4\" fill=\"#3FB5FF\"></rect><rect x=\"663.3333333333333\" y=\"110.77400091869546\" width=\"40\" height=\"4.225999081304536\" stroke=\"#3290CC\" stroke-width=\"4\" fill=\"#3FB5FF\"></rect><rect x=\"716.1111111111111\" y=\"96.69499310978411\" width=\"40\" height=\"18.305006890215893\" stroke=\"#3290CC\" stroke-width=\"4\" fill=\"#3FB5FF\"></rect><rect x=\"768.8888888888888\" y=\"114.26504363803399\" width=\"40\" height=\"0.7349563619660131\" stroke=\"#3290CC\" stroke-width=\"4\" fill=\"#3FB5FF\"></rect><rect x=\"821.6666666666666\" y=\"82.15663757464401\" width=\"40\" height=\"32.84336242535599\" stroke=\"#3290CC\" stroke-width=\"4\" fill=\"#3FB5FF\"></rect><rect x=\"874.4444444444443\" y=\"108.33945796968305\" width=\"40\" height=\"6.660542030316947\" stroke=\"#3290CC\" stroke-width=\"4\" fill=\"#3FB5FF\"></rect><rect x=\"927.2222222222222\" y=\"105.65227377124484\" width=\"40\" height=\"9.347726228755164\" stroke=\"#3290CC\" stroke-width=\"4\" fill=\"#3FB5FF\"></rect><rect x=\"980.0\" y=\"109.48782728525494\" width=\"40\" height=\"5.512172714745063\" stroke=\"#3290CC\" stroke-width=\"4\" fill=\"#3FB5FF\"></rect><g class=\"y-axis-line\"><rect x=\"0\" y=\"0\" width=\"65\" height=\"130\" stroke=\"transparent\" stroke-width=\"0\" fill=\"transparent\"></rect><text x=\"0\" y=\"19.0\" fill=\"transparent\" stroke=\"transparent\" font-size=\"25\">4.35K</text><text x=\"0\" y=\"126.0\" fill=\"transparent\" stroke=\"transparent\" font-size=\"25\">0</text></g><g class=\"vert-line\"><rect x=\"40.0\" y=\"0\" width=\"20\" height=\"130\" stroke=\"transparent\" stroke-width=\"12\" fill=\"transparent\"></rect><text x=\"60.0\" y=\"20\" fill=\"transparent\" stroke=\"transparent\" font-size=\"30px\">758</text></g><g class=\"vert-line\"><rect x=\"92.77777777777777\" y=\"0\" width=\"20\" height=\"130\" stroke=\"transparent\" stroke-width=\"12\" fill=\"transparent\"></rect><text x=\"112.77777777777777\" y=\"20\" fill=\"transparent\" stroke=\"transparent\" font-size=\"30px\">2.75K</text></g><g class=\"vert-line\"><rect x=\"145.55555555555554\" y=\"0\" width=\"20\" height=\"130\" stroke=\"transparent\" stroke-width=\"12\" fill=\"transparent\"></rect><text x=\"165.55555555555554\" y=\"20\" fill=\"transparent\" stroke=\"transparent\" font-size=\"30px\">4.35K</text></g><g class=\"vert-line\"><rect x=\"198.33333333333331\" y=\"0\" width=\"20\" height=\"130\" stroke=\"transparent\" stroke-width=\"12\" fill=\"transparent\"></rect><text x=\"218.33333333333331\" y=\"20\" fill=\"transparent\" stroke=\"transparent\" font-size=\"30px\">2.44K</text></g><g class=\"vert-line\"><rect x=\"251.1111111111111\" y=\"0\" width=\"20\" height=\"130\" stroke=\"transparent\" stroke-width=\"12\" fill=\"transparent\"></rect><text x=\"271.1111111111111\" y=\"20\" fill=\"transparent\" stroke=\"transparent\" font-size=\"30px\">1.44K</text></g><g class=\"vert-line\"><rect x=\"303.8888888888889\" y=\"0\" width=\"20\" height=\"130\" stroke=\"transparent\" stroke-width=\"12\" fill=\"transparent\"></rect><text x=\"323.8888888888889\" y=\"20\" fill=\"transparent\" stroke=\"transparent\" font-size=\"30px\">2.44K</text></g><g class=\"vert-line\"><rect x=\"356.66666666666663\" y=\"0\" width=\"20\" height=\"130\" stroke=\"transparent\" stroke-width=\"12\" fill=\"transparent\"></rect><text x=\"376.66666666666663\" y=\"20\" fill=\"transparent\" stroke=\"transparent\" font-size=\"30px\">3.97K</text></g><g class=\"vert-line\"><rect x=\"409.4444444444444\" y=\"0\" width=\"20\" height=\"130\" stroke=\"transparent\" stroke-width=\"12\" fill=\"transparent\"></rect><text x=\"429.4444444444444\" y=\"20\" fill=\"transparent\" stroke=\"transparent\" font-size=\"30px\">15</text></g><g class=\"vert-line\"><rect x=\"462.2222222222222\" y=\"0\" width=\"20\" height=\"130\" stroke=\"transparent\" stroke-width=\"12\" fill=\"transparent\"></rect><text x=\"482.2222222222222\" y=\"20\" fill=\"transparent\" stroke=\"transparent\" font-size=\"30px\">68</text></g><g class=\"vert-line\"><rect x=\"515.0\" y=\"0\" width=\"20\" height=\"130\" stroke=\"transparent\" stroke-width=\"12\" fill=\"transparent\"></rect><text x=\"535.0\" y=\"20\" fill=\"transparent\" stroke=\"transparent\" font-size=\"30px\">586</text></g><g class=\"vert-line\"><rect x=\"567.7777777777778\" y=\"0\" width=\"20\" height=\"130\" stroke=\"transparent\" stroke-width=\"12\" fill=\"transparent\"></rect><text x=\"587.7777777777778\" y=\"20\" fill=\"transparent\" stroke=\"transparent\" font-size=\"30px\">57</text></g><g class=\"vert-line\"><rect x=\"620.5555555555555\" y=\"0\" width=\"20\" height=\"130\" stroke=\"transparent\" stroke-width=\"12\" fill=\"transparent\"></rect><text x=\"640.5555555555555\" y=\"20\" fill=\"transparent\" stroke=\"transparent\" font-size=\"30px\">12</text></g><g class=\"vert-line\"><rect x=\"673.3333333333333\" y=\"0\" width=\"20\" height=\"130\" stroke=\"transparent\" stroke-width=\"12\" fill=\"transparent\"></rect><text x=\"693.3333333333333\" y=\"20\" fill=\"transparent\" stroke=\"transparent\" font-size=\"30px\">184</text></g><g class=\"vert-line\"><rect x=\"726.1111111111111\" y=\"0\" width=\"20\" height=\"130\" stroke=\"transparent\" stroke-width=\"12\" fill=\"transparent\"></rect><text x=\"746.1111111111111\" y=\"20\" fill=\"transparent\" stroke=\"transparent\" font-size=\"30px\">797</text></g><g class=\"vert-line\"><rect x=\"778.8888888888888\" y=\"0\" width=\"20\" height=\"130\" stroke=\"transparent\" stroke-width=\"12\" fill=\"transparent\"></rect><text x=\"798.8888888888888\" y=\"20\" fill=\"transparent\" stroke=\"transparent\" font-size=\"30px\">32</text></g><g class=\"vert-line\"><rect x=\"831.6666666666666\" y=\"0\" width=\"20\" height=\"130\" stroke=\"transparent\" stroke-width=\"12\" fill=\"transparent\"></rect><text x=\"851.6666666666666\" y=\"20\" fill=\"transparent\" stroke=\"transparent\" font-size=\"30px\">1.43K</text></g><g class=\"vert-line\"><rect x=\"884.4444444444443\" y=\"0\" width=\"20\" height=\"130\" stroke=\"transparent\" stroke-width=\"12\" fill=\"transparent\"></rect><text x=\"904.4444444444443\" y=\"20\" fill=\"transparent\" stroke=\"transparent\" font-size=\"30px\">290</text></g><g class=\"vert-line\"><rect x=\"937.2222222222222\" y=\"0\" width=\"20\" height=\"130\" stroke=\"transparent\" stroke-width=\"12\" fill=\"transparent\"></rect><text x=\"957.2222222222222\" y=\"20\" fill=\"transparent\" stroke=\"transparent\" font-size=\"30px\">407</text></g><g class=\"vert-line\"><rect x=\"990.0\" y=\"0\" width=\"20\" height=\"130\" stroke=\"transparent\" stroke-width=\"12\" fill=\"transparent\"></rect><text x=\"1010.0\" y=\"20\" fill=\"transparent\" stroke=\"transparent\" font-size=\"30px\">240</text></g></svg></div></td>\n",
       "  </tr>\n",
       "  <tr>\n",
       "    <th class=\"gt_row gt_left gt_stub\">EMI</th>\n",
       "    <td class=\"gt_row gt_center\">22276</td>\n",
       "    <td class=\"gt_row gt_right\">68.05%</td>\n",
       "    <td class=\"gt_row gt_right\">1,101.466</td>\n",
       "    <td class=\"gt_row gt_right\">752.661</td>\n",
       "    <td class=\"gt_row gt_right\">118.000</td>\n",
       "    <td class=\"gt_row gt_right\">649.000</td>\n",
       "    <td class=\"gt_row gt_right\">941.000</td>\n",
       "    <td class=\"gt_row gt_right\">1,295.000</td>\n",
       "    <td class=\"gt_row gt_right\">13,556.000</td>\n",
       "    <td class=\"gt_row gt_right\">646.000</td>\n",
       "    <td class=\"gt_row gt_center\">1081</td>\n",
       "    <td class=\"gt_row gt_center\"><div><svg role=\"img\" viewBox=\"0 0 800 130\" style=\"height: 2em; margin-left: auto; margin-right: auto; font-size: inherit; overflow: visible; vertical-align: middle; position:relative;\"><defs><pattern id=\"area_pattern\" width=\"8\" height=\"8\" patternUnits=\"userSpaceOnUse\"><path class=\"pattern-line\" d=\"M 0,8 l 8,-8 M -1,1 l 4,-4 M 6,10 l 4,-4\" stroke=\"#FF0000\" stroke-width=\"1.5\" stroke-linecap=\"round\" shape-rendering=\"geometricPrecision\"></path></pattern></defs><style> text { font-family: ui-monospace, 'Cascadia Code', 'Source Code Pro', Menlo, Consolas, 'DejaVu Sans Mono', monospace; stroke-width: 0.15em; paint-order: stroke; stroke-linejoin: round; cursor: default; } .vert-line:hover rect { fill: #911EB4; fill-opacity: 40%; stroke: #FFFFFF60; color: red; } .vert-line:hover text { stroke: white; fill: #212427; } .horizontal-line:hover text {stroke: white; fill: #212427; } .ref-line:hover rect { stroke: #FFFFFF60; } .ref-line:hover line { stroke: #FF0000; } .ref-line:hover text { stroke: white; fill: #212427; } .y-axis-line:hover rect { fill: #EDEDED; fill-opacity: 60%; stroke: #FFFFFF60; color: red; } .y-axis-line:hover text { stroke: white; stroke-width: 0.20em; fill: #1A1C1F; } </style><line x1=\"22.5\" y1=\"115.0\" x2=\"777.5\" y2=\"115.0\" stroke=\"#BFBFBF\" stroke-width=\"4\"></line><rect x=\"30.0\" y=\"32.29194053999393\" width=\"40\" height=\"82.70805946000607\" stroke=\"#3290CC\" stroke-width=\"4\" fill=\"#3FB5FF\"></rect><rect x=\"83.84615384615384\" y=\"15.0\" width=\"40\" height=\"100.0\" stroke=\"#3290CC\" stroke-width=\"4\" fill=\"#3FB5FF\"></rect><rect x=\"137.69230769230768\" y=\"90.62948730913136\" width=\"40\" height=\"24.370512690868637\" stroke=\"#3290CC\" stroke-width=\"4\" fill=\"#3FB5FF\"></rect><rect x=\"191.53846153846155\" y=\"105.10011123470522\" width=\"40\" height=\"9.899888765294776\" stroke=\"#3290CC\" stroke-width=\"4\" fill=\"#3FB5FF\"></rect><rect x=\"245.38461538461536\" y=\"111.25846900596623\" width=\"40\" height=\"3.7415309940337664\" stroke=\"#3290CC\" stroke-width=\"4\" fill=\"#3FB5FF\"></rect><rect x=\"299.2307692307692\" y=\"112.34047932045708\" width=\"40\" height=\"2.659520679542922\" stroke=\"#3290CC\" stroke-width=\"4\" fill=\"#3FB5FF\"></rect><rect x=\"353.0769230769231\" y=\"113.92810193143897\" width=\"40\" height=\"1.0718980685610262\" stroke=\"#3290CC\" stroke-width=\"4\" fill=\"#3FB5FF\"></rect><rect x=\"406.92307692307696\" y=\"114.53483668722824\" width=\"40\" height=\"0.4651633127717645\" stroke=\"#3290CC\" stroke-width=\"4\" fill=\"#3FB5FF\"></rect><rect x=\"460.7692307692308\" y=\"114.82809181919305\" width=\"40\" height=\"0.1719081808069518\" stroke=\"#3290CC\" stroke-width=\"4\" fill=\"#3FB5FF\"></rect><rect x=\"514.6153846153845\" y=\"114.87865304884215\" width=\"40\" height=\"0.12134695115784666\" stroke=\"#3290CC\" stroke-width=\"4\" fill=\"#3FB5FF\"></rect><rect x=\"568.4615384615385\" y=\"114.98988775407018\" width=\"40\" height=\"0.010112245929818187\" stroke=\"#3290CC\" stroke-width=\"4\" fill=\"#3FB5FF\"></rect><rect x=\"622.3076923076924\" y=\"114.98988775407018\" width=\"40\" height=\"0.010112245929818187\" stroke=\"#3290CC\" stroke-width=\"4\" fill=\"#3FB5FF\"></rect><rect x=\"676.1538461538462\" y=\"114.98988775407018\" width=\"40\" height=\"0.010112245929818187\" stroke=\"#3290CC\" stroke-width=\"4\" fill=\"#3FB5FF\"></rect><rect x=\"730.0\" y=\"114.97977550814035\" width=\"40\" height=\"0.020224491859650584\" stroke=\"#3290CC\" stroke-width=\"4\" fill=\"#3FB5FF\"></rect><g class=\"y-axis-line\"><rect x=\"0\" y=\"0\" width=\"65\" height=\"130\" stroke=\"transparent\" stroke-width=\"0\" fill=\"transparent\"></rect><text x=\"0\" y=\"19.0\" fill=\"transparent\" stroke=\"transparent\" font-size=\"25\">9.89K</text><text x=\"0\" y=\"126.0\" fill=\"transparent\" stroke=\"transparent\" font-size=\"25\">0</text></g><g class=\"vert-line\"><rect x=\"40.0\" y=\"0\" width=\"20\" height=\"130\" stroke=\"transparent\" stroke-width=\"12\" fill=\"transparent\"></rect><text x=\"60.0\" y=\"20\" fill=\"transparent\" stroke=\"transparent\" font-size=\"30px\">8.18K</text></g><g class=\"vert-line\"><rect x=\"93.84615384615384\" y=\"0\" width=\"20\" height=\"130\" stroke=\"transparent\" stroke-width=\"12\" fill=\"transparent\"></rect><text x=\"113.84615384615384\" y=\"20\" fill=\"transparent\" stroke=\"transparent\" font-size=\"30px\">9.89K</text></g><g class=\"vert-line\"><rect x=\"147.69230769230768\" y=\"0\" width=\"20\" height=\"130\" stroke=\"transparent\" stroke-width=\"12\" fill=\"transparent\"></rect><text x=\"167.69230769230768\" y=\"20\" fill=\"transparent\" stroke=\"transparent\" font-size=\"30px\">2.41K</text></g><g class=\"vert-line\"><rect x=\"201.53846153846155\" y=\"0\" width=\"20\" height=\"130\" stroke=\"transparent\" stroke-width=\"12\" fill=\"transparent\"></rect><text x=\"221.53846153846155\" y=\"20\" fill=\"transparent\" stroke=\"transparent\" font-size=\"30px\">979</text></g><g class=\"vert-line\"><rect x=\"255.38461538461536\" y=\"0\" width=\"20\" height=\"130\" stroke=\"transparent\" stroke-width=\"12\" fill=\"transparent\"></rect><text x=\"275.38461538461536\" y=\"20\" fill=\"transparent\" stroke=\"transparent\" font-size=\"30px\">370</text></g><g class=\"vert-line\"><rect x=\"309.2307692307692\" y=\"0\" width=\"20\" height=\"130\" stroke=\"transparent\" stroke-width=\"12\" fill=\"transparent\"></rect><text x=\"329.2307692307692\" y=\"20\" fill=\"transparent\" stroke=\"transparent\" font-size=\"30px\">263</text></g><g class=\"vert-line\"><rect x=\"363.0769230769231\" y=\"0\" width=\"20\" height=\"130\" stroke=\"transparent\" stroke-width=\"12\" fill=\"transparent\"></rect><text x=\"383.0769230769231\" y=\"20\" fill=\"transparent\" stroke=\"transparent\" font-size=\"30px\">106</text></g><g class=\"vert-line\"><rect x=\"416.92307692307696\" y=\"0\" width=\"20\" height=\"130\" stroke=\"transparent\" stroke-width=\"12\" fill=\"transparent\"></rect><text x=\"436.92307692307696\" y=\"20\" fill=\"transparent\" stroke=\"transparent\" font-size=\"30px\">46</text></g><g class=\"vert-line\"><rect x=\"470.7692307692308\" y=\"0\" width=\"20\" height=\"130\" stroke=\"transparent\" stroke-width=\"12\" fill=\"transparent\"></rect><text x=\"490.7692307692308\" y=\"20\" fill=\"transparent\" stroke=\"transparent\" font-size=\"30px\">17</text></g><g class=\"vert-line\"><rect x=\"524.6153846153845\" y=\"0\" width=\"20\" height=\"130\" stroke=\"transparent\" stroke-width=\"12\" fill=\"transparent\"></rect><text x=\"544.6153846153845\" y=\"20\" fill=\"transparent\" stroke=\"transparent\" font-size=\"30px\">12</text></g><g class=\"vert-line\"><rect x=\"578.4615384615385\" y=\"0\" width=\"20\" height=\"130\" stroke=\"transparent\" stroke-width=\"12\" fill=\"transparent\"></rect><text x=\"598.4615384615385\" y=\"20\" fill=\"transparent\" stroke=\"transparent\" font-size=\"30px\">1</text></g><g class=\"vert-line\"><rect x=\"632.3076923076924\" y=\"0\" width=\"20\" height=\"130\" stroke=\"transparent\" stroke-width=\"12\" fill=\"transparent\"></rect><text x=\"652.3076923076924\" y=\"20\" fill=\"transparent\" stroke=\"transparent\" font-size=\"30px\">1</text></g><g class=\"vert-line\"><rect x=\"686.1538461538462\" y=\"0\" width=\"20\" height=\"130\" stroke=\"transparent\" stroke-width=\"12\" fill=\"transparent\"></rect><text x=\"706.1538461538462\" y=\"20\" fill=\"transparent\" stroke=\"transparent\" font-size=\"30px\">1</text></g><g class=\"vert-line\"><rect x=\"740.0\" y=\"0\" width=\"20\" height=\"130\" stroke=\"transparent\" stroke-width=\"12\" fill=\"transparent\"></rect><text x=\"760.0\" y=\"20\" fill=\"transparent\" stroke=\"transparent\" font-size=\"30px\">2</text></g></svg></div></td>\n",
       "  </tr>\n",
       "  <tr>\n",
       "    <th class=\"gt_row gt_left gt_stub\">Var1</th>\n",
       "    <td class=\"gt_row gt_center\">69713</td>\n",
       "    <td class=\"gt_row gt_right\">0.00%</td>\n",
       "    <td class=\"gt_row gt_right\">3.948</td>\n",
       "    <td class=\"gt_row gt_right\">3.819</td>\n",
       "    <td class=\"gt_row gt_right\">0.000</td>\n",
       "    <td class=\"gt_row gt_right\">0.000</td>\n",
       "    <td class=\"gt_row gt_right\">2.000</td>\n",
       "    <td class=\"gt_row gt_right\">7.000</td>\n",
       "    <td class=\"gt_row gt_right\">10.000</td>\n",
       "    <td class=\"gt_row gt_right\">7.000</td>\n",
       "    <td class=\"gt_row gt_center\">0</td>\n",
       "    <td class=\"gt_row gt_center\"><div><svg role=\"img\" viewBox=\"0 0 350 130\" style=\"height: 2em; margin-left: auto; margin-right: auto; font-size: inherit; overflow: visible; vertical-align: middle; position:relative;\"><defs><pattern id=\"area_pattern\" width=\"8\" height=\"8\" patternUnits=\"userSpaceOnUse\"><path class=\"pattern-line\" d=\"M 0,8 l 8,-8 M -1,1 l 4,-4 M 6,10 l 4,-4\" stroke=\"#FF0000\" stroke-width=\"1.5\" stroke-linecap=\"round\" shape-rendering=\"geometricPrecision\"></path></pattern></defs><style> text { font-family: ui-monospace, 'Cascadia Code', 'Source Code Pro', Menlo, Consolas, 'DejaVu Sans Mono', monospace; stroke-width: 0.15em; paint-order: stroke; stroke-linejoin: round; cursor: default; } .vert-line:hover rect { fill: #911EB4; fill-opacity: 40%; stroke: #FFFFFF60; color: red; } .vert-line:hover text { stroke: white; fill: #212427; } .horizontal-line:hover text {stroke: white; fill: #212427; } .ref-line:hover rect { stroke: #FFFFFF60; } .ref-line:hover line { stroke: #FF0000; } .ref-line:hover text { stroke: white; fill: #212427; } .y-axis-line:hover rect { fill: #EDEDED; fill-opacity: 60%; stroke: #FFFFFF60; color: red; } .y-axis-line:hover text { stroke: white; stroke-width: 0.20em; fill: #1A1C1F; } </style><line x1=\"22.5\" y1=\"115.0\" x2=\"327.5\" y2=\"115.0\" stroke=\"#BFBFBF\" stroke-width=\"4\"></line><rect x=\"30.0\" y=\"15.0\" width=\"40\" height=\"100.0\" stroke=\"#3290CC\" stroke-width=\"4\" fill=\"#3FB5FF\"></rect><rect x=\"92.5\" y=\"57.66775356100909\" width=\"40\" height=\"57.33224643899091\" stroke=\"#3290CC\" stroke-width=\"4\" fill=\"#3FB5FF\"></rect><rect x=\"155.0\" y=\"82.07568216921229\" width=\"40\" height=\"32.924317830787714\" stroke=\"#3290CC\" stroke-width=\"4\" fill=\"#3FB5FF\"></rect><rect x=\"217.5\" y=\"63.73863051312854\" width=\"40\" height=\"51.26136948687146\" stroke=\"#3290CC\" stroke-width=\"4\" fill=\"#3FB5FF\"></rect><rect x=\"280.0\" y=\"57.423202333962585\" width=\"40\" height=\"57.576797666037415\" stroke=\"#3290CC\" stroke-width=\"4\" fill=\"#3FB5FF\"></rect><g class=\"y-axis-line\"><rect x=\"0\" y=\"0\" width=\"65\" height=\"130\" stroke=\"transparent\" stroke-width=\"0\" fill=\"transparent\"></rect><text x=\"0\" y=\"19.0\" fill=\"transparent\" stroke=\"transparent\" font-size=\"25\">23.3K</text><text x=\"0\" y=\"126.0\" fill=\"transparent\" stroke=\"transparent\" font-size=\"25\">0</text></g><g class=\"vert-line\"><rect x=\"40.0\" y=\"0\" width=\"20\" height=\"130\" stroke=\"transparent\" stroke-width=\"12\" fill=\"transparent\"></rect><text x=\"60.0\" y=\"20\" fill=\"transparent\" stroke=\"transparent\" font-size=\"30px\">23.3K</text></g><g class=\"vert-line\"><rect x=\"102.5\" y=\"0\" width=\"20\" height=\"130\" stroke=\"transparent\" stroke-width=\"12\" fill=\"transparent\"></rect><text x=\"122.5\" y=\"20\" fill=\"transparent\" stroke=\"transparent\" font-size=\"30px\">13.4K</text></g><g class=\"vert-line\"><rect x=\"165.0\" y=\"0\" width=\"20\" height=\"130\" stroke=\"transparent\" stroke-width=\"12\" fill=\"transparent\"></rect><text x=\"185.0\" y=\"20\" fill=\"transparent\" stroke=\"transparent\" font-size=\"30px\">7.67K</text></g><g class=\"vert-line\"><rect x=\"227.5\" y=\"0\" width=\"20\" height=\"130\" stroke=\"transparent\" stroke-width=\"12\" fill=\"transparent\"></rect><text x=\"247.5\" y=\"20\" fill=\"transparent\" stroke=\"transparent\" font-size=\"30px\">11.9K</text></g><g class=\"vert-line\"><rect x=\"290.0\" y=\"0\" width=\"20\" height=\"130\" stroke=\"transparent\" stroke-width=\"12\" fill=\"transparent\"></rect><text x=\"310.0\" y=\"20\" fill=\"transparent\" stroke=\"transparent\" font-size=\"30px\">13.4K</text></g></svg></div></td>\n",
       "  </tr>\n",
       "  <tr>\n",
       "    <th class=\"gt_row gt_left gt_stub\">Approved</th>\n",
       "    <td class=\"gt_row gt_center\">69713</td>\n",
       "    <td class=\"gt_row gt_right\">0.00%</td>\n",
       "    <td class=\"gt_row gt_right\">0.015</td>\n",
       "    <td class=\"gt_row gt_right\">0.120</td>\n",
       "    <td class=\"gt_row gt_right\">0.000</td>\n",
       "    <td class=\"gt_row gt_right\">0.000</td>\n",
       "    <td class=\"gt_row gt_right\">0.000</td>\n",
       "    <td class=\"gt_row gt_right\">0.000</td>\n",
       "    <td class=\"gt_row gt_right\">1.000</td>\n",
       "    <td class=\"gt_row gt_right\">0.000</td>\n",
       "    <td class=\"gt_row gt_center\">1020</td>\n",
       "    <td class=\"gt_row gt_center\"><div><svg role=\"img\" viewBox=\"0 0 200 130\" style=\"height: 2em; margin-left: auto; margin-right: auto; font-size: inherit; overflow: visible; vertical-align: middle; position:relative;\"><defs><pattern id=\"area_pattern\" width=\"8\" height=\"8\" patternUnits=\"userSpaceOnUse\"><path class=\"pattern-line\" d=\"M 0,8 l 8,-8 M -1,1 l 4,-4 M 6,10 l 4,-4\" stroke=\"#FF0000\" stroke-width=\"1.5\" stroke-linecap=\"round\" shape-rendering=\"geometricPrecision\"></path></pattern></defs><style> text { font-family: ui-monospace, 'Cascadia Code', 'Source Code Pro', Menlo, Consolas, 'DejaVu Sans Mono', monospace; stroke-width: 0.15em; paint-order: stroke; stroke-linejoin: round; cursor: default; } .vert-line:hover rect { fill: #911EB4; fill-opacity: 40%; stroke: #FFFFFF60; color: red; } .vert-line:hover text { stroke: white; fill: #212427; } .horizontal-line:hover text {stroke: white; fill: #212427; } .ref-line:hover rect { stroke: #FFFFFF60; } .ref-line:hover line { stroke: #FF0000; } .ref-line:hover text { stroke: white; fill: #212427; } .y-axis-line:hover rect { fill: #EDEDED; fill-opacity: 60%; stroke: #FFFFFF60; color: red; } .y-axis-line:hover text { stroke: white; stroke-width: 0.20em; fill: #1A1C1F; } </style><line x1=\"22.5\" y1=\"115.0\" x2=\"177.5\" y2=\"115.0\" stroke=\"#BFBFBF\" stroke-width=\"4\"></line><rect x=\"30.0\" y=\"15.0\" width=\"40\" height=\"100.0\" stroke=\"#3290CC\" stroke-width=\"4\" fill=\"#3FB5FF\"></rect><rect x=\"130.0\" y=\"113.51513254625654\" width=\"40\" height=\"1.4848674537434619\" stroke=\"#3290CC\" stroke-width=\"4\" fill=\"#3FB5FF\"></rect><g class=\"y-axis-line\"><rect x=\"0\" y=\"0\" width=\"65\" height=\"130\" stroke=\"transparent\" stroke-width=\"0\" fill=\"transparent\"></rect><text x=\"0\" y=\"19.0\" fill=\"transparent\" stroke=\"transparent\" font-size=\"25\">68.7K</text><text x=\"0\" y=\"126.0\" fill=\"transparent\" stroke=\"transparent\" font-size=\"25\">0</text></g><g class=\"vert-line\"><rect x=\"40.0\" y=\"0\" width=\"20\" height=\"130\" stroke=\"transparent\" stroke-width=\"12\" fill=\"transparent\"></rect><text x=\"60.0\" y=\"20\" fill=\"transparent\" stroke=\"transparent\" font-size=\"30px\">68.7K</text></g><g class=\"vert-line\"><rect x=\"140.0\" y=\"0\" width=\"20\" height=\"130\" stroke=\"transparent\" stroke-width=\"12\" fill=\"transparent\"></rect><text x=\"160.0\" y=\"20\" fill=\"transparent\" stroke=\"transparent\" font-size=\"30px\">1.02K</text></g></svg></div></td>\n",
       "  </tr>\n",
       "</tbody>\n",
       "\n",
       "\n",
       "</table>\n",
       "\n",
       "</div>\n",
       "        "
      ],
      "text/plain": [
       "GT(_tbl_data=shape: (9, 13)\n",
       "┌────────────┬────────────┬──────────┬────────────┬───┬──────────┬─────────┬───────────┬───────────┐\n",
       "│ column     ┆ non_null_c ┆ null%    ┆ mean       ┆ … ┆ max      ┆ IQR     ┆ outlier_c ┆ histogram │\n",
       "│ ---        ┆ nt         ┆ ---      ┆ ---        ┆   ┆ ---      ┆ ---     ┆ nt        ┆ ---       │\n",
       "│ str        ┆ ---        ┆ f64      ┆ f64        ┆   ┆ f64      ┆ f64     ┆ ---       ┆ struct[1] │\n",
       "│            ┆ u32        ┆          ┆            ┆   ┆          ┆         ┆ u32       ┆           │\n",
       "╞════════════╪════════════╪══════════╪════════════╪═══╪══════════╪═════════╪═══════════╪═══════════╡\n",
       "│ Employer_C ┆ 65415      ┆ 0.061653 ┆ 3.720187   ┆ … ┆ 4.0      ┆ 0.0     ┆ 7833      ┆ {[4258,   │\n",
       "│ ategory2   ┆            ┆          ┆            ┆   ┆          ┆         ┆           ┆ 1955, …   │\n",
       "│            ┆            ┆          ┆            ┆   ┆          ┆         ┆           ┆ 57582]}   │\n",
       "│ Monthly_In ┆ 69713      ┆ 0.0      ┆ 5622.2832  ┆ … ┆ 3.8384e7 ┆ 2350.0  ┆ 3920      ┆ {[69699,  │\n",
       "│ come       ┆            ┆          ┆            ┆   ┆          ┆         ┆           ┆ 5, … 1]}  │\n",
       "│ Existing_E ┆ 69662      ┆ 0.000732 ┆ 360.928751 ┆ … ┆ 545436.5 ┆ 350.0   ┆ 6549      ┆ {[69655,  │\n",
       "│ MI         ┆            ┆          ┆            ┆   ┆          ┆         ┆           ┆ 5, … 1]}  │\n",
       "│ Loan_Amoun ┆ 42004      ┆ 0.397472 ┆ 39429.9828 ┆ … ┆ 300000.0 ┆ 30000.0 ┆ 1547      ┆ {[8646,   │\n",
       "│ t          ┆            ┆          ┆ 59         ┆   ┆          ┆         ┆           ┆ 15019, …  │\n",
       "│            ┆            ┆          ┆            ┆   ┆          ┆         ┆           ┆ 4]}       │\n",
       "│ Loan_Perio ┆ 42004      ┆ 0.397472 ┆ 3.890629   ┆ … ┆ 6.0      ┆ 2.0     ┆ 0         ┆ {[1886,   │\n",
       "│ d          ┆            ┆          ┆            ┆   ┆          ┆         ┆           ┆ 4266, …   │\n",
       "│            ┆            ┆          ┆            ┆   ┆          ┆         ┆           ┆ 1]}       │\n",
       "│ Interest_R ┆ 22276      ┆ 0.680461 ┆ 19.21357   ┆ … ┆ 37.0     ┆ 4.75    ┆ 2378      ┆ {[758,    │\n",
       "│ ate        ┆            ┆          ┆            ┆   ┆          ┆         ┆           ┆ 2752, …   │\n",
       "│            ┆            ┆          ┆            ┆   ┆          ┆         ┆           ┆ 240]}     │\n",
       "│ EMI        ┆ 22276      ┆ 0.680461 ┆ 1101.46624 ┆ … ┆ 13556.0  ┆ 646.0   ┆ 1081      ┆ {[8179,   │\n",
       "│            ┆            ┆          ┆ 2          ┆   ┆          ┆         ┆           ┆ 9889, …   │\n",
       "│            ┆            ┆          ┆            ┆   ┆          ┆         ┆           ┆ 2]}       │\n",
       "│ Var1       ┆ 69713      ┆ 0.0      ┆ 3.948446   ┆ … ┆ 10.0     ┆ 7.0     ┆ 0         ┆ {[23308,  │\n",
       "│            ┆            ┆          ┆            ┆   ┆          ┆         ┆           ┆ 13363, …  │\n",
       "│            ┆            ┆          ┆            ┆   ┆          ┆         ┆           ┆ 13420]}   │\n",
       "│ Approved   ┆ 69713      ┆ 0.0      ┆ 0.014631   ┆ … ┆ 1.0      ┆ 0.0     ┆ 1020      ┆ {[68693,  │\n",
       "│            ┆            ┆          ┆            ┆   ┆          ┆         ┆           ┆ 1020]}    │\n",
       "└────────────┴────────────┴──────────┴────────────┴───┴──────────┴─────────┴───────────┴───────────┘, _body=<great_tables._gt_data.Body object at 0x7a43340fa530>, _boxhead=Boxhead([ColInfo(var='column', type=<ColInfoTypeEnum.stub: 2>, column_label='column', column_align='left', column_width=None), ColInfo(var='non_null_cnt', type=<ColInfoTypeEnum.default: 1>, column_label='non_null_cnt', column_align='center', column_width=None), ColInfo(var='null%', type=<ColInfoTypeEnum.default: 1>, column_label='null%', column_align='right', column_width=None), ColInfo(var='mean', type=<ColInfoTypeEnum.default: 1>, column_label='mean', column_align='right', column_width=None), ColInfo(var='std', type=<ColInfoTypeEnum.default: 1>, column_label='std', column_align='right', column_width=None), ColInfo(var='min', type=<ColInfoTypeEnum.default: 1>, column_label='min', column_align='right', column_width=None), ColInfo(var='q1', type=<ColInfoTypeEnum.default: 1>, column_label='q1', column_align='right', column_width=None), ColInfo(var='median', type=<ColInfoTypeEnum.default: 1>, column_label='median', column_align='right', column_width=None), ColInfo(var='q3', type=<ColInfoTypeEnum.default: 1>, column_label='q3', column_align='right', column_width=None), ColInfo(var='max', type=<ColInfoTypeEnum.default: 1>, column_label='max', column_align='right', column_width=None), ColInfo(var='IQR', type=<ColInfoTypeEnum.default: 1>, column_label='IQR', column_align='right', column_width=None), ColInfo(var='outlier_cnt', type=<ColInfoTypeEnum.default: 1>, column_label='outlier_cnt', column_align='center', column_width=None), ColInfo(var='histogram', type=<ColInfoTypeEnum.default: 1>, column_label='histogram', column_align='center', column_width=None)]), _stub=<great_tables._gt_data.Stub object at 0x7a43340abe90>, _spanners=Spanners([]), _heading=Heading(title=None, subtitle=None, preheader=None), _stubhead='column', _source_notes=[], _footnotes=[], _styles=[], _locale=<great_tables._gt_data.Locale object at 0x7a43340fb4d0>, _formats=[<great_tables._gt_data.FormatInfo object at 0x7a43c06c00b0>, <great_tables._gt_data.FormatInfo object at 0x7a43340fc350>, <great_tables._gt_data.FormatInfo object at 0x7a43340fc470>], _substitutions=[], _options=Options(table_id=OptionsInfo(scss=False, category='table', type='value', value=None), table_caption=OptionsInfo(scss=False, category='table', type='value', value=None), table_width=OptionsInfo(scss=True, category='table', type='px', value='auto'), table_layout=OptionsInfo(scss=True, category='table', type='value', value='fixed'), table_margin_left=OptionsInfo(scss=True, category='table', type='px', value='auto'), table_margin_right=OptionsInfo(scss=True, category='table', type='px', value='auto'), table_background_color=OptionsInfo(scss=True, category='table', type='value', value='#FFFFFF'), table_additional_css=OptionsInfo(scss=False, category='table', type='values', value=[]), table_font_names=OptionsInfo(scss=False, category='table', type='values', value=['-apple-system', 'BlinkMacSystemFont', 'Segoe UI', 'Roboto', 'Oxygen', 'Ubuntu', 'Cantarell', 'Helvetica Neue', 'Fira Sans', 'Droid Sans', 'Arial', 'sans-serif']), table_font_size=OptionsInfo(scss=True, category='table', type='px', value='16px'), table_font_weight=OptionsInfo(scss=True, category='table', type='value', value='normal'), table_font_style=OptionsInfo(scss=True, category='table', type='value', value='normal'), table_font_color=OptionsInfo(scss=True, category='table', type='value', value='#333333'), table_font_color_light=OptionsInfo(scss=True, category='table', type='value', value='#FFFFFF'), table_border_top_include=OptionsInfo(scss=False, category='table', type='boolean', value=True), table_border_top_style=OptionsInfo(scss=True, category='table', type='value', value='solid'), table_border_top_width=OptionsInfo(scss=True, category='table', type='px', value='2px'), table_border_top_color=OptionsInfo(scss=True, category='table', type='value', value='#A8A8A8'), table_border_right_style=OptionsInfo(scss=True, category='table', type='value', value='none'), table_border_right_width=OptionsInfo(scss=True, category='table', type='px', value='2px'), table_border_right_color=OptionsInfo(scss=True, category='table', type='value', value='#D3D3D3'), table_border_bottom_include=OptionsInfo(scss=False, category='table', type='boolean', value=True), table_border_bottom_style=OptionsInfo(scss=True, category='table', type='value', value='solid'), table_border_bottom_width=OptionsInfo(scss=True, category='table', type='px', value='2px'), table_border_bottom_color=OptionsInfo(scss=True, category='table', type='value', value='#A8A8A8'), table_border_left_style=OptionsInfo(scss=True, category='table', type='value', value='none'), table_border_left_width=OptionsInfo(scss=True, category='table', type='px', value='2px'), table_border_left_color=OptionsInfo(scss=True, category='table', type='value', value='#D3D3D3'), heading_background_color=OptionsInfo(scss=True, category='heading', type='value', value=None), heading_align=OptionsInfo(scss=True, category='heading', type='value', value='center'), heading_title_font_size=OptionsInfo(scss=True, category='heading', type='px', value='125%'), heading_title_font_weight=OptionsInfo(scss=True, category='heading', type='value', value='initial'), heading_subtitle_font_size=OptionsInfo(scss=True, category='heading', type='px', value='85%'), heading_subtitle_font_weight=OptionsInfo(scss=True, category='heading', type='value', value='initial'), heading_padding=OptionsInfo(scss=True, category='heading', type='px', value='4px'), heading_padding_horizontal=OptionsInfo(scss=True, category='heading', type='px', value='5px'), heading_border_bottom_style=OptionsInfo(scss=True, category='heading', type='value', value='solid'), heading_border_bottom_width=OptionsInfo(scss=True, category='heading', type='px', value='2px'), heading_border_bottom_color=OptionsInfo(scss=True, category='heading', type='value', value='#D3D3D3'), heading_border_lr_style=OptionsInfo(scss=True, category='heading', type='value', value='none'), heading_border_lr_width=OptionsInfo(scss=True, category='heading', type='px', value='1px'), heading_border_lr_color=OptionsInfo(scss=True, category='heading', type='value', value='#D3D3D3'), column_labels_background_color=OptionsInfo(scss=True, category='column_labels', type='value', value=None), column_labels_font_size=OptionsInfo(scss=True, category='column_labels', type='px', value='100%'), column_labels_font_weight=OptionsInfo(scss=True, category='column_labels', type='value', value='normal'), column_labels_text_transform=OptionsInfo(scss=True, category='column_labels', type='value', value='inherit'), column_labels_padding=OptionsInfo(scss=True, category='column_labels', type='px', value='5px'), column_labels_padding_horizontal=OptionsInfo(scss=True, category='column_labels', type='px', value='5px'), column_labels_vlines_style=OptionsInfo(scss=True, category='table_body', type='value', value='none'), column_labels_vlines_width=OptionsInfo(scss=True, category='table_body', type='px', value='1px'), column_labels_vlines_color=OptionsInfo(scss=True, category='table_body', type='value', value='#D3D3D3'), column_labels_border_top_style=OptionsInfo(scss=True, category='column_labels', type='value', value='solid'), column_labels_border_top_width=OptionsInfo(scss=True, category='column_labels', type='px', value='2px'), column_labels_border_top_color=OptionsInfo(scss=True, category='column_labels', type='value', value='#D3D3D3'), column_labels_border_bottom_style=OptionsInfo(scss=True, category='column_labels', type='value', value='solid'), column_labels_border_bottom_width=OptionsInfo(scss=True, category='column_labels', type='px', value='2px'), column_labels_border_bottom_color=OptionsInfo(scss=True, category='column_labels', type='value', value='#D3D3D3'), column_labels_border_lr_style=OptionsInfo(scss=True, category='column_labels', type='value', value='none'), column_labels_border_lr_width=OptionsInfo(scss=True, category='column_labels', type='px', value='1px'), column_labels_border_lr_color=OptionsInfo(scss=True, category='column_labels', type='value', value='#D3D3D3'), column_labels_hidden=OptionsInfo(scss=False, category='column_labels', type='boolean', value=False), row_group_background_color=OptionsInfo(scss=True, category='row_group', type='value', value=None), row_group_font_size=OptionsInfo(scss=True, category='row_group', type='px', value='100%'), row_group_font_weight=OptionsInfo(scss=True, category='row_group', type='value', value='initial'), row_group_text_transform=OptionsInfo(scss=True, category='row_group', type='value', value='inherit'), row_group_padding=OptionsInfo(scss=True, category='row_group', type='px', value='8px'), row_group_padding_horizontal=OptionsInfo(scss=True, category='row_group', type='px', value='5px'), row_group_border_top_style=OptionsInfo(scss=True, category='row_group', type='value', value='solid'), row_group_border_top_width=OptionsInfo(scss=True, category='row_group', type='px', value='2px'), row_group_border_top_color=OptionsInfo(scss=True, category='row_group', type='value', value='#D3D3D3'), row_group_border_right_style=OptionsInfo(scss=True, category='row_group', type='value', value='none'), row_group_border_right_width=OptionsInfo(scss=True, category='row_group', type='px', value='1px'), row_group_border_right_color=OptionsInfo(scss=True, category='row_group', type='value', value='#D3D3D3'), row_group_border_bottom_style=OptionsInfo(scss=True, category='row_group', type='value', value='solid'), row_group_border_bottom_width=OptionsInfo(scss=True, category='row_group', type='px', value='2px'), row_group_border_bottom_color=OptionsInfo(scss=True, category='row_group', type='value', value='#D3D3D3'), row_group_border_left_style=OptionsInfo(scss=True, category='row_group', type='value', value='none'), row_group_border_left_width=OptionsInfo(scss=True, category='row_group', type='px', value='1px'), row_group_border_left_color=OptionsInfo(scss=True, category='row_group', type='value', value='#D3D3D3'), row_group_as_column=OptionsInfo(scss=False, category='row_group', type='boolean', value=False), table_body_hlines_style=OptionsInfo(scss=True, category='table_body', type='value', value='solid'), table_body_hlines_width=OptionsInfo(scss=True, category='table_body', type='px', value='1px'), table_body_hlines_color=OptionsInfo(scss=True, category='table_body', type='value', value='#D3D3D3'), table_body_vlines_style=OptionsInfo(scss=True, category='table_body', type='value', value='none'), table_body_vlines_width=OptionsInfo(scss=True, category='table_body', type='px', value='1px'), table_body_vlines_color=OptionsInfo(scss=True, category='table_body', type='value', value='#D3D3D3'), table_body_border_top_style=OptionsInfo(scss=True, category='table_body', type='value', value='solid'), table_body_border_top_width=OptionsInfo(scss=True, category='table_body', type='px', value='2px'), table_body_border_top_color=OptionsInfo(scss=True, category='table_body', type='value', value='#D3D3D3'), table_body_border_bottom_style=OptionsInfo(scss=True, category='table_body', type='value', value='solid'), table_body_border_bottom_width=OptionsInfo(scss=True, category='table_body', type='px', value='2px'), table_body_border_bottom_color=OptionsInfo(scss=True, category='table_body', type='value', value='#D3D3D3'), data_row_padding=OptionsInfo(scss=True, category='data_row', type='px', value='8px'), data_row_padding_horizontal=OptionsInfo(scss=True, category='data_row', type='px', value='5px'), stub_background_color=OptionsInfo(scss=True, category='stub', type='value', value=None), stub_font_size=OptionsInfo(scss=True, category='stub', type='px', value='100%'), stub_font_weight=OptionsInfo(scss=True, category='stub', type='value', value='initial'), stub_text_transform=OptionsInfo(scss=True, category='stub', type='value', value='inherit'), stub_border_style=OptionsInfo(scss=True, category='stub', type='value', value='solid'), stub_border_width=OptionsInfo(scss=True, category='stub', type='px', value='2px'), stub_border_color=OptionsInfo(scss=True, category='stub', type='value', value='#D3D3D3'), stub_row_group_background_color=OptionsInfo(scss=True, category='stub', type='value', value=None), stub_row_group_font_size=OptionsInfo(scss=True, category='stub', type='px', value='100%'), stub_row_group_font_weight=OptionsInfo(scss=True, category='stub', type='value', value='initial'), stub_row_group_text_transform=OptionsInfo(scss=True, category='stub', type='value', value='inherit'), stub_row_group_border_style=OptionsInfo(scss=True, category='stub', type='value', value='solid'), stub_row_group_border_width=OptionsInfo(scss=True, category='stub', type='px', value='2px'), stub_row_group_border_color=OptionsInfo(scss=True, category='stub', type='value', value='#D3D3D3'), source_notes_padding=OptionsInfo(scss=True, category='source_notes', type='px', value='4px'), source_notes_padding_horizontal=OptionsInfo(scss=True, category='source_notes', type='px', value='5px'), source_notes_background_color=OptionsInfo(scss=True, category='source_notes', type='value', value=None), source_notes_font_size=OptionsInfo(scss=True, category='source_notes', type='px', value='90%'), source_notes_border_bottom_style=OptionsInfo(scss=True, category='source_notes', type='value', value='none'), source_notes_border_bottom_width=OptionsInfo(scss=True, category='source_notes', type='px', value='2px'), source_notes_border_bottom_color=OptionsInfo(scss=True, category='source_notes', type='value', value='#D3D3D3'), source_notes_border_lr_style=OptionsInfo(scss=True, category='source_notes', type='value', value='none'), source_notes_border_lr_width=OptionsInfo(scss=True, category='source_notes', type='px', value='2px'), source_notes_border_lr_color=OptionsInfo(scss=True, category='source_notes', type='value', value='#D3D3D3'), source_notes_multiline=OptionsInfo(scss=False, category='source_notes', type='boolean', value=True), source_notes_sep=OptionsInfo(scss=False, category='source_notes', type='value', value=' '), row_striping_background_color=OptionsInfo(scss=True, category='row', type='value', value='rgba(128,128,128,0.05)'), row_striping_include_stub=OptionsInfo(scss=False, category='row', type='boolean', value=False), row_striping_include_table_body=OptionsInfo(scss=False, category='row', type='boolean', value=False), container_width=OptionsInfo(scss=False, category='container', type='px', value='auto'), container_height=OptionsInfo(scss=False, category='container', type='px', value='auto'), container_padding_x=OptionsInfo(scss=False, category='container', type='px', value='0px'), container_padding_y=OptionsInfo(scss=False, category='container', type='px', value='10px'), container_overflow_x=OptionsInfo(scss=False, category='container', type='overflow', value='auto'), container_overflow_y=OptionsInfo(scss=False, category='container', type='overflow', value='auto'), quarto_disable_processing=OptionsInfo(scss=False, category='quarto', type='logical', value=False), quarto_use_bootstrap=OptionsInfo(scss=False, category='quarto', type='logical', value=False)), _has_built=False)"
      ]
     },
     "execution_count": 18,
     "metadata": {},
     "output_type": "execute_result"
    }
   ],
   "source": [
    "df = pl.read_parquet(\"dependency.parquet\")\n",
    "df.head()\n",
    "\n",
    "dia = DIA(df)\n",
    "dia.numeric_profile(iqr_multiplier=2)"
   ]
  },
  {
   "cell_type": "code",
   "execution_count": 19,
   "metadata": {},
   "outputs": [
    {
     "data": {
      "text/html": [
       "<div><style>\n",
       ".dataframe > thead > tr,\n",
       ".dataframe > tbody > tr {\n",
       "  text-align: right;\n",
       "  white-space: pre-wrap;\n",
       "}\n",
       "</style>\n",
       "<small>shape: (5, 22)</small><table border=\"1\" class=\"dataframe\"><thead><tr><th>ID</th><th>Gender</th><th>DOB</th><th>Lead_Creation_Date</th><th>City_Code</th><th>City_Category</th><th>Employer_Code</th><th>Employer_Category1</th><th>Employer_Category2</th><th>Monthly_Income</th><th>Customer_Existing_Primary_Bank_Code</th><th>Primary_Bank_Type</th><th>Contacted</th><th>Source</th><th>Source_Category</th><th>Existing_EMI</th><th>Loan_Amount</th><th>Loan_Period</th><th>Interest_Rate</th><th>EMI</th><th>Var1</th><th>Approved</th></tr><tr><td>str</td><td>str</td><td>str</td><td>str</td><td>str</td><td>str</td><td>str</td><td>str</td><td>i64</td><td>f64</td><td>str</td><td>str</td><td>str</td><td>str</td><td>str</td><td>f64</td><td>i64</td><td>i64</td><td>f64</td><td>i64</td><td>i64</td><td>i64</td></tr></thead><tbody><tr><td>&quot;APPC90493171225&quot;</td><td>&quot;Female&quot;</td><td>&quot;23/07/79&quot;</td><td>&quot;15/07/16&quot;</td><td>&quot;C10001&quot;</td><td>&quot;A&quot;</td><td>&quot;COM0044082&quot;</td><td>&quot;A&quot;</td><td>4</td><td>2000.0</td><td>&quot;B001&quot;</td><td>&quot;P&quot;</td><td>&quot;N&quot;</td><td>&quot;S122&quot;</td><td>&quot;G&quot;</td><td>0.0</td><td>null</td><td>null</td><td>null</td><td>null</td><td>0</td><td>0</td></tr><tr><td>&quot;APPD40611263344&quot;</td><td>&quot;Male&quot;</td><td>&quot;07/12/86&quot;</td><td>&quot;04/07/16&quot;</td><td>&quot;C10003&quot;</td><td>&quot;A&quot;</td><td>&quot;COM0000002&quot;</td><td>&quot;C&quot;</td><td>1</td><td>3500.0</td><td>&quot;B002&quot;</td><td>&quot;P&quot;</td><td>&quot;Y&quot;</td><td>&quot;S122&quot;</td><td>&quot;G&quot;</td><td>0.0</td><td>20000</td><td>2</td><td>13.25</td><td>953</td><td>10</td><td>0</td></tr><tr><td>&quot;APPE70289249423&quot;</td><td>&quot;Male&quot;</td><td>&quot;10/12/82&quot;</td><td>&quot;19/07/16&quot;</td><td>&quot;C10125&quot;</td><td>&quot;C&quot;</td><td>&quot;COM0005267&quot;</td><td>&quot;C&quot;</td><td>4</td><td>2250.0</td><td>&quot;B003&quot;</td><td>&quot;G&quot;</td><td>&quot;Y&quot;</td><td>&quot;S143&quot;</td><td>&quot;B&quot;</td><td>0.0</td><td>45000</td><td>4</td><td>null</td><td>null</td><td>0</td><td>0</td></tr><tr><td>&quot;APPF80273865537&quot;</td><td>&quot;Male&quot;</td><td>&quot;30/01/89&quot;</td><td>&quot;09/07/16&quot;</td><td>&quot;C10477&quot;</td><td>&quot;C&quot;</td><td>&quot;COM0004143&quot;</td><td>&quot;A&quot;</td><td>4</td><td>3500.0</td><td>&quot;B003&quot;</td><td>&quot;G&quot;</td><td>&quot;Y&quot;</td><td>&quot;S143&quot;</td><td>&quot;B&quot;</td><td>0.0</td><td>92000</td><td>5</td><td>null</td><td>null</td><td>7</td><td>0</td></tr><tr><td>&quot;APPG60994436641&quot;</td><td>&quot;Male&quot;</td><td>&quot;19/04/85&quot;</td><td>&quot;20/07/16&quot;</td><td>&quot;C10002&quot;</td><td>&quot;A&quot;</td><td>&quot;COM0001781&quot;</td><td>&quot;A&quot;</td><td>4</td><td>10000.0</td><td>&quot;B001&quot;</td><td>&quot;P&quot;</td><td>&quot;Y&quot;</td><td>&quot;S134&quot;</td><td>&quot;B&quot;</td><td>2500.0</td><td>50000</td><td>2</td><td>null</td><td>null</td><td>10</td><td>0</td></tr></tbody></table></div>"
      ],
      "text/plain": [
       "shape: (5, 22)\n",
       "┌────────────────┬────────┬──────────┬────────────────┬───┬───────────────┬──────┬──────┬──────────┐\n",
       "│ ID             ┆ Gender ┆ DOB      ┆ Lead_Creation_ ┆ … ┆ Interest_Rate ┆ EMI  ┆ Var1 ┆ Approved │\n",
       "│ ---            ┆ ---    ┆ ---      ┆ Date           ┆   ┆ ---           ┆ ---  ┆ ---  ┆ ---      │\n",
       "│ str            ┆ str    ┆ str      ┆ ---            ┆   ┆ f64           ┆ i64  ┆ i64  ┆ i64      │\n",
       "│                ┆        ┆          ┆ str            ┆   ┆               ┆      ┆      ┆          │\n",
       "╞════════════════╪════════╪══════════╪════════════════╪═══╪═══════════════╪══════╪══════╪══════════╡\n",
       "│ APPC9049317122 ┆ Female ┆ 23/07/79 ┆ 15/07/16       ┆ … ┆ null          ┆ null ┆ 0    ┆ 0        │\n",
       "│ 5              ┆        ┆          ┆                ┆   ┆               ┆      ┆      ┆          │\n",
       "│ APPD4061126334 ┆ Male   ┆ 07/12/86 ┆ 04/07/16       ┆ … ┆ 13.25         ┆ 953  ┆ 10   ┆ 0        │\n",
       "│ 4              ┆        ┆          ┆                ┆   ┆               ┆      ┆      ┆          │\n",
       "│ APPE7028924942 ┆ Male   ┆ 10/12/82 ┆ 19/07/16       ┆ … ┆ null          ┆ null ┆ 0    ┆ 0        │\n",
       "│ 3              ┆        ┆          ┆                ┆   ┆               ┆      ┆      ┆          │\n",
       "│ APPF8027386553 ┆ Male   ┆ 30/01/89 ┆ 09/07/16       ┆ … ┆ null          ┆ null ┆ 7    ┆ 0        │\n",
       "│ 7              ┆        ┆          ┆                ┆   ┆               ┆      ┆      ┆          │\n",
       "│ APPG6099443664 ┆ Male   ┆ 19/04/85 ┆ 20/07/16       ┆ … ┆ null          ┆ null ┆ 10   ┆ 0        │\n",
       "│ 1              ┆        ┆          ┆                ┆   ┆               ┆      ┆      ┆          │\n",
       "└────────────────┴────────┴──────────┴────────────────┴───┴───────────────┴──────┴──────┴──────────┘"
      ]
     },
     "execution_count": 19,
     "metadata": {},
     "output_type": "execute_result"
    }
   ],
   "source": [
    "df.head()"
   ]
  },
  {
   "cell_type": "code",
   "execution_count": 20,
   "metadata": {},
   "outputs": [
    {
     "data": {
      "text/html": [
       "<div><style>\n",
       ".dataframe > thead > tr,\n",
       ".dataframe > tbody > tr {\n",
       "  text-align: right;\n",
       "  white-space: pre-wrap;\n",
       "}\n",
       "</style>\n",
       "<small>shape: (2, 10)</small><table border=\"1\" class=\"dataframe\"><thead><tr><th>column</th><th>Employer_Category2</th><th>Monthly_Income</th><th>Existing_EMI</th><th>Loan_Amount</th><th>Loan_Period</th><th>Interest_Rate</th><th>EMI</th><th>Var1</th><th>Approved</th></tr><tr><td>str</td><td>f64</td><td>f64</td><td>f64</td><td>f64</td><td>f64</td><td>f64</td><td>f64</td><td>f64</td><td>f64</td></tr></thead><tbody><tr><td>&quot;Monthly_Income&quot;</td><td>0.001546</td><td>1.0</td><td>0.245826</td><td>0.039998</td><td>-0.003671</td><td>-0.014789</td><td>0.035163</td><td>0.024854</td><td>0.000472</td></tr><tr><td>&quot;Existing_EMI&quot;</td><td>-0.017074</td><td>0.245826</td><td>1.0</td><td>0.008653</td><td>-0.004603</td><td>-0.023001</td><td>0.000813</td><td>0.00662</td><td>0.027821</td></tr></tbody></table></div>"
      ],
      "text/plain": [
       "shape: (2, 10)\n",
       "┌────────────┬────────────┬───────────┬───────────┬───┬───────────┬──────────┬──────────┬──────────┐\n",
       "│ column     ┆ Employer_C ┆ Monthly_I ┆ Existing_ ┆ … ┆ Interest_ ┆ EMI      ┆ Var1     ┆ Approved │\n",
       "│ ---        ┆ ategory2   ┆ ncome     ┆ EMI       ┆   ┆ Rate      ┆ ---      ┆ ---      ┆ ---      │\n",
       "│ str        ┆ ---        ┆ ---       ┆ ---       ┆   ┆ ---       ┆ f64      ┆ f64      ┆ f64      │\n",
       "│            ┆ f64        ┆ f64       ┆ f64       ┆   ┆ f64       ┆          ┆          ┆          │\n",
       "╞════════════╪════════════╪═══════════╪═══════════╪═══╪═══════════╪══════════╪══════════╪══════════╡\n",
       "│ Monthly_In ┆ 0.001546   ┆ 1.0       ┆ 0.245826  ┆ … ┆ -0.014789 ┆ 0.035163 ┆ 0.024854 ┆ 0.000472 │\n",
       "│ come       ┆            ┆           ┆           ┆   ┆           ┆          ┆          ┆          │\n",
       "│ Existing_E ┆ -0.017074  ┆ 0.245826  ┆ 1.0       ┆ … ┆ -0.023001 ┆ 0.000813 ┆ 0.00662  ┆ 0.027821 │\n",
       "│ MI         ┆            ┆           ┆           ┆   ┆           ┆          ┆          ┆          │\n",
       "└────────────┴────────────┴───────────┴───────────┴───┴───────────┴──────────┴──────────┴──────────┘"
      ]
     },
     "execution_count": 20,
     "metadata": {},
     "output_type": "execute_result"
    }
   ],
   "source": [
    "import polars.selectors as cs\n",
    "\n",
    "dia.corr(subset=[\"Monthly_Income\", \"Existing_EMI\"])"
   ]
  },
  {
   "cell_type": "code",
   "execution_count": 21,
   "metadata": {},
   "outputs": [
    {
     "data": {
      "text/html": [
       "<div><style>\n",
       ".dataframe > thead > tr,\n",
       ".dataframe > tbody > tr {\n",
       "  text-align: right;\n",
       "  white-space: pre-wrap;\n",
       "}\n",
       "</style>\n",
       "<small>shape: (22, 10)</small><table border=\"1\" class=\"dataframe\"><thead><tr><th>column</th><th>Employer_Category2</th><th>Monthly_Income</th><th>Existing_EMI</th><th>Loan_Amount</th><th>Loan_Period</th><th>Interest_Rate</th><th>EMI</th><th>Var1</th><th>Approved</th></tr><tr><td>str</td><td>f64</td><td>f64</td><td>f64</td><td>f64</td><td>f64</td><td>f64</td><td>f64</td><td>f64</td><td>f64</td></tr></thead><tbody><tr><td>&quot;ID&quot;</td><td>-0.001344</td><td>0.002872</td><td>-0.001846</td><td>0.002515</td><td>-0.00461</td><td>0.003937</td><td>0.000144</td><td>0.001832</td><td>-0.002095</td></tr><tr><td>&quot;Gender&quot;</td><td>-0.041901</td><td>0.198756</td><td>-0.143366</td><td>-0.012385</td><td>0.04055</td><td>-0.010801</td><td>0.010427</td><td>0.5331</td><td>0.045283</td></tr><tr><td>&quot;DOB&quot;</td><td>-0.005417</td><td>0.005234</td><td>-0.002514</td><td>0.004804</td><td>0.006114</td><td>0.000492</td><td>0.005204</td><td>-0.000032</td><td>-0.002547</td></tr><tr><td>&quot;Lead_Creation_Date&quot;</td><td>0.002868</td><td>0.006615</td><td>0.00987</td><td>0.001086</td><td>-0.079301</td><td>0.014667</td><td>-0.014768</td><td>0.039963</td><td>-0.005199</td></tr><tr><td>&quot;City_Code&quot;</td><td>0.065158</td><td>-0.092007</td><td>0.039832</td><td>-0.024716</td><td>0.06091</td><td>0.144521</td><td>0.059781</td><td>0.030293</td><td>-0.028195</td></tr><tr><td>&hellip;</td><td>&hellip;</td><td>&hellip;</td><td>&hellip;</td><td>&hellip;</td><td>&hellip;</td><td>&hellip;</td><td>&hellip;</td><td>&hellip;</td><td>&hellip;</td></tr><tr><td>&quot;Loan_Period&quot;</td><td>-0.015674</td><td>0.020818</td><td>-0.074173</td><td>0.491637</td><td>1.0</td><td>-0.059534</td><td>0.145961</td><td>-0.009532</td><td>-0.000028</td></tr><tr><td>&quot;Interest_Rate&quot;</td><td>0.242253</td><td>-0.662215</td><td>-0.040708</td><td>-0.3561</td><td>-0.059534</td><td>1.0</td><td>-0.284007</td><td>-0.620129</td><td>-0.12408</td></tr><tr><td>&quot;EMI&quot;</td><td>-0.068692</td><td>0.480323</td><td>-0.296146</td><td>0.889693</td><td>0.145961</td><td>-0.284007</td><td>1.0</td><td>0.2934</td><td>0.040533</td></tr><tr><td>&quot;Var1&quot;</td><td>-0.114333</td><td>0.67349</td><td>-0.015427</td><td>0.296295</td><td>-0.009532</td><td>-0.620129</td><td>0.2934</td><td>1.0</td><td>0.103802</td></tr><tr><td>&quot;Approved&quot;</td><td>-0.02002</td><td>0.120155</td><td>0.056669</td><td>0.042231</td><td>-0.000028</td><td>-0.12408</td><td>0.040533</td><td>0.103802</td><td>1.0</td></tr></tbody></table></div>"
      ],
      "text/plain": [
       "shape: (22, 10)\n",
       "┌───────────┬───────────┬───────────┬───────────┬───┬───────────┬───────────┬───────────┬──────────┐\n",
       "│ column    ┆ Employer_ ┆ Monthly_I ┆ Existing_ ┆ … ┆ Interest_ ┆ EMI       ┆ Var1      ┆ Approved │\n",
       "│ ---       ┆ Category2 ┆ ncome     ┆ EMI       ┆   ┆ Rate      ┆ ---       ┆ ---       ┆ ---      │\n",
       "│ str       ┆ ---       ┆ ---       ┆ ---       ┆   ┆ ---       ┆ f64       ┆ f64       ┆ f64      │\n",
       "│           ┆ f64       ┆ f64       ┆ f64       ┆   ┆ f64       ┆           ┆           ┆          │\n",
       "╞═══════════╪═══════════╪═══════════╪═══════════╪═══╪═══════════╪═══════════╪═══════════╪══════════╡\n",
       "│ ID        ┆ -0.001344 ┆ 0.002872  ┆ -0.001846 ┆ … ┆ 0.003937  ┆ 0.000144  ┆ 0.001832  ┆ -0.00209 │\n",
       "│           ┆           ┆           ┆           ┆   ┆           ┆           ┆           ┆ 5        │\n",
       "│ Gender    ┆ -0.041901 ┆ 0.198756  ┆ -0.143366 ┆ … ┆ -0.010801 ┆ 0.010427  ┆ 0.5331    ┆ 0.045283 │\n",
       "│ DOB       ┆ -0.005417 ┆ 0.005234  ┆ -0.002514 ┆ … ┆ 0.000492  ┆ 0.005204  ┆ -0.000032 ┆ -0.00254 │\n",
       "│           ┆           ┆           ┆           ┆   ┆           ┆           ┆           ┆ 7        │\n",
       "│ Lead_Crea ┆ 0.002868  ┆ 0.006615  ┆ 0.00987   ┆ … ┆ 0.014667  ┆ -0.014768 ┆ 0.039963  ┆ -0.00519 │\n",
       "│ tion_Date ┆           ┆           ┆           ┆   ┆           ┆           ┆           ┆ 9        │\n",
       "│ City_Code ┆ 0.065158  ┆ -0.092007 ┆ 0.039832  ┆ … ┆ 0.144521  ┆ 0.059781  ┆ 0.030293  ┆ -0.02819 │\n",
       "│           ┆           ┆           ┆           ┆   ┆           ┆           ┆           ┆ 5        │\n",
       "│ …         ┆ …         ┆ …         ┆ …         ┆ … ┆ …         ┆ …         ┆ …         ┆ …        │\n",
       "│ Loan_Peri ┆ -0.015674 ┆ 0.020818  ┆ -0.074173 ┆ … ┆ -0.059534 ┆ 0.145961  ┆ -0.009532 ┆ -0.00002 │\n",
       "│ od        ┆           ┆           ┆           ┆   ┆           ┆           ┆           ┆ 8        │\n",
       "│ Interest_ ┆ 0.242253  ┆ -0.662215 ┆ -0.040708 ┆ … ┆ 1.0       ┆ -0.284007 ┆ -0.620129 ┆ -0.12408 │\n",
       "│ Rate      ┆           ┆           ┆           ┆   ┆           ┆           ┆           ┆          │\n",
       "│ EMI       ┆ -0.068692 ┆ 0.480323  ┆ -0.296146 ┆ … ┆ -0.284007 ┆ 1.0       ┆ 0.2934    ┆ 0.040533 │\n",
       "│ Var1      ┆ -0.114333 ┆ 0.67349   ┆ -0.015427 ┆ … ┆ -0.620129 ┆ 0.2934    ┆ 1.0       ┆ 0.103802 │\n",
       "│ Approved  ┆ -0.02002  ┆ 0.120155  ┆ 0.056669  ┆ … ┆ -0.12408  ┆ 0.040533  ┆ 0.103802  ┆ 1.0      │\n",
       "└───────────┴───────────┴───────────┴───────────┴───┴───────────┴───────────┴───────────┴──────────┘"
      ]
     },
     "execution_count": 21,
     "metadata": {},
     "output_type": "execute_result"
    }
   ],
   "source": [
    "dia.corr(subset=cs.all(), method=\"spearman\")"
   ]
  },
  {
   "cell_type": "code",
   "execution_count": 22,
   "metadata": {},
   "outputs": [
    {
     "data": {
      "text/html": [
       "<div id=\"rgwnwjsmpi\" style=\"padding-left:0px;padding-right:0px;padding-top:10px;padding-bottom:10px;overflow-x:auto;overflow-y:auto;width:auto;height:auto;\">\n",
       "<style>\n",
       "#rgwnwjsmpi table {\n",
       "          font-family: -apple-system, BlinkMacSystemFont, 'Segoe UI', Roboto, Oxygen, Ubuntu, Cantarell, 'Helvetica Neue', 'Fira Sans', 'Droid Sans', Arial, sans-serif;\n",
       "          -webkit-font-smoothing: antialiased;\n",
       "          -moz-osx-font-smoothing: grayscale;\n",
       "        }\n",
       "\n",
       "#rgwnwjsmpi thead, tbody, tfoot, tr, td, th { border-style: none !important; }\n",
       " tr { background-color: transparent !important; }\n",
       "#rgwnwjsmpi p { margin: 0 !important; padding: 0 !important; }\n",
       " #rgwnwjsmpi .gt_table { display: table !important; border-collapse: collapse !important; line-height: normal !important; margin-left: auto !important; margin-right: auto !important; color: #333333 !important; font-size: 16px !important; font-weight: normal !important; font-style: normal !important; background-color: #FFFFFF !important; width: auto !important; border-top-style: solid !important; border-top-width: 2px !important; border-top-color: #A8A8A8 !important; border-right-style: none !important; border-right-width: 2px !important; border-right-color: #D3D3D3 !important; border-bottom-style: solid !important; border-bottom-width: 2px !important; border-bottom-color: #A8A8A8 !important; border-left-style: none !important; border-left-width: 2px !important; border-left-color: #D3D3D3 !important; }\n",
       " #rgwnwjsmpi .gt_caption { padding-top: 4px !important; padding-bottom: 4px !important; }\n",
       " #rgwnwjsmpi .gt_title { color: #333333 !important; font-size: 125% !important; font-weight: initial !important; padding-top: 4px !important; padding-bottom: 4px !important; padding-left: 5px !important; padding-right: 5px !important; border-bottom-color: #FFFFFF !important; border-bottom-width: 0 !important; }\n",
       " #rgwnwjsmpi .gt_subtitle { color: #333333 !important; font-size: 85% !important; font-weight: initial !important; padding-top: 3px !important; padding-bottom: 5px !important; padding-left: 5px !important; padding-right: 5px !important; border-top-color: #FFFFFF !important; border-top-width: 0 !important; }\n",
       " #rgwnwjsmpi .gt_heading { background-color: #FFFFFF !important; text-align: center !important; border-bottom-color: #FFFFFF !important; border-left-style: none !important; border-left-width: 1px !important; border-left-color: #D3D3D3 !important; border-right-style: none !important; border-right-width: 1px !important; border-right-color: #D3D3D3 !important; }\n",
       " #rgwnwjsmpi .gt_bottom_border { border-bottom-style: solid !important; border-bottom-width: 2px !important; border-bottom-color: #D3D3D3 !important; }\n",
       " #rgwnwjsmpi .gt_col_headings { border-top-style: solid !important; border-top-width: 2px !important; border-top-color: #D3D3D3 !important; border-bottom-style: solid !important; border-bottom-width: 2px !important; border-bottom-color: #D3D3D3 !important; border-left-style: none !important; border-left-width: 1px !important; border-left-color: #D3D3D3 !important; border-right-style: none !important; border-right-width: 1px !important; border-right-color: #D3D3D3 !important; }\n",
       " #rgwnwjsmpi .gt_col_heading { color: #333333 !important; background-color: #FFFFFF !important; font-size: 100% !important; font-weight: normal !important; text-transform: inherit !important; border-left-style: none !important; border-left-width: 1px !important; border-left-color: #D3D3D3 !important; border-right-style: none !important; border-right-width: 1px !important; border-right-color: #D3D3D3 !important; vertical-align: bottom !important; padding-top: 5px !important; padding-bottom: 5px !important; padding-left: 5px !important; padding-right: 5px !important; overflow-x: hidden !important; }\n",
       " #rgwnwjsmpi .gt_column_spanner_outer { color: #333333 !important; background-color: #FFFFFF !important; font-size: 100% !important; font-weight: normal !important; text-transform: inherit !important; padding-top: 0 !important; padding-bottom: 0 !important; padding-left: 4px !important; padding-right: 4px !important; }\n",
       " #rgwnwjsmpi .gt_column_spanner_outer:first-child { padding-left: 0 !important; }\n",
       " #rgwnwjsmpi .gt_column_spanner_outer:last-child { padding-right: 0 !important; }\n",
       " #rgwnwjsmpi .gt_column_spanner { border-bottom-style: solid !important; border-bottom-width: 2px !important; border-bottom-color: #D3D3D3 !important; vertical-align: bottom !important; padding-top: 5px !important; padding-bottom: 5px !important; overflow-x: hidden !important; display: inline-block !important; width: 100% !important; }\n",
       " #rgwnwjsmpi .gt_spanner_row { border-bottom-style: hidden !important; }\n",
       " #rgwnwjsmpi .gt_group_heading { padding-top: 8px !important; padding-bottom: 8px !important; padding-left: 5px !important; padding-right: 5px !important; color: #333333 !important; background-color: #FFFFFF !important; font-size: 100% !important; font-weight: initial !important; text-transform: inherit !important; border-top-style: solid !important; border-top-width: 2px !important; border-top-color: #D3D3D3 !important; border-bottom-style: solid !important; border-bottom-width: 2px !important; border-bottom-color: #D3D3D3 !important; border-left-style: none !important; border-left-width: 1px !important; border-left-color: #D3D3D3 !important; border-right-style: none !important; border-right-width: 1px !important; border-right-color: #D3D3D3 !important; vertical-align: middle !important; text-align: left !important; }\n",
       " #rgwnwjsmpi .gt_empty_group_heading { padding: 0.5px !important; color: #333333 !important; background-color: #FFFFFF !important; font-size: 100% !important; font-weight: initial !important; border-top-style: solid !important; border-top-width: 2px !important; border-top-color: #D3D3D3 !important; border-bottom-style: solid !important; border-bottom-width: 2px !important; border-bottom-color: #D3D3D3 !important; vertical-align: middle !important; }\n",
       " #rgwnwjsmpi .gt_from_md> :first-child { margin-top: 0 !important; }\n",
       " #rgwnwjsmpi .gt_from_md> :last-child { margin-bottom: 0 !important; }\n",
       " #rgwnwjsmpi .gt_row { padding-top: 8px !important; padding-bottom: 8px !important; padding-left: 5px !important; padding-right: 5px !important; margin: 10px !important; border-top-style: solid !important; border-top-width: 1px !important; border-top-color: #D3D3D3 !important; border-left-style: none !important; border-left-width: 1px !important; border-left-color: #D3D3D3 !important; border-right-style: none !important; border-right-width: 1px !important; border-right-color: #D3D3D3 !important; vertical-align: middle !important; overflow-x: hidden !important; }\n",
       " #rgwnwjsmpi .gt_stub { color: #333333 !important; background-color: #FFFFFF !important; font-size: 100% !important; font-weight: initial !important; text-transform: inherit !important; border-right-style: solid !important; border-right-width: 2px !important; border-right-color: #D3D3D3 !important; padding-left: 5px !important; padding-right: 5px !important; }\n",
       " #rgwnwjsmpi .gt_stub_row_group { color: #333333 !important; background-color: #FFFFFF !important; font-size: 100% !important; font-weight: initial !important; text-transform: inherit !important; border-right-style: solid !important; border-right-width: 2px !important; border-right-color: #D3D3D3 !important; padding-left: 5px !important; padding-right: 5px !important; vertical-align: top !important; }\n",
       " #rgwnwjsmpi .gt_row_group_first td { border-top-width: 2px !important; }\n",
       " #rgwnwjsmpi .gt_row_group_first th { border-top-width: 2px !important; }\n",
       " #rgwnwjsmpi .gt_striped { background-color: rgba(128,128,128,0.05) !important; }\n",
       " #rgwnwjsmpi .gt_table_body { border-top-style: solid !important; border-top-width: 2px !important; border-top-color: #D3D3D3 !important; border-bottom-style: solid !important; border-bottom-width: 2px !important; border-bottom-color: #D3D3D3 !important; }\n",
       " #rgwnwjsmpi .gt_sourcenotes { color: #333333 !important; background-color: #FFFFFF !important; border-bottom-style: none !important; border-bottom-width: 2px !important; border-bottom-color: #D3D3D3 !important; border-left-style: none !important; border-left-width: 2px !important; border-left-color: #D3D3D3 !important; border-right-style: none !important; border-right-width: 2px !important; border-right-color: #D3D3D3 !important; }\n",
       " #rgwnwjsmpi .gt_sourcenote { font-size: 90% !important; padding-top: 4px !important; padding-bottom: 4px !important; padding-left: 5px !important; padding-right: 5px !important; text-align: left !important; }\n",
       " #rgwnwjsmpi .gt_left { text-align: left !important; }\n",
       " #rgwnwjsmpi .gt_center { text-align: center !important; }\n",
       " #rgwnwjsmpi .gt_right { text-align: right !important; font-variant-numeric: tabular-nums !important; }\n",
       " #rgwnwjsmpi .gt_font_normal { font-weight: normal !important; }\n",
       " #rgwnwjsmpi .gt_font_bold { font-weight: bold !important; }\n",
       " #rgwnwjsmpi .gt_font_italic { font-style: italic !important; }\n",
       " #rgwnwjsmpi .gt_super { font-size: 65% !important; }\n",
       " #rgwnwjsmpi .gt_footnote_marks { font-size: 75% !important; vertical-align: 0.4em !important; position: initial !important; }\n",
       " #rgwnwjsmpi .gt_asterisk { font-size: 100% !important; vertical-align: 0 !important; }\n",
       " \n",
       "</style>\n",
       "<table class=\"gt_table\" data-quarto-disable-processing=\"false\" data-quarto-bootstrap=\"false\">\n",
       "<thead>\n",
       "\n",
       "<tr class=\"gt_col_headings\">\n",
       "  <th class=\"gt_col_heading gt_columns_bottom_border gt_left\" rowspan=\"1\" colspan=\"1\" scope=\"col\" id=\"column\">column</th>\n",
       "  <th class=\"gt_col_heading gt_columns_bottom_border gt_right\" rowspan=\"1\" colspan=\"1\" scope=\"col\" id=\"Employer_Category2\">Employer_Category2</th>\n",
       "  <th class=\"gt_col_heading gt_columns_bottom_border gt_right\" rowspan=\"1\" colspan=\"1\" scope=\"col\" id=\"Monthly_Income\">Monthly_Income</th>\n",
       "  <th class=\"gt_col_heading gt_columns_bottom_border gt_right\" rowspan=\"1\" colspan=\"1\" scope=\"col\" id=\"Existing_EMI\">Existing_EMI</th>\n",
       "  <th class=\"gt_col_heading gt_columns_bottom_border gt_right\" rowspan=\"1\" colspan=\"1\" scope=\"col\" id=\"Loan_Amount\">Loan_Amount</th>\n",
       "  <th class=\"gt_col_heading gt_columns_bottom_border gt_right\" rowspan=\"1\" colspan=\"1\" scope=\"col\" id=\"Loan_Period\">Loan_Period</th>\n",
       "  <th class=\"gt_col_heading gt_columns_bottom_border gt_right\" rowspan=\"1\" colspan=\"1\" scope=\"col\" id=\"Interest_Rate\">Interest_Rate</th>\n",
       "  <th class=\"gt_col_heading gt_columns_bottom_border gt_right\" rowspan=\"1\" colspan=\"1\" scope=\"col\" id=\"EMI\">EMI</th>\n",
       "  <th class=\"gt_col_heading gt_columns_bottom_border gt_right\" rowspan=\"1\" colspan=\"1\" scope=\"col\" id=\"Var1\">Var1</th>\n",
       "  <th class=\"gt_col_heading gt_columns_bottom_border gt_right\" rowspan=\"1\" colspan=\"1\" scope=\"col\" id=\"Approved\">Approved</th>\n",
       "</tr>\n",
       "</thead>\n",
       "<tbody class=\"gt_table_body\">\n",
       "  <tr>\n",
       "    <td class=\"gt_row gt_left\">Monthly_Income</td>\n",
       "    <td style=\"color: #FFFFFF; background-color: #550281;\" class=\"gt_row gt_right\">−0.110</td>\n",
       "    <td style=\"color: #FFFFFF; background-color: #bd0237;\" class=\"gt_row gt_right\">1.000</td>\n",
       "    <td style=\"color: #FFFFFF; background-color: #6f026f;\" class=\"gt_row gt_right\">0.171</td>\n",
       "    <td style=\"color: #FFFFFF; background-color: #8c025a;\" class=\"gt_row gt_right\">0.481</td>\n",
       "    <td style=\"color: #FFFFFF; background-color: #610279;\" class=\"gt_row gt_right\">0.021</td>\n",
       "    <td style=\"color: #FFFFFF; background-color: #2202a6;\" class=\"gt_row gt_right\">−0.662</td>\n",
       "    <td style=\"color: #FFFFFF; background-color: #8c025a;\" class=\"gt_row gt_right\">0.480</td>\n",
       "    <td style=\"color: #FFFFFF; background-color: #9e024d;\" class=\"gt_row gt_right\">0.673</td>\n",
       "    <td style=\"color: #FFFFFF; background-color: #6b0272;\" class=\"gt_row gt_right\">0.120</td>\n",
       "  </tr>\n",
       "  <tr>\n",
       "    <td class=\"gt_row gt_left\">Existing_EMI</td>\n",
       "    <td style=\"color: #FFFFFF; background-color: #630278;\" class=\"gt_row gt_right\">0.035</td>\n",
       "    <td style=\"color: #FFFFFF; background-color: #6f026f;\" class=\"gt_row gt_right\">0.171</td>\n",
       "    <td style=\"color: #FFFFFF; background-color: #bd0237;\" class=\"gt_row gt_right\">1.000</td>\n",
       "    <td style=\"color: #FFFFFF; background-color: #4a0289;\" class=\"gt_row gt_right\">−0.225</td>\n",
       "    <td style=\"color: #FFFFFF; background-color: #59027f;\" class=\"gt_row gt_right\">−0.074</td>\n",
       "    <td style=\"color: #FFFFFF; background-color: #5c027d;\" class=\"gt_row gt_right\">−0.041</td>\n",
       "    <td style=\"color: #FFFFFF; background-color: #44028e;\" class=\"gt_row gt_right\">−0.296</td>\n",
       "    <td style=\"color: #FFFFFF; background-color: #5e027b;\" class=\"gt_row gt_right\">−0.015</td>\n",
       "    <td style=\"color: #FFFFFF; background-color: #650276;\" class=\"gt_row gt_right\">0.057</td>\n",
       "  </tr>\n",
       "</tbody>\n",
       "\n",
       "\n",
       "</table>\n",
       "\n",
       "</div>\n",
       "        "
      ],
      "text/plain": [
       "GT(_tbl_data=shape: (2, 10)\n",
       "┌───────────┬───────────┬───────────┬───────────┬───┬───────────┬───────────┬───────────┬──────────┐\n",
       "│ column    ┆ Employer_ ┆ Monthly_I ┆ Existing_ ┆ … ┆ Interest_ ┆ EMI       ┆ Var1      ┆ Approved │\n",
       "│ ---       ┆ Category2 ┆ ncome     ┆ EMI       ┆   ┆ Rate      ┆ ---       ┆ ---       ┆ ---      │\n",
       "│ str       ┆ ---       ┆ ---       ┆ ---       ┆   ┆ ---       ┆ f64       ┆ f64       ┆ f64      │\n",
       "│           ┆ f64       ┆ f64       ┆ f64       ┆   ┆ f64       ┆           ┆           ┆          │\n",
       "╞═══════════╪═══════════╪═══════════╪═══════════╪═══╪═══════════╪═══════════╪═══════════╪══════════╡\n",
       "│ Monthly_I ┆ -0.109954 ┆ 1.0       ┆ 0.170825  ┆ … ┆ -0.662215 ┆ 0.480323  ┆ 0.67349   ┆ 0.120155 │\n",
       "│ ncome     ┆           ┆           ┆           ┆   ┆           ┆           ┆           ┆          │\n",
       "│ Existing_ ┆ 0.034867  ┆ 0.170825  ┆ 1.0       ┆ … ┆ -0.040708 ┆ -0.296146 ┆ -0.015427 ┆ 0.056669 │\n",
       "│ EMI       ┆           ┆           ┆           ┆   ┆           ┆           ┆           ┆          │\n",
       "└───────────┴───────────┴───────────┴───────────┴───┴───────────┴───────────┴───────────┴──────────┘, _body=<great_tables._gt_data.Body object at 0x7a431c1150e0>, _boxhead=Boxhead([ColInfo(var='column', type=<ColInfoTypeEnum.default: 1>, column_label='column', column_align='left', column_width=None), ColInfo(var='Employer_Category2', type=<ColInfoTypeEnum.default: 1>, column_label='Employer_Category2', column_align='right', column_width=None), ColInfo(var='Monthly_Income', type=<ColInfoTypeEnum.default: 1>, column_label='Monthly_Income', column_align='right', column_width=None), ColInfo(var='Existing_EMI', type=<ColInfoTypeEnum.default: 1>, column_label='Existing_EMI', column_align='right', column_width=None), ColInfo(var='Loan_Amount', type=<ColInfoTypeEnum.default: 1>, column_label='Loan_Amount', column_align='right', column_width=None), ColInfo(var='Loan_Period', type=<ColInfoTypeEnum.default: 1>, column_label='Loan_Period', column_align='right', column_width=None), ColInfo(var='Interest_Rate', type=<ColInfoTypeEnum.default: 1>, column_label='Interest_Rate', column_align='right', column_width=None), ColInfo(var='EMI', type=<ColInfoTypeEnum.default: 1>, column_label='EMI', column_align='right', column_width=None), ColInfo(var='Var1', type=<ColInfoTypeEnum.default: 1>, column_label='Var1', column_align='right', column_width=None), ColInfo(var='Approved', type=<ColInfoTypeEnum.default: 1>, column_label='Approved', column_align='right', column_width=None)]), _stub=<great_tables._gt_data.Stub object at 0x7a43340a9670>, _spanners=Spanners([]), _heading=Heading(title=None, subtitle=None, preheader=None), _stubhead=None, _source_notes=[], _footnotes=[], _styles=[StyleInfo(locname=LocBody(columns='Employer_Category2', rows=[0]), grpname=None, colname='Employer_Category2', rownum=0, colnum=None, styles=[CellStyleText(color='#FFFFFF', font=None, size=None, align=None, v_align=None, style=None, weight=None, stretch=None, decorate=None, transform=None, whitespace=None), CellStyleFill(color='#550281')]), StyleInfo(locname=LocBody(columns='Employer_Category2', rows=[1]), grpname=None, colname='Employer_Category2', rownum=1, colnum=None, styles=[CellStyleText(color='#FFFFFF', font=None, size=None, align=None, v_align=None, style=None, weight=None, stretch=None, decorate=None, transform=None, whitespace=None), CellStyleFill(color='#630278')]), StyleInfo(locname=LocBody(columns='Monthly_Income', rows=[0]), grpname=None, colname='Monthly_Income', rownum=0, colnum=None, styles=[CellStyleText(color='#FFFFFF', font=None, size=None, align=None, v_align=None, style=None, weight=None, stretch=None, decorate=None, transform=None, whitespace=None), CellStyleFill(color='#bd0237')]), StyleInfo(locname=LocBody(columns='Monthly_Income', rows=[1]), grpname=None, colname='Monthly_Income', rownum=1, colnum=None, styles=[CellStyleText(color='#FFFFFF', font=None, size=None, align=None, v_align=None, style=None, weight=None, stretch=None, decorate=None, transform=None, whitespace=None), CellStyleFill(color='#6f026f')]), StyleInfo(locname=LocBody(columns='Existing_EMI', rows=[0]), grpname=None, colname='Existing_EMI', rownum=0, colnum=None, styles=[CellStyleText(color='#FFFFFF', font=None, size=None, align=None, v_align=None, style=None, weight=None, stretch=None, decorate=None, transform=None, whitespace=None), CellStyleFill(color='#6f026f')]), StyleInfo(locname=LocBody(columns='Existing_EMI', rows=[1]), grpname=None, colname='Existing_EMI', rownum=1, colnum=None, styles=[CellStyleText(color='#FFFFFF', font=None, size=None, align=None, v_align=None, style=None, weight=None, stretch=None, decorate=None, transform=None, whitespace=None), CellStyleFill(color='#bd0237')]), StyleInfo(locname=LocBody(columns='Loan_Amount', rows=[0]), grpname=None, colname='Loan_Amount', rownum=0, colnum=None, styles=[CellStyleText(color='#FFFFFF', font=None, size=None, align=None, v_align=None, style=None, weight=None, stretch=None, decorate=None, transform=None, whitespace=None), CellStyleFill(color='#8c025a')]), StyleInfo(locname=LocBody(columns='Loan_Amount', rows=[1]), grpname=None, colname='Loan_Amount', rownum=1, colnum=None, styles=[CellStyleText(color='#FFFFFF', font=None, size=None, align=None, v_align=None, style=None, weight=None, stretch=None, decorate=None, transform=None, whitespace=None), CellStyleFill(color='#4a0289')]), StyleInfo(locname=LocBody(columns='Loan_Period', rows=[0]), grpname=None, colname='Loan_Period', rownum=0, colnum=None, styles=[CellStyleText(color='#FFFFFF', font=None, size=None, align=None, v_align=None, style=None, weight=None, stretch=None, decorate=None, transform=None, whitespace=None), CellStyleFill(color='#610279')]), StyleInfo(locname=LocBody(columns='Loan_Period', rows=[1]), grpname=None, colname='Loan_Period', rownum=1, colnum=None, styles=[CellStyleText(color='#FFFFFF', font=None, size=None, align=None, v_align=None, style=None, weight=None, stretch=None, decorate=None, transform=None, whitespace=None), CellStyleFill(color='#59027f')]), StyleInfo(locname=LocBody(columns='Interest_Rate', rows=[0]), grpname=None, colname='Interest_Rate', rownum=0, colnum=None, styles=[CellStyleText(color='#FFFFFF', font=None, size=None, align=None, v_align=None, style=None, weight=None, stretch=None, decorate=None, transform=None, whitespace=None), CellStyleFill(color='#2202a6')]), StyleInfo(locname=LocBody(columns='Interest_Rate', rows=[1]), grpname=None, colname='Interest_Rate', rownum=1, colnum=None, styles=[CellStyleText(color='#FFFFFF', font=None, size=None, align=None, v_align=None, style=None, weight=None, stretch=None, decorate=None, transform=None, whitespace=None), CellStyleFill(color='#5c027d')]), StyleInfo(locname=LocBody(columns='EMI', rows=[0]), grpname=None, colname='EMI', rownum=0, colnum=None, styles=[CellStyleText(color='#FFFFFF', font=None, size=None, align=None, v_align=None, style=None, weight=None, stretch=None, decorate=None, transform=None, whitespace=None), CellStyleFill(color='#8c025a')]), StyleInfo(locname=LocBody(columns='EMI', rows=[1]), grpname=None, colname='EMI', rownum=1, colnum=None, styles=[CellStyleText(color='#FFFFFF', font=None, size=None, align=None, v_align=None, style=None, weight=None, stretch=None, decorate=None, transform=None, whitespace=None), CellStyleFill(color='#44028e')]), StyleInfo(locname=LocBody(columns='Var1', rows=[0]), grpname=None, colname='Var1', rownum=0, colnum=None, styles=[CellStyleText(color='#FFFFFF', font=None, size=None, align=None, v_align=None, style=None, weight=None, stretch=None, decorate=None, transform=None, whitespace=None), CellStyleFill(color='#9e024d')]), StyleInfo(locname=LocBody(columns='Var1', rows=[1]), grpname=None, colname='Var1', rownum=1, colnum=None, styles=[CellStyleText(color='#FFFFFF', font=None, size=None, align=None, v_align=None, style=None, weight=None, stretch=None, decorate=None, transform=None, whitespace=None), CellStyleFill(color='#5e027b')]), StyleInfo(locname=LocBody(columns='Approved', rows=[0]), grpname=None, colname='Approved', rownum=0, colnum=None, styles=[CellStyleText(color='#FFFFFF', font=None, size=None, align=None, v_align=None, style=None, weight=None, stretch=None, decorate=None, transform=None, whitespace=None), CellStyleFill(color='#6b0272')]), StyleInfo(locname=LocBody(columns='Approved', rows=[1]), grpname=None, colname='Approved', rownum=1, colnum=None, styles=[CellStyleText(color='#FFFFFF', font=None, size=None, align=None, v_align=None, style=None, weight=None, stretch=None, decorate=None, transform=None, whitespace=None), CellStyleFill(color='#650276')])], _locale=<great_tables._gt_data.Locale object at 0x7a431c115900>, _formats=[<great_tables._gt_data.FormatInfo object at 0x7a43340fc590>], _substitutions=[], _options=Options(table_id=OptionsInfo(scss=False, category='table', type='value', value=None), table_caption=OptionsInfo(scss=False, category='table', type='value', value=None), table_width=OptionsInfo(scss=True, category='table', type='px', value='auto'), table_layout=OptionsInfo(scss=True, category='table', type='value', value='fixed'), table_margin_left=OptionsInfo(scss=True, category='table', type='px', value='auto'), table_margin_right=OptionsInfo(scss=True, category='table', type='px', value='auto'), table_background_color=OptionsInfo(scss=True, category='table', type='value', value='#FFFFFF'), table_additional_css=OptionsInfo(scss=False, category='table', type='values', value=[]), table_font_names=OptionsInfo(scss=False, category='table', type='values', value=['-apple-system', 'BlinkMacSystemFont', 'Segoe UI', 'Roboto', 'Oxygen', 'Ubuntu', 'Cantarell', 'Helvetica Neue', 'Fira Sans', 'Droid Sans', 'Arial', 'sans-serif']), table_font_size=OptionsInfo(scss=True, category='table', type='px', value='16px'), table_font_weight=OptionsInfo(scss=True, category='table', type='value', value='normal'), table_font_style=OptionsInfo(scss=True, category='table', type='value', value='normal'), table_font_color=OptionsInfo(scss=True, category='table', type='value', value='#333333'), table_font_color_light=OptionsInfo(scss=True, category='table', type='value', value='#FFFFFF'), table_border_top_include=OptionsInfo(scss=False, category='table', type='boolean', value=True), table_border_top_style=OptionsInfo(scss=True, category='table', type='value', value='solid'), table_border_top_width=OptionsInfo(scss=True, category='table', type='px', value='2px'), table_border_top_color=OptionsInfo(scss=True, category='table', type='value', value='#A8A8A8'), table_border_right_style=OptionsInfo(scss=True, category='table', type='value', value='none'), table_border_right_width=OptionsInfo(scss=True, category='table', type='px', value='2px'), table_border_right_color=OptionsInfo(scss=True, category='table', type='value', value='#D3D3D3'), table_border_bottom_include=OptionsInfo(scss=False, category='table', type='boolean', value=True), table_border_bottom_style=OptionsInfo(scss=True, category='table', type='value', value='solid'), table_border_bottom_width=OptionsInfo(scss=True, category='table', type='px', value='2px'), table_border_bottom_color=OptionsInfo(scss=True, category='table', type='value', value='#A8A8A8'), table_border_left_style=OptionsInfo(scss=True, category='table', type='value', value='none'), table_border_left_width=OptionsInfo(scss=True, category='table', type='px', value='2px'), table_border_left_color=OptionsInfo(scss=True, category='table', type='value', value='#D3D3D3'), heading_background_color=OptionsInfo(scss=True, category='heading', type='value', value=None), heading_align=OptionsInfo(scss=True, category='heading', type='value', value='center'), heading_title_font_size=OptionsInfo(scss=True, category='heading', type='px', value='125%'), heading_title_font_weight=OptionsInfo(scss=True, category='heading', type='value', value='initial'), heading_subtitle_font_size=OptionsInfo(scss=True, category='heading', type='px', value='85%'), heading_subtitle_font_weight=OptionsInfo(scss=True, category='heading', type='value', value='initial'), heading_padding=OptionsInfo(scss=True, category='heading', type='px', value='4px'), heading_padding_horizontal=OptionsInfo(scss=True, category='heading', type='px', value='5px'), heading_border_bottom_style=OptionsInfo(scss=True, category='heading', type='value', value='solid'), heading_border_bottom_width=OptionsInfo(scss=True, category='heading', type='px', value='2px'), heading_border_bottom_color=OptionsInfo(scss=True, category='heading', type='value', value='#D3D3D3'), heading_border_lr_style=OptionsInfo(scss=True, category='heading', type='value', value='none'), heading_border_lr_width=OptionsInfo(scss=True, category='heading', type='px', value='1px'), heading_border_lr_color=OptionsInfo(scss=True, category='heading', type='value', value='#D3D3D3'), column_labels_background_color=OptionsInfo(scss=True, category='column_labels', type='value', value=None), column_labels_font_size=OptionsInfo(scss=True, category='column_labels', type='px', value='100%'), column_labels_font_weight=OptionsInfo(scss=True, category='column_labels', type='value', value='normal'), column_labels_text_transform=OptionsInfo(scss=True, category='column_labels', type='value', value='inherit'), column_labels_padding=OptionsInfo(scss=True, category='column_labels', type='px', value='5px'), column_labels_padding_horizontal=OptionsInfo(scss=True, category='column_labels', type='px', value='5px'), column_labels_vlines_style=OptionsInfo(scss=True, category='table_body', type='value', value='none'), column_labels_vlines_width=OptionsInfo(scss=True, category='table_body', type='px', value='1px'), column_labels_vlines_color=OptionsInfo(scss=True, category='table_body', type='value', value='#D3D3D3'), column_labels_border_top_style=OptionsInfo(scss=True, category='column_labels', type='value', value='solid'), column_labels_border_top_width=OptionsInfo(scss=True, category='column_labels', type='px', value='2px'), column_labels_border_top_color=OptionsInfo(scss=True, category='column_labels', type='value', value='#D3D3D3'), column_labels_border_bottom_style=OptionsInfo(scss=True, category='column_labels', type='value', value='solid'), column_labels_border_bottom_width=OptionsInfo(scss=True, category='column_labels', type='px', value='2px'), column_labels_border_bottom_color=OptionsInfo(scss=True, category='column_labels', type='value', value='#D3D3D3'), column_labels_border_lr_style=OptionsInfo(scss=True, category='column_labels', type='value', value='none'), column_labels_border_lr_width=OptionsInfo(scss=True, category='column_labels', type='px', value='1px'), column_labels_border_lr_color=OptionsInfo(scss=True, category='column_labels', type='value', value='#D3D3D3'), column_labels_hidden=OptionsInfo(scss=False, category='column_labels', type='boolean', value=False), row_group_background_color=OptionsInfo(scss=True, category='row_group', type='value', value=None), row_group_font_size=OptionsInfo(scss=True, category='row_group', type='px', value='100%'), row_group_font_weight=OptionsInfo(scss=True, category='row_group', type='value', value='initial'), row_group_text_transform=OptionsInfo(scss=True, category='row_group', type='value', value='inherit'), row_group_padding=OptionsInfo(scss=True, category='row_group', type='px', value='8px'), row_group_padding_horizontal=OptionsInfo(scss=True, category='row_group', type='px', value='5px'), row_group_border_top_style=OptionsInfo(scss=True, category='row_group', type='value', value='solid'), row_group_border_top_width=OptionsInfo(scss=True, category='row_group', type='px', value='2px'), row_group_border_top_color=OptionsInfo(scss=True, category='row_group', type='value', value='#D3D3D3'), row_group_border_right_style=OptionsInfo(scss=True, category='row_group', type='value', value='none'), row_group_border_right_width=OptionsInfo(scss=True, category='row_group', type='px', value='1px'), row_group_border_right_color=OptionsInfo(scss=True, category='row_group', type='value', value='#D3D3D3'), row_group_border_bottom_style=OptionsInfo(scss=True, category='row_group', type='value', value='solid'), row_group_border_bottom_width=OptionsInfo(scss=True, category='row_group', type='px', value='2px'), row_group_border_bottom_color=OptionsInfo(scss=True, category='row_group', type='value', value='#D3D3D3'), row_group_border_left_style=OptionsInfo(scss=True, category='row_group', type='value', value='none'), row_group_border_left_width=OptionsInfo(scss=True, category='row_group', type='px', value='1px'), row_group_border_left_color=OptionsInfo(scss=True, category='row_group', type='value', value='#D3D3D3'), row_group_as_column=OptionsInfo(scss=False, category='row_group', type='boolean', value=False), table_body_hlines_style=OptionsInfo(scss=True, category='table_body', type='value', value='solid'), table_body_hlines_width=OptionsInfo(scss=True, category='table_body', type='px', value='1px'), table_body_hlines_color=OptionsInfo(scss=True, category='table_body', type='value', value='#D3D3D3'), table_body_vlines_style=OptionsInfo(scss=True, category='table_body', type='value', value='none'), table_body_vlines_width=OptionsInfo(scss=True, category='table_body', type='px', value='1px'), table_body_vlines_color=OptionsInfo(scss=True, category='table_body', type='value', value='#D3D3D3'), table_body_border_top_style=OptionsInfo(scss=True, category='table_body', type='value', value='solid'), table_body_border_top_width=OptionsInfo(scss=True, category='table_body', type='px', value='2px'), table_body_border_top_color=OptionsInfo(scss=True, category='table_body', type='value', value='#D3D3D3'), table_body_border_bottom_style=OptionsInfo(scss=True, category='table_body', type='value', value='solid'), table_body_border_bottom_width=OptionsInfo(scss=True, category='table_body', type='px', value='2px'), table_body_border_bottom_color=OptionsInfo(scss=True, category='table_body', type='value', value='#D3D3D3'), data_row_padding=OptionsInfo(scss=True, category='data_row', type='px', value='8px'), data_row_padding_horizontal=OptionsInfo(scss=True, category='data_row', type='px', value='5px'), stub_background_color=OptionsInfo(scss=True, category='stub', type='value', value=None), stub_font_size=OptionsInfo(scss=True, category='stub', type='px', value='100%'), stub_font_weight=OptionsInfo(scss=True, category='stub', type='value', value='initial'), stub_text_transform=OptionsInfo(scss=True, category='stub', type='value', value='inherit'), stub_border_style=OptionsInfo(scss=True, category='stub', type='value', value='solid'), stub_border_width=OptionsInfo(scss=True, category='stub', type='px', value='2px'), stub_border_color=OptionsInfo(scss=True, category='stub', type='value', value='#D3D3D3'), stub_row_group_background_color=OptionsInfo(scss=True, category='stub', type='value', value=None), stub_row_group_font_size=OptionsInfo(scss=True, category='stub', type='px', value='100%'), stub_row_group_font_weight=OptionsInfo(scss=True, category='stub', type='value', value='initial'), stub_row_group_text_transform=OptionsInfo(scss=True, category='stub', type='value', value='inherit'), stub_row_group_border_style=OptionsInfo(scss=True, category='stub', type='value', value='solid'), stub_row_group_border_width=OptionsInfo(scss=True, category='stub', type='px', value='2px'), stub_row_group_border_color=OptionsInfo(scss=True, category='stub', type='value', value='#D3D3D3'), source_notes_padding=OptionsInfo(scss=True, category='source_notes', type='px', value='4px'), source_notes_padding_horizontal=OptionsInfo(scss=True, category='source_notes', type='px', value='5px'), source_notes_background_color=OptionsInfo(scss=True, category='source_notes', type='value', value=None), source_notes_font_size=OptionsInfo(scss=True, category='source_notes', type='px', value='90%'), source_notes_border_bottom_style=OptionsInfo(scss=True, category='source_notes', type='value', value='none'), source_notes_border_bottom_width=OptionsInfo(scss=True, category='source_notes', type='px', value='2px'), source_notes_border_bottom_color=OptionsInfo(scss=True, category='source_notes', type='value', value='#D3D3D3'), source_notes_border_lr_style=OptionsInfo(scss=True, category='source_notes', type='value', value='none'), source_notes_border_lr_width=OptionsInfo(scss=True, category='source_notes', type='px', value='2px'), source_notes_border_lr_color=OptionsInfo(scss=True, category='source_notes', type='value', value='#D3D3D3'), source_notes_multiline=OptionsInfo(scss=False, category='source_notes', type='boolean', value=True), source_notes_sep=OptionsInfo(scss=False, category='source_notes', type='value', value=' '), row_striping_background_color=OptionsInfo(scss=True, category='row', type='value', value='rgba(128,128,128,0.05)'), row_striping_include_stub=OptionsInfo(scss=False, category='row', type='boolean', value=False), row_striping_include_table_body=OptionsInfo(scss=False, category='row', type='boolean', value=False), container_width=OptionsInfo(scss=False, category='container', type='px', value='auto'), container_height=OptionsInfo(scss=False, category='container', type='px', value='auto'), container_padding_x=OptionsInfo(scss=False, category='container', type='px', value='0px'), container_padding_y=OptionsInfo(scss=False, category='container', type='px', value='10px'), container_overflow_x=OptionsInfo(scss=False, category='container', type='overflow', value='auto'), container_overflow_y=OptionsInfo(scss=False, category='container', type='overflow', value='auto'), quarto_disable_processing=OptionsInfo(scss=False, category='quarto', type='logical', value=False), quarto_use_bootstrap=OptionsInfo(scss=False, category='quarto', type='logical', value=False)), _has_built=False)"
      ]
     },
     "execution_count": 22,
     "metadata": {},
     "output_type": "execute_result"
    }
   ],
   "source": [
    "dia.plot_corr(subset=[\"Monthly_Income\", \"Existing_EMI\"], method=\"spearman\")"
   ]
  },
  {
   "cell_type": "code",
   "execution_count": 23,
   "metadata": {},
   "outputs": [
    {
     "data": {
      "text/html": [
       "<div id=\"ueqxwuhnjg\" style=\"padding-left:0px;padding-right:0px;padding-top:10px;padding-bottom:10px;overflow-x:auto;overflow-y:auto;width:auto;height:auto;\">\n",
       "<style>\n",
       "#ueqxwuhnjg table {\n",
       "          font-family: -apple-system, BlinkMacSystemFont, 'Segoe UI', Roboto, Oxygen, Ubuntu, Cantarell, 'Helvetica Neue', 'Fira Sans', 'Droid Sans', Arial, sans-serif;\n",
       "          -webkit-font-smoothing: antialiased;\n",
       "          -moz-osx-font-smoothing: grayscale;\n",
       "        }\n",
       "\n",
       "#ueqxwuhnjg thead, tbody, tfoot, tr, td, th { border-style: none !important; }\n",
       " tr { background-color: transparent !important; }\n",
       "#ueqxwuhnjg p { margin: 0 !important; padding: 0 !important; }\n",
       " #ueqxwuhnjg .gt_table { display: table !important; border-collapse: collapse !important; line-height: normal !important; margin-left: auto !important; margin-right: auto !important; color: #333333 !important; font-size: 16px !important; font-weight: normal !important; font-style: normal !important; background-color: #FFFFFF !important; width: auto !important; border-top-style: solid !important; border-top-width: 2px !important; border-top-color: #A8A8A8 !important; border-right-style: none !important; border-right-width: 2px !important; border-right-color: #D3D3D3 !important; border-bottom-style: solid !important; border-bottom-width: 2px !important; border-bottom-color: #A8A8A8 !important; border-left-style: none !important; border-left-width: 2px !important; border-left-color: #D3D3D3 !important; }\n",
       " #ueqxwuhnjg .gt_caption { padding-top: 4px !important; padding-bottom: 4px !important; }\n",
       " #ueqxwuhnjg .gt_title { color: #333333 !important; font-size: 125% !important; font-weight: initial !important; padding-top: 4px !important; padding-bottom: 4px !important; padding-left: 5px !important; padding-right: 5px !important; border-bottom-color: #FFFFFF !important; border-bottom-width: 0 !important; }\n",
       " #ueqxwuhnjg .gt_subtitle { color: #333333 !important; font-size: 85% !important; font-weight: initial !important; padding-top: 3px !important; padding-bottom: 5px !important; padding-left: 5px !important; padding-right: 5px !important; border-top-color: #FFFFFF !important; border-top-width: 0 !important; }\n",
       " #ueqxwuhnjg .gt_heading { background-color: #FFFFFF !important; text-align: center !important; border-bottom-color: #FFFFFF !important; border-left-style: none !important; border-left-width: 1px !important; border-left-color: #D3D3D3 !important; border-right-style: none !important; border-right-width: 1px !important; border-right-color: #D3D3D3 !important; }\n",
       " #ueqxwuhnjg .gt_bottom_border { border-bottom-style: solid !important; border-bottom-width: 2px !important; border-bottom-color: #D3D3D3 !important; }\n",
       " #ueqxwuhnjg .gt_col_headings { border-top-style: solid !important; border-top-width: 2px !important; border-top-color: #D3D3D3 !important; border-bottom-style: solid !important; border-bottom-width: 2px !important; border-bottom-color: #D3D3D3 !important; border-left-style: none !important; border-left-width: 1px !important; border-left-color: #D3D3D3 !important; border-right-style: none !important; border-right-width: 1px !important; border-right-color: #D3D3D3 !important; }\n",
       " #ueqxwuhnjg .gt_col_heading { color: #333333 !important; background-color: #FFFFFF !important; font-size: 100% !important; font-weight: normal !important; text-transform: inherit !important; border-left-style: none !important; border-left-width: 1px !important; border-left-color: #D3D3D3 !important; border-right-style: none !important; border-right-width: 1px !important; border-right-color: #D3D3D3 !important; vertical-align: bottom !important; padding-top: 5px !important; padding-bottom: 5px !important; padding-left: 5px !important; padding-right: 5px !important; overflow-x: hidden !important; }\n",
       " #ueqxwuhnjg .gt_column_spanner_outer { color: #333333 !important; background-color: #FFFFFF !important; font-size: 100% !important; font-weight: normal !important; text-transform: inherit !important; padding-top: 0 !important; padding-bottom: 0 !important; padding-left: 4px !important; padding-right: 4px !important; }\n",
       " #ueqxwuhnjg .gt_column_spanner_outer:first-child { padding-left: 0 !important; }\n",
       " #ueqxwuhnjg .gt_column_spanner_outer:last-child { padding-right: 0 !important; }\n",
       " #ueqxwuhnjg .gt_column_spanner { border-bottom-style: solid !important; border-bottom-width: 2px !important; border-bottom-color: #D3D3D3 !important; vertical-align: bottom !important; padding-top: 5px !important; padding-bottom: 5px !important; overflow-x: hidden !important; display: inline-block !important; width: 100% !important; }\n",
       " #ueqxwuhnjg .gt_spanner_row { border-bottom-style: hidden !important; }\n",
       " #ueqxwuhnjg .gt_group_heading { padding-top: 8px !important; padding-bottom: 8px !important; padding-left: 5px !important; padding-right: 5px !important; color: #333333 !important; background-color: #FFFFFF !important; font-size: 100% !important; font-weight: initial !important; text-transform: inherit !important; border-top-style: solid !important; border-top-width: 2px !important; border-top-color: #D3D3D3 !important; border-bottom-style: solid !important; border-bottom-width: 2px !important; border-bottom-color: #D3D3D3 !important; border-left-style: none !important; border-left-width: 1px !important; border-left-color: #D3D3D3 !important; border-right-style: none !important; border-right-width: 1px !important; border-right-color: #D3D3D3 !important; vertical-align: middle !important; text-align: left !important; }\n",
       " #ueqxwuhnjg .gt_empty_group_heading { padding: 0.5px !important; color: #333333 !important; background-color: #FFFFFF !important; font-size: 100% !important; font-weight: initial !important; border-top-style: solid !important; border-top-width: 2px !important; border-top-color: #D3D3D3 !important; border-bottom-style: solid !important; border-bottom-width: 2px !important; border-bottom-color: #D3D3D3 !important; vertical-align: middle !important; }\n",
       " #ueqxwuhnjg .gt_from_md> :first-child { margin-top: 0 !important; }\n",
       " #ueqxwuhnjg .gt_from_md> :last-child { margin-bottom: 0 !important; }\n",
       " #ueqxwuhnjg .gt_row { padding-top: 8px !important; padding-bottom: 8px !important; padding-left: 5px !important; padding-right: 5px !important; margin: 10px !important; border-top-style: solid !important; border-top-width: 1px !important; border-top-color: #D3D3D3 !important; border-left-style: none !important; border-left-width: 1px !important; border-left-color: #D3D3D3 !important; border-right-style: none !important; border-right-width: 1px !important; border-right-color: #D3D3D3 !important; vertical-align: middle !important; overflow-x: hidden !important; }\n",
       " #ueqxwuhnjg .gt_stub { color: #333333 !important; background-color: #FFFFFF !important; font-size: 100% !important; font-weight: initial !important; text-transform: inherit !important; border-right-style: solid !important; border-right-width: 2px !important; border-right-color: #D3D3D3 !important; padding-left: 5px !important; padding-right: 5px !important; }\n",
       " #ueqxwuhnjg .gt_stub_row_group { color: #333333 !important; background-color: #FFFFFF !important; font-size: 100% !important; font-weight: initial !important; text-transform: inherit !important; border-right-style: solid !important; border-right-width: 2px !important; border-right-color: #D3D3D3 !important; padding-left: 5px !important; padding-right: 5px !important; vertical-align: top !important; }\n",
       " #ueqxwuhnjg .gt_row_group_first td { border-top-width: 2px !important; }\n",
       " #ueqxwuhnjg .gt_row_group_first th { border-top-width: 2px !important; }\n",
       " #ueqxwuhnjg .gt_striped { background-color: rgba(128,128,128,0.05) !important; }\n",
       " #ueqxwuhnjg .gt_table_body { border-top-style: solid !important; border-top-width: 2px !important; border-top-color: #D3D3D3 !important; border-bottom-style: solid !important; border-bottom-width: 2px !important; border-bottom-color: #D3D3D3 !important; }\n",
       " #ueqxwuhnjg .gt_sourcenotes { color: #333333 !important; background-color: #FFFFFF !important; border-bottom-style: none !important; border-bottom-width: 2px !important; border-bottom-color: #D3D3D3 !important; border-left-style: none !important; border-left-width: 2px !important; border-left-color: #D3D3D3 !important; border-right-style: none !important; border-right-width: 2px !important; border-right-color: #D3D3D3 !important; }\n",
       " #ueqxwuhnjg .gt_sourcenote { font-size: 90% !important; padding-top: 4px !important; padding-bottom: 4px !important; padding-left: 5px !important; padding-right: 5px !important; text-align: left !important; }\n",
       " #ueqxwuhnjg .gt_left { text-align: left !important; }\n",
       " #ueqxwuhnjg .gt_center { text-align: center !important; }\n",
       " #ueqxwuhnjg .gt_right { text-align: right !important; font-variant-numeric: tabular-nums !important; }\n",
       " #ueqxwuhnjg .gt_font_normal { font-weight: normal !important; }\n",
       " #ueqxwuhnjg .gt_font_bold { font-weight: bold !important; }\n",
       " #ueqxwuhnjg .gt_font_italic { font-style: italic !important; }\n",
       " #ueqxwuhnjg .gt_super { font-size: 65% !important; }\n",
       " #ueqxwuhnjg .gt_footnote_marks { font-size: 75% !important; vertical-align: 0.4em !important; position: initial !important; }\n",
       " #ueqxwuhnjg .gt_asterisk { font-size: 100% !important; vertical-align: 0 !important; }\n",
       " \n",
       "</style>\n",
       "<table class=\"gt_table\" data-quarto-disable-processing=\"false\" data-quarto-bootstrap=\"false\">\n",
       "<thead>\n",
       "\n",
       "<tr class=\"gt_col_headings\">\n",
       "  <th class=\"gt_col_heading gt_columns_bottom_border gt_left\" rowspan=\"1\" colspan=\"1\" scope=\"col\" id=\"column\">column</th>\n",
       "  <th class=\"gt_col_heading gt_columns_bottom_border gt_right\" rowspan=\"1\" colspan=\"1\" scope=\"col\" id=\"Employer_Category2\">Employer_Category2</th>\n",
       "  <th class=\"gt_col_heading gt_columns_bottom_border gt_right\" rowspan=\"1\" colspan=\"1\" scope=\"col\" id=\"Monthly_Income\">Monthly_Income</th>\n",
       "  <th class=\"gt_col_heading gt_columns_bottom_border gt_right\" rowspan=\"1\" colspan=\"1\" scope=\"col\" id=\"Existing_EMI\">Existing_EMI</th>\n",
       "  <th class=\"gt_col_heading gt_columns_bottom_border gt_right\" rowspan=\"1\" colspan=\"1\" scope=\"col\" id=\"Loan_Amount\">Loan_Amount</th>\n",
       "  <th class=\"gt_col_heading gt_columns_bottom_border gt_right\" rowspan=\"1\" colspan=\"1\" scope=\"col\" id=\"Loan_Period\">Loan_Period</th>\n",
       "  <th class=\"gt_col_heading gt_columns_bottom_border gt_right\" rowspan=\"1\" colspan=\"1\" scope=\"col\" id=\"Interest_Rate\">Interest_Rate</th>\n",
       "  <th class=\"gt_col_heading gt_columns_bottom_border gt_right\" rowspan=\"1\" colspan=\"1\" scope=\"col\" id=\"EMI\">EMI</th>\n",
       "  <th class=\"gt_col_heading gt_columns_bottom_border gt_right\" rowspan=\"1\" colspan=\"1\" scope=\"col\" id=\"Var1\">Var1</th>\n",
       "  <th class=\"gt_col_heading gt_columns_bottom_border gt_right\" rowspan=\"1\" colspan=\"1\" scope=\"col\" id=\"Approved\">Approved</th>\n",
       "</tr>\n",
       "</thead>\n",
       "<tbody class=\"gt_table_body\">\n",
       "  <tr>\n",
       "    <td class=\"gt_row gt_left\">Monthly_Income</td>\n",
       "    <td style=\"color: #FFFFFF; background-color: #830261;\" class=\"gt_row gt_right\">0.377</td>\n",
       "    <td style=\"color: #FFFFFF; background-color: #bd0237;\" class=\"gt_row gt_right\">1.000</td>\n",
       "    <td style=\"color: #FFFFFF; background-color: #6a0273;\" class=\"gt_row gt_right\">0.108</td>\n",
       "    <td style=\"color: #FFFFFF; background-color: #a2024a;\" class=\"gt_row gt_right\">0.711</td>\n",
       "    <td style=\"color: #FFFFFF; background-color: #9d024e;\" class=\"gt_row gt_right\">0.655</td>\n",
       "    <td style=\"color: #FFFFFF; background-color: #b3023e;\" class=\"gt_row gt_right\">0.896</td>\n",
       "    <td style=\"color: #FFFFFF; background-color: #b10240;\" class=\"gt_row gt_right\">0.873</td>\n",
       "    <td style=\"color: #FFFFFF; background-color: #8d025a;\" class=\"gt_row gt_right\">0.482</td>\n",
       "    <td style=\"color: #FFFFFF; background-color: #620278;\" class=\"gt_row gt_right\">0.026</td>\n",
       "  </tr>\n",
       "  <tr>\n",
       "    <td class=\"gt_row gt_left\">Existing_EMI</td>\n",
       "    <td style=\"color: #FFFFFF; background-color: #840260;\" class=\"gt_row gt_right\">0.390</td>\n",
       "    <td style=\"color: #FFFFFF; background-color: #6b0272;\" class=\"gt_row gt_right\">0.120</td>\n",
       "    <td style=\"color: #FFFFFF; background-color: #bd0237;\" class=\"gt_row gt_right\">1.000</td>\n",
       "    <td style=\"color: #FFFFFF; background-color: #a1024b;\" class=\"gt_row gt_right\">0.705</td>\n",
       "    <td style=\"color: #FFFFFF; background-color: #a1024b;\" class=\"gt_row gt_right\">0.698</td>\n",
       "    <td style=\"color: #FFFFFF; background-color: #b10240;\" class=\"gt_row gt_right\">0.869</td>\n",
       "    <td style=\"color: #FFFFFF; background-color: #b1023f;\" class=\"gt_row gt_right\">0.874</td>\n",
       "    <td style=\"color: #FFFFFF; background-color: #640277;\" class=\"gt_row gt_right\">0.048</td>\n",
       "    <td style=\"color: #FFFFFF; background-color: #610279;\" class=\"gt_row gt_right\">0.011</td>\n",
       "  </tr>\n",
       "</tbody>\n",
       "\n",
       "\n",
       "</table>\n",
       "\n",
       "</div>\n",
       "        "
      ],
      "text/plain": [
       "GT(_tbl_data=shape: (2, 10)\n",
       "┌────────────┬────────────┬───────────┬───────────┬───┬───────────┬──────────┬──────────┬──────────┐\n",
       "│ column     ┆ Employer_C ┆ Monthly_I ┆ Existing_ ┆ … ┆ Interest_ ┆ EMI      ┆ Var1     ┆ Approved │\n",
       "│ ---        ┆ ategory2   ┆ ncome     ┆ EMI       ┆   ┆ Rate      ┆ ---      ┆ ---      ┆ ---      │\n",
       "│ str        ┆ ---        ┆ ---       ┆ ---       ┆   ┆ ---       ┆ f64      ┆ f64      ┆ f64      │\n",
       "│            ┆ f64        ┆ f64       ┆ f64       ┆   ┆ f64       ┆          ┆          ┆          │\n",
       "╞════════════╪════════════╪═══════════╪═══════════╪═══╪═══════════╪══════════╪══════════╪══════════╡\n",
       "│ Monthly_In ┆ 0.377367   ┆ 0.999957  ┆ 0.108059  ┆ … ┆ 0.896464  ┆ 0.873016 ┆ 0.482006 ┆ 0.025944 │\n",
       "│ come       ┆            ┆           ┆           ┆   ┆           ┆          ┆          ┆          │\n",
       "│ Existing_E ┆ 0.390019   ┆ 0.120282  ┆ 0.999946  ┆ … ┆ 0.868776  ┆ 0.873878 ┆ 0.047955 ┆ 0.01102  │\n",
       "│ MI         ┆            ┆           ┆           ┆   ┆           ┆          ┆          ┆          │\n",
       "└────────────┴────────────┴───────────┴───────────┴───┴───────────┴──────────┴──────────┴──────────┘, _body=<great_tables._gt_data.Body object at 0x7a431c115630>, _boxhead=Boxhead([ColInfo(var='column', type=<ColInfoTypeEnum.default: 1>, column_label='column', column_align='left', column_width=None), ColInfo(var='Employer_Category2', type=<ColInfoTypeEnum.default: 1>, column_label='Employer_Category2', column_align='right', column_width=None), ColInfo(var='Monthly_Income', type=<ColInfoTypeEnum.default: 1>, column_label='Monthly_Income', column_align='right', column_width=None), ColInfo(var='Existing_EMI', type=<ColInfoTypeEnum.default: 1>, column_label='Existing_EMI', column_align='right', column_width=None), ColInfo(var='Loan_Amount', type=<ColInfoTypeEnum.default: 1>, column_label='Loan_Amount', column_align='right', column_width=None), ColInfo(var='Loan_Period', type=<ColInfoTypeEnum.default: 1>, column_label='Loan_Period', column_align='right', column_width=None), ColInfo(var='Interest_Rate', type=<ColInfoTypeEnum.default: 1>, column_label='Interest_Rate', column_align='right', column_width=None), ColInfo(var='EMI', type=<ColInfoTypeEnum.default: 1>, column_label='EMI', column_align='right', column_width=None), ColInfo(var='Var1', type=<ColInfoTypeEnum.default: 1>, column_label='Var1', column_align='right', column_width=None), ColInfo(var='Approved', type=<ColInfoTypeEnum.default: 1>, column_label='Approved', column_align='right', column_width=None)]), _stub=<great_tables._gt_data.Stub object at 0x7a43340fcef0>, _spanners=Spanners([]), _heading=Heading(title=None, subtitle=None, preheader=None), _stubhead=None, _source_notes=[], _footnotes=[], _styles=[StyleInfo(locname=LocBody(columns='Employer_Category2', rows=[0]), grpname=None, colname='Employer_Category2', rownum=0, colnum=None, styles=[CellStyleText(color='#FFFFFF', font=None, size=None, align=None, v_align=None, style=None, weight=None, stretch=None, decorate=None, transform=None, whitespace=None), CellStyleFill(color='#830261')]), StyleInfo(locname=LocBody(columns='Employer_Category2', rows=[1]), grpname=None, colname='Employer_Category2', rownum=1, colnum=None, styles=[CellStyleText(color='#FFFFFF', font=None, size=None, align=None, v_align=None, style=None, weight=None, stretch=None, decorate=None, transform=None, whitespace=None), CellStyleFill(color='#840260')]), StyleInfo(locname=LocBody(columns='Monthly_Income', rows=[0]), grpname=None, colname='Monthly_Income', rownum=0, colnum=None, styles=[CellStyleText(color='#FFFFFF', font=None, size=None, align=None, v_align=None, style=None, weight=None, stretch=None, decorate=None, transform=None, whitespace=None), CellStyleFill(color='#bd0237')]), StyleInfo(locname=LocBody(columns='Monthly_Income', rows=[1]), grpname=None, colname='Monthly_Income', rownum=1, colnum=None, styles=[CellStyleText(color='#FFFFFF', font=None, size=None, align=None, v_align=None, style=None, weight=None, stretch=None, decorate=None, transform=None, whitespace=None), CellStyleFill(color='#6b0272')]), StyleInfo(locname=LocBody(columns='Existing_EMI', rows=[0]), grpname=None, colname='Existing_EMI', rownum=0, colnum=None, styles=[CellStyleText(color='#FFFFFF', font=None, size=None, align=None, v_align=None, style=None, weight=None, stretch=None, decorate=None, transform=None, whitespace=None), CellStyleFill(color='#6a0273')]), StyleInfo(locname=LocBody(columns='Existing_EMI', rows=[1]), grpname=None, colname='Existing_EMI', rownum=1, colnum=None, styles=[CellStyleText(color='#FFFFFF', font=None, size=None, align=None, v_align=None, style=None, weight=None, stretch=None, decorate=None, transform=None, whitespace=None), CellStyleFill(color='#bd0237')]), StyleInfo(locname=LocBody(columns='Loan_Amount', rows=[0]), grpname=None, colname='Loan_Amount', rownum=0, colnum=None, styles=[CellStyleText(color='#FFFFFF', font=None, size=None, align=None, v_align=None, style=None, weight=None, stretch=None, decorate=None, transform=None, whitespace=None), CellStyleFill(color='#a2024a')]), StyleInfo(locname=LocBody(columns='Loan_Amount', rows=[1]), grpname=None, colname='Loan_Amount', rownum=1, colnum=None, styles=[CellStyleText(color='#FFFFFF', font=None, size=None, align=None, v_align=None, style=None, weight=None, stretch=None, decorate=None, transform=None, whitespace=None), CellStyleFill(color='#a1024b')]), StyleInfo(locname=LocBody(columns='Loan_Period', rows=[0]), grpname=None, colname='Loan_Period', rownum=0, colnum=None, styles=[CellStyleText(color='#FFFFFF', font=None, size=None, align=None, v_align=None, style=None, weight=None, stretch=None, decorate=None, transform=None, whitespace=None), CellStyleFill(color='#9d024e')]), StyleInfo(locname=LocBody(columns='Loan_Period', rows=[1]), grpname=None, colname='Loan_Period', rownum=1, colnum=None, styles=[CellStyleText(color='#FFFFFF', font=None, size=None, align=None, v_align=None, style=None, weight=None, stretch=None, decorate=None, transform=None, whitespace=None), CellStyleFill(color='#a1024b')]), StyleInfo(locname=LocBody(columns='Interest_Rate', rows=[0]), grpname=None, colname='Interest_Rate', rownum=0, colnum=None, styles=[CellStyleText(color='#FFFFFF', font=None, size=None, align=None, v_align=None, style=None, weight=None, stretch=None, decorate=None, transform=None, whitespace=None), CellStyleFill(color='#b3023e')]), StyleInfo(locname=LocBody(columns='Interest_Rate', rows=[1]), grpname=None, colname='Interest_Rate', rownum=1, colnum=None, styles=[CellStyleText(color='#FFFFFF', font=None, size=None, align=None, v_align=None, style=None, weight=None, stretch=None, decorate=None, transform=None, whitespace=None), CellStyleFill(color='#b10240')]), StyleInfo(locname=LocBody(columns='EMI', rows=[0]), grpname=None, colname='EMI', rownum=0, colnum=None, styles=[CellStyleText(color='#FFFFFF', font=None, size=None, align=None, v_align=None, style=None, weight=None, stretch=None, decorate=None, transform=None, whitespace=None), CellStyleFill(color='#b10240')]), StyleInfo(locname=LocBody(columns='EMI', rows=[1]), grpname=None, colname='EMI', rownum=1, colnum=None, styles=[CellStyleText(color='#FFFFFF', font=None, size=None, align=None, v_align=None, style=None, weight=None, stretch=None, decorate=None, transform=None, whitespace=None), CellStyleFill(color='#b1023f')]), StyleInfo(locname=LocBody(columns='Var1', rows=[0]), grpname=None, colname='Var1', rownum=0, colnum=None, styles=[CellStyleText(color='#FFFFFF', font=None, size=None, align=None, v_align=None, style=None, weight=None, stretch=None, decorate=None, transform=None, whitespace=None), CellStyleFill(color='#8d025a')]), StyleInfo(locname=LocBody(columns='Var1', rows=[1]), grpname=None, colname='Var1', rownum=1, colnum=None, styles=[CellStyleText(color='#FFFFFF', font=None, size=None, align=None, v_align=None, style=None, weight=None, stretch=None, decorate=None, transform=None, whitespace=None), CellStyleFill(color='#640277')]), StyleInfo(locname=LocBody(columns='Approved', rows=[0]), grpname=None, colname='Approved', rownum=0, colnum=None, styles=[CellStyleText(color='#FFFFFF', font=None, size=None, align=None, v_align=None, style=None, weight=None, stretch=None, decorate=None, transform=None, whitespace=None), CellStyleFill(color='#620278')]), StyleInfo(locname=LocBody(columns='Approved', rows=[1]), grpname=None, colname='Approved', rownum=1, colnum=None, styles=[CellStyleText(color='#FFFFFF', font=None, size=None, align=None, v_align=None, style=None, weight=None, stretch=None, decorate=None, transform=None, whitespace=None), CellStyleFill(color='#610279')])], _locale=<great_tables._gt_data.Locale object at 0x7a431c116b20>, _formats=[<great_tables._gt_data.FormatInfo object at 0x7a43340fd2b0>], _substitutions=[], _options=Options(table_id=OptionsInfo(scss=False, category='table', type='value', value=None), table_caption=OptionsInfo(scss=False, category='table', type='value', value=None), table_width=OptionsInfo(scss=True, category='table', type='px', value='auto'), table_layout=OptionsInfo(scss=True, category='table', type='value', value='fixed'), table_margin_left=OptionsInfo(scss=True, category='table', type='px', value='auto'), table_margin_right=OptionsInfo(scss=True, category='table', type='px', value='auto'), table_background_color=OptionsInfo(scss=True, category='table', type='value', value='#FFFFFF'), table_additional_css=OptionsInfo(scss=False, category='table', type='values', value=[]), table_font_names=OptionsInfo(scss=False, category='table', type='values', value=['-apple-system', 'BlinkMacSystemFont', 'Segoe UI', 'Roboto', 'Oxygen', 'Ubuntu', 'Cantarell', 'Helvetica Neue', 'Fira Sans', 'Droid Sans', 'Arial', 'sans-serif']), table_font_size=OptionsInfo(scss=True, category='table', type='px', value='16px'), table_font_weight=OptionsInfo(scss=True, category='table', type='value', value='normal'), table_font_style=OptionsInfo(scss=True, category='table', type='value', value='normal'), table_font_color=OptionsInfo(scss=True, category='table', type='value', value='#333333'), table_font_color_light=OptionsInfo(scss=True, category='table', type='value', value='#FFFFFF'), table_border_top_include=OptionsInfo(scss=False, category='table', type='boolean', value=True), table_border_top_style=OptionsInfo(scss=True, category='table', type='value', value='solid'), table_border_top_width=OptionsInfo(scss=True, category='table', type='px', value='2px'), table_border_top_color=OptionsInfo(scss=True, category='table', type='value', value='#A8A8A8'), table_border_right_style=OptionsInfo(scss=True, category='table', type='value', value='none'), table_border_right_width=OptionsInfo(scss=True, category='table', type='px', value='2px'), table_border_right_color=OptionsInfo(scss=True, category='table', type='value', value='#D3D3D3'), table_border_bottom_include=OptionsInfo(scss=False, category='table', type='boolean', value=True), table_border_bottom_style=OptionsInfo(scss=True, category='table', type='value', value='solid'), table_border_bottom_width=OptionsInfo(scss=True, category='table', type='px', value='2px'), table_border_bottom_color=OptionsInfo(scss=True, category='table', type='value', value='#A8A8A8'), table_border_left_style=OptionsInfo(scss=True, category='table', type='value', value='none'), table_border_left_width=OptionsInfo(scss=True, category='table', type='px', value='2px'), table_border_left_color=OptionsInfo(scss=True, category='table', type='value', value='#D3D3D3'), heading_background_color=OptionsInfo(scss=True, category='heading', type='value', value=None), heading_align=OptionsInfo(scss=True, category='heading', type='value', value='center'), heading_title_font_size=OptionsInfo(scss=True, category='heading', type='px', value='125%'), heading_title_font_weight=OptionsInfo(scss=True, category='heading', type='value', value='initial'), heading_subtitle_font_size=OptionsInfo(scss=True, category='heading', type='px', value='85%'), heading_subtitle_font_weight=OptionsInfo(scss=True, category='heading', type='value', value='initial'), heading_padding=OptionsInfo(scss=True, category='heading', type='px', value='4px'), heading_padding_horizontal=OptionsInfo(scss=True, category='heading', type='px', value='5px'), heading_border_bottom_style=OptionsInfo(scss=True, category='heading', type='value', value='solid'), heading_border_bottom_width=OptionsInfo(scss=True, category='heading', type='px', value='2px'), heading_border_bottom_color=OptionsInfo(scss=True, category='heading', type='value', value='#D3D3D3'), heading_border_lr_style=OptionsInfo(scss=True, category='heading', type='value', value='none'), heading_border_lr_width=OptionsInfo(scss=True, category='heading', type='px', value='1px'), heading_border_lr_color=OptionsInfo(scss=True, category='heading', type='value', value='#D3D3D3'), column_labels_background_color=OptionsInfo(scss=True, category='column_labels', type='value', value=None), column_labels_font_size=OptionsInfo(scss=True, category='column_labels', type='px', value='100%'), column_labels_font_weight=OptionsInfo(scss=True, category='column_labels', type='value', value='normal'), column_labels_text_transform=OptionsInfo(scss=True, category='column_labels', type='value', value='inherit'), column_labels_padding=OptionsInfo(scss=True, category='column_labels', type='px', value='5px'), column_labels_padding_horizontal=OptionsInfo(scss=True, category='column_labels', type='px', value='5px'), column_labels_vlines_style=OptionsInfo(scss=True, category='table_body', type='value', value='none'), column_labels_vlines_width=OptionsInfo(scss=True, category='table_body', type='px', value='1px'), column_labels_vlines_color=OptionsInfo(scss=True, category='table_body', type='value', value='#D3D3D3'), column_labels_border_top_style=OptionsInfo(scss=True, category='column_labels', type='value', value='solid'), column_labels_border_top_width=OptionsInfo(scss=True, category='column_labels', type='px', value='2px'), column_labels_border_top_color=OptionsInfo(scss=True, category='column_labels', type='value', value='#D3D3D3'), column_labels_border_bottom_style=OptionsInfo(scss=True, category='column_labels', type='value', value='solid'), column_labels_border_bottom_width=OptionsInfo(scss=True, category='column_labels', type='px', value='2px'), column_labels_border_bottom_color=OptionsInfo(scss=True, category='column_labels', type='value', value='#D3D3D3'), column_labels_border_lr_style=OptionsInfo(scss=True, category='column_labels', type='value', value='none'), column_labels_border_lr_width=OptionsInfo(scss=True, category='column_labels', type='px', value='1px'), column_labels_border_lr_color=OptionsInfo(scss=True, category='column_labels', type='value', value='#D3D3D3'), column_labels_hidden=OptionsInfo(scss=False, category='column_labels', type='boolean', value=False), row_group_background_color=OptionsInfo(scss=True, category='row_group', type='value', value=None), row_group_font_size=OptionsInfo(scss=True, category='row_group', type='px', value='100%'), row_group_font_weight=OptionsInfo(scss=True, category='row_group', type='value', value='initial'), row_group_text_transform=OptionsInfo(scss=True, category='row_group', type='value', value='inherit'), row_group_padding=OptionsInfo(scss=True, category='row_group', type='px', value='8px'), row_group_padding_horizontal=OptionsInfo(scss=True, category='row_group', type='px', value='5px'), row_group_border_top_style=OptionsInfo(scss=True, category='row_group', type='value', value='solid'), row_group_border_top_width=OptionsInfo(scss=True, category='row_group', type='px', value='2px'), row_group_border_top_color=OptionsInfo(scss=True, category='row_group', type='value', value='#D3D3D3'), row_group_border_right_style=OptionsInfo(scss=True, category='row_group', type='value', value='none'), row_group_border_right_width=OptionsInfo(scss=True, category='row_group', type='px', value='1px'), row_group_border_right_color=OptionsInfo(scss=True, category='row_group', type='value', value='#D3D3D3'), row_group_border_bottom_style=OptionsInfo(scss=True, category='row_group', type='value', value='solid'), row_group_border_bottom_width=OptionsInfo(scss=True, category='row_group', type='px', value='2px'), row_group_border_bottom_color=OptionsInfo(scss=True, category='row_group', type='value', value='#D3D3D3'), row_group_border_left_style=OptionsInfo(scss=True, category='row_group', type='value', value='none'), row_group_border_left_width=OptionsInfo(scss=True, category='row_group', type='px', value='1px'), row_group_border_left_color=OptionsInfo(scss=True, category='row_group', type='value', value='#D3D3D3'), row_group_as_column=OptionsInfo(scss=False, category='row_group', type='boolean', value=False), table_body_hlines_style=OptionsInfo(scss=True, category='table_body', type='value', value='solid'), table_body_hlines_width=OptionsInfo(scss=True, category='table_body', type='px', value='1px'), table_body_hlines_color=OptionsInfo(scss=True, category='table_body', type='value', value='#D3D3D3'), table_body_vlines_style=OptionsInfo(scss=True, category='table_body', type='value', value='none'), table_body_vlines_width=OptionsInfo(scss=True, category='table_body', type='px', value='1px'), table_body_vlines_color=OptionsInfo(scss=True, category='table_body', type='value', value='#D3D3D3'), table_body_border_top_style=OptionsInfo(scss=True, category='table_body', type='value', value='solid'), table_body_border_top_width=OptionsInfo(scss=True, category='table_body', type='px', value='2px'), table_body_border_top_color=OptionsInfo(scss=True, category='table_body', type='value', value='#D3D3D3'), table_body_border_bottom_style=OptionsInfo(scss=True, category='table_body', type='value', value='solid'), table_body_border_bottom_width=OptionsInfo(scss=True, category='table_body', type='px', value='2px'), table_body_border_bottom_color=OptionsInfo(scss=True, category='table_body', type='value', value='#D3D3D3'), data_row_padding=OptionsInfo(scss=True, category='data_row', type='px', value='8px'), data_row_padding_horizontal=OptionsInfo(scss=True, category='data_row', type='px', value='5px'), stub_background_color=OptionsInfo(scss=True, category='stub', type='value', value=None), stub_font_size=OptionsInfo(scss=True, category='stub', type='px', value='100%'), stub_font_weight=OptionsInfo(scss=True, category='stub', type='value', value='initial'), stub_text_transform=OptionsInfo(scss=True, category='stub', type='value', value='inherit'), stub_border_style=OptionsInfo(scss=True, category='stub', type='value', value='solid'), stub_border_width=OptionsInfo(scss=True, category='stub', type='px', value='2px'), stub_border_color=OptionsInfo(scss=True, category='stub', type='value', value='#D3D3D3'), stub_row_group_background_color=OptionsInfo(scss=True, category='stub', type='value', value=None), stub_row_group_font_size=OptionsInfo(scss=True, category='stub', type='px', value='100%'), stub_row_group_font_weight=OptionsInfo(scss=True, category='stub', type='value', value='initial'), stub_row_group_text_transform=OptionsInfo(scss=True, category='stub', type='value', value='inherit'), stub_row_group_border_style=OptionsInfo(scss=True, category='stub', type='value', value='solid'), stub_row_group_border_width=OptionsInfo(scss=True, category='stub', type='px', value='2px'), stub_row_group_border_color=OptionsInfo(scss=True, category='stub', type='value', value='#D3D3D3'), source_notes_padding=OptionsInfo(scss=True, category='source_notes', type='px', value='4px'), source_notes_padding_horizontal=OptionsInfo(scss=True, category='source_notes', type='px', value='5px'), source_notes_background_color=OptionsInfo(scss=True, category='source_notes', type='value', value=None), source_notes_font_size=OptionsInfo(scss=True, category='source_notes', type='px', value='90%'), source_notes_border_bottom_style=OptionsInfo(scss=True, category='source_notes', type='value', value='none'), source_notes_border_bottom_width=OptionsInfo(scss=True, category='source_notes', type='px', value='2px'), source_notes_border_bottom_color=OptionsInfo(scss=True, category='source_notes', type='value', value='#D3D3D3'), source_notes_border_lr_style=OptionsInfo(scss=True, category='source_notes', type='value', value='none'), source_notes_border_lr_width=OptionsInfo(scss=True, category='source_notes', type='px', value='2px'), source_notes_border_lr_color=OptionsInfo(scss=True, category='source_notes', type='value', value='#D3D3D3'), source_notes_multiline=OptionsInfo(scss=False, category='source_notes', type='boolean', value=True), source_notes_sep=OptionsInfo(scss=False, category='source_notes', type='value', value=' '), row_striping_background_color=OptionsInfo(scss=True, category='row', type='value', value='rgba(128,128,128,0.05)'), row_striping_include_stub=OptionsInfo(scss=False, category='row', type='boolean', value=False), row_striping_include_table_body=OptionsInfo(scss=False, category='row', type='boolean', value=False), container_width=OptionsInfo(scss=False, category='container', type='px', value='auto'), container_height=OptionsInfo(scss=False, category='container', type='px', value='auto'), container_padding_x=OptionsInfo(scss=False, category='container', type='px', value='0px'), container_padding_y=OptionsInfo(scss=False, category='container', type='px', value='10px'), container_overflow_x=OptionsInfo(scss=False, category='container', type='overflow', value='auto'), container_overflow_y=OptionsInfo(scss=False, category='container', type='overflow', value='auto'), quarto_disable_processing=OptionsInfo(scss=False, category='quarto', type='logical', value=False), quarto_use_bootstrap=OptionsInfo(scss=False, category='quarto', type='logical', value=False)), _has_built=False)"
      ]
     },
     "execution_count": 23,
     "metadata": {},
     "output_type": "execute_result"
    }
   ],
   "source": [
    "dia.plot_corr(subset=[\"Monthly_Income\", \"Existing_EMI\"], method=\"xi\")"
   ]
  },
  {
   "cell_type": "code",
   "execution_count": 24,
   "metadata": {},
   "outputs": [
    {
     "data": {
      "text/html": [
       "<div><style>\n",
       ".dataframe > thead > tr,\n",
       ".dataframe > tbody > tr {\n",
       "  text-align: right;\n",
       "  white-space: pre-wrap;\n",
       "}\n",
       "</style>\n",
       "<small>shape: (7, 3)</small><table border=\"1\" class=\"dataframe\"><thead><tr><th>column_1</th><th>column_2</th><th>null_corr</th></tr><tr><td>str</td><td>str</td><td>f64</td></tr></thead><tbody><tr><td>&quot;City_Code&quot;</td><td>&quot;City_Category&quot;</td><td>1.0</td></tr><tr><td>&quot;Employer_Code&quot;</td><td>&quot;Employer_Category1&quot;</td><td>1.0</td></tr><tr><td>&quot;Customer_Existing_Primary_Bank…</td><td>&quot;Primary_Bank_Type&quot;</td><td>1.0</td></tr><tr><td>&quot;Loan_Amount&quot;</td><td>&quot;Loan_Period&quot;</td><td>1.0</td></tr><tr><td>&quot;Interest_Rate&quot;</td><td>&quot;EMI&quot;</td><td>1.0</td></tr><tr><td>&quot;Employer_Code&quot;</td><td>&quot;Employer_Category2&quot;</td><td>0.964816</td></tr><tr><td>&quot;Employer_Category1&quot;</td><td>&quot;Employer_Category2&quot;</td><td>0.964816</td></tr></tbody></table></div>"
      ],
      "text/plain": [
       "shape: (7, 3)\n",
       "┌─────────────────────────────────┬────────────────────┬───────────┐\n",
       "│ column_1                        ┆ column_2           ┆ null_corr │\n",
       "│ ---                             ┆ ---                ┆ ---       │\n",
       "│ str                             ┆ str                ┆ f64       │\n",
       "╞═════════════════════════════════╪════════════════════╪═══════════╡\n",
       "│ City_Code                       ┆ City_Category      ┆ 1.0       │\n",
       "│ Employer_Code                   ┆ Employer_Category1 ┆ 1.0       │\n",
       "│ Customer_Existing_Primary_Bank… ┆ Primary_Bank_Type  ┆ 1.0       │\n",
       "│ Loan_Amount                     ┆ Loan_Period        ┆ 1.0       │\n",
       "│ Interest_Rate                   ┆ EMI                ┆ 1.0       │\n",
       "│ Employer_Code                   ┆ Employer_Category2 ┆ 0.964816  │\n",
       "│ Employer_Category1              ┆ Employer_Category2 ┆ 0.964816  │\n",
       "└─────────────────────────────────┴────────────────────┴───────────┘"
      ]
     },
     "execution_count": 24,
     "metadata": {},
     "output_type": "execute_result"
    }
   ],
   "source": [
    "# Correlation between A is null and B is null for A, B combinations in the subset\n",
    "dia.null_corr(subset = pl.all()).filter(\n",
    "    pl.col(\"null_corr\").abs() > 0.7\n",
    ")"
   ]
  },
  {
   "cell_type": "code",
   "execution_count": 25,
   "metadata": {},
   "outputs": [
    {
     "data": {
      "application/vnd.vega.v5+json": {
       "$schema": "https://vega.github.io/schema/vega/v5.json",
       "background": "white",
       "data": [
        {
         "name": "source_0",
         "values": [
          {
           "__count": 3822,
           "bin_maxbins_100_EMI": 800,
           "bin_maxbins_100_EMI_end": 1000
          },
          {
           "__count": 70,
           "bin_maxbins_100_EMI": 3000,
           "bin_maxbins_100_EMI_end": 3200
          },
          {
           "__count": 3484,
           "bin_maxbins_100_EMI": 1000,
           "bin_maxbins_100_EMI_end": 1200
          },
          {
           "__count": 827,
           "bin_maxbins_100_EMI": 1600,
           "bin_maxbins_100_EMI_end": 1800
          },
          {
           "__count": 3136,
           "bin_maxbins_100_EMI": 400,
           "bin_maxbins_100_EMI_end": 600
          },
          {
           "__count": 3172,
           "bin_maxbins_100_EMI": 600,
           "bin_maxbins_100_EMI_end": 800
          },
          {
           "__count": 1741,
           "bin_maxbins_100_EMI": 1200,
           "bin_maxbins_100_EMI_end": 1400
          },
          {
           "__count": 161,
           "bin_maxbins_100_EMI": 3400,
           "bin_maxbins_100_EMI_end": 3600
          },
          {
           "__count": 24,
           "bin_maxbins_100_EMI": 4200,
           "bin_maxbins_100_EMI_end": 4400
          },
          {
           "__count": 66,
           "bin_maxbins_100_EMI": 0,
           "bin_maxbins_100_EMI_end": 200
          },
          {
           "__count": 2111,
           "bin_maxbins_100_EMI": 200,
           "bin_maxbins_100_EMI_end": 400
          },
          {
           "__count": 387,
           "bin_maxbins_100_EMI": 2200,
           "bin_maxbins_100_EMI_end": 2400
          },
          {
           "__count": 1304,
           "bin_maxbins_100_EMI": 1400,
           "bin_maxbins_100_EMI_end": 1600
          },
          {
           "__count": 11,
           "bin_maxbins_100_EMI": 5400,
           "bin_maxbins_100_EMI_end": 5600
          },
          {
           "__count": 271,
           "bin_maxbins_100_EMI": 2000,
           "bin_maxbins_100_EMI_end": 2200
          },
          {
           "__count": 277,
           "bin_maxbins_100_EMI": 2400,
           "bin_maxbins_100_EMI_end": 2600
          },
          {
           "__count": 609,
           "bin_maxbins_100_EMI": 1800,
           "bin_maxbins_100_EMI_end": 2000
          },
          {
           "__count": 1,
           "bin_maxbins_100_EMI": 6000,
           "bin_maxbins_100_EMI_end": 6200
          },
          {
           "__count": 121,
           "bin_maxbins_100_EMI": 4000,
           "bin_maxbins_100_EMI_end": 4200
          },
          {
           "__count": 48,
           "bin_maxbins_100_EMI": 3600,
           "bin_maxbins_100_EMI_end": 3800
          },
          {
           "__count": 121,
           "bin_maxbins_100_EMI": 2800,
           "bin_maxbins_100_EMI_end": 3000
          },
          {
           "__count": 108,
           "bin_maxbins_100_EMI": 3200,
           "bin_maxbins_100_EMI_end": 3400
          },
          {
           "__count": 250,
           "bin_maxbins_100_EMI": 2600,
           "bin_maxbins_100_EMI_end": 2800
          },
          {
           "__count": 8,
           "bin_maxbins_100_EMI": 5200,
           "bin_maxbins_100_EMI_end": 5400
          },
          {
           "__count": 14,
           "bin_maxbins_100_EMI": 5000,
           "bin_maxbins_100_EMI_end": 5200
          },
          {
           "__count": 22,
           "bin_maxbins_100_EMI": 4800,
           "bin_maxbins_100_EMI_end": 5000
          },
          {
           "__count": 36,
           "bin_maxbins_100_EMI": 3800,
           "bin_maxbins_100_EMI_end": 4000
          },
          {
           "__count": 30,
           "bin_maxbins_100_EMI": 4400,
           "bin_maxbins_100_EMI_end": 4600
          },
          {
           "__count": 2,
           "bin_maxbins_100_EMI": 13400,
           "bin_maxbins_100_EMI_end": 13600
          },
          {
           "__count": 19,
           "bin_maxbins_100_EMI": 4600,
           "bin_maxbins_100_EMI_end": 4800
          },
          {
           "__count": 1,
           "bin_maxbins_100_EMI": 7800,
           "bin_maxbins_100_EMI_end": 8000
          },
          {
           "__count": 8,
           "bin_maxbins_100_EMI": 6600,
           "bin_maxbins_100_EMI_end": 6800
          },
          {
           "__count": 6,
           "bin_maxbins_100_EMI": 5800,
           "bin_maxbins_100_EMI_end": 6000
          },
          {
           "__count": 3,
           "bin_maxbins_100_EMI": 6200,
           "bin_maxbins_100_EMI_end": 6400
          },
          {
           "__count": 2,
           "bin_maxbins_100_EMI": 5600,
           "bin_maxbins_100_EMI_end": 5800
          },
          {
           "__count": 1,
           "bin_maxbins_100_EMI": 6400,
           "bin_maxbins_100_EMI_end": 6600
          },
          {
           "__count": 1,
           "bin_maxbins_100_EMI": 6800,
           "bin_maxbins_100_EMI_end": 7000
          },
          {
           "__count": 1,
           "bin_maxbins_100_EMI": 9600,
           "bin_maxbins_100_EMI_end": 9800
          }
         ]
        },
        {
         "name": "source_1",
         "values": [
          {
           "names": "p5",
           "stats": 344
          },
          {
           "names": "median",
           "stats": 941
          },
          {
           "names": "avg",
           "stats": 1101.4662416950978
          },
          {
           "names": "p95",
           "stats": 2545
          }
         ]
        },
        {
         "name": "source_2",
         "values": [
          {
           "names": "",
           "pcts": 0.6804613199833603,
           "pcts_end": 0.6804613199833603,
           "pcts_start": 0
          }
         ]
        },
        {
         "name": "source_0_concat_0_y_domain___count",
         "values": [
          {
           "max": 3822,
           "min": 1
          }
         ]
        },
        {
         "name": "source_2_concat_1_y_domain_names",
         "values": [
          {
           "names": ""
          }
         ]
        }
       ],
       "layout": {
        "align": "each",
        "bounds": "full",
        "columns": 1,
        "padding": 20
       },
       "marks": [
        {
         "axes": [
          {
           "aria": false,
           "domain": false,
           "grid": true,
           "gridScale": "concat_0_x",
           "labels": false,
           "maxExtent": 0,
           "minExtent": 0,
           "orient": "left",
           "scale": "concat_0_y",
           "tickCount": {
            "signal": "ceil(concat_0_height/40)"
           },
           "ticks": false,
           "zindex": 0
          },
          {
           "grid": false,
           "labelFlush": true,
           "labelOverlap": true,
           "orient": "bottom",
           "scale": "concat_0_x",
           "tickCount": {
            "signal": "ceil(width/10)"
           },
           "title": "EMI",
           "zindex": 0
          },
          {
           "grid": false,
           "labelOverlap": true,
           "orient": "left",
           "scale": "concat_0_y",
           "tickCount": {
            "signal": "ceil(concat_0_height/40)"
           },
           "title": "Count of Records",
           "zindex": 0
          }
         ],
         "encode": {
          "update": {
           "height": {
            "signal": "concat_0_height"
           },
           "width": {
            "signal": "width"
           }
          }
         },
         "marks": [
          {
           "encode": {
            "update": {
             "fill": {
              "value": "#4c78a8"
             },
             "x": {
              "field": "bin_maxbins_100_EMI_end",
              "offset": {
               "signal": "0.5 + (abs(scale(\"concat_0_x\", datum[\"bin_maxbins_100_EMI_end\"]) - scale(\"concat_0_x\", datum[\"bin_maxbins_100_EMI\"])) < 0.25 ? 0.5 * (0.25 - (abs(scale(\"concat_0_x\", datum[\"bin_maxbins_100_EMI_end\"]) - scale(\"concat_0_x\", datum[\"bin_maxbins_100_EMI\"])))) : -0.5)"
              },
              "scale": "concat_0_x"
             },
             "x2": {
              "field": "bin_maxbins_100_EMI",
              "offset": {
               "signal": "0.5 + (abs(scale(\"concat_0_x\", datum[\"bin_maxbins_100_EMI_end\"]) - scale(\"concat_0_x\", datum[\"bin_maxbins_100_EMI\"])) < 0.25 ? -0.5 * (0.25 - (abs(scale(\"concat_0_x\", datum[\"bin_maxbins_100_EMI_end\"]) - scale(\"concat_0_x\", datum[\"bin_maxbins_100_EMI\"])))) : 0.5)"
              },
              "scale": "concat_0_x"
             },
             "y": {
              "field": "__count",
              "scale": "concat_0_y"
             },
             "y2": {
              "scale": "concat_0_y",
              "value": 0
             }
            }
           },
           "from": {
            "data": "source_0"
           },
           "name": "concat_0_layer_0_marks",
           "style": [
            "bar"
           ],
           "type": "rect"
          },
          {
           "encode": {
            "update": {
             "stroke": {
              "value": "#f086ab"
             },
             "tooltip": {
              "signal": "{\"Stats\": isValid(datum[\"names\"]) ? datum[\"names\"] : \"\"+datum[\"names\"], \"Value\": format(datum[\"stats\"], \"\")}"
             },
             "x": {
              "field": "stats",
              "scale": "concat_0_x"
             },
             "y": {
              "value": 0
             },
             "y2": {
              "field": {
               "datum": null,
               "group": "height",
               "parent": null,
               "signal": null
              }
             }
            }
           },
           "from": {
            "data": "source_1"
           },
           "name": "concat_0_layer_1_marks",
           "style": [
            "rule"
           ],
           "type": "rule"
          }
         ],
         "name": "concat_0_group",
         "style": "cell",
         "type": "group"
        },
        {
         "axes": [
          {
           "aria": false,
           "domain": false,
           "grid": true,
           "gridScale": "concat_1_y",
           "labels": false,
           "maxExtent": 0,
           "minExtent": 0,
           "orient": "bottom",
           "scale": "concat_1_x",
           "tickCount": {
            "signal": "ceil(width/40)"
           },
           "ticks": false,
           "zindex": 0
          },
          {
           "format": ".0%",
           "grid": false,
           "labelFlush": true,
           "labelOverlap": true,
           "orient": "bottom",
           "scale": "concat_1_x",
           "tickCount": {
            "signal": "ceil(width/40)"
           },
           "title": "Null or Non-Finite %",
           "zindex": 0
          },
          {
           "grid": false,
           "orient": "left",
           "scale": "concat_1_y",
           "zindex": 0
          }
         ],
         "encode": {
          "update": {
           "height": {
            "signal": "concat_1_height"
           },
           "width": {
            "signal": "width"
           }
          }
         },
         "marks": [
          {
           "encode": {
            "update": {
             "fill": {
              "value": "#4c78a8"
             },
             "height": {
              "signal": "max(0.25, bandwidth('concat_1_y'))"
             },
             "opacity": {
              "value": 0.7
             },
             "tooltip": {
              "signal": "{\"Null or Non-Finite %\": format(datum[\"pcts\"], \"\")}"
             },
             "x": {
              "field": "pcts_end",
              "scale": "concat_1_x"
             },
             "x2": {
              "field": "pcts_start",
              "scale": "concat_1_x"
             },
             "y": {
              "field": "names",
              "scale": "concat_1_y"
             }
            }
           },
           "from": {
            "data": "source_2"
           },
           "name": "concat_1_marks",
           "style": [
            "bar"
           ],
           "type": "rect"
          }
         ],
         "name": "concat_1_group",
         "style": "cell",
         "type": "group"
        }
       ],
       "padding": 5,
       "scales": [
        {
         "bins": {
          "signal": "concat_0_layer_0_bin_maxbins_100_EMI_bins"
         },
         "domain": {
          "fields": [
           {
            "signal": "[concat_0_layer_0_bin_maxbins_100_EMI_bins.start, concat_0_layer_0_bin_maxbins_100_EMI_bins.stop]"
           },
           {
            "data": "source_1",
            "field": "stats"
           }
          ]
         },
         "name": "concat_0_x",
         "nice": true,
         "range": [
          0,
          {
           "signal": "width"
          }
         ],
         "type": "linear",
         "zero": false
        },
        {
         "domain": [
          {
           "signal": "(data(\"source_0_concat_0_y_domain___count\")[0] || {}).min"
          },
          {
           "signal": "(data(\"source_0_concat_0_y_domain___count\")[0] || {}).max"
          }
         ],
         "name": "concat_0_y",
         "nice": true,
         "range": [
          {
           "signal": "concat_0_height"
          },
          0
         ],
         "type": "linear",
         "zero": true
        },
        {
         "domain": [
          0,
          1
         ],
         "name": "concat_1_x",
         "range": [
          0,
          {
           "signal": "width"
          }
         ],
         "type": "linear",
         "zero": true
        },
        {
         "domain": {
          "data": "source_2_concat_1_y_domain_names",
          "field": "names",
          "sort": true
         },
         "name": "concat_1_y",
         "paddingInner": 0.1,
         "paddingOuter": 0.05,
         "range": {
          "step": {
           "signal": "concat_1_y_step"
          }
         },
         "type": "band"
        }
       ],
       "signals": [
        {
         "name": "concat_0_layer_0_bin_maxbins_100_EMI_bins",
         "value": {
          "fields": [
           "EMI"
          ],
          "fname": "bin_EMI",
          "start": 0,
          "step": 200,
          "stop": 13600
         }
        },
        {
         "name": "concat_0_height",
         "value": 300
        },
        {
         "name": "concat_1_y_step",
         "value": 20
        },
        {
         "name": "concat_1_height",
         "update": "bandspace(domain('concat_1_y').length, 0.1, 0.05) * concat_1_y_step"
        }
       ],
       "width": 300
      },
      "text/plain": [
       "<VegaLite 5 object>\n",
       "\n",
       "If you see this message, it means the renderer has not been properly enabled\n",
       "for the frontend that you are using. For more information, see\n",
       "https://altair-viz.github.io/user_guide/display_frontends.html#troubleshooting\n"
      ]
     },
     "execution_count": 25,
     "metadata": {},
     "output_type": "execute_result"
    }
   ],
   "source": [
    "# Plot a single feature's distribution, together with useful stats\n",
    "plot = dia.plot_feature_distr(\n",
    "    \"EMI\", \n",
    "    n_bins=100, \n",
    "    density=False, \n",
    ")\n",
    "plot # .interactive()"
   ]
  },
  {
   "cell_type": "code",
   "execution_count": 26,
   "metadata": {},
   "outputs": [
    {
     "data": {
      "application/vnd.vega.v5+json": {
       "$schema": "https://vega.github.io/schema/vega/v5.json",
       "background": "white",
       "data": [
        {
         "name": "source_0",
         "values": [
          {
           "__count": 1002,
           "bin_maxbins_100_EMI": 950,
           "bin_maxbins_100_EMI_end": 1000
          },
          {
           "__count": 927,
           "bin_maxbins_100_EMI": 1050,
           "bin_maxbins_100_EMI_end": 1100
          },
          {
           "__count": 286,
           "bin_maxbins_100_EMI": 1700,
           "bin_maxbins_100_EMI_end": 1750
          },
          {
           "__count": 1011,
           "bin_maxbins_100_EMI": 500,
           "bin_maxbins_100_EMI_end": 550
          },
          {
           "__count": 1382,
           "bin_maxbins_100_EMI": 700,
           "bin_maxbins_100_EMI_end": 750
          },
          {
           "__count": 298,
           "bin_maxbins_100_EMI": 1300,
           "bin_maxbins_100_EMI_end": 1350
          },
          {
           "__count": 264,
           "bin_maxbins_100_EMI": 600,
           "bin_maxbins_100_EMI_end": 650
          },
          {
           "__count": 210,
           "bin_maxbins_100_EMI": 1600,
           "bin_maxbins_100_EMI_end": 1650
          },
          {
           "__count": 1031,
           "bin_maxbins_100_EMI": 900,
           "bin_maxbins_100_EMI_end": 950
          },
          {
           "__count": 177,
           "bin_maxbins_100_EMI": 1650,
           "bin_maxbins_100_EMI_end": 1700
          },
          {
           "__count": 453,
           "bin_maxbins_100_EMI": 1350,
           "bin_maxbins_100_EMI_end": 1400
          },
          {
           "__count": 930,
           "bin_maxbins_100_EMI": 750,
           "bin_maxbins_100_EMI_end": 800
          },
          {
           "__count": 1110,
           "bin_maxbins_100_EMI": 850,
           "bin_maxbins_100_EMI_end": 900
          },
          {
           "__count": 596,
           "bin_maxbins_100_EMI": 650,
           "bin_maxbins_100_EMI_end": 700
          },
          {
           "__count": 896,
           "bin_maxbins_100_EMI": 1000,
           "bin_maxbins_100_EMI_end": 1050
          },
          {
           "__count": 679,
           "bin_maxbins_100_EMI": 800,
           "bin_maxbins_100_EMI_end": 850
          },
          {
           "__count": 919,
           "bin_maxbins_100_EMI": 350,
           "bin_maxbins_100_EMI_end": 400
          },
          {
           "__count": 68,
           "bin_maxbins_100_EMI": 2250,
           "bin_maxbins_100_EMI_end": 2300
          },
          {
           "__count": 1007,
           "bin_maxbins_100_EMI": 1150,
           "bin_maxbins_100_EMI_end": 1200
          },
          {
           "__count": 1005,
           "bin_maxbins_100_EMI": 450,
           "bin_maxbins_100_EMI_end": 500
          },
          {
           "__count": 773,
           "bin_maxbins_100_EMI": 550,
           "bin_maxbins_100_EMI_end": 600
          },
          {
           "__count": 491,
           "bin_maxbins_100_EMI": 1450,
           "bin_maxbins_100_EMI_end": 1500
          },
          {
           "__count": 599,
           "bin_maxbins_100_EMI": 1200,
           "bin_maxbins_100_EMI_end": 1250
          },
          {
           "__count": 654,
           "bin_maxbins_100_EMI": 1100,
           "bin_maxbins_100_EMI_end": 1150
          },
          {
           "__count": 123,
           "bin_maxbins_100_EMI": 2300,
           "bin_maxbins_100_EMI_end": 2350
          },
          {
           "__count": 68,
           "bin_maxbins_100_EMI": 2100,
           "bin_maxbins_100_EMI_end": 2150
          },
          {
           "__count": 391,
           "bin_maxbins_100_EMI": 1250,
           "bin_maxbins_100_EMI_end": 1300
          },
          {
           "__count": 154,
           "bin_maxbins_100_EMI": 1750,
           "bin_maxbins_100_EMI_end": 1800
          },
          {
           "__count": 176,
           "bin_maxbins_100_EMI": 1550,
           "bin_maxbins_100_EMI_end": 1600
          },
          {
           "__count": 83,
           "bin_maxbins_100_EMI": 2400,
           "bin_maxbins_100_EMI_end": 2450
          },
          {
           "__count": 150,
           "bin_maxbins_100_EMI": 1900,
           "bin_maxbins_100_EMI_end": 1950
          },
          {
           "__count": 65,
           "bin_maxbins_100_EMI": 2500,
           "bin_maxbins_100_EMI_end": 2550
          },
          {
           "__count": 418,
           "bin_maxbins_100_EMI": 1400,
           "bin_maxbins_100_EMI_end": 1450
          },
          {
           "__count": 91,
           "bin_maxbins_100_EMI": 2050,
           "bin_maxbins_100_EMI_end": 2100
          },
          {
           "__count": 347,
           "bin_maxbins_100_EMI": 400,
           "bin_maxbins_100_EMI_end": 450
          },
          {
           "__count": 219,
           "bin_maxbins_100_EMI": 1500,
           "bin_maxbins_100_EMI_end": 1550
          },
          {
           "__count": 203,
           "bin_maxbins_100_EMI": 1800,
           "bin_maxbins_100_EMI_end": 1850
          },
          {
           "__count": 149,
           "bin_maxbins_100_EMI": 300,
           "bin_maxbins_100_EMI_end": 350
          },
          {
           "__count": 140,
           "bin_maxbins_100_EMI": 1850,
           "bin_maxbins_100_EMI_end": 1900
          },
          {
           "__count": 89,
           "bin_maxbins_100_EMI": 2450,
           "bin_maxbins_100_EMI_end": 2500
          },
          {
           "__count": 116,
           "bin_maxbins_100_EMI": 1950,
           "bin_maxbins_100_EMI_end": 2000
          },
          {
           "__count": 48,
           "bin_maxbins_100_EMI": 2150,
           "bin_maxbins_100_EMI_end": 2200
          },
          {
           "__count": 134,
           "bin_maxbins_100_EMI": 2350,
           "bin_maxbins_100_EMI_end": 2400
          },
          {
           "__count": 62,
           "bin_maxbins_100_EMI": 2200,
           "bin_maxbins_100_EMI_end": 2250
          },
          {
           "__count": 64,
           "bin_maxbins_100_EMI": 2000,
           "bin_maxbins_100_EMI_end": 2050
          }
         ]
        },
        {
         "name": "source_1",
         "values": [
          {
           "names": "p5",
           "stats": 396
          },
          {
           "names": "median",
           "stats": 941
          },
          {
           "names": "avg",
           "stats": 1015.2124339415694
          },
          {
           "names": "p95",
           "stats": 1961
          }
         ]
        },
        {
         "name": "source_2",
         "values": [
          {
           "names": "",
           "pcts": 0,
           "pcts_end": 0,
           "pcts_start": 0
          }
         ]
        },
        {
         "name": "source_0_concat_0_y_domain___count",
         "values": [
          {
           "max": 1382,
           "min": 48
          }
         ]
        },
        {
         "name": "source_2_concat_1_y_domain_names",
         "values": [
          {
           "names": ""
          }
         ]
        }
       ],
       "layout": {
        "align": "each",
        "bounds": "full",
        "columns": 1,
        "padding": 20
       },
       "marks": [
        {
         "axes": [
          {
           "aria": false,
           "domain": false,
           "grid": true,
           "gridScale": "concat_0_x",
           "labels": false,
           "maxExtent": 0,
           "minExtent": 0,
           "orient": "left",
           "scale": "concat_0_y",
           "tickCount": {
            "signal": "ceil(concat_0_height/40)"
           },
           "ticks": false,
           "zindex": 0
          },
          {
           "grid": false,
           "labelFlush": true,
           "labelOverlap": true,
           "orient": "bottom",
           "scale": "concat_0_x",
           "tickCount": {
            "signal": "ceil(width/10)"
           },
           "title": "EMI",
           "zindex": 0
          },
          {
           "grid": false,
           "labelOverlap": true,
           "orient": "left",
           "scale": "concat_0_y",
           "tickCount": {
            "signal": "ceil(concat_0_height/40)"
           },
           "title": "Count of Records",
           "zindex": 0
          }
         ],
         "encode": {
          "update": {
           "height": {
            "signal": "concat_0_height"
           },
           "width": {
            "signal": "width"
           }
          }
         },
         "marks": [
          {
           "encode": {
            "update": {
             "fill": {
              "value": "#4c78a8"
             },
             "x": {
              "field": "bin_maxbins_100_EMI_end",
              "offset": {
               "signal": "0.5 + (abs(scale(\"concat_0_x\", datum[\"bin_maxbins_100_EMI_end\"]) - scale(\"concat_0_x\", datum[\"bin_maxbins_100_EMI\"])) < 0.25 ? 0.5 * (0.25 - (abs(scale(\"concat_0_x\", datum[\"bin_maxbins_100_EMI_end\"]) - scale(\"concat_0_x\", datum[\"bin_maxbins_100_EMI\"])))) : -0.5)"
              },
              "scale": "concat_0_x"
             },
             "x2": {
              "field": "bin_maxbins_100_EMI",
              "offset": {
               "signal": "0.5 + (abs(scale(\"concat_0_x\", datum[\"bin_maxbins_100_EMI_end\"]) - scale(\"concat_0_x\", datum[\"bin_maxbins_100_EMI\"])) < 0.25 ? -0.5 * (0.25 - (abs(scale(\"concat_0_x\", datum[\"bin_maxbins_100_EMI_end\"]) - scale(\"concat_0_x\", datum[\"bin_maxbins_100_EMI\"])))) : 0.5)"
              },
              "scale": "concat_0_x"
             },
             "y": {
              "field": "__count",
              "scale": "concat_0_y"
             },
             "y2": {
              "scale": "concat_0_y",
              "value": 0
             }
            }
           },
           "from": {
            "data": "source_0"
           },
           "name": "concat_0_layer_0_marks",
           "style": [
            "bar"
           ],
           "type": "rect"
          },
          {
           "encode": {
            "update": {
             "stroke": {
              "value": "#f086ab"
             },
             "tooltip": {
              "signal": "{\"Stats\": isValid(datum[\"names\"]) ? datum[\"names\"] : \"\"+datum[\"names\"], \"Value\": format(datum[\"stats\"], \"\")}"
             },
             "x": {
              "field": "stats",
              "scale": "concat_0_x"
             },
             "y": {
              "value": 0
             },
             "y2": {
              "field": {
               "datum": null,
               "group": "height",
               "parent": null,
               "signal": null
              }
             }
            }
           },
           "from": {
            "data": "source_1"
           },
           "name": "concat_0_layer_1_marks",
           "style": [
            "rule"
           ],
           "type": "rule"
          }
         ],
         "name": "concat_0_group",
         "style": "cell",
         "type": "group"
        },
        {
         "axes": [
          {
           "aria": false,
           "domain": false,
           "grid": true,
           "gridScale": "concat_1_y",
           "labels": false,
           "maxExtent": 0,
           "minExtent": 0,
           "orient": "bottom",
           "scale": "concat_1_x",
           "tickCount": {
            "signal": "ceil(width/40)"
           },
           "ticks": false,
           "zindex": 0
          },
          {
           "format": ".0%",
           "grid": false,
           "labelFlush": true,
           "labelOverlap": true,
           "orient": "bottom",
           "scale": "concat_1_x",
           "tickCount": {
            "signal": "ceil(width/40)"
           },
           "title": "Null or Non-Finite %",
           "zindex": 0
          },
          {
           "grid": false,
           "orient": "left",
           "scale": "concat_1_y",
           "zindex": 0
          }
         ],
         "encode": {
          "update": {
           "height": {
            "signal": "concat_1_height"
           },
           "width": {
            "signal": "width"
           }
          }
         },
         "marks": [
          {
           "encode": {
            "update": {
             "fill": {
              "value": "#4c78a8"
             },
             "height": {
              "signal": "max(0.25, bandwidth('concat_1_y'))"
             },
             "opacity": {
              "value": 0.7
             },
             "tooltip": {
              "signal": "{\"Null or Non-Finite %\": format(datum[\"pcts\"], \"\")}"
             },
             "x": {
              "field": "pcts_end",
              "scale": "concat_1_x"
             },
             "x2": {
              "field": "pcts_start",
              "scale": "concat_1_x"
             },
             "y": {
              "field": "names",
              "scale": "concat_1_y"
             }
            }
           },
           "from": {
            "data": "source_2"
           },
           "name": "concat_1_marks",
           "style": [
            "bar"
           ],
           "type": "rect"
          }
         ],
         "name": "concat_1_group",
         "style": "cell",
         "type": "group"
        }
       ],
       "padding": 5,
       "scales": [
        {
         "bins": {
          "signal": "concat_0_layer_0_bin_maxbins_100_EMI_bins"
         },
         "domain": {
          "fields": [
           {
            "signal": "[concat_0_layer_0_bin_maxbins_100_EMI_bins.start, concat_0_layer_0_bin_maxbins_100_EMI_bins.stop]"
           },
           {
            "data": "source_1",
            "field": "stats"
           }
          ]
         },
         "name": "concat_0_x",
         "nice": true,
         "range": [
          0,
          {
           "signal": "width"
          }
         ],
         "type": "linear",
         "zero": false
        },
        {
         "domain": [
          {
           "signal": "(data(\"source_0_concat_0_y_domain___count\")[0] || {}).min"
          },
          {
           "signal": "(data(\"source_0_concat_0_y_domain___count\")[0] || {}).max"
          }
         ],
         "name": "concat_0_y",
         "nice": true,
         "range": [
          {
           "signal": "concat_0_height"
          },
          0
         ],
         "type": "linear",
         "zero": true
        },
        {
         "domain": [
          0,
          1
         ],
         "name": "concat_1_x",
         "range": [
          0,
          {
           "signal": "width"
          }
         ],
         "type": "linear",
         "zero": true
        },
        {
         "domain": {
          "data": "source_2_concat_1_y_domain_names",
          "field": "names",
          "sort": true
         },
         "name": "concat_1_y",
         "paddingInner": 0.1,
         "paddingOuter": 0.05,
         "range": {
          "step": {
           "signal": "concat_1_y_step"
          }
         },
         "type": "band"
        }
       ],
       "signals": [
        {
         "name": "concat_0_layer_0_bin_maxbins_100_EMI_bins",
         "value": {
          "fields": [
           "EMI"
          ],
          "fname": "bin_EMI",
          "start": 300,
          "step": 50,
          "stop": 2550
         }
        },
        {
         "name": "concat_0_height",
         "value": 300
        },
        {
         "name": "concat_1_y_step",
         "value": 20
        },
        {
         "name": "concat_1_height",
         "update": "bandspace(domain('concat_1_y').length, 0.1, 0.05) * concat_1_y_step"
        }
       ],
       "width": 300
      },
      "text/plain": [
       "<VegaLite 5 object>\n",
       "\n",
       "If you see this message, it means the renderer has not been properly enabled\n",
       "for the frontend that you are using. For more information, see\n",
       "https://altair-viz.github.io/user_guide/display_frontends.html#troubleshooting\n"
      ]
     },
     "execution_count": 26,
     "metadata": {},
     "output_type": "execute_result"
    }
   ],
   "source": [
    "# You can provide a filter expression, which will be applied upfront\n",
    "# You can see how because of this filter expression, null and extreme values are removed\n",
    "plot = dia.plot_feature_distr(\n",
    "    \"EMI\", \n",
    "    n_bins=100, \n",
    "    density=False, \n",
    "    min_ = pl.col(\"EMI\").quantile(0.05),\n",
    "    max_ = pl.col(\"EMI\").quantile(0.95),\n",
    ")\n",
    "plot"
   ]
  },
  {
   "cell_type": "code",
   "execution_count": 27,
   "metadata": {},
   "outputs": [
    {
     "data": {
      "application/vnd.vega.v5+json": {
       "$schema": "https://vega.github.io/schema/vega/v5.json",
       "background": "white",
       "data": [
        {
         "name": "param_1_store"
        },
        {
         "name": "source_0",
         "values": [
          {
           "Primary_Bank_Type": "P",
           "__count_end": 2357,
           "__count_start": 0,
           "bin_maxbins_100_EMI": 800,
           "bin_maxbins_100_EMI_end": 1000
          },
          {
           "Primary_Bank_Type": "G",
           "__count_end": 69,
           "__count_start": 53,
           "bin_maxbins_100_EMI": 3000,
           "bin_maxbins_100_EMI_end": 3200
          },
          {
           "Primary_Bank_Type": "P",
           "__count_end": 2108,
           "__count_start": 0,
           "bin_maxbins_100_EMI": 1000,
           "bin_maxbins_100_EMI_end": 1200
          },
          {
           "Primary_Bank_Type": "G",
           "__count_end": 796,
           "__count_start": 511,
           "bin_maxbins_100_EMI": 1600,
           "bin_maxbins_100_EMI_end": 1800
          },
          {
           "Primary_Bank_Type": "G",
           "__count_end": 2726,
           "__count_start": 1869,
           "bin_maxbins_100_EMI": 400,
           "bin_maxbins_100_EMI_end": 600
          },
          {
           "Primary_Bank_Type": "P",
           "__count_end": 1847,
           "__count_start": 0,
           "bin_maxbins_100_EMI": 600,
           "bin_maxbins_100_EMI_end": 800
          },
          {
           "Primary_Bank_Type": "P",
           "__count_end": 1005,
           "__count_start": 0,
           "bin_maxbins_100_EMI": 1200,
           "bin_maxbins_100_EMI_end": 1400
          },
          {
           "Primary_Bank_Type": "P",
           "__count_end": 86,
           "__count_start": 0,
           "bin_maxbins_100_EMI": 3400,
           "bin_maxbins_100_EMI_end": 3600
          },
          {
           "Primary_Bank_Type": "P",
           "__count_end": 511,
           "__count_start": 0,
           "bin_maxbins_100_EMI": 1600,
           "bin_maxbins_100_EMI_end": 1800
          },
          {
           "Primary_Bank_Type": "G",
           "__count_end": 19,
           "__count_start": 11,
           "bin_maxbins_100_EMI": 4200,
           "bin_maxbins_100_EMI_end": 4400
          },
          {
           "Primary_Bank_Type": "G",
           "__count_end": 1619,
           "__count_start": 1005,
           "bin_maxbins_100_EMI": 1200,
           "bin_maxbins_100_EMI_end": 1400
          },
          {
           "Primary_Bank_Type": "P",
           "__count_end": 42,
           "__count_start": 0,
           "bin_maxbins_100_EMI": 0,
           "bin_maxbins_100_EMI_end": 200
          },
          {
           "Primary_Bank_Type": "P",
           "__count_end": 1221,
           "__count_start": 0,
           "bin_maxbins_100_EMI": 200,
           "bin_maxbins_100_EMI_end": 400
          },
          {
           "Primary_Bank_Type": "G",
           "__count_end": 2869,
           "__count_start": 1847,
           "bin_maxbins_100_EMI": 600,
           "bin_maxbins_100_EMI_end": 800
          },
          {
           "Primary_Bank_Type": "P",
           "__count_end": 1869,
           "__count_start": 0,
           "bin_maxbins_100_EMI": 400,
           "bin_maxbins_100_EMI_end": 600
          },
          {
           "Primary_Bank_Type": "G",
           "__count_end": 147,
           "__count_start": 86,
           "bin_maxbins_100_EMI": 3400,
           "bin_maxbins_100_EMI_end": 3600
          },
          {
           "Primary_Bank_Type": "G",
           "__count_end": 1811,
           "__count_start": 1221,
           "bin_maxbins_100_EMI": 200,
           "bin_maxbins_100_EMI_end": 400
          },
          {
           "Primary_Bank_Type": "P",
           "__count_end": 239,
           "__count_start": 0,
           "bin_maxbins_100_EMI": 2200,
           "bin_maxbins_100_EMI_end": 2400
          },
          {
           "Primary_Bank_Type": "G",
           "__count_end": 3257,
           "__count_start": 2108,
           "bin_maxbins_100_EMI": 1000,
           "bin_maxbins_100_EMI_end": 1200
          },
          {
           "Primary_Bank_Type": null,
           "__count_end": 3136,
           "__count_start": 2726,
           "bin_maxbins_100_EMI": 400,
           "bin_maxbins_100_EMI_end": 600
          },
          {
           "Primary_Bank_Type": "P",
           "__count_end": 794,
           "__count_start": 0,
           "bin_maxbins_100_EMI": 1400,
           "bin_maxbins_100_EMI_end": 1600
          },
          {
           "Primary_Bank_Type": "P",
           "__count_end": 5,
           "__count_start": 0,
           "bin_maxbins_100_EMI": 5400,
           "bin_maxbins_100_EMI_end": 5600
          },
          {
           "Primary_Bank_Type": null,
           "__count_end": 2111,
           "__count_start": 1811,
           "bin_maxbins_100_EMI": 200,
           "bin_maxbins_100_EMI_end": 400
          },
          {
           "Primary_Bank_Type": "P",
           "__count_end": 162,
           "__count_start": 0,
           "bin_maxbins_100_EMI": 2000,
           "bin_maxbins_100_EMI_end": 2200
          },
          {
           "Primary_Bank_Type": "P",
           "__count_end": 53,
           "__count_start": 0,
           "bin_maxbins_100_EMI": 3000,
           "bin_maxbins_100_EMI_end": 3200
          },
          {
           "Primary_Bank_Type": null,
           "__count_end": 3172,
           "__count_start": 2869,
           "bin_maxbins_100_EMI": 600,
           "bin_maxbins_100_EMI_end": 800
          },
          {
           "Primary_Bank_Type": "G",
           "__count_end": 1254,
           "__count_start": 794,
           "bin_maxbins_100_EMI": 1400,
           "bin_maxbins_100_EMI_end": 1600
          },
          {
           "Primary_Bank_Type": "P",
           "__count_end": 155,
           "__count_start": 0,
           "bin_maxbins_100_EMI": 2400,
           "bin_maxbins_100_EMI_end": 2600
          },
          {
           "Primary_Bank_Type": "G",
           "__count_end": 3571,
           "__count_start": 2357,
           "bin_maxbins_100_EMI": 800,
           "bin_maxbins_100_EMI_end": 1000
          },
          {
           "Primary_Bank_Type": "P",
           "__count_end": 384,
           "__count_start": 0,
           "bin_maxbins_100_EMI": 1800,
           "bin_maxbins_100_EMI_end": 2000
          },
          {
           "Primary_Bank_Type": "G",
           "__count_end": 250,
           "__count_start": 155,
           "bin_maxbins_100_EMI": 2400,
           "bin_maxbins_100_EMI_end": 2600
          },
          {
           "Primary_Bank_Type": null,
           "__count_end": 1741,
           "__count_start": 1619,
           "bin_maxbins_100_EMI": 1200,
           "bin_maxbins_100_EMI_end": 1400
          },
          {
           "Primary_Bank_Type": "G",
           "__count_end": 351,
           "__count_start": 239,
           "bin_maxbins_100_EMI": 2200,
           "bin_maxbins_100_EMI_end": 2400
          },
          {
           "Primary_Bank_Type": "G",
           "__count_end": 246,
           "__count_start": 162,
           "bin_maxbins_100_EMI": 2000,
           "bin_maxbins_100_EMI_end": 2200
          },
          {
           "Primary_Bank_Type": null,
           "__count_end": 3484,
           "__count_start": 3257,
           "bin_maxbins_100_EMI": 1000,
           "bin_maxbins_100_EMI_end": 1200
          },
          {
           "Primary_Bank_Type": "G",
           "__count_end": 1,
           "__count_start": 0,
           "bin_maxbins_100_EMI": 6000,
           "bin_maxbins_100_EMI_end": 6200
          },
          {
           "Primary_Bank_Type": "G",
           "__count_end": 110,
           "__count_start": 81,
           "bin_maxbins_100_EMI": 4000,
           "bin_maxbins_100_EMI_end": 4200
          },
          {
           "Primary_Bank_Type": null,
           "__count_end": 3822,
           "__count_start": 3571,
           "bin_maxbins_100_EMI": 800,
           "bin_maxbins_100_EMI_end": 1000
          },
          {
           "Primary_Bank_Type": "G",
           "__count_end": 60,
           "__count_start": 42,
           "bin_maxbins_100_EMI": 0,
           "bin_maxbins_100_EMI_end": 200
          },
          {
           "Primary_Bank_Type": "G",
           "__count_end": 573,
           "__count_start": 384,
           "bin_maxbins_100_EMI": 1800,
           "bin_maxbins_100_EMI_end": 2000
          },
          {
           "Primary_Bank_Type": "P",
           "__count_end": 81,
           "__count_start": 0,
           "bin_maxbins_100_EMI": 4000,
           "bin_maxbins_100_EMI_end": 4200
          },
          {
           "Primary_Bank_Type": null,
           "__count_end": 1304,
           "__count_start": 1254,
           "bin_maxbins_100_EMI": 1400,
           "bin_maxbins_100_EMI_end": 1600
          },
          {
           "Primary_Bank_Type": "P",
           "__count_end": 21,
           "__count_start": 0,
           "bin_maxbins_100_EMI": 3600,
           "bin_maxbins_100_EMI_end": 3800
          },
          {
           "Primary_Bank_Type": "G",
           "__count_end": 109,
           "__count_start": 75,
           "bin_maxbins_100_EMI": 2800,
           "bin_maxbins_100_EMI_end": 3000
          },
          {
           "Primary_Bank_Type": "P",
           "__count_end": 80,
           "__count_start": 0,
           "bin_maxbins_100_EMI": 3200,
           "bin_maxbins_100_EMI_end": 3400
          },
          {
           "Primary_Bank_Type": "P",
           "__count_end": 196,
           "__count_start": 0,
           "bin_maxbins_100_EMI": 2600,
           "bin_maxbins_100_EMI_end": 2800
          },
          {
           "Primary_Bank_Type": "P",
           "__count_end": 75,
           "__count_start": 0,
           "bin_maxbins_100_EMI": 2800,
           "bin_maxbins_100_EMI_end": 3000
          },
          {
           "Primary_Bank_Type": null,
           "__count_end": 277,
           "__count_start": 250,
           "bin_maxbins_100_EMI": 2400,
           "bin_maxbins_100_EMI_end": 2600
          },
          {
           "Primary_Bank_Type": "P",
           "__count_end": 6,
           "__count_start": 0,
           "bin_maxbins_100_EMI": 5200,
           "bin_maxbins_100_EMI_end": 5400
          },
          {
           "Primary_Bank_Type": "P",
           "__count_end": 9,
           "__count_start": 0,
           "bin_maxbins_100_EMI": 5000,
           "bin_maxbins_100_EMI_end": 5200
          },
          {
           "Primary_Bank_Type": "G",
           "__count_end": 20,
           "__count_start": 10,
           "bin_maxbins_100_EMI": 4800,
           "bin_maxbins_100_EMI_end": 5000
          },
          {
           "Primary_Bank_Type": "G",
           "__count_end": 237,
           "__count_start": 196,
           "bin_maxbins_100_EMI": 2600,
           "bin_maxbins_100_EMI_end": 2800
          },
          {
           "Primary_Bank_Type": "P",
           "__count_end": 11,
           "__count_start": 0,
           "bin_maxbins_100_EMI": 4200,
           "bin_maxbins_100_EMI_end": 4400
          },
          {
           "Primary_Bank_Type": "G",
           "__count_end": 34,
           "__count_start": 25,
           "bin_maxbins_100_EMI": 3800,
           "bin_maxbins_100_EMI_end": 4000
          },
          {
           "Primary_Bank_Type": "G",
           "__count_end": 40,
           "__count_start": 21,
           "bin_maxbins_100_EMI": 3600,
           "bin_maxbins_100_EMI_end": 3800
          },
          {
           "Primary_Bank_Type": "G",
           "__count_end": 105,
           "__count_start": 80,
           "bin_maxbins_100_EMI": 3200,
           "bin_maxbins_100_EMI_end": 3400
          },
          {
           "Primary_Bank_Type": null,
           "__count_end": 271,
           "__count_start": 246,
           "bin_maxbins_100_EMI": 2000,
           "bin_maxbins_100_EMI_end": 2200
          },
          {
           "Primary_Bank_Type": null,
           "__count_end": 121,
           "__count_start": 109,
           "bin_maxbins_100_EMI": 2800,
           "bin_maxbins_100_EMI_end": 3000
          },
          {
           "Primary_Bank_Type": null,
           "__count_end": 609,
           "__count_start": 573,
           "bin_maxbins_100_EMI": 1800,
           "bin_maxbins_100_EMI_end": 2000
          },
          {
           "Primary_Bank_Type": null,
           "__count_end": 387,
           "__count_start": 351,
           "bin_maxbins_100_EMI": 2200,
           "bin_maxbins_100_EMI_end": 2400
          },
          {
           "Primary_Bank_Type": null,
           "__count_end": 250,
           "__count_start": 237,
           "bin_maxbins_100_EMI": 2600,
           "bin_maxbins_100_EMI_end": 2800
          },
          {
           "Primary_Bank_Type": "P",
           "__count_end": 25,
           "__count_start": 0,
           "bin_maxbins_100_EMI": 3800,
           "bin_maxbins_100_EMI_end": 4000
          },
          {
           "Primary_Bank_Type": null,
           "__count_end": 161,
           "__count_start": 147,
           "bin_maxbins_100_EMI": 3400,
           "bin_maxbins_100_EMI_end": 3600
          },
          {
           "Primary_Bank_Type": null,
           "__count_end": 827,
           "__count_start": 796,
           "bin_maxbins_100_EMI": 1600,
           "bin_maxbins_100_EMI_end": 1800
          },
          {
           "Primary_Bank_Type": null,
           "__count_end": 48,
           "__count_start": 40,
           "bin_maxbins_100_EMI": 3600,
           "bin_maxbins_100_EMI_end": 3800
          },
          {
           "Primary_Bank_Type": "P",
           "__count_end": 18,
           "__count_start": 0,
           "bin_maxbins_100_EMI": 4400,
           "bin_maxbins_100_EMI_end": 4600
          },
          {
           "Primary_Bank_Type": null,
           "__count_end": 8,
           "__count_start": 6,
           "bin_maxbins_100_EMI": 5200,
           "bin_maxbins_100_EMI_end": 5400
          },
          {
           "Primary_Bank_Type": "P",
           "__count_end": 2,
           "__count_start": 0,
           "bin_maxbins_100_EMI": 13400,
           "bin_maxbins_100_EMI_end": 13600
          },
          {
           "Primary_Bank_Type": null,
           "__count_end": 66,
           "__count_start": 60,
           "bin_maxbins_100_EMI": 0,
           "bin_maxbins_100_EMI_end": 200
          },
          {
           "Primary_Bank_Type": "P",
           "__count_end": 12,
           "__count_start": 0,
           "bin_maxbins_100_EMI": 4600,
           "bin_maxbins_100_EMI_end": 4800
          },
          {
           "Primary_Bank_Type": "P",
           "__count_end": 1,
           "__count_start": 0,
           "bin_maxbins_100_EMI": 7800,
           "bin_maxbins_100_EMI_end": 8000
          },
          {
           "Primary_Bank_Type": null,
           "__count_end": 121,
           "__count_start": 110,
           "bin_maxbins_100_EMI": 4000,
           "bin_maxbins_100_EMI_end": 4200
          },
          {
           "Primary_Bank_Type": null,
           "__count_end": 19,
           "__count_start": 17,
           "bin_maxbins_100_EMI": 4600,
           "bin_maxbins_100_EMI_end": 4800
          },
          {
           "Primary_Bank_Type": "G",
           "__count_end": 25,
           "__count_start": 18,
           "bin_maxbins_100_EMI": 4400,
           "bin_maxbins_100_EMI_end": 4600
          },
          {
           "Primary_Bank_Type": "G",
           "__count_end": 8,
           "__count_start": 5,
           "bin_maxbins_100_EMI": 6600,
           "bin_maxbins_100_EMI_end": 6800
          },
          {
           "Primary_Bank_Type": "P",
           "__count_end": 5,
           "__count_start": 0,
           "bin_maxbins_100_EMI": 6600,
           "bin_maxbins_100_EMI_end": 6800
          },
          {
           "Primary_Bank_Type": "G",
           "__count_end": 5,
           "__count_start": 3,
           "bin_maxbins_100_EMI": 5800,
           "bin_maxbins_100_EMI_end": 6000
          },
          {
           "Primary_Bank_Type": null,
           "__count_end": 14,
           "__count_start": 13,
           "bin_maxbins_100_EMI": 5000,
           "bin_maxbins_100_EMI_end": 5200
          },
          {
           "Primary_Bank_Type": "G",
           "__count_end": 10,
           "__count_start": 5,
           "bin_maxbins_100_EMI": 5400,
           "bin_maxbins_100_EMI_end": 5600
          },
          {
           "Primary_Bank_Type": "G",
           "__count_end": 13,
           "__count_start": 9,
           "bin_maxbins_100_EMI": 5000,
           "bin_maxbins_100_EMI_end": 5200
          },
          {
           "Primary_Bank_Type": "G",
           "__count_end": 17,
           "__count_start": 12,
           "bin_maxbins_100_EMI": 4600,
           "bin_maxbins_100_EMI_end": 4800
          },
          {
           "Primary_Bank_Type": "G",
           "__count_end": 3,
           "__count_start": 1,
           "bin_maxbins_100_EMI": 6200,
           "bin_maxbins_100_EMI_end": 6400
          },
          {
           "Primary_Bank_Type": "P",
           "__count_end": 3,
           "__count_start": 0,
           "bin_maxbins_100_EMI": 5800,
           "bin_maxbins_100_EMI_end": 6000
          },
          {
           "Primary_Bank_Type": null,
           "__count_end": 30,
           "__count_start": 25,
           "bin_maxbins_100_EMI": 4400,
           "bin_maxbins_100_EMI_end": 4600
          },
          {
           "Primary_Bank_Type": "P",
           "__count_end": 10,
           "__count_start": 0,
           "bin_maxbins_100_EMI": 4800,
           "bin_maxbins_100_EMI_end": 5000
          },
          {
           "Primary_Bank_Type": null,
           "__count_end": 108,
           "__count_start": 105,
           "bin_maxbins_100_EMI": 3200,
           "bin_maxbins_100_EMI_end": 3400
          },
          {
           "Primary_Bank_Type": null,
           "__count_end": 36,
           "__count_start": 34,
           "bin_maxbins_100_EMI": 3800,
           "bin_maxbins_100_EMI_end": 4000
          },
          {
           "Primary_Bank_Type": "P",
           "__count_end": 1,
           "__count_start": 0,
           "bin_maxbins_100_EMI": 5600,
           "bin_maxbins_100_EMI_end": 5800
          },
          {
           "Primary_Bank_Type": "P",
           "__count_end": 1,
           "__count_start": 0,
           "bin_maxbins_100_EMI": 6400,
           "bin_maxbins_100_EMI_end": 6600
          },
          {
           "Primary_Bank_Type": null,
           "__count_end": 22,
           "__count_start": 20,
           "bin_maxbins_100_EMI": 4800,
           "bin_maxbins_100_EMI_end": 5000
          },
          {
           "Primary_Bank_Type": "P",
           "__count_end": 1,
           "__count_start": 0,
           "bin_maxbins_100_EMI": 6200,
           "bin_maxbins_100_EMI_end": 6400
          },
          {
           "Primary_Bank_Type": null,
           "__count_end": 6,
           "__count_start": 5,
           "bin_maxbins_100_EMI": 5800,
           "bin_maxbins_100_EMI_end": 6000
          },
          {
           "Primary_Bank_Type": "G",
           "__count_end": 2,
           "__count_start": 1,
           "bin_maxbins_100_EMI": 5600,
           "bin_maxbins_100_EMI_end": 5800
          },
          {
           "Primary_Bank_Type": null,
           "__count_end": 24,
           "__count_start": 19,
           "bin_maxbins_100_EMI": 4200,
           "bin_maxbins_100_EMI_end": 4400
          },
          {
           "Primary_Bank_Type": "P",
           "__count_end": 1,
           "__count_start": 0,
           "bin_maxbins_100_EMI": 6800,
           "bin_maxbins_100_EMI_end": 7000
          },
          {
           "Primary_Bank_Type": "P",
           "__count_end": 1,
           "__count_start": 0,
           "bin_maxbins_100_EMI": 9600,
           "bin_maxbins_100_EMI_end": 9800
          },
          {
           "Primary_Bank_Type": null,
           "__count_end": 11,
           "__count_start": 10,
           "bin_maxbins_100_EMI": 5400,
           "bin_maxbins_100_EMI_end": 5600
          },
          {
           "Primary_Bank_Type": null,
           "__count_end": 70,
           "__count_start": 69,
           "bin_maxbins_100_EMI": 3000,
           "bin_maxbins_100_EMI_end": 3200
          }
         ]
        },
        {
         "name": "source_1",
         "values": [
          {
           "Primary_Bank_Type": null,
           "pcts": 0.7969332339473965,
           "pcts_end": 0.7969332339473965,
           "pcts_start": 0
          },
          {
           "Primary_Bank_Type": "G",
           "pcts": 0.6632855141766894,
           "pcts_end": 0.6632855141766894,
           "pcts_start": 0
          },
          {
           "Primary_Bank_Type": "P",
           "pcts": 0.6618289204674525,
           "pcts_end": 0.6618289204674525,
           "pcts_start": 0
          }
         ]
        },
        {
         "name": "source_0_color_domain_Primary_Bank_Type",
         "values": [
          {
           "Primary_Bank_Type": "P"
          },
          {
           "Primary_Bank_Type": "G"
          },
          {
           "Primary_Bank_Type": null
          }
         ]
        },
        {
         "name": "source_1_concat_1_y_domain_Primary_Bank_Type",
         "values": [
          {
           "Primary_Bank_Type": null
          },
          {
           "Primary_Bank_Type": "G"
          },
          {
           "Primary_Bank_Type": "P"
          }
         ]
        }
       ],
       "layout": {
        "align": "each",
        "bounds": "full",
        "columns": 1,
        "padding": 20
       },
       "legends": [
        {
         "encode": {
          "entries": {
           "interactive": true,
           "name": "Primary_Bank_Type_legend_entries",
           "update": {
            "fill": {
             "value": "transparent"
            }
           }
          },
          "labels": {
           "interactive": true,
           "name": "Primary_Bank_Type_legend_labels",
           "update": {
            "opacity": [
             {
              "test": "(!length(data(\"param_1_store\")) || (param_1[\"Primary_Bank_Type\"] && indexof(param_1[\"Primary_Bank_Type\"], datum.value) >= 0))",
              "value": 1
             },
             {
              "value": 0.35
             }
            ]
           }
          },
          "symbols": {
           "interactive": true,
           "name": "Primary_Bank_Type_legend_symbols",
           "update": {
            "opacity": [
             {
              "test": "(!length(data(\"param_1_store\")) || (param_1[\"Primary_Bank_Type\"] && indexof(param_1[\"Primary_Bank_Type\"], datum.value) >= 0))",
              "value": 0.8
             },
             {
              "value": 0.35
             }
            ]
           }
          }
         },
         "fill": "color",
         "symbolType": "square",
         "title": "Primary_Bank_Type"
        }
       ],
       "marks": [
        {
         "axes": [
          {
           "aria": false,
           "domain": false,
           "grid": true,
           "gridScale": "view_1_x",
           "labels": false,
           "maxExtent": 0,
           "minExtent": 0,
           "orient": "left",
           "scale": "view_1_y",
           "tickCount": {
            "signal": "ceil(view_1_height/40)"
           },
           "ticks": false,
           "zindex": 0
          },
          {
           "grid": false,
           "labelFlush": true,
           "labelOverlap": true,
           "orient": "bottom",
           "scale": "view_1_x",
           "tickCount": {
            "signal": "ceil(width/10)"
           },
           "title": "EMI",
           "zindex": 0
          },
          {
           "grid": false,
           "labelOverlap": true,
           "orient": "left",
           "scale": "view_1_y",
           "tickCount": {
            "signal": "ceil(view_1_height/40)"
           },
           "title": "Count of Records",
           "zindex": 0
          }
         ],
         "encode": {
          "update": {
           "height": {
            "signal": "view_1_height"
           },
           "width": {
            "signal": "width"
           }
          }
         },
         "marks": [
          {
           "encode": {
            "update": {
             "fill": {
              "field": "Primary_Bank_Type",
              "scale": "color"
             },
             "opacity": [
              {
               "test": "!length(data(\"param_1_store\")) || vlSelectionTest(\"param_1_store\", datum)",
               "value": 0.8
              },
              {
               "value": 0.2
              }
             ],
             "x": {
              "field": "bin_maxbins_100_EMI_end",
              "offset": {
               "signal": "0.5 + (abs(scale(\"view_1_x\", datum[\"bin_maxbins_100_EMI_end\"]) - scale(\"view_1_x\", datum[\"bin_maxbins_100_EMI\"])) < 0.25 ? 0.5 * (0.25 - (abs(scale(\"view_1_x\", datum[\"bin_maxbins_100_EMI_end\"]) - scale(\"view_1_x\", datum[\"bin_maxbins_100_EMI\"])))) : -0.5)"
              },
              "scale": "view_1_x"
             },
             "x2": {
              "field": "bin_maxbins_100_EMI",
              "offset": {
               "signal": "0.5 + (abs(scale(\"view_1_x\", datum[\"bin_maxbins_100_EMI_end\"]) - scale(\"view_1_x\", datum[\"bin_maxbins_100_EMI\"])) < 0.25 ? -0.5 * (0.25 - (abs(scale(\"view_1_x\", datum[\"bin_maxbins_100_EMI_end\"]) - scale(\"view_1_x\", datum[\"bin_maxbins_100_EMI\"])))) : 0.5)"
              },
              "scale": "view_1_x"
             },
             "y": {
              "field": "__count_end",
              "scale": "view_1_y"
             },
             "y2": {
              "field": "__count_start",
              "scale": "view_1_y"
             }
            }
           },
           "from": {
            "data": "source_0"
           },
           "interactive": true,
           "name": "view_1_marks",
           "style": [
            "bar"
           ],
           "type": "rect"
          }
         ],
         "name": "view_1_group",
         "signals": [
          {
           "name": "param_1_tuple",
           "update": "param_1_Primary_Bank_Type_legend !== null ? {fields: param_1_tuple_fields, values: [param_1_Primary_Bank_Type_legend]} : null"
          },
          {
           "name": "param_1_tuple_fields",
           "value": [
            {
             "field": "Primary_Bank_Type",
             "type": "E"
            }
           ]
          },
          {
           "name": "param_1_toggle",
           "on": [
            {
             "events": {
              "merge": [
               {
                "source": "view",
                "type": "click"
               }
              ]
             },
             "update": "event.shiftKey"
            }
           ],
           "value": false
          },
          {
           "name": "param_1_modify",
           "on": [
            {
             "events": {
              "signal": "param_1_tuple"
             },
             "update": "modify(\"param_1_store\", param_1_toggle ? null : param_1_tuple, param_1_toggle ? null : true, param_1_toggle ? param_1_tuple : null)"
            }
           ]
          }
         ],
         "style": "cell",
         "type": "group"
        },
        {
         "axes": [
          {
           "aria": false,
           "domain": false,
           "grid": true,
           "gridScale": "concat_1_y",
           "labels": false,
           "maxExtent": 0,
           "minExtent": 0,
           "orient": "bottom",
           "scale": "concat_1_x",
           "tickCount": {
            "signal": "ceil(width/40)"
           },
           "ticks": false,
           "zindex": 0
          },
          {
           "format": ".0%",
           "grid": false,
           "labelFlush": true,
           "labelOverlap": true,
           "orient": "bottom",
           "scale": "concat_1_x",
           "tickCount": {
            "signal": "ceil(width/40)"
           },
           "title": "Null or Non-Finite %",
           "zindex": 0
          },
          {
           "grid": false,
           "orient": "left",
           "scale": "concat_1_y",
           "title": "Primary_Bank_Type",
           "zindex": 0
          }
         ],
         "encode": {
          "update": {
           "height": {
            "signal": "concat_1_height"
           },
           "width": {
            "signal": "width"
           }
          }
         },
         "marks": [
          {
           "encode": {
            "update": {
             "fill": {
              "value": "#4c78a8"
             },
             "height": {
              "signal": "max(0.25, bandwidth('concat_1_y'))"
             },
             "opacity": {
              "value": 0.7
             },
             "tooltip": {
              "signal": "{\"Null or Non-Finite %\": format(datum[\"pcts\"], \"\")}"
             },
             "x": {
              "field": "pcts_end",
              "scale": "concat_1_x"
             },
             "x2": {
              "field": "pcts_start",
              "scale": "concat_1_x"
             },
             "y": {
              "field": "Primary_Bank_Type",
              "scale": "concat_1_y"
             }
            }
           },
           "from": {
            "data": "source_1"
           },
           "interactive": true,
           "name": "concat_1_marks",
           "style": [
            "bar"
           ],
           "type": "rect"
          }
         ],
         "name": "concat_1_group",
         "style": "cell",
         "type": "group"
        }
       ],
       "padding": 5,
       "scales": [
        {
         "domain": {
          "data": "source_0_color_domain_Primary_Bank_Type",
          "field": "Primary_Bank_Type",
          "sort": true
         },
         "name": "color",
         "range": "category",
         "type": "ordinal"
        },
        {
         "bins": {
          "signal": "view_1_bin_maxbins_100_EMI_bins"
         },
         "domain": {
          "signal": "[view_1_bin_maxbins_100_EMI_bins.start, view_1_bin_maxbins_100_EMI_bins.stop]"
         },
         "name": "view_1_x",
         "range": [
          0,
          {
           "signal": "width"
          }
         ],
         "type": "linear",
         "zero": false
        },
        {
         "domain": {
          "data": "source_0",
          "fields": [
           "__count_start",
           "__count_end"
          ]
         },
         "name": "view_1_y",
         "nice": true,
         "range": [
          {
           "signal": "view_1_height"
          },
          0
         ],
         "type": "linear",
         "zero": true
        },
        {
         "domain": [
          0,
          1
         ],
         "name": "concat_1_x",
         "range": [
          0,
          {
           "signal": "width"
          }
         ],
         "type": "linear",
         "zero": true
        },
        {
         "domain": {
          "data": "source_1_concat_1_y_domain_Primary_Bank_Type",
          "field": "Primary_Bank_Type",
          "sort": true
         },
         "name": "concat_1_y",
         "paddingInner": 0.1,
         "paddingOuter": 0.05,
         "range": {
          "step": {
           "signal": "concat_1_y_step"
          }
         },
         "type": "band"
        }
       ],
       "signals": [
        {
         "name": "view_1_bin_maxbins_100_EMI_bins",
         "value": {
          "fields": [
           "EMI"
          ],
          "fname": "bin_EMI",
          "start": 0,
          "step": 200,
          "stop": 13600
         }
        },
        {
         "name": "view_1_height",
         "value": 300
        },
        {
         "name": "concat_1_y_step",
         "value": 20
        },
        {
         "name": "concat_1_height",
         "update": "bandspace(domain('concat_1_y').length, 0.1, 0.05) * concat_1_y_step"
        },
        {
         "name": "unit",
         "on": [
          {
           "events": "pointermove",
           "update": "isTuple(group()) ? group() : unit"
          }
         ],
         "value": {}
        },
        {
         "name": "param_1_Primary_Bank_Type_legend",
         "on": [
          {
           "events": [
            {
             "markname": "Primary_Bank_Type_legend_symbols",
             "source": "view",
             "type": "click"
            },
            {
             "markname": "Primary_Bank_Type_legend_labels",
             "source": "view",
             "type": "click"
            },
            {
             "markname": "Primary_Bank_Type_legend_entries",
             "source": "view",
             "type": "click"
            }
           ],
           "force": true,
           "update": "isDefined(datum.value) ? datum.value : item().items[0].items[0].datum.value"
          },
          {
           "events": [
            {
             "source": "view",
             "type": "click"
            }
           ],
           "force": true,
           "update": "!event.item || !datum ? null : param_1_Primary_Bank_Type_legend"
          }
         ],
         "value": null
        },
        {
         "name": "param_1",
         "update": "vlSelectionResolve(\"param_1_store\", \"union\", true, true)"
        }
       ],
       "title": {
        "anchor": "start",
        "text": "Distribution of EMI over Primary Bank Type"
       },
       "width": 300
      },
      "text/plain": [
       "<VegaLite 5 object>\n",
       "\n",
       "If you see this message, it means the renderer has not been properly enabled\n",
       "for the frontend that you are using. For more information, see\n",
       "https://altair-viz.github.io/user_guide/display_frontends.html#troubleshooting\n"
      ]
     },
     "execution_count": 27,
     "metadata": {},
     "output_type": "execute_result"
    }
   ],
   "source": [
    "dia.plot_feature_distr(\n",
    "    \"EMI\", \n",
    "    n_bins=100,  \n",
    "    over = \"Primary_Bank_Type\"\n",
    ").properties(\n",
    "    title = alt.Title(\"Distribution of EMI over Primary Bank Type\")\n",
    ") # .interactive()"
   ]
  },
  {
   "cell_type": "markdown",
   "metadata": {},
   "source": [
    "# ML + ML Metrics Plots \n",
    "\n",
    "Example: Classic Iris Dataset"
   ]
  },
  {
   "cell_type": "code",
   "execution_count": 28,
   "metadata": {},
   "outputs": [
    {
     "data": {
      "text/html": [
       "<div><style>\n",
       ".dataframe > thead > tr,\n",
       ".dataframe > tbody > tr {\n",
       "  text-align: right;\n",
       "  white-space: pre-wrap;\n",
       "}\n",
       "</style>\n",
       "<small>shape: (5, 5)</small><table border=\"1\" class=\"dataframe\"><thead><tr><th>sepal length (cm)</th><th>sepal width (cm)</th><th>petal length (cm)</th><th>petal width (cm)</th><th>species</th></tr><tr><td>f64</td><td>f64</td><td>f64</td><td>f64</td><td>str</td></tr></thead><tbody><tr><td>5.1</td><td>3.5</td><td>1.4</td><td>0.2</td><td>&quot;setosa&quot;</td></tr><tr><td>4.9</td><td>3.0</td><td>1.4</td><td>0.2</td><td>&quot;setosa&quot;</td></tr><tr><td>4.7</td><td>3.2</td><td>1.3</td><td>0.2</td><td>&quot;setosa&quot;</td></tr><tr><td>4.6</td><td>3.1</td><td>1.5</td><td>0.2</td><td>&quot;setosa&quot;</td></tr><tr><td>5.0</td><td>3.6</td><td>1.4</td><td>0.2</td><td>&quot;setosa&quot;</td></tr></tbody></table></div>"
      ],
      "text/plain": [
       "shape: (5, 5)\n",
       "┌───────────────────┬──────────────────┬───────────────────┬──────────────────┬─────────┐\n",
       "│ sepal length (cm) ┆ sepal width (cm) ┆ petal length (cm) ┆ petal width (cm) ┆ species │\n",
       "│ ---               ┆ ---              ┆ ---               ┆ ---              ┆ ---     │\n",
       "│ f64               ┆ f64              ┆ f64               ┆ f64              ┆ str     │\n",
       "╞═══════════════════╪══════════════════╪═══════════════════╪══════════════════╪═════════╡\n",
       "│ 5.1               ┆ 3.5              ┆ 1.4               ┆ 0.2              ┆ setosa  │\n",
       "│ 4.9               ┆ 3.0              ┆ 1.4               ┆ 0.2              ┆ setosa  │\n",
       "│ 4.7               ┆ 3.2              ┆ 1.3               ┆ 0.2              ┆ setosa  │\n",
       "│ 4.6               ┆ 3.1              ┆ 1.5               ┆ 0.2              ┆ setosa  │\n",
       "│ 5.0               ┆ 3.6              ┆ 1.4               ┆ 0.2              ┆ setosa  │\n",
       "└───────────────────┴──────────────────┴───────────────────┴──────────────────┴─────────┘"
      ]
     },
     "execution_count": 28,
     "metadata": {},
     "output_type": "execute_result"
    }
   ],
   "source": [
    "import polars as pl\n",
    "import polars_ds as pds\n",
    "import altair as alt\n",
    "# Only used to get dataset.\n",
    "from sklearn import datasets\n",
    "\n",
    "dataset = datasets.load_iris()\n",
    "df = pl.from_numpy(dataset.data, schema = dataset.feature_names).with_columns(\n",
    "    pl.Series(values=dataset.target).alias(\"species\")\n",
    ").with_columns(\n",
    "    pl.when(pl.col(\"species\") == 0).then(pl.lit('setosa'))\n",
    "    .when(pl.col(\"species\") == 1).then(pl.lit('versicolor'))\n",
    "    .when(pl.col(\"species\") == 2).then(pl.lit('virginica')).alias(\"species\")\n",
    ")\n",
    "df.head()"
   ]
  },
  {
   "cell_type": "code",
   "execution_count": 29,
   "metadata": {},
   "outputs": [],
   "source": [
    "import polars_ds.eda.plots as pp"
   ]
  },
  {
   "cell_type": "code",
   "execution_count": 30,
   "metadata": {},
   "outputs": [
    {
     "data": {
      "application/vnd.vega.v5+json": {
       "$schema": "https://vega.github.io/schema/vega/v5.json",
       "axes": [
        {
         "aria": false,
         "domain": false,
         "grid": true,
         "gridScale": "y",
         "labels": false,
         "maxExtent": 0,
         "minExtent": 0,
         "orient": "bottom",
         "scale": "x",
         "tickCount": {
          "signal": "ceil(width/40)"
         },
         "ticks": false,
         "zindex": 0
        },
        {
         "aria": false,
         "domain": false,
         "grid": true,
         "gridScale": "x",
         "labels": false,
         "maxExtent": 0,
         "minExtent": 0,
         "orient": "left",
         "scale": "y",
         "tickCount": {
          "signal": "ceil(height/40)"
         },
         "ticks": false,
         "zindex": 0
        },
        {
         "grid": false,
         "labelFlush": true,
         "labelOverlap": true,
         "orient": "bottom",
         "scale": "x",
         "tickCount": {
          "signal": "ceil(width/40)"
         },
         "title": "pc1",
         "zindex": 0
        },
        {
         "grid": false,
         "labelOverlap": true,
         "orient": "left",
         "scale": "y",
         "tickCount": {
          "signal": "ceil(height/40)"
         },
         "title": "pc2",
         "zindex": 0
        }
       ],
       "background": "white",
       "data": [
        {
         "name": "source_0",
         "values": [
          {
           "pc1": -2.6841256259695343,
           "pc2": 0.31939724658510227,
           "species": "setosa"
          },
          {
           "pc1": -2.714141687294324,
           "pc2": -0.177001225064779,
           "species": "setosa"
          },
          {
           "pc1": -2.8889905690592945,
           "pc2": -0.14494942608555628,
           "species": "setosa"
          },
          {
           "pc1": -2.745342855641408,
           "pc2": -0.31829897925191497,
           "species": "setosa"
          },
          {
           "pc1": -2.7287165365545283,
           "pc2": 0.326754512934921,
           "species": "setosa"
          },
          {
           "pc1": -2.2808596328444906,
           "pc2": 0.7413304490629161,
           "species": "setosa"
          },
          {
           "pc1": -2.820537750740607,
           "pc2": -0.08946138452856767,
           "species": "setosa"
          },
          {
           "pc1": -2.626144973146631,
           "pc2": 0.16338495969832986,
           "species": "setosa"
          },
          {
           "pc1": -2.886382731780551,
           "pc2": -0.5783117541867027,
           "species": "setosa"
          },
          {
           "pc1": -2.6727557978209515,
           "pc2": -0.11377424587411568,
           "species": "setosa"
          },
          {
           "pc1": -2.506947090651854,
           "pc2": 0.645068898648575,
           "species": "setosa"
          },
          {
           "pc1": -2.612755230908721,
           "pc2": 0.014729939161375646,
           "species": "setosa"
          },
          {
           "pc1": -2.7861092661880154,
           "pc2": -0.23511200020171721,
           "species": "setosa"
          },
          {
           "pc1": -3.22380374386565,
           "pc2": -0.5113945870063809,
           "species": "setosa"
          },
          {
           "pc1": -2.6447503899420277,
           "pc2": 1.1787646364375763,
           "species": "setosa"
          },
          {
           "pc1": -2.386039033531131,
           "pc2": 1.3380623304006534,
           "species": "setosa"
          },
          {
           "pc1": -2.623527875224424,
           "pc2": 0.8106795141812588,
           "species": "setosa"
          },
          {
           "pc1": -2.648296706254379,
           "pc2": 0.3118491445933559,
           "species": "setosa"
          },
          {
           "pc1": -2.199820323617578,
           "pc2": 0.8728390389622119,
           "species": "setosa"
          },
          {
           "pc1": -2.5879863998787664,
           "pc2": 0.513560308749278,
           "species": "setosa"
          },
          {
           "pc1": -2.310256215242516,
           "pc2": 0.39134593565389536,
           "species": "setosa"
          },
          {
           "pc1": -2.543705228757154,
           "pc2": 0.4329960632790293,
           "species": "setosa"
          },
          {
           "pc1": -3.21593941564861,
           "pc2": 0.13346806953852708,
           "species": "setosa"
          },
          {
           "pc1": -2.302733182226205,
           "pc2": 0.09870885481410055,
           "species": "setosa"
          },
          {
           "pc1": -2.3557540491237705,
           "pc2": -0.03728185967738147,
           "species": "setosa"
          },
          {
           "pc1": -2.5066689069258197,
           "pc2": -0.14601688049526657,
           "species": "setosa"
          },
          {
           "pc1": -2.468820073121337,
           "pc2": 0.13095148943525137,
           "species": "setosa"
          },
          {
           "pc1": -2.562319906196014,
           "pc2": 0.367718857434201,
           "species": "setosa"
          },
          {
           "pc1": -2.6395347153845403,
           "pc2": 0.312039980235284,
           "species": "setosa"
          },
          {
           "pc1": -2.631989387274344,
           "pc2": -0.1969612249243134,
           "species": "setosa"
          },
          {
           "pc1": -2.5873984766893505,
           "pc2": -0.20431849127413232,
           "species": "setosa"
          },
          {
           "pc1": -2.4099324970021727,
           "pc2": 0.410924264229574,
           "species": "setosa"
          },
          {
           "pc1": -2.64886233434991,
           "pc2": 0.8133638202969632,
           "species": "setosa"
          },
          {
           "pc1": -2.598736749100585,
           "pc2": 1.093145759449358,
           "species": "setosa"
          },
          {
           "pc1": -2.636926878105797,
           "pc2": -0.12132234786586203,
           "species": "setosa"
          },
          {
           "pc1": -2.866241652118668,
           "pc2": 0.06936447158008183,
           "species": "setosa"
          },
          {
           "pc1": -2.62523804985037,
           "pc2": 0.5993700213794247,
           "species": "setosa"
          },
          {
           "pc1": -2.8006841154482194,
           "pc2": 0.2686437377979835,
           "species": "setosa"
          },
          {
           "pc1": -2.9805020437819914,
           "pc2": -0.48795834442861424,
           "species": "setosa"
          },
          {
           "pc1": -2.590006313968094,
           "pc2": 0.2290438368270138,
           "species": "setosa"
          },
          {
           "pc1": -2.7701024260278992,
           "pc2": 0.2635275337442576,
           "species": "setosa"
          },
          {
           "pc1": -2.8493687050431014,
           "pc2": -0.9409605736411958,
           "species": "setosa"
          },
          {
           "pc1": -2.997406546594905,
           "pc2": -0.34192605747160865,
           "species": "setosa"
          },
          {
           "pc1": -2.4056144850974834,
           "pc2": 0.18887142893026138,
           "species": "setosa"
          },
          {
           "pc1": -2.2094892377836772,
           "pc2": 0.43666314163918885,
           "species": "setosa"
          },
          {
           "pc1": -2.7144514267577056,
           "pc2": -0.25020820418520995,
           "species": "setosa"
          },
          {
           "pc1": -2.538148258998938,
           "pc2": 0.5037711444614387,
           "species": "setosa"
          },
          {
           "pc1": -2.839462167642848,
           "pc2": -0.22794556949382638,
           "species": "setosa"
          },
          {
           "pc1": -2.5430857498303907,
           "pc2": 0.5794100215198904,
           "species": "setosa"
          },
          {
           "pc1": -2.7033597823351574,
           "pc2": 0.10770608249941281,
           "species": "setosa"
          },
          {
           "pc1": 1.2848256888583545,
           "pc2": 0.6851604704673088,
           "species": "versicolor"
          },
          {
           "pc1": 0.9324885323123211,
           "pc2": 0.31833363826262906,
           "species": "versicolor"
          },
          {
           "pc1": 1.4643023219913966,
           "pc2": 0.5042628153092042,
           "species": "versicolor"
          },
          {
           "pc1": 0.18331771995837315,
           "pc2": -0.8279590118206318,
           "species": "versicolor"
          },
          {
           "pc1": 1.0881032577116685,
           "pc2": 0.0745906751977164,
           "species": "versicolor"
          },
          {
           "pc1": 0.6416690842580802,
           "pc2": -0.41824687156867846,
           "species": "versicolor"
          },
          {
           "pc1": 1.0950606626324495,
           "pc2": 0.28346827006152914,
           "species": "versicolor"
          },
          {
           "pc1": -0.7491226698296548,
           "pc2": -1.0048909611818946,
           "species": "versicolor"
          },
          {
           "pc1": 1.0441318260534382,
           "pc2": 0.2283618997883958,
           "species": "versicolor"
          },
          {
           "pc1": -0.008745404082893517,
           "pc2": -0.7230819050048338,
           "species": "versicolor"
          },
          {
           "pc1": -0.5078408838353234,
           "pc2": -1.2659711905263928,
           "species": "versicolor"
          },
          {
           "pc1": 0.5116985574476,
           "pc2": -0.10398123549904013,
           "species": "versicolor"
          },
          {
           "pc1": 0.26497650811204915,
           "pc2": -0.5500364636804743,
           "species": "versicolor"
          },
          {
           "pc1": 0.9849345104708929,
           "pc2": -0.12481785412635724,
           "species": "versicolor"
          },
          {
           "pc1": -0.1739253716817654,
           "pc2": -0.2548542087025888,
           "species": "versicolor"
          },
          {
           "pc1": 0.9278607809442502,
           "pc2": 0.4671794944415107,
           "species": "versicolor"
          },
          {
           "pc1": 0.6602837616969396,
           "pc2": -0.35296966572385025,
           "species": "versicolor"
          },
          {
           "pc1": 0.23610499331767426,
           "pc2": -0.3336107668249149,
           "species": "versicolor"
          },
          {
           "pc1": 0.9447337280198159,
           "pc2": -0.5431455507797662,
           "species": "versicolor"
          },
          {
           "pc1": 0.04522697629870243,
           "pc2": -0.5838343774718638,
           "species": "versicolor"
          },
          {
           "pc1": 1.1162831773500523,
           "pc2": -0.08461685219478798,
           "species": "versicolor"
          },
          {
           "pc1": 0.35788841799730986,
           "pc2": -0.06892503165601359,
           "species": "versicolor"
          },
          {
           "pc1": 1.2981838753589163,
           "pc2": -0.3277873083339173,
           "species": "versicolor"
          },
          {
           "pc1": 0.9217289224470397,
           "pc2": -0.18273779362136724,
           "species": "versicolor"
          },
          {
           "pc1": 0.7148533259114144,
           "pc2": 0.14905594436978506,
           "species": "versicolor"
          },
          {
           "pc1": 0.9001743731721699,
           "pc2": 0.32850447383432346,
           "species": "versicolor"
          },
          {
           "pc1": 1.3320244367220913,
           "pc2": 0.24444087601634362,
           "species": "versicolor"
          },
          {
           "pc1": 1.5578021550660732,
           "pc2": 0.26749544731025465,
           "species": "versicolor"
          },
          {
           "pc1": 0.8132906498175441,
           "pc2": -0.16335030068761605,
           "species": "versicolor"
          },
          {
           "pc1": -0.30558377802430653,
           "pc2": -0.3682621897545874,
           "species": "versicolor"
          },
          {
           "pc1": -0.06812649206836105,
           "pc2": -0.7051721317994647,
           "species": "versicolor"
          },
          {
           "pc1": -0.18962247237849936,
           "pc2": -0.6802867635281328,
           "species": "versicolor"
          },
          {
           "pc1": 0.1364287115580175,
           "pc2": -0.31403243824923627,
           "species": "versicolor"
          },
          {
           "pc1": 1.3800264359155137,
           "pc2": -0.42095428731388185,
           "species": "versicolor"
          },
          {
           "pc1": 0.5880064433398661,
           "pc2": -0.4842874199812181,
           "species": "versicolor"
          },
          {
           "pc1": 0.8068583125004147,
           "pc2": 0.19418231471315098,
           "species": "versicolor"
          },
          {
           "pc1": 1.2206908824443556,
           "pc2": 0.4076195936110072,
           "species": "versicolor"
          },
          {
           "pc1": 0.8150952357666025,
           "pc2": -0.3720370599095014,
           "species": "versicolor"
          },
          {
           "pc1": 0.24595767988669506,
           "pc2": -0.26852439662201455,
           "species": "versicolor"
          },
          {
           "pc1": 0.1664132171454594,
           "pc2": -0.6819267248636263,
           "species": "versicolor"
          },
          {
           "pc1": 0.4648002884037819,
           "pc2": -0.6707115445117201,
           "species": "versicolor"
          },
          {
           "pc1": 0.890815198469452,
           "pc2": -0.034464444368268676,
           "species": "versicolor"
          },
          {
           "pc1": 0.23054802355945797,
           "pc2": -0.4043858480073247,
           "species": "versicolor"
          },
          {
           "pc1": -0.7045317592446613,
           "pc2": -1.0122482275317135,
           "species": "versicolor"
          },
          {
           "pc1": 0.35698149470104956,
           "pc2": -0.5049100933371083,
           "species": "versicolor"
          },
          {
           "pc1": 0.33193447994506103,
           "pc2": -0.21265468378116947,
           "species": "versicolor"
          },
          {
           "pc1": 0.37621565106667293,
           "pc2": -0.29321892925141857,
           "species": "versicolor"
          },
          {
           "pc1": 0.6425760075543405,
           "pc2": 0.017738190112416587,
           "species": "versicolor"
          },
          {
           "pc1": -0.9064698649488336,
           "pc2": -0.7560933665990133,
           "species": "versicolor"
          },
          {
           "pc1": 0.29900084187814585,
           "pc2": -0.3488978064503355,
           "species": "versicolor"
          },
          {
           "pc1": 2.5311927278036306,
           "pc2": -0.009849109498802367,
           "species": "virginica"
          },
          {
           "pc1": 1.415235876703905,
           "pc2": -0.5749163475464893,
           "species": "virginica"
          },
          {
           "pc1": 2.6166760159956923,
           "pc2": 0.3439031513417341,
           "species": "virginica"
          },
          {
           "pc1": 1.9715310530434382,
           "pc2": -0.17972790435224556,
           "species": "virginica"
          },
          {
           "pc1": 2.3500059200446426,
           "pc2": -0.040260947142531284,
           "species": "virginica"
          },
          {
           "pc1": 3.3970387360532612,
           "pc2": 0.5508366730280551,
           "species": "virginica"
          },
          {
           "pc1": 0.5212322439097761,
           "pc2": -1.192758727000645,
           "species": "virginica"
          },
          {
           "pc1": 2.932587068993692,
           "pc2": 0.35550000297749607,
           "species": "virginica"
          },
          {
           "pc1": 2.3212288165733805,
           "pc2": -0.2438315023106908,
           "species": "virginica"
          },
          {
           "pc1": 2.9167509667860756,
           "pc2": 0.782791948815278,
           "species": "virginica"
          },
          {
           "pc1": 1.661774153636534,
           "pc2": 0.24222840775506696,
           "species": "virginica"
          },
          {
           "pc1": 1.8034019529650935,
           "pc2": -0.21563761733355546,
           "species": "virginica"
          },
          {
           "pc1": 2.1655917960801476,
           "pc2": 0.2162755850740245,
           "species": "virginica"
          },
          {
           "pc1": 1.3461635794584539,
           "pc2": -0.7768183473443394,
           "species": "virginica"
          },
          {
           "pc1": 1.5859282238732233,
           "pc2": -0.5396407140267188,
           "species": "virginica"
          },
          {
           "pc1": 1.9044563747934293,
           "pc2": 0.11925069209197249,
           "species": "virginica"
          },
          {
           "pc1": 1.9496890593990719,
           "pc2": 0.0419432596632113,
           "species": "virginica"
          },
          {
           "pc1": 3.487055364290282,
           "pc2": 1.1757393297134286,
           "species": "virginica"
          },
          {
           "pc1": 3.795645422072887,
           "pc2": 0.2573229734204789,
           "species": "virginica"
          },
          {
           "pc1": 1.3007917126376596,
           "pc2": -0.7611496364350632,
           "species": "virginica"
          },
          {
           "pc1": 2.427817913066048,
           "pc2": 0.3781960126170505,
           "species": "virginica"
          },
          {
           "pc1": 1.199001105465563,
           "pc2": -0.6060915277579304,
           "species": "virginica"
          },
          {
           "pc1": 3.499920038924541,
           "pc2": 0.4606740989118946,
           "species": "virginica"
          },
          {
           "pc1": 1.3887661316914677,
           "pc2": -0.20439932735215086,
           "species": "virginica"
          },
          {
           "pc1": 2.2754305038722076,
           "pc2": 0.3349906058216771,
           "species": "virginica"
          },
          {
           "pc1": 2.614090473810834,
           "pc2": 0.5609013551230776,
           "species": "virginica"
          },
          {
           "pc1": 1.2585081605114903,
           "pc2": -0.17970479472274656,
           "species": "virginica"
          },
          {
           "pc1": 1.2911320591150235,
           "pc2": -0.11666865117401141,
           "species": "virginica"
          },
          {
           "pc1": 2.1236087227738976,
           "pc2": -0.20972947667730288,
           "species": "virginica"
          },
          {
           "pc1": 2.3880030160034704,
           "pc2": 0.46463980470873617,
           "species": "virginica"
          },
          {
           "pc1": 2.8416727781038733,
           "pc2": 0.3752691671951029,
           "species": "virginica"
          },
          {
           "pc1": 3.2306736614320957,
           "pc2": 1.3741650867930468,
           "species": "virginica"
          },
          {
           "pc1": 2.1594376424890527,
           "pc2": -0.21727757866904926,
           "species": "virginica"
          },
          {
           "pc1": 1.4441612423295123,
           "pc2": -0.14341341045758063,
           "species": "virginica"
          },
          {
           "pc1": 1.781294810045115,
           "pc2": -0.4999016810781365,
           "species": "virginica"
          },
          {
           "pc1": 3.0764999316871906,
           "pc2": 0.6880856775711754,
           "species": "virginica"
          },
          {
           "pc1": 2.1442433143020843,
           "pc2": 0.1400642010897897,
           "species": "virginica"
          },
          {
           "pc1": 1.9050981488140784,
           "pc2": 0.049300526013030116,
           "species": "virginica"
          },
          {
           "pc1": 1.1693263393415028,
           "pc2": -0.1649902620231095,
           "species": "virginica"
          },
          {
           "pc1": 2.1076111432572446,
           "pc2": 0.37228787196079743,
           "species": "virginica"
          },
          {
           "pc1": 2.3141547052356026,
           "pc2": 0.18365127916901858,
           "species": "virginica"
          },
          {
           "pc1": 1.9222678009026033,
           "pc2": 0.409203466816062,
           "species": "virginica"
          },
          {
           "pc1": 1.415235876703905,
           "pc2": -0.5749163475464893,
           "species": "virginica"
          },
          {
           "pc1": 2.5630133750774786,
           "pc2": 0.27786260292919446,
           "species": "virginica"
          },
          {
           "pc1": 2.418746182732828,
           "pc2": 0.30479819785469164,
           "species": "virginica"
          },
          {
           "pc1": 1.9441097945469703,
           "pc2": 0.18753230280060498,
           "species": "virginica"
          },
          {
           "pc1": 1.5271666148145198,
           "pc2": -0.3753169825804884,
           "species": "virginica"
          },
          {
           "pc1": 1.7643457170444317,
           "pc2": 0.0788588545184757,
           "species": "virginica"
          },
          {
           "pc1": 1.900941614218426,
           "pc2": 0.11662795851202341,
           "species": "virginica"
          },
          {
           "pc1": 1.3901888619479164,
           "pc2": -0.2826609379905506,
           "species": "virginica"
          }
         ]
        },
        {
         "name": "source_0_x_domain_pc1",
         "values": [
          {
           "max": 3.795645422072887,
           "min": -3.22380374386565
          }
         ]
        },
        {
         "name": "source_0_y_domain_pc2",
         "values": [
          {
           "max": 1.3741650867930468,
           "min": -1.2659711905263928
          }
         ]
        },
        {
         "name": "source_0_color_domain_species",
         "values": [
          {
           "species": "setosa"
          },
          {
           "species": "versicolor"
          },
          {
           "species": "virginica"
          }
         ]
        }
       ],
       "height": 300,
       "legends": [
        {
         "encode": {
          "symbols": {
           "update": {
            "opacity": {
             "value": 0.7
            }
           }
          }
         },
         "fill": "color",
         "symbolType": "circle",
         "title": "species"
        }
       ],
       "marks": [
        {
         "encode": {
          "update": {
           "fill": {
            "field": "species",
            "scale": "color"
           },
           "opacity": {
            "value": 0.7
           },
           "shape": {
            "value": "circle"
           },
           "size": {
            "value": 60
           },
           "x": {
            "field": "pc1",
            "scale": "x"
           },
           "y": {
            "field": "pc2",
            "scale": "y"
           }
          }
         },
         "from": {
          "data": "source_0"
         },
         "name": "marks",
         "style": [
          "circle"
         ],
         "type": "symbol"
        }
       ],
       "padding": 5,
       "scales": [
        {
         "domain": [
          {
           "signal": "(data(\"source_0_x_domain_pc1\")[0] || {}).min"
          },
          {
           "signal": "(data(\"source_0_x_domain_pc1\")[0] || {}).max"
          }
         ],
         "name": "x",
         "nice": true,
         "range": [
          0,
          {
           "signal": "width"
          }
         ],
         "type": "linear",
         "zero": true
        },
        {
         "domain": [
          {
           "signal": "(data(\"source_0_y_domain_pc2\")[0] || {}).min"
          },
          {
           "signal": "(data(\"source_0_y_domain_pc2\")[0] || {}).max"
          }
         ],
         "name": "y",
         "nice": true,
         "range": [
          {
           "signal": "height"
          },
          0
         ],
         "type": "linear",
         "zero": true
        },
        {
         "domain": {
          "data": "source_0_color_domain_species",
          "field": "species",
          "sort": true
         },
         "name": "color",
         "range": "category",
         "type": "ordinal"
        }
       ],
       "style": "cell",
       "title": {
        "frame": "group",
        "text": "2 Principal Components Plot"
       },
       "width": 300
      },
      "text/plain": [
       "<VegaLite 5 object>\n",
       "\n",
       "If you see this message, it means the renderer has not been properly enabled\n",
       "for the frontend that you are using. For more information, see\n",
       "https://altair-viz.github.io/user_guide/display_frontends.html#troubleshooting\n"
      ]
     },
     "execution_count": 30,
     "metadata": {},
     "output_type": "execute_result"
    }
   ],
   "source": [
    "pp.plot_pca(\n",
    "    df,\n",
    "    [\"sepal length (cm)\", \"sepal width (cm)\", \"petal length (cm)\", \"petal width (cm)\"], \n",
    "    by = \"species\",\n",
    "    dim = 2\n",
    ").properties(\n",
    "    title='2 Principal Components Plot'\n",
    ")"
   ]
  },
  {
   "cell_type": "code",
   "execution_count": 31,
   "metadata": {},
   "outputs": [
    {
     "data": {
      "application/vnd.vega.v5+json": {
       "$schema": "https://vega.github.io/schema/vega/v5.json",
       "axes": [
        {
         "aria": false,
         "domain": false,
         "grid": true,
         "gridScale": "y",
         "labels": false,
         "maxExtent": 0,
         "minExtent": 0,
         "orient": "bottom",
         "scale": "x",
         "tickCount": {
          "signal": "ceil(width/40)"
         },
         "ticks": false,
         "zindex": 0
        },
        {
         "aria": false,
         "domain": false,
         "grid": true,
         "gridScale": "x",
         "labels": false,
         "maxExtent": 0,
         "minExtent": 0,
         "orient": "left",
         "scale": "y",
         "tickCount": {
          "signal": "ceil(height/40)"
         },
         "ticks": false,
         "zindex": 0
        },
        {
         "grid": false,
         "labelFlush": true,
         "labelOverlap": true,
         "orient": "bottom",
         "scale": "x",
         "tickCount": {
          "signal": "ceil(width/40)"
         },
         "title": [
          "sepal length (cm)",
          "y = 1.8584 * x - 7.1014, r2 = 0.7600"
         ],
         "zindex": 0
        },
        {
         "grid": false,
         "labelOverlap": true,
         "orient": "left",
         "scale": "y",
         "tickCount": {
          "signal": "ceil(height/40)"
         },
         "title": "petal length (cm), y_pred",
         "zindex": 0
        }
       ],
       "background": "white",
       "data": [
        {
         "name": "param_2_store"
        },
        {
         "name": "source_0",
         "values": [
          {
           "petal length (cm)": 1.4,
           "sepal length (cm)": 5.1,
           "y_pred": 2.376564819497233
          },
          {
           "petal length (cm)": 1.4,
           "sepal length (cm)": 4.9,
           "y_pred": 2.0048782238462657
          },
          {
           "petal length (cm)": 1.3,
           "sepal length (cm)": 4.7,
           "y_pred": 1.6331916281952967
          },
          {
           "petal length (cm)": 1.5,
           "sepal length (cm)": 4.6,
           "y_pred": 1.4473483303698114
          },
          {
           "petal length (cm)": 1.4,
           "sepal length (cm)": 5,
           "y_pred": 2.1907215216717493
          },
          {
           "petal length (cm)": 1.7,
           "sepal length (cm)": 5.4,
           "y_pred": 2.9340947129736854
          },
          {
           "petal length (cm)": 1.4,
           "sepal length (cm)": 4.6,
           "y_pred": 1.4473483303698114
          },
          {
           "petal length (cm)": 1.5,
           "sepal length (cm)": 5,
           "y_pred": 2.1907215216717493
          },
          {
           "petal length (cm)": 1.4,
           "sepal length (cm)": 4.4,
           "y_pred": 1.0756617347188442
          },
          {
           "petal length (cm)": 1.5,
           "sepal length (cm)": 4.9,
           "y_pred": 2.0048782238462657
          },
          {
           "petal length (cm)": 1.5,
           "sepal length (cm)": 5.4,
           "y_pred": 2.9340947129736854
          },
          {
           "petal length (cm)": 1.6,
           "sepal length (cm)": 4.8,
           "y_pred": 1.8190349260207803
          },
          {
           "petal length (cm)": 1.4,
           "sepal length (cm)": 4.8,
           "y_pred": 1.8190349260207803
          },
          {
           "petal length (cm)": 1.1,
           "sepal length (cm)": 4.3,
           "y_pred": 0.8898184368933597
          },
          {
           "petal length (cm)": 1.2,
           "sepal length (cm)": 5.8,
           "y_pred": 3.6774679042756215
          },
          {
           "petal length (cm)": 1.5,
           "sepal length (cm)": 5.7,
           "y_pred": 3.491624606450138
          },
          {
           "petal length (cm)": 1.3,
           "sepal length (cm)": 5.4,
           "y_pred": 2.9340947129736854
          },
          {
           "petal length (cm)": 1.4,
           "sepal length (cm)": 5.1,
           "y_pred": 2.376564819497233
          },
          {
           "petal length (cm)": 1.7,
           "sepal length (cm)": 5.7,
           "y_pred": 3.491624606450138
          },
          {
           "petal length (cm)": 1.5,
           "sepal length (cm)": 5.1,
           "y_pred": 2.376564819497233
          },
          {
           "petal length (cm)": 1.7,
           "sepal length (cm)": 5.4,
           "y_pred": 2.9340947129736854
          },
          {
           "petal length (cm)": 1.5,
           "sepal length (cm)": 5.1,
           "y_pred": 2.376564819497233
          },
          {
           "petal length (cm)": 1,
           "sepal length (cm)": 4.6,
           "y_pred": 1.4473483303698114
          },
          {
           "petal length (cm)": 1.7,
           "sepal length (cm)": 5.1,
           "y_pred": 2.376564819497233
          },
          {
           "petal length (cm)": 1.9,
           "sepal length (cm)": 4.8,
           "y_pred": 1.8190349260207803
          },
          {
           "petal length (cm)": 1.6,
           "sepal length (cm)": 5,
           "y_pred": 2.1907215216717493
          },
          {
           "petal length (cm)": 1.6,
           "sepal length (cm)": 5,
           "y_pred": 2.1907215216717493
          },
          {
           "petal length (cm)": 1.5,
           "sepal length (cm)": 5.2,
           "y_pred": 2.5624081173227164
          },
          {
           "petal length (cm)": 1.4,
           "sepal length (cm)": 5.2,
           "y_pred": 2.5624081173227164
          },
          {
           "petal length (cm)": 1.6,
           "sepal length (cm)": 4.7,
           "y_pred": 1.6331916281952967
          },
          {
           "petal length (cm)": 1.6,
           "sepal length (cm)": 4.8,
           "y_pred": 1.8190349260207803
          },
          {
           "petal length (cm)": 1.5,
           "sepal length (cm)": 5.4,
           "y_pred": 2.9340947129736854
          },
          {
           "petal length (cm)": 1.5,
           "sepal length (cm)": 5.2,
           "y_pred": 2.5624081173227164
          },
          {
           "petal length (cm)": 1.4,
           "sepal length (cm)": 5.5,
           "y_pred": 3.119938010799169
          },
          {
           "petal length (cm)": 1.5,
           "sepal length (cm)": 4.9,
           "y_pred": 2.0048782238462657
          },
          {
           "petal length (cm)": 1.2,
           "sepal length (cm)": 5,
           "y_pred": 2.1907215216717493
          },
          {
           "petal length (cm)": 1.3,
           "sepal length (cm)": 5.5,
           "y_pred": 3.119938010799169
          },
          {
           "petal length (cm)": 1.4,
           "sepal length (cm)": 4.9,
           "y_pred": 2.0048782238462657
          },
          {
           "petal length (cm)": 1.3,
           "sepal length (cm)": 4.4,
           "y_pred": 1.0756617347188442
          },
          {
           "petal length (cm)": 1.5,
           "sepal length (cm)": 5.1,
           "y_pred": 2.376564819497233
          },
          {
           "petal length (cm)": 1.3,
           "sepal length (cm)": 5,
           "y_pred": 2.1907215216717493
          },
          {
           "petal length (cm)": 1.3,
           "sepal length (cm)": 4.5,
           "y_pred": 1.2615050325443278
          },
          {
           "petal length (cm)": 1.3,
           "sepal length (cm)": 4.4,
           "y_pred": 1.0756617347188442
          },
          {
           "petal length (cm)": 1.6,
           "sepal length (cm)": 5,
           "y_pred": 2.1907215216717493
          },
          {
           "petal length (cm)": 1.9,
           "sepal length (cm)": 5.1,
           "y_pred": 2.376564819497233
          },
          {
           "petal length (cm)": 1.4,
           "sepal length (cm)": 4.8,
           "y_pred": 1.8190349260207803
          },
          {
           "petal length (cm)": 1.6,
           "sepal length (cm)": 5.1,
           "y_pred": 2.376564819497233
          },
          {
           "petal length (cm)": 1.4,
           "sepal length (cm)": 4.6,
           "y_pred": 1.4473483303698114
          },
          {
           "petal length (cm)": 1.5,
           "sepal length (cm)": 5.3,
           "y_pred": 2.7482514151482
          },
          {
           "petal length (cm)": 1.4,
           "sepal length (cm)": 5,
           "y_pred": 2.1907215216717493
          },
          {
           "petal length (cm)": 4.7,
           "sepal length (cm)": 7,
           "y_pred": 5.90758747818143
          },
          {
           "petal length (cm)": 4.5,
           "sepal length (cm)": 6.4,
           "y_pred": 4.792527691228527
          },
          {
           "petal length (cm)": 4.9,
           "sepal length (cm)": 6.9,
           "y_pred": 5.721744180355946
          },
          {
           "petal length (cm)": 4,
           "sepal length (cm)": 5.5,
           "y_pred": 3.119938010799169
          },
          {
           "petal length (cm)": 4.6,
           "sepal length (cm)": 6.5,
           "y_pred": 4.97837098905401
          },
          {
           "petal length (cm)": 4.5,
           "sepal length (cm)": 5.7,
           "y_pred": 3.491624606450138
          },
          {
           "petal length (cm)": 4.7,
           "sepal length (cm)": 6.3,
           "y_pred": 4.606684393403041
          },
          {
           "petal length (cm)": 3.3,
           "sepal length (cm)": 4.9,
           "y_pred": 2.0048782238462657
          },
          {
           "petal length (cm)": 4.6,
           "sepal length (cm)": 6.6,
           "y_pred": 5.164214286879494
          },
          {
           "petal length (cm)": 3.9,
           "sepal length (cm)": 5.2,
           "y_pred": 2.5624081173227164
          },
          {
           "petal length (cm)": 3.5,
           "sepal length (cm)": 5,
           "y_pred": 2.1907215216717493
          },
          {
           "petal length (cm)": 4.2,
           "sepal length (cm)": 5.9,
           "y_pred": 3.863311202101107
          },
          {
           "petal length (cm)": 4,
           "sepal length (cm)": 6,
           "y_pred": 4.049154499926589
          },
          {
           "petal length (cm)": 4.7,
           "sepal length (cm)": 6.1,
           "y_pred": 4.234997797752072
          },
          {
           "petal length (cm)": 3.6,
           "sepal length (cm)": 5.6,
           "y_pred": 3.3057813086246526
          },
          {
           "petal length (cm)": 4.4,
           "sepal length (cm)": 6.7,
           "y_pred": 5.350057584704979
          },
          {
           "petal length (cm)": 4.5,
           "sepal length (cm)": 5.6,
           "y_pred": 3.3057813086246526
          },
          {
           "petal length (cm)": 4.1,
           "sepal length (cm)": 5.8,
           "y_pred": 3.6774679042756215
          },
          {
           "petal length (cm)": 4.5,
           "sepal length (cm)": 6.2,
           "y_pred": 4.420841095577558
          },
          {
           "petal length (cm)": 3.9,
           "sepal length (cm)": 5.6,
           "y_pred": 3.3057813086246526
          },
          {
           "petal length (cm)": 4.8,
           "sepal length (cm)": 5.9,
           "y_pred": 3.863311202101107
          },
          {
           "petal length (cm)": 4,
           "sepal length (cm)": 6.1,
           "y_pred": 4.234997797752072
          },
          {
           "petal length (cm)": 4.9,
           "sepal length (cm)": 6.3,
           "y_pred": 4.606684393403041
          },
          {
           "petal length (cm)": 4.7,
           "sepal length (cm)": 6.1,
           "y_pred": 4.234997797752072
          },
          {
           "petal length (cm)": 4.3,
           "sepal length (cm)": 6.4,
           "y_pred": 4.792527691228527
          },
          {
           "petal length (cm)": 4.4,
           "sepal length (cm)": 6.6,
           "y_pred": 5.164214286879494
          },
          {
           "petal length (cm)": 4.8,
           "sepal length (cm)": 6.8,
           "y_pred": 5.535900882530463
          },
          {
           "petal length (cm)": 5,
           "sepal length (cm)": 6.7,
           "y_pred": 5.350057584704979
          },
          {
           "petal length (cm)": 4.5,
           "sepal length (cm)": 6,
           "y_pred": 4.049154499926589
          },
          {
           "petal length (cm)": 3.5,
           "sepal length (cm)": 5.7,
           "y_pred": 3.491624606450138
          },
          {
           "petal length (cm)": 3.8,
           "sepal length (cm)": 5.5,
           "y_pred": 3.119938010799169
          },
          {
           "petal length (cm)": 3.7,
           "sepal length (cm)": 5.5,
           "y_pred": 3.119938010799169
          },
          {
           "petal length (cm)": 3.9,
           "sepal length (cm)": 5.8,
           "y_pred": 3.6774679042756215
          },
          {
           "petal length (cm)": 5.1,
           "sepal length (cm)": 6,
           "y_pred": 4.049154499926589
          },
          {
           "petal length (cm)": 4.5,
           "sepal length (cm)": 5.4,
           "y_pred": 2.9340947129736854
          },
          {
           "petal length (cm)": 4.5,
           "sepal length (cm)": 6,
           "y_pred": 4.049154499926589
          },
          {
           "petal length (cm)": 4.7,
           "sepal length (cm)": 6.7,
           "y_pred": 5.350057584704979
          },
          {
           "petal length (cm)": 4.4,
           "sepal length (cm)": 6.3,
           "y_pred": 4.606684393403041
          },
          {
           "petal length (cm)": 4.1,
           "sepal length (cm)": 5.6,
           "y_pred": 3.3057813086246526
          },
          {
           "petal length (cm)": 4,
           "sepal length (cm)": 5.5,
           "y_pred": 3.119938010799169
          },
          {
           "petal length (cm)": 4.4,
           "sepal length (cm)": 5.5,
           "y_pred": 3.119938010799169
          },
          {
           "petal length (cm)": 4.6,
           "sepal length (cm)": 6.1,
           "y_pred": 4.234997797752072
          },
          {
           "petal length (cm)": 4,
           "sepal length (cm)": 5.8,
           "y_pred": 3.6774679042756215
          },
          {
           "petal length (cm)": 3.3,
           "sepal length (cm)": 5,
           "y_pred": 2.1907215216717493
          },
          {
           "petal length (cm)": 4.2,
           "sepal length (cm)": 5.6,
           "y_pred": 3.3057813086246526
          },
          {
           "petal length (cm)": 4.2,
           "sepal length (cm)": 5.7,
           "y_pred": 3.491624606450138
          },
          {
           "petal length (cm)": 4.2,
           "sepal length (cm)": 5.7,
           "y_pred": 3.491624606450138
          },
          {
           "petal length (cm)": 4.3,
           "sepal length (cm)": 6.2,
           "y_pred": 4.420841095577558
          },
          {
           "petal length (cm)": 3,
           "sepal length (cm)": 5.1,
           "y_pred": 2.376564819497233
          },
          {
           "petal length (cm)": 4.1,
           "sepal length (cm)": 5.7,
           "y_pred": 3.491624606450138
          },
          {
           "petal length (cm)": 6,
           "sepal length (cm)": 6.3,
           "y_pred": 4.606684393403041
          },
          {
           "petal length (cm)": 5.1,
           "sepal length (cm)": 5.8,
           "y_pred": 3.6774679042756215
          },
          {
           "petal length (cm)": 5.9,
           "sepal length (cm)": 7.1,
           "y_pred": 6.0934307760069135
          },
          {
           "petal length (cm)": 5.6,
           "sepal length (cm)": 6.3,
           "y_pred": 4.606684393403041
          },
          {
           "petal length (cm)": 5.8,
           "sepal length (cm)": 6.5,
           "y_pred": 4.97837098905401
          },
          {
           "petal length (cm)": 6.6,
           "sepal length (cm)": 7.6,
           "y_pred": 7.022647265134335
          },
          {
           "petal length (cm)": 4.5,
           "sepal length (cm)": 4.9,
           "y_pred": 2.0048782238462657
          },
          {
           "petal length (cm)": 6.3,
           "sepal length (cm)": 7.3,
           "y_pred": 6.4651173716578825
          },
          {
           "petal length (cm)": 5.8,
           "sepal length (cm)": 6.7,
           "y_pred": 5.350057584704979
          },
          {
           "petal length (cm)": 6.1,
           "sepal length (cm)": 7.2,
           "y_pred": 6.279274073832399
          },
          {
           "petal length (cm)": 5.1,
           "sepal length (cm)": 6.5,
           "y_pred": 4.97837098905401
          },
          {
           "petal length (cm)": 5.3,
           "sepal length (cm)": 6.4,
           "y_pred": 4.792527691228527
          },
          {
           "petal length (cm)": 5.5,
           "sepal length (cm)": 6.8,
           "y_pred": 5.535900882530463
          },
          {
           "petal length (cm)": 5,
           "sepal length (cm)": 5.7,
           "y_pred": 3.491624606450138
          },
          {
           "petal length (cm)": 5.1,
           "sepal length (cm)": 5.8,
           "y_pred": 3.6774679042756215
          },
          {
           "petal length (cm)": 5.3,
           "sepal length (cm)": 6.4,
           "y_pred": 4.792527691228527
          },
          {
           "petal length (cm)": 5.5,
           "sepal length (cm)": 6.5,
           "y_pred": 4.97837098905401
          },
          {
           "petal length (cm)": 6.7,
           "sepal length (cm)": 7.7,
           "y_pred": 7.208490562959819
          },
          {
           "petal length (cm)": 6.9,
           "sepal length (cm)": 7.7,
           "y_pred": 7.208490562959819
          },
          {
           "petal length (cm)": 5,
           "sepal length (cm)": 6,
           "y_pred": 4.049154499926589
          },
          {
           "petal length (cm)": 5.7,
           "sepal length (cm)": 6.9,
           "y_pred": 5.721744180355946
          },
          {
           "petal length (cm)": 4.9,
           "sepal length (cm)": 5.6,
           "y_pred": 3.3057813086246526
          },
          {
           "petal length (cm)": 6.7,
           "sepal length (cm)": 7.7,
           "y_pred": 7.208490562959819
          },
          {
           "petal length (cm)": 4.9,
           "sepal length (cm)": 6.3,
           "y_pred": 4.606684393403041
          },
          {
           "petal length (cm)": 5.7,
           "sepal length (cm)": 6.7,
           "y_pred": 5.350057584704979
          },
          {
           "petal length (cm)": 6,
           "sepal length (cm)": 7.2,
           "y_pred": 6.279274073832399
          },
          {
           "petal length (cm)": 4.8,
           "sepal length (cm)": 6.2,
           "y_pred": 4.420841095577558
          },
          {
           "petal length (cm)": 4.9,
           "sepal length (cm)": 6.1,
           "y_pred": 4.234997797752072
          },
          {
           "petal length (cm)": 5.6,
           "sepal length (cm)": 6.4,
           "y_pred": 4.792527691228527
          },
          {
           "petal length (cm)": 5.8,
           "sepal length (cm)": 7.2,
           "y_pred": 6.279274073832399
          },
          {
           "petal length (cm)": 6.1,
           "sepal length (cm)": 7.4,
           "y_pred": 6.650960669483368
          },
          {
           "petal length (cm)": 6.4,
           "sepal length (cm)": 7.9,
           "y_pred": 7.580177158610788
          },
          {
           "petal length (cm)": 5.6,
           "sepal length (cm)": 6.4,
           "y_pred": 4.792527691228527
          },
          {
           "petal length (cm)": 5.1,
           "sepal length (cm)": 6.3,
           "y_pred": 4.606684393403041
          },
          {
           "petal length (cm)": 5.6,
           "sepal length (cm)": 6.1,
           "y_pred": 4.234997797752072
          },
          {
           "petal length (cm)": 6.1,
           "sepal length (cm)": 7.7,
           "y_pred": 7.208490562959819
          },
          {
           "petal length (cm)": 5.6,
           "sepal length (cm)": 6.3,
           "y_pred": 4.606684393403041
          },
          {
           "petal length (cm)": 5.5,
           "sepal length (cm)": 6.4,
           "y_pred": 4.792527691228527
          },
          {
           "petal length (cm)": 4.8,
           "sepal length (cm)": 6,
           "y_pred": 4.049154499926589
          },
          {
           "petal length (cm)": 5.4,
           "sepal length (cm)": 6.9,
           "y_pred": 5.721744180355946
          },
          {
           "petal length (cm)": 5.6,
           "sepal length (cm)": 6.7,
           "y_pred": 5.350057584704979
          },
          {
           "petal length (cm)": 5.1,
           "sepal length (cm)": 6.9,
           "y_pred": 5.721744180355946
          },
          {
           "petal length (cm)": 5.1,
           "sepal length (cm)": 5.8,
           "y_pred": 3.6774679042756215
          },
          {
           "petal length (cm)": 5.9,
           "sepal length (cm)": 6.8,
           "y_pred": 5.535900882530463
          },
          {
           "petal length (cm)": 5.7,
           "sepal length (cm)": 6.7,
           "y_pred": 5.350057584704979
          },
          {
           "petal length (cm)": 5.2,
           "sepal length (cm)": 6.7,
           "y_pred": 5.350057584704979
          },
          {
           "petal length (cm)": 5,
           "sepal length (cm)": 6.3,
           "y_pred": 4.606684393403041
          },
          {
           "petal length (cm)": 5.2,
           "sepal length (cm)": 6.5,
           "y_pred": 4.97837098905401
          },
          {
           "petal length (cm)": 5.4,
           "sepal length (cm)": 6.2,
           "y_pred": 4.420841095577558
          },
          {
           "petal length (cm)": 5.1,
           "sepal length (cm)": 5.9,
           "y_pred": 3.863311202101107
          }
         ]
        },
        {
         "name": "data_0",
         "values": [
          {
           "petal length (cm)": 1.4,
           "sepal length (cm)": 5.1
          },
          {
           "petal length (cm)": 1.4,
           "sepal length (cm)": 4.9
          },
          {
           "petal length (cm)": 1.3,
           "sepal length (cm)": 4.7
          },
          {
           "petal length (cm)": 1.5,
           "sepal length (cm)": 4.6
          },
          {
           "petal length (cm)": 1.4,
           "sepal length (cm)": 5
          },
          {
           "petal length (cm)": 1.7,
           "sepal length (cm)": 5.4
          },
          {
           "petal length (cm)": 1.4,
           "sepal length (cm)": 4.6
          },
          {
           "petal length (cm)": 1.5,
           "sepal length (cm)": 5
          },
          {
           "petal length (cm)": 1.4,
           "sepal length (cm)": 4.4
          },
          {
           "petal length (cm)": 1.5,
           "sepal length (cm)": 4.9
          },
          {
           "petal length (cm)": 1.5,
           "sepal length (cm)": 5.4
          },
          {
           "petal length (cm)": 1.6,
           "sepal length (cm)": 4.8
          },
          {
           "petal length (cm)": 1.4,
           "sepal length (cm)": 4.8
          },
          {
           "petal length (cm)": 1.1,
           "sepal length (cm)": 4.3
          },
          {
           "petal length (cm)": 1.2,
           "sepal length (cm)": 5.8
          },
          {
           "petal length (cm)": 1.5,
           "sepal length (cm)": 5.7
          },
          {
           "petal length (cm)": 1.3,
           "sepal length (cm)": 5.4
          },
          {
           "petal length (cm)": 1.4,
           "sepal length (cm)": 5.1
          },
          {
           "petal length (cm)": 1.7,
           "sepal length (cm)": 5.7
          },
          {
           "petal length (cm)": 1.5,
           "sepal length (cm)": 5.1
          },
          {
           "petal length (cm)": 1.7,
           "sepal length (cm)": 5.4
          },
          {
           "petal length (cm)": 1.5,
           "sepal length (cm)": 5.1
          },
          {
           "petal length (cm)": 1,
           "sepal length (cm)": 4.6
          },
          {
           "petal length (cm)": 1.7,
           "sepal length (cm)": 5.1
          },
          {
           "petal length (cm)": 1.9,
           "sepal length (cm)": 4.8
          },
          {
           "petal length (cm)": 1.6,
           "sepal length (cm)": 5
          },
          {
           "petal length (cm)": 1.6,
           "sepal length (cm)": 5
          },
          {
           "petal length (cm)": 1.5,
           "sepal length (cm)": 5.2
          },
          {
           "petal length (cm)": 1.4,
           "sepal length (cm)": 5.2
          },
          {
           "petal length (cm)": 1.6,
           "sepal length (cm)": 4.7
          },
          {
           "petal length (cm)": 1.6,
           "sepal length (cm)": 4.8
          },
          {
           "petal length (cm)": 1.5,
           "sepal length (cm)": 5.4
          },
          {
           "petal length (cm)": 1.5,
           "sepal length (cm)": 5.2
          },
          {
           "petal length (cm)": 1.4,
           "sepal length (cm)": 5.5
          },
          {
           "petal length (cm)": 1.5,
           "sepal length (cm)": 4.9
          },
          {
           "petal length (cm)": 1.2,
           "sepal length (cm)": 5
          },
          {
           "petal length (cm)": 1.3,
           "sepal length (cm)": 5.5
          },
          {
           "petal length (cm)": 1.4,
           "sepal length (cm)": 4.9
          },
          {
           "petal length (cm)": 1.3,
           "sepal length (cm)": 4.4
          },
          {
           "petal length (cm)": 1.5,
           "sepal length (cm)": 5.1
          },
          {
           "petal length (cm)": 1.3,
           "sepal length (cm)": 5
          },
          {
           "petal length (cm)": 1.3,
           "sepal length (cm)": 4.5
          },
          {
           "petal length (cm)": 1.3,
           "sepal length (cm)": 4.4
          },
          {
           "petal length (cm)": 1.6,
           "sepal length (cm)": 5
          },
          {
           "petal length (cm)": 1.9,
           "sepal length (cm)": 5.1
          },
          {
           "petal length (cm)": 1.4,
           "sepal length (cm)": 4.8
          },
          {
           "petal length (cm)": 1.6,
           "sepal length (cm)": 5.1
          },
          {
           "petal length (cm)": 1.4,
           "sepal length (cm)": 4.6
          },
          {
           "petal length (cm)": 1.5,
           "sepal length (cm)": 5.3
          },
          {
           "petal length (cm)": 1.4,
           "sepal length (cm)": 5
          },
          {
           "petal length (cm)": 4.7,
           "sepal length (cm)": 7
          },
          {
           "petal length (cm)": 4.5,
           "sepal length (cm)": 6.4
          },
          {
           "petal length (cm)": 4.9,
           "sepal length (cm)": 6.9
          },
          {
           "petal length (cm)": 4,
           "sepal length (cm)": 5.5
          },
          {
           "petal length (cm)": 4.6,
           "sepal length (cm)": 6.5
          },
          {
           "petal length (cm)": 4.5,
           "sepal length (cm)": 5.7
          },
          {
           "petal length (cm)": 4.7,
           "sepal length (cm)": 6.3
          },
          {
           "petal length (cm)": 3.3,
           "sepal length (cm)": 4.9
          },
          {
           "petal length (cm)": 4.6,
           "sepal length (cm)": 6.6
          },
          {
           "petal length (cm)": 3.9,
           "sepal length (cm)": 5.2
          },
          {
           "petal length (cm)": 3.5,
           "sepal length (cm)": 5
          },
          {
           "petal length (cm)": 4.2,
           "sepal length (cm)": 5.9
          },
          {
           "petal length (cm)": 4,
           "sepal length (cm)": 6
          },
          {
           "petal length (cm)": 4.7,
           "sepal length (cm)": 6.1
          },
          {
           "petal length (cm)": 3.6,
           "sepal length (cm)": 5.6
          },
          {
           "petal length (cm)": 4.4,
           "sepal length (cm)": 6.7
          },
          {
           "petal length (cm)": 4.5,
           "sepal length (cm)": 5.6
          },
          {
           "petal length (cm)": 4.1,
           "sepal length (cm)": 5.8
          },
          {
           "petal length (cm)": 4.5,
           "sepal length (cm)": 6.2
          },
          {
           "petal length (cm)": 3.9,
           "sepal length (cm)": 5.6
          },
          {
           "petal length (cm)": 4.8,
           "sepal length (cm)": 5.9
          },
          {
           "petal length (cm)": 4,
           "sepal length (cm)": 6.1
          },
          {
           "petal length (cm)": 4.9,
           "sepal length (cm)": 6.3
          },
          {
           "petal length (cm)": 4.7,
           "sepal length (cm)": 6.1
          },
          {
           "petal length (cm)": 4.3,
           "sepal length (cm)": 6.4
          },
          {
           "petal length (cm)": 4.4,
           "sepal length (cm)": 6.6
          },
          {
           "petal length (cm)": 4.8,
           "sepal length (cm)": 6.8
          },
          {
           "petal length (cm)": 5,
           "sepal length (cm)": 6.7
          },
          {
           "petal length (cm)": 4.5,
           "sepal length (cm)": 6
          },
          {
           "petal length (cm)": 3.5,
           "sepal length (cm)": 5.7
          },
          {
           "petal length (cm)": 3.8,
           "sepal length (cm)": 5.5
          },
          {
           "petal length (cm)": 3.7,
           "sepal length (cm)": 5.5
          },
          {
           "petal length (cm)": 3.9,
           "sepal length (cm)": 5.8
          },
          {
           "petal length (cm)": 5.1,
           "sepal length (cm)": 6
          },
          {
           "petal length (cm)": 4.5,
           "sepal length (cm)": 5.4
          },
          {
           "petal length (cm)": 4.5,
           "sepal length (cm)": 6
          },
          {
           "petal length (cm)": 4.7,
           "sepal length (cm)": 6.7
          },
          {
           "petal length (cm)": 4.4,
           "sepal length (cm)": 6.3
          },
          {
           "petal length (cm)": 4.1,
           "sepal length (cm)": 5.6
          },
          {
           "petal length (cm)": 4,
           "sepal length (cm)": 5.5
          },
          {
           "petal length (cm)": 4.4,
           "sepal length (cm)": 5.5
          },
          {
           "petal length (cm)": 4.6,
           "sepal length (cm)": 6.1
          },
          {
           "petal length (cm)": 4,
           "sepal length (cm)": 5.8
          },
          {
           "petal length (cm)": 3.3,
           "sepal length (cm)": 5
          },
          {
           "petal length (cm)": 4.2,
           "sepal length (cm)": 5.6
          },
          {
           "petal length (cm)": 4.2,
           "sepal length (cm)": 5.7
          },
          {
           "petal length (cm)": 4.2,
           "sepal length (cm)": 5.7
          },
          {
           "petal length (cm)": 4.3,
           "sepal length (cm)": 6.2
          },
          {
           "petal length (cm)": 3,
           "sepal length (cm)": 5.1
          },
          {
           "petal length (cm)": 4.1,
           "sepal length (cm)": 5.7
          },
          {
           "petal length (cm)": 6,
           "sepal length (cm)": 6.3
          },
          {
           "petal length (cm)": 5.1,
           "sepal length (cm)": 5.8
          },
          {
           "petal length (cm)": 5.9,
           "sepal length (cm)": 7.1
          },
          {
           "petal length (cm)": 5.6,
           "sepal length (cm)": 6.3
          },
          {
           "petal length (cm)": 5.8,
           "sepal length (cm)": 6.5
          },
          {
           "petal length (cm)": 6.6,
           "sepal length (cm)": 7.6
          },
          {
           "petal length (cm)": 4.5,
           "sepal length (cm)": 4.9
          },
          {
           "petal length (cm)": 6.3,
           "sepal length (cm)": 7.3
          },
          {
           "petal length (cm)": 5.8,
           "sepal length (cm)": 6.7
          },
          {
           "petal length (cm)": 6.1,
           "sepal length (cm)": 7.2
          },
          {
           "petal length (cm)": 5.1,
           "sepal length (cm)": 6.5
          },
          {
           "petal length (cm)": 5.3,
           "sepal length (cm)": 6.4
          },
          {
           "petal length (cm)": 5.5,
           "sepal length (cm)": 6.8
          },
          {
           "petal length (cm)": 5,
           "sepal length (cm)": 5.7
          },
          {
           "petal length (cm)": 5.1,
           "sepal length (cm)": 5.8
          },
          {
           "petal length (cm)": 5.3,
           "sepal length (cm)": 6.4
          },
          {
           "petal length (cm)": 5.5,
           "sepal length (cm)": 6.5
          },
          {
           "petal length (cm)": 6.7,
           "sepal length (cm)": 7.7
          },
          {
           "petal length (cm)": 6.9,
           "sepal length (cm)": 7.7
          },
          {
           "petal length (cm)": 5,
           "sepal length (cm)": 6
          },
          {
           "petal length (cm)": 5.7,
           "sepal length (cm)": 6.9
          },
          {
           "petal length (cm)": 4.9,
           "sepal length (cm)": 5.6
          },
          {
           "petal length (cm)": 6.7,
           "sepal length (cm)": 7.7
          },
          {
           "petal length (cm)": 4.9,
           "sepal length (cm)": 6.3
          },
          {
           "petal length (cm)": 5.7,
           "sepal length (cm)": 6.7
          },
          {
           "petal length (cm)": 6,
           "sepal length (cm)": 7.2
          },
          {
           "petal length (cm)": 4.8,
           "sepal length (cm)": 6.2
          },
          {
           "petal length (cm)": 4.9,
           "sepal length (cm)": 6.1
          },
          {
           "petal length (cm)": 5.6,
           "sepal length (cm)": 6.4
          },
          {
           "petal length (cm)": 5.8,
           "sepal length (cm)": 7.2
          },
          {
           "petal length (cm)": 6.1,
           "sepal length (cm)": 7.4
          },
          {
           "petal length (cm)": 6.4,
           "sepal length (cm)": 7.9
          },
          {
           "petal length (cm)": 5.6,
           "sepal length (cm)": 6.4
          },
          {
           "petal length (cm)": 5.1,
           "sepal length (cm)": 6.3
          },
          {
           "petal length (cm)": 5.6,
           "sepal length (cm)": 6.1
          },
          {
           "petal length (cm)": 6.1,
           "sepal length (cm)": 7.7
          },
          {
           "petal length (cm)": 5.6,
           "sepal length (cm)": 6.3
          },
          {
           "petal length (cm)": 5.5,
           "sepal length (cm)": 6.4
          },
          {
           "petal length (cm)": 4.8,
           "sepal length (cm)": 6
          },
          {
           "petal length (cm)": 5.4,
           "sepal length (cm)": 6.9
          },
          {
           "petal length (cm)": 5.6,
           "sepal length (cm)": 6.7
          },
          {
           "petal length (cm)": 5.1,
           "sepal length (cm)": 6.9
          },
          {
           "petal length (cm)": 5.1,
           "sepal length (cm)": 5.8
          },
          {
           "petal length (cm)": 5.9,
           "sepal length (cm)": 6.8
          },
          {
           "petal length (cm)": 5.7,
           "sepal length (cm)": 6.7
          },
          {
           "petal length (cm)": 5.2,
           "sepal length (cm)": 6.7
          },
          {
           "petal length (cm)": 5,
           "sepal length (cm)": 6.3
          },
          {
           "petal length (cm)": 5.2,
           "sepal length (cm)": 6.5
          },
          {
           "petal length (cm)": 5.4,
           "sepal length (cm)": 6.2
          },
          {
           "petal length (cm)": 5.1,
           "sepal length (cm)": 5.9
          }
         ]
        }
       ],
       "height": 300,
       "marks": [
        {
         "clip": true,
         "encode": {
          "update": {
           "fill": {
            "value": "transparent"
           },
           "opacity": {
            "value": 0.7
           },
           "stroke": {
            "value": "#4c78a8"
           },
           "x": {
            "field": "sepal length (cm)",
            "scale": "x"
           },
           "y": {
            "field": "petal length (cm)",
            "scale": "y"
           }
          }
         },
         "from": {
          "data": "data_0"
         },
         "interactive": true,
         "name": "view_2_marks",
         "style": [
          "point"
         ],
         "type": "symbol"
        },
        {
         "clip": true,
         "encode": {
          "update": {
           "defined": {
            "signal": "isValid(datum[\"sepal length (cm)\"]) && isFinite(+datum[\"sepal length (cm)\"]) && isValid(datum[\"y_pred\"]) && isFinite(+datum[\"y_pred\"])"
           },
           "stroke": {
            "value": "#4c78a8"
           },
           "x": {
            "field": "sepal length (cm)",
            "scale": "x"
           },
           "y": {
            "field": "y_pred",
            "scale": "y"
           }
          }
         },
         "from": {
          "data": "source_0"
         },
         "interactive": false,
         "name": "layer_1_marks",
         "sort": {
          "field": "x"
         },
         "style": [
          "line"
         ],
         "type": "line"
        }
       ],
       "padding": 5,
       "scales": [
        {
         "domain": {
          "fields": [
           {
            "data": "data_0",
            "field": "sepal length (cm)"
           },
           {
            "data": "source_0",
            "field": "sepal length (cm)"
           }
          ]
         },
         "domainRaw": {
          "signal": "param_2[\"sepal length (cm)\"]"
         },
         "name": "x",
         "nice": true,
         "range": [
          0,
          {
           "signal": "width"
          }
         ],
         "type": "linear",
         "zero": false
        },
        {
         "domain": {
          "fields": [
           {
            "data": "data_0",
            "field": "petal length (cm)"
           },
           {
            "data": "source_0",
            "field": "y_pred"
           }
          ]
         },
         "domainRaw": {
          "signal": "param_2[\"petal length (cm)\"]"
         },
         "name": "y",
         "nice": true,
         "range": [
          {
           "signal": "height"
          },
          0
         ],
         "type": "linear",
         "zero": true
        }
       ],
       "signals": [
        {
         "name": "unit",
         "on": [
          {
           "events": "pointermove",
           "update": "isTuple(group()) ? group() : unit"
          }
         ],
         "value": {}
        },
        {
         "name": "param_2",
         "update": "vlSelectionResolve(\"param_2_store\", \"union\")"
        },
        {
         "name": "param_2_sepal_length__cm_",
         "on": [
          {
           "events": [
            {
             "source": "view",
             "type": "dblclick"
            }
           ],
           "update": "null"
          },
          {
           "events": {
            "signal": "param_2_translate_delta"
           },
           "update": "panLinear(param_2_translate_anchor.extent_x, -param_2_translate_delta.x / width)"
          },
          {
           "events": {
            "signal": "param_2_zoom_delta"
           },
           "update": "zoomLinear(domain(\"x\"), param_2_zoom_anchor.x, param_2_zoom_delta)"
          }
         ]
        },
        {
         "name": "param_2_petal_length__cm_",
         "on": [
          {
           "events": [
            {
             "source": "view",
             "type": "dblclick"
            }
           ],
           "update": "null"
          },
          {
           "events": {
            "signal": "param_2_translate_delta"
           },
           "update": "panLinear(param_2_translate_anchor.extent_y, param_2_translate_delta.y / height)"
          },
          {
           "events": {
            "signal": "param_2_zoom_delta"
           },
           "update": "zoomLinear(domain(\"y\"), param_2_zoom_anchor.y, param_2_zoom_delta)"
          }
         ]
        },
        {
         "name": "param_2_tuple",
         "on": [
          {
           "events": [
            {
             "signal": "param_2_sepal_length__cm_ || param_2_petal_length__cm_"
            }
           ],
           "update": "param_2_sepal_length__cm_ && param_2_petal_length__cm_ ? {unit: \"view_2\", fields: param_2_tuple_fields, values: [param_2_sepal_length__cm_,param_2_petal_length__cm_]} : null"
          }
         ]
        },
        {
         "name": "param_2_tuple_fields",
         "value": [
          {
           "channel": "x",
           "field": "sepal length (cm)",
           "type": "R"
          },
          {
           "channel": "y",
           "field": "petal length (cm)",
           "type": "R"
          }
         ]
        },
        {
         "name": "param_2_translate_anchor",
         "on": [
          {
           "events": [
            {
             "source": "scope",
             "type": "pointerdown"
            }
           ],
           "update": "{x: x(unit), y: y(unit), extent_x: domain(\"x\"), extent_y: domain(\"y\")}"
          }
         ],
         "value": {}
        },
        {
         "name": "param_2_translate_delta",
         "on": [
          {
           "events": [
            {
             "between": [
              {
               "source": "scope",
               "type": "pointerdown"
              },
              {
               "source": "window",
               "type": "pointerup"
              }
             ],
             "consume": true,
             "source": "window",
             "type": "pointermove"
            }
           ],
           "update": "{x: param_2_translate_anchor.x - x(unit), y: param_2_translate_anchor.y - y(unit)}"
          }
         ],
         "value": {}
        },
        {
         "name": "param_2_zoom_anchor",
         "on": [
          {
           "events": [
            {
             "consume": true,
             "source": "scope",
             "type": "wheel"
            }
           ],
           "update": "{x: invert(\"x\", x(unit)), y: invert(\"y\", y(unit))}"
          }
         ]
        },
        {
         "name": "param_2_zoom_delta",
         "on": [
          {
           "events": [
            {
             "consume": true,
             "source": "scope",
             "type": "wheel"
            }
           ],
           "force": true,
           "update": "pow(1.001, event.deltaY * pow(16, event.deltaMode))"
          }
         ]
        },
        {
         "name": "param_2_modify",
         "on": [
          {
           "events": {
            "signal": "param_2_tuple"
           },
           "update": "modify(\"param_2_store\", param_2_tuple, true)"
          }
         ]
        }
       ],
       "style": "cell",
       "title": {
        "frame": "group",
        "text": "Linear Regression Chart"
       },
       "width": 300
      },
      "text/plain": [
       "<VegaLite 5 object>\n",
       "\n",
       "If you see this message, it means the renderer has not been properly enabled\n",
       "for the frontend that you are using. For more information, see\n",
       "https://altair-viz.github.io/user_guide/display_frontends.html#troubleshooting\n"
      ]
     },
     "execution_count": 31,
     "metadata": {},
     "output_type": "execute_result"
    }
   ],
   "source": [
    "# Just for fun, let's see if there is any linear relationship between sepal length and petal length\n",
    "plot = pp.plot_lin_reg(\n",
    "    df,\n",
    "    x = \"sepal length (cm)\", \n",
    "    target = \"petal length (cm)\", \n",
    "    add_bias=True,\n",
    "    show_lin_reg_eq=True # Prints out the linear regression result at the end\n",
    ").properties(\n",
    "    title = \"Linear Regression Chart\"\n",
    ")\n",
    "plot.interactive()\n"
   ]
  },
  {
   "cell_type": "code",
   "execution_count": 32,
   "metadata": {},
   "outputs": [],
   "source": [
    "df = pl.DataFrame({\n",
    "    \"actual\": [0, 0, 1, 1, 1, 0, 0, 1, 0, 1, 1, 0],\n",
    "    \"pred\": [0.1, 0.4, 0.35, 0.8, 0.6, 0.23, 0.4, 0.23, 0.1, 0.9, 0.5, 0.56],\n",
    "    \"pred2\": [0.1, 0.3, 0.2, 0.9, 0.55, 0.25, 0.23, 0.66, 0.78, 0.21, 0.4, 0.98]\n",
    "}).with_columns(\n",
    "    pred3 = 1 - pl.col(\"pred2\")\n",
    ")"
   ]
  },
  {
   "cell_type": "code",
   "execution_count": 33,
   "metadata": {},
   "outputs": [
    {
     "data": {
      "application/vnd.vega.v5+json": {
       "$schema": "https://vega.github.io/schema/vega/v5.json",
       "axes": [
        {
         "aria": false,
         "domain": false,
         "grid": true,
         "gridScale": "y",
         "labels": false,
         "maxExtent": 0,
         "minExtent": 0,
         "orient": "bottom",
         "scale": "x",
         "tickCount": {
          "signal": "ceil(width/40)"
         },
         "ticks": false,
         "zindex": 0
        },
        {
         "aria": false,
         "domain": false,
         "grid": true,
         "gridScale": "x",
         "labels": false,
         "maxExtent": 0,
         "minExtent": 0,
         "orient": "left",
         "scale": "y",
         "tickCount": {
          "signal": "ceil(height/40)"
         },
         "ticks": false,
         "zindex": 0
        },
        {
         "grid": false,
         "labelFlush": true,
         "labelOverlap": true,
         "orient": "bottom",
         "scale": "x",
         "tickCount": {
          "signal": "ceil(width/40)"
         },
         "title": "False Positive Rate",
         "zindex": 0
        },
        {
         "grid": false,
         "labelOverlap": true,
         "orient": "left",
         "scale": "y",
         "tickCount": {
          "signal": "ceil(height/40)"
         },
         "title": "True Positive Rate",
         "zindex": 0
        }
       ],
       "background": "white",
       "data": [
        {
         "name": "source_0",
         "values": [
          {
           "fpr": 0,
           "tpr": 0
          },
          {
           "fpr": 0,
           "tpr": 0.16666666666666666
          },
          {
           "fpr": 0,
           "tpr": 0.3333333333333333
          },
          {
           "fpr": 0,
           "tpr": 0.5
          },
          {
           "fpr": 0.16666666666666666,
           "tpr": 0.5
          },
          {
           "fpr": 0.16666666666666666,
           "tpr": 0.6666666666666666
          },
          {
           "fpr": 0.5,
           "tpr": 0.6666666666666666
          },
          {
           "fpr": 0.5,
           "tpr": 0.8333333333333333
          },
          {
           "fpr": 0.6666666666666666,
           "tpr": 1
          },
          {
           "fpr": 1,
           "tpr": 1
          }
         ]
        },
        {
         "name": "data_0",
         "values": [
          {
           "max_fpr": 1,
           "max_tpr": 1,
           "min_fpr": 0,
           "min_tpr": 0
          }
         ]
        },
        {
         "name": "source_1",
         "values": [
          {
           "x": 0.97,
           "y": 0.03
          }
         ]
        }
       ],
       "height": 300,
       "marks": [
        {
         "encode": {
          "update": {
           "stroke": {
            "value": "black"
           },
           "strokeDash": {
            "value": [
             4,
             4
            ]
           },
           "x": {
            "field": "min_fpr",
            "scale": "x"
           },
           "x2": {
            "field": "max_fpr",
            "scale": "x"
           },
           "y": {
            "field": "min_tpr",
            "scale": "y"
           },
           "y2": {
            "field": "max_tpr",
            "scale": "y"
           }
          }
         },
         "from": {
          "data": "data_0"
         },
         "name": "layer_0_marks",
         "style": [
          "rule"
         ],
         "type": "rule"
        },
        {
         "encode": {
          "update": {
           "defined": {
            "signal": "isValid(datum[\"fpr\"]) && isFinite(+datum[\"fpr\"]) && isValid(datum[\"tpr\"]) && isFinite(+datum[\"tpr\"])"
           },
           "interpolate": {
            "value": "step"
           },
           "stroke": {
            "value": "#fc0335"
           },
           "x": {
            "field": "fpr",
            "scale": "x"
           },
           "y": {
            "field": "tpr",
            "scale": "y"
           }
          }
         },
         "from": {
          "data": "source_0"
         },
         "name": "layer_1_marks",
         "sort": {
          "field": "x"
         },
         "style": [
          "line"
         ],
         "type": "line"
        },
        {
         "encode": {
          "update": {
           "align": {
            "value": "right"
           },
           "baseline": {
            "value": "middle"
           },
           "dy": {
            "value": 0
           },
           "fill": {
            "value": "black"
           },
           "fontWeight": {
            "value": "bold"
           },
           "text": {
            "value": "My Model (AUC = 0.7917)"
           },
           "x": {
            "field": "x",
            "scale": "x"
           },
           "y": {
            "field": "y",
            "scale": "y"
           }
          }
         },
         "from": {
          "data": "source_1"
         },
         "name": "layer_2_marks",
         "style": [
          "text"
         ],
         "type": "text"
        }
       ],
       "padding": 5,
       "scales": [
        {
         "domain": {
          "fields": [
           {
            "data": "data_0",
            "field": "min_fpr"
           },
           {
            "data": "data_0",
            "field": "max_fpr"
           },
           {
            "data": "source_0",
            "field": "fpr"
           },
           {
            "data": "source_1",
            "field": "x"
           }
          ]
         },
         "name": "x",
         "nice": true,
         "range": [
          0,
          {
           "signal": "width"
          }
         ],
         "type": "linear",
         "zero": true
        },
        {
         "domain": {
          "fields": [
           {
            "data": "data_0",
            "field": "min_tpr"
           },
           {
            "data": "data_0",
            "field": "max_tpr"
           },
           {
            "data": "source_0",
            "field": "tpr"
           },
           {
            "data": "source_1",
            "field": "y"
           }
          ]
         },
         "name": "y",
         "nice": true,
         "range": [
          {
           "signal": "height"
          },
          0
         ],
         "type": "linear",
         "zero": true
        }
       ],
       "style": "cell",
       "width": 300
      },
      "text/plain": [
       "<VegaLite 5 object>\n",
       "\n",
       "If you see this message, it means the renderer has not been properly enabled\n",
       "for the frontend that you are using. For more information, see\n",
       "https://altair-viz.github.io/user_guide/display_frontends.html#troubleshooting\n"
      ]
     },
     "execution_count": 33,
     "metadata": {},
     "output_type": "execute_result"
    }
   ],
   "source": [
    "pp.plot_roc_auc(\n",
    "    df = df, \n",
    "    actual = \"actual\",\n",
    "    pred = \"pred\",\n",
    "    estimator_name = \"My Model\",\n",
    "    color = \"#fc0335\",\n",
    ")"
   ]
  },
  {
   "cell_type": "code",
   "execution_count": 34,
   "metadata": {},
   "outputs": [
    {
     "data": {
      "application/vnd.vega.v5+json": {
       "$schema": "https://vega.github.io/schema/vega/v5.json",
       "axes": [
        {
         "aria": false,
         "domain": false,
         "grid": true,
         "gridScale": "y",
         "labels": false,
         "maxExtent": 0,
         "minExtent": 0,
         "orient": "bottom",
         "scale": "x",
         "tickCount": {
          "signal": "ceil(width/40)"
         },
         "ticks": false,
         "zindex": 0
        },
        {
         "aria": false,
         "domain": false,
         "grid": true,
         "gridScale": "x",
         "labels": false,
         "maxExtent": 0,
         "minExtent": 0,
         "orient": "left",
         "scale": "y",
         "tickCount": {
          "signal": "ceil(height/40)"
         },
         "ticks": false,
         "zindex": 0
        },
        {
         "grid": false,
         "labelFlush": true,
         "labelOverlap": true,
         "orient": "bottom",
         "scale": "x",
         "tickCount": {
          "signal": "ceil(width/40)"
         },
         "title": "False Positive Rate",
         "zindex": 0
        },
        {
         "grid": false,
         "labelOverlap": true,
         "orient": "left",
         "scale": "y",
         "tickCount": {
          "signal": "ceil(height/40)"
         },
         "title": "True Positive Rate",
         "zindex": 0
        }
       ],
       "background": "white",
       "data": [
        {
         "name": "source_0",
         "values": [
          {
           "fpr": 0,
           "tpr": 0
          },
          {
           "fpr": 0,
           "tpr": 0.16666666666666666
          },
          {
           "fpr": 0,
           "tpr": 0.3333333333333333
          },
          {
           "fpr": 0,
           "tpr": 0.5
          },
          {
           "fpr": 0.16666666666666666,
           "tpr": 0.5
          },
          {
           "fpr": 0.16666666666666666,
           "tpr": 0.6666666666666666
          },
          {
           "fpr": 0.5,
           "tpr": 0.6666666666666666
          },
          {
           "fpr": 0.5,
           "tpr": 0.8333333333333333
          },
          {
           "fpr": 0.6666666666666666,
           "tpr": 1
          },
          {
           "fpr": 1,
           "tpr": 1
          }
         ]
        },
        {
         "name": "source_2",
         "values": [
          {
           "fpr": 0,
           "tpr": 0
          },
          {
           "fpr": 0.16666666666666666,
           "tpr": 0
          },
          {
           "fpr": 0.16666666666666666,
           "tpr": 0.16666666666666666
          },
          {
           "fpr": 0.3333333333333333,
           "tpr": 0.16666666666666666
          },
          {
           "fpr": 0.3333333333333333,
           "tpr": 0.3333333333333333
          },
          {
           "fpr": 0.3333333333333333,
           "tpr": 0.5
          },
          {
           "fpr": 0.3333333333333333,
           "tpr": 0.6666666666666666
          },
          {
           "fpr": 0.5,
           "tpr": 0.6666666666666666
          },
          {
           "fpr": 0.6666666666666666,
           "tpr": 0.6666666666666666
          },
          {
           "fpr": 0.8333333333333333,
           "tpr": 0.6666666666666666
          },
          {
           "fpr": 0.8333333333333333,
           "tpr": 0.8333333333333333
          },
          {
           "fpr": 0.8333333333333333,
           "tpr": 1
          },
          {
           "fpr": 1,
           "tpr": 1
          }
         ]
        },
        {
         "name": "source_4",
         "values": [
          {
           "fpr": 0,
           "tpr": 0
          },
          {
           "fpr": 0.16666666666666666,
           "tpr": 0
          },
          {
           "fpr": 0.16666666666666666,
           "tpr": 0.16666666666666666
          },
          {
           "fpr": 0.16666666666666666,
           "tpr": 0.3333333333333333
          },
          {
           "fpr": 0.3333333333333333,
           "tpr": 0.3333333333333333
          },
          {
           "fpr": 0.5,
           "tpr": 0.3333333333333333
          },
          {
           "fpr": 0.6666666666666666,
           "tpr": 0.3333333333333333
          },
          {
           "fpr": 0.6666666666666666,
           "tpr": 0.5
          },
          {
           "fpr": 0.6666666666666666,
           "tpr": 0.6666666666666666
          },
          {
           "fpr": 0.6666666666666666,
           "tpr": 0.8333333333333333
          },
          {
           "fpr": 0.8333333333333333,
           "tpr": 0.8333333333333333
          },
          {
           "fpr": 0.8333333333333333,
           "tpr": 1
          },
          {
           "fpr": 1,
           "tpr": 1
          }
         ]
        },
        {
         "name": "data_0",
         "values": [
          {
           "max_fpr": 1,
           "max_tpr": 1,
           "min_fpr": 0,
           "min_tpr": 0
          }
         ]
        },
        {
         "name": "source_1",
         "values": [
          {
           "x": 0.97,
           "y": 0.03
          }
         ]
        },
        {
         "name": "data_1",
         "values": [
          {
           "max_fpr": 1,
           "max_tpr": 1,
           "min_fpr": 0,
           "min_tpr": 0
          }
         ]
        },
        {
         "name": "source_3",
         "values": [
          {
           "x": 0.97,
           "y": 0.03
          }
         ]
        },
        {
         "name": "data_2",
         "values": [
          {
           "max_fpr": 1,
           "max_tpr": 1,
           "min_fpr": 0,
           "min_tpr": 0
          }
         ]
        },
        {
         "name": "source_5",
         "values": [
          {
           "x": 0.97,
           "y": 0.03
          }
         ]
        }
       ],
       "height": 300,
       "marks": [
        {
         "encode": {
          "update": {
           "stroke": {
            "value": "black"
           },
           "strokeDash": {
            "value": [
             4,
             4
            ]
           },
           "x": {
            "field": "min_fpr",
            "scale": "x"
           },
           "x2": {
            "field": "max_fpr",
            "scale": "x"
           },
           "y": {
            "field": "min_tpr",
            "scale": "y"
           },
           "y2": {
            "field": "max_tpr",
            "scale": "y"
           }
          }
         },
         "from": {
          "data": "data_0"
         },
         "name": "layer_0_marks",
         "style": [
          "rule"
         ],
         "type": "rule"
        },
        {
         "encode": {
          "update": {
           "defined": {
            "signal": "isValid(datum[\"fpr\"]) && isFinite(+datum[\"fpr\"]) && isValid(datum[\"tpr\"]) && isFinite(+datum[\"tpr\"])"
           },
           "interpolate": {
            "value": "step"
           },
           "opacity": {
            "value": 0.5
           },
           "stroke": {
            "value": "#fc0335"
           },
           "x": {
            "field": "fpr",
            "scale": "x"
           },
           "y": {
            "field": "tpr",
            "scale": "y"
           }
          }
         },
         "from": {
          "data": "source_0"
         },
         "name": "layer_1_marks",
         "sort": {
          "field": "x"
         },
         "style": [
          "line"
         ],
         "type": "line"
        },
        {
         "encode": {
          "update": {
           "align": {
            "value": "right"
           },
           "baseline": {
            "value": "middle"
           },
           "dy": {
            "value": 0
           },
           "fill": {
            "value": "#fc0335"
           },
           "fontWeight": {
            "value": "bold"
           },
           "text": {
            "value": "My Model (AUC = 0.7917)"
           },
           "x": {
            "field": "x",
            "scale": "x"
           },
           "y": {
            "field": "y",
            "scale": "y"
           }
          }
         },
         "from": {
          "data": "source_1"
         },
         "name": "layer_2_marks",
         "style": [
          "text"
         ],
         "type": "text"
        },
        {
         "encode": {
          "update": {
           "stroke": {
            "value": "black"
           },
           "strokeDash": {
            "value": [
             4,
             4
            ]
           },
           "x": {
            "field": "min_fpr",
            "scale": "x"
           },
           "x2": {
            "field": "max_fpr",
            "scale": "x"
           },
           "y": {
            "field": "min_tpr",
            "scale": "y"
           },
           "y2": {
            "field": "max_tpr",
            "scale": "y"
           }
          }
         },
         "from": {
          "data": "data_1"
         },
         "name": "layer_3_layer_0_marks",
         "style": [
          "rule"
         ],
         "type": "rule"
        },
        {
         "encode": {
          "update": {
           "defined": {
            "signal": "isValid(datum[\"fpr\"]) && isFinite(+datum[\"fpr\"]) && isValid(datum[\"tpr\"]) && isFinite(+datum[\"tpr\"])"
           },
           "interpolate": {
            "value": "step"
           },
           "opacity": {
            "value": 0.5
           },
           "stroke": {
            "value": "#0db81b"
           },
           "x": {
            "field": "fpr",
            "scale": "x"
           },
           "y": {
            "field": "tpr",
            "scale": "y"
           }
          }
         },
         "from": {
          "data": "source_2"
         },
         "name": "layer_3_layer_1_marks",
         "sort": {
          "field": "x"
         },
         "style": [
          "line"
         ],
         "type": "line"
        },
        {
         "encode": {
          "update": {
           "align": {
            "value": "right"
           },
           "baseline": {
            "value": "middle"
           },
           "dy": {
            "value": -15
           },
           "fill": {
            "value": "#0db81b"
           },
           "fontWeight": {
            "value": "bold"
           },
           "text": {
            "value": "My Model2 (AUC = 0.5278)"
           },
           "x": {
            "field": "x",
            "scale": "x"
           },
           "y": {
            "field": "y",
            "scale": "y"
           }
          }
         },
         "from": {
          "data": "source_3"
         },
         "name": "layer_3_layer_2_marks",
         "style": [
          "text"
         ],
         "type": "text"
        },
        {
         "encode": {
          "update": {
           "stroke": {
            "value": "black"
           },
           "strokeDash": {
            "value": [
             4,
             4
            ]
           },
           "x": {
            "field": "min_fpr",
            "scale": "x"
           },
           "x2": {
            "field": "max_fpr",
            "scale": "x"
           },
           "y": {
            "field": "min_tpr",
            "scale": "y"
           },
           "y2": {
            "field": "max_tpr",
            "scale": "y"
           }
          }
         },
         "from": {
          "data": "data_2"
         },
         "name": "layer_4_layer_0_marks",
         "style": [
          "rule"
         ],
         "type": "rule"
        },
        {
         "encode": {
          "update": {
           "defined": {
            "signal": "isValid(datum[\"fpr\"]) && isFinite(+datum[\"fpr\"]) && isValid(datum[\"tpr\"]) && isFinite(+datum[\"tpr\"])"
           },
           "interpolate": {
            "value": "step"
           },
           "opacity": {
            "value": 0.5
           },
           "stroke": {
            "value": "#9e337a"
           },
           "x": {
            "field": "fpr",
            "scale": "x"
           },
           "y": {
            "field": "tpr",
            "scale": "y"
           }
          }
         },
         "from": {
          "data": "source_4"
         },
         "name": "layer_4_layer_1_marks",
         "sort": {
          "field": "x"
         },
         "style": [
          "line"
         ],
         "type": "line"
        },
        {
         "encode": {
          "update": {
           "align": {
            "value": "right"
           },
           "baseline": {
            "value": "middle"
           },
           "dy": {
            "value": -30
           },
           "fill": {
            "value": "#9e337a"
           },
           "fontWeight": {
            "value": "bold"
           },
           "text": {
            "value": "My Model3 (AUC = 0.4722)"
           },
           "x": {
            "field": "x",
            "scale": "x"
           },
           "y": {
            "field": "y",
            "scale": "y"
           }
          }
         },
         "from": {
          "data": "source_5"
         },
         "name": "layer_4_layer_2_marks",
         "style": [
          "text"
         ],
         "type": "text"
        }
       ],
       "padding": 5,
       "scales": [
        {
         "domain": {
          "fields": [
           {
            "data": "data_0",
            "field": "min_fpr"
           },
           {
            "data": "data_0",
            "field": "max_fpr"
           },
           {
            "data": "source_0",
            "field": "fpr"
           },
           {
            "data": "source_1",
            "field": "x"
           },
           {
            "data": "data_1",
            "field": "min_fpr"
           },
           {
            "data": "data_1",
            "field": "max_fpr"
           },
           {
            "data": "source_2",
            "field": "fpr"
           },
           {
            "data": "source_3",
            "field": "x"
           },
           {
            "data": "data_2",
            "field": "min_fpr"
           },
           {
            "data": "data_2",
            "field": "max_fpr"
           },
           {
            "data": "source_4",
            "field": "fpr"
           },
           {
            "data": "source_5",
            "field": "x"
           }
          ]
         },
         "name": "x",
         "nice": true,
         "range": [
          0,
          {
           "signal": "width"
          }
         ],
         "type": "linear",
         "zero": true
        },
        {
         "domain": {
          "fields": [
           {
            "data": "data_0",
            "field": "min_tpr"
           },
           {
            "data": "data_0",
            "field": "max_tpr"
           },
           {
            "data": "source_0",
            "field": "tpr"
           },
           {
            "data": "source_1",
            "field": "y"
           },
           {
            "data": "data_1",
            "field": "min_tpr"
           },
           {
            "data": "data_1",
            "field": "max_tpr"
           },
           {
            "data": "source_2",
            "field": "tpr"
           },
           {
            "data": "source_3",
            "field": "y"
           },
           {
            "data": "data_2",
            "field": "min_tpr"
           },
           {
            "data": "data_2",
            "field": "max_tpr"
           },
           {
            "data": "source_4",
            "field": "tpr"
           },
           {
            "data": "source_5",
            "field": "y"
           }
          ]
         },
         "name": "y",
         "nice": true,
         "range": [
          {
           "signal": "height"
          },
          0
         ],
         "type": "linear",
         "zero": true
        }
       ],
       "style": "cell",
       "title": {
        "frame": "group",
        "text": "ROC AUC Comparison"
       },
       "width": 300
      },
      "text/plain": [
       "<VegaLite 5 object>\n",
       "\n",
       "If you see this message, it means the renderer has not been properly enabled\n",
       "for the frontend that you are using. For more information, see\n",
       "https://altair-viz.github.io/user_guide/display_frontends.html#troubleshooting\n"
      ]
     },
     "execution_count": 34,
     "metadata": {},
     "output_type": "execute_result"
    }
   ],
   "source": [
    "# You may combine multiple ROC AUC plots like this\n",
    "# This magic works because this is an Altair plot\n",
    "combined = pp.plot_roc_auc(\n",
    "    df = df, \n",
    "    actual = \"actual\",\n",
    "    pred = \"pred\",\n",
    "    n_decimals = 4,\n",
    "    estimator_name = \"My Model\",\n",
    "    color = \"#fc0335\",\n",
    "    text_color = \"#fc0335\",\n",
    "    opacity = 0.5\n",
    ") + pp.plot_roc_auc(\n",
    "    df = df, \n",
    "    actual = \"actual\",\n",
    "    pred = \"pred2\",\n",
    "    n_decimals = 4,\n",
    "    estimator_name = \"My Model2\",\n",
    "    auc_y_offset = -15,\n",
    "    color = \"#0db81b\",\n",
    "    text_color = \"#0db81b\",\n",
    "    opacity = 0.5\n",
    ") + pp.plot_roc_auc(\n",
    "    df = df, \n",
    "    actual = \"actual\",\n",
    "    pred = \"pred3\",\n",
    "    n_decimals = 4,\n",
    "    estimator_name = \"My Model3\",\n",
    "    auc_y_offset = -30,\n",
    "    color = \"#9e337a\",\n",
    "    text_color = \"#9e337a\",\n",
    "    opacity = 0.5\n",
    ")\n",
    "\n",
    "combined.properties(\n",
    "    title='ROC AUC Comparison'\n",
    ")"
   ]
  },
  {
   "cell_type": "markdown",
   "metadata": {},
   "source": [
    "# Plots For Each Partition/Group/Segment/Category\n",
    "\n",
    "The PartitionHelper class can be used. Using the class is not necessary, but it simplifies the code and tries to catch common errors when it comes to partitions, and is recommended for beginners. \n",
    "\n",
    "If you are familiar with polars's partition function, you don't have to use this. "
   ]
  },
  {
   "cell_type": "markdown",
   "metadata": {},
   "source": [
    "## Linear Regression Plot on Species"
   ]
  },
  {
   "cell_type": "code",
   "execution_count": 35,
   "metadata": {},
   "outputs": [
    {
     "data": {
      "text/html": [
       "<div><style>\n",
       ".dataframe > thead > tr,\n",
       ".dataframe > tbody > tr {\n",
       "  text-align: right;\n",
       "  white-space: pre-wrap;\n",
       "}\n",
       "</style>\n",
       "<small>shape: (5, 5)</small><table border=\"1\" class=\"dataframe\"><thead><tr><th>sepal length (cm)</th><th>sepal width (cm)</th><th>petal length (cm)</th><th>petal width (cm)</th><th>species</th></tr><tr><td>f64</td><td>f64</td><td>f64</td><td>f64</td><td>str</td></tr></thead><tbody><tr><td>5.1</td><td>3.5</td><td>1.4</td><td>0.2</td><td>&quot;setosa&quot;</td></tr><tr><td>4.9</td><td>3.0</td><td>1.4</td><td>0.2</td><td>&quot;setosa&quot;</td></tr><tr><td>4.7</td><td>3.2</td><td>1.3</td><td>0.2</td><td>&quot;setosa&quot;</td></tr><tr><td>4.6</td><td>3.1</td><td>1.5</td><td>0.2</td><td>&quot;setosa&quot;</td></tr><tr><td>5.0</td><td>3.6</td><td>1.4</td><td>0.2</td><td>&quot;setosa&quot;</td></tr></tbody></table></div>"
      ],
      "text/plain": [
       "shape: (5, 5)\n",
       "┌───────────────────┬──────────────────┬───────────────────┬──────────────────┬─────────┐\n",
       "│ sepal length (cm) ┆ sepal width (cm) ┆ petal length (cm) ┆ petal width (cm) ┆ species │\n",
       "│ ---               ┆ ---              ┆ ---               ┆ ---              ┆ ---     │\n",
       "│ f64               ┆ f64              ┆ f64               ┆ f64              ┆ str     │\n",
       "╞═══════════════════╪══════════════════╪═══════════════════╪══════════════════╪═════════╡\n",
       "│ 5.1               ┆ 3.5              ┆ 1.4               ┆ 0.2              ┆ setosa  │\n",
       "│ 4.9               ┆ 3.0              ┆ 1.4               ┆ 0.2              ┆ setosa  │\n",
       "│ 4.7               ┆ 3.2              ┆ 1.3               ┆ 0.2              ┆ setosa  │\n",
       "│ 4.6               ┆ 3.1              ┆ 1.5               ┆ 0.2              ┆ setosa  │\n",
       "│ 5.0               ┆ 3.6              ┆ 1.4               ┆ 0.2              ┆ setosa  │\n",
       "└───────────────────┴──────────────────┴───────────────────┴──────────────────┴─────────┘"
      ]
     },
     "execution_count": 35,
     "metadata": {},
     "output_type": "execute_result"
    }
   ],
   "source": [
    "import polars as pl\n",
    "import polars_ds as pds\n",
    "import altair as alt\n",
    "# Only used to get dataset.\n",
    "from sklearn import datasets\n",
    "\n",
    "dataset = datasets.load_iris()\n",
    "df = pl.from_numpy(dataset.data, schema = dataset.feature_names).with_columns(\n",
    "    pl.Series(values=dataset.target).alias(\"species\")\n",
    ").with_columns(\n",
    "    pl.when(pl.col(\"species\") == 0).then(pl.lit('setosa'))\n",
    "    .when(pl.col(\"species\") == 1).then(pl.lit('versicolor'))\n",
    "    .when(pl.col(\"species\") == 2).then(pl.lit('virginica')).alias(\"species\")\n",
    ")\n",
    "df.head()"
   ]
  },
  {
   "cell_type": "code",
   "execution_count": 36,
   "metadata": {},
   "outputs": [
    {
     "name": "stdout",
     "output_type": "stream",
     "text": [
      "{'setosa': alt.LayerChart(...), 'versicolor': alt.LayerChart(...), 'virginica': alt.LayerChart(...)}\n"
     ]
    },
    {
     "data": {
      "application/vnd.vega.v5+json": {
       "$schema": "https://vega.github.io/schema/vega/v5.json",
       "background": "white",
       "config": {
        "autosize": "pad"
       },
       "data": [
        {
         "name": "source_0",
         "values": [
          {
           "petal length (cm)": 1.4,
           "sepal length (cm)": 5.1,
           "y_pred": 1.474373378009921
          },
          {
           "petal length (cm)": 1.4,
           "sepal length (cm)": 4.9,
           "y_pred": 1.4480470418186002
          },
          {
           "petal length (cm)": 1.3,
           "sepal length (cm)": 4.7,
           "y_pred": 1.4217207056272794
          },
          {
           "petal length (cm)": 1.5,
           "sepal length (cm)": 4.6,
           "y_pred": 1.4085575375316188
          },
          {
           "petal length (cm)": 1.4,
           "sepal length (cm)": 5,
           "y_pred": 1.4612102099142605
          },
          {
           "petal length (cm)": 1.7,
           "sepal length (cm)": 5.4,
           "y_pred": 1.5138628822969027
          },
          {
           "petal length (cm)": 1.4,
           "sepal length (cm)": 4.6,
           "y_pred": 1.4085575375316188
          },
          {
           "petal length (cm)": 1.5,
           "sepal length (cm)": 5,
           "y_pred": 1.4612102099142605
          },
          {
           "petal length (cm)": 1.4,
           "sepal length (cm)": 4.4,
           "y_pred": 1.382231201340298
          },
          {
           "petal length (cm)": 1.5,
           "sepal length (cm)": 4.9,
           "y_pred": 1.4480470418186002
          },
          {
           "petal length (cm)": 1.5,
           "sepal length (cm)": 5.4,
           "y_pred": 1.5138628822969027
          },
          {
           "petal length (cm)": 1.6,
           "sepal length (cm)": 4.8,
           "y_pred": 1.4348838737229397
          },
          {
           "petal length (cm)": 1.4,
           "sepal length (cm)": 4.8,
           "y_pred": 1.4348838737229397
          },
          {
           "petal length (cm)": 1.1,
           "sepal length (cm)": 4.3,
           "y_pred": 1.3690680332446374
          },
          {
           "petal length (cm)": 1.2,
           "sepal length (cm)": 5.8,
           "y_pred": 1.5665155546795444
          },
          {
           "petal length (cm)": 1.5,
           "sepal length (cm)": 5.7,
           "y_pred": 1.5533523865838839
          },
          {
           "petal length (cm)": 1.3,
           "sepal length (cm)": 5.4,
           "y_pred": 1.5138628822969027
          },
          {
           "petal length (cm)": 1.4,
           "sepal length (cm)": 5.1,
           "y_pred": 1.474373378009921
          },
          {
           "petal length (cm)": 1.7,
           "sepal length (cm)": 5.7,
           "y_pred": 1.5533523865838839
          },
          {
           "petal length (cm)": 1.5,
           "sepal length (cm)": 5.1,
           "y_pred": 1.474373378009921
          },
          {
           "petal length (cm)": 1.7,
           "sepal length (cm)": 5.4,
           "y_pred": 1.5138628822969027
          },
          {
           "petal length (cm)": 1.5,
           "sepal length (cm)": 5.1,
           "y_pred": 1.474373378009921
          },
          {
           "petal length (cm)": 1,
           "sepal length (cm)": 4.6,
           "y_pred": 1.4085575375316188
          },
          {
           "petal length (cm)": 1.7,
           "sepal length (cm)": 5.1,
           "y_pred": 1.474373378009921
          },
          {
           "petal length (cm)": 1.9,
           "sepal length (cm)": 4.8,
           "y_pred": 1.4348838737229397
          },
          {
           "petal length (cm)": 1.6,
           "sepal length (cm)": 5,
           "y_pred": 1.4612102099142605
          },
          {
           "petal length (cm)": 1.6,
           "sepal length (cm)": 5,
           "y_pred": 1.4612102099142605
          },
          {
           "petal length (cm)": 1.5,
           "sepal length (cm)": 5.2,
           "y_pred": 1.4875365461055816
          },
          {
           "petal length (cm)": 1.4,
           "sepal length (cm)": 5.2,
           "y_pred": 1.4875365461055816
          },
          {
           "petal length (cm)": 1.6,
           "sepal length (cm)": 4.7,
           "y_pred": 1.4217207056272794
          },
          {
           "petal length (cm)": 1.6,
           "sepal length (cm)": 4.8,
           "y_pred": 1.4348838737229397
          },
          {
           "petal length (cm)": 1.5,
           "sepal length (cm)": 5.4,
           "y_pred": 1.5138628822969027
          },
          {
           "petal length (cm)": 1.5,
           "sepal length (cm)": 5.2,
           "y_pred": 1.4875365461055816
          },
          {
           "petal length (cm)": 1.4,
           "sepal length (cm)": 5.5,
           "y_pred": 1.527026050392563
          },
          {
           "petal length (cm)": 1.5,
           "sepal length (cm)": 4.9,
           "y_pred": 1.4480470418186002
          },
          {
           "petal length (cm)": 1.2,
           "sepal length (cm)": 5,
           "y_pred": 1.4612102099142605
          },
          {
           "petal length (cm)": 1.3,
           "sepal length (cm)": 5.5,
           "y_pred": 1.527026050392563
          },
          {
           "petal length (cm)": 1.4,
           "sepal length (cm)": 4.9,
           "y_pred": 1.4480470418186002
          },
          {
           "petal length (cm)": 1.3,
           "sepal length (cm)": 4.4,
           "y_pred": 1.382231201340298
          },
          {
           "petal length (cm)": 1.5,
           "sepal length (cm)": 5.1,
           "y_pred": 1.474373378009921
          },
          {
           "petal length (cm)": 1.3,
           "sepal length (cm)": 5,
           "y_pred": 1.4612102099142605
          },
          {
           "petal length (cm)": 1.3,
           "sepal length (cm)": 4.5,
           "y_pred": 1.3953943694359583
          },
          {
           "petal length (cm)": 1.3,
           "sepal length (cm)": 4.4,
           "y_pred": 1.382231201340298
          },
          {
           "petal length (cm)": 1.6,
           "sepal length (cm)": 5,
           "y_pred": 1.4612102099142605
          },
          {
           "petal length (cm)": 1.9,
           "sepal length (cm)": 5.1,
           "y_pred": 1.474373378009921
          },
          {
           "petal length (cm)": 1.4,
           "sepal length (cm)": 4.8,
           "y_pred": 1.4348838737229397
          },
          {
           "petal length (cm)": 1.6,
           "sepal length (cm)": 5.1,
           "y_pred": 1.474373378009921
          },
          {
           "petal length (cm)": 1.4,
           "sepal length (cm)": 4.6,
           "y_pred": 1.4085575375316188
          },
          {
           "petal length (cm)": 1.5,
           "sepal length (cm)": 5.3,
           "y_pred": 1.5006997142012422
          },
          {
           "petal length (cm)": 1.4,
           "sepal length (cm)": 5,
           "y_pred": 1.4612102099142605
          }
         ]
        },
        {
         "name": "source_1",
         "values": [
          {
           "petal length (cm)": 4.7,
           "sepal length (cm)": 7,
           "y_pred": 4.990403823763711
          },
          {
           "petal length (cm)": 4.5,
           "sepal length (cm)": 6.4,
           "y_pred": 4.578521968257859
          },
          {
           "petal length (cm)": 4.9,
           "sepal length (cm)": 6.9,
           "y_pred": 4.921756847846069
          },
          {
           "petal length (cm)": 4,
           "sepal length (cm)": 5.5,
           "y_pred": 3.9606991849990805
          },
          {
           "petal length (cm)": 4.6,
           "sepal length (cm)": 6.5,
           "y_pred": 4.647168944175501
          },
          {
           "petal length (cm)": 4.5,
           "sepal length (cm)": 5.7,
           "y_pred": 4.097993136834365
          },
          {
           "petal length (cm)": 4.7,
           "sepal length (cm)": 6.3,
           "y_pred": 4.509874992340217
          },
          {
           "petal length (cm)": 3.3,
           "sepal length (cm)": 4.9,
           "y_pred": 3.548817329493229
          },
          {
           "petal length (cm)": 4.6,
           "sepal length (cm)": 6.6,
           "y_pred": 4.715815920093143
          },
          {
           "petal length (cm)": 3.9,
           "sepal length (cm)": 5.2,
           "y_pred": 3.754758257246155
          },
          {
           "petal length (cm)": 3.5,
           "sepal length (cm)": 5,
           "y_pred": 3.6174643054108704
          },
          {
           "petal length (cm)": 4.2,
           "sepal length (cm)": 5.9,
           "y_pred": 4.235287088669649
          },
          {
           "petal length (cm)": 4,
           "sepal length (cm)": 6,
           "y_pred": 4.303934064587291
          },
          {
           "petal length (cm)": 4.7,
           "sepal length (cm)": 6.1,
           "y_pred": 4.372581040504932
          },
          {
           "petal length (cm)": 3.6,
           "sepal length (cm)": 5.6,
           "y_pred": 4.029346160916722
          },
          {
           "petal length (cm)": 4.4,
           "sepal length (cm)": 6.7,
           "y_pred": 4.784462896010785
          },
          {
           "petal length (cm)": 4.5,
           "sepal length (cm)": 5.6,
           "y_pred": 4.029346160916722
          },
          {
           "petal length (cm)": 4.1,
           "sepal length (cm)": 5.8,
           "y_pred": 4.166640112752006
          },
          {
           "petal length (cm)": 4.5,
           "sepal length (cm)": 6.2,
           "y_pred": 4.441228016422575
          },
          {
           "petal length (cm)": 3.9,
           "sepal length (cm)": 5.6,
           "y_pred": 4.029346160916722
          },
          {
           "petal length (cm)": 4.8,
           "sepal length (cm)": 5.9,
           "y_pred": 4.235287088669649
          },
          {
           "petal length (cm)": 4,
           "sepal length (cm)": 6.1,
           "y_pred": 4.372581040504932
          },
          {
           "petal length (cm)": 4.9,
           "sepal length (cm)": 6.3,
           "y_pred": 4.509874992340217
          },
          {
           "petal length (cm)": 4.7,
           "sepal length (cm)": 6.1,
           "y_pred": 4.372581040504932
          },
          {
           "petal length (cm)": 4.3,
           "sepal length (cm)": 6.4,
           "y_pred": 4.578521968257859
          },
          {
           "petal length (cm)": 4.4,
           "sepal length (cm)": 6.6,
           "y_pred": 4.715815920093143
          },
          {
           "petal length (cm)": 4.8,
           "sepal length (cm)": 6.8,
           "y_pred": 4.853109871928427
          },
          {
           "petal length (cm)": 5,
           "sepal length (cm)": 6.7,
           "y_pred": 4.784462896010785
          },
          {
           "petal length (cm)": 4.5,
           "sepal length (cm)": 6,
           "y_pred": 4.303934064587291
          },
          {
           "petal length (cm)": 3.5,
           "sepal length (cm)": 5.7,
           "y_pred": 4.097993136834365
          },
          {
           "petal length (cm)": 3.8,
           "sepal length (cm)": 5.5,
           "y_pred": 3.9606991849990805
          },
          {
           "petal length (cm)": 3.7,
           "sepal length (cm)": 5.5,
           "y_pred": 3.9606991849990805
          },
          {
           "petal length (cm)": 3.9,
           "sepal length (cm)": 5.8,
           "y_pred": 4.166640112752006
          },
          {
           "petal length (cm)": 5.1,
           "sepal length (cm)": 6,
           "y_pred": 4.303934064587291
          },
          {
           "petal length (cm)": 4.5,
           "sepal length (cm)": 5.4,
           "y_pred": 3.892052209081439
          },
          {
           "petal length (cm)": 4.5,
           "sepal length (cm)": 6,
           "y_pred": 4.303934064587291
          },
          {
           "petal length (cm)": 4.7,
           "sepal length (cm)": 6.7,
           "y_pred": 4.784462896010785
          },
          {
           "petal length (cm)": 4.4,
           "sepal length (cm)": 6.3,
           "y_pred": 4.509874992340217
          },
          {
           "petal length (cm)": 4.1,
           "sepal length (cm)": 5.6,
           "y_pred": 4.029346160916722
          },
          {
           "petal length (cm)": 4,
           "sepal length (cm)": 5.5,
           "y_pred": 3.9606991849990805
          },
          {
           "petal length (cm)": 4.4,
           "sepal length (cm)": 5.5,
           "y_pred": 3.9606991849990805
          },
          {
           "petal length (cm)": 4.6,
           "sepal length (cm)": 6.1,
           "y_pred": 4.372581040504932
          },
          {
           "petal length (cm)": 4,
           "sepal length (cm)": 5.8,
           "y_pred": 4.166640112752006
          },
          {
           "petal length (cm)": 3.3,
           "sepal length (cm)": 5,
           "y_pred": 3.6174643054108704
          },
          {
           "petal length (cm)": 4.2,
           "sepal length (cm)": 5.6,
           "y_pred": 4.029346160916722
          },
          {
           "petal length (cm)": 4.2,
           "sepal length (cm)": 5.7,
           "y_pred": 4.097993136834365
          },
          {
           "petal length (cm)": 4.2,
           "sepal length (cm)": 5.7,
           "y_pred": 4.097993136834365
          },
          {
           "petal length (cm)": 4.3,
           "sepal length (cm)": 6.2,
           "y_pred": 4.441228016422575
          },
          {
           "petal length (cm)": 3,
           "sepal length (cm)": 5.1,
           "y_pred": 3.6861112813285124
          },
          {
           "petal length (cm)": 4.1,
           "sepal length (cm)": 5.7,
           "y_pred": 4.097993136834365
          }
         ]
        },
        {
         "name": "source_2",
         "values": [
          {
           "petal length (cm)": 6,
           "sepal length (cm)": 6.3,
           "y_pred": 5.335976742308004
          },
          {
           "petal length (cm)": 5.1,
           "sepal length (cm)": 5.8,
           "y_pred": 4.960936364370509
          },
          {
           "petal length (cm)": 5.9,
           "sepal length (cm)": 7.1,
           "y_pred": 5.936041347007996
          },
          {
           "petal length (cm)": 5.6,
           "sepal length (cm)": 6.3,
           "y_pred": 5.335976742308004
          },
          {
           "petal length (cm)": 5.8,
           "sepal length (cm)": 6.5,
           "y_pred": 5.485992893483002
          },
          {
           "petal length (cm)": 6.6,
           "sepal length (cm)": 7.6,
           "y_pred": 6.311081724945491
          },
          {
           "petal length (cm)": 4.5,
           "sepal length (cm)": 4.9,
           "y_pred": 4.285863684083019
          },
          {
           "petal length (cm)": 6.3,
           "sepal length (cm)": 7.3,
           "y_pred": 6.086057498182994
          },
          {
           "petal length (cm)": 5.8,
           "sepal length (cm)": 6.7,
           "y_pred": 5.6360090446580005
          },
          {
           "petal length (cm)": 6.1,
           "sepal length (cm)": 7.2,
           "y_pred": 6.011049422595495
          },
          {
           "petal length (cm)": 5.1,
           "sepal length (cm)": 6.5,
           "y_pred": 5.485992893483002
          },
          {
           "petal length (cm)": 5.3,
           "sepal length (cm)": 6.4,
           "y_pred": 5.410984817895503
          },
          {
           "petal length (cm)": 5.5,
           "sepal length (cm)": 6.8,
           "y_pred": 5.711017120245499
          },
          {
           "petal length (cm)": 5,
           "sepal length (cm)": 5.7,
           "y_pred": 4.88592828878301
          },
          {
           "petal length (cm)": 5.1,
           "sepal length (cm)": 5.8,
           "y_pred": 4.960936364370509
          },
          {
           "petal length (cm)": 5.3,
           "sepal length (cm)": 6.4,
           "y_pred": 5.410984817895503
          },
          {
           "petal length (cm)": 5.5,
           "sepal length (cm)": 6.5,
           "y_pred": 5.485992893483002
          },
          {
           "petal length (cm)": 6.7,
           "sepal length (cm)": 7.7,
           "y_pred": 6.38608980053299
          },
          {
           "petal length (cm)": 6.9,
           "sepal length (cm)": 7.7,
           "y_pred": 6.38608980053299
          },
          {
           "petal length (cm)": 5,
           "sepal length (cm)": 6,
           "y_pred": 5.110952515545507
          },
          {
           "petal length (cm)": 5.7,
           "sepal length (cm)": 6.9,
           "y_pred": 5.786025195832998
          },
          {
           "petal length (cm)": 4.9,
           "sepal length (cm)": 5.6,
           "y_pred": 4.81092021319551
          },
          {
           "petal length (cm)": 6.7,
           "sepal length (cm)": 7.7,
           "y_pred": 6.38608980053299
          },
          {
           "petal length (cm)": 4.9,
           "sepal length (cm)": 6.3,
           "y_pred": 5.335976742308004
          },
          {
           "petal length (cm)": 5.7,
           "sepal length (cm)": 6.7,
           "y_pred": 5.6360090446580005
          },
          {
           "petal length (cm)": 6,
           "sepal length (cm)": 7.2,
           "y_pred": 6.011049422595495
          },
          {
           "petal length (cm)": 4.8,
           "sepal length (cm)": 6.2,
           "y_pred": 5.260968666720506
          },
          {
           "petal length (cm)": 4.9,
           "sepal length (cm)": 6.1,
           "y_pred": 5.185960591133006
          },
          {
           "petal length (cm)": 5.6,
           "sepal length (cm)": 6.4,
           "y_pred": 5.410984817895503
          },
          {
           "petal length (cm)": 5.8,
           "sepal length (cm)": 7.2,
           "y_pred": 6.011049422595495
          },
          {
           "petal length (cm)": 6.1,
           "sepal length (cm)": 7.4,
           "y_pred": 6.161065573770493
          },
          {
           "petal length (cm)": 6.4,
           "sepal length (cm)": 7.9,
           "y_pred": 6.536105951707989
          },
          {
           "petal length (cm)": 5.6,
           "sepal length (cm)": 6.4,
           "y_pred": 5.410984817895503
          },
          {
           "petal length (cm)": 5.1,
           "sepal length (cm)": 6.3,
           "y_pred": 5.335976742308004
          },
          {
           "petal length (cm)": 5.6,
           "sepal length (cm)": 6.1,
           "y_pred": 5.185960591133006
          },
          {
           "petal length (cm)": 6.1,
           "sepal length (cm)": 7.7,
           "y_pred": 6.38608980053299
          },
          {
           "petal length (cm)": 5.6,
           "sepal length (cm)": 6.3,
           "y_pred": 5.335976742308004
          },
          {
           "petal length (cm)": 5.5,
           "sepal length (cm)": 6.4,
           "y_pred": 5.410984817895503
          },
          {
           "petal length (cm)": 4.8,
           "sepal length (cm)": 6,
           "y_pred": 5.110952515545507
          },
          {
           "petal length (cm)": 5.4,
           "sepal length (cm)": 6.9,
           "y_pred": 5.786025195832998
          },
          {
           "petal length (cm)": 5.6,
           "sepal length (cm)": 6.7,
           "y_pred": 5.6360090446580005
          },
          {
           "petal length (cm)": 5.1,
           "sepal length (cm)": 6.9,
           "y_pred": 5.786025195832998
          },
          {
           "petal length (cm)": 5.1,
           "sepal length (cm)": 5.8,
           "y_pred": 4.960936364370509
          },
          {
           "petal length (cm)": 5.9,
           "sepal length (cm)": 6.8,
           "y_pred": 5.711017120245499
          },
          {
           "petal length (cm)": 5.7,
           "sepal length (cm)": 6.7,
           "y_pred": 5.6360090446580005
          },
          {
           "petal length (cm)": 5.2,
           "sepal length (cm)": 6.7,
           "y_pred": 5.6360090446580005
          },
          {
           "petal length (cm)": 5,
           "sepal length (cm)": 6.3,
           "y_pred": 5.335976742308004
          },
          {
           "petal length (cm)": 5.2,
           "sepal length (cm)": 6.5,
           "y_pred": 5.485992893483002
          },
          {
           "petal length (cm)": 5.4,
           "sepal length (cm)": 6.2,
           "y_pred": 5.260968666720506
          },
          {
           "petal length (cm)": 5.1,
           "sepal length (cm)": 5.9,
           "y_pred": 5.0359444399580084
          }
         ]
        },
        {
         "name": "data_0",
         "values": [
          {
           "petal length (cm)": 1.4,
           "sepal length (cm)": 5.1
          },
          {
           "petal length (cm)": 1.4,
           "sepal length (cm)": 4.9
          },
          {
           "petal length (cm)": 1.3,
           "sepal length (cm)": 4.7
          },
          {
           "petal length (cm)": 1.5,
           "sepal length (cm)": 4.6
          },
          {
           "petal length (cm)": 1.4,
           "sepal length (cm)": 5
          },
          {
           "petal length (cm)": 1.7,
           "sepal length (cm)": 5.4
          },
          {
           "petal length (cm)": 1.4,
           "sepal length (cm)": 4.6
          },
          {
           "petal length (cm)": 1.5,
           "sepal length (cm)": 5
          },
          {
           "petal length (cm)": 1.4,
           "sepal length (cm)": 4.4
          },
          {
           "petal length (cm)": 1.5,
           "sepal length (cm)": 4.9
          },
          {
           "petal length (cm)": 1.5,
           "sepal length (cm)": 5.4
          },
          {
           "petal length (cm)": 1.6,
           "sepal length (cm)": 4.8
          },
          {
           "petal length (cm)": 1.4,
           "sepal length (cm)": 4.8
          },
          {
           "petal length (cm)": 1.1,
           "sepal length (cm)": 4.3
          },
          {
           "petal length (cm)": 1.2,
           "sepal length (cm)": 5.8
          },
          {
           "petal length (cm)": 1.5,
           "sepal length (cm)": 5.7
          },
          {
           "petal length (cm)": 1.3,
           "sepal length (cm)": 5.4
          },
          {
           "petal length (cm)": 1.4,
           "sepal length (cm)": 5.1
          },
          {
           "petal length (cm)": 1.7,
           "sepal length (cm)": 5.7
          },
          {
           "petal length (cm)": 1.5,
           "sepal length (cm)": 5.1
          },
          {
           "petal length (cm)": 1.7,
           "sepal length (cm)": 5.4
          },
          {
           "petal length (cm)": 1.5,
           "sepal length (cm)": 5.1
          },
          {
           "petal length (cm)": 1,
           "sepal length (cm)": 4.6
          },
          {
           "petal length (cm)": 1.7,
           "sepal length (cm)": 5.1
          },
          {
           "petal length (cm)": 1.9,
           "sepal length (cm)": 4.8
          },
          {
           "petal length (cm)": 1.6,
           "sepal length (cm)": 5
          },
          {
           "petal length (cm)": 1.6,
           "sepal length (cm)": 5
          },
          {
           "petal length (cm)": 1.5,
           "sepal length (cm)": 5.2
          },
          {
           "petal length (cm)": 1.4,
           "sepal length (cm)": 5.2
          },
          {
           "petal length (cm)": 1.6,
           "sepal length (cm)": 4.7
          },
          {
           "petal length (cm)": 1.6,
           "sepal length (cm)": 4.8
          },
          {
           "petal length (cm)": 1.5,
           "sepal length (cm)": 5.4
          },
          {
           "petal length (cm)": 1.5,
           "sepal length (cm)": 5.2
          },
          {
           "petal length (cm)": 1.4,
           "sepal length (cm)": 5.5
          },
          {
           "petal length (cm)": 1.5,
           "sepal length (cm)": 4.9
          },
          {
           "petal length (cm)": 1.2,
           "sepal length (cm)": 5
          },
          {
           "petal length (cm)": 1.3,
           "sepal length (cm)": 5.5
          },
          {
           "petal length (cm)": 1.4,
           "sepal length (cm)": 4.9
          },
          {
           "petal length (cm)": 1.3,
           "sepal length (cm)": 4.4
          },
          {
           "petal length (cm)": 1.5,
           "sepal length (cm)": 5.1
          },
          {
           "petal length (cm)": 1.3,
           "sepal length (cm)": 5
          },
          {
           "petal length (cm)": 1.3,
           "sepal length (cm)": 4.5
          },
          {
           "petal length (cm)": 1.3,
           "sepal length (cm)": 4.4
          },
          {
           "petal length (cm)": 1.6,
           "sepal length (cm)": 5
          },
          {
           "petal length (cm)": 1.9,
           "sepal length (cm)": 5.1
          },
          {
           "petal length (cm)": 1.4,
           "sepal length (cm)": 4.8
          },
          {
           "petal length (cm)": 1.6,
           "sepal length (cm)": 5.1
          },
          {
           "petal length (cm)": 1.4,
           "sepal length (cm)": 4.6
          },
          {
           "petal length (cm)": 1.5,
           "sepal length (cm)": 5.3
          },
          {
           "petal length (cm)": 1.4,
           "sepal length (cm)": 5
          }
         ]
        },
        {
         "name": "data_1",
         "values": [
          {
           "petal length (cm)": 4.7,
           "sepal length (cm)": 7
          },
          {
           "petal length (cm)": 4.5,
           "sepal length (cm)": 6.4
          },
          {
           "petal length (cm)": 4.9,
           "sepal length (cm)": 6.9
          },
          {
           "petal length (cm)": 4,
           "sepal length (cm)": 5.5
          },
          {
           "petal length (cm)": 4.6,
           "sepal length (cm)": 6.5
          },
          {
           "petal length (cm)": 4.5,
           "sepal length (cm)": 5.7
          },
          {
           "petal length (cm)": 4.7,
           "sepal length (cm)": 6.3
          },
          {
           "petal length (cm)": 3.3,
           "sepal length (cm)": 4.9
          },
          {
           "petal length (cm)": 4.6,
           "sepal length (cm)": 6.6
          },
          {
           "petal length (cm)": 3.9,
           "sepal length (cm)": 5.2
          },
          {
           "petal length (cm)": 3.5,
           "sepal length (cm)": 5
          },
          {
           "petal length (cm)": 4.2,
           "sepal length (cm)": 5.9
          },
          {
           "petal length (cm)": 4,
           "sepal length (cm)": 6
          },
          {
           "petal length (cm)": 4.7,
           "sepal length (cm)": 6.1
          },
          {
           "petal length (cm)": 3.6,
           "sepal length (cm)": 5.6
          },
          {
           "petal length (cm)": 4.4,
           "sepal length (cm)": 6.7
          },
          {
           "petal length (cm)": 4.5,
           "sepal length (cm)": 5.6
          },
          {
           "petal length (cm)": 4.1,
           "sepal length (cm)": 5.8
          },
          {
           "petal length (cm)": 4.5,
           "sepal length (cm)": 6.2
          },
          {
           "petal length (cm)": 3.9,
           "sepal length (cm)": 5.6
          },
          {
           "petal length (cm)": 4.8,
           "sepal length (cm)": 5.9
          },
          {
           "petal length (cm)": 4,
           "sepal length (cm)": 6.1
          },
          {
           "petal length (cm)": 4.9,
           "sepal length (cm)": 6.3
          },
          {
           "petal length (cm)": 4.7,
           "sepal length (cm)": 6.1
          },
          {
           "petal length (cm)": 4.3,
           "sepal length (cm)": 6.4
          },
          {
           "petal length (cm)": 4.4,
           "sepal length (cm)": 6.6
          },
          {
           "petal length (cm)": 4.8,
           "sepal length (cm)": 6.8
          },
          {
           "petal length (cm)": 5,
           "sepal length (cm)": 6.7
          },
          {
           "petal length (cm)": 4.5,
           "sepal length (cm)": 6
          },
          {
           "petal length (cm)": 3.5,
           "sepal length (cm)": 5.7
          },
          {
           "petal length (cm)": 3.8,
           "sepal length (cm)": 5.5
          },
          {
           "petal length (cm)": 3.7,
           "sepal length (cm)": 5.5
          },
          {
           "petal length (cm)": 3.9,
           "sepal length (cm)": 5.8
          },
          {
           "petal length (cm)": 5.1,
           "sepal length (cm)": 6
          },
          {
           "petal length (cm)": 4.5,
           "sepal length (cm)": 5.4
          },
          {
           "petal length (cm)": 4.5,
           "sepal length (cm)": 6
          },
          {
           "petal length (cm)": 4.7,
           "sepal length (cm)": 6.7
          },
          {
           "petal length (cm)": 4.4,
           "sepal length (cm)": 6.3
          },
          {
           "petal length (cm)": 4.1,
           "sepal length (cm)": 5.6
          },
          {
           "petal length (cm)": 4,
           "sepal length (cm)": 5.5
          },
          {
           "petal length (cm)": 4.4,
           "sepal length (cm)": 5.5
          },
          {
           "petal length (cm)": 4.6,
           "sepal length (cm)": 6.1
          },
          {
           "petal length (cm)": 4,
           "sepal length (cm)": 5.8
          },
          {
           "petal length (cm)": 3.3,
           "sepal length (cm)": 5
          },
          {
           "petal length (cm)": 4.2,
           "sepal length (cm)": 5.6
          },
          {
           "petal length (cm)": 4.2,
           "sepal length (cm)": 5.7
          },
          {
           "petal length (cm)": 4.2,
           "sepal length (cm)": 5.7
          },
          {
           "petal length (cm)": 4.3,
           "sepal length (cm)": 6.2
          },
          {
           "petal length (cm)": 3,
           "sepal length (cm)": 5.1
          },
          {
           "petal length (cm)": 4.1,
           "sepal length (cm)": 5.7
          }
         ]
        },
        {
         "name": "data_2",
         "values": [
          {
           "petal length (cm)": 6,
           "sepal length (cm)": 6.3
          },
          {
           "petal length (cm)": 5.1,
           "sepal length (cm)": 5.8
          },
          {
           "petal length (cm)": 5.9,
           "sepal length (cm)": 7.1
          },
          {
           "petal length (cm)": 5.6,
           "sepal length (cm)": 6.3
          },
          {
           "petal length (cm)": 5.8,
           "sepal length (cm)": 6.5
          },
          {
           "petal length (cm)": 6.6,
           "sepal length (cm)": 7.6
          },
          {
           "petal length (cm)": 4.5,
           "sepal length (cm)": 4.9
          },
          {
           "petal length (cm)": 6.3,
           "sepal length (cm)": 7.3
          },
          {
           "petal length (cm)": 5.8,
           "sepal length (cm)": 6.7
          },
          {
           "petal length (cm)": 6.1,
           "sepal length (cm)": 7.2
          },
          {
           "petal length (cm)": 5.1,
           "sepal length (cm)": 6.5
          },
          {
           "petal length (cm)": 5.3,
           "sepal length (cm)": 6.4
          },
          {
           "petal length (cm)": 5.5,
           "sepal length (cm)": 6.8
          },
          {
           "petal length (cm)": 5,
           "sepal length (cm)": 5.7
          },
          {
           "petal length (cm)": 5.1,
           "sepal length (cm)": 5.8
          },
          {
           "petal length (cm)": 5.3,
           "sepal length (cm)": 6.4
          },
          {
           "petal length (cm)": 5.5,
           "sepal length (cm)": 6.5
          },
          {
           "petal length (cm)": 6.7,
           "sepal length (cm)": 7.7
          },
          {
           "petal length (cm)": 6.9,
           "sepal length (cm)": 7.7
          },
          {
           "petal length (cm)": 5,
           "sepal length (cm)": 6
          },
          {
           "petal length (cm)": 5.7,
           "sepal length (cm)": 6.9
          },
          {
           "petal length (cm)": 4.9,
           "sepal length (cm)": 5.6
          },
          {
           "petal length (cm)": 6.7,
           "sepal length (cm)": 7.7
          },
          {
           "petal length (cm)": 4.9,
           "sepal length (cm)": 6.3
          },
          {
           "petal length (cm)": 5.7,
           "sepal length (cm)": 6.7
          },
          {
           "petal length (cm)": 6,
           "sepal length (cm)": 7.2
          },
          {
           "petal length (cm)": 4.8,
           "sepal length (cm)": 6.2
          },
          {
           "petal length (cm)": 4.9,
           "sepal length (cm)": 6.1
          },
          {
           "petal length (cm)": 5.6,
           "sepal length (cm)": 6.4
          },
          {
           "petal length (cm)": 5.8,
           "sepal length (cm)": 7.2
          },
          {
           "petal length (cm)": 6.1,
           "sepal length (cm)": 7.4
          },
          {
           "petal length (cm)": 6.4,
           "sepal length (cm)": 7.9
          },
          {
           "petal length (cm)": 5.6,
           "sepal length (cm)": 6.4
          },
          {
           "petal length (cm)": 5.1,
           "sepal length (cm)": 6.3
          },
          {
           "petal length (cm)": 5.6,
           "sepal length (cm)": 6.1
          },
          {
           "petal length (cm)": 6.1,
           "sepal length (cm)": 7.7
          },
          {
           "petal length (cm)": 5.6,
           "sepal length (cm)": 6.3
          },
          {
           "petal length (cm)": 5.5,
           "sepal length (cm)": 6.4
          },
          {
           "petal length (cm)": 4.8,
           "sepal length (cm)": 6
          },
          {
           "petal length (cm)": 5.4,
           "sepal length (cm)": 6.9
          },
          {
           "petal length (cm)": 5.6,
           "sepal length (cm)": 6.7
          },
          {
           "petal length (cm)": 5.1,
           "sepal length (cm)": 6.9
          },
          {
           "petal length (cm)": 5.1,
           "sepal length (cm)": 5.8
          },
          {
           "petal length (cm)": 5.9,
           "sepal length (cm)": 6.8
          },
          {
           "petal length (cm)": 5.7,
           "sepal length (cm)": 6.7
          },
          {
           "petal length (cm)": 5.2,
           "sepal length (cm)": 6.7
          },
          {
           "petal length (cm)": 5,
           "sepal length (cm)": 6.3
          },
          {
           "petal length (cm)": 5.2,
           "sepal length (cm)": 6.5
          },
          {
           "petal length (cm)": 5.4,
           "sepal length (cm)": 6.2
          },
          {
           "petal length (cm)": 5.1,
           "sepal length (cm)": 5.9
          }
         ]
        }
       ],
       "layout": {
        "align": "each",
        "bounds": "full",
        "columns": 1,
        "padding": 20
       },
       "marks": [
        {
         "axes": [
          {
           "aria": false,
           "domain": false,
           "grid": true,
           "gridScale": "concat_0_y",
           "labels": false,
           "maxExtent": 0,
           "minExtent": 0,
           "orient": "bottom",
           "scale": "concat_0_x",
           "tickCount": {
            "signal": "ceil(width/40)"
           },
           "ticks": false,
           "zindex": 0
          },
          {
           "aria": false,
           "domain": false,
           "grid": true,
           "gridScale": "concat_0_x",
           "labels": false,
           "maxExtent": 0,
           "minExtent": 0,
           "orient": "left",
           "scale": "concat_0_y",
           "tickCount": {
            "signal": "ceil(childHeight/40)"
           },
           "ticks": false,
           "zindex": 0
          },
          {
           "grid": false,
           "labelFlush": true,
           "labelOverlap": true,
           "orient": "bottom",
           "scale": "concat_0_x",
           "tickCount": {
            "signal": "ceil(width/40)"
           },
           "title": [
            "sepal length (cm)",
            "y = 0.1316 * x + 0.8031, r2 = 0.0714"
           ],
           "zindex": 0
          },
          {
           "grid": false,
           "labelOverlap": true,
           "orient": "left",
           "scale": "concat_0_y",
           "tickCount": {
            "signal": "ceil(childHeight/40)"
           },
           "title": "petal length (cm), y_pred",
           "zindex": 0
          }
         ],
         "encode": {
          "update": {
           "height": {
            "signal": "childHeight"
           },
           "width": {
            "signal": "width"
           }
          }
         },
         "marks": [
          {
           "encode": {
            "update": {
             "fill": {
              "value": "transparent"
             },
             "opacity": {
              "value": 0.7
             },
             "stroke": {
              "value": "#4c78a8"
             },
             "x": {
              "field": "sepal length (cm)",
              "scale": "concat_0_x"
             },
             "y": {
              "field": "petal length (cm)",
              "scale": "concat_0_y"
             }
            }
           },
           "from": {
            "data": "data_0"
           },
           "name": "concat_0_layer_0_marks",
           "style": [
            "point"
           ],
           "type": "symbol"
          },
          {
           "encode": {
            "update": {
             "defined": {
              "signal": "isValid(datum[\"sepal length (cm)\"]) && isFinite(+datum[\"sepal length (cm)\"]) && isValid(datum[\"y_pred\"]) && isFinite(+datum[\"y_pred\"])"
             },
             "stroke": {
              "value": "#4c78a8"
             },
             "x": {
              "field": "sepal length (cm)",
              "scale": "concat_0_x"
             },
             "y": {
              "field": "y_pred",
              "scale": "concat_0_y"
             }
            }
           },
           "from": {
            "data": "source_0"
           },
           "name": "concat_0_layer_1_marks",
           "sort": {
            "field": "x"
           },
           "style": [
            "line"
           ],
           "type": "line"
          }
         ],
         "name": "concat_0_group",
         "style": "cell",
         "title": {
          "frame": "group",
          "text": "Linear Regression Chart on Species = setosa"
         },
         "type": "group"
        },
        {
         "axes": [
          {
           "aria": false,
           "domain": false,
           "grid": true,
           "gridScale": "concat_1_y",
           "labels": false,
           "maxExtent": 0,
           "minExtent": 0,
           "orient": "bottom",
           "scale": "concat_1_x",
           "tickCount": {
            "signal": "ceil(width/40)"
           },
           "ticks": false,
           "zindex": 0
          },
          {
           "aria": false,
           "domain": false,
           "grid": true,
           "gridScale": "concat_1_x",
           "labels": false,
           "maxExtent": 0,
           "minExtent": 0,
           "orient": "left",
           "scale": "concat_1_y",
           "tickCount": {
            "signal": "ceil(childHeight/40)"
           },
           "ticks": false,
           "zindex": 0
          },
          {
           "grid": false,
           "labelFlush": true,
           "labelOverlap": true,
           "orient": "bottom",
           "scale": "concat_1_x",
           "tickCount": {
            "signal": "ceil(width/40)"
           },
           "title": [
            "sepal length (cm)",
            "y = 0.6865 * x + 0.1851, r2 = 0.5686"
           ],
           "zindex": 0
          },
          {
           "grid": false,
           "labelOverlap": true,
           "orient": "left",
           "scale": "concat_1_y",
           "tickCount": {
            "signal": "ceil(childHeight/40)"
           },
           "title": "petal length (cm), y_pred",
           "zindex": 0
          }
         ],
         "encode": {
          "update": {
           "height": {
            "signal": "childHeight"
           },
           "width": {
            "signal": "width"
           }
          }
         },
         "marks": [
          {
           "encode": {
            "update": {
             "fill": {
              "value": "transparent"
             },
             "opacity": {
              "value": 0.7
             },
             "stroke": {
              "value": "#4c78a8"
             },
             "x": {
              "field": "sepal length (cm)",
              "scale": "concat_1_x"
             },
             "y": {
              "field": "petal length (cm)",
              "scale": "concat_1_y"
             }
            }
           },
           "from": {
            "data": "data_1"
           },
           "name": "concat_1_layer_0_marks",
           "style": [
            "point"
           ],
           "type": "symbol"
          },
          {
           "encode": {
            "update": {
             "defined": {
              "signal": "isValid(datum[\"sepal length (cm)\"]) && isFinite(+datum[\"sepal length (cm)\"]) && isValid(datum[\"y_pred\"]) && isFinite(+datum[\"y_pred\"])"
             },
             "stroke": {
              "value": "#4c78a8"
             },
             "x": {
              "field": "sepal length (cm)",
              "scale": "concat_1_x"
             },
             "y": {
              "field": "y_pred",
              "scale": "concat_1_y"
             }
            }
           },
           "from": {
            "data": "source_1"
           },
           "name": "concat_1_layer_1_marks",
           "sort": {
            "field": "x"
           },
           "style": [
            "line"
           ],
           "type": "line"
          }
         ],
         "name": "concat_1_group",
         "style": "cell",
         "title": {
          "frame": "group",
          "text": "Linear Regression Chart on Species = versicolor"
         },
         "type": "group"
        },
        {
         "axes": [
          {
           "aria": false,
           "domain": false,
           "grid": true,
           "gridScale": "concat_2_y",
           "labels": false,
           "maxExtent": 0,
           "minExtent": 0,
           "orient": "bottom",
           "scale": "concat_2_x",
           "tickCount": {
            "signal": "ceil(width/40)"
           },
           "ticks": false,
           "zindex": 0
          },
          {
           "aria": false,
           "domain": false,
           "grid": true,
           "gridScale": "concat_2_x",
           "labels": false,
           "maxExtent": 0,
           "minExtent": 0,
           "orient": "left",
           "scale": "concat_2_y",
           "tickCount": {
            "signal": "ceil(childHeight/40)"
           },
           "ticks": false,
           "zindex": 0
          },
          {
           "grid": false,
           "labelFlush": true,
           "labelOverlap": true,
           "orient": "bottom",
           "scale": "concat_2_x",
           "tickCount": {
            "signal": "ceil(width/40)"
           },
           "title": [
            "sepal length (cm)",
            "y = 0.7501 * x + 0.6105, r2 = 0.7469"
           ],
           "zindex": 0
          },
          {
           "grid": false,
           "labelOverlap": true,
           "orient": "left",
           "scale": "concat_2_y",
           "tickCount": {
            "signal": "ceil(childHeight/40)"
           },
           "title": "petal length (cm), y_pred",
           "zindex": 0
          }
         ],
         "encode": {
          "update": {
           "height": {
            "signal": "childHeight"
           },
           "width": {
            "signal": "width"
           }
          }
         },
         "marks": [
          {
           "encode": {
            "update": {
             "fill": {
              "value": "transparent"
             },
             "opacity": {
              "value": 0.7
             },
             "stroke": {
              "value": "#4c78a8"
             },
             "x": {
              "field": "sepal length (cm)",
              "scale": "concat_2_x"
             },
             "y": {
              "field": "petal length (cm)",
              "scale": "concat_2_y"
             }
            }
           },
           "from": {
            "data": "data_2"
           },
           "name": "concat_2_layer_0_marks",
           "style": [
            "point"
           ],
           "type": "symbol"
          },
          {
           "encode": {
            "update": {
             "defined": {
              "signal": "isValid(datum[\"sepal length (cm)\"]) && isFinite(+datum[\"sepal length (cm)\"]) && isValid(datum[\"y_pred\"]) && isFinite(+datum[\"y_pred\"])"
             },
             "stroke": {
              "value": "#4c78a8"
             },
             "x": {
              "field": "sepal length (cm)",
              "scale": "concat_2_x"
             },
             "y": {
              "field": "y_pred",
              "scale": "concat_2_y"
             }
            }
           },
           "from": {
            "data": "source_2"
           },
           "name": "concat_2_layer_1_marks",
           "sort": {
            "field": "x"
           },
           "style": [
            "line"
           ],
           "type": "line"
          }
         ],
         "name": "concat_2_group",
         "style": "cell",
         "title": {
          "frame": "group",
          "text": "Linear Regression Chart on Species = virginica"
         },
         "type": "group"
        }
       ],
       "padding": 5,
       "scales": [
        {
         "domain": {
          "fields": [
           {
            "data": "data_0",
            "field": "sepal length (cm)"
           },
           {
            "data": "source_0",
            "field": "sepal length (cm)"
           }
          ]
         },
         "name": "concat_0_x",
         "nice": true,
         "range": [
          0,
          {
           "signal": "width"
          }
         ],
         "type": "linear",
         "zero": false
        },
        {
         "domain": {
          "fields": [
           {
            "data": "data_0",
            "field": "petal length (cm)"
           },
           {
            "data": "source_0",
            "field": "y_pred"
           }
          ]
         },
         "name": "concat_0_y",
         "nice": true,
         "range": [
          {
           "signal": "childHeight"
          },
          0
         ],
         "type": "linear",
         "zero": true
        },
        {
         "domain": {
          "fields": [
           {
            "data": "data_1",
            "field": "sepal length (cm)"
           },
           {
            "data": "source_1",
            "field": "sepal length (cm)"
           }
          ]
         },
         "name": "concat_1_x",
         "nice": true,
         "range": [
          0,
          {
           "signal": "width"
          }
         ],
         "type": "linear",
         "zero": false
        },
        {
         "domain": {
          "fields": [
           {
            "data": "data_1",
            "field": "petal length (cm)"
           },
           {
            "data": "source_1",
            "field": "y_pred"
           }
          ]
         },
         "name": "concat_1_y",
         "nice": true,
         "range": [
          {
           "signal": "childHeight"
          },
          0
         ],
         "type": "linear",
         "zero": true
        },
        {
         "domain": {
          "fields": [
           {
            "data": "data_2",
            "field": "sepal length (cm)"
           },
           {
            "data": "source_2",
            "field": "sepal length (cm)"
           }
          ]
         },
         "name": "concat_2_x",
         "nice": true,
         "range": [
          0,
          {
           "signal": "width"
          }
         ],
         "type": "linear",
         "zero": false
        },
        {
         "domain": {
          "fields": [
           {
            "data": "data_2",
            "field": "petal length (cm)"
           },
           {
            "data": "source_2",
            "field": "y_pred"
           }
          ]
         },
         "name": "concat_2_y",
         "nice": true,
         "range": [
          {
           "signal": "childHeight"
          },
          0
         ],
         "type": "linear",
         "zero": true
        }
       ],
       "signals": [
        {
         "name": "childHeight",
         "value": 300
        }
       ],
       "width": 300
      },
      "text/plain": [
       "<VegaLite 5 object>\n",
       "\n",
       "If you see this message, it means the renderer has not been properly enabled\n",
       "for the frontend that you are using. For more information, see\n",
       "https://altair-viz.github.io/user_guide/display_frontends.html#troubleshooting\n"
      ]
     },
     "execution_count": 36,
     "metadata": {},
     "output_type": "execute_result"
    }
   ],
   "source": [
    "from polars_ds.partition import PartitionHelper\n",
    "\n",
    "by = \"species\"\n",
    "parts = PartitionHelper(df, by)\n",
    "plots = parts.apply(\n",
    "    lambda p_name, sub_df: pp.plot_lin_reg(\n",
    "        sub_df,\n",
    "        x = \"sepal length (cm)\", \n",
    "        target = \"petal length (cm)\", \n",
    "        add_bias = True,\n",
    "        weights = None,\n",
    "        max_points = 2000,\n",
    "    ).properties(\n",
    "        title = f\"Linear Regression Chart on Species = {p_name}\"\n",
    "    )\n",
    ")\n",
    "\n",
    "print(plots)\n",
    "alt.vconcat(*plots.values()).configure(autosize=\"pad\")"
   ]
  },
  {
   "cell_type": "code",
   "execution_count": 37,
   "metadata": {},
   "outputs": [
    {
     "data": {
      "text/plain": [
       "['setosa', 'versicolor', 'virginica']"
      ]
     },
     "execution_count": 37,
     "metadata": {},
     "output_type": "execute_result"
    }
   ],
   "source": [
    "parts.names()"
   ]
  },
  {
   "cell_type": "code",
   "execution_count": 38,
   "metadata": {},
   "outputs": [
    {
     "data": {
      "text/html": [
       "<div><style>\n",
       ".dataframe > thead > tr,\n",
       ".dataframe > tbody > tr {\n",
       "  text-align: right;\n",
       "  white-space: pre-wrap;\n",
       "}\n",
       "</style>\n",
       "<small>shape: (5, 5)</small><table border=\"1\" class=\"dataframe\"><thead><tr><th>sepal length (cm)</th><th>sepal width (cm)</th><th>petal length (cm)</th><th>petal width (cm)</th><th>species</th></tr><tr><td>f64</td><td>f64</td><td>f64</td><td>f64</td><td>str</td></tr></thead><tbody><tr><td>6.3</td><td>3.3</td><td>6.0</td><td>2.5</td><td>&quot;virginica&quot;</td></tr><tr><td>5.8</td><td>2.7</td><td>5.1</td><td>1.9</td><td>&quot;virginica&quot;</td></tr><tr><td>7.1</td><td>3.0</td><td>5.9</td><td>2.1</td><td>&quot;virginica&quot;</td></tr><tr><td>6.3</td><td>2.9</td><td>5.6</td><td>1.8</td><td>&quot;virginica&quot;</td></tr><tr><td>6.5</td><td>3.0</td><td>5.8</td><td>2.2</td><td>&quot;virginica&quot;</td></tr></tbody></table></div>"
      ],
      "text/plain": [
       "shape: (5, 5)\n",
       "┌───────────────────┬──────────────────┬───────────────────┬──────────────────┬───────────┐\n",
       "│ sepal length (cm) ┆ sepal width (cm) ┆ petal length (cm) ┆ petal width (cm) ┆ species   │\n",
       "│ ---               ┆ ---              ┆ ---               ┆ ---              ┆ ---       │\n",
       "│ f64               ┆ f64              ┆ f64               ┆ f64              ┆ str       │\n",
       "╞═══════════════════╪══════════════════╪═══════════════════╪══════════════════╪═══════════╡\n",
       "│ 6.3               ┆ 3.3              ┆ 6.0               ┆ 2.5              ┆ virginica │\n",
       "│ 5.8               ┆ 2.7              ┆ 5.1               ┆ 1.9              ┆ virginica │\n",
       "│ 7.1               ┆ 3.0              ┆ 5.9               ┆ 2.1              ┆ virginica │\n",
       "│ 6.3               ┆ 2.9              ┆ 5.6               ┆ 1.8              ┆ virginica │\n",
       "│ 6.5               ┆ 3.0              ┆ 5.8               ┆ 2.2              ┆ virginica │\n",
       "└───────────────────┴──────────────────┴───────────────────┴──────────────────┴───────────┘"
      ]
     },
     "execution_count": 38,
     "metadata": {},
     "output_type": "execute_result"
    }
   ],
   "source": [
    "parts.get(\"virginica\").head()"
   ]
  },
  {
   "cell_type": "markdown",
   "metadata": {},
   "source": [
    "## ROC AUC Plot on Categories"
   ]
  },
  {
   "cell_type": "code",
   "execution_count": 39,
   "metadata": {},
   "outputs": [],
   "source": [
    "df = pl.DataFrame({\n",
    "    \"actual\": [0, 0, 1, 1, 1, 0],\n",
    "    \"pred\": [0.1, 0.4, 0.35, 0.8, 0.6, 0.23],\n",
    "    \"category\": [\"a\", \"a\", \"a\", \"b\", \"b\", \"b\"]\n",
    "})"
   ]
  },
  {
   "cell_type": "code",
   "execution_count": 40,
   "metadata": {},
   "outputs": [
    {
     "data": {
      "application/vnd.vega.v5+json": {
       "$schema": "https://vega.github.io/schema/vega/v5.json",
       "background": "white",
       "config": {
        "autosize": "pad"
       },
       "data": [
        {
         "name": "source_0",
         "values": [
          {
           "fpr": 0,
           "tpr": 0
          },
          {
           "fpr": 0.5,
           "tpr": 0
          },
          {
           "fpr": 0.5,
           "tpr": 1
          },
          {
           "fpr": 1,
           "tpr": 1
          }
         ]
        },
        {
         "name": "source_2",
         "values": [
          {
           "fpr": 0,
           "tpr": 0
          },
          {
           "fpr": 0,
           "tpr": 0.5
          },
          {
           "fpr": 0,
           "tpr": 1
          },
          {
           "fpr": 1,
           "tpr": 1
          }
         ]
        },
        {
         "name": "data_0",
         "values": [
          {
           "max_fpr": 1,
           "max_tpr": 1,
           "min_fpr": 0,
           "min_tpr": 0
          }
         ]
        },
        {
         "name": "source_1",
         "values": [
          {
           "x": 0.97,
           "y": 0.03
          }
         ]
        },
        {
         "name": "data_1",
         "values": [
          {
           "max_fpr": 1,
           "max_tpr": 1,
           "min_fpr": 0,
           "min_tpr": 0
          }
         ]
        },
        {
         "name": "source_3",
         "values": [
          {
           "x": 0.97,
           "y": 0.03
          }
         ]
        }
       ],
       "layout": {
        "align": "each",
        "bounds": "full",
        "columns": 1,
        "padding": 20
       },
       "marks": [
        {
         "axes": [
          {
           "aria": false,
           "domain": false,
           "grid": true,
           "gridScale": "concat_0_y",
           "labels": false,
           "maxExtent": 0,
           "minExtent": 0,
           "orient": "bottom",
           "scale": "concat_0_x",
           "tickCount": {
            "signal": "ceil(width/40)"
           },
           "ticks": false,
           "zindex": 0
          },
          {
           "aria": false,
           "domain": false,
           "grid": true,
           "gridScale": "concat_0_x",
           "labels": false,
           "maxExtent": 0,
           "minExtent": 0,
           "orient": "left",
           "scale": "concat_0_y",
           "tickCount": {
            "signal": "ceil(childHeight/40)"
           },
           "ticks": false,
           "zindex": 0
          },
          {
           "grid": false,
           "labelFlush": true,
           "labelOverlap": true,
           "orient": "bottom",
           "scale": "concat_0_x",
           "tickCount": {
            "signal": "ceil(width/40)"
           },
           "title": "False Positive Rate",
           "zindex": 0
          },
          {
           "grid": false,
           "labelOverlap": true,
           "orient": "left",
           "scale": "concat_0_y",
           "tickCount": {
            "signal": "ceil(childHeight/40)"
           },
           "title": "True Positive Rate",
           "zindex": 0
          }
         ],
         "encode": {
          "update": {
           "height": {
            "signal": "childHeight"
           },
           "width": {
            "signal": "width"
           }
          }
         },
         "marks": [
          {
           "encode": {
            "update": {
             "stroke": {
              "value": "black"
             },
             "strokeDash": {
              "value": [
               4,
               4
              ]
             },
             "x": {
              "field": "min_fpr",
              "scale": "concat_0_x"
             },
             "x2": {
              "field": "max_fpr",
              "scale": "concat_0_x"
             },
             "y": {
              "field": "min_tpr",
              "scale": "concat_0_y"
             },
             "y2": {
              "field": "max_tpr",
              "scale": "concat_0_y"
             }
            }
           },
           "from": {
            "data": "data_0"
           },
           "name": "concat_0_layer_0_marks",
           "style": [
            "rule"
           ],
           "type": "rule"
          },
          {
           "encode": {
            "update": {
             "defined": {
              "signal": "isValid(datum[\"fpr\"]) && isFinite(+datum[\"fpr\"]) && isValid(datum[\"tpr\"]) && isFinite(+datum[\"tpr\"])"
             },
             "interpolate": {
              "value": "step"
             },
             "stroke": {
              "value": "#4c78a8"
             },
             "x": {
              "field": "fpr",
              "scale": "concat_0_x"
             },
             "y": {
              "field": "tpr",
              "scale": "concat_0_y"
             }
            }
           },
           "from": {
            "data": "source_0"
           },
           "name": "concat_0_layer_1_marks",
           "sort": {
            "field": "x"
           },
           "style": [
            "line"
           ],
           "type": "line"
          },
          {
           "encode": {
            "update": {
             "align": {
              "value": "right"
             },
             "baseline": {
              "value": "middle"
             },
             "dy": {
              "value": 0
             },
             "fill": {
              "value": "black"
             },
             "fontWeight": {
              "value": "bold"
             },
             "text": {
              "value": "My Model (AUC = 0.5)"
             },
             "x": {
              "field": "x",
              "scale": "concat_0_x"
             },
             "y": {
              "field": "y",
              "scale": "concat_0_y"
             }
            }
           },
           "from": {
            "data": "source_1"
           },
           "name": "concat_0_layer_2_marks",
           "style": [
            "text"
           ],
           "type": "text"
          }
         ],
         "name": "concat_0_group",
         "style": "cell",
         "title": {
          "frame": "group",
          "text": "ROC AUC on a"
         },
         "type": "group"
        },
        {
         "axes": [
          {
           "aria": false,
           "domain": false,
           "grid": true,
           "gridScale": "concat_1_y",
           "labels": false,
           "maxExtent": 0,
           "minExtent": 0,
           "orient": "bottom",
           "scale": "concat_1_x",
           "tickCount": {
            "signal": "ceil(width/40)"
           },
           "ticks": false,
           "zindex": 0
          },
          {
           "aria": false,
           "domain": false,
           "grid": true,
           "gridScale": "concat_1_x",
           "labels": false,
           "maxExtent": 0,
           "minExtent": 0,
           "orient": "left",
           "scale": "concat_1_y",
           "tickCount": {
            "signal": "ceil(childHeight/40)"
           },
           "ticks": false,
           "zindex": 0
          },
          {
           "grid": false,
           "labelFlush": true,
           "labelOverlap": true,
           "orient": "bottom",
           "scale": "concat_1_x",
           "tickCount": {
            "signal": "ceil(width/40)"
           },
           "title": "False Positive Rate",
           "zindex": 0
          },
          {
           "grid": false,
           "labelOverlap": true,
           "orient": "left",
           "scale": "concat_1_y",
           "tickCount": {
            "signal": "ceil(childHeight/40)"
           },
           "title": "True Positive Rate",
           "zindex": 0
          }
         ],
         "encode": {
          "update": {
           "height": {
            "signal": "childHeight"
           },
           "width": {
            "signal": "width"
           }
          }
         },
         "marks": [
          {
           "encode": {
            "update": {
             "stroke": {
              "value": "black"
             },
             "strokeDash": {
              "value": [
               4,
               4
              ]
             },
             "x": {
              "field": "min_fpr",
              "scale": "concat_1_x"
             },
             "x2": {
              "field": "max_fpr",
              "scale": "concat_1_x"
             },
             "y": {
              "field": "min_tpr",
              "scale": "concat_1_y"
             },
             "y2": {
              "field": "max_tpr",
              "scale": "concat_1_y"
             }
            }
           },
           "from": {
            "data": "data_1"
           },
           "name": "concat_1_layer_0_marks",
           "style": [
            "rule"
           ],
           "type": "rule"
          },
          {
           "encode": {
            "update": {
             "defined": {
              "signal": "isValid(datum[\"fpr\"]) && isFinite(+datum[\"fpr\"]) && isValid(datum[\"tpr\"]) && isFinite(+datum[\"tpr\"])"
             },
             "interpolate": {
              "value": "step"
             },
             "stroke": {
              "value": "#4c78a8"
             },
             "x": {
              "field": "fpr",
              "scale": "concat_1_x"
             },
             "y": {
              "field": "tpr",
              "scale": "concat_1_y"
             }
            }
           },
           "from": {
            "data": "source_2"
           },
           "name": "concat_1_layer_1_marks",
           "sort": {
            "field": "x"
           },
           "style": [
            "line"
           ],
           "type": "line"
          },
          {
           "encode": {
            "update": {
             "align": {
              "value": "right"
             },
             "baseline": {
              "value": "middle"
             },
             "dy": {
              "value": 0
             },
             "fill": {
              "value": "black"
             },
             "fontWeight": {
              "value": "bold"
             },
             "text": {
              "value": "My Model (AUC = 1.0)"
             },
             "x": {
              "field": "x",
              "scale": "concat_1_x"
             },
             "y": {
              "field": "y",
              "scale": "concat_1_y"
             }
            }
           },
           "from": {
            "data": "source_3"
           },
           "name": "concat_1_layer_2_marks",
           "style": [
            "text"
           ],
           "type": "text"
          }
         ],
         "name": "concat_1_group",
         "style": "cell",
         "title": {
          "frame": "group",
          "text": "ROC AUC on b"
         },
         "type": "group"
        }
       ],
       "padding": 5,
       "scales": [
        {
         "domain": {
          "fields": [
           {
            "data": "data_0",
            "field": "min_fpr"
           },
           {
            "data": "data_0",
            "field": "max_fpr"
           },
           {
            "data": "source_0",
            "field": "fpr"
           },
           {
            "data": "source_1",
            "field": "x"
           }
          ]
         },
         "name": "concat_0_x",
         "nice": true,
         "range": [
          0,
          {
           "signal": "width"
          }
         ],
         "type": "linear",
         "zero": true
        },
        {
         "domain": {
          "fields": [
           {
            "data": "data_0",
            "field": "min_tpr"
           },
           {
            "data": "data_0",
            "field": "max_tpr"
           },
           {
            "data": "source_0",
            "field": "tpr"
           },
           {
            "data": "source_1",
            "field": "y"
           }
          ]
         },
         "name": "concat_0_y",
         "nice": true,
         "range": [
          {
           "signal": "childHeight"
          },
          0
         ],
         "type": "linear",
         "zero": true
        },
        {
         "domain": {
          "fields": [
           {
            "data": "data_1",
            "field": "min_fpr"
           },
           {
            "data": "data_1",
            "field": "max_fpr"
           },
           {
            "data": "source_2",
            "field": "fpr"
           },
           {
            "data": "source_3",
            "field": "x"
           }
          ]
         },
         "name": "concat_1_x",
         "nice": true,
         "range": [
          0,
          {
           "signal": "width"
          }
         ],
         "type": "linear",
         "zero": true
        },
        {
         "domain": {
          "fields": [
           {
            "data": "data_1",
            "field": "min_tpr"
           },
           {
            "data": "data_1",
            "field": "max_tpr"
           },
           {
            "data": "source_2",
            "field": "tpr"
           },
           {
            "data": "source_3",
            "field": "y"
           }
          ]
         },
         "name": "concat_1_y",
         "nice": true,
         "range": [
          {
           "signal": "childHeight"
          },
          0
         ],
         "type": "linear",
         "zero": true
        }
       ],
       "signals": [
        {
         "name": "childHeight",
         "value": 300
        }
       ],
       "width": 300
      },
      "text/plain": [
       "<VegaLite 5 object>\n",
       "\n",
       "If you see this message, it means the renderer has not been properly enabled\n",
       "for the frontend that you are using. For more information, see\n",
       "https://altair-viz.github.io/user_guide/display_frontends.html#troubleshooting\n"
      ]
     },
     "execution_count": 40,
     "metadata": {},
     "output_type": "execute_result"
    }
   ],
   "source": [
    "from polars_ds.partition import PartitionHelper\n",
    "\n",
    "plots = PartitionHelper(df, by = \"category\").apply(\n",
    "    lambda p_name, sub_df: pp.plot_roc_auc(\n",
    "        df = sub_df, \n",
    "        actual = \"actual\",\n",
    "        pred = \"pred\",\n",
    "        estimator_name = \"My Model\"\n",
    "    ).properties(\n",
    "        title = f\"ROC AUC on {p_name}\"\n",
    "    )\n",
    ")\n",
    "\n",
    "alt.vconcat(*plots.values()).configure(autosize=\"pad\")"
   ]
  },
  {
   "cell_type": "code",
   "execution_count": null,
   "metadata": {},
   "outputs": [],
   "source": []
  }
 ],
 "metadata": {
  "kernelspec": {
   "display_name": ".venv",
   "language": "python",
   "name": "python3"
  },
  "language_info": {
   "codemirror_mode": {
    "name": "ipython",
    "version": 3
   },
   "file_extension": ".py",
   "mimetype": "text/x-python",
   "name": "python",
   "nbconvert_exporter": "python",
   "pygments_lexer": "ipython3",
   "version": "3.13.1"
  }
 },
 "nbformat": 4,
 "nbformat_minor": 2
}
